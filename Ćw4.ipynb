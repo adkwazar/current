{
 "cells": [
  {
   "cell_type": "markdown",
   "id": "13578d54",
   "metadata": {},
   "source": [
    "<h3> Estymacja parametrów i testowanie hipotez odnośnie rozkładu"
   ]
  },
  {
   "cell_type": "code",
   "execution_count": 1,
   "id": "c229f8ca",
   "metadata": {},
   "outputs": [],
   "source": [
    "options(repr.plot.width=3, repr.plot.height=3)"
   ]
  },
  {
   "cell_type": "markdown",
   "id": "dd2603fa",
   "metadata": {},
   "source": [
    "<h4> Metoda największej wiarygodności i metoda momentów"
   ]
  },
  {
   "cell_type": "markdown",
   "id": "67b8b1cf",
   "metadata": {},
   "source": [
    "<h4> Zadanie1: Dane są następujące wyniki 4,2,4,5,7,2,3,5,4,2,1,5,1,4,2,2,3,5,3,0. Zakładajac, że pochodzą one z rozkładu Poissona oszacuj parametr $\\lambda$ (metoda momentów)."
   ]
  },
  {
   "cell_type": "markdown",
   "id": "1587867e",
   "metadata": {},
   "source": [
    "<h4> Zadanie2: Dane są następujące wyniki 0.272,0.147,0.146,0.038,0.444,0.032,0.014,0.737,0.078,0.082,0.304,0.383,0.004,0.099,0.399, 0.434,0.07,0.006,0.173,0.408. Zakładając, że dane pochodzą z rozkładu wykładniczego oszacuj parametr $\\lambda$ (metoda momentów)."
   ]
  },
  {
   "cell_type": "markdown",
   "id": "f2467886",
   "metadata": {},
   "source": [
    "<h4> Zadanie3: Wykonaj poprzednie zadanie metodą największej wiarygodności (na kartce). Porównaj uzyskany wynik z tym z zadania2."
   ]
  },
  {
   "cell_type": "markdown",
   "id": "bd009fc8",
   "metadata": {},
   "source": [
    "- W R zostala zaimplementowana metoda najwiekszej wiarygodnosci."
   ]
  },
  {
   "cell_type": "code",
   "execution_count": 42,
   "id": "6d41c3dc",
   "metadata": {},
   "outputs": [
    {
     "data": {
      "text/plain": [
       "     rate   \n",
       "  0.3333333 \n",
       " (0.1490712)"
      ]
     },
     "metadata": {},
     "output_type": "display_data"
    }
   ],
   "source": [
    "x = c(1,1,5,5,3)\n",
    "library(MASS)\n",
    "fitdistr(x, \"exponential\")"
   ]
  },
  {
   "cell_type": "markdown",
   "id": "a015d3ff",
   "metadata": {},
   "source": [
    "* W przypadku danych z rozkładu normalnego, aproksymacją $\\mu$ jest średnia z danych, a dla $\\sigma$ jest to odchylenie (wynika to zarówno z metody momentów jak i metody największej wiarygodności)."
   ]
  },
  {
   "cell_type": "markdown",
   "id": "f1275872",
   "metadata": {},
   "source": [
    "<h4> Metoda Bootstrap"
   ]
  },
  {
   "cell_type": "code",
   "execution_count": 3,
   "id": "ff7daa99",
   "metadata": {},
   "outputs": [
    {
     "name": "stdout",
     "output_type": "stream",
     "text": [
      " [1] 4.681504 5.244173 8.072208 1.656643 5.054929 6.212307 1.991581 6.846717\n",
      " [9] 6.558865 4.945263\n"
     ]
    }
   ],
   "source": [
    "dane = rnorm(100, 5, 2) #generuje 100 liczb z rozkladu normalnego N(5,2)\n",
    "print(dane[1:10])"
   ]
  },
  {
   "cell_type": "code",
   "execution_count": 4,
   "id": "c2a29ca4",
   "metadata": {},
   "outputs": [
    {
     "data": {
      "text/html": [
       "4.83433116684602"
      ],
      "text/latex": [
       "4.83433116684602"
      ],
      "text/markdown": [
       "4.83433116684602"
      ],
      "text/plain": [
       "[1] 4.834331"
      ]
     },
     "metadata": {},
     "output_type": "display_data"
    },
    {
     "data": {
      "text/html": [
       "2.12607948815478"
      ],
      "text/latex": [
       "2.12607948815478"
      ],
      "text/markdown": [
       "2.12607948815478"
      ],
      "text/plain": [
       "[1] 2.126079"
      ]
     },
     "metadata": {},
     "output_type": "display_data"
    }
   ],
   "source": [
    "mean(dane); sd(dane)"
   ]
  },
  {
   "cell_type": "code",
   "execution_count": 5,
   "id": "9c333f04",
   "metadata": {},
   "outputs": [
    {
     "name": "stdout",
     "output_type": "stream",
     "text": [
      "  [1]  6.156537632  4.544071021  4.793677331  5.528285667  7.556935866\n",
      "  [6]  2.549277391  4.474777777  5.956714737  6.492085819  3.478322383\n",
      " [11]  4.056543006 10.273475455  6.492085819  6.715712753  5.543073143\n",
      " [16]  3.892450753  4.210826452  5.956714737  5.054928721  2.619513910\n",
      " [21]  4.694001256  7.550104257  2.191292705  5.054928721  5.993044659\n",
      " [26]  3.267346646  6.104972237  0.007730757  3.214130761  1.355379087\n",
      " [31]  4.485835742  6.558864793  1.986390946  7.837430289  3.214130761\n",
      " [36]  5.012280919  4.382653507  1.500671824  6.938637152  5.845589735\n",
      " [41]  6.212306704  3.477136003  5.528285667  5.956714737  5.408924876\n",
      " [46]  4.652629956  4.050439965  4.681503914  4.924983481  6.492085819\n",
      " [51]  1.500671824  4.712804059  1.500671824  1.656643008  6.492085819\n",
      " [56]  5.543073143  2.283689336  4.837301045  2.608670979  1.355379087\n",
      " [61]  8.072207541  2.984713249  7.556935866  4.681503914  5.993044659\n",
      " [66]  4.331555693  7.837430289  8.072207541  4.050439965  0.007730757\n",
      " [71]  4.331555693  3.991744180  6.978193974  6.715712753  6.104972237\n",
      " [76]  4.105854917  0.745021927  6.715712753  4.355021240  5.513968318\n",
      " [81]  3.478322383  1.991580819  3.892450753  4.115179534  3.756699669\n",
      " [86]  6.425371186  3.673396507  1.981432694  6.492085819  5.054928721\n",
      " [91]  9.950606853  4.056543006  5.054928721  5.272866449  4.115179534\n",
      " [96]  5.244172902  7.230953637  5.244172902  7.511987341  4.712804059\n"
     ]
    }
   ],
   "source": [
    "replikanty = lapply(1:100, function(i) sample(dane, 100, replace = T)) #generuje 100 nowych probek poprzez losowanie z powtorzeniem z pierwotnej proby\n",
    "print(replikanty[[1]]) #pierwsza taka probka"
   ]
  },
  {
   "cell_type": "code",
   "execution_count": 6,
   "id": "b05da42e",
   "metadata": {},
   "outputs": [],
   "source": [
    "r.mean = sapply(replikanty, mean) #srednia dla kolejnych probek\n",
    "r.sd = sapply(replikanty, sd) #odchylenie dla kolejnych probek"
   ]
  },
  {
   "cell_type": "markdown",
   "id": "55e25cf4",
   "metadata": {},
   "source": [
    "Jaka jest średnia?"
   ]
  },
  {
   "cell_type": "code",
   "execution_count": 7,
   "id": "1f2e0232",
   "metadata": {},
   "outputs": [
    {
     "data": {
      "image/png": "[encoded data removed]",
      "text/plain": [
       "Plot with title \"Histogram of r.mean\""
      ]
     },
     "metadata": {},
     "output_type": "display_data"
    }
   ],
   "source": [
    "hist(r.mean)"
   ]
  },
  {
   "cell_type": "code",
   "execution_count": 8,
   "id": "c10b6869",
   "metadata": {},
   "outputs": [
    {
     "data": {
      "text/html": [
       "4.81391034251737"
      ],
      "text/latex": [
       "4.81391034251737"
      ],
      "text/markdown": [
       "4.81391034251737"
      ],
      "text/plain": [
       "[1] 4.81391"
      ]
     },
     "metadata": {},
     "output_type": "display_data"
    },
    {
     "data": {
      "text/html": [
       "0.220075116729044"
      ],
      "text/latex": [
       "0.220075116729044"
      ],
      "text/markdown": [
       "0.220075116729044"
      ],
      "text/plain": [
       "[1] 0.2200751"
      ]
     },
     "metadata": {},
     "output_type": "display_data"
    }
   ],
   "source": [
    "mean(r.mean); sd(r.mean)"
   ]
  },
  {
   "cell_type": "code",
   "execution_count": 9,
   "id": "87484e21",
   "metadata": {},
   "outputs": [
    {
     "data": {
      "text/html": [
       "<dl class=dl-horizontal>\n",
       "\t<dt>2.5%</dt>\n",
       "\t\t<dd>4.38805313336149</dd>\n",
       "\t<dt>97.5%</dt>\n",
       "\t\t<dd>5.20698162349003</dd>\n",
       "</dl>\n"
      ],
      "text/latex": [
       "\\begin{description*}\n",
       "\\item[2.5\\textbackslash{}\\%] 4.38805313336149\n",
       "\\item[97.5\\textbackslash{}\\%] 5.20698162349003\n",
       "\\end{description*}\n"
      ],
      "text/markdown": [
       "2.5%\n",
       ":   4.3880531333614997.5%\n",
       ":   5.20698162349003\n",
       "\n"
      ],
      "text/plain": [
       "    2.5%    97.5% \n",
       "4.388053 5.206982 "
      ]
     },
     "metadata": {},
     "output_type": "display_data"
    }
   ],
   "source": [
    "quantile(r.mean, c(0.025, 0.975))"
   ]
  },
  {
   "cell_type": "markdown",
   "id": "cab6efe0",
   "metadata": {},
   "source": [
    "Jakie jest odchylenie?"
   ]
  },
  {
   "cell_type": "code",
   "execution_count": 10,
   "id": "3ee269c5",
   "metadata": {},
   "outputs": [
    {
     "data": {
      "image/png": "[encoded data removed]",
      "text/plain": [
       "Plot with title \"Histogram of r.sd\""
      ]
     },
     "metadata": {},
     "output_type": "display_data"
    }
   ],
   "source": [
    "hist(r.sd)"
   ]
  },
  {
   "cell_type": "code",
   "execution_count": 11,
   "id": "85635a57",
   "metadata": {},
   "outputs": [
    {
     "data": {
      "text/html": [
       "2.08466715480797"
      ],
      "text/latex": [
       "2.08466715480797"
      ],
      "text/markdown": [
       "2.08466715480797"
      ],
      "text/plain": [
       "[1] 2.084667"
      ]
     },
     "metadata": {},
     "output_type": "display_data"
    },
    {
     "data": {
      "text/html": [
       "0.120426832562155"
      ],
      "text/latex": [
       "0.120426832562155"
      ],
      "text/markdown": [
       "0.120426832562155"
      ],
      "text/plain": [
       "[1] 0.1204268"
      ]
     },
     "metadata": {},
     "output_type": "display_data"
    }
   ],
   "source": [
    "mean(r.sd); sd(r.sd)"
   ]
  },
  {
   "cell_type": "code",
   "execution_count": 12,
   "id": "c072145d",
   "metadata": {},
   "outputs": [
    {
     "data": {
      "text/html": [
       "<dl class=dl-horizontal>\n",
       "\t<dt>2.5%</dt>\n",
       "\t\t<dd>1.90256256450339</dd>\n",
       "\t<dt>97.5%</dt>\n",
       "\t\t<dd>2.34010060945488</dd>\n",
       "</dl>\n"
      ],
      "text/latex": [
       "\\begin{description*}\n",
       "\\item[2.5\\textbackslash{}\\%] 1.90256256450339\n",
       "\\item[97.5\\textbackslash{}\\%] 2.34010060945488\n",
       "\\end{description*}\n"
      ],
      "text/markdown": [
       "2.5%\n",
       ":   1.9025625645033997.5%\n",
       ":   2.34010060945488\n",
       "\n"
      ],
      "text/plain": [
       "    2.5%    97.5% \n",
       "1.902563 2.340101 "
      ]
     },
     "metadata": {},
     "output_type": "display_data"
    }
   ],
   "source": [
    "quantile(r.sd, c(0.05/2, 1-0.05/2))"
   ]
  },
  {
   "cell_type": "markdown",
   "id": "20cff94c",
   "metadata": {},
   "source": [
    "- Oczywiście metoda Bootstrap zostala zaimplementowana w R."
   ]
  },
  {
   "cell_type": "code",
   "execution_count": 13,
   "id": "3ef4deaa",
   "metadata": {},
   "outputs": [
    {
     "data": {
      "text/html": [
       "<table>\n",
       "<thead><tr><th scope=col>x</th></tr></thead>\n",
       "<tbody>\n",
       "\t<tr><td>4.681504</td></tr>\n",
       "\t<tr><td>5.244173</td></tr>\n",
       "\t<tr><td>8.072208</td></tr>\n",
       "\t<tr><td>1.656643</td></tr>\n",
       "\t<tr><td>5.054929</td></tr>\n",
       "\t<tr><td>6.212307</td></tr>\n",
       "</tbody>\n",
       "</table>\n"
      ],
      "text/latex": [
       "\\begin{tabular}{r|l}\n",
       " x\\\\\n",
       "\\hline\n",
       "\t 4.681504\\\\\n",
       "\t 5.244173\\\\\n",
       "\t 8.072208\\\\\n",
       "\t 1.656643\\\\\n",
       "\t 5.054929\\\\\n",
       "\t 6.212307\\\\\n",
       "\\end{tabular}\n"
      ],
      "text/markdown": [
       "\n",
       "| x |\n",
       "|---|\n",
       "| 4.681504 |\n",
       "| 5.244173 |\n",
       "| 8.072208 |\n",
       "| 1.656643 |\n",
       "| 5.054929 |\n",
       "| 6.212307 |\n",
       "\n"
      ],
      "text/plain": [
       "  x       \n",
       "1 4.681504\n",
       "2 5.244173\n",
       "3 8.072208\n",
       "4 1.656643\n",
       "5 5.054929\n",
       "6 6.212307"
      ]
     },
     "metadata": {},
     "output_type": "display_data"
    }
   ],
   "source": [
    "library(boot)\n",
    "dane2 = data.frame(x=dane)\n",
    "head(dane2)"
   ]
  },
  {
   "cell_type": "code",
   "execution_count": 14,
   "id": "fd07d4ef",
   "metadata": {},
   "outputs": [
    {
     "data": {
      "image/png": "[encoded data removed]",
      "text/plain": [
       "Plot with title \"Histogram of dane2$x\""
      ]
     },
     "metadata": {},
     "output_type": "display_data"
    }
   ],
   "source": [
    "hist(dane2$x)"
   ]
  },
  {
   "cell_type": "code",
   "execution_count": 15,
   "id": "b8662a0f",
   "metadata": {},
   "outputs": [
    {
     "data": {
      "text/html": [
       "4.83433116684602"
      ],
      "text/latex": [
       "4.83433116684602"
      ],
      "text/markdown": [
       "4.83433116684602"
      ],
      "text/plain": [
       "[1] 4.834331"
      ]
     },
     "metadata": {},
     "output_type": "display_data"
    }
   ],
   "source": [
    "mean(dane2$x)"
   ]
  },
  {
   "cell_type": "code",
   "execution_count": 16,
   "id": "8b4a41a0",
   "metadata": {},
   "outputs": [
    {
     "data": {
      "text/html": [
       "<dl class=dl-horizontal>\n",
       "\t<dt>2.5%</dt>\n",
       "\t\t<dd>4.40288628954491</dd>\n",
       "\t<dt>97.5%</dt>\n",
       "\t\t<dd>5.2494952927449</dd>\n",
       "</dl>\n"
      ],
      "text/latex": [
       "\\begin{description*}\n",
       "\\item[2.5\\textbackslash{}\\%] 4.40288628954491\n",
       "\\item[97.5\\textbackslash{}\\%] 5.2494952927449\n",
       "\\end{description*}\n"
      ],
      "text/markdown": [
       "2.5%\n",
       ":   4.4028862895449197.5%\n",
       ":   5.2494952927449\n",
       "\n"
      ],
      "text/plain": [
       "    2.5%    97.5% \n",
       "4.402886 5.249495 "
      ]
     },
     "metadata": {},
     "output_type": "display_data"
    }
   ],
   "source": [
    "srednia = function(d, w) sum(d$x * w) #drugi argument to częstosci dla poszczegolnych elementow w kolejnej replikacji\n",
    "wynik_boot = boot(dane2, srednia, R=999, stype=\"w\")\n",
    "quantile(wynik_boot$t, c(0.05/2, 1-0.05/2))"
   ]
  },
  {
   "cell_type": "markdown",
   "id": "a34f92c8",
   "metadata": {},
   "source": [
    "<h3> Testowanie hipotez odnośnie rozkładu"
   ]
  },
  {
   "cell_type": "markdown",
   "id": "618c50f0",
   "metadata": {},
   "source": [
    "<h4> Testowanie normalności"
   ]
  },
  {
   "cell_type": "code",
   "execution_count": 36,
   "id": "cc58b33c",
   "metadata": {
    "scrolled": false
   },
   "outputs": [
    {
     "data": {
      "text/plain": [
       "\n",
       "\tShapiro-Wilk normality test\n",
       "\n",
       "data:  x\n",
       "W = 0.95862, p-value = 0.2855\n"
      ]
     },
     "metadata": {},
     "output_type": "display_data"
    }
   ],
   "source": [
    "#Shapiro Test - liczona jest pewna statystyka i porownywana z wartoscia teoretyczna\n",
    "\n",
    "x = rnorm(30, 2, 1)\n",
    "shapiro.test(x)"
   ]
  },
  {
   "cell_type": "markdown",
   "id": "c46754f5",
   "metadata": {},
   "source": [
    "<h4> QQplot"
   ]
  },
  {
   "cell_type": "code",
   "execution_count": 37,
   "id": "54bfae89",
   "metadata": {},
   "outputs": [
    {
     "data": {
      "image/png": "[encoded data removed]",
      "text/plain": [
       "Plot with title \"Normal Q-Q Plot\""
      ]
     },
     "metadata": {},
     "output_type": "display_data"
    }
   ],
   "source": [
    "#wykres typu QQ (qqplot) - wykres zaleznosci kwantyli z rozawaznego rozkladu a kwantyli rozkaldu normalnego\n",
    "\n",
    "qqnorm(x, pch = 1, frame = FALSE) #rzeczywiste porownanie\n",
    "qqline(x, col = \"steelblue\", lwd = 2) #jak powinno byc"
   ]
  },
  {
   "cell_type": "markdown",
   "id": "43766a5c",
   "metadata": {},
   "source": [
    "<h4> Zadanie4: Wygeneruj 100 obserwacji z rozkładu jednostajnego $Unif(-2,2)$, a następnie:\n",
    "    \n",
    "    \n",
    "    \n",
    "    \n",
    "    \n",
    "- wykonaj test Shapiro-Wilka \n",
    "- narysuj wykres typu QQplot \n",
    "    \n",
    "    \n",
    "    \n",
    "    \n",
    "Skomentuj otrzymane wyniki."
   ]
  },
  {
   "cell_type": "markdown",
   "id": "466ba19c",
   "metadata": {},
   "source": [
    "<h4> Test Smirnov-Kolomogorov"
   ]
  },
  {
   "cell_type": "code",
   "execution_count": 19,
   "id": "de91f7bd",
   "metadata": {},
   "outputs": [
    {
     "data": {
      "image/png": "[encoded data removed]",
      "text/plain": [
       "Plot with title \"ecdf(x2)\""
      ]
     },
     "metadata": {},
     "output_type": "display_data"
    }
   ],
   "source": [
    "#Kolmogorov-Smirnov Test - porownuje wartosci dystrybuanty #raczej dla rozkladow ciąglych\n",
    "\n",
    "x1 = rnorm(100, 3, 4)\n",
    "x2 = rnorm(40, 3, 4)\n",
    "\n",
    "options(repr.plot.width=10, repr.plot.height=3)\n",
    "par(mfrow=c(1,2))\n",
    "plot(ecdf(x1));plot(ecdf(x2))"
   ]
  },
  {
   "cell_type": "code",
   "execution_count": 20,
   "id": "35ea6ee6",
   "metadata": {},
   "outputs": [
    {
     "data": {
      "text/plain": [
       "\n",
       "\tTwo-sample Kolmogorov-Smirnov test\n",
       "\n",
       "data:  x1 and x2\n",
       "D = 0.155, p-value = 0.4628\n",
       "alternative hypothesis: two-sided\n"
      ]
     },
     "metadata": {},
     "output_type": "display_data"
    }
   ],
   "source": [
    "ks.test(x1,x2) "
   ]
  },
  {
   "cell_type": "markdown",
   "id": "5b9cc56b",
   "metadata": {},
   "source": [
    "<h4> Zadanie5: Wygeneruj 200 liczb z rozkładu $N(3,1)$ oraz kolejne 200 z $Unif(2,4)$. Porównaj dystrybuanty danych i wykonaj KS test. Skomentuj otrzymane wyniki."
   ]
  },
  {
   "cell_type": "markdown",
   "id": "9718f9be",
   "metadata": {},
   "source": [
    "- Rozkład geometryczny w sekwencjach biologicznych"
   ]
  },
  {
   "cell_type": "code",
   "execution_count": 4,
   "id": "cebd85cd",
   "metadata": {},
   "outputs": [],
   "source": [
    "x = sample(c(\"A\",\"T\",\"G\",\"C\"), 10000, rep = T) #generuje losową sekwencje nt\n",
    "t = which(x %in% c(\"A\")) #na ktorych pozycjach są \"A\"\n",
    "roznice_A = diff(t) -1 \n",
    "p = 1/mean(roznice_A)"
   ]
  },
  {
   "cell_type": "code",
   "execution_count": 8,
   "id": "23a76fdb",
   "metadata": {},
   "outputs": [
    {
     "data": {
      "text/html": [
       "<table>\n",
       "<thead><tr><th scope=col>nt</th><th scope=col>geo</th></tr></thead>\n",
       "<tbody>\n",
       "\t<tr><td>1</td><td>3</td></tr>\n",
       "\t<tr><td>8</td><td>0</td></tr>\n",
       "\t<tr><td>5</td><td>4</td></tr>\n",
       "\t<tr><td>4</td><td>0</td></tr>\n",
       "\t<tr><td>0</td><td>3</td></tr>\n",
       "\t<tr><td>0</td><td>3</td></tr>\n",
       "</tbody>\n",
       "</table>\n"
      ],
      "text/latex": [
       "\\begin{tabular}{r|ll}\n",
       " nt & geo\\\\\n",
       "\\hline\n",
       "\t 1 & 3\\\\\n",
       "\t 8 & 0\\\\\n",
       "\t 5 & 4\\\\\n",
       "\t 4 & 0\\\\\n",
       "\t 0 & 3\\\\\n",
       "\t 0 & 3\\\\\n",
       "\\end{tabular}\n"
      ],
      "text/markdown": [
       "\n",
       "| nt | geo |\n",
       "|---|---|\n",
       "| 1 | 3 |\n",
       "| 8 | 0 |\n",
       "| 5 | 4 |\n",
       "| 4 | 0 |\n",
       "| 0 | 3 |\n",
       "| 0 | 3 |\n",
       "\n"
      ],
      "text/plain": [
       "  nt geo\n",
       "1 1  3  \n",
       "2 8  0  \n",
       "3 5  4  \n",
       "4 4  0  \n",
       "5 0  3  \n",
       "6 0  3  "
      ]
     },
     "metadata": {},
     "output_type": "display_data"
    }
   ],
   "source": [
    "dane = data.frame(nt = roznice_A, geo = rgeom(length(roznice_A), p))\n",
    "head(dane)"
   ]
  },
  {
   "cell_type": "code",
   "execution_count": 23,
   "id": "0440160c",
   "metadata": {},
   "outputs": [
    {
     "data": {
      "image/png": "[encoded data removed]",
      "text/plain": [
       "Plot with title \"ecdf(dane$geo)\""
      ]
     },
     "metadata": {},
     "output_type": "display_data"
    }
   ],
   "source": [
    "par(mfrow=c(1,2))\n",
    "plot(ecdf(dane$nt)); plot(ecdf(dane$geo))"
   ]
  },
  {
   "cell_type": "markdown",
   "id": "3c5b5010",
   "metadata": {},
   "source": [
    "<h4> Zadanie6: Pobierz dane $cw4.txt$, które przedstawiają wzrost w pewnej populacji. Czy można przyjąć, że dane te pochodzą z rozkładu normalnego? Jeżeli tak, to oszacuj parametry tego rozkładu. Jakie jest prawdopdobieństwo, że wzrost przekroczy 180 w tej populacji?"
   ]
  }
 ],
 "metadata": {
  "kernelspec": {
   "display_name": "R",
   "language": "R",
   "name": "ir"
  },
  "language_info": {
   "codemirror_mode": "r",
   "file_extension": ".r",
   "mimetype": "text/x-r-source",
   "name": "R",
   "pygments_lexer": "r",
   "version": "3.6.1"
  }
 },
 "nbformat": 4,
 "nbformat_minor": 5
}
