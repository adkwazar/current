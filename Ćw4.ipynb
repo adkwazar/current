{
 "cells": [
  {
   "cell_type": "markdown",
   "metadata": {},
   "source": [
    "Python 2024/2025, Adrian Kania, Ćwiczenia4"
   ]
  },
  {
   "cell_type": "markdown",
   "metadata": {},
   "source": [
    "<h2> Break i Continue"
   ]
  },
  {
   "cell_type": "code",
   "execution_count": 5,
   "metadata": {
    "scrolled": true
   },
   "outputs": [
    {
     "name": "stdout",
     "output_type": "stream",
     "text": [
      "1\n",
      "2\n"
     ]
    }
   ],
   "source": [
    "x = [1,2,3,4,5]\n",
    "\n",
    "for elem in x:\n",
    "    if elem == 3:\n",
    "        break\n",
    "    print(elem)"
   ]
  },
  {
   "cell_type": "code",
   "execution_count": 6,
   "metadata": {},
   "outputs": [
    {
     "name": "stdout",
     "output_type": "stream",
     "text": [
      "1\n",
      "2\n",
      "4\n",
      "5\n"
     ]
    }
   ],
   "source": [
    "x = [1,2,3,4,5]\n",
    "\n",
    "for elem in x:\n",
    "    if elem == 3:\n",
    "        continue\n",
    "    print(elem)"
   ]
  },
  {
   "cell_type": "markdown",
   "metadata": {},
   "source": [
    "<h3> Sortowanie bąbelkowe <h4> Sortowanie listy liczb to rutynowy etap wielu analiz. Jedną z metod sortowania jest sortowanie bąbelkowe. W tym przypadku przechodzimy listę elementów każdorazowo porównując dwa kolejne elementy. Jeżeli poprzedni jest większy od następnego to zamieniamy je miejscami. W ten sposób po pierwszym przejściu listy największy element znajdzie się na końcu listy. W kolejnym kroku wystarczy zatem wykonać o jedno porównanie mniej. Powtarzając procedurę otrzymujemy listę posortowaną rosnąco."
   ]
  },
  {
   "cell_type": "code",
   "execution_count": 8,
   "metadata": {},
   "outputs": [],
   "source": [
    "def b_sortuj(x):\n",
    "    N = len(x)\n",
    "    while N > 1:\n",
    "        for i in range(N-1):\n",
    "            if x[i]>x[i+1]:\n",
    "                x[i], x[i+1] = x[i+1], x[i]\n",
    "        N = N-1\n",
    "    return x"
   ]
  },
  {
   "cell_type": "code",
   "execution_count": 12,
   "metadata": {},
   "outputs": [
    {
     "data": {
      "text/plain": [
       "[-55, -6, 1, 2, 2, 4, 8, 122, 300]"
      ]
     },
     "execution_count": 12,
     "metadata": {},
     "output_type": "execute_result"
    }
   ],
   "source": [
    "x = [1,2,300,4,-6,2,8,122,-55]\n",
    "\n",
    "b_sortuj(x)"
   ]
  },
  {
   "cell_type": "markdown",
   "metadata": {},
   "source": [
    "<h4> Zadanie1: Zmodyfikuj  powyższy kod tak aby zwracał posortowaną listę w kolejności malejącej. Rozbuduj powyższą funkcję o dodatkowe funkcjonalności (np co gdy użytkownik nie poda listy tylko inny typ danych)."
   ]
  },
  {
   "cell_type": "code",
   "execution_count": 9,
   "metadata": {},
   "outputs": [
    {
     "data": {
      "text/plain": [
       "[-55, -55, -55, -55, -55, -55, -55, -55, -55]"
      ]
     },
     "execution_count": 9,
     "metadata": {},
     "output_type": "execute_result"
    }
   ],
   "source": [
    "def b_sortuj2(x):\n",
    "    N = len(x)\n",
    "    while N > 1:\n",
    "        for i in range(N-1):\n",
    "            if x[i]>x[i+1]:\n",
    "                x[i] = x[i+1]\n",
    "                x[i+1] = x[i]\n",
    "        N = N-1\n",
    "    return x\n",
    "\n",
    "\n",
    "x = [1,2,300,4,-6,2,8,122,-55]\n",
    "b_sortuj2(x)"
   ]
  },
  {
   "cell_type": "markdown",
   "metadata": {},
   "source": [
    "<h4> Zadanie2: Dlaczego powyższy kod nie działa prawidłowo?"
   ]
  },
  {
   "cell_type": "markdown",
   "metadata": {},
   "source": [
    "<h4> Ciąg Fibonacciego to ciąg, którego pierwszym elementem jest 0, drugim 1, a każdy kolejny element jest sumą dwóch poprzednich elementów. Mamy zatem ciąg $\\lbrace a_n \\rbrace$, gdzie $a_1=0$, $a_2=1$ oraz spełniona jest zależność $a_{n+2} = a_{n+1}+a_{n}$."
   ]
  },
  {
   "cell_type": "code",
   "execution_count": 19,
   "metadata": {},
   "outputs": [
    {
     "data": {
      "text/plain": [
       "63245986"
      ]
     },
     "execution_count": 19,
     "metadata": {},
     "output_type": "execute_result"
    }
   ],
   "source": [
    "\n",
    "#Ciąg Fibonacciego - podejście iteracyjne\n",
    "\n",
    "def Fib(n):\n",
    "    a = 0\n",
    "    b = 1\n",
    "    if n == 1:\n",
    "        return a\n",
    "    elif n == 2:\n",
    "        return b\n",
    "    else:\n",
    "        for i in range(2,n):\n",
    "            c = a + b\n",
    "            a = b\n",
    "            b = c\n",
    "        return c\n",
    "    \n",
    "Fib(40)"
   ]
  },
  {
   "cell_type": "markdown",
   "metadata": {},
   "source": [
    "<h2> Funkcje rekurencyjne"
   ]
  },
  {
   "cell_type": "code",
   "execution_count": 20,
   "metadata": {},
   "outputs": [
    {
     "data": {
      "text/plain": [
       "63245986"
      ]
     },
     "execution_count": 20,
     "metadata": {},
     "output_type": "execute_result"
    }
   ],
   "source": [
    "def Fib2(n):\n",
    "    if n==1:\n",
    "        return 0\n",
    "    elif n==2:\n",
    "        return 1\n",
    "    else:\n",
    "        return Fib2(n-1)+Fib2(n-2)\n",
    "    \n",
    "Fib2(40) "
   ]
  },
  {
   "cell_type": "markdown",
   "metadata": {},
   "source": [
    "<h4> Zadanie3: Z użyciem metody time z modułu time porównaj czas potrzebny na wyznaczenie 40 wyrazu z ciągu Fibonacciego za pomocą podejścia iteracyjnego i rekurencyjnego."
   ]
  },
  {
   "cell_type": "markdown",
   "metadata": {},
   "source": [
    "<h4> Silnia z danej liczby naturalnej $n$ to iloczyn wszystkich liczb natrualnych mniejszych lub równych od niej, tj. $1\\cdot 2 \\cdot 3 ... \\cdot n$. Silnia spełnia zatem zależność rekurencyjną $n! = (n-1)! \\cdot n$."
   ]
  },
  {
   "cell_type": "code",
   "execution_count": 12,
   "metadata": {},
   "outputs": [
    {
     "data": {
      "text/plain": [
       "24"
      ]
     },
     "execution_count": 12,
     "metadata": {},
     "output_type": "execute_result"
    }
   ],
   "source": [
    "#Podejście iteracyjne\n",
    "\n",
    "def silnia(n):\n",
    "    if n == 1:\n",
    "        return 1\n",
    "    else:\n",
    "        t = 1\n",
    "        for i in range(1,n+1): #1,2,3..., n\n",
    "            t *= i\n",
    "        return t\n",
    "    \n",
    "silnia(4)"
   ]
  },
  {
   "cell_type": "markdown",
   "metadata": {},
   "source": [
    "<h4> Zadanie4: Zdefiniuj silnię za pomocą funkcji rekurencyjnej."
   ]
  },
  {
   "cell_type": "code",
   "execution_count": 13,
   "metadata": {},
   "outputs": [
    {
     "name": "stdout",
     "output_type": "stream",
     "text": [
      "17\n"
     ]
    }
   ],
   "source": [
    "x = [[1,2,[3,4]],[6,[7,[17]]]]\n",
    "\n",
    "print(x[1][1][1][0])"
   ]
  },
  {
   "cell_type": "code",
   "execution_count": 14,
   "metadata": {},
   "outputs": [
    {
     "name": "stdout",
     "output_type": "stream",
     "text": [
      "6\n"
     ]
    }
   ],
   "source": [
    "x = [[1,2],[6,7],[1,2],[4,5,6]]\n",
    "\n",
    "print(x[3][2])"
   ]
  },
  {
   "cell_type": "code",
   "execution_count": 15,
   "metadata": {},
   "outputs": [
    {
     "name": "stdout",
     "output_type": "stream",
     "text": [
      "1\n",
      "6\n",
      "1\n",
      "4\n"
     ]
    }
   ],
   "source": [
    "#Wyświetl po pierwszym elemencie każdego elementu listy x\n",
    "\n",
    "x = [[1,2],[6,7],[1,2],[4,5,6]]\n",
    "for elem in x:\n",
    "    print(elem[0])"
   ]
  },
  {
   "cell_type": "markdown",
   "metadata": {},
   "source": [
    "<h4> Zadanie5: Zdefiniuj funkcję, która jako argument przyjmuje listę list i zwraca listę elementów będących sumą kwadratów swych elementów. Przykładowe działanie na $[[1,2],[3,4,5],[4]]$ powinno zwrócić $[5,50,16]$."
   ]
  },
  {
   "cell_type": "markdown",
   "metadata": {},
   "source": [
    "<h4> Zadanie6: Znajdź błędy w poniższym kodzie"
   ]
  },
  {
   "cell_type": "code",
   "execution_count": 16,
   "metadata": {},
   "outputs": [
    {
     "data": {
      "text/plain": [
       "'\\ndef moja_funkcja(n):\\n    t = 0\\n    for i in range(n)\\n        if  i%2 = 0\\n            t+=1\\n            print(\\'Ta liczba jest podzielna przez 2: \", i)\\n   return t\\n'"
      ]
     },
     "execution_count": 16,
     "metadata": {},
     "output_type": "execute_result"
    }
   ],
   "source": [
    "'''\n",
    "def moja_funkcja(n):\n",
    "    t = 0\n",
    "    for i in range(n)\n",
    "        if  i%2 = 0\n",
    "            t+=1\n",
    "            print('Ta liczba jest podzielna przez 2: \", i)\n",
    "   return t\n",
    "'''"
   ]
  },
  {
   "cell_type": "markdown",
   "metadata": {},
   "source": [
    "<h3> Zip"
   ]
  },
  {
   "cell_type": "code",
   "execution_count": 30,
   "metadata": {},
   "outputs": [
    {
     "name": "stdout",
     "output_type": "stream",
     "text": [
      "[(1, 4), (2, 5), (3, 6)]\n"
     ]
    }
   ],
   "source": [
    "t1 = list(zip([1,2,3], [4,5,6]))\n",
    "print(t1)"
   ]
  },
  {
   "cell_type": "code",
   "execution_count": 18,
   "metadata": {},
   "outputs": [
    {
     "name": "stdout",
     "output_type": "stream",
     "text": [
      "[('a', 1), ('b', 2), ('c', 3), ('d', 4), ('e', 5), ('f', 6)]\n"
     ]
    }
   ],
   "source": [
    "t2 = list(zip(\"abcdef\", [1, 2, 3, 4, 5, 6]))\n",
    "print(t2)"
   ]
  },
  {
   "cell_type": "code",
   "execution_count": 19,
   "metadata": {},
   "outputs": [
    {
     "name": "stdout",
     "output_type": "stream",
     "text": [
      "[('a', 'b', 'c', 'd', 'e', 'f'), (1, 2, 3, 4, 5, 6)]\n"
     ]
    }
   ],
   "source": [
    "t3 = list(zip(*t2))\n",
    "print(t3)"
   ]
  },
  {
   "cell_type": "code",
   "execution_count": 20,
   "metadata": {},
   "outputs": [
    {
     "name": "stdout",
     "output_type": "stream",
     "text": [
      "{'a': 1, 'b': 2, 'c': 3, 'd': 4, 'e': 5, 'f': 6}\n"
     ]
    }
   ],
   "source": [
    "#Do czego to się może przydać? Np do stworzenia słownika z dwoch typow sekwencyjnych\n",
    "\n",
    "t4 = dict((zip(\"abcdef\", [1, 2, 3, 4, 5, 6])))\n",
    "print(t4)"
   ]
  },
  {
   "cell_type": "markdown",
   "metadata": {},
   "source": [
    "<h3> Lambda = funkcja anonimowa"
   ]
  },
  {
   "cell_type": "code",
   "execution_count": 21,
   "metadata": {},
   "outputs": [
    {
     "data": {
      "text/plain": [
       "9"
      ]
     },
     "execution_count": 21,
     "metadata": {},
     "output_type": "execute_result"
    }
   ],
   "source": [
    "moja_funkcja = lambda x: x**3 +1 #takie definiowanie funkcji w 1 linijce, zazwyczaj nawet nie musze jej nazywac [patrz dalej]\n",
    "\n",
    "moja_funkcja(2)"
   ]
  },
  {
   "cell_type": "code",
   "execution_count": 22,
   "metadata": {},
   "outputs": [
    {
     "data": {
      "text/plain": [
       "'\\ndef moja_funkcja(x):\\n    return x**3+1\\n'"
      ]
     },
     "execution_count": 22,
     "metadata": {},
     "output_type": "execute_result"
    }
   ],
   "source": [
    "#to samo co wyzej tyle ze przy pomocy tradycyjnej funkcji\n",
    "'''\n",
    "def moja_funkcja(x):\n",
    "    return x**3+1\n",
    "'''"
   ]
  },
  {
   "cell_type": "markdown",
   "metadata": {},
   "source": [
    "<h3> Map"
   ]
  },
  {
   "cell_type": "code",
   "execution_count": 23,
   "metadata": {},
   "outputs": [
    {
     "name": "stdout",
     "output_type": "stream",
     "text": [
      "[1, 2, 3, 10, 29, 66, 127]\n"
     ]
    }
   ],
   "source": [
    "my_list = [-1,0,1,2,3,4,5]\n",
    "\n",
    "w = list(map(lambda x: x**3+2 , my_list))  #map(co ma robic, typ sekwencyjny)\n",
    "print(w)"
   ]
  },
  {
   "cell_type": "code",
   "execution_count": 24,
   "metadata": {},
   "outputs": [
    {
     "name": "stdout",
     "output_type": "stream",
     "text": [
      "[0, 1, 2, 9, 28, 65, 126]\n"
     ]
    }
   ],
   "source": [
    "#to samo co wyżej przy pomocy listy składanej\n",
    "my_list = [-1,0,1,2,3,4,5]\n",
    "\n",
    "w2 = [x**3 +1 for x in my_list]\n",
    "print(w2)"
   ]
  },
  {
   "cell_type": "markdown",
   "metadata": {},
   "source": [
    "<h3> Filter"
   ]
  },
  {
   "cell_type": "code",
   "execution_count": 25,
   "metadata": {},
   "outputs": [
    {
     "name": "stdout",
     "output_type": "stream",
     "text": [
      "[3, 4, 5]\n"
     ]
    }
   ],
   "source": [
    "my_list = [-1,0,1,2,3,4,5]\n",
    "\n",
    "f1 = list(filter(lambda x: x > 2, my_list))  # filter(jaki warunek muzą spelniac elementy, typ sekwencyjny)\n",
    "print(f1)"
   ]
  },
  {
   "cell_type": "code",
   "execution_count": 26,
   "metadata": {},
   "outputs": [
    {
     "name": "stdout",
     "output_type": "stream",
     "text": [
      "[3, 4, 5]\n"
     ]
    }
   ],
   "source": [
    "#to samo co wyzej przy pomocy listy składanej\n",
    "my_list = [-1,0,1,2,3,4,5]\n",
    "\n",
    "f2 = [x for x in my_list if x>2]\n",
    "print(f2)"
   ]
  },
  {
   "cell_type": "markdown",
   "metadata": {},
   "source": [
    "<h4> Zadanie7: Używając powyższych funkcjonalności, dla danej listy sekwencji zwróć listę zawierającą liczbę tymin dla każdej sekwencji (rozwiązanie 1/2 linijkowe). Przykładowo dla [\"ATTGC\", \"AGGC\", \"TTTGC\"] powinieneś otrzymać [2,0,3]. Wykonaj to zadanie na 2 różne sposoby (map lub filter/lista składana)."
   ]
  },
  {
   "cell_type": "markdown",
   "metadata": {},
   "source": [
    "<h4> Zadanie8: Używając powyższych funkcjonalności, dla danej listy sekwencji zwróć listę tych sekwencji, które zawierają podsekwencję \"TG\" (rozwiązanie 1/2 linijkowe). Przykładowo dla [\"ATGCC\", \"TATC\", \"GGATGGGG\"] powinieneś otrzymać. [\"ATGCC\", \"GGATGGGG\"]. Wykonaj to zadanie na 2 różne sposoby (map lub filter/lista składana)"
   ]
  },
  {
   "cell_type": "markdown",
   "metadata": {},
   "source": [
    "<h4> Zadanie9: Przepisz na listę składaną: list(map(lambda x:x**x, [1,2,3,4,5,6]))"
   ]
  },
  {
   "cell_type": "code",
   "execution_count": 34,
   "metadata": {},
   "outputs": [
    {
     "data": {
      "text/plain": [
       "[1, 4, 27, 256, 3125, 46656]"
      ]
     },
     "execution_count": 34,
     "metadata": {},
     "output_type": "execute_result"
    }
   ],
   "source": [
    "list(map(lambda x:x**x, [1,2,3,4,5,6]))"
   ]
  },
  {
   "cell_type": "markdown",
   "metadata": {},
   "source": [
    "<h4> Zadanie10: Dany jest string, w którym znajdują się sekwencje nukleotydowe. W 2 linijkach kodu, zapisz każdą sekwencję jako kolejny element listy i posortuj je wg liczby uracyli (od sekwencji zawierającej najwięcej, do tej najmniej). Uwaga: warto wrócić do ćwiczeń 2."
   ]
  },
  {
   "cell_type": "code",
   "execution_count": 39,
   "metadata": {},
   "outputs": [],
   "source": [
    "s = \"UGAGGUAGUAGGUUUUUUUUUU, UGAGGUAGUAGGUUGAUUUUUU, UGAGGUAGUAGGUUGUUUUUUU, UGAGGUAGUAGGUUGUGAUUUU, UGAGGUAGUAGGUUGUAUGGUU\""
   ]
  },
  {
   "cell_type": "markdown",
   "metadata": {},
   "source": [
    "<h2> Uzupełnienie"
   ]
  },
  {
   "cell_type": "markdown",
   "metadata": {},
   "source": [
    "<h3> Pythonowe skróty"
   ]
  },
  {
   "cell_type": "code",
   "execution_count": 29,
   "metadata": {},
   "outputs": [],
   "source": [
    "x=4"
   ]
  },
  {
   "cell_type": "code",
   "execution_count": 30,
   "metadata": {},
   "outputs": [
    {
     "name": "stdout",
     "output_type": "stream",
     "text": [
      "6\n"
     ]
    }
   ],
   "source": [
    "x+=2  #oznacza x=x+2\n",
    "print(x)"
   ]
  },
  {
   "cell_type": "code",
   "execution_count": 31,
   "metadata": {},
   "outputs": [
    {
     "name": "stdout",
     "output_type": "stream",
     "text": [
      "30\n"
     ]
    }
   ],
   "source": [
    "x*=5 #oznacza x = x*5\n",
    "print(x)"
   ]
  },
  {
   "cell_type": "code",
   "execution_count": 32,
   "metadata": {},
   "outputs": [
    {
     "name": "stdout",
     "output_type": "stream",
     "text": [
      "10\n"
     ]
    }
   ],
   "source": [
    "x-=20 #oznacza x = x-20\n",
    "print(x)"
   ]
  },
  {
   "cell_type": "markdown",
   "metadata": {},
   "source": [
    "<h3> Zagadnienie pamięci"
   ]
  },
  {
   "cell_type": "code",
   "execution_count": 33,
   "metadata": {},
   "outputs": [
    {
     "name": "stdout",
     "output_type": "stream",
     "text": [
      "28\n"
     ]
    }
   ],
   "source": [
    "import sys\n",
    "\n",
    "x = 4\n",
    "\n",
    "print(sys.getsizeof(x))"
   ]
  },
  {
   "cell_type": "code",
   "execution_count": 34,
   "metadata": {},
   "outputs": [
    {
     "name": "stdout",
     "output_type": "stream",
     "text": [
      "Help on built-in function getsizeof in module sys:\n",
      "\n",
      "getsizeof(...)\n",
      "    getsizeof(object [, default]) -> int\n",
      "    \n",
      "    Return the size of object in bytes.\n",
      "\n"
     ]
    }
   ],
   "source": [
    "help(sys.getsizeof)"
   ]
  },
  {
   "cell_type": "code",
   "execution_count": 35,
   "metadata": {},
   "outputs": [
    {
     "name": "stdout",
     "output_type": "stream",
     "text": [
      "[1, 2, 3, 4, 5, 6, 7, 8, 9, 10, 11, 12, 13] (1, 2, 3, 4, 5, 6, 7, 8, 9, 10, 11, 12, 13) array('B', [1, 2, 3, 4, 5, 6, 7, 8, 9, 10, 11, 12, 13])\n"
     ]
    }
   ],
   "source": [
    "#tworze liste\n",
    "l = [1,2,3,4,5,6,7,8,9,10,11,12,13]\n",
    "\n",
    "#tworze krotke\n",
    "t = (1,2,3,4,5,6,7,8,9,10,11,12,13)\n",
    "\n",
    "#tworze obiekt typu array\n",
    "from array import array\n",
    "a = array('B')\n",
    "for i in range(1,14):\n",
    "    a.append(i)\n",
    "    \n",
    "    \n",
    "print(l, t, a)"
   ]
  },
  {
   "cell_type": "code",
   "execution_count": 36,
   "metadata": {},
   "outputs": [
    {
     "name": "stdout",
     "output_type": "stream",
     "text": [
      "160 144 80\n"
     ]
    }
   ],
   "source": [
    "print(sys.getsizeof(l), sys.getsizeof(t), sys.getsizeof(a))"
   ]
  },
  {
   "cell_type": "markdown",
   "metadata": {},
   "source": [
    "<h3> Kopie"
   ]
  },
  {
   "cell_type": "code",
   "execution_count": 37,
   "metadata": {},
   "outputs": [],
   "source": [
    "a = [1,2,3,4] #deklaruje zmienną a - listę\n",
    "b = a         #deklaruje zmienną b"
   ]
  },
  {
   "cell_type": "code",
   "execution_count": 38,
   "metadata": {},
   "outputs": [
    {
     "data": {
      "text/plain": [
       "[1, 2, 3, 4]"
      ]
     },
     "execution_count": 38,
     "metadata": {},
     "output_type": "execute_result"
    }
   ],
   "source": [
    "a"
   ]
  },
  {
   "cell_type": "code",
   "execution_count": 39,
   "metadata": {},
   "outputs": [
    {
     "data": {
      "text/plain": [
       "[1, 2, 3, 4]"
      ]
     },
     "execution_count": 39,
     "metadata": {},
     "output_type": "execute_result"
    }
   ],
   "source": [
    "b"
   ]
  },
  {
   "cell_type": "code",
   "execution_count": 40,
   "metadata": {},
   "outputs": [],
   "source": [
    "a[1] = 100 #zamieniam pierwszy element w liscie a"
   ]
  },
  {
   "cell_type": "code",
   "execution_count": 41,
   "metadata": {},
   "outputs": [
    {
     "data": {
      "text/plain": [
       "[1, 100, 3, 4]"
      ]
     },
     "execution_count": 41,
     "metadata": {},
     "output_type": "execute_result"
    }
   ],
   "source": [
    "a"
   ]
  },
  {
   "cell_type": "code",
   "execution_count": 42,
   "metadata": {},
   "outputs": [
    {
     "data": {
      "text/plain": [
       "[1, 100, 3, 4]"
      ]
     },
     "execution_count": 42,
     "metadata": {},
     "output_type": "execute_result"
    }
   ],
   "source": [
    "b"
   ]
  },
  {
   "cell_type": "code",
   "execution_count": 43,
   "metadata": {},
   "outputs": [
    {
     "data": {
      "text/plain": [
       "2469088636608"
      ]
     },
     "execution_count": 43,
     "metadata": {},
     "output_type": "execute_result"
    }
   ],
   "source": [
    "id(a)  #id = indywidualny nr obiektu"
   ]
  },
  {
   "cell_type": "code",
   "execution_count": 44,
   "metadata": {},
   "outputs": [
    {
     "data": {
      "text/plain": [
       "2469088636608"
      ]
     },
     "execution_count": 44,
     "metadata": {},
     "output_type": "execute_result"
    }
   ],
   "source": [
    "id(b)"
   ]
  },
  {
   "cell_type": "markdown",
   "metadata": {},
   "source": [
    "<h4> Płytkie i głębokie kopie"
   ]
  },
  {
   "cell_type": "code",
   "execution_count": 45,
   "metadata": {},
   "outputs": [
    {
     "data": {
      "text/plain": [
       "(2469088409152, 2469088396992)"
      ]
     },
     "execution_count": 45,
     "metadata": {},
     "output_type": "execute_result"
    }
   ],
   "source": [
    "import copy\n",
    "\n",
    "a = [1,2,3]\n",
    "b = copy.copy(a)\n",
    "\n",
    "id(a), id(b)"
   ]
  },
  {
   "cell_type": "code",
   "execution_count": 46,
   "metadata": {},
   "outputs": [
    {
     "name": "stdout",
     "output_type": "stream",
     "text": [
      "[-5, 2, 3] [1, 2, 3]\n"
     ]
    }
   ],
   "source": [
    "a[0] = -5\n",
    "\n",
    "print(a, b)"
   ]
  },
  {
   "cell_type": "code",
   "execution_count": 47,
   "metadata": {},
   "outputs": [
    {
     "name": "stdout",
     "output_type": "stream",
     "text": [
      "Lista a1 = [[1, 2], [3, 4], [5, 6]], a lista a2 = [[1, 2], [3, 4]]\n"
     ]
    }
   ],
   "source": [
    "#jednak jeśli orginalna lista jest obiektem złożonym (np listą list) to zaczynają sie schody...(dokładnie, nowe elementy dalej odwołują się do starych elementow - zamiast powielania elementów listy do nowego obiektu, kopiowane są tylko referencje do nic)\n",
    "\n",
    "a1 = [[1,2],[3,4]]\n",
    "a2 = copy.copy(a1) #kopia płytka\n",
    "\n",
    "a1.append([5,6])\n",
    "print(f\"Lista a1 = {a1}, a lista a2 = {a2}\")"
   ]
  },
  {
   "cell_type": "code",
   "execution_count": 48,
   "metadata": {},
   "outputs": [
    {
     "name": "stdout",
     "output_type": "stream",
     "text": [
      "Lista a1 = [[1, 2], [3, 56], [5, 6]], a lista a2 = [[1, 2], [3, 56]]\n"
     ]
    }
   ],
   "source": [
    "#ale..\n",
    "\n",
    "a1[1][1] = 56\n",
    "print(f\"Lista a1 = {a1}, a lista a2 = {a2}\")"
   ]
  },
  {
   "cell_type": "code",
   "execution_count": 49,
   "metadata": {},
   "outputs": [
    {
     "name": "stdout",
     "output_type": "stream",
     "text": [
      "Lista a1 = [[1, 2], [3, 56]], a lista a2 = [[1, 2], [3, 4]]\n"
     ]
    }
   ],
   "source": [
    "a1 = [[1,2],[3,4]]\n",
    "a2 = copy.deepcopy(a1) #głęboka kopia\n",
    "a1[1][1] = 56\n",
    "\n",
    "print(f\"Lista a1 = {a1}, a lista a2 = {a2}\")"
   ]
  }
 ],
 "metadata": {
  "kernelspec": {
   "display_name": "Python 3 (ipykernel)",
   "language": "python",
   "name": "python3"
  },
  "language_info": {
   "codemirror_mode": {
    "name": "ipython",
    "version": 3
   },
   "file_extension": ".py",
   "mimetype": "text/x-python",
   "name": "python",
   "nbconvert_exporter": "python",
   "pygments_lexer": "ipython3",
   "version": "3.11.5"
  }
 },
 "nbformat": 4,
 "nbformat_minor": 2
}
