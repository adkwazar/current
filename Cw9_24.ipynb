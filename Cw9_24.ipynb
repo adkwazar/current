{
 "cells": [
  {
   "cell_type": "markdown",
   "id": "718b6655",
   "metadata": {},
   "source": [
    "<h3> Uogólnione modele liniowe (GLM)"
   ]
  },
  {
   "cell_type": "markdown",
   "id": "89305e2c",
   "metadata": {},
   "source": [
    "W tradycyjnej regresji liniowej\n",
    "\n",
    "$Y = a_nX_n+...+a_1X_1+a_0+\\epsilon$, gdzie $\\epsilon \\sim N(0, \\sigma)$\n",
    "\n",
    "albo inaczej\n",
    "\n",
    "$Y \\sim N(\\mu, \\sigma)$, gdzie $\\mu = a_nX_n+...+a_1X_1+a_0+\\epsilon$\n"
   ]
  },
  {
   "cell_type": "markdown",
   "id": "b064e53d",
   "metadata": {},
   "source": [
    "GLM =  Generalized Linear Models (Uogólnione modele liniowe)\n",
    "\n",
    "\n",
    "\n",
    "<div align=\"center\">\n",
    "$y|X \\sim F(\\theta)$\n",
    "</div>\n",
    "<div align=\"center\">\n",
    "$h(\\mu) = X \\beta$\n",
    "</div>\n",
    "\n",
    ", gdzie $h$ to tzw. funkcja wiążąca"
   ]
  },
  {
   "cell_type": "markdown",
   "id": "6935a240",
   "metadata": {},
   "source": [
    "<h3> Regresja logistyczna"
   ]
  },
  {
   "cell_type": "markdown",
   "id": "593f93de",
   "metadata": {},
   "source": [
    "<div align=\"center\">\n",
    "$Y \\sim B(1,p)$\n",
    "    </div>\n",
    "    \n",
    "<div align=\"center\">\n",
    "$\\ln(\\frac{p}{1-p}) = X\\beta$\n",
    "\n",
    "</div>\n",
    "\n",
    "\n",
    "lub inaczej\n",
    "\n",
    "\n",
    "<div align=\"center\">\n",
    "$p = \\frac{1}{1+e^{-X\\beta}}$\n",
    "\n",
    "</div>"
   ]
  },
  {
   "cell_type": "markdown",
   "id": "d9eb120e",
   "metadata": {},
   "source": [
    "<h4> Przykład1"
   ]
  },
  {
   "cell_type": "code",
   "execution_count": 95,
   "id": "6f407831",
   "metadata": {},
   "outputs": [
    {
     "data": {
      "text/html": [
       "<table>\n",
       "<thead><tr><th scope=col>Wiek</th><th scope=col>Rozmiar.guza</th><th scope=col>Wezly.chlonne</th><th scope=col>Nowotwor</th><th scope=col>Receptory.estrogenowe</th><th scope=col>Receptory.progesteronowe</th><th scope=col>Niepowodzenia</th><th scope=col>Okres.bez.wznowy</th><th scope=col>VEGF</th></tr></thead>\n",
       "<tbody>\n",
       "\t<tr><td>29    </td><td>1     </td><td>0     </td><td> 2    </td><td>(-)   </td><td>(++)  </td><td>brak  </td><td>22    </td><td> 914  </td></tr>\n",
       "\t<tr><td>29    </td><td>1     </td><td>0     </td><td> 2    </td><td>(++)  </td><td>(++)  </td><td>brak  </td><td>53    </td><td>1118  </td></tr>\n",
       "\t<tr><td>30    </td><td>1     </td><td>1     </td><td> 2    </td><td>(-)   </td><td>(+)   </td><td>brak  </td><td>38    </td><td> 630  </td></tr>\n",
       "\t<tr><td>32    </td><td>1     </td><td>0     </td><td> 3    </td><td>(++)  </td><td>(++)  </td><td>brak  </td><td>26    </td><td>1793  </td></tr>\n",
       "\t<tr><td>32    </td><td>2     </td><td>0     </td><td>NA    </td><td>(-)   </td><td>(++)  </td><td>brak  </td><td>19    </td><td> 963  </td></tr>\n",
       "\t<tr><td>33    </td><td>1     </td><td>1     </td><td> 3    </td><td>(-)   </td><td>(++)  </td><td>wznowa</td><td>36    </td><td>2776  </td></tr>\n",
       "</tbody>\n",
       "</table>\n"
      ],
      "text/latex": [
       "\\begin{tabular}{r|lllllllll}\n",
       " Wiek & Rozmiar.guza & Wezly.chlonne & Nowotwor & Receptory.estrogenowe & Receptory.progesteronowe & Niepowodzenia & Okres.bez.wznowy & VEGF\\\\\n",
       "\\hline\n",
       "\t 29     & 1      & 0      &  2     & (-)    & (++)   & brak   & 22     &  914  \\\\\n",
       "\t 29     & 1      & 0      &  2     & (++)   & (++)   & brak   & 53     & 1118  \\\\\n",
       "\t 30     & 1      & 1      &  2     & (-)    & (+)    & brak   & 38     &  630  \\\\\n",
       "\t 32     & 1      & 0      &  3     & (++)   & (++)   & brak   & 26     & 1793  \\\\\n",
       "\t 32     & 2      & 0      & NA     & (-)    & (++)   & brak   & 19     &  963  \\\\\n",
       "\t 33     & 1      & 1      &  3     & (-)    & (++)   & wznowa & 36     & 2776  \\\\\n",
       "\\end{tabular}\n"
      ],
      "text/markdown": [
       "\n",
       "| Wiek | Rozmiar.guza | Wezly.chlonne | Nowotwor | Receptory.estrogenowe | Receptory.progesteronowe | Niepowodzenia | Okres.bez.wznowy | VEGF |\n",
       "|---|---|---|---|---|---|---|---|---|\n",
       "| 29     | 1      | 0      |  2     | (-)    | (++)   | brak   | 22     |  914   |\n",
       "| 29     | 1      | 0      |  2     | (++)   | (++)   | brak   | 53     | 1118   |\n",
       "| 30     | 1      | 1      |  2     | (-)    | (+)    | brak   | 38     |  630   |\n",
       "| 32     | 1      | 0      |  3     | (++)   | (++)   | brak   | 26     | 1793   |\n",
       "| 32     | 2      | 0      | NA     | (-)    | (++)   | brak   | 19     |  963   |\n",
       "| 33     | 1      | 1      |  3     | (-)    | (++)   | wznowa | 36     | 2776   |\n",
       "\n"
      ],
      "text/plain": [
       "  Wiek Rozmiar.guza Wezly.chlonne Nowotwor Receptory.estrogenowe\n",
       "1 29   1            0              2       (-)                  \n",
       "2 29   1            0              2       (++)                 \n",
       "3 30   1            1              2       (-)                  \n",
       "4 32   1            0              3       (++)                 \n",
       "5 32   2            0             NA       (-)                  \n",
       "6 33   1            1              3       (-)                  \n",
       "  Receptory.progesteronowe Niepowodzenia Okres.bez.wznowy VEGF\n",
       "1 (++)                     brak          22                914\n",
       "2 (++)                     brak          53               1118\n",
       "3 (+)                      brak          38                630\n",
       "4 (++)                     brak          26               1793\n",
       "5 (++)                     brak          19                963\n",
       "6 (++)                     wznowa        36               2776"
      ]
     },
     "metadata": {},
     "output_type": "display_data"
    }
   ],
   "source": [
    "dane = read.table(\"http://www.biecek.pl/R/dane/dane0.csv\", sep = \";\", header = T)\n",
    "head(dane)"
   ]
  },
  {
   "cell_type": "code",
   "execution_count": 96,
   "id": "5157a811",
   "metadata": {},
   "outputs": [
    {
     "data": {
      "image/png": "[encoded data removed]",
      "text/plain": [
       "plot without title"
      ]
     },
     "metadata": {},
     "output_type": "display_data"
    }
   ],
   "source": [
    "options(repr.plot.width=4, repr.plot.height=4)\n",
    "boxplot(dane$VEGF)"
   ]
  },
  {
   "cell_type": "code",
   "execution_count": 97,
   "id": "03cdad46",
   "metadata": {},
   "outputs": [
    {
     "data": {
      "text/plain": [
       "\n",
       "Call:\n",
       "glm(formula = Niepowodzenia ~ Nowotwor + log(VEGF), family = \"binomial\", \n",
       "    data = dane)\n",
       "\n",
       "Deviance Residuals: \n",
       "    Min       1Q   Median       3Q      Max  \n",
       "-1.3475  -0.4597  -0.2263  -0.1132   2.3991  \n",
       "\n",
       "Coefficients:\n",
       "            Estimate Std. Error z value Pr(>|z|)    \n",
       "(Intercept) -17.3914     4.3757  -3.975 7.05e-05 ***\n",
       "Nowotwor      2.2586     0.7657   2.950  0.00318 ** \n",
       "log(VEGF)     1.3293     0.4250   3.128  0.00176 ** \n",
       "---\n",
       "Signif. codes:  0 '***' 0.001 '**' 0.01 '*' 0.05 '.' 0.1 ' ' 1\n",
       "\n",
       "(Dispersion parameter for binomial family taken to be 1)\n",
       "\n",
       "    Null deviance: 73.052  on 85  degrees of freedom\n",
       "Residual deviance: 47.152  on 83  degrees of freedom\n",
       "  (11 observations deleted due to missingness)\n",
       "AIC: 53.152\n",
       "\n",
       "Number of Fisher Scoring iterations: 6\n"
      ]
     },
     "metadata": {},
     "output_type": "display_data"
    }
   ],
   "source": [
    "model = glm(Niepowodzenia~Nowotwor+log(VEGF), dane, family = \"binomial\") #VEGF warto zlogarytmowac (patrz wyzej)\n",
    "summary(model)"
   ]
  },
  {
   "cell_type": "code",
   "execution_count": 98,
   "id": "2ea2d1c7",
   "metadata": {},
   "outputs": [
    {
     "data": {
      "text/html": [
       "<dl class=dl-horizontal>\n",
       "\t<dt>0</dt>\n",
       "\t\t<dd>0.097506072395627</dd>\n",
       "\t<dt>1</dt>\n",
       "\t\t<dd>0.452465901199189</dd>\n",
       "</dl>\n"
      ],
      "text/latex": [
       "\\begin{description*}\n",
       "\\item[0] 0.097506072395627\n",
       "\\item[1] 0.452465901199189\n",
       "\\end{description*}\n"
      ],
      "text/markdown": [
       "0\n",
       ":   0.0975060723956271\n",
       ":   0.452465901199189\n",
       "\n"
      ],
      "text/plain": [
       "         0          1 \n",
       "0.09750607 0.45246590 "
      ]
     },
     "metadata": {},
     "output_type": "display_data"
    }
   ],
   "source": [
    "tapply(model$fitted.values, model$y, mean)"
   ]
  },
  {
   "cell_type": "code",
   "execution_count": 99,
   "id": "1e6a412e",
   "metadata": {},
   "outputs": [
    {
     "data": {
      "image/png": "[encoded data removed]",
      "text/plain": [
       "plot without title"
      ]
     },
     "metadata": {},
     "output_type": "display_data"
    }
   ],
   "source": [
    "library(ggplot2)\n",
    "options(repr.plot.width=8, repr.plot.height=3)\n",
    "\n",
    "ggplot(data.frame(predicted_probability=model$fitted.values, category=model$y)) +\n",
    "    geom_boxplot(aes(x=as.factor(category), y=predicted_probability, color=as.factor(category)))\n"
   ]
  },
  {
   "cell_type": "markdown",
   "id": "3b4a4418",
   "metadata": {},
   "source": [
    "Domyślnie przyjmujemy $y=1$ gdy wartość prawdopodobieńtwa przekroczy 0.5."
   ]
  },
  {
   "cell_type": "code",
   "execution_count": 88,
   "id": "7b65ee7d",
   "metadata": {},
   "outputs": [
    {
     "data": {
      "image/png": "[encoded data removed]"
     },
     "metadata": {
      "height": 20,
      "width": 800
     },
     "output_type": "display_data"
    }
   ],
   "source": [
    "library(\"IRdisplay\")\n",
    "display_png(file=\"true.png\", width = 800, height = 20)  "
   ]
  },
  {
   "cell_type": "code",
   "execution_count": 100,
   "id": "8b58ee64",
   "metadata": {},
   "outputs": [
    {
     "data": {
      "text/plain": [
       "\n",
       "\n",
       "|   | FALSE| TRUE|\n",
       "|:--|-----:|----:|\n",
       "|0  |    71|    2|\n",
       "|1  |     7|    6|"
      ]
     },
     "metadata": {},
     "output_type": "display_data"
    }
   ],
   "source": [
    "knitr::kable(table(model$y, model$fitted.values>0.5))"
   ]
  },
  {
   "cell_type": "code",
   "execution_count": 9,
   "id": "c543cb74",
   "metadata": {},
   "outputs": [
    {
     "data": {
      "text/html": [
       "0.895348837209302"
      ],
      "text/latex": [
       "0.895348837209302"
      ],
      "text/markdown": [
       "0.895348837209302"
      ],
      "text/plain": [
       "[1] 0.8953488"
      ]
     },
     "metadata": {},
     "output_type": "display_data"
    }
   ],
   "source": [
    "(71+6)/(71+2+7+6) #dokladnosc"
   ]
  },
  {
   "cell_type": "code",
   "execution_count": 104,
   "id": "97955e6d",
   "metadata": {},
   "outputs": [
    {
     "data": {
      "text/plain": [
       "\n",
       "\n",
       "|   | FALSE| TRUE|\n",
       "|:--|-----:|----:|\n",
       "|0  |    71|    2|\n",
       "|1  |     7|    6|"
      ]
     },
     "metadata": {},
     "output_type": "display_data"
    }
   ],
   "source": [
    "knitr::kable(table(model$y, model$fitted.values>0.5))"
   ]
  },
  {
   "cell_type": "markdown",
   "id": "c62ff7db",
   "metadata": {},
   "source": [
    "<h4> Zadanie1: Sterując punktem odcięcia na prawdopodobieństwo y = 1 (rozważ p=0, 0.5 oraz 0.99), sprawdź jak zmienia się czułość i specyficzność. Skomentuj otrzymane wyniki. "
   ]
  },
  {
   "cell_type": "markdown",
   "id": "29443fad",
   "metadata": {},
   "source": [
    "Dla przypomnienia, czułość to $\\frac{TP}{TP+FN}$ a specyficzność to $\\frac{TN}{TN+FP}$."
   ]
  },
  {
   "cell_type": "code",
   "execution_count": 22,
   "id": "6bd8f7c1",
   "metadata": {},
   "outputs": [
    {
     "data": {
      "image/png": "[encoded data removed]",
      "text/plain": [
       "plot without title"
      ]
     },
     "metadata": {},
     "output_type": "display_data"
    }
   ],
   "source": [
    "library(ROCR)\n",
    "roc = prediction(model$fitted.values, model$y)\n",
    "roc = performance(roc, \"tpr\", \"fpr\") #tpr = true poisitive rate\n",
    "\n",
    "options(repr.plot.width=6, repr.plot.height=6)\n",
    "plot(roc, colorize=TRUE) #zaleznosc: czulosc vs 1-specyficznosc"
   ]
  },
  {
   "cell_type": "code",
   "execution_count": 24,
   "id": "008c628e",
   "metadata": {},
   "outputs": [
    {
     "data": {
      "text/html": [
       "<strong>1:</strong> 0.0216378277633873"
      ],
      "text/latex": [
       "\\textbf{1:} 0.0216378277633873"
      ],
      "text/markdown": [
       "**1:** 0.0216378277633873"
      ],
      "text/plain": [
       "         1 \n",
       "0.02163783 "
      ]
     },
     "metadata": {},
     "output_type": "display_data"
    }
   ],
   "source": [
    "predykcja = predict(model, newdata = data.frame(\"Nowotwor\" = c(2), \"VEGF\"=c(914)), type = \"response\")\n",
    "predykcja"
   ]
  },
  {
   "cell_type": "markdown",
   "id": "caff0cce",
   "metadata": {},
   "source": [
    "<h4> Zadanie2: Wyjaśnij (poprzez bezpośrednie obliczenia, korzystając z wyników w summary(model)) uzyskaną powyżej wartość."
   ]
  },
  {
   "cell_type": "markdown",
   "id": "ae345c89",
   "metadata": {},
   "source": [
    "<h4> Przykład2"
   ]
  },
  {
   "cell_type": "code",
   "execution_count": 25,
   "id": "ffa27e23",
   "metadata": {},
   "outputs": [],
   "source": [
    "white = read.csv(\"https://tinyurl.com/winedata1\", sep = \";\")\n",
    "red = read.csv(\"https://tinyurl.com/winedata2\", sep = \";\")"
   ]
  },
  {
   "cell_type": "code",
   "execution_count": 26,
   "id": "8eeb190e",
   "metadata": {},
   "outputs": [
    {
     "data": {
      "text/html": [
       "<table>\n",
       "<thead><tr><th scope=col>fixed.acidity</th><th scope=col>volatile.acidity</th><th scope=col>citric.acid</th><th scope=col>residual.sugar</th><th scope=col>chlorides</th><th scope=col>free.sulfur.dioxide</th><th scope=col>total.sulfur.dioxide</th><th scope=col>density</th><th scope=col>pH</th><th scope=col>sulphates</th><th scope=col>alcohol</th><th scope=col>quality</th><th scope=col>type</th></tr></thead>\n",
       "<tbody>\n",
       "\t<tr><td>7.0   </td><td>0.27  </td><td>0.36  </td><td>20.7  </td><td>0.045 </td><td>45    </td><td>170   </td><td>1.0010</td><td>3.00  </td><td>0.45  </td><td> 8.8  </td><td>6     </td><td>white </td></tr>\n",
       "\t<tr><td>6.3   </td><td>0.30  </td><td>0.34  </td><td> 1.6  </td><td>0.049 </td><td>14    </td><td>132   </td><td>0.9940</td><td>3.30  </td><td>0.49  </td><td> 9.5  </td><td>6     </td><td>white </td></tr>\n",
       "\t<tr><td>8.1   </td><td>0.28  </td><td>0.40  </td><td> 6.9  </td><td>0.050 </td><td>30    </td><td> 97   </td><td>0.9951</td><td>3.26  </td><td>0.44  </td><td>10.1  </td><td>6     </td><td>white </td></tr>\n",
       "\t<tr><td>7.2   </td><td>0.23  </td><td>0.32  </td><td> 8.5  </td><td>0.058 </td><td>47    </td><td>186   </td><td>0.9956</td><td>3.19  </td><td>0.40  </td><td> 9.9  </td><td>6     </td><td>white </td></tr>\n",
       "\t<tr><td>7.2   </td><td>0.23  </td><td>0.32  </td><td> 8.5  </td><td>0.058 </td><td>47    </td><td>186   </td><td>0.9956</td><td>3.19  </td><td>0.40  </td><td> 9.9  </td><td>6     </td><td>white </td></tr>\n",
       "\t<tr><td>8.1   </td><td>0.28  </td><td>0.40  </td><td> 6.9  </td><td>0.050 </td><td>30    </td><td> 97   </td><td>0.9951</td><td>3.26  </td><td>0.44  </td><td>10.1  </td><td>6     </td><td>white </td></tr>\n",
       "</tbody>\n",
       "</table>\n"
      ],
      "text/latex": [
       "\\begin{tabular}{r|lllllllllllll}\n",
       " fixed.acidity & volatile.acidity & citric.acid & residual.sugar & chlorides & free.sulfur.dioxide & total.sulfur.dioxide & density & pH & sulphates & alcohol & quality & type\\\\\n",
       "\\hline\n",
       "\t 7.0    & 0.27   & 0.36   & 20.7   & 0.045  & 45     & 170    & 1.0010 & 3.00   & 0.45   &  8.8   & 6      & white \\\\\n",
       "\t 6.3    & 0.30   & 0.34   &  1.6   & 0.049  & 14     & 132    & 0.9940 & 3.30   & 0.49   &  9.5   & 6      & white \\\\\n",
       "\t 8.1    & 0.28   & 0.40   &  6.9   & 0.050  & 30     &  97    & 0.9951 & 3.26   & 0.44   & 10.1   & 6      & white \\\\\n",
       "\t 7.2    & 0.23   & 0.32   &  8.5   & 0.058  & 47     & 186    & 0.9956 & 3.19   & 0.40   &  9.9   & 6      & white \\\\\n",
       "\t 7.2    & 0.23   & 0.32   &  8.5   & 0.058  & 47     & 186    & 0.9956 & 3.19   & 0.40   &  9.9   & 6      & white \\\\\n",
       "\t 8.1    & 0.28   & 0.40   &  6.9   & 0.050  & 30     &  97    & 0.9951 & 3.26   & 0.44   & 10.1   & 6      & white \\\\\n",
       "\\end{tabular}\n"
      ],
      "text/markdown": [
       "\n",
       "| fixed.acidity | volatile.acidity | citric.acid | residual.sugar | chlorides | free.sulfur.dioxide | total.sulfur.dioxide | density | pH | sulphates | alcohol | quality | type |\n",
       "|---|---|---|---|---|---|---|---|---|---|---|---|---|\n",
       "| 7.0    | 0.27   | 0.36   | 20.7   | 0.045  | 45     | 170    | 1.0010 | 3.00   | 0.45   |  8.8   | 6      | white  |\n",
       "| 6.3    | 0.30   | 0.34   |  1.6   | 0.049  | 14     | 132    | 0.9940 | 3.30   | 0.49   |  9.5   | 6      | white  |\n",
       "| 8.1    | 0.28   | 0.40   |  6.9   | 0.050  | 30     |  97    | 0.9951 | 3.26   | 0.44   | 10.1   | 6      | white  |\n",
       "| 7.2    | 0.23   | 0.32   |  8.5   | 0.058  | 47     | 186    | 0.9956 | 3.19   | 0.40   |  9.9   | 6      | white  |\n",
       "| 7.2    | 0.23   | 0.32   |  8.5   | 0.058  | 47     | 186    | 0.9956 | 3.19   | 0.40   |  9.9   | 6      | white  |\n",
       "| 8.1    | 0.28   | 0.40   |  6.9   | 0.050  | 30     |  97    | 0.9951 | 3.26   | 0.44   | 10.1   | 6      | white  |\n",
       "\n"
      ],
      "text/plain": [
       "  fixed.acidity volatile.acidity citric.acid residual.sugar chlorides\n",
       "1 7.0           0.27             0.36        20.7           0.045    \n",
       "2 6.3           0.30             0.34         1.6           0.049    \n",
       "3 8.1           0.28             0.40         6.9           0.050    \n",
       "4 7.2           0.23             0.32         8.5           0.058    \n",
       "5 7.2           0.23             0.32         8.5           0.058    \n",
       "6 8.1           0.28             0.40         6.9           0.050    \n",
       "  free.sulfur.dioxide total.sulfur.dioxide density pH   sulphates alcohol\n",
       "1 45                  170                  1.0010  3.00 0.45       8.8   \n",
       "2 14                  132                  0.9940  3.30 0.49       9.5   \n",
       "3 30                   97                  0.9951  3.26 0.44      10.1   \n",
       "4 47                  186                  0.9956  3.19 0.40       9.9   \n",
       "5 47                  186                  0.9956  3.19 0.40       9.9   \n",
       "6 30                   97                  0.9951  3.26 0.44      10.1   \n",
       "  quality type \n",
       "1 6       white\n",
       "2 6       white\n",
       "3 6       white\n",
       "4 6       white\n",
       "5 6       white\n",
       "6 6       white"
      ]
     },
     "metadata": {},
     "output_type": "display_data"
    }
   ],
   "source": [
    "white$type = \"white\"\n",
    "red$type = \"red\"\n",
    "\n",
    "wine = rbind(white, red)\n",
    "wine$type = factor(wine$type)\n",
    "\n",
    "head(wine)"
   ]
  },
  {
   "cell_type": "code",
   "execution_count": 27,
   "id": "193066d1",
   "metadata": {},
   "outputs": [
    {
     "data": {
      "text/plain": [
       " fixed.acidity    volatile.acidity  citric.acid     residual.sugar  \n",
       " Min.   : 3.800   Min.   :0.0800   Min.   :0.0000   Min.   : 0.600  \n",
       " 1st Qu.: 6.400   1st Qu.:0.2300   1st Qu.:0.2500   1st Qu.: 1.800  \n",
       " Median : 7.000   Median :0.2900   Median :0.3100   Median : 3.000  \n",
       " Mean   : 7.215   Mean   :0.3397   Mean   :0.3186   Mean   : 5.443  \n",
       " 3rd Qu.: 7.700   3rd Qu.:0.4000   3rd Qu.:0.3900   3rd Qu.: 8.100  \n",
       " Max.   :15.900   Max.   :1.5800   Max.   :1.6600   Max.   :65.800  \n",
       "   chlorides       free.sulfur.dioxide total.sulfur.dioxide    density      \n",
       " Min.   :0.00900   Min.   :  1.00      Min.   :  6.0        Min.   :0.9871  \n",
       " 1st Qu.:0.03800   1st Qu.: 17.00      1st Qu.: 77.0        1st Qu.:0.9923  \n",
       " Median :0.04700   Median : 29.00      Median :118.0        Median :0.9949  \n",
       " Mean   :0.05603   Mean   : 30.53      Mean   :115.7        Mean   :0.9947  \n",
       " 3rd Qu.:0.06500   3rd Qu.: 41.00      3rd Qu.:156.0        3rd Qu.:0.9970  \n",
       " Max.   :0.61100   Max.   :289.00      Max.   :440.0        Max.   :1.0390  \n",
       "       pH          sulphates         alcohol         quality         type     \n",
       " Min.   :2.720   Min.   :0.2200   Min.   : 8.00   Min.   :3.000   red  :1599  \n",
       " 1st Qu.:3.110   1st Qu.:0.4300   1st Qu.: 9.50   1st Qu.:5.000   white:4898  \n",
       " Median :3.210   Median :0.5100   Median :10.30   Median :6.000               \n",
       " Mean   :3.219   Mean   :0.5313   Mean   :10.49   Mean   :5.818               \n",
       " 3rd Qu.:3.320   3rd Qu.:0.6000   3rd Qu.:11.30   3rd Qu.:6.000               \n",
       " Max.   :4.010   Max.   :2.0000   Max.   :14.90   Max.   :9.000               "
      ]
     },
     "metadata": {},
     "output_type": "display_data"
    }
   ],
   "source": [
    "summary(wine)"
   ]
  },
  {
   "cell_type": "code",
   "execution_count": 28,
   "id": "ecad51c7",
   "metadata": {},
   "outputs": [
    {
     "data": {
      "text/plain": [
       "\n",
       "Call:\n",
       "glm(formula = type ~ pH + alcohol, family = \"binomial\", data = wine)\n",
       "\n",
       "Deviance Residuals: \n",
       "    Min       1Q   Median       3Q      Max  \n",
       "-2.6950   0.2857   0.5579   0.7326   2.0131  \n",
       "\n",
       "Coefficients:\n",
       "            Estimate Std. Error z value Pr(>|z|)    \n",
       "(Intercept) 16.39466    0.69282   23.66  < 2e-16 ***\n",
       "pH          -5.25833    0.20858  -25.21  < 2e-16 ***\n",
       "alcohol      0.17211    0.02723    6.32 2.61e-10 ***\n",
       "---\n",
       "Signif. codes:  0 '***' 0.001 '**' 0.01 '*' 0.05 '.' 0.1 ' ' 1\n",
       "\n",
       "(Dispersion parameter for binomial family taken to be 1)\n",
       "\n",
       "    Null deviance: 7251.0  on 6496  degrees of freedom\n",
       "Residual deviance: 6493.3  on 6494  degrees of freedom\n",
       "AIC: 6499.3\n",
       "\n",
       "Number of Fisher Scoring iterations: 4\n"
      ]
     },
     "metadata": {},
     "output_type": "display_data"
    }
   ],
   "source": [
    "m = glm(type ~ pH + alcohol, data = wine, family = \"binomial\")\n",
    "summary(m)"
   ]
  },
  {
   "cell_type": "code",
   "execution_count": 29,
   "id": "e8aed23b",
   "metadata": {},
   "outputs": [
    {
     "data": {
      "text/html": [
       "<ol class=list-inline>\n",
       "\t<li>'red'</li>\n",
       "\t<li>'white'</li>\n",
       "</ol>\n"
      ],
      "text/latex": [
       "\\begin{enumerate*}\n",
       "\\item 'red'\n",
       "\\item 'white'\n",
       "\\end{enumerate*}\n"
      ],
      "text/markdown": [
       "1. 'red'\n",
       "2. 'white'\n",
       "\n",
       "\n"
      ],
      "text/plain": [
       "[1] \"red\"   \"white\""
      ]
     },
     "metadata": {},
     "output_type": "display_data"
    }
   ],
   "source": [
    "levels(wine$type) #biale jest w drugiej klasie"
   ]
  },
  {
   "cell_type": "code",
   "execution_count": 30,
   "id": "6aa9ec68",
   "metadata": {},
   "outputs": [
    {
     "name": "stderr",
     "output_type": "stream",
     "text": [
      "Waiting for profiling to be done...\n"
     ]
    },
    {
     "data": {
      "text/html": [
       "<table>\n",
       "<thead><tr><th></th><th scope=col>2.5 %</th><th scope=col>97.5 %</th></tr></thead>\n",
       "<tbody>\n",
       "\t<tr><th scope=row>(Intercept)</th><td>15.0471103</td><td>17.7633691</td></tr>\n",
       "\t<tr><th scope=row>pH</th><td>-5.6705511</td><td>-4.8527787</td></tr>\n",
       "\t<tr><th scope=row>alcohol</th><td> 0.1189972</td><td> 0.2257619</td></tr>\n",
       "</tbody>\n",
       "</table>\n"
      ],
      "text/latex": [
       "\\begin{tabular}{r|ll}\n",
       "  & 2.5 \\% & 97.5 \\%\\\\\n",
       "\\hline\n",
       "\t(Intercept) & 15.0471103 & 17.7633691\\\\\n",
       "\tpH & -5.6705511 & -4.8527787\\\\\n",
       "\talcohol &  0.1189972 &  0.2257619\\\\\n",
       "\\end{tabular}\n"
      ],
      "text/markdown": [
       "\n",
       "| <!--/--> | 2.5 % | 97.5 % |\n",
       "|---|---|---|\n",
       "| (Intercept) | 15.0471103 | 17.7633691 |\n",
       "| pH | -5.6705511 | -4.8527787 |\n",
       "| alcohol |  0.1189972 |  0.2257619 |\n",
       "\n"
      ],
      "text/plain": [
       "            2.5 %      97.5 %    \n",
       "(Intercept) 15.0471103 17.7633691\n",
       "pH          -5.6705511 -4.8527787\n",
       "alcohol      0.1189972  0.2257619"
      ]
     },
     "metadata": {},
     "output_type": "display_data"
    }
   ],
   "source": [
    "confint(m) #standardowa metoda z lm do oszacowania przedzialow ufnosci na parametry"
   ]
  },
  {
   "cell_type": "code",
   "execution_count": 31,
   "id": "3aebb7e6",
   "metadata": {},
   "outputs": [
    {
     "name": "stderr",
     "output_type": "stream",
     "text": [
      "Loading required namespace: boot\n",
      "Warning message in if (class(model) %in% c(\"lmerMod\", \"glmerMod\", \"lmerModLmerTest\")) {:\n",
      "\"warunek posiada długość > 1 i tylko pierwszy element będzie użyty\""
     ]
    },
    {
     "data": {
      "text/html": [
       "<table>\n",
       "<thead><tr><th></th><th scope=col>Estimate</th><th scope=col>Lower.bound</th><th scope=col>Upper.bound</th><th scope=col>p.value</th></tr></thead>\n",
       "<tbody>\n",
       "\t<tr><th scope=row>(Intercept)</th><td>16.3946592</td><td>15.0365716</td><td>17.8666626</td><td>0.000     </td></tr>\n",
       "\t<tr><th scope=row>pH</th><td>-5.2583338</td><td>-5.7297706</td><td>-4.8653625</td><td>0.001     </td></tr>\n",
       "\t<tr><th scope=row>alcohol</th><td> 0.1721121</td><td> 0.1217395</td><td> 0.2246606</td><td>0.000     </td></tr>\n",
       "</tbody>\n",
       "</table>\n"
      ],
      "text/latex": [
       "\\begin{tabular}{r|llll}\n",
       "  & Estimate & Lower.bound & Upper.bound & p.value\\\\\n",
       "\\hline\n",
       "\t(Intercept) & 16.3946592 & 15.0365716 & 17.8666626 & 0.000     \\\\\n",
       "\tpH & -5.2583338 & -5.7297706 & -4.8653625 & 0.001     \\\\\n",
       "\talcohol &  0.1721121 &  0.1217395 &  0.2246606 & 0.000     \\\\\n",
       "\\end{tabular}\n"
      ],
      "text/markdown": [
       "\n",
       "| <!--/--> | Estimate | Lower.bound | Upper.bound | p.value |\n",
       "|---|---|---|---|---|\n",
       "| (Intercept) | 16.3946592 | 15.0365716 | 17.8666626 | 0.000      |\n",
       "| pH | -5.2583338 | -5.7297706 | -4.8653625 | 0.001      |\n",
       "| alcohol |  0.1721121 |  0.1217395 |  0.2246606 | 0.000      |\n",
       "\n"
      ],
      "text/plain": [
       "            Estimate   Lower.bound Upper.bound p.value\n",
       "(Intercept) 16.3946592 15.0365716  17.8666626  0.000  \n",
       "pH          -5.2583338 -5.7297706  -4.8653625  0.001  \n",
       "alcohol      0.1721121  0.1217395   0.2246606  0.000  "
      ]
     },
     "metadata": {},
     "output_type": "display_data"
    }
   ],
   "source": [
    "library(boot.pval)\n",
    "boot_summary(m, type = \"perc\", method = \"case\") #przedzial ufnosci na parametry metodą bootstrap"
   ]
  },
  {
   "cell_type": "markdown",
   "id": "aae912b6",
   "metadata": {},
   "source": [
    "Uwaga: Znacząco trudniej jest dokonać diagnostyki modeli GLM gdyż reszty zachowują się odmiennie niz w regresji liniowej.\n"
   ]
  },
  {
   "cell_type": "markdown",
   "id": "dbd0afed",
   "metadata": {},
   "source": [
    "<h4> Zadanie3: Rozważ dane \"SAheart\""
   ]
  },
  {
   "cell_type": "code",
   "execution_count": 17,
   "id": "5b641672",
   "metadata": {},
   "outputs": [
    {
     "data": {
      "text/html": [
       "<table>\n",
       "<thead><tr><th scope=col>sbp</th><th scope=col>tobacco</th><th scope=col>ldl</th><th scope=col>adiposity</th><th scope=col>famhist</th><th scope=col>typea</th><th scope=col>obesity</th><th scope=col>alcohol</th><th scope=col>age</th><th scope=col>chd</th></tr></thead>\n",
       "<tbody>\n",
       "\t<tr><td>160    </td><td>12.00  </td><td>5.73   </td><td>23.11  </td><td>Present</td><td>49     </td><td>25.30  </td><td>97.20  </td><td>52     </td><td>1      </td></tr>\n",
       "\t<tr><td>144    </td><td> 0.01  </td><td>4.41   </td><td>28.61  </td><td>Absent </td><td>55     </td><td>28.87  </td><td> 2.06  </td><td>63     </td><td>1      </td></tr>\n",
       "\t<tr><td>118    </td><td> 0.08  </td><td>3.48   </td><td>32.28  </td><td>Present</td><td>52     </td><td>29.14  </td><td> 3.81  </td><td>46     </td><td>0      </td></tr>\n",
       "\t<tr><td>170    </td><td> 7.50  </td><td>6.41   </td><td>38.03  </td><td>Present</td><td>51     </td><td>31.99  </td><td>24.26  </td><td>58     </td><td>1      </td></tr>\n",
       "\t<tr><td>134    </td><td>13.60  </td><td>3.50   </td><td>27.78  </td><td>Present</td><td>60     </td><td>25.99  </td><td>57.34  </td><td>49     </td><td>1      </td></tr>\n",
       "\t<tr><td>132    </td><td> 6.20  </td><td>6.47   </td><td>36.21  </td><td>Present</td><td>62     </td><td>30.77  </td><td>14.14  </td><td>45     </td><td>0      </td></tr>\n",
       "</tbody>\n",
       "</table>\n"
      ],
      "text/latex": [
       "\\begin{tabular}{r|llllllllll}\n",
       " sbp & tobacco & ldl & adiposity & famhist & typea & obesity & alcohol & age & chd\\\\\n",
       "\\hline\n",
       "\t 160     & 12.00   & 5.73    & 23.11   & Present & 49      & 25.30   & 97.20   & 52      & 1      \\\\\n",
       "\t 144     &  0.01   & 4.41    & 28.61   & Absent  & 55      & 28.87   &  2.06   & 63      & 1      \\\\\n",
       "\t 118     &  0.08   & 3.48    & 32.28   & Present & 52      & 29.14   &  3.81   & 46      & 0      \\\\\n",
       "\t 170     &  7.50   & 6.41    & 38.03   & Present & 51      & 31.99   & 24.26   & 58      & 1      \\\\\n",
       "\t 134     & 13.60   & 3.50    & 27.78   & Present & 60      & 25.99   & 57.34   & 49      & 1      \\\\\n",
       "\t 132     &  6.20   & 6.47    & 36.21   & Present & 62      & 30.77   & 14.14   & 45      & 0      \\\\\n",
       "\\end{tabular}\n"
      ],
      "text/markdown": [
       "\n",
       "| sbp | tobacco | ldl | adiposity | famhist | typea | obesity | alcohol | age | chd |\n",
       "|---|---|---|---|---|---|---|---|---|---|\n",
       "| 160     | 12.00   | 5.73    | 23.11   | Present | 49      | 25.30   | 97.20   | 52      | 1       |\n",
       "| 144     |  0.01   | 4.41    | 28.61   | Absent  | 55      | 28.87   |  2.06   | 63      | 1       |\n",
       "| 118     |  0.08   | 3.48    | 32.28   | Present | 52      | 29.14   |  3.81   | 46      | 0       |\n",
       "| 170     |  7.50   | 6.41    | 38.03   | Present | 51      | 31.99   | 24.26   | 58      | 1       |\n",
       "| 134     | 13.60   | 3.50    | 27.78   | Present | 60      | 25.99   | 57.34   | 49      | 1       |\n",
       "| 132     |  6.20   | 6.47    | 36.21   | Present | 62      | 30.77   | 14.14   | 45      | 0       |\n",
       "\n"
      ],
      "text/plain": [
       "  sbp tobacco ldl  adiposity famhist typea obesity alcohol age chd\n",
       "1 160 12.00   5.73 23.11     Present 49    25.30   97.20   52  1  \n",
       "2 144  0.01   4.41 28.61     Absent  55    28.87    2.06   63  1  \n",
       "3 118  0.08   3.48 32.28     Present 52    29.14    3.81   46  0  \n",
       "4 170  7.50   6.41 38.03     Present 51    31.99   24.26   58  1  \n",
       "5 134 13.60   3.50 27.78     Present 60    25.99   57.34   49  1  \n",
       "6 132  6.20   6.47 36.21     Present 62    30.77   14.14   45  0  "
      ]
     },
     "metadata": {},
     "output_type": "display_data"
    }
   ],
   "source": [
    "library(bestglm)\n",
    "data(\"SAheart\")\n",
    "head(SAheart) #chd - czy występuje choroba niedokrwienna serca, warto poczytac o danych ?SAheart"
   ]
  },
  {
   "cell_type": "code",
   "execution_count": 125,
   "id": "d68516c7",
   "metadata": {},
   "outputs": [
    {
     "name": "stdout",
     "output_type": "stream",
     "text": [
      "'data.frame':\t462 obs. of  10 variables:\n",
      " $ sbp      : int  160 144 118 170 134 132 142 114 114 132 ...\n",
      " $ tobacco  : num  12 0.01 0.08 7.5 13.6 6.2 4.05 4.08 0 0 ...\n",
      " $ ldl      : num  5.73 4.41 3.48 6.41 3.5 6.47 3.38 4.59 3.83 5.8 ...\n",
      " $ adiposity: num  23.1 28.6 32.3 38 27.8 ...\n",
      " $ famhist  : Factor w/ 2 levels \"Absent\",\"Present\": 2 1 2 2 2 2 1 2 2 2 ...\n",
      " $ typea    : int  49 55 52 51 60 62 59 62 49 69 ...\n",
      " $ obesity  : num  25.3 28.9 29.1 32 26 ...\n",
      " $ alcohol  : num  97.2 2.06 3.81 24.26 57.34 ...\n",
      " $ age      : int  52 63 46 58 49 45 38 58 29 53 ...\n",
      " $ chd      : int  1 1 0 1 1 0 0 1 0 1 ...\n"
     ]
    }
   ],
   "source": [
    "str(SAheart)"
   ]
  },
  {
   "cell_type": "markdown",
   "id": "185f02d1",
   "metadata": {},
   "source": [
    "<h4>\n",
    "    \n",
    "- Zbuduj model regresji logistycznej, progonzując $chd$ tylko w oparciu o $ldl$ (model1).\n",
    "    \n",
    "- Zbuduj model regresji logistycznej, prognozująć $chd$ w oparciu o wszystkie pozostałe zmienne (model2).\n",
    "    \n",
    "- Za pomocą kryterium AIC i F testu (w poleceniu anova dodaj argument: test = \"LRT\") porównaj modele. Skomentuj wyniki. \n",
    "    \n",
    "- Z użyciem polecenia $step$ (bierze pod uwagę kryterium AIC) zredukuj pełny model (model2). Składnia: step(model, trace=0) <- tworzony jest nowy model (model3).\n",
    "                                                                                                                               \n",
    "- Za pomocą F testu porównaj model2 oraz model3. Skomentuj otrzymane wyniki.\n",
    "\n",
    "- Dokonaj predykcji (za pomocą wszystkich modeli) dla osobnika o parametrach identycznych jak w pierwszym rekordzie. Skomentuj otrzymane wyniki.                                                                                                                              \n",
    "                                                                                                                              \n",
    "                                                                                                                               \n",
    "                                                                                                                              "
   ]
  },
  {
   "cell_type": "markdown",
   "id": "9942e7c3",
   "metadata": {},
   "source": [
    "<h3> Regresja Poissonowska"
   ]
  },
  {
   "cell_type": "markdown",
   "id": "73c98f20",
   "metadata": {},
   "source": [
    "Modelujemy dane zliczeniowe. Naczelne założenie, to $\\overline{Y} \\approx S^2(Y)$."
   ]
  },
  {
   "cell_type": "markdown",
   "id": "457a73d6",
   "metadata": {},
   "source": [
    "Jeżeli $Y \\sim Poiss(\\lambda)$, to $P(Y = k ) = \\frac{e^{-\\lambda}\\lambda^k}{k!}$\n",
    "\n"
   ]
  },
  {
   "cell_type": "markdown",
   "id": "10908d81",
   "metadata": {},
   "source": [
    "Cel: Znaleźć $\\lambda$. Ta będzie zależeć od zmiennych objaśniających. Domyślnie zakładamy następującą postać: $\\lambda = e^{a_nx_n+a_nx_n+...+a_0}$ albo inaczej $\\log(\\lambda) = a^Tx$ (logarytm jest funkcją łączącą)."
   ]
  },
  {
   "cell_type": "code",
   "execution_count": 80,
   "id": "bf5c2e50",
   "metadata": {},
   "outputs": [
    {
     "data": {
      "text/html": [
       "<table>\n",
       "<thead><tr><th scope=col>x</th><th scope=col>y</th></tr></thead>\n",
       "<tbody>\n",
       "\t<tr><td>A</td><td>2</td></tr>\n",
       "\t<tr><td>A</td><td>2</td></tr>\n",
       "\t<tr><td>A</td><td>3</td></tr>\n",
       "\t<tr><td>A</td><td>5</td></tr>\n",
       "\t<tr><td>A</td><td>2</td></tr>\n",
       "\t<tr><td>A</td><td>5</td></tr>\n",
       "</tbody>\n",
       "</table>\n"
      ],
      "text/latex": [
       "\\begin{tabular}{r|ll}\n",
       " x & y\\\\\n",
       "\\hline\n",
       "\t A & 2\\\\\n",
       "\t A & 2\\\\\n",
       "\t A & 3\\\\\n",
       "\t A & 5\\\\\n",
       "\t A & 2\\\\\n",
       "\t A & 5\\\\\n",
       "\\end{tabular}\n"
      ],
      "text/markdown": [
       "\n",
       "| x | y |\n",
       "|---|---|\n",
       "| A | 2 |\n",
       "| A | 2 |\n",
       "| A | 3 |\n",
       "| A | 5 |\n",
       "| A | 2 |\n",
       "| A | 5 |\n",
       "\n"
      ],
      "text/plain": [
       "  x y\n",
       "1 A 2\n",
       "2 A 2\n",
       "3 A 3\n",
       "4 A 5\n",
       "5 A 2\n",
       "6 A 5"
      ]
     },
     "metadata": {},
     "output_type": "display_data"
    }
   ],
   "source": [
    "set.seed(1)\n",
    "n = 100\n",
    "y1 = rpois(n, 3)\n",
    "y2 = rpois(n, 6)\n",
    "d = data.frame(x = c(rep(\"A\",n),rep(\"B\",n)), y = c(y1,y2))\n",
    "\n",
    "head(d)"
   ]
  },
  {
   "cell_type": "code",
   "execution_count": 81,
   "id": "bc63c47e",
   "metadata": {},
   "outputs": [
    {
     "name": "stdout",
     "output_type": "stream",
     "text": [
      "   A    B \n",
      "3.05 6.16 \n"
     ]
    }
   ],
   "source": [
    "print(tapply(d$y, d$x, mean))"
   ]
  },
  {
   "cell_type": "code",
   "execution_count": 33,
   "id": "1e66998d",
   "metadata": {},
   "outputs": [
    {
     "data": {
      "text/plain": [
       "\n",
       "Call:\n",
       "glm(formula = y ~ x, family = \"poisson\", data = d)\n",
       "\n",
       "Deviance Residuals: \n",
       "     Min        1Q    Median        3Q       Max  \n",
       "-2.58531  -0.64189  -0.06475   0.51887   2.39556  \n",
       "\n",
       "Coefficients:\n",
       "            Estimate Std. Error z value Pr(>|z|)    \n",
       "(Intercept)  1.11514    0.05726   19.48   <2e-16 ***\n",
       "xB           0.70294    0.07001   10.04   <2e-16 ***\n",
       "---\n",
       "Signif. codes:  0 '***' 0.001 '**' 0.01 '*' 0.05 '.' 0.1 ' ' 1\n",
       "\n",
       "(Dispersion parameter for poisson family taken to be 1)\n",
       "\n",
       "    Null deviance: 267.98  on 199  degrees of freedom\n",
       "Residual deviance: 160.87  on 198  degrees of freedom\n",
       "AIC: 812.91\n",
       "\n",
       "Number of Fisher Scoring iterations: 4\n"
      ]
     },
     "metadata": {},
     "output_type": "display_data"
    }
   ],
   "source": [
    "summary(model <- glm(y ~ x, family=\"poisson\", data = d))"
   ]
  },
  {
   "cell_type": "markdown",
   "id": "85d08852",
   "metadata": {},
   "source": [
    "Wyjaśnienie tych współczynników:"
   ]
  },
  {
   "cell_type": "code",
   "execution_count": 34,
   "id": "331af4c2",
   "metadata": {},
   "outputs": [
    {
     "data": {
      "text/html": [
       "3.04999514861493"
      ],
      "text/latex": [
       "3.04999514861493"
      ],
      "text/markdown": [
       "3.04999514861493"
      ],
      "text/plain": [
       "[1] 3.049995"
      ]
     },
     "metadata": {},
     "output_type": "display_data"
    }
   ],
   "source": [
    "exp(1.11514) #lambda dla A"
   ]
  },
  {
   "cell_type": "code",
   "execution_count": 35,
   "id": "16a1fe03",
   "metadata": {},
   "outputs": [
    {
     "data": {
      "text/html": [
       "6.16001985035215"
      ],
      "text/latex": [
       "6.16001985035215"
      ],
      "text/markdown": [
       "6.16001985035215"
      ],
      "text/plain": [
       "[1] 6.16002"
      ]
     },
     "metadata": {},
     "output_type": "display_data"
    }
   ],
   "source": [
    "exp(1.11514+0.70294) #lambda dla B"
   ]
  },
  {
   "cell_type": "markdown",
   "id": "8c6dde0e",
   "metadata": {},
   "source": [
    "<h4> Praktyczny przykład"
   ]
  },
  {
   "cell_type": "code",
   "execution_count": 36,
   "id": "72176f00",
   "metadata": {},
   "outputs": [
    {
     "data": {
      "text/html": [
       "<table>\n",
       "<thead><tr><th scope=col>id</th><th scope=col>num_awards</th><th scope=col>prog</th><th scope=col>math</th></tr></thead>\n",
       "<tbody>\n",
       "\t<tr><td> 45</td><td>0  </td><td>3  </td><td>41 </td></tr>\n",
       "\t<tr><td>108</td><td>0  </td><td>1  </td><td>41 </td></tr>\n",
       "\t<tr><td> 15</td><td>0  </td><td>3  </td><td>44 </td></tr>\n",
       "\t<tr><td> 67</td><td>0  </td><td>3  </td><td>42 </td></tr>\n",
       "\t<tr><td>153</td><td>0  </td><td>3  </td><td>40 </td></tr>\n",
       "\t<tr><td> 51</td><td>0  </td><td>1  </td><td>42 </td></tr>\n",
       "</tbody>\n",
       "</table>\n"
      ],
      "text/latex": [
       "\\begin{tabular}{r|llll}\n",
       " id & num\\_awards & prog & math\\\\\n",
       "\\hline\n",
       "\t  45 & 0   & 3   & 41 \\\\\n",
       "\t 108 & 0   & 1   & 41 \\\\\n",
       "\t  15 & 0   & 3   & 44 \\\\\n",
       "\t  67 & 0   & 3   & 42 \\\\\n",
       "\t 153 & 0   & 3   & 40 \\\\\n",
       "\t  51 & 0   & 1   & 42 \\\\\n",
       "\\end{tabular}\n"
      ],
      "text/markdown": [
       "\n",
       "| id | num_awards | prog | math |\n",
       "|---|---|---|---|\n",
       "|  45 | 0   | 3   | 41  |\n",
       "| 108 | 0   | 1   | 41  |\n",
       "|  15 | 0   | 3   | 44  |\n",
       "|  67 | 0   | 3   | 42  |\n",
       "| 153 | 0   | 3   | 40  |\n",
       "|  51 | 0   | 1   | 42  |\n",
       "\n"
      ],
      "text/plain": [
       "  id  num_awards prog math\n",
       "1  45 0          3    41  \n",
       "2 108 0          1    41  \n",
       "3  15 0          3    44  \n",
       "4  67 0          3    42  \n",
       "5 153 0          3    40  \n",
       "6  51 0          1    42  "
      ]
     },
     "metadata": {},
     "output_type": "display_data"
    }
   ],
   "source": [
    "p =  read.csv(\"https://stats.idre.ucla.edu/stat/data/poisson_sim.csv\")\n",
    "head(p)"
   ]
  },
  {
   "cell_type": "code",
   "execution_count": 37,
   "id": "88f72f8f",
   "metadata": {},
   "outputs": [
    {
     "data": {
      "text/html": [
       "<table>\n",
       "<thead><tr><th scope=col>id</th><th scope=col>num_awards</th><th scope=col>prog</th><th scope=col>math</th></tr></thead>\n",
       "<tbody>\n",
       "\t<tr><td>45        </td><td>0         </td><td>Vocational</td><td>41        </td></tr>\n",
       "\t<tr><td>108       </td><td>0         </td><td>General   </td><td>41        </td></tr>\n",
       "\t<tr><td>15        </td><td>0         </td><td>Vocational</td><td>44        </td></tr>\n",
       "\t<tr><td>67        </td><td>0         </td><td>Vocational</td><td>42        </td></tr>\n",
       "\t<tr><td>153       </td><td>0         </td><td>Vocational</td><td>40        </td></tr>\n",
       "\t<tr><td>51        </td><td>0         </td><td>General   </td><td>42        </td></tr>\n",
       "</tbody>\n",
       "</table>\n"
      ],
      "text/latex": [
       "\\begin{tabular}{r|llll}\n",
       " id & num\\_awards & prog & math\\\\\n",
       "\\hline\n",
       "\t 45         & 0          & Vocational & 41        \\\\\n",
       "\t 108        & 0          & General    & 41        \\\\\n",
       "\t 15         & 0          & Vocational & 44        \\\\\n",
       "\t 67         & 0          & Vocational & 42        \\\\\n",
       "\t 153        & 0          & Vocational & 40        \\\\\n",
       "\t 51         & 0          & General    & 42        \\\\\n",
       "\\end{tabular}\n"
      ],
      "text/markdown": [
       "\n",
       "| id | num_awards | prog | math |\n",
       "|---|---|---|---|\n",
       "| 45         | 0          | Vocational | 41         |\n",
       "| 108        | 0          | General    | 41         |\n",
       "| 15         | 0          | Vocational | 44         |\n",
       "| 67         | 0          | Vocational | 42         |\n",
       "| 153        | 0          | Vocational | 40         |\n",
       "| 51         | 0          | General    | 42         |\n",
       "\n"
      ],
      "text/plain": [
       "  id  num_awards prog       math\n",
       "1 45  0          Vocational 41  \n",
       "2 108 0          General    41  \n",
       "3 15  0          Vocational 44  \n",
       "4 67  0          Vocational 42  \n",
       "5 153 0          Vocational 40  \n",
       "6 51  0          General    42  "
      ]
     },
     "metadata": {},
     "output_type": "display_data"
    }
   ],
   "source": [
    "p = within(p, {\n",
    "            prog = factor(prog, levels=1:3, labels=c(\"General\", \"Academic\", \"Vocational\"))\n",
    "            id = factor(id)\n",
    "})\n",
    "head(p)"
   ]
  },
  {
   "cell_type": "code",
   "execution_count": 39,
   "id": "56e0b386",
   "metadata": {},
   "outputs": [
    {
     "data": {
      "text/plain": [
       "       id        num_awards           prog          math      \n",
       " 1      :  1   Min.   :0.00   General   : 45   Min.   :33.00  \n",
       " 2      :  1   1st Qu.:0.00   Academic  :105   1st Qu.:45.00  \n",
       " 3      :  1   Median :0.00   Vocational: 50   Median :52.00  \n",
       " 4      :  1   Mean   :0.63                    Mean   :52.65  \n",
       " 5      :  1   3rd Qu.:1.00                    3rd Qu.:59.00  \n",
       " 6      :  1   Max.   :6.00                    Max.   :75.00  \n",
       " (Other):194                                                  "
      ]
     },
     "metadata": {},
     "output_type": "display_data"
    }
   ],
   "source": [
    "summary(p)"
   ]
  },
  {
   "cell_type": "code",
   "execution_count": 41,
   "id": "d6b2e826",
   "metadata": {},
   "outputs": [
    {
     "data": {
      "text/html": [
       "<dl class=dl-horizontal>\n",
       "\t<dt>General</dt>\n",
       "\t\t<dd>'srednia (wariancja) = 0.20 (0.16)'</dd>\n",
       "\t<dt>Academic</dt>\n",
       "\t\t<dd>'srednia (wariancja) = 1.00 (1.63)'</dd>\n",
       "\t<dt>Vocational</dt>\n",
       "\t\t<dd>'srednia (wariancja) = 0.24 (0.27)'</dd>\n",
       "</dl>\n"
      ],
      "text/latex": [
       "\\begin{description*}\n",
       "\\item[General] 'srednia (wariancja) = 0.20 (0.16)'\n",
       "\\item[Academic] 'srednia (wariancja) = 1.00 (1.63)'\n",
       "\\item[Vocational] 'srednia (wariancja) = 0.24 (0.27)'\n",
       "\\end{description*}\n"
      ],
      "text/markdown": [
       "General\n",
       ":   'srednia (wariancja) = 0.20 (0.16)'Academic\n",
       ":   'srednia (wariancja) = 1.00 (1.63)'Vocational\n",
       ":   'srednia (wariancja) = 0.24 (0.27)'\n",
       "\n"
      ],
      "text/plain": [
       "                            General                            Academic \n",
       "\"srednia (wariancja) = 0.20 (0.16)\" \"srednia (wariancja) = 1.00 (1.63)\" \n",
       "                         Vocational \n",
       "\"srednia (wariancja) = 0.24 (0.27)\" "
      ]
     },
     "metadata": {},
     "output_type": "display_data"
    }
   ],
   "source": [
    "with(p, tapply(num_awards, prog, function(x) { sprintf(\"srednia (wariancja) = %1.2f (%1.2f)\", mean(x), var(x))}))"
   ]
  },
  {
   "cell_type": "code",
   "execution_count": 48,
   "id": "31bbc3c2",
   "metadata": {},
   "outputs": [
    {
     "data": {
      "image/png": "[encoded data removed]",
      "text/plain": [
       "plot without title"
      ]
     },
     "metadata": {},
     "output_type": "display_data"
    }
   ],
   "source": [
    "library(ggplot2)\n",
    "options(repr.plot.width=10, repr.plot.height=4)\n",
    "\n",
    "ggplot(p, aes(num_awards, fill = prog)) +\n",
    "  geom_histogram(binwidth=.5, position=\"dodge\")"
   ]
  },
  {
   "cell_type": "code",
   "execution_count": 46,
   "id": "d081ab4a",
   "metadata": {},
   "outputs": [
    {
     "data": {
      "text/plain": [
       "\n",
       "Call:\n",
       "glm(formula = num_awards ~ prog + math, family = \"poisson\", data = p)\n",
       "\n",
       "Deviance Residuals: \n",
       "    Min       1Q   Median       3Q      Max  \n",
       "-2.2043  -0.8436  -0.5106   0.2558   2.6796  \n",
       "\n",
       "Coefficients:\n",
       "               Estimate Std. Error z value Pr(>|z|)    \n",
       "(Intercept)    -5.24712    0.65845  -7.969 1.60e-15 ***\n",
       "progAcademic    1.08386    0.35825   3.025  0.00248 ** \n",
       "progVocational  0.36981    0.44107   0.838  0.40179    \n",
       "math            0.07015    0.01060   6.619 3.63e-11 ***\n",
       "---\n",
       "Signif. codes:  0 '***' 0.001 '**' 0.01 '*' 0.05 '.' 0.1 ' ' 1\n",
       "\n",
       "(Dispersion parameter for poisson family taken to be 1)\n",
       "\n",
       "    Null deviance: 287.67  on 199  degrees of freedom\n",
       "Residual deviance: 189.45  on 196  degrees of freedom\n",
       "AIC: 373.5\n",
       "\n",
       "Number of Fisher Scoring iterations: 6\n"
      ]
     },
     "metadata": {},
     "output_type": "display_data"
    }
   ],
   "source": [
    "m1 =  glm(num_awards ~ prog + math, family=\"poisson\", data=p)\n",
    "summary(m1)"
   ]
  },
  {
   "cell_type": "code",
   "execution_count": 52,
   "id": "305aa974",
   "metadata": {},
   "outputs": [
    {
     "name": "stdout",
     "output_type": "stream",
     "text": [
      "                 Estimate  Robust SE     Pr(>|z|)          LL          UL\n",
      "(Intercept)    -5.2471244 0.64599839 4.566630e-16 -6.51328124 -3.98096756\n",
      "progAcademic    1.0838591 0.32104816 7.354745e-04  0.45460476  1.71311353\n",
      "progVocational  0.3698092 0.40041731 3.557157e-01 -0.41500870  1.15462716\n",
      "math            0.0701524 0.01043516 1.783975e-11  0.04969947  0.09060532\n"
     ]
    }
   ],
   "source": [
    "library(sandwich)\n",
    "\n",
    "#tzw robust standard errors (nieco lepsze niz standardowe bledy jezeli naruszone jest zalozenie ze wariancja jest rowna sredniej)\n",
    "macierz_kowariancji = vcovHC(m1, type=\"HC0\")\n",
    "odchylenia = sqrt(diag(macierz_kowariancji))\n",
    "podsumowanie = cbind(Estimate= coef(m1), \"Robust SE\" = odchylenia,\n",
    "               \"Pr(>|z|)\" = 2 * pnorm(abs(coef(m1)/odchylenia), lower.tail=FALSE), #dodaje tez wartosci p_value\n",
    "                LL = coef(m1) - 1.96 * odchylenia,  #95% przedzial ufnosci, z dolu\n",
    "                UL = coef(m1) + 1.96 * odchylenia)  #95% przedzial ufnosci, z gory\n",
    "\n",
    "print(podsumowanie)"
   ]
  },
  {
   "cell_type": "markdown",
   "id": "822ecd64",
   "metadata": {},
   "source": [
    "<h4> Zadanie4: Na podstawie powyższego podsumowania określ średni poziom uzyskanych nagród dla studenta w programie Academic z wynikiem z testu 50. Ile wg modelu wynosi prawdopodobieństwo uzyskania dwóch nagród w tej sytuacji?"
   ]
  },
  {
   "cell_type": "code",
   "execution_count": 55,
   "id": "bd24b6cf",
   "metadata": {},
   "outputs": [
    {
     "data": {
      "text/html": [
       "<table>\n",
       "<thead><tr><th scope=col>math</th><th scope=col>prog</th></tr></thead>\n",
       "<tbody>\n",
       "\t<tr><td>50        </td><td>General   </td></tr>\n",
       "\t<tr><td>50        </td><td>Academic  </td></tr>\n",
       "\t<tr><td>50        </td><td>Vocational</td></tr>\n",
       "</tbody>\n",
       "</table>\n"
      ],
      "text/latex": [
       "\\begin{tabular}{r|ll}\n",
       " math & prog\\\\\n",
       "\\hline\n",
       "\t 50         & General   \\\\\n",
       "\t 50         & Academic  \\\\\n",
       "\t 50         & Vocational\\\\\n",
       "\\end{tabular}\n"
      ],
      "text/markdown": [
       "\n",
       "| math | prog |\n",
       "|---|---|\n",
       "| 50         | General    |\n",
       "| 50         | Academic   |\n",
       "| 50         | Vocational |\n",
       "\n"
      ],
      "text/plain": [
       "  math prog      \n",
       "1 50   General   \n",
       "2 50   Academic  \n",
       "3 50   Vocational"
      ]
     },
     "metadata": {},
     "output_type": "display_data"
    }
   ],
   "source": [
    "#zobaczmy jakby to wygladalo dla wszystkich programow\n",
    "s1 = data.frame(math = 50, prog = factor(1:3, levels = 1:3, labels = levels(p$prog)))\n",
    "s1"
   ]
  },
  {
   "cell_type": "code",
   "execution_count": 151,
   "id": "c3ddea3f",
   "metadata": {},
   "outputs": [
    {
     "data": {
      "text/html": [
       "<dl>\n",
       "\t<dt>$fit</dt>\n",
       "\t\t<dd><dl class=dl-horizontal>\n",
       "\t<dt>1</dt>\n",
       "\t\t<dd>0.17560738833725</dd>\n",
       "\t<dt>2</dt>\n",
       "\t\t<dd>0.51910693414102</dd>\n",
       "\t<dt>3</dt>\n",
       "\t\t<dd>0.254184399262975</dd>\n",
       "</dl>\n",
       "</dd>\n",
       "\t<dt>$se.fit</dt>\n",
       "\t\t<dd><dl class=dl-horizontal>\n",
       "\t<dt>1</dt>\n",
       "\t\t<dd>0.0589126683735189</dd>\n",
       "\t<dt>2</dt>\n",
       "\t\t<dd>0.0826062745991756</dd>\n",
       "\t<dt>3</dt>\n",
       "\t\t<dd>0.0737200378790343</dd>\n",
       "</dl>\n",
       "</dd>\n",
       "\t<dt>$residual.scale</dt>\n",
       "\t\t<dd>1</dd>\n",
       "</dl>\n"
      ],
      "text/latex": [
       "\\begin{description}\n",
       "\\item[\\$fit] \\begin{description*}\n",
       "\\item[1] 0.17560738833725\n",
       "\\item[2] 0.51910693414102\n",
       "\\item[3] 0.254184399262975\n",
       "\\end{description*}\n",
       "\n",
       "\\item[\\$se.fit] \\begin{description*}\n",
       "\\item[1] 0.0589126683735189\n",
       "\\item[2] 0.0826062745991756\n",
       "\\item[3] 0.0737200378790343\n",
       "\\end{description*}\n",
       "\n",
       "\\item[\\$residual.scale] 1\n",
       "\\end{description}\n"
      ],
      "text/markdown": [
       "$fit\n",
       ":   1\n",
       ":   0.175607388337252\n",
       ":   0.519106934141023\n",
       ":   0.254184399262975\n",
       "\n",
       "\n",
       "$se.fit\n",
       ":   1\n",
       ":   0.05891266837351892\n",
       ":   0.08260627459917563\n",
       ":   0.0737200378790343\n",
       "\n",
       "\n",
       "$residual.scale\n",
       ":   1\n",
       "\n",
       "\n"
      ],
      "text/plain": [
       "$fit\n",
       "        1         2         3 \n",
       "0.1756074 0.5191069 0.2541844 \n",
       "\n",
       "$se.fit\n",
       "         1          2          3 \n",
       "0.05891267 0.08260627 0.07372004 \n",
       "\n",
       "$residual.scale\n",
       "[1] 1\n"
      ]
     },
     "metadata": {},
     "output_type": "display_data"
    }
   ],
   "source": [
    "predict(m1, s1, type=\"response\", se.fit=TRUE)"
   ]
  },
  {
   "cell_type": "code",
   "execution_count": 57,
   "id": "3fec2977",
   "metadata": {},
   "outputs": [
    {
     "data": {
      "image/png": "[encoded data removed]",
      "text/plain": [
       "plot without title"
      ]
     },
     "metadata": {},
     "output_type": "display_data"
    }
   ],
   "source": [
    "## i zbiorczo\n",
    "## preydkcja\n",
    "p$phat = predict(m1, type=\"response\")\n",
    "\n",
    "## porzadkujemy wg programu a potem wg testu z matematyki\n",
    "p = p[with(p, order(prog, math)), ]\n",
    "\n",
    "## wykres\n",
    "ggplot(p, aes(x = math, y = phat, colour = prog)) +\n",
    "       geom_point(aes(y = num_awards), alpha=.5, position=position_jitter(h=.2)) +\n",
    "       geom_line(size = 1) +\n",
    "       labs(x = \"Wynik z testu\", y = \"Oczekiwana liczba nagrod\")"
   ]
  },
  {
   "cell_type": "markdown",
   "id": "d5f911d2",
   "metadata": {},
   "source": [
    "<h4> Zadanie5: Rozważ dane warpbreaks. Dane opisują wpływ rodzaju wełny (A oraz B) i naprężenia (niskie L, średnie M lub wysokie H) na liczbę zerwań osnowy w krośnie (breaks). Zamodeluj zmienną breaks za pomocą wool oraz tension wykorzystując przy tym regresję Poissona.\n",
    "    \n",
    "<br>  \n",
    "    \n",
    "- Czemu ten rodzaj modelu wydaje się tutaj odpowiedni?\n",
    "    \n",
    "- Czy oszacowane parametry są istotne statystyczne?\n",
    "    \n",
    "- Zinterpretuj wyraz wolny."
   ]
  }
 ],
 "metadata": {
  "kernelspec": {
   "display_name": "R",
   "language": "R",
   "name": "ir"
  },
  "language_info": {
   "codemirror_mode": "r",
   "file_extension": ".r",
   "mimetype": "text/x-r-source",
   "name": "R",
   "pygments_lexer": "r",
   "version": "3.6.1"
  }
 },
 "nbformat": 4,
 "nbformat_minor": 5
}
