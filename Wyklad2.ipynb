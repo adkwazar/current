{
 "cells": [
  {
   "cell_type": "markdown",
   "metadata": {},
   "source": [
    "<h3> Ramki danych"
   ]
  },
  {
   "cell_type": "markdown",
   "metadata": {},
   "source": [
    "<h4> Tworzenie i podstawowe operacje na ramkach danych"
   ]
  },
  {
   "cell_type": "code",
   "execution_count": 1,
   "metadata": {},
   "outputs": [
    {
     "name": "stdout",
     "output_type": "stream",
     "text": [
      "  osoba wiek plec uczelnia\n",
      "1 Marek   20    M       UJ\n",
      "2 Jarek   30    M      AGH\n",
      "3  Anna   40    K       UJ\n"
     ]
    }
   ],
   "source": [
    "d = data.frame(osoba = c(\"Marek\",\"Jarek\",\"Anna\"), wiek = c(20,30,40), plec = factor(c(\"M\",\"M\",\"K\")), uczelnia = c(\"UJ\",\"AGH\",\"UJ\"))\n",
    "print(d)"
   ]
  },
  {
   "cell_type": "code",
   "execution_count": 2,
   "metadata": {},
   "outputs": [
    {
     "data": {
      "text/html": [
       "<ol class=list-inline>\n",
       "\t<li>3</li>\n",
       "\t<li>4</li>\n",
       "</ol>\n"
      ],
      "text/latex": [
       "\\begin{enumerate*}\n",
       "\\item 3\n",
       "\\item 4\n",
       "\\end{enumerate*}\n"
      ],
      "text/markdown": [
       "1. 3\n",
       "2. 4\n",
       "\n",
       "\n"
      ],
      "text/plain": [
       "[1] 3 4"
      ]
     },
     "metadata": {},
     "output_type": "display_data"
    },
    {
     "data": {
      "text/html": [
       "3"
      ],
      "text/latex": [
       "3"
      ],
      "text/markdown": [
       "3"
      ],
      "text/plain": [
       "[1] 3"
      ]
     },
     "metadata": {},
     "output_type": "display_data"
    },
    {
     "data": {
      "text/html": [
       "4"
      ],
      "text/latex": [
       "4"
      ],
      "text/markdown": [
       "4"
      ],
      "text/plain": [
       "[1] 4"
      ]
     },
     "metadata": {},
     "output_type": "display_data"
    }
   ],
   "source": [
    "dim(d); nrow(d); ncol(d) #wymiary d"
   ]
  },
  {
   "cell_type": "code",
   "execution_count": 3,
   "metadata": {},
   "outputs": [
    {
     "data": {
      "text/plain": [
       "   osoba        wiek    plec  uczelnia\n",
       " Anna :1   Min.   :20   K:1   AGH:1   \n",
       " Jarek:1   1st Qu.:25   M:2   UJ :2   \n",
       " Marek:1   Median :30                 \n",
       "           Mean   :30                 \n",
       "           3rd Qu.:35                 \n",
       "           Max.   :40                 "
      ]
     },
     "metadata": {},
     "output_type": "display_data"
    }
   ],
   "source": [
    "summary(d) #podsumowanie wynikow z tabelki"
   ]
  },
  {
   "cell_type": "code",
   "execution_count": 4,
   "metadata": {},
   "outputs": [
    {
     "name": "stdout",
     "output_type": "stream",
     "text": [
      "  osoba wiek plec uczelnia\n",
      "1 Marek   20    M       UJ\n",
      "2 Jarek   30    M      AGH\n"
     ]
    }
   ],
   "source": [
    "print(head(d, 2)) #pierwsze dwa rekordy"
   ]
  },
  {
   "cell_type": "code",
   "execution_count": 5,
   "metadata": {},
   "outputs": [
    {
     "name": "stdout",
     "output_type": "stream",
     "text": [
      "  osoba wiek plec uczelnia\n",
      "2 Jarek   30    M      AGH\n",
      "3  Anna   40    K       UJ\n"
     ]
    }
   ],
   "source": [
    "print(tail(d, 2)) #ostatnie dwa rekordy"
   ]
  },
  {
   "cell_type": "code",
   "execution_count": 6,
   "metadata": {},
   "outputs": [
    {
     "data": {
      "text/html": [
       "'list'"
      ],
      "text/latex": [
       "'list'"
      ],
      "text/markdown": [
       "'list'"
      ],
      "text/plain": [
       "[1] \"list\""
      ]
     },
     "metadata": {},
     "output_type": "display_data"
    },
    {
     "data": {
      "text/html": [
       "'data.frame'"
      ],
      "text/latex": [
       "'data.frame'"
      ],
      "text/markdown": [
       "'data.frame'"
      ],
      "text/plain": [
       "[1] \"data.frame\""
      ]
     },
     "metadata": {},
     "output_type": "display_data"
    }
   ],
   "source": [
    "typeof(d); class(d) #ramka danych implementowana jest jako lista"
   ]
  },
  {
   "cell_type": "code",
   "execution_count": 7,
   "metadata": {},
   "outputs": [
    {
     "data": {
      "text/html": [
       "<dl>\n",
       "\t<dt>$names</dt>\n",
       "\t\t<dd><ol class=list-inline>\n",
       "\t<li>'osoba'</li>\n",
       "\t<li>'wiek'</li>\n",
       "\t<li>'plec'</li>\n",
       "\t<li>'uczelnia'</li>\n",
       "</ol>\n",
       "</dd>\n",
       "\t<dt>$class</dt>\n",
       "\t\t<dd>'data.frame'</dd>\n",
       "\t<dt>$row.names</dt>\n",
       "\t\t<dd><ol class=list-inline>\n",
       "\t<li>1</li>\n",
       "\t<li>2</li>\n",
       "\t<li>3</li>\n",
       "</ol>\n",
       "</dd>\n",
       "</dl>\n"
      ],
      "text/latex": [
       "\\begin{description}\n",
       "\\item[\\$names] \\begin{enumerate*}\n",
       "\\item 'osoba'\n",
       "\\item 'wiek'\n",
       "\\item 'plec'\n",
       "\\item 'uczelnia'\n",
       "\\end{enumerate*}\n",
       "\n",
       "\\item[\\$class] 'data.frame'\n",
       "\\item[\\$row.names] \\begin{enumerate*}\n",
       "\\item 1\n",
       "\\item 2\n",
       "\\item 3\n",
       "\\end{enumerate*}\n",
       "\n",
       "\\end{description}\n"
      ],
      "text/markdown": [
       "$names\n",
       ":   1. 'osoba'\n",
       "2. 'wiek'\n",
       "3. 'plec'\n",
       "4. 'uczelnia'\n",
       "\n",
       "\n",
       "\n",
       "$class\n",
       ":   'data.frame'\n",
       "$row.names\n",
       ":   1. 1\n",
       "2. 2\n",
       "3. 3\n",
       "\n",
       "\n",
       "\n",
       "\n",
       "\n"
      ],
      "text/plain": [
       "$names\n",
       "[1] \"osoba\"    \"wiek\"     \"plec\"     \"uczelnia\"\n",
       "\n",
       "$class\n",
       "[1] \"data.frame\"\n",
       "\n",
       "$row.names\n",
       "[1] 1 2 3\n"
      ]
     },
     "metadata": {},
     "output_type": "display_data"
    }
   ],
   "source": [
    "attributes(d) #dostępne atrybuty"
   ]
  },
  {
   "cell_type": "code",
   "execution_count": 8,
   "metadata": {},
   "outputs": [
    {
     "name": "stdout",
     "output_type": "stream",
     "text": [
      "[1] \"osoba\"    \"wiek\"     \"plec\"     \"uczelnia\"\n"
     ]
    }
   ],
   "source": [
    "print(names(d))"
   ]
  },
  {
   "cell_type": "code",
   "execution_count": 9,
   "metadata": {},
   "outputs": [
    {
     "name": "stdout",
     "output_type": "stream",
     "text": [
      "[1] \"1\" \"2\" \"3\"\n"
     ]
    }
   ],
   "source": [
    "print(rownames(d))"
   ]
  },
  {
   "cell_type": "code",
   "execution_count": 10,
   "metadata": {},
   "outputs": [
    {
     "name": "stdout",
     "output_type": "stream",
     "text": [
      "[1] \"osoba\"    \"wiek\"     \"plec\"     \"uczelnia\"\n"
     ]
    }
   ],
   "source": [
    "print(colnames(d)) #w przypadku ramek danych pokazuje to samo co names"
   ]
  },
  {
   "cell_type": "code",
   "execution_count": 11,
   "metadata": {},
   "outputs": [
    {
     "name": "stdout",
     "output_type": "stream",
     "text": [
      "'data.frame':\t3 obs. of  4 variables:\n",
      " $ osoba   : Factor w/ 3 levels \"Anna\",\"Jarek\",..: 3 2 1\n",
      " $ wiek    : num  20 30 40\n",
      " $ plec    : Factor w/ 2 levels \"K\",\"M\": 2 2 1\n",
      " $ uczelnia: Factor w/ 2 levels \"AGH\",\"UJ\": 2 1 2\n"
     ]
    }
   ],
   "source": [
    "str(d) #struktura d; zauważmy że napisy traktowane są jako czynniki (osoba czy plec)    "
   ]
  },
  {
   "cell_type": "code",
   "execution_count": 12,
   "metadata": {},
   "outputs": [
    {
     "name": "stdout",
     "output_type": "stream",
     "text": [
      "  osoba wiek plec\n",
      "1 Marek   20    M\n",
      "2 Jarek   30    M\n",
      "3  Anna   40    K\n",
      "'data.frame':\t3 obs. of  3 variables:\n",
      " $ osoba: chr  \"Marek\" \"Jarek\" \"Anna\"\n",
      " $ wiek : num  20 30 40\n",
      " $ plec : Factor w/ 2 levels \"K\",\"M\": 2 2 1\n"
     ]
    }
   ],
   "source": [
    "#jezeli nie chcemy traktowac wszystkich napisow jako czynniki to dodajemy stringsAsFactors = FALSE\n",
    "d2 = data.frame(osoba = c(\"Marek\",\"Jarek\",\"Anna\"), wiek = c(20,30,40), plec = factor(c(\"M\",\"M\",\"K\")), stringsAsFactors = FALSE)\n",
    "print(d2); str(d2) #porownac osoba"
   ]
  },
  {
   "cell_type": "code",
   "execution_count": 13,
   "metadata": {},
   "outputs": [
    {
     "name": "stdout",
     "output_type": "stream",
     "text": [
      "  osoba wiek plec uczelnia\n",
      "1 Marek   20    M       UJ\n",
      "2 Jarek   30    M      AGH\n",
      "3  Anna   40    K       UJ\n"
     ]
    }
   ],
   "source": [
    "print(d)"
   ]
  },
  {
   "cell_type": "code",
   "execution_count": 14,
   "metadata": {},
   "outputs": [
    {
     "name": "stdout",
     "output_type": "stream",
     "text": [
      "  osoba wiek plec uczelnia\n",
      "1 Marek   20    M       UJ\n"
     ]
    }
   ],
   "source": [
    "print(d[1,]) #pierwszy wiersz"
   ]
  },
  {
   "cell_type": "code",
   "execution_count": 15,
   "metadata": {},
   "outputs": [
    {
     "name": "stdout",
     "output_type": "stream",
     "text": [
      "[1] Marek Jarek Anna \n",
      "Levels: Anna Jarek Marek\n"
     ]
    }
   ],
   "source": [
    "print(d[,1]) #pierwsza kolumna"
   ]
  },
  {
   "cell_type": "code",
   "execution_count": 16,
   "metadata": {},
   "outputs": [
    {
     "name": "stdout",
     "output_type": "stream",
     "text": [
      "[1] 20\n"
     ]
    }
   ],
   "source": [
    "print(d[1,2]) #pole z pierwszego wiersza i drugiej kolumny"
   ]
  },
  {
   "cell_type": "code",
   "execution_count": 17,
   "metadata": {},
   "outputs": [
    {
     "name": "stdout",
     "output_type": "stream",
     "text": [
      "[1] 20 30 40\n"
     ]
    }
   ],
   "source": [
    "print(d[1:3,2]) #wierssze 1, 2 i 3; kolumna 2"
   ]
  },
  {
   "cell_type": "code",
   "execution_count": 18,
   "metadata": {},
   "outputs": [
    {
     "name": "stdout",
     "output_type": "stream",
     "text": [
      "[1] Marek Jarek Anna \n",
      "Levels: Anna Jarek Marek\n"
     ]
    }
   ],
   "source": [
    "print(d$osoba) #tak tez sie moge odwolywac do kolumn"
   ]
  },
  {
   "cell_type": "code",
   "execution_count": 19,
   "metadata": {},
   "outputs": [
    {
     "name": "stdout",
     "output_type": "stream",
     "text": [
      "  osoba\n",
      "1 Marek\n",
      "2 Jarek\n",
      "3  Anna\n"
     ]
    }
   ],
   "source": [
    "print(d[\"osoba\"]) #jeszcze inny sposob"
   ]
  },
  {
   "cell_type": "code",
   "execution_count": 20,
   "metadata": {},
   "outputs": [
    {
     "name": "stdout",
     "output_type": "stream",
     "text": [
      "  osoba wiek plec uczelnia\n",
      "1 Marek   20    M       UJ\n",
      "2 Jarek   30    M      AGH\n",
      "3  Anna   40    K       UJ\n",
      "4 Magda   22    K       UR\n"
     ]
    }
   ],
   "source": [
    "#dodawanie nowego rekordu(wiersza)\n",
    "nowy = data.frame(osoba = \"Magda\", wiek = 22, plec = factor(\"K\", levels = levels(d$plec)), uczelnia = \"UR\")\n",
    "dd = rbind(d, nowy)\n",
    "print(dd)"
   ]
  },
  {
   "cell_type": "code",
   "execution_count": 21,
   "metadata": {},
   "outputs": [
    {
     "name": "stdout",
     "output_type": "stream",
     "text": [
      "  osoba wiek plec uczelnia new_c\n",
      "1 Marek   20    M       UJ     1\n",
      "2 Jarek   30    M      AGH     2\n",
      "3  Anna   40    K       UJ     3\n",
      "4 Magda   22    K       UR     3\n"
     ]
    }
   ],
   "source": [
    "#dodawanie nowej kolumny\n",
    "new_c = c(1,2,3,3)\n",
    "dd2 = cbind(dd, new_c)\n",
    "print(dd2)"
   ]
  },
  {
   "cell_type": "code",
   "execution_count": 22,
   "metadata": {},
   "outputs": [
    {
     "name": "stdout",
     "output_type": "stream",
     "text": [
      "  osoba wiek\n",
      "1 Marek   20\n",
      "2 Jarek   30\n",
      "3  Anna   40\n",
      "4 Magda   22\n"
     ]
    }
   ],
   "source": [
    "#wybor kolumn\n",
    "print(subset(dd2, select = c(osoba, wiek)))"
   ]
  },
  {
   "cell_type": "code",
   "execution_count": 23,
   "metadata": {},
   "outputs": [
    {
     "data": {
      "text/html": [
       "<table>\n",
       "<thead><tr><th scope=col>osoba</th><th scope=col>wiek</th><th scope=col>uczelnia</th><th scope=col>new_c</th></tr></thead>\n",
       "<tbody>\n",
       "\t<tr><td>Marek</td><td>20   </td><td>UJ   </td><td>1    </td></tr>\n",
       "\t<tr><td>Jarek</td><td>30   </td><td>AGH  </td><td>2    </td></tr>\n",
       "\t<tr><td>Anna </td><td>40   </td><td>UJ   </td><td>3    </td></tr>\n",
       "\t<tr><td>Magda</td><td>22   </td><td>UR   </td><td>3    </td></tr>\n",
       "</tbody>\n",
       "</table>\n"
      ],
      "text/latex": [
       "\\begin{tabular}{r|llll}\n",
       " osoba & wiek & uczelnia & new\\_c\\\\\n",
       "\\hline\n",
       "\t Marek & 20    & UJ    & 1    \\\\\n",
       "\t Jarek & 30    & AGH   & 2    \\\\\n",
       "\t Anna  & 40    & UJ    & 3    \\\\\n",
       "\t Magda & 22    & UR    & 3    \\\\\n",
       "\\end{tabular}\n"
      ],
      "text/markdown": [
       "\n",
       "| osoba | wiek | uczelnia | new_c |\n",
       "|---|---|---|---|\n",
       "| Marek | 20    | UJ    | 1     |\n",
       "| Jarek | 30    | AGH   | 2     |\n",
       "| Anna  | 40    | UJ    | 3     |\n",
       "| Magda | 22    | UR    | 3     |\n",
       "\n"
      ],
      "text/plain": [
       "  osoba wiek uczelnia new_c\n",
       "1 Marek 20   UJ       1    \n",
       "2 Jarek 30   AGH      2    \n",
       "3 Anna  40   UJ       3    \n",
       "4 Magda 22   UR       3    "
      ]
     },
     "metadata": {},
     "output_type": "display_data"
    }
   ],
   "source": [
    "#wszystkie kolumny bez plci\n",
    "subset(dd2, select =- plec) "
   ]
  },
  {
   "cell_type": "code",
   "execution_count": 24,
   "metadata": {},
   "outputs": [
    {
     "name": "stdout",
     "output_type": "stream",
     "text": [
      "[1]  TRUE  TRUE FALSE FALSE\n"
     ]
    }
   ],
   "source": [
    "print(dd2$plec == \"M\") #sprawdza dla kazdego rekordu"
   ]
  },
  {
   "cell_type": "code",
   "execution_count": 25,
   "metadata": {},
   "outputs": [
    {
     "name": "stdout",
     "output_type": "stream",
     "text": [
      "  osoba wiek plec uczelnia new_c\n",
      "2 Jarek   30    M      AGH     2\n"
     ]
    }
   ],
   "source": [
    "#wybieranie podzbioru danych o zadanych warunkach\n",
    "print(subset(dd2, wiek > 20 & plec == \"M\"))"
   ]
  },
  {
   "cell_type": "code",
   "execution_count": 26,
   "metadata": {},
   "outputs": [
    {
     "name": "stdout",
     "output_type": "stream",
     "text": [
      "  osoba wiek plec uczelnia new_c\n",
      "1 Marek   20    M       UJ     1\n",
      "2 Jarek   30    M      AGH     2\n"
     ]
    }
   ],
   "source": [
    "print(dd2[dd2$plec == \"M\",]) #mozna tez tak"
   ]
  },
  {
   "cell_type": "code",
   "execution_count": 27,
   "metadata": {},
   "outputs": [
    {
     "name": "stdout",
     "output_type": "stream",
     "text": [
      "  osoba wiek\n",
      "1 Marek   20\n",
      "2 Jarek   30\n"
     ]
    }
   ],
   "source": [
    "print(dd2[dd2$plec == \"M\", c(\"osoba\",\"wiek\")]) #moge sprecyzowac ktore kolumny chce zostawic"
   ]
  },
  {
   "cell_type": "code",
   "execution_count": 28,
   "metadata": {},
   "outputs": [
    {
     "name": "stdout",
     "output_type": "stream",
     "text": [
      "$K\n",
      "  osoba wiek plec uczelnia new_c\n",
      "3  Anna   40    K       UJ     3\n",
      "4 Magda   22    K       UR     3\n",
      "\n",
      "$M\n",
      "  osoba wiek plec uczelnia new_c\n",
      "1 Marek   20    M       UJ     1\n",
      "2 Jarek   30    M      AGH     2\n",
      "\n"
     ]
    }
   ],
   "source": [
    "#podzial danych ze względu na plec\n",
    "\n",
    "print(split(dd2, dd2$plec))"
   ]
  },
  {
   "cell_type": "code",
   "execution_count": 29,
   "metadata": {},
   "outputs": [
    {
     "name": "stdout",
     "output_type": "stream",
     "text": [
      "  osoba wiek plec uczelnia new_c\n",
      "1 Marek   30    M       UJ     1\n",
      "2 Jarek   40    M      AGH     2\n",
      "3  Anna   50    K       UJ     3\n",
      "4 Magda   32    K       UR     3\n"
     ]
    }
   ],
   "source": [
    "dd2$wiek = dd2$wiek + 10 #moge modyfikowac wartosci\n",
    "print(dd2)"
   ]
  },
  {
   "cell_type": "markdown",
   "metadata": {},
   "source": [
    "<h4> Otwieranie i zapisywanie do pliku"
   ]
  },
  {
   "cell_type": "code",
   "execution_count": 30,
   "metadata": {},
   "outputs": [],
   "source": [
    "write.table(dd2, file = \"dd.txt\", row.names=FALSE)  "
   ]
  },
  {
   "cell_type": "code",
   "execution_count": 31,
   "metadata": {},
   "outputs": [
    {
     "name": "stdout",
     "output_type": "stream",
     "text": [
      "  osoba wiek plec uczelnia new_c\n",
      "1 Marek   30    M       UJ     1\n",
      "2 Jarek   40    M      AGH     2\n",
      "3  Anna   50    K       UJ     3\n",
      "4 Magda   32    K       UR     3\n"
     ]
    }
   ],
   "source": [
    "dane =  read.table(file=\"dd.txt\", sep=\" \", header=TRUE, stringsAsFactors=F)    \n",
    "print(dane)"
   ]
  },
  {
   "cell_type": "code",
   "execution_count": 32,
   "metadata": {},
   "outputs": [
    {
     "data": {
      "text/html": [
       "<table>\n",
       "<thead><tr><th scope=col>country</th><th scope=col>year</th><th scope=col>pop</th><th scope=col>continent</th><th scope=col>lifeExp</th><th scope=col>gdpPercap</th></tr></thead>\n",
       "<tbody>\n",
       "\t<tr><td>Afghanistan</td><td>1952       </td><td> 8425333   </td><td>Asia       </td><td>28.801     </td><td>779.4453   </td></tr>\n",
       "\t<tr><td>Afghanistan</td><td>1957       </td><td> 9240934   </td><td>Asia       </td><td>30.332     </td><td>820.8530   </td></tr>\n",
       "\t<tr><td>Afghanistan</td><td>1962       </td><td>10267083   </td><td>Asia       </td><td>31.997     </td><td>853.1007   </td></tr>\n",
       "\t<tr><td>Afghanistan</td><td>1967       </td><td>11537966   </td><td>Asia       </td><td>34.020     </td><td>836.1971   </td></tr>\n",
       "\t<tr><td>Afghanistan</td><td>1972       </td><td>13079460   </td><td>Asia       </td><td>36.088     </td><td>739.9811   </td></tr>\n",
       "\t<tr><td>Afghanistan</td><td>1977       </td><td>14880372   </td><td>Asia       </td><td>38.438     </td><td>786.1134   </td></tr>\n",
       "</tbody>\n",
       "</table>\n"
      ],
      "text/latex": [
       "\\begin{tabular}{r|llllll}\n",
       " country & year & pop & continent & lifeExp & gdpPercap\\\\\n",
       "\\hline\n",
       "\t Afghanistan & 1952        &  8425333    & Asia        & 28.801      & 779.4453   \\\\\n",
       "\t Afghanistan & 1957        &  9240934    & Asia        & 30.332      & 820.8530   \\\\\n",
       "\t Afghanistan & 1962        & 10267083    & Asia        & 31.997      & 853.1007   \\\\\n",
       "\t Afghanistan & 1967        & 11537966    & Asia        & 34.020      & 836.1971   \\\\\n",
       "\t Afghanistan & 1972        & 13079460    & Asia        & 36.088      & 739.9811   \\\\\n",
       "\t Afghanistan & 1977        & 14880372    & Asia        & 38.438      & 786.1134   \\\\\n",
       "\\end{tabular}\n"
      ],
      "text/markdown": [
       "\n",
       "| country | year | pop | continent | lifeExp | gdpPercap |\n",
       "|---|---|---|---|---|---|\n",
       "| Afghanistan | 1952        |  8425333    | Asia        | 28.801      | 779.4453    |\n",
       "| Afghanistan | 1957        |  9240934    | Asia        | 30.332      | 820.8530    |\n",
       "| Afghanistan | 1962        | 10267083    | Asia        | 31.997      | 853.1007    |\n",
       "| Afghanistan | 1967        | 11537966    | Asia        | 34.020      | 836.1971    |\n",
       "| Afghanistan | 1972        | 13079460    | Asia        | 36.088      | 739.9811    |\n",
       "| Afghanistan | 1977        | 14880372    | Asia        | 38.438      | 786.1134    |\n",
       "\n"
      ],
      "text/plain": [
       "  country     year pop      continent lifeExp gdpPercap\n",
       "1 Afghanistan 1952  8425333 Asia      28.801  779.4453 \n",
       "2 Afghanistan 1957  9240934 Asia      30.332  820.8530 \n",
       "3 Afghanistan 1962 10267083 Asia      31.997  853.1007 \n",
       "4 Afghanistan 1967 11537966 Asia      34.020  836.1971 \n",
       "5 Afghanistan 1972 13079460 Asia      36.088  739.9811 \n",
       "6 Afghanistan 1977 14880372 Asia      38.438  786.1134 "
      ]
     },
     "metadata": {},
     "output_type": "display_data"
    }
   ],
   "source": [
    "#dane czytane z internetu (tabelaryczne)\n",
    "dane2 = read.table(file=\"https://raw.githubusercontent.com/zief0002/miniature-garbanzo/main/data/gapminder.csv\", sep=\",\", header=T, stringsAsFactors=F) #\\t - tab\n",
    "head(dane2)"
   ]
  },
  {
   "cell_type": "markdown",
   "metadata": {},
   "source": [
    "Inne podobne metody: "
   ]
  },
  {
   "cell_type": "markdown",
   "metadata": {},
   "source": [
    "- read.csv(): pliki rozdzielone przecinkiem (.csv)\n",
    "\n",
    "- read.csv2(): gdy używamy przecinka w liczbach dziesiętnych a jako separatora ;\n",
    "\n",
    "- read.delim(): dane rodzielone tab (“.txt”). Standardowo kropka używana jest w zapisie dziesiętnym.\n",
    "\n",
    "- read.delim2(): dane rodzielone tab (“.txt”). Standardowo przecinek używany jest w zapisie dziesiętnym."
   ]
  },
  {
   "cell_type": "code",
   "execution_count": 33,
   "metadata": {},
   "outputs": [],
   "source": [
    "write.csv(dd2, file = 'dane.csv')"
   ]
  },
  {
   "cell_type": "code",
   "execution_count": 34,
   "metadata": {},
   "outputs": [],
   "source": [
    "write.csv(dd2, file = 'dane2.csv', row.names = F, quote = F) #bez nazw wierwszy i bez cudzyslowu"
   ]
  },
  {
   "cell_type": "code",
   "execution_count": 35,
   "metadata": {},
   "outputs": [
    {
     "name": "stdout",
     "output_type": "stream",
     "text": [
      "  osoba wiek plec uczelnia new_c\n",
      "1 Marek   30    M       UJ     1\n",
      "2 Jarek   40    M      AGH     2\n",
      "3  Anna   50    K       UJ     3\n",
      "4 Magda   32    K       UR     3\n"
     ]
    }
   ],
   "source": [
    "dd2r = read.csv(file = 'dane2.csv', stringsAsFactors = FALSE)\n",
    "print(dd2r)"
   ]
  },
  {
   "cell_type": "code",
   "execution_count": 36,
   "metadata": {},
   "outputs": [
    {
     "data": {
      "text/html": [
       "<table>\n",
       "<thead><tr><th scope=col>country</th><th scope=col>year</th><th scope=col>pop</th><th scope=col>continent</th><th scope=col>lifeExp</th><th scope=col>gdpPercap</th></tr></thead>\n",
       "<tbody>\n",
       "\t<tr><td>Afghanistan</td><td>1952       </td><td> 8425333   </td><td>Asia       </td><td>28.801     </td><td>779.4453   </td></tr>\n",
       "\t<tr><td>Afghanistan</td><td>1957       </td><td> 9240934   </td><td>Asia       </td><td>30.332     </td><td>820.8530   </td></tr>\n",
       "\t<tr><td>Afghanistan</td><td>1962       </td><td>10267083   </td><td>Asia       </td><td>31.997     </td><td>853.1007   </td></tr>\n",
       "\t<tr><td>Afghanistan</td><td>1967       </td><td>11537966   </td><td>Asia       </td><td>34.020     </td><td>836.1971   </td></tr>\n",
       "\t<tr><td>Afghanistan</td><td>1972       </td><td>13079460   </td><td>Asia       </td><td>36.088     </td><td>739.9811   </td></tr>\n",
       "\t<tr><td>Afghanistan</td><td>1977       </td><td>14880372   </td><td>Asia       </td><td>38.438     </td><td>786.1134   </td></tr>\n",
       "</tbody>\n",
       "</table>\n"
      ],
      "text/latex": [
       "\\begin{tabular}{r|llllll}\n",
       " country & year & pop & continent & lifeExp & gdpPercap\\\\\n",
       "\\hline\n",
       "\t Afghanistan & 1952        &  8425333    & Asia        & 28.801      & 779.4453   \\\\\n",
       "\t Afghanistan & 1957        &  9240934    & Asia        & 30.332      & 820.8530   \\\\\n",
       "\t Afghanistan & 1962        & 10267083    & Asia        & 31.997      & 853.1007   \\\\\n",
       "\t Afghanistan & 1967        & 11537966    & Asia        & 34.020      & 836.1971   \\\\\n",
       "\t Afghanistan & 1972        & 13079460    & Asia        & 36.088      & 739.9811   \\\\\n",
       "\t Afghanistan & 1977        & 14880372    & Asia        & 38.438      & 786.1134   \\\\\n",
       "\\end{tabular}\n"
      ],
      "text/markdown": [
       "\n",
       "| country | year | pop | continent | lifeExp | gdpPercap |\n",
       "|---|---|---|---|---|---|\n",
       "| Afghanistan | 1952        |  8425333    | Asia        | 28.801      | 779.4453    |\n",
       "| Afghanistan | 1957        |  9240934    | Asia        | 30.332      | 820.8530    |\n",
       "| Afghanistan | 1962        | 10267083    | Asia        | 31.997      | 853.1007    |\n",
       "| Afghanistan | 1967        | 11537966    | Asia        | 34.020      | 836.1971    |\n",
       "| Afghanistan | 1972        | 13079460    | Asia        | 36.088      | 739.9811    |\n",
       "| Afghanistan | 1977        | 14880372    | Asia        | 38.438      | 786.1134    |\n",
       "\n"
      ],
      "text/plain": [
       "  country     year pop      continent lifeExp gdpPercap\n",
       "1 Afghanistan 1952  8425333 Asia      28.801  779.4453 \n",
       "2 Afghanistan 1957  9240934 Asia      30.332  820.8530 \n",
       "3 Afghanistan 1962 10267083 Asia      31.997  853.1007 \n",
       "4 Afghanistan 1967 11537966 Asia      34.020  836.1971 \n",
       "5 Afghanistan 1972 13079460 Asia      36.088  739.9811 \n",
       "6 Afghanistan 1977 14880372 Asia      38.438  786.1134 "
      ]
     },
     "metadata": {},
     "output_type": "display_data"
    }
   ],
   "source": [
    "#dane z internetu (tabelaryczne)\n",
    "download.file(\"https://raw.githubusercontent.com/swcarpentry/r-novice-gapminder/gh-pages/_episodes_rmd/data/gapminder_data.csv\", destfile = \"dane3.csv\")\n",
    "dd3r = read.csv(\"dane3.csv\", stringsAsFactors = TRUE)\n",
    "head(dd3r)"
   ]
  },
  {
   "cell_type": "markdown",
   "metadata": {},
   "source": [
    "<h4> R i SQL - pobieranie informacji z baz danych"
   ]
  },
  {
   "cell_type": "code",
   "execution_count": 88,
   "metadata": {},
   "outputs": [],
   "source": [
    "library(RSQLite)"
   ]
  },
  {
   "cell_type": "code",
   "execution_count": 38,
   "metadata": {},
   "outputs": [
    {
     "name": "stdout",
     "output_type": "stream",
     "text": [
      "     lat    long\n",
      "1 -49.85 -128.57\n",
      "2 -47.15 -126.72\n",
      "3 -48.87 -123.40\n"
     ]
    }
   ],
   "source": [
    "polaczenie = dbConnect(SQLite(), \"survey.db\") #łączymy się z bazą danych\n",
    "wyniki =  dbGetQuery(polaczenie, \"SELECT Site.lat, Site.long FROM Site;\") #pobieram pewne rekordy\n",
    "print(wyniki)\n",
    "dbDisconnect(polaczenie) #zamykamy polaczenie z baza danych"
   ]
  },
  {
   "cell_type": "markdown",
   "metadata": {},
   "source": [
    "<h4> R i JSON"
   ]
  },
  {
   "cell_type": "code",
   "execution_count": 39,
   "metadata": {},
   "outputs": [],
   "source": [
    "library(\"jsonlite\")"
   ]
  },
  {
   "cell_type": "code",
   "execution_count": 40,
   "metadata": {},
   "outputs": [
    {
     "data": {
      "text/html": [
       "<dl>\n",
       "\t<dt>$value</dt>\n",
       "\t\t<dd><table>\n",
       "<thead><tr><th scope=col>from</th><th scope=col>to</th><th scope=col>ref</th><th scope=col>value</th><th scope=col>quality</th></tr></thead>\n",
       "<tbody>\n",
       "\t<tr><td>1.635379e+12</td><td>1.635466e+12</td><td>2021-10-28  </td><td>12.2        </td><td>Y           </td></tr>\n",
       "\t<tr><td>1.635466e+12</td><td>1.635552e+12</td><td>2021-10-29  </td><td>9.5         </td><td>Y           </td></tr>\n",
       "\t<tr><td>1.635552e+12</td><td>1.635638e+12</td><td>2021-10-30  </td><td>8.5         </td><td>Y           </td></tr>\n",
       "\t<tr><td>1.635638e+12</td><td>1.635725e+12</td><td>2021-10-31  </td><td>8.9         </td><td>Y           </td></tr>\n",
       "\t<tr><td>1.635725e+12</td><td>1.635811e+12</td><td>2021-11-01  </td><td>9.9         </td><td>Y           </td></tr>\n",
       "\t<tr><td>1.635811e+12</td><td>1.635898e+12</td><td>2021-11-02  </td><td>8.7         </td><td>Y           </td></tr>\n",
       "\t<tr><td>1.635898e+12</td><td>1.635984e+12</td><td>2021-11-03  </td><td>8.1         </td><td>Y           </td></tr>\n",
       "\t<tr><td>1.635984e+12</td><td>1.636070e+12</td><td>2021-11-04  </td><td>6.8         </td><td>Y           </td></tr>\n",
       "\t<tr><td>1.636070e+12</td><td>1.636157e+12</td><td>2021-11-05  </td><td>5.8         </td><td>Y           </td></tr>\n",
       "\t<tr><td>1.636157e+12</td><td>1.636243e+12</td><td>2021-11-06  </td><td>4.6         </td><td>Y           </td></tr>\n",
       "\t<tr><td>1.636243e+12</td><td>1.636330e+12</td><td>2021-11-07  </td><td>4.8         </td><td>Y           </td></tr>\n",
       "\t<tr><td>1.636330e+12</td><td>1.636416e+12</td><td>2021-11-08  </td><td>1.2         </td><td>Y           </td></tr>\n",
       "\t<tr><td>1.636416e+12</td><td>1.636502e+12</td><td>2021-11-09  </td><td>3.5         </td><td>Y           </td></tr>\n",
       "\t<tr><td>1.636502e+12</td><td>1.636589e+12</td><td>2021-11-10  </td><td>10.1        </td><td>Y           </td></tr>\n",
       "\t<tr><td>1.636589e+12</td><td>1.636675e+12</td><td>2021-11-11  </td><td>6.8         </td><td>Y           </td></tr>\n",
       "\t<tr><td>1.636675e+12</td><td>1.636762e+12</td><td>2021-11-12  </td><td>5.0         </td><td>Y           </td></tr>\n",
       "\t<tr><td>1.636762e+12</td><td>1.636848e+12</td><td>2021-11-13  </td><td>5.2         </td><td>Y           </td></tr>\n",
       "\t<tr><td>1.636848e+12</td><td>1.636934e+12</td><td>2021-11-14  </td><td>4.0         </td><td>Y           </td></tr>\n",
       "\t<tr><td>1.636934e+12</td><td>1.637021e+12</td><td>2021-11-15  </td><td>5.0         </td><td>Y           </td></tr>\n",
       "\t<tr><td>1.637021e+12</td><td>1.637107e+12</td><td>2021-11-16  </td><td>5.6         </td><td>Y           </td></tr>\n",
       "\t<tr><td>1.637107e+12</td><td>1.637194e+12</td><td>2021-11-17  </td><td>4.6         </td><td>Y           </td></tr>\n",
       "\t<tr><td>1.637194e+12</td><td>1.637280e+12</td><td>2021-11-18  </td><td>4.1         </td><td>Y           </td></tr>\n",
       "\t<tr><td>1.637280e+12</td><td>1.637366e+12</td><td>2021-11-19  </td><td>8.2         </td><td>Y           </td></tr>\n",
       "\t<tr><td>1.637366e+12</td><td>1.637453e+12</td><td>2021-11-20  </td><td>6.7         </td><td>Y           </td></tr>\n",
       "\t<tr><td>1.637453e+12</td><td>1.637539e+12</td><td>2021-11-21  </td><td>1.2         </td><td>Y           </td></tr>\n",
       "\t<tr><td>1.637539e+12</td><td>1.637626e+12</td><td>2021-11-22  </td><td>-0.9        </td><td>Y           </td></tr>\n",
       "\t<tr><td>1.637626e+12</td><td>1.637712e+12</td><td>2021-11-23  </td><td>1.9         </td><td>Y           </td></tr>\n",
       "\t<tr><td>1.637712e+12</td><td>1.637798e+12</td><td>2021-11-24  </td><td>4.0         </td><td>Y           </td></tr>\n",
       "\t<tr><td>1.637798e+12</td><td>1.637885e+12</td><td>2021-11-25  </td><td>4.0         </td><td>Y           </td></tr>\n",
       "\t<tr><td>1.637885e+12</td><td>1.637971e+12</td><td>2021-11-26  </td><td>-2.2        </td><td>Y           </td></tr>\n",
       "\t<tr><td>...</td><td>...</td><td>...</td><td>...</td><td>...</td></tr>\n",
       "\t<tr><td>1.644019e+12</td><td>1.644106e+12</td><td>2022-02-05  </td><td>1.5         </td><td>Y           </td></tr>\n",
       "\t<tr><td>1.644106e+12</td><td>1.644192e+12</td><td>2022-02-06  </td><td>2.4         </td><td>Y           </td></tr>\n",
       "\t<tr><td>1.644192e+12</td><td>1.644278e+12</td><td>2022-02-07  </td><td>-0.2        </td><td>Y           </td></tr>\n",
       "\t<tr><td>1.644278e+12</td><td>1.644365e+12</td><td>2022-02-08  </td><td>2.2         </td><td>Y           </td></tr>\n",
       "\t<tr><td>1.644365e+12</td><td>1.644451e+12</td><td>2022-02-09  </td><td>3.3         </td><td>Y           </td></tr>\n",
       "\t<tr><td>1.644451e+12</td><td>1.644538e+12</td><td>2022-02-10  </td><td>2.9         </td><td>Y           </td></tr>\n",
       "\t<tr><td>1.644538e+12</td><td>1.644624e+12</td><td>2022-02-11  </td><td>-0.5        </td><td>Y           </td></tr>\n",
       "\t<tr><td>1.644624e+12</td><td>1.644710e+12</td><td>2022-02-12  </td><td>1.5         </td><td>Y           </td></tr>\n",
       "\t<tr><td>1.644710e+12</td><td>1.644797e+12</td><td>2022-02-13  </td><td>2.9         </td><td>Y           </td></tr>\n",
       "\t<tr><td>1.644797e+12</td><td>1.644883e+12</td><td>2022-02-14  </td><td>2.8         </td><td>Y           </td></tr>\n",
       "\t<tr><td>1.644883e+12</td><td>1.644970e+12</td><td>2022-02-15  </td><td>4.2         </td><td>Y           </td></tr>\n",
       "\t<tr><td>1.644970e+12</td><td>1.645056e+12</td><td>2022-02-16  </td><td>2.8         </td><td>Y           </td></tr>\n",
       "\t<tr><td>1.645056e+12</td><td>1.645142e+12</td><td>2022-02-17  </td><td>1.0         </td><td>Y           </td></tr>\n",
       "\t<tr><td>1.645142e+12</td><td>1.645229e+12</td><td>2022-02-18  </td><td>1.3         </td><td>Y           </td></tr>\n",
       "\t<tr><td>1.645229e+12</td><td>1.645315e+12</td><td>2022-02-19  </td><td>0.1         </td><td>Y           </td></tr>\n",
       "\t<tr><td>1.645315e+12</td><td>1.645402e+12</td><td>2022-02-20  </td><td>-1.5        </td><td>Y           </td></tr>\n",
       "\t<tr><td>1.645402e+12</td><td>1.645488e+12</td><td>2022-02-21  </td><td>0.2         </td><td>Y           </td></tr>\n",
       "\t<tr><td>1.645488e+12</td><td>1.645574e+12</td><td>2022-02-22  </td><td>-3.4        </td><td>Y           </td></tr>\n",
       "\t<tr><td>1.645574e+12</td><td>1.645661e+12</td><td>2022-02-23  </td><td>-1.1        </td><td>Y           </td></tr>\n",
       "\t<tr><td>1.645661e+12</td><td>1.645747e+12</td><td>2022-02-24  </td><td>3.6         </td><td>Y           </td></tr>\n",
       "\t<tr><td>1.645747e+12</td><td>1.645834e+12</td><td>2022-02-25  </td><td>2.1         </td><td>Y           </td></tr>\n",
       "\t<tr><td>1.645834e+12</td><td>1.645920e+12</td><td>2022-02-26  </td><td>0.3         </td><td>Y           </td></tr>\n",
       "\t<tr><td>1.645920e+12</td><td>1.646006e+12</td><td>2022-02-27  </td><td>3.2         </td><td>Y           </td></tr>\n",
       "\t<tr><td>1.646006e+12</td><td>1.646093e+12</td><td>2022-02-28  </td><td>1.4         </td><td>Y           </td></tr>\n",
       "\t<tr><td>1.646093e+12</td><td>1.646179e+12</td><td>2022-03-01  </td><td>3.2         </td><td>Y           </td></tr>\n",
       "\t<tr><td>1.646179e+12</td><td>1.646266e+12</td><td>2022-03-02  </td><td>2.4         </td><td>Y           </td></tr>\n",
       "\t<tr><td>1.646266e+12</td><td>1.646352e+12</td><td>2022-03-03  </td><td>1.5         </td><td>Y           </td></tr>\n",
       "\t<tr><td>1.646352e+12</td><td>1.646438e+12</td><td>2022-03-04  </td><td>0.4         </td><td>Y           </td></tr>\n",
       "\t<tr><td>1.646438e+12</td><td>1.646525e+12</td><td>2022-03-05  </td><td>0.5         </td><td>Y           </td></tr>\n",
       "\t<tr><td>1.646525e+12</td><td>1.646611e+12</td><td>2022-03-06  </td><td>2.2         </td><td>Y           </td></tr>\n",
       "</tbody>\n",
       "</table>\n",
       "</dd>\n",
       "\t<dt>$updated</dt>\n",
       "\t\t<dd>1646611200000</dd>\n",
       "\t<dt>$parameter</dt>\n",
       "\t\t<dd><dl>\n",
       "\t<dt>$key</dt>\n",
       "\t\t<dd>'2'</dd>\n",
       "\t<dt>$name</dt>\n",
       "\t\t<dd>'Lufttemperatur'</dd>\n",
       "\t<dt>$summary</dt>\n",
       "\t\t<dd>'medelvärde 1 dygn, 1 gång/dygn, kl 00'</dd>\n",
       "\t<dt>$unit</dt>\n",
       "\t\t<dd>'degree celsius'</dd>\n",
       "</dl>\n",
       "</dd>\n",
       "\t<dt>$station</dt>\n",
       "\t\t<dd><dl>\n",
       "\t<dt>$key</dt>\n",
       "\t\t<dd>'98210'</dd>\n",
       "\t<dt>$name</dt>\n",
       "\t\t<dd>'Stockholm-Observatoriekullen'</dd>\n",
       "\t<dt>$owner</dt>\n",
       "\t\t<dd>'SMHI'</dd>\n",
       "\t<dt>$ownerCategory</dt>\n",
       "\t\t<dd>'SMHI'</dd>\n",
       "\t<dt>$height</dt>\n",
       "\t\t<dd>2</dd>\n",
       "</dl>\n",
       "</dd>\n",
       "\t<dt>$period</dt>\n",
       "\t\t<dd><dl>\n",
       "\t<dt>$key</dt>\n",
       "\t\t<dd>'latest-months'</dd>\n",
       "\t<dt>$from</dt>\n",
       "\t\t<dd>1635379201000</dd>\n",
       "\t<dt>$to</dt>\n",
       "\t\t<dd>1646647200000</dd>\n",
       "\t<dt>$summary</dt>\n",
       "\t\t<dd>'Data från senaste fyra månaderna'</dd>\n",
       "\t<dt>$sampling</dt>\n",
       "\t\t<dd>'24 timmar'</dd>\n",
       "</dl>\n",
       "</dd>\n",
       "\t<dt>$position</dt>\n",
       "\t\t<dd><table>\n",
       "<thead><tr><th scope=col>from</th><th scope=col>to</th><th scope=col>height</th><th scope=col>latitude</th><th scope=col>longitude</th></tr></thead>\n",
       "<tbody>\n",
       "\t<tr><td>-3.502829e+12</td><td>1.646647e+12 </td><td>43.133       </td><td>59.3417      </td><td>18.0549      </td></tr>\n",
       "</tbody>\n",
       "</table>\n",
       "</dd>\n",
       "</dl>\n"
      ],
      "text/latex": [
       "\\begin{description}\n",
       "\\item[\\$value] \\begin{tabular}{r|lllll}\n",
       " from & to & ref & value & quality\\\\\n",
       "\\hline\n",
       "\t 1.635379e+12 & 1.635466e+12 & 2021-10-28   & 12.2         & Y           \\\\\n",
       "\t 1.635466e+12 & 1.635552e+12 & 2021-10-29   & 9.5          & Y           \\\\\n",
       "\t 1.635552e+12 & 1.635638e+12 & 2021-10-30   & 8.5          & Y           \\\\\n",
       "\t 1.635638e+12 & 1.635725e+12 & 2021-10-31   & 8.9          & Y           \\\\\n",
       "\t 1.635725e+12 & 1.635811e+12 & 2021-11-01   & 9.9          & Y           \\\\\n",
       "\t 1.635811e+12 & 1.635898e+12 & 2021-11-02   & 8.7          & Y           \\\\\n",
       "\t 1.635898e+12 & 1.635984e+12 & 2021-11-03   & 8.1          & Y           \\\\\n",
       "\t 1.635984e+12 & 1.636070e+12 & 2021-11-04   & 6.8          & Y           \\\\\n",
       "\t 1.636070e+12 & 1.636157e+12 & 2021-11-05   & 5.8          & Y           \\\\\n",
       "\t 1.636157e+12 & 1.636243e+12 & 2021-11-06   & 4.6          & Y           \\\\\n",
       "\t 1.636243e+12 & 1.636330e+12 & 2021-11-07   & 4.8          & Y           \\\\\n",
       "\t 1.636330e+12 & 1.636416e+12 & 2021-11-08   & 1.2          & Y           \\\\\n",
       "\t 1.636416e+12 & 1.636502e+12 & 2021-11-09   & 3.5          & Y           \\\\\n",
       "\t 1.636502e+12 & 1.636589e+12 & 2021-11-10   & 10.1         & Y           \\\\\n",
       "\t 1.636589e+12 & 1.636675e+12 & 2021-11-11   & 6.8          & Y           \\\\\n",
       "\t 1.636675e+12 & 1.636762e+12 & 2021-11-12   & 5.0          & Y           \\\\\n",
       "\t 1.636762e+12 & 1.636848e+12 & 2021-11-13   & 5.2          & Y           \\\\\n",
       "\t 1.636848e+12 & 1.636934e+12 & 2021-11-14   & 4.0          & Y           \\\\\n",
       "\t 1.636934e+12 & 1.637021e+12 & 2021-11-15   & 5.0          & Y           \\\\\n",
       "\t 1.637021e+12 & 1.637107e+12 & 2021-11-16   & 5.6          & Y           \\\\\n",
       "\t 1.637107e+12 & 1.637194e+12 & 2021-11-17   & 4.6          & Y           \\\\\n",
       "\t 1.637194e+12 & 1.637280e+12 & 2021-11-18   & 4.1          & Y           \\\\\n",
       "\t 1.637280e+12 & 1.637366e+12 & 2021-11-19   & 8.2          & Y           \\\\\n",
       "\t 1.637366e+12 & 1.637453e+12 & 2021-11-20   & 6.7          & Y           \\\\\n",
       "\t 1.637453e+12 & 1.637539e+12 & 2021-11-21   & 1.2          & Y           \\\\\n",
       "\t 1.637539e+12 & 1.637626e+12 & 2021-11-22   & -0.9         & Y           \\\\\n",
       "\t 1.637626e+12 & 1.637712e+12 & 2021-11-23   & 1.9          & Y           \\\\\n",
       "\t 1.637712e+12 & 1.637798e+12 & 2021-11-24   & 4.0          & Y           \\\\\n",
       "\t 1.637798e+12 & 1.637885e+12 & 2021-11-25   & 4.0          & Y           \\\\\n",
       "\t 1.637885e+12 & 1.637971e+12 & 2021-11-26   & -2.2         & Y           \\\\\n",
       "\t ... & ... & ... & ... & ...\\\\\n",
       "\t 1.644019e+12 & 1.644106e+12 & 2022-02-05   & 1.5          & Y           \\\\\n",
       "\t 1.644106e+12 & 1.644192e+12 & 2022-02-06   & 2.4          & Y           \\\\\n",
       "\t 1.644192e+12 & 1.644278e+12 & 2022-02-07   & -0.2         & Y           \\\\\n",
       "\t 1.644278e+12 & 1.644365e+12 & 2022-02-08   & 2.2          & Y           \\\\\n",
       "\t 1.644365e+12 & 1.644451e+12 & 2022-02-09   & 3.3          & Y           \\\\\n",
       "\t 1.644451e+12 & 1.644538e+12 & 2022-02-10   & 2.9          & Y           \\\\\n",
       "\t 1.644538e+12 & 1.644624e+12 & 2022-02-11   & -0.5         & Y           \\\\\n",
       "\t 1.644624e+12 & 1.644710e+12 & 2022-02-12   & 1.5          & Y           \\\\\n",
       "\t 1.644710e+12 & 1.644797e+12 & 2022-02-13   & 2.9          & Y           \\\\\n",
       "\t 1.644797e+12 & 1.644883e+12 & 2022-02-14   & 2.8          & Y           \\\\\n",
       "\t 1.644883e+12 & 1.644970e+12 & 2022-02-15   & 4.2          & Y           \\\\\n",
       "\t 1.644970e+12 & 1.645056e+12 & 2022-02-16   & 2.8          & Y           \\\\\n",
       "\t 1.645056e+12 & 1.645142e+12 & 2022-02-17   & 1.0          & Y           \\\\\n",
       "\t 1.645142e+12 & 1.645229e+12 & 2022-02-18   & 1.3          & Y           \\\\\n",
       "\t 1.645229e+12 & 1.645315e+12 & 2022-02-19   & 0.1          & Y           \\\\\n",
       "\t 1.645315e+12 & 1.645402e+12 & 2022-02-20   & -1.5         & Y           \\\\\n",
       "\t 1.645402e+12 & 1.645488e+12 & 2022-02-21   & 0.2          & Y           \\\\\n",
       "\t 1.645488e+12 & 1.645574e+12 & 2022-02-22   & -3.4         & Y           \\\\\n",
       "\t 1.645574e+12 & 1.645661e+12 & 2022-02-23   & -1.1         & Y           \\\\\n",
       "\t 1.645661e+12 & 1.645747e+12 & 2022-02-24   & 3.6          & Y           \\\\\n",
       "\t 1.645747e+12 & 1.645834e+12 & 2022-02-25   & 2.1          & Y           \\\\\n",
       "\t 1.645834e+12 & 1.645920e+12 & 2022-02-26   & 0.3          & Y           \\\\\n",
       "\t 1.645920e+12 & 1.646006e+12 & 2022-02-27   & 3.2          & Y           \\\\\n",
       "\t 1.646006e+12 & 1.646093e+12 & 2022-02-28   & 1.4          & Y           \\\\\n",
       "\t 1.646093e+12 & 1.646179e+12 & 2022-03-01   & 3.2          & Y           \\\\\n",
       "\t 1.646179e+12 & 1.646266e+12 & 2022-03-02   & 2.4          & Y           \\\\\n",
       "\t 1.646266e+12 & 1.646352e+12 & 2022-03-03   & 1.5          & Y           \\\\\n",
       "\t 1.646352e+12 & 1.646438e+12 & 2022-03-04   & 0.4          & Y           \\\\\n",
       "\t 1.646438e+12 & 1.646525e+12 & 2022-03-05   & 0.5          & Y           \\\\\n",
       "\t 1.646525e+12 & 1.646611e+12 & 2022-03-06   & 2.2          & Y           \\\\\n",
       "\\end{tabular}\n",
       "\n",
       "\\item[\\$updated] 1646611200000\n",
       "\\item[\\$parameter] \\begin{description}\n",
       "\\item[\\$key] '2'\n",
       "\\item[\\$name] 'Lufttemperatur'\n",
       "\\item[\\$summary] 'medelvärde 1 dygn, 1 gång/dygn, kl 00'\n",
       "\\item[\\$unit] 'degree celsius'\n",
       "\\end{description}\n",
       "\n",
       "\\item[\\$station] \\begin{description}\n",
       "\\item[\\$key] '98210'\n",
       "\\item[\\$name] 'Stockholm-Observatoriekullen'\n",
       "\\item[\\$owner] 'SMHI'\n",
       "\\item[\\$ownerCategory] 'SMHI'\n",
       "\\item[\\$height] 2\n",
       "\\end{description}\n",
       "\n",
       "\\item[\\$period] \\begin{description}\n",
       "\\item[\\$key] 'latest-months'\n",
       "\\item[\\$from] 1635379201000\n",
       "\\item[\\$to] 1646647200000\n",
       "\\item[\\$summary] 'Data från senaste fyra månaderna'\n",
       "\\item[\\$sampling] '24 timmar'\n",
       "\\end{description}\n",
       "\n",
       "\\item[\\$position] \\begin{tabular}{r|lllll}\n",
       " from & to & height & latitude & longitude\\\\\n",
       "\\hline\n",
       "\t -3.502829e+12 & 1.646647e+12  & 43.133        & 59.3417       & 18.0549      \\\\\n",
       "\\end{tabular}\n",
       "\n",
       "\\end{description}\n"
      ],
      "text/markdown": [
       "$value\n",
       ":   \n",
       "| from | to | ref | value | quality |\n",
       "|---|---|---|---|---|\n",
       "| 1.635379e+12 | 1.635466e+12 | 2021-10-28   | 12.2         | Y            |\n",
       "| 1.635466e+12 | 1.635552e+12 | 2021-10-29   | 9.5          | Y            |\n",
       "| 1.635552e+12 | 1.635638e+12 | 2021-10-30   | 8.5          | Y            |\n",
       "| 1.635638e+12 | 1.635725e+12 | 2021-10-31   | 8.9          | Y            |\n",
       "| 1.635725e+12 | 1.635811e+12 | 2021-11-01   | 9.9          | Y            |\n",
       "| 1.635811e+12 | 1.635898e+12 | 2021-11-02   | 8.7          | Y            |\n",
       "| 1.635898e+12 | 1.635984e+12 | 2021-11-03   | 8.1          | Y            |\n",
       "| 1.635984e+12 | 1.636070e+12 | 2021-11-04   | 6.8          | Y            |\n",
       "| 1.636070e+12 | 1.636157e+12 | 2021-11-05   | 5.8          | Y            |\n",
       "| 1.636157e+12 | 1.636243e+12 | 2021-11-06   | 4.6          | Y            |\n",
       "| 1.636243e+12 | 1.636330e+12 | 2021-11-07   | 4.8          | Y            |\n",
       "| 1.636330e+12 | 1.636416e+12 | 2021-11-08   | 1.2          | Y            |\n",
       "| 1.636416e+12 | 1.636502e+12 | 2021-11-09   | 3.5          | Y            |\n",
       "| 1.636502e+12 | 1.636589e+12 | 2021-11-10   | 10.1         | Y            |\n",
       "| 1.636589e+12 | 1.636675e+12 | 2021-11-11   | 6.8          | Y            |\n",
       "| 1.636675e+12 | 1.636762e+12 | 2021-11-12   | 5.0          | Y            |\n",
       "| 1.636762e+12 | 1.636848e+12 | 2021-11-13   | 5.2          | Y            |\n",
       "| 1.636848e+12 | 1.636934e+12 | 2021-11-14   | 4.0          | Y            |\n",
       "| 1.636934e+12 | 1.637021e+12 | 2021-11-15   | 5.0          | Y            |\n",
       "| 1.637021e+12 | 1.637107e+12 | 2021-11-16   | 5.6          | Y            |\n",
       "| 1.637107e+12 | 1.637194e+12 | 2021-11-17   | 4.6          | Y            |\n",
       "| 1.637194e+12 | 1.637280e+12 | 2021-11-18   | 4.1          | Y            |\n",
       "| 1.637280e+12 | 1.637366e+12 | 2021-11-19   | 8.2          | Y            |\n",
       "| 1.637366e+12 | 1.637453e+12 | 2021-11-20   | 6.7          | Y            |\n",
       "| 1.637453e+12 | 1.637539e+12 | 2021-11-21   | 1.2          | Y            |\n",
       "| 1.637539e+12 | 1.637626e+12 | 2021-11-22   | -0.9         | Y            |\n",
       "| 1.637626e+12 | 1.637712e+12 | 2021-11-23   | 1.9          | Y            |\n",
       "| 1.637712e+12 | 1.637798e+12 | 2021-11-24   | 4.0          | Y            |\n",
       "| 1.637798e+12 | 1.637885e+12 | 2021-11-25   | 4.0          | Y            |\n",
       "| 1.637885e+12 | 1.637971e+12 | 2021-11-26   | -2.2         | Y            |\n",
       "| ... | ... | ... | ... | ... |\n",
       "| 1.644019e+12 | 1.644106e+12 | 2022-02-05   | 1.5          | Y            |\n",
       "| 1.644106e+12 | 1.644192e+12 | 2022-02-06   | 2.4          | Y            |\n",
       "| 1.644192e+12 | 1.644278e+12 | 2022-02-07   | -0.2         | Y            |\n",
       "| 1.644278e+12 | 1.644365e+12 | 2022-02-08   | 2.2          | Y            |\n",
       "| 1.644365e+12 | 1.644451e+12 | 2022-02-09   | 3.3          | Y            |\n",
       "| 1.644451e+12 | 1.644538e+12 | 2022-02-10   | 2.9          | Y            |\n",
       "| 1.644538e+12 | 1.644624e+12 | 2022-02-11   | -0.5         | Y            |\n",
       "| 1.644624e+12 | 1.644710e+12 | 2022-02-12   | 1.5          | Y            |\n",
       "| 1.644710e+12 | 1.644797e+12 | 2022-02-13   | 2.9          | Y            |\n",
       "| 1.644797e+12 | 1.644883e+12 | 2022-02-14   | 2.8          | Y            |\n",
       "| 1.644883e+12 | 1.644970e+12 | 2022-02-15   | 4.2          | Y            |\n",
       "| 1.644970e+12 | 1.645056e+12 | 2022-02-16   | 2.8          | Y            |\n",
       "| 1.645056e+12 | 1.645142e+12 | 2022-02-17   | 1.0          | Y            |\n",
       "| 1.645142e+12 | 1.645229e+12 | 2022-02-18   | 1.3          | Y            |\n",
       "| 1.645229e+12 | 1.645315e+12 | 2022-02-19   | 0.1          | Y            |\n",
       "| 1.645315e+12 | 1.645402e+12 | 2022-02-20   | -1.5         | Y            |\n",
       "| 1.645402e+12 | 1.645488e+12 | 2022-02-21   | 0.2          | Y            |\n",
       "| 1.645488e+12 | 1.645574e+12 | 2022-02-22   | -3.4         | Y            |\n",
       "| 1.645574e+12 | 1.645661e+12 | 2022-02-23   | -1.1         | Y            |\n",
       "| 1.645661e+12 | 1.645747e+12 | 2022-02-24   | 3.6          | Y            |\n",
       "| 1.645747e+12 | 1.645834e+12 | 2022-02-25   | 2.1          | Y            |\n",
       "| 1.645834e+12 | 1.645920e+12 | 2022-02-26   | 0.3          | Y            |\n",
       "| 1.645920e+12 | 1.646006e+12 | 2022-02-27   | 3.2          | Y            |\n",
       "| 1.646006e+12 | 1.646093e+12 | 2022-02-28   | 1.4          | Y            |\n",
       "| 1.646093e+12 | 1.646179e+12 | 2022-03-01   | 3.2          | Y            |\n",
       "| 1.646179e+12 | 1.646266e+12 | 2022-03-02   | 2.4          | Y            |\n",
       "| 1.646266e+12 | 1.646352e+12 | 2022-03-03   | 1.5          | Y            |\n",
       "| 1.646352e+12 | 1.646438e+12 | 2022-03-04   | 0.4          | Y            |\n",
       "| 1.646438e+12 | 1.646525e+12 | 2022-03-05   | 0.5          | Y            |\n",
       "| 1.646525e+12 | 1.646611e+12 | 2022-03-06   | 2.2          | Y            |\n",
       "\n",
       "\n",
       "$updated\n",
       ":   1646611200000\n",
       "$parameter\n",
       ":   $key\n",
       ":   '2'\n",
       "$name\n",
       ":   'Lufttemperatur'\n",
       "$summary\n",
       ":   'medelvärde 1 dygn, 1 gång/dygn, kl 00'\n",
       "$unit\n",
       ":   'degree celsius'\n",
       "\n",
       "\n",
       "\n",
       "$station\n",
       ":   $key\n",
       ":   '98210'\n",
       "$name\n",
       ":   'Stockholm-Observatoriekullen'\n",
       "$owner\n",
       ":   'SMHI'\n",
       "$ownerCategory\n",
       ":   'SMHI'\n",
       "$height\n",
       ":   2\n",
       "\n",
       "\n",
       "\n",
       "$period\n",
       ":   $key\n",
       ":   'latest-months'\n",
       "$from\n",
       ":   1635379201000\n",
       "$to\n",
       ":   1646647200000\n",
       "$summary\n",
       ":   'Data från senaste fyra månaderna'\n",
       "$sampling\n",
       ":   '24 timmar'\n",
       "\n",
       "\n",
       "\n",
       "$position\n",
       ":   \n",
       "| from | to | height | latitude | longitude |\n",
       "|---|---|---|---|---|\n",
       "| -3.502829e+12 | 1.646647e+12  | 43.133        | 59.3417       | 18.0549       |\n",
       "\n",
       "\n",
       "\n",
       "\n"
      ],
      "text/plain": [
       "$value\n",
       "            from           to        ref value quality\n",
       "1   1.635379e+12 1.635466e+12 2021-10-28  12.2       Y\n",
       "2   1.635466e+12 1.635552e+12 2021-10-29   9.5       Y\n",
       "3   1.635552e+12 1.635638e+12 2021-10-30   8.5       Y\n",
       "4   1.635638e+12 1.635725e+12 2021-10-31   8.9       Y\n",
       "5   1.635725e+12 1.635811e+12 2021-11-01   9.9       Y\n",
       "6   1.635811e+12 1.635898e+12 2021-11-02   8.7       Y\n",
       "7   1.635898e+12 1.635984e+12 2021-11-03   8.1       Y\n",
       "8   1.635984e+12 1.636070e+12 2021-11-04   6.8       Y\n",
       "9   1.636070e+12 1.636157e+12 2021-11-05   5.8       Y\n",
       "10  1.636157e+12 1.636243e+12 2021-11-06   4.6       Y\n",
       "11  1.636243e+12 1.636330e+12 2021-11-07   4.8       Y\n",
       "12  1.636330e+12 1.636416e+12 2021-11-08   1.2       Y\n",
       "13  1.636416e+12 1.636502e+12 2021-11-09   3.5       Y\n",
       "14  1.636502e+12 1.636589e+12 2021-11-10  10.1       Y\n",
       "15  1.636589e+12 1.636675e+12 2021-11-11   6.8       Y\n",
       "16  1.636675e+12 1.636762e+12 2021-11-12   5.0       Y\n",
       "17  1.636762e+12 1.636848e+12 2021-11-13   5.2       Y\n",
       "18  1.636848e+12 1.636934e+12 2021-11-14   4.0       Y\n",
       "19  1.636934e+12 1.637021e+12 2021-11-15   5.0       Y\n",
       "20  1.637021e+12 1.637107e+12 2021-11-16   5.6       Y\n",
       "21  1.637107e+12 1.637194e+12 2021-11-17   4.6       Y\n",
       "22  1.637194e+12 1.637280e+12 2021-11-18   4.1       Y\n",
       "23  1.637280e+12 1.637366e+12 2021-11-19   8.2       Y\n",
       "24  1.637366e+12 1.637453e+12 2021-11-20   6.7       Y\n",
       "25  1.637453e+12 1.637539e+12 2021-11-21   1.2       Y\n",
       "26  1.637539e+12 1.637626e+12 2021-11-22  -0.9       Y\n",
       "27  1.637626e+12 1.637712e+12 2021-11-23   1.9       Y\n",
       "28  1.637712e+12 1.637798e+12 2021-11-24   4.0       Y\n",
       "29  1.637798e+12 1.637885e+12 2021-11-25   4.0       Y\n",
       "30  1.637885e+12 1.637971e+12 2021-11-26  -2.2       Y\n",
       "31  1.637971e+12 1.638058e+12 2021-11-27  -1.4       Y\n",
       "32  1.638058e+12 1.638144e+12 2021-11-28  -2.3       Y\n",
       "33  1.638144e+12 1.638230e+12 2021-11-29  -4.1       Y\n",
       "34  1.638230e+12 1.638317e+12 2021-11-30  -5.9       Y\n",
       "35  1.638317e+12 1.638403e+12 2021-12-01  -7.0       Y\n",
       "36  1.638403e+12 1.638490e+12 2021-12-02  -2.7       Y\n",
       "37  1.638490e+12 1.638576e+12 2021-12-03  -5.2       Y\n",
       "38  1.638576e+12 1.638662e+12 2021-12-04  -5.0       Y\n",
       "39  1.638662e+12 1.638749e+12 2021-12-05  -5.8       Y\n",
       "40  1.638749e+12 1.638835e+12 2021-12-06 -10.6       Y\n",
       "41  1.638835e+12 1.638922e+12 2021-12-07 -11.1       Y\n",
       "42  1.638922e+12 1.639008e+12 2021-12-08  -2.5       Y\n",
       "43  1.639008e+12 1.639094e+12 2021-12-09   0.7       Y\n",
       "44  1.639094e+12 1.639181e+12 2021-12-10   1.9       Y\n",
       "45  1.639181e+12 1.639267e+12 2021-12-11   2.4       Y\n",
       "46  1.639267e+12 1.639354e+12 2021-12-12   1.9       Y\n",
       "47  1.639354e+12 1.639440e+12 2021-12-13   0.9       Y\n",
       "48  1.639440e+12 1.639526e+12 2021-12-14   3.1       Y\n",
       "49  1.639526e+12 1.639613e+12 2021-12-15   5.7       Y\n",
       "50  1.639613e+12 1.639699e+12 2021-12-16   4.7       Y\n",
       "51  1.639699e+12 1.639786e+12 2021-12-17   3.0       Y\n",
       "52  1.639786e+12 1.639872e+12 2021-12-18   5.3       Y\n",
       "53  1.639872e+12 1.639958e+12 2021-12-19   3.1       Y\n",
       "54  1.639958e+12 1.640045e+12 2021-12-20  -2.5       Y\n",
       "55  1.640045e+12 1.640131e+12 2021-12-21  -6.2       Y\n",
       "56  1.640131e+12 1.640218e+12 2021-12-22  -5.3       Y\n",
       "57  1.640218e+12 1.640304e+12 2021-12-23  -2.3       Y\n",
       "58  1.640304e+12 1.640390e+12 2021-12-24  -7.8       Y\n",
       "59  1.640390e+12 1.640477e+12 2021-12-25  -5.6       Y\n",
       "60  1.640477e+12 1.640563e+12 2021-12-26  -4.8       Y\n",
       "61  1.640563e+12 1.640650e+12 2021-12-27  -3.9       Y\n",
       "62  1.640650e+12 1.640736e+12 2021-12-28  -0.1       Y\n",
       "63  1.640736e+12 1.640822e+12 2021-12-29   0.7       Y\n",
       "64  1.640822e+12 1.640909e+12 2021-12-30   2.7       Y\n",
       "65  1.640909e+12 1.640995e+12 2021-12-31   4.0       Y\n",
       "66  1.640995e+12 1.641082e+12 2022-01-01  -0.3       Y\n",
       "67  1.641082e+12 1.641168e+12 2022-01-02   2.6       Y\n",
       "68  1.641168e+12 1.641254e+12 2022-01-03   4.3       Y\n",
       "69  1.641254e+12 1.641341e+12 2022-01-04   1.3       Y\n",
       "70  1.641341e+12 1.641427e+12 2022-01-05  -1.7       Y\n",
       "71  1.641427e+12 1.641514e+12 2022-01-06  -6.0       Y\n",
       "72  1.641514e+12 1.641600e+12 2022-01-07  -4.9       Y\n",
       "73  1.641600e+12 1.641686e+12 2022-01-08   0.2       Y\n",
       "74  1.641686e+12 1.641773e+12 2022-01-09  -0.2       Y\n",
       "75  1.641773e+12 1.641859e+12 2022-01-10  -1.4       Y\n",
       "76  1.641859e+12 1.641946e+12 2022-01-11  -0.4       Y\n",
       "77  1.641946e+12 1.642032e+12 2022-01-12   2.4       Y\n",
       "78  1.642032e+12 1.642118e+12 2022-01-13   6.7       Y\n",
       "79  1.642118e+12 1.642205e+12 2022-01-14   4.2       Y\n",
       "80  1.642205e+12 1.642291e+12 2022-01-15   0.4       Y\n",
       "81  1.642291e+12 1.642378e+12 2022-01-16   2.8       Y\n",
       "82  1.642378e+12 1.642464e+12 2022-01-17   1.3       Y\n",
       "83  1.642464e+12 1.642550e+12 2022-01-18   0.7       Y\n",
       "84  1.642550e+12 1.642637e+12 2022-01-19   4.3       Y\n",
       "85  1.642637e+12 1.642723e+12 2022-01-20  -1.5       Y\n",
       "86  1.642723e+12 1.642810e+12 2022-01-21  -2.6       Y\n",
       "87  1.642810e+12 1.642896e+12 2022-01-22  -3.7       Y\n",
       "88  1.642896e+12 1.642982e+12 2022-01-23  -0.6       Y\n",
       "89  1.642982e+12 1.643069e+12 2022-01-24   3.7       Y\n",
       "90  1.643069e+12 1.643155e+12 2022-01-25   0.4       Y\n",
       "91  1.643155e+12 1.643242e+12 2022-01-26   2.1       Y\n",
       "92  1.643242e+12 1.643328e+12 2022-01-27   2.4       Y\n",
       "93  1.643328e+12 1.643414e+12 2022-01-28   0.8       Y\n",
       "94  1.643414e+12 1.643501e+12 2022-01-29   3.5       Y\n",
       "95  1.643501e+12 1.643587e+12 2022-01-30   0.2       Y\n",
       "96  1.643587e+12 1.643674e+12 2022-01-31  -2.5       Y\n",
       "97  1.643674e+12 1.643760e+12 2022-02-01  -4.6       Y\n",
       "98  1.643760e+12 1.643846e+12 2022-02-02  -4.9       Y\n",
       "99  1.643846e+12 1.643933e+12 2022-02-03  -3.1       Y\n",
       "100 1.643933e+12 1.644019e+12 2022-02-04   2.7       Y\n",
       "101 1.644019e+12 1.644106e+12 2022-02-05   1.5       Y\n",
       "102 1.644106e+12 1.644192e+12 2022-02-06   2.4       Y\n",
       "103 1.644192e+12 1.644278e+12 2022-02-07  -0.2       Y\n",
       "104 1.644278e+12 1.644365e+12 2022-02-08   2.2       Y\n",
       "105 1.644365e+12 1.644451e+12 2022-02-09   3.3       Y\n",
       "106 1.644451e+12 1.644538e+12 2022-02-10   2.9       Y\n",
       "107 1.644538e+12 1.644624e+12 2022-02-11  -0.5       Y\n",
       "108 1.644624e+12 1.644710e+12 2022-02-12   1.5       Y\n",
       "109 1.644710e+12 1.644797e+12 2022-02-13   2.9       Y\n",
       "110 1.644797e+12 1.644883e+12 2022-02-14   2.8       Y\n",
       "111 1.644883e+12 1.644970e+12 2022-02-15   4.2       Y\n",
       "112 1.644970e+12 1.645056e+12 2022-02-16   2.8       Y\n",
       "113 1.645056e+12 1.645142e+12 2022-02-17   1.0       Y\n",
       "114 1.645142e+12 1.645229e+12 2022-02-18   1.3       Y\n",
       "115 1.645229e+12 1.645315e+12 2022-02-19   0.1       Y\n",
       "116 1.645315e+12 1.645402e+12 2022-02-20  -1.5       Y\n",
       "117 1.645402e+12 1.645488e+12 2022-02-21   0.2       Y\n",
       "118 1.645488e+12 1.645574e+12 2022-02-22  -3.4       Y\n",
       "119 1.645574e+12 1.645661e+12 2022-02-23  -1.1       Y\n",
       "120 1.645661e+12 1.645747e+12 2022-02-24   3.6       Y\n",
       "121 1.645747e+12 1.645834e+12 2022-02-25   2.1       Y\n",
       "122 1.645834e+12 1.645920e+12 2022-02-26   0.3       Y\n",
       "123 1.645920e+12 1.646006e+12 2022-02-27   3.2       Y\n",
       "124 1.646006e+12 1.646093e+12 2022-02-28   1.4       Y\n",
       "125 1.646093e+12 1.646179e+12 2022-03-01   3.2       Y\n",
       "126 1.646179e+12 1.646266e+12 2022-03-02   2.4       Y\n",
       "127 1.646266e+12 1.646352e+12 2022-03-03   1.5       Y\n",
       "128 1.646352e+12 1.646438e+12 2022-03-04   0.4       Y\n",
       "129 1.646438e+12 1.646525e+12 2022-03-05   0.5       Y\n",
       "130 1.646525e+12 1.646611e+12 2022-03-06   2.2       Y\n",
       "\n",
       "$updated\n",
       "[1] 1.646611e+12\n",
       "\n",
       "$parameter\n",
       "$parameter$key\n",
       "[1] \"2\"\n",
       "\n",
       "$parameter$name\n",
       "[1] \"Lufttemperatur\"\n",
       "\n",
       "$parameter$summary\n",
       "[1] \"medelvärde 1 dygn, 1 gang/dygn, kl 00\"\n",
       "\n",
       "$parameter$unit\n",
       "[1] \"degree celsius\"\n",
       "\n",
       "\n",
       "$station\n",
       "$station$key\n",
       "[1] \"98210\"\n",
       "\n",
       "$station$name\n",
       "[1] \"Stockholm-Observatoriekullen\"\n",
       "\n",
       "$station$owner\n",
       "[1] \"SMHI\"\n",
       "\n",
       "$station$ownerCategory\n",
       "[1] \"SMHI\"\n",
       "\n",
       "$station$height\n",
       "[1] 2\n",
       "\n",
       "\n",
       "$period\n",
       "$period$key\n",
       "[1] \"latest-months\"\n",
       "\n",
       "$period$from\n",
       "[1] 1.635379e+12\n",
       "\n",
       "$period$to\n",
       "[1] 1.646647e+12\n",
       "\n",
       "$period$summary\n",
       "[1] \"Data fran senaste fyra manaderna\"\n",
       "\n",
       "$period$sampling\n",
       "[1] \"24 timmar\"\n",
       "\n",
       "\n",
       "$position\n",
       "           from           to height latitude longitude\n",
       "1 -3.502829e+12 1.646647e+12 43.133  59.3417   18.0549\n"
      ]
     },
     "metadata": {},
     "output_type": "display_data"
    }
   ],
   "source": [
    "url = \"https://opendata-download-metobs.smhi.se/api/version/1.0/parameter/2/station/98210/period/latest-months/data.json\"\n",
    "dane = fromJSON(url)\n",
    "head(dane)"
   ]
  },
  {
   "cell_type": "code",
   "execution_count": 41,
   "metadata": {},
   "outputs": [
    {
     "data": {
      "text/html": [
       "<strong>$names</strong> = <ol class=list-inline>\n",
       "\t<li>'value'</li>\n",
       "\t<li>'updated'</li>\n",
       "\t<li>'parameter'</li>\n",
       "\t<li>'station'</li>\n",
       "\t<li>'period'</li>\n",
       "\t<li>'position'</li>\n",
       "\t<li>'link'</li>\n",
       "</ol>\n"
      ],
      "text/latex": [
       "\\textbf{\\$names} = \\begin{enumerate*}\n",
       "\\item 'value'\n",
       "\\item 'updated'\n",
       "\\item 'parameter'\n",
       "\\item 'station'\n",
       "\\item 'period'\n",
       "\\item 'position'\n",
       "\\item 'link'\n",
       "\\end{enumerate*}\n"
      ],
      "text/markdown": [
       "**$names** = 1. 'value'\n",
       "2. 'updated'\n",
       "3. 'parameter'\n",
       "4. 'station'\n",
       "5. 'period'\n",
       "6. 'position'\n",
       "7. 'link'\n",
       "\n",
       "\n"
      ],
      "text/plain": [
       "$names\n",
       "[1] \"value\"     \"updated\"   \"parameter\" \"station\"   \"period\"    \"position\" \n",
       "[7] \"link\"     \n"
      ]
     },
     "metadata": {},
     "output_type": "display_data"
    }
   ],
   "source": [
    "attributes(dane) #atrybuty"
   ]
  },
  {
   "cell_type": "markdown",
   "metadata": {},
   "source": [
    "<h4> R i HTML"
   ]
  },
  {
   "cell_type": "code",
   "execution_count": 89,
   "metadata": {},
   "outputs": [],
   "source": [
    "library(rvest)"
   ]
  },
  {
   "cell_type": "code",
   "execution_count": 43,
   "metadata": {},
   "outputs": [
    {
     "data": {
      "text/plain": [
       "{xml_nodeset (3)}\n",
       "[1] <table border=\"1\" cellpadding=\"3\" cellspacing=\"0\" style=\"border: 1px gray ...\n",
       "[2] <table border=\"1\" cellpadding=\"3\" cellspacing=\"0\" style=\"border: 1px gray ...\n",
       "[3] <table border=\"1\" cellpadding=\"3\" cellspacing=\"0\" style=\"border: 1px gray ..."
      ]
     },
     "metadata": {},
     "output_type": "display_data"
    }
   ],
   "source": [
    "url = \"https://pl.wikipedia.org/wiki/Ludno%C5%9B%C4%87_%C5%9Bwiata\"\n",
    "wiki = read_html(url)\n",
    "tabele = html_nodes(wiki, \"table\") #pobiera wszystkie tabele\n",
    "tabele"
   ]
  },
  {
   "cell_type": "code",
   "execution_count": 44,
   "metadata": {},
   "outputs": [
    {
     "data": {
      "text/html": [
       "<table>\n",
       "<thead><tr><th scope=col></th><th scope=col>Europa</th><th scope=col>Azja</th><th scope=col>Ameryka Północna</th><th scope=col>Ameryka Łacińska</th><th scope=col>Afryka</th><th scope=col>Oceania</th><th scope=col>Świat</th></tr></thead>\n",
       "<tbody>\n",
       "\t<tr><td>Rok                </td><td>Ludność w milionach</td><td>Ludność w milionach</td><td>Ludność w milionach</td><td>Ludność w milionach</td><td>Ludność w milionach</td><td>Ludność w milionach</td><td>Ludność w milionach</td></tr>\n",
       "\t<tr><td>2012               </td><td>726                </td><td>4192               </td><td>402                </td><td>620                </td><td>1039               </td><td>38                 </td><td>7022               </td></tr>\n",
       "\t<tr><td>2011               </td><td>735                </td><td>4154               </td><td>389                </td><td>605                </td><td>1015               </td><td>36                 </td><td>6945               </td></tr>\n",
       "\t<tr><td>2008               </td><td>730                </td><td>4085               </td><td>337                </td><td>577                </td><td>973                </td><td>34                 </td><td>6736               </td></tr>\n",
       "\t<tr><td>2007               </td><td>731                </td><td>4042               </td><td>330                </td><td>572                </td><td>965                </td><td>34                 </td><td>6658               </td></tr>\n",
       "\t<tr><td>2005               </td><td>731                </td><td>3938               </td><td>332                </td><td>558                </td><td>922                </td><td>33                 </td><td>6515               </td></tr>\n",
       "</tbody>\n",
       "</table>\n"
      ],
      "text/latex": [
       "\\begin{tabular}{r|llllllll}\n",
       "  & Europa & Azja & Ameryka Północna & Ameryka Łacińska & Afryka & Oceania & Świat\\\\\n",
       "\\hline\n",
       "\t Rok                 & Ludność w milionach & Ludność w milionach & Ludność w milionach & Ludność w milionach & Ludność w milionach & Ludność w milionach & Ludność w milionach\\\\\n",
       "\t 2012                & 726                 & 4192                & 402                 & 620                 & 1039                & 38                  & 7022               \\\\\n",
       "\t 2011                & 735                 & 4154                & 389                 & 605                 & 1015                & 36                  & 6945               \\\\\n",
       "\t 2008                & 730                 & 4085                & 337                 & 577                 & 973                 & 34                  & 6736               \\\\\n",
       "\t 2007                & 731                 & 4042                & 330                 & 572                 & 965                 & 34                  & 6658               \\\\\n",
       "\t 2005                & 731                 & 3938                & 332                 & 558                 & 922                 & 33                  & 6515               \\\\\n",
       "\\end{tabular}\n"
      ],
      "text/markdown": [
       "\n",
       "|  | Europa | Azja | Ameryka Północna | Ameryka Łacińska | Afryka | Oceania | Świat |\n",
       "|---|---|---|---|---|---|---|---|\n",
       "| Rok                 | Ludność w milionach | Ludność w milionach | Ludność w milionach | Ludność w milionach | Ludność w milionach | Ludność w milionach | Ludność w milionach |\n",
       "| 2012                | 726                 | 4192                | 402                 | 620                 | 1039                | 38                  | 7022                |\n",
       "| 2011                | 735                 | 4154                | 389                 | 605                 | 1015                | 36                  | 6945                |\n",
       "| 2008                | 730                 | 4085                | 337                 | 577                 | 973                 | 34                  | 6736                |\n",
       "| 2007                | 731                 | 4042                | 330                 | 572                 | 965                 | 34                  | 6658                |\n",
       "| 2005                | 731                 | 3938                | 332                 | 558                 | 922                 | 33                  | 6515                |\n",
       "\n"
      ],
      "text/plain": [
       "       Europa              Azja                Ameryka Północna   \n",
       "1 Rok  Ludność w milionach Ludność w milionach Ludność w milionach\n",
       "2 2012 726                 4192                402                \n",
       "3 2011 735                 4154                389                \n",
       "4 2008 730                 4085                337                \n",
       "5 2007 731                 4042                330                \n",
       "6 2005 731                 3938                332                \n",
       "  Ameryka Łacińska    Afryka              Oceania            \n",
       "1 Ludność w milionach Ludność w milionach Ludność w milionach\n",
       "2 620                 1039                38                 \n",
       "3 605                 1015                36                 \n",
       "4 577                 973                 34                 \n",
       "5 572                 965                 34                 \n",
       "6 558                 922                 33                 \n",
       "  Świat              \n",
       "1 Ludność w milionach\n",
       "2 7022               \n",
       "3 6945               \n",
       "4 6736               \n",
       "5 6658               \n",
       "6 6515               "
      ]
     },
     "metadata": {},
     "output_type": "display_data"
    }
   ],
   "source": [
    "tabela3 = html_table(tabele[[3]], fill = TRUE)\n",
    "head(tabela3)"
   ]
  },
  {
   "cell_type": "markdown",
   "metadata": {},
   "source": [
    "<h4> Użyteczne metody "
   ]
  },
  {
   "cell_type": "code",
   "execution_count": 45,
   "metadata": {},
   "outputs": [
    {
     "name": "stdout",
     "output_type": "stream",
     "text": [
      "  c1 c2\n",
      "1  1 -2\n",
      "2  2 -2\n",
      "3  2 -3\n",
      "4  3 -4\n",
      "5  4  8\n"
     ]
    }
   ],
   "source": [
    "dane = data.frame(c1 = c(1,2,2,3,4), c2 = c(-2,-2,-3,-4,8))\n",
    "print(dane)"
   ]
  },
  {
   "cell_type": "code",
   "execution_count": 46,
   "metadata": {},
   "outputs": [
    {
     "name": "stdout",
     "output_type": "stream",
     "text": [
      "  c1   c2 \n",
      " 2.4 -0.6 \n"
     ]
    }
   ],
   "source": [
    "print(apply(dane, 2, mean)) #srednie kolumn, inne funkcje:  sd, var, min, min, max, median, range, quantile, IQR"
   ]
  },
  {
   "cell_type": "code",
   "execution_count": 47,
   "metadata": {},
   "outputs": [
    {
     "name": "stdout",
     "output_type": "stream",
     "text": [
      "[1] -0.5  0.0 -0.5 -0.5  6.0\n"
     ]
    }
   ],
   "source": [
    "print(apply(dane, 1, mean)) #srednie dla wierszy"
   ]
  },
  {
   "cell_type": "code",
   "execution_count": 48,
   "metadata": {},
   "outputs": [
    {
     "name": "stdout",
     "output_type": "stream",
     "text": [
      "$c1\n",
      "[1] 2.4\n",
      "\n",
      "$c2\n",
      "[1] -0.6\n",
      "\n"
     ]
    }
   ],
   "source": [
    "print(lapply(dane, mean)) #lapply - podobna do apply ale moze byc zastowana dla szerszej klasy obiektow (typow)"
   ]
  },
  {
   "cell_type": "code",
   "execution_count": 49,
   "metadata": {},
   "outputs": [
    {
     "name": "stdout",
     "output_type": "stream",
     "text": [
      "$c1\n",
      "[1] 5 6 6 7 8\n",
      "\n",
      "$c2\n",
      "[1]  2  2  1  0 12\n",
      "\n"
     ]
    }
   ],
   "source": [
    "print(lapply(dane, function(x){x+4}))"
   ]
  },
  {
   "cell_type": "code",
   "execution_count": 50,
   "metadata": {},
   "outputs": [
    {
     "name": "stdout",
     "output_type": "stream",
     "text": [
      "[[1]]\n",
      "[1] -1\n",
      "\n",
      "[[2]]\n",
      "[1] 0\n",
      "\n",
      "[[3]]\n",
      "[1] -1\n",
      "\n",
      "[[4]]\n",
      "[1] -1\n",
      "\n",
      "[[5]]\n",
      "[1] 12\n",
      "\n"
     ]
    }
   ],
   "source": [
    "print(lapply(1:5, function(x){sum(dane[x,])})) #sumuje kolejne wartosci w wierszach dane"
   ]
  },
  {
   "cell_type": "code",
   "execution_count": 51,
   "metadata": {},
   "outputs": [
    {
     "name": "stdout",
     "output_type": "stream",
     "text": [
      "[1] -1  0 -1 -1 12\n"
     ]
    }
   ],
   "source": [
    "print(sapply(1:5, function(x){sum(dane[x,])})) #w zasadzie dziala jak lappply ale próbuje zwrocic wynik w jak najprosztej postaci, domyslnie wektorze"
   ]
  },
  {
   "cell_type": "code",
   "execution_count": 52,
   "metadata": {},
   "outputs": [
    {
     "name": "stdout",
     "output_type": "stream",
     "text": [
      "[[1]]\n",
      "[1] -1\n",
      "\n",
      "[[2]]\n",
      "[1] 0\n",
      "\n",
      "[[3]]\n",
      "[1] -1\n",
      "\n",
      "[[4]]\n",
      "[1] -1\n",
      "\n",
      "[[5]]\n",
      "[1] 12\n",
      "\n"
     ]
    }
   ],
   "source": [
    "print(sapply(1:5, function(x){sum(dane[x,])}, simplify = FALSE)) #gdy simplify jest FALSE w zasadzie jest tozsama z lapply"
   ]
  },
  {
   "cell_type": "markdown",
   "metadata": {},
   "source": [
    "<h4> dplyr i tidyr"
   ]
  },
  {
   "cell_type": "code",
   "execution_count": 5,
   "metadata": {},
   "outputs": [],
   "source": [
    "help(package = dplyr) #opis pakietu"
   ]
  },
  {
   "cell_type": "code",
   "execution_count": 87,
   "metadata": {},
   "outputs": [],
   "source": [
    "library(dplyr) #jezeli nie mamy to install.packages(\"dplyr\")\n",
    "library(tidyr) # --||--"
   ]
  },
  {
   "cell_type": "code",
   "execution_count": 90,
   "metadata": {},
   "outputs": [
    {
     "data": {
      "text/html": [
       "<table>\n",
       "<thead><tr><th scope=col>Ozone</th><th scope=col>Solar.R</th><th scope=col>Wind</th><th scope=col>Temp</th><th scope=col>Month</th><th scope=col>Day</th></tr></thead>\n",
       "<tbody>\n",
       "\t<tr><td>41  </td><td>190 </td><td> 7.4</td><td>67  </td><td>5   </td><td>1   </td></tr>\n",
       "\t<tr><td>36  </td><td>118 </td><td> 8.0</td><td>72  </td><td>5   </td><td>2   </td></tr>\n",
       "\t<tr><td>12  </td><td>149 </td><td>12.6</td><td>74  </td><td>5   </td><td>3   </td></tr>\n",
       "\t<tr><td>18  </td><td>313 </td><td>11.5</td><td>62  </td><td>5   </td><td>4   </td></tr>\n",
       "\t<tr><td>NA  </td><td> NA </td><td>14.3</td><td>56  </td><td>5   </td><td>5   </td></tr>\n",
       "\t<tr><td>28  </td><td> NA </td><td>14.9</td><td>66  </td><td>5   </td><td>6   </td></tr>\n",
       "</tbody>\n",
       "</table>\n"
      ],
      "text/latex": [
       "\\begin{tabular}{r|llllll}\n",
       " Ozone & Solar.R & Wind & Temp & Month & Day\\\\\n",
       "\\hline\n",
       "\t 41   & 190  &  7.4 & 67   & 5    & 1   \\\\\n",
       "\t 36   & 118  &  8.0 & 72   & 5    & 2   \\\\\n",
       "\t 12   & 149  & 12.6 & 74   & 5    & 3   \\\\\n",
       "\t 18   & 313  & 11.5 & 62   & 5    & 4   \\\\\n",
       "\t NA   &  NA  & 14.3 & 56   & 5    & 5   \\\\\n",
       "\t 28   &  NA  & 14.9 & 66   & 5    & 6   \\\\\n",
       "\\end{tabular}\n"
      ],
      "text/markdown": [
       "\n",
       "| Ozone | Solar.R | Wind | Temp | Month | Day |\n",
       "|---|---|---|---|---|---|\n",
       "| 41   | 190  |  7.4 | 67   | 5    | 1    |\n",
       "| 36   | 118  |  8.0 | 72   | 5    | 2    |\n",
       "| 12   | 149  | 12.6 | 74   | 5    | 3    |\n",
       "| 18   | 313  | 11.5 | 62   | 5    | 4    |\n",
       "| NA   |  NA  | 14.3 | 56   | 5    | 5    |\n",
       "| 28   |  NA  | 14.9 | 66   | 5    | 6    |\n",
       "\n"
      ],
      "text/plain": [
       "  Ozone Solar.R Wind Temp Month Day\n",
       "1 41    190      7.4 67   5     1  \n",
       "2 36    118      8.0 72   5     2  \n",
       "3 12    149     12.6 74   5     3  \n",
       "4 18    313     11.5 62   5     4  \n",
       "5 NA     NA     14.3 56   5     5  \n",
       "6 28     NA     14.9 66   5     6  "
      ]
     },
     "metadata": {},
     "output_type": "display_data"
    },
    {
     "data": {
      "text/html": [
       "<ol class=list-inline>\n",
       "\t<li>153</li>\n",
       "\t<li>6</li>\n",
       "</ol>\n"
      ],
      "text/latex": [
       "\\begin{enumerate*}\n",
       "\\item 153\n",
       "\\item 6\n",
       "\\end{enumerate*}\n"
      ],
      "text/markdown": [
       "1. 153\n",
       "2. 6\n",
       "\n",
       "\n"
      ],
      "text/plain": [
       "[1] 153   6"
      ]
     },
     "metadata": {},
     "output_type": "display_data"
    }
   ],
   "source": [
    "aq = airquality\n",
    "head(aq); dim(aq)"
   ]
  },
  {
   "cell_type": "code",
   "execution_count": 56,
   "metadata": {},
   "outputs": [
    {
     "data": {
      "image/png": "[encoded data removed]",
      "text/plain": [
       "plot without title"
      ]
     },
     "metadata": {},
     "output_type": "display_data"
    }
   ],
   "source": [
    "options(repr.plot.width=4, repr.plot.height=4)\n",
    "boxplot(aq) #wykresy pudelkowe dla kazdej kolumny"
   ]
  },
  {
   "cell_type": "markdown",
   "metadata": {},
   "source": [
    "Kawałkowanie (Slicing)"
   ]
  },
  {
   "cell_type": "code",
   "execution_count": 91,
   "metadata": {},
   "outputs": [
    {
     "data": {
      "text/html": [
       "<table>\n",
       "<thead><tr><th scope=col>Ozone</th><th scope=col>Solar.R</th><th scope=col>Wind</th><th scope=col>Temp</th><th scope=col>Month</th><th scope=col>Day</th></tr></thead>\n",
       "<tbody>\n",
       "\t<tr><td>36 </td><td>118</td><td>8  </td><td>72 </td><td>5  </td><td>2  </td></tr>\n",
       "</tbody>\n",
       "</table>\n"
      ],
      "text/latex": [
       "\\begin{tabular}{r|llllll}\n",
       " Ozone & Solar.R & Wind & Temp & Month & Day\\\\\n",
       "\\hline\n",
       "\t 36  & 118 & 8   & 72  & 5   & 2  \\\\\n",
       "\\end{tabular}\n"
      ],
      "text/markdown": [
       "\n",
       "| Ozone | Solar.R | Wind | Temp | Month | Day |\n",
       "|---|---|---|---|---|---|\n",
       "| 36  | 118 | 8   | 72  | 5   | 2   |\n",
       "\n"
      ],
      "text/plain": [
       "  Ozone Solar.R Wind Temp Month Day\n",
       "1 36    118     8    72   5     2  "
      ]
     },
     "metadata": {},
     "output_type": "display_data"
    }
   ],
   "source": [
    "aq %>% slice(2) #ten sam efekt co aq[2, ]"
   ]
  },
  {
   "cell_type": "code",
   "execution_count": 92,
   "metadata": {},
   "outputs": [
    {
     "data": {
      "text/html": [
       "<table>\n",
       "<thead><tr><th scope=col>Ozone</th><th scope=col>Solar.R</th><th scope=col>Wind</th><th scope=col>Temp</th><th scope=col>Month</th><th scope=col>Day</th></tr></thead>\n",
       "<tbody>\n",
       "\t<tr><td>12  </td><td>149 </td><td>12.6</td><td>74  </td><td>5   </td><td>3   </td></tr>\n",
       "\t<tr><td>18  </td><td>313 </td><td>11.5</td><td>62  </td><td>5   </td><td>4   </td></tr>\n",
       "\t<tr><td>NA  </td><td> NA </td><td>14.3</td><td>56  </td><td>5   </td><td>5   </td></tr>\n",
       "</tbody>\n",
       "</table>\n"
      ],
      "text/latex": [
       "\\begin{tabular}{r|llllll}\n",
       " Ozone & Solar.R & Wind & Temp & Month & Day\\\\\n",
       "\\hline\n",
       "\t 12   & 149  & 12.6 & 74   & 5    & 3   \\\\\n",
       "\t 18   & 313  & 11.5 & 62   & 5    & 4   \\\\\n",
       "\t NA   &  NA  & 14.3 & 56   & 5    & 5   \\\\\n",
       "\\end{tabular}\n"
      ],
      "text/markdown": [
       "\n",
       "| Ozone | Solar.R | Wind | Temp | Month | Day |\n",
       "|---|---|---|---|---|---|\n",
       "| 12   | 149  | 12.6 | 74   | 5    | 3    |\n",
       "| 18   | 313  | 11.5 | 62   | 5    | 4    |\n",
       "| NA   |  NA  | 14.3 | 56   | 5    | 5    |\n",
       "\n"
      ],
      "text/plain": [
       "  Ozone Solar.R Wind Temp Month Day\n",
       "1 12    149     12.6 74   5     3  \n",
       "2 18    313     11.5 62   5     4  \n",
       "3 NA     NA     14.3 56   5     5  "
      ]
     },
     "metadata": {},
     "output_type": "display_data"
    }
   ],
   "source": [
    "aq %>% slice(3:5) #ten sam efekt co aq[3:5,]"
   ]
  },
  {
   "cell_type": "code",
   "execution_count": 59,
   "metadata": {},
   "outputs": [
    {
     "data": {
      "text/html": [
       "<table>\n",
       "<thead><tr><th scope=col>Ozone</th><th scope=col>Solar.R</th><th scope=col>Wind</th><th scope=col>Temp</th><th scope=col>Month</th><th scope=col>Day</th></tr></thead>\n",
       "<tbody>\n",
       "\t<tr><td>12  </td><td>149 </td><td>12.6</td><td>74  </td><td>5   </td><td> 3  </td></tr>\n",
       "\t<tr><td>23  </td><td>299 </td><td> 8.6</td><td>65  </td><td>5   </td><td> 7  </td></tr>\n",
       "\t<tr><td>18  </td><td> 65 </td><td>13.2</td><td>58  </td><td>5   </td><td>15  </td></tr>\n",
       "</tbody>\n",
       "</table>\n"
      ],
      "text/latex": [
       "\\begin{tabular}{r|llllll}\n",
       " Ozone & Solar.R & Wind & Temp & Month & Day\\\\\n",
       "\\hline\n",
       "\t 12   & 149  & 12.6 & 74   & 5    &  3  \\\\\n",
       "\t 23   & 299  &  8.6 & 65   & 5    &  7  \\\\\n",
       "\t 18   &  65  & 13.2 & 58   & 5    & 15  \\\\\n",
       "\\end{tabular}\n"
      ],
      "text/markdown": [
       "\n",
       "| Ozone | Solar.R | Wind | Temp | Month | Day |\n",
       "|---|---|---|---|---|---|\n",
       "| 12   | 149  | 12.6 | 74   | 5    |  3   |\n",
       "| 23   | 299  |  8.6 | 65   | 5    |  7   |\n",
       "| 18   |  65  | 13.2 | 58   | 5    | 15   |\n",
       "\n"
      ],
      "text/plain": [
       "  Ozone Solar.R Wind Temp Month Day\n",
       "1 12    149     12.6 74   5      3 \n",
       "2 23    299      8.6 65   5      7 \n",
       "3 18     65     13.2 58   5     15 "
      ]
     },
     "metadata": {},
     "output_type": "display_data"
    }
   ],
   "source": [
    "aq %>% slice(c(3, 7, 15)) #ten sam efekt co aq[c(3,7,15),]"
   ]
  },
  {
   "cell_type": "code",
   "execution_count": 60,
   "metadata": {},
   "outputs": [
    {
     "data": {
      "text/html": [
       "<table>\n",
       "<thead><tr><th scope=col>Ozone</th><th scope=col>Solar.R</th><th scope=col>Wind</th><th scope=col>Temp</th><th scope=col>Month</th><th scope=col>Day</th></tr></thead>\n",
       "<tbody>\n",
       "\t<tr><td>41  </td><td>190 </td><td> 7.4</td><td>67  </td><td>5   </td><td>1   </td></tr>\n",
       "\t<tr><td>36  </td><td>118 </td><td> 8.0</td><td>72  </td><td>5   </td><td>2   </td></tr>\n",
       "\t<tr><td>18  </td><td>313 </td><td>11.5</td><td>62  </td><td>5   </td><td>4   </td></tr>\n",
       "\t<tr><td>NA  </td><td> NA </td><td>14.3</td><td>56  </td><td>5   </td><td>5   </td></tr>\n",
       "\t<tr><td>28  </td><td> NA </td><td>14.9</td><td>66  </td><td>5   </td><td>6   </td></tr>\n",
       "\t<tr><td>19  </td><td> 99 </td><td>13.8</td><td>59  </td><td>5   </td><td>8   </td></tr>\n",
       "</tbody>\n",
       "</table>\n"
      ],
      "text/latex": [
       "\\begin{tabular}{r|llllll}\n",
       " Ozone & Solar.R & Wind & Temp & Month & Day\\\\\n",
       "\\hline\n",
       "\t 41   & 190  &  7.4 & 67   & 5    & 1   \\\\\n",
       "\t 36   & 118  &  8.0 & 72   & 5    & 2   \\\\\n",
       "\t 18   & 313  & 11.5 & 62   & 5    & 4   \\\\\n",
       "\t NA   &  NA  & 14.3 & 56   & 5    & 5   \\\\\n",
       "\t 28   &  NA  & 14.9 & 66   & 5    & 6   \\\\\n",
       "\t 19   &  99  & 13.8 & 59   & 5    & 8   \\\\\n",
       "\\end{tabular}\n"
      ],
      "text/markdown": [
       "\n",
       "| Ozone | Solar.R | Wind | Temp | Month | Day |\n",
       "|---|---|---|---|---|---|\n",
       "| 41   | 190  |  7.4 | 67   | 5    | 1    |\n",
       "| 36   | 118  |  8.0 | 72   | 5    | 2    |\n",
       "| 18   | 313  | 11.5 | 62   | 5    | 4    |\n",
       "| NA   |  NA  | 14.3 | 56   | 5    | 5    |\n",
       "| 28   |  NA  | 14.9 | 66   | 5    | 6    |\n",
       "| 19   |  99  | 13.8 | 59   | 5    | 8    |\n",
       "\n"
      ],
      "text/plain": [
       "  Ozone Solar.R Wind Temp Month Day\n",
       "1 41    190      7.4 67   5     1  \n",
       "2 36    118      8.0 72   5     2  \n",
       "3 18    313     11.5 62   5     4  \n",
       "4 NA     NA     14.3 56   5     5  \n",
       "5 28     NA     14.9 66   5     6  \n",
       "6 19     99     13.8 59   5     8  "
      ]
     },
     "metadata": {},
     "output_type": "display_data"
    }
   ],
   "source": [
    "head(aq %>% slice(-c(3, 7, 15))) #wszystko z wyjątkiem 3, 7 i 15 wiersza; inaczej aq[-c(3, 7, 15),]"
   ]
  },
  {
   "cell_type": "markdown",
   "metadata": {},
   "source": [
    "Filtrowanie"
   ]
  },
  {
   "cell_type": "code",
   "execution_count": 61,
   "metadata": {},
   "outputs": [
    {
     "data": {
      "text/html": [
       "<table>\n",
       "<thead><tr><th scope=col>Ozone</th><th scope=col>Solar.R</th><th scope=col>Wind</th><th scope=col>Temp</th><th scope=col>Month</th><th scope=col>Day</th></tr></thead>\n",
       "<tbody>\n",
       "\t<tr><td>NA  </td><td>259 </td><td>10.9</td><td>93  </td><td>6   </td><td>11  </td></tr>\n",
       "\t<tr><td>NA  </td><td>250 </td><td> 9.2</td><td>92  </td><td>6   </td><td>12  </td></tr>\n",
       "\t<tr><td>97  </td><td>267 </td><td> 6.3</td><td>92  </td><td>7   </td><td> 8  </td></tr>\n",
       "\t<tr><td>97  </td><td>272 </td><td> 5.7</td><td>92  </td><td>7   </td><td> 9  </td></tr>\n",
       "\t<tr><td>NA  </td><td>291 </td><td>14.9</td><td>91  </td><td>7   </td><td>14  </td></tr>\n",
       "\t<tr><td>NA  </td><td>222 </td><td> 8.6</td><td>92  </td><td>8   </td><td>10  </td></tr>\n",
       "</tbody>\n",
       "</table>\n"
      ],
      "text/latex": [
       "\\begin{tabular}{r|llllll}\n",
       " Ozone & Solar.R & Wind & Temp & Month & Day\\\\\n",
       "\\hline\n",
       "\t NA   & 259  & 10.9 & 93   & 6    & 11  \\\\\n",
       "\t NA   & 250  &  9.2 & 92   & 6    & 12  \\\\\n",
       "\t 97   & 267  &  6.3 & 92   & 7    &  8  \\\\\n",
       "\t 97   & 272  &  5.7 & 92   & 7    &  9  \\\\\n",
       "\t NA   & 291  & 14.9 & 91   & 7    & 14  \\\\\n",
       "\t NA   & 222  &  8.6 & 92   & 8    & 10  \\\\\n",
       "\\end{tabular}\n"
      ],
      "text/markdown": [
       "\n",
       "| Ozone | Solar.R | Wind | Temp | Month | Day |\n",
       "|---|---|---|---|---|---|\n",
       "| NA   | 259  | 10.9 | 93   | 6    | 11   |\n",
       "| NA   | 250  |  9.2 | 92   | 6    | 12   |\n",
       "| 97   | 267  |  6.3 | 92   | 7    |  8   |\n",
       "| 97   | 272  |  5.7 | 92   | 7    |  9   |\n",
       "| NA   | 291  | 14.9 | 91   | 7    | 14   |\n",
       "| NA   | 222  |  8.6 | 92   | 8    | 10   |\n",
       "\n"
      ],
      "text/plain": [
       "  Ozone Solar.R Wind Temp Month Day\n",
       "1 NA    259     10.9 93   6     11 \n",
       "2 NA    250      9.2 92   6     12 \n",
       "3 97    267      6.3 92   7      8 \n",
       "4 97    272      5.7 92   7      9 \n",
       "5 NA    291     14.9 91   7     14 \n",
       "6 NA    222      8.6 92   8     10 "
      ]
     },
     "metadata": {},
     "output_type": "display_data"
    }
   ],
   "source": [
    "head(aq %>% filter(Temp > 90)) #ten sam efekt co aq[aq$Temp > 90,]; mozna tez uzywac wyrazen regularnych tpu dane %>% filter(grepl(\"B[a-z]\",nazwa_kolumny)) - rekordy zaczynajace sie od B"
   ]
  },
  {
   "cell_type": "code",
   "execution_count": 62,
   "metadata": {},
   "outputs": [
    {
     "data": {
      "text/html": [
       "<table>\n",
       "<thead><tr><th scope=col>Ozone</th><th scope=col>Solar.R</th><th scope=col>Wind</th><th scope=col>Temp</th><th scope=col>Month</th><th scope=col>Day</th></tr></thead>\n",
       "<tbody>\n",
       "\t<tr><td>NA  </td><td>259 </td><td>10.9</td><td>93  </td><td>6   </td><td>11  </td></tr>\n",
       "\t<tr><td>NA  </td><td>250 </td><td> 9.2</td><td>92  </td><td>6   </td><td>12  </td></tr>\n",
       "</tbody>\n",
       "</table>\n"
      ],
      "text/latex": [
       "\\begin{tabular}{r|llllll}\n",
       " Ozone & Solar.R & Wind & Temp & Month & Day\\\\\n",
       "\\hline\n",
       "\t NA   & 259  & 10.9 & 93   & 6    & 11  \\\\\n",
       "\t NA   & 250  &  9.2 & 92   & 6    & 12  \\\\\n",
       "\\end{tabular}\n"
      ],
      "text/markdown": [
       "\n",
       "| Ozone | Solar.R | Wind | Temp | Month | Day |\n",
       "|---|---|---|---|---|---|\n",
       "| NA   | 259  | 10.9 | 93   | 6    | 11   |\n",
       "| NA   | 250  |  9.2 | 92   | 6    | 12   |\n",
       "\n"
      ],
      "text/plain": [
       "  Ozone Solar.R Wind Temp Month Day\n",
       "1 NA    259     10.9 93   6     11 \n",
       "2 NA    250      9.2 92   6     12 "
      ]
     },
     "metadata": {},
     "output_type": "display_data"
    }
   ],
   "source": [
    "aq %>% filter(Temp > 90, Month == 6) #ten sam efekt co aq[aq$Temp > 90 & aq$Month == 6,]"
   ]
  },
  {
   "cell_type": "code",
   "execution_count": 63,
   "metadata": {},
   "outputs": [
    {
     "data": {
      "text/html": [
       "<table>\n",
       "<thead><tr><th scope=col>Ozone</th><th scope=col>Solar.R</th><th scope=col>Wind</th><th scope=col>Temp</th><th scope=col>Month</th><th scope=col>Day</th></tr></thead>\n",
       "<tbody>\n",
       "\t<tr><td>45  </td><td>252 </td><td>14.9</td><td>81  </td><td>5   </td><td>29  </td></tr>\n",
       "\t<tr><td>NA  </td><td>186 </td><td> 9.2</td><td>84  </td><td>6   </td><td> 4  </td></tr>\n",
       "\t<tr><td>NA  </td><td>220 </td><td> 8.6</td><td>85  </td><td>6   </td><td> 5  </td></tr>\n",
       "\t<tr><td>29  </td><td>127 </td><td> 9.7</td><td>82  </td><td>6   </td><td> 7  </td></tr>\n",
       "\t<tr><td>NA  </td><td>273 </td><td> 6.9</td><td>87  </td><td>6   </td><td> 8  </td></tr>\n",
       "\t<tr><td>71  </td><td>291 </td><td>13.8</td><td>90  </td><td>6   </td><td> 9  </td></tr>\n",
       "</tbody>\n",
       "</table>\n"
      ],
      "text/latex": [
       "\\begin{tabular}{r|llllll}\n",
       " Ozone & Solar.R & Wind & Temp & Month & Day\\\\\n",
       "\\hline\n",
       "\t 45   & 252  & 14.9 & 81   & 5    & 29  \\\\\n",
       "\t NA   & 186  &  9.2 & 84   & 6    &  4  \\\\\n",
       "\t NA   & 220  &  8.6 & 85   & 6    &  5  \\\\\n",
       "\t 29   & 127  &  9.7 & 82   & 6    &  7  \\\\\n",
       "\t NA   & 273  &  6.9 & 87   & 6    &  8  \\\\\n",
       "\t 71   & 291  & 13.8 & 90   & 6    &  9  \\\\\n",
       "\\end{tabular}\n"
      ],
      "text/markdown": [
       "\n",
       "| Ozone | Solar.R | Wind | Temp | Month | Day |\n",
       "|---|---|---|---|---|---|\n",
       "| 45   | 252  | 14.9 | 81   | 5    | 29   |\n",
       "| NA   | 186  |  9.2 | 84   | 6    |  4   |\n",
       "| NA   | 220  |  8.6 | 85   | 6    |  5   |\n",
       "| 29   | 127  |  9.7 | 82   | 6    |  7   |\n",
       "| NA   | 273  |  6.9 | 87   | 6    |  8   |\n",
       "| 71   | 291  | 13.8 | 90   | 6    |  9   |\n",
       "\n"
      ],
      "text/plain": [
       "  Ozone Solar.R Wind Temp Month Day\n",
       "1 45    252     14.9 81   5     29 \n",
       "2 NA    186      9.2 84   6      4 \n",
       "3 NA    220      8.6 85   6      5 \n",
       "4 29    127      9.7 82   6      7 \n",
       "5 NA    273      6.9 87   6      8 \n",
       "6 71    291     13.8 90   6      9 "
      ]
     },
     "metadata": {},
     "output_type": "display_data"
    }
   ],
   "source": [
    "head(aq %>% filter(between(Temp, 80, 90)))"
   ]
  },
  {
   "cell_type": "markdown",
   "metadata": {},
   "source": [
    "Mutowanie"
   ]
  },
  {
   "cell_type": "code",
   "execution_count": 64,
   "metadata": {},
   "outputs": [
    {
     "data": {
      "text/html": [
       "<table>\n",
       "<thead><tr><th scope=col>Ozone</th><th scope=col>Solar.R</th><th scope=col>Wind</th><th scope=col>Temp</th><th scope=col>Month</th><th scope=col>Day</th></tr></thead>\n",
       "<tbody>\n",
       "\t<tr><td>41  </td><td>190 </td><td>14.8</td><td>67  </td><td>5   </td><td>1   </td></tr>\n",
       "\t<tr><td>36  </td><td>118 </td><td>16.0</td><td>72  </td><td>5   </td><td>2   </td></tr>\n",
       "\t<tr><td>12  </td><td>149 </td><td>25.2</td><td>74  </td><td>5   </td><td>3   </td></tr>\n",
       "\t<tr><td>18  </td><td>313 </td><td>23.0</td><td>62  </td><td>5   </td><td>4   </td></tr>\n",
       "\t<tr><td>NA  </td><td> NA </td><td>28.6</td><td>56  </td><td>5   </td><td>5   </td></tr>\n",
       "\t<tr><td>28  </td><td> NA </td><td>29.8</td><td>66  </td><td>5   </td><td>6   </td></tr>\n",
       "</tbody>\n",
       "</table>\n"
      ],
      "text/latex": [
       "\\begin{tabular}{r|llllll}\n",
       " Ozone & Solar.R & Wind & Temp & Month & Day\\\\\n",
       "\\hline\n",
       "\t 41   & 190  & 14.8 & 67   & 5    & 1   \\\\\n",
       "\t 36   & 118  & 16.0 & 72   & 5    & 2   \\\\\n",
       "\t 12   & 149  & 25.2 & 74   & 5    & 3   \\\\\n",
       "\t 18   & 313  & 23.0 & 62   & 5    & 4   \\\\\n",
       "\t NA   &  NA  & 28.6 & 56   & 5    & 5   \\\\\n",
       "\t 28   &  NA  & 29.8 & 66   & 5    & 6   \\\\\n",
       "\\end{tabular}\n"
      ],
      "text/markdown": [
       "\n",
       "| Ozone | Solar.R | Wind | Temp | Month | Day |\n",
       "|---|---|---|---|---|---|\n",
       "| 41   | 190  | 14.8 | 67   | 5    | 1    |\n",
       "| 36   | 118  | 16.0 | 72   | 5    | 2    |\n",
       "| 12   | 149  | 25.2 | 74   | 5    | 3    |\n",
       "| 18   | 313  | 23.0 | 62   | 5    | 4    |\n",
       "| NA   |  NA  | 28.6 | 56   | 5    | 5    |\n",
       "| 28   |  NA  | 29.8 | 66   | 5    | 6    |\n",
       "\n"
      ],
      "text/plain": [
       "  Ozone Solar.R Wind Temp Month Day\n",
       "1 41    190     14.8 67   5     1  \n",
       "2 36    118     16.0 72   5     2  \n",
       "3 12    149     25.2 74   5     3  \n",
       "4 18    313     23.0 62   5     4  \n",
       "5 NA     NA     28.6 56   5     5  \n",
       "6 28     NA     29.8 66   5     6  "
      ]
     },
     "metadata": {},
     "output_type": "display_data"
    }
   ],
   "source": [
    "aq %>% mutate(Wind = Wind * 2) -> aq #mozna zmieniac istniejącą juz kolumne\n",
    "head(aq)"
   ]
  },
  {
   "cell_type": "code",
   "execution_count": 65,
   "metadata": {},
   "outputs": [
    {
     "data": {
      "text/html": [
       "<table>\n",
       "<thead><tr><th scope=col>Ozone</th><th scope=col>Solar.R</th><th scope=col>Wind</th><th scope=col>Temp</th><th scope=col>Month</th><th scope=col>Day</th><th scope=col>double_temp</th></tr></thead>\n",
       "<tbody>\n",
       "\t<tr><td>41  </td><td>190 </td><td>14.8</td><td>67  </td><td>5   </td><td>1   </td><td>134 </td></tr>\n",
       "\t<tr><td>36  </td><td>118 </td><td>16.0</td><td>72  </td><td>5   </td><td>2   </td><td>144 </td></tr>\n",
       "\t<tr><td>12  </td><td>149 </td><td>25.2</td><td>74  </td><td>5   </td><td>3   </td><td>148 </td></tr>\n",
       "\t<tr><td>18  </td><td>313 </td><td>23.0</td><td>62  </td><td>5   </td><td>4   </td><td>124 </td></tr>\n",
       "\t<tr><td>NA  </td><td> NA </td><td>28.6</td><td>56  </td><td>5   </td><td>5   </td><td>112 </td></tr>\n",
       "\t<tr><td>28  </td><td> NA </td><td>29.8</td><td>66  </td><td>5   </td><td>6   </td><td>132 </td></tr>\n",
       "</tbody>\n",
       "</table>\n"
      ],
      "text/latex": [
       "\\begin{tabular}{r|lllllll}\n",
       " Ozone & Solar.R & Wind & Temp & Month & Day & double\\_temp\\\\\n",
       "\\hline\n",
       "\t 41   & 190  & 14.8 & 67   & 5    & 1    & 134 \\\\\n",
       "\t 36   & 118  & 16.0 & 72   & 5    & 2    & 144 \\\\\n",
       "\t 12   & 149  & 25.2 & 74   & 5    & 3    & 148 \\\\\n",
       "\t 18   & 313  & 23.0 & 62   & 5    & 4    & 124 \\\\\n",
       "\t NA   &  NA  & 28.6 & 56   & 5    & 5    & 112 \\\\\n",
       "\t 28   &  NA  & 29.8 & 66   & 5    & 6    & 132 \\\\\n",
       "\\end{tabular}\n"
      ],
      "text/markdown": [
       "\n",
       "| Ozone | Solar.R | Wind | Temp | Month | Day | double_temp |\n",
       "|---|---|---|---|---|---|---|\n",
       "| 41   | 190  | 14.8 | 67   | 5    | 1    | 134  |\n",
       "| 36   | 118  | 16.0 | 72   | 5    | 2    | 144  |\n",
       "| 12   | 149  | 25.2 | 74   | 5    | 3    | 148  |\n",
       "| 18   | 313  | 23.0 | 62   | 5    | 4    | 124  |\n",
       "| NA   |  NA  | 28.6 | 56   | 5    | 5    | 112  |\n",
       "| 28   |  NA  | 29.8 | 66   | 5    | 6    | 132  |\n",
       "\n"
      ],
      "text/plain": [
       "  Ozone Solar.R Wind Temp Month Day double_temp\n",
       "1 41    190     14.8 67   5     1   134        \n",
       "2 36    118     16.0 72   5     2   144        \n",
       "3 12    149     25.2 74   5     3   148        \n",
       "4 18    313     23.0 62   5     4   124        \n",
       "5 NA     NA     28.6 56   5     5   112        \n",
       "6 28     NA     29.8 66   5     6   132        "
      ]
     },
     "metadata": {},
     "output_type": "display_data"
    }
   ],
   "source": [
    "aq %>% mutate(double_temp = Temp*2) -> aq #dodaje nową kolumne na podstawie juz istniejących\n",
    "head(aq)"
   ]
  },
  {
   "cell_type": "code",
   "execution_count": 66,
   "metadata": {},
   "outputs": [
    {
     "data": {
      "text/html": [
       "<table>\n",
       "<thead><tr><th scope=col>Ozone</th><th scope=col>Solar.R</th><th scope=col>Wind</th><th scope=col>Temp</th><th scope=col>Month</th><th scope=col>Day</th><th scope=col>double_temp</th><th scope=col>Hot</th></tr></thead>\n",
       "<tbody>\n",
       "\t<tr><td>41   </td><td>190  </td><td>14.8 </td><td>67   </td><td>5    </td><td>1    </td><td>134  </td><td>FALSE</td></tr>\n",
       "\t<tr><td>36   </td><td>118  </td><td>16.0 </td><td>72   </td><td>5    </td><td>2    </td><td>144  </td><td>FALSE</td></tr>\n",
       "\t<tr><td>12   </td><td>149  </td><td>25.2 </td><td>74   </td><td>5    </td><td>3    </td><td>148  </td><td>FALSE</td></tr>\n",
       "\t<tr><td>18   </td><td>313  </td><td>23.0 </td><td>62   </td><td>5    </td><td>4    </td><td>124  </td><td>FALSE</td></tr>\n",
       "\t<tr><td>NA   </td><td> NA  </td><td>28.6 </td><td>56   </td><td>5    </td><td>5    </td><td>112  </td><td>FALSE</td></tr>\n",
       "\t<tr><td>28   </td><td> NA  </td><td>29.8 </td><td>66   </td><td>5    </td><td>6    </td><td>132  </td><td>FALSE</td></tr>\n",
       "</tbody>\n",
       "</table>\n"
      ],
      "text/latex": [
       "\\begin{tabular}{r|llllllll}\n",
       " Ozone & Solar.R & Wind & Temp & Month & Day & double\\_temp & Hot\\\\\n",
       "\\hline\n",
       "\t 41    & 190   & 14.8  & 67    & 5     & 1     & 134   & FALSE\\\\\n",
       "\t 36    & 118   & 16.0  & 72    & 5     & 2     & 144   & FALSE\\\\\n",
       "\t 12    & 149   & 25.2  & 74    & 5     & 3     & 148   & FALSE\\\\\n",
       "\t 18    & 313   & 23.0  & 62    & 5     & 4     & 124   & FALSE\\\\\n",
       "\t NA    &  NA   & 28.6  & 56    & 5     & 5     & 112   & FALSE\\\\\n",
       "\t 28    &  NA   & 29.8  & 66    & 5     & 6     & 132   & FALSE\\\\\n",
       "\\end{tabular}\n"
      ],
      "text/markdown": [
       "\n",
       "| Ozone | Solar.R | Wind | Temp | Month | Day | double_temp | Hot |\n",
       "|---|---|---|---|---|---|---|---|\n",
       "| 41    | 190   | 14.8  | 67    | 5     | 1     | 134   | FALSE |\n",
       "| 36    | 118   | 16.0  | 72    | 5     | 2     | 144   | FALSE |\n",
       "| 12    | 149   | 25.2  | 74    | 5     | 3     | 148   | FALSE |\n",
       "| 18    | 313   | 23.0  | 62    | 5     | 4     | 124   | FALSE |\n",
       "| NA    |  NA   | 28.6  | 56    | 5     | 5     | 112   | FALSE |\n",
       "| 28    |  NA   | 29.8  | 66    | 5     | 6     | 132   | FALSE |\n",
       "\n"
      ],
      "text/plain": [
       "  Ozone Solar.R Wind Temp Month Day double_temp Hot  \n",
       "1 41    190     14.8 67   5     1   134         FALSE\n",
       "2 36    118     16.0 72   5     2   144         FALSE\n",
       "3 12    149     25.2 74   5     3   148         FALSE\n",
       "4 18    313     23.0 62   5     4   124         FALSE\n",
       "5 NA     NA     28.6 56   5     5   112         FALSE\n",
       "6 28     NA     29.8 66   5     6   132         FALSE"
      ]
     },
     "metadata": {},
     "output_type": "display_data"
    }
   ],
   "source": [
    "aq %>% mutate(Hot = Temp > 90) -> aq #nowa kolumna z wartosciami TRUE/FALSE\n",
    "head(aq)"
   ]
  },
  {
   "cell_type": "markdown",
   "metadata": {},
   "source": [
    "Select"
   ]
  },
  {
   "cell_type": "code",
   "execution_count": 67,
   "metadata": {},
   "outputs": [
    {
     "data": {
      "text/html": [
       "<table>\n",
       "<thead><tr><th scope=col>Ozone</th><th scope=col>Wind</th></tr></thead>\n",
       "<tbody>\n",
       "\t<tr><td>41  </td><td>14.8</td></tr>\n",
       "\t<tr><td>36  </td><td>16.0</td></tr>\n",
       "\t<tr><td>12  </td><td>25.2</td></tr>\n",
       "\t<tr><td>18  </td><td>23.0</td></tr>\n",
       "\t<tr><td>NA  </td><td>28.6</td></tr>\n",
       "\t<tr><td>28  </td><td>29.8</td></tr>\n",
       "</tbody>\n",
       "</table>\n"
      ],
      "text/latex": [
       "\\begin{tabular}{r|ll}\n",
       " Ozone & Wind\\\\\n",
       "\\hline\n",
       "\t 41   & 14.8\\\\\n",
       "\t 36   & 16.0\\\\\n",
       "\t 12   & 25.2\\\\\n",
       "\t 18   & 23.0\\\\\n",
       "\t NA   & 28.6\\\\\n",
       "\t 28   & 29.8\\\\\n",
       "\\end{tabular}\n"
      ],
      "text/markdown": [
       "\n",
       "| Ozone | Wind |\n",
       "|---|---|\n",
       "| 41   | 14.8 |\n",
       "| 36   | 16.0 |\n",
       "| 12   | 25.2 |\n",
       "| 18   | 23.0 |\n",
       "| NA   | 28.6 |\n",
       "| 28   | 29.8 |\n",
       "\n"
      ],
      "text/plain": [
       "  Ozone Wind\n",
       "1 41    14.8\n",
       "2 36    16.0\n",
       "3 12    25.2\n",
       "4 18    23.0\n",
       "5 NA    28.6\n",
       "6 28    29.8"
      ]
     },
     "metadata": {},
     "output_type": "display_data"
    }
   ],
   "source": [
    "head(aq %>% select(Ozone, Wind)) #wybieranie kolumn"
   ]
  },
  {
   "cell_type": "code",
   "execution_count": 68,
   "metadata": {},
   "outputs": [
    {
     "data": {
      "text/html": [
       "<table>\n",
       "<thead><tr><th scope=col>Ozone</th><th scope=col>Wind</th><th scope=col>Month</th></tr></thead>\n",
       "<tbody>\n",
       "\t<tr><td>41  </td><td>14.8</td><td>5   </td></tr>\n",
       "\t<tr><td>36  </td><td>16.0</td><td>5   </td></tr>\n",
       "\t<tr><td>12  </td><td>25.2</td><td>5   </td></tr>\n",
       "\t<tr><td>18  </td><td>23.0</td><td>5   </td></tr>\n",
       "\t<tr><td>NA  </td><td>28.6</td><td>5   </td></tr>\n",
       "\t<tr><td>28  </td><td>29.8</td><td>5   </td></tr>\n",
       "</tbody>\n",
       "</table>\n"
      ],
      "text/latex": [
       "\\begin{tabular}{r|lll}\n",
       " Ozone & Wind & Month\\\\\n",
       "\\hline\n",
       "\t 41   & 14.8 & 5   \\\\\n",
       "\t 36   & 16.0 & 5   \\\\\n",
       "\t 12   & 25.2 & 5   \\\\\n",
       "\t 18   & 23.0 & 5   \\\\\n",
       "\t NA   & 28.6 & 5   \\\\\n",
       "\t 28   & 29.8 & 5   \\\\\n",
       "\\end{tabular}\n"
      ],
      "text/markdown": [
       "\n",
       "| Ozone | Wind | Month |\n",
       "|---|---|---|\n",
       "| 41   | 14.8 | 5    |\n",
       "| 36   | 16.0 | 5    |\n",
       "| 12   | 25.2 | 5    |\n",
       "| 18   | 23.0 | 5    |\n",
       "| NA   | 28.6 | 5    |\n",
       "| 28   | 29.8 | 5    |\n",
       "\n"
      ],
      "text/plain": [
       "  Ozone Wind Month\n",
       "1 41    14.8 5    \n",
       "2 36    16.0 5    \n",
       "3 12    25.2 5    \n",
       "4 18    23.0 5    \n",
       "5 NA    28.6 5    \n",
       "6 28    29.8 5    "
      ]
     },
     "metadata": {},
     "output_type": "display_data"
    }
   ],
   "source": [
    "head(aq %>% select(contains(\"n\"))) #te kolumny ktore zawierają n"
   ]
  },
  {
   "cell_type": "code",
   "execution_count": 69,
   "metadata": {},
   "outputs": [
    {
     "data": {
      "text/html": [
       "<table>\n",
       "<thead><tr><th scope=col>Ozone</th><th scope=col>Solar.R</th><th scope=col>Wind</th><th scope=col>Temp</th><th scope=col>Month</th><th scope=col>Day</th><th scope=col>double_temp</th><th scope=col>Hot</th></tr></thead>\n",
       "<tbody>\n",
       "\t<tr><td>16   </td><td> 7   </td><td>13.8 </td><td>74   </td><td>7    </td><td>21   </td><td>148  </td><td>FALSE</td></tr>\n",
       "\t<tr><td> 1   </td><td> 8   </td><td>19.4 </td><td>59   </td><td>5    </td><td>21   </td><td>118  </td><td>FALSE</td></tr>\n",
       "\t<tr><td>23   </td><td>13   </td><td>24.0 </td><td>67   </td><td>5    </td><td>28   </td><td>134  </td><td>FALSE</td></tr>\n",
       "\t<tr><td>23   </td><td>14   </td><td>18.4 </td><td>71   </td><td>9    </td><td>22   </td><td>142  </td><td>FALSE</td></tr>\n",
       "\t<tr><td> 8   </td><td>19   </td><td>40.2 </td><td>61   </td><td>5    </td><td> 9   </td><td>122  </td><td>FALSE</td></tr>\n",
       "\t<tr><td>14   </td><td>20   </td><td>33.2 </td><td>63   </td><td>9    </td><td>25   </td><td>126  </td><td>FALSE</td></tr>\n",
       "</tbody>\n",
       "</table>\n"
      ],
      "text/latex": [
       "\\begin{tabular}{r|llllllll}\n",
       " Ozone & Solar.R & Wind & Temp & Month & Day & double\\_temp & Hot\\\\\n",
       "\\hline\n",
       "\t 16    &  7    & 13.8  & 74    & 7     & 21    & 148   & FALSE\\\\\n",
       "\t  1    &  8    & 19.4  & 59    & 5     & 21    & 118   & FALSE\\\\\n",
       "\t 23    & 13    & 24.0  & 67    & 5     & 28    & 134   & FALSE\\\\\n",
       "\t 23    & 14    & 18.4  & 71    & 9     & 22    & 142   & FALSE\\\\\n",
       "\t  8    & 19    & 40.2  & 61    & 5     &  9    & 122   & FALSE\\\\\n",
       "\t 14    & 20    & 33.2  & 63    & 9     & 25    & 126   & FALSE\\\\\n",
       "\\end{tabular}\n"
      ],
      "text/markdown": [
       "\n",
       "| Ozone | Solar.R | Wind | Temp | Month | Day | double_temp | Hot |\n",
       "|---|---|---|---|---|---|---|---|\n",
       "| 16    |  7    | 13.8  | 74    | 7     | 21    | 148   | FALSE |\n",
       "|  1    |  8    | 19.4  | 59    | 5     | 21    | 118   | FALSE |\n",
       "| 23    | 13    | 24.0  | 67    | 5     | 28    | 134   | FALSE |\n",
       "| 23    | 14    | 18.4  | 71    | 9     | 22    | 142   | FALSE |\n",
       "|  8    | 19    | 40.2  | 61    | 5     |  9    | 122   | FALSE |\n",
       "| 14    | 20    | 33.2  | 63    | 9     | 25    | 126   | FALSE |\n",
       "\n"
      ],
      "text/plain": [
       "  Ozone Solar.R Wind Temp Month Day double_temp Hot  \n",
       "1 16     7      13.8 74   7     21  148         FALSE\n",
       "2  1     8      19.4 59   5     21  118         FALSE\n",
       "3 23    13      24.0 67   5     28  134         FALSE\n",
       "4 23    14      18.4 71   9     22  142         FALSE\n",
       "5  8    19      40.2 61   5      9  122         FALSE\n",
       "6 14    20      33.2 63   9     25  126         FALSE"
      ]
     },
     "metadata": {},
     "output_type": "display_data"
    }
   ],
   "source": [
    "head(aq %>% arrange(Solar.R)) #sortuje wiersze wg cechy; jezeli w odwrotnej kolejnosci to arrange(desc(cecha))"
   ]
  },
  {
   "cell_type": "code",
   "execution_count": 70,
   "metadata": {},
   "outputs": [
    {
     "data": {
      "text/html": [
       "<table>\n",
       "<thead><tr><th scope=col>Ozone</th><th scope=col>Solar.R</th><th scope=col>Wind</th><th scope=col>Temp</th><th scope=col>Month</th><th scope=col>Day</th><th scope=col>double_temp</th></tr></thead>\n",
       "<tbody>\n",
       "\t<tr><td>41  </td><td>190 </td><td>14.8</td><td>67  </td><td>5   </td><td>1   </td><td>134 </td></tr>\n",
       "\t<tr><td>36  </td><td>118 </td><td>16.0</td><td>72  </td><td>5   </td><td>2   </td><td>144 </td></tr>\n",
       "\t<tr><td>12  </td><td>149 </td><td>25.2</td><td>74  </td><td>5   </td><td>3   </td><td>148 </td></tr>\n",
       "\t<tr><td>18  </td><td>313 </td><td>23.0</td><td>62  </td><td>5   </td><td>4   </td><td>124 </td></tr>\n",
       "\t<tr><td>NA  </td><td> NA </td><td>28.6</td><td>56  </td><td>5   </td><td>5   </td><td>112 </td></tr>\n",
       "\t<tr><td>28  </td><td> NA </td><td>29.8</td><td>66  </td><td>5   </td><td>6   </td><td>132 </td></tr>\n",
       "</tbody>\n",
       "</table>\n"
      ],
      "text/latex": [
       "\\begin{tabular}{r|lllllll}\n",
       " Ozone & Solar.R & Wind & Temp & Month & Day & double\\_temp\\\\\n",
       "\\hline\n",
       "\t 41   & 190  & 14.8 & 67   & 5    & 1    & 134 \\\\\n",
       "\t 36   & 118  & 16.0 & 72   & 5    & 2    & 144 \\\\\n",
       "\t 12   & 149  & 25.2 & 74   & 5    & 3    & 148 \\\\\n",
       "\t 18   & 313  & 23.0 & 62   & 5    & 4    & 124 \\\\\n",
       "\t NA   &  NA  & 28.6 & 56   & 5    & 5    & 112 \\\\\n",
       "\t 28   &  NA  & 29.8 & 66   & 5    & 6    & 132 \\\\\n",
       "\\end{tabular}\n"
      ],
      "text/markdown": [
       "\n",
       "| Ozone | Solar.R | Wind | Temp | Month | Day | double_temp |\n",
       "|---|---|---|---|---|---|---|\n",
       "| 41   | 190  | 14.8 | 67   | 5    | 1    | 134  |\n",
       "| 36   | 118  | 16.0 | 72   | 5    | 2    | 144  |\n",
       "| 12   | 149  | 25.2 | 74   | 5    | 3    | 148  |\n",
       "| 18   | 313  | 23.0 | 62   | 5    | 4    | 124  |\n",
       "| NA   |  NA  | 28.6 | 56   | 5    | 5    | 112  |\n",
       "| 28   |  NA  | 29.8 | 66   | 5    | 6    | 132  |\n",
       "\n"
      ],
      "text/plain": [
       "  Ozone Solar.R Wind Temp Month Day double_temp\n",
       "1 41    190     14.8 67   5     1   134        \n",
       "2 36    118     16.0 72   5     2   144        \n",
       "3 12    149     25.2 74   5     3   148        \n",
       "4 18    313     23.0 62   5     4   124        \n",
       "5 NA     NA     28.6 56   5     5   112        \n",
       "6 28     NA     29.8 66   5     6   132        "
      ]
     },
     "metadata": {},
     "output_type": "display_data"
    }
   ],
   "source": [
    "aq %>% select(-Hot) -> aq #bez HOT\n",
    "head(aq)"
   ]
  },
  {
   "cell_type": "code",
   "execution_count": 71,
   "metadata": {},
   "outputs": [
    {
     "data": {
      "text/html": [
       "<table>\n",
       "<thead><tr><th scope=col>Ozone</th><th scope=col>Solar.R</th><th scope=col>Temp</th><th scope=col>Month</th><th scope=col>double_temp</th></tr></thead>\n",
       "<tbody>\n",
       "\t<tr><td>41 </td><td>190</td><td>67 </td><td>5  </td><td>134</td></tr>\n",
       "\t<tr><td>36 </td><td>118</td><td>72 </td><td>5  </td><td>144</td></tr>\n",
       "\t<tr><td>12 </td><td>149</td><td>74 </td><td>5  </td><td>148</td></tr>\n",
       "\t<tr><td>18 </td><td>313</td><td>62 </td><td>5  </td><td>124</td></tr>\n",
       "\t<tr><td>NA </td><td> NA</td><td>56 </td><td>5  </td><td>112</td></tr>\n",
       "\t<tr><td>28 </td><td> NA</td><td>66 </td><td>5  </td><td>132</td></tr>\n",
       "</tbody>\n",
       "</table>\n"
      ],
      "text/latex": [
       "\\begin{tabular}{r|lllll}\n",
       " Ozone & Solar.R & Temp & Month & double\\_temp\\\\\n",
       "\\hline\n",
       "\t 41  & 190 & 67  & 5   & 134\\\\\n",
       "\t 36  & 118 & 72  & 5   & 144\\\\\n",
       "\t 12  & 149 & 74  & 5   & 148\\\\\n",
       "\t 18  & 313 & 62  & 5   & 124\\\\\n",
       "\t NA  &  NA & 56  & 5   & 112\\\\\n",
       "\t 28  &  NA & 66  & 5   & 132\\\\\n",
       "\\end{tabular}\n"
      ],
      "text/markdown": [
       "\n",
       "| Ozone | Solar.R | Temp | Month | double_temp |\n",
       "|---|---|---|---|---|\n",
       "| 41  | 190 | 67  | 5   | 134 |\n",
       "| 36  | 118 | 72  | 5   | 144 |\n",
       "| 12  | 149 | 74  | 5   | 148 |\n",
       "| 18  | 313 | 62  | 5   | 124 |\n",
       "| NA  |  NA | 56  | 5   | 112 |\n",
       "| 28  |  NA | 66  | 5   | 132 |\n",
       "\n"
      ],
      "text/plain": [
       "  Ozone Solar.R Temp Month double_temp\n",
       "1 41    190     67   5     134        \n",
       "2 36    118     72   5     144        \n",
       "3 12    149     74   5     148        \n",
       "4 18    313     62   5     124        \n",
       "5 NA     NA     56   5     112        \n",
       "6 28     NA     66   5     132        "
      ]
     },
     "metadata": {},
     "output_type": "display_data"
    }
   ],
   "source": [
    "aq %>% select(-Wind, -Day) -> aq #bez 2 kolumn\n",
    "head(aq)"
   ]
  },
  {
   "cell_type": "markdown",
   "metadata": {},
   "source": [
    "Inne"
   ]
  },
  {
   "cell_type": "code",
   "execution_count": 72,
   "metadata": {},
   "outputs": [
    {
     "data": {
      "text/html": [
       "<table>\n",
       "<thead><tr><th scope=col>O3</th><th scope=col>Solar.R</th><th scope=col>Temp</th><th scope=col>Month</th><th scope=col>double_temp</th></tr></thead>\n",
       "<tbody>\n",
       "\t<tr><td>41 </td><td>190</td><td>67 </td><td>5  </td><td>134</td></tr>\n",
       "\t<tr><td>36 </td><td>118</td><td>72 </td><td>5  </td><td>144</td></tr>\n",
       "\t<tr><td>12 </td><td>149</td><td>74 </td><td>5  </td><td>148</td></tr>\n",
       "\t<tr><td>18 </td><td>313</td><td>62 </td><td>5  </td><td>124</td></tr>\n",
       "\t<tr><td>NA </td><td> NA</td><td>56 </td><td>5  </td><td>112</td></tr>\n",
       "\t<tr><td>28 </td><td> NA</td><td>66 </td><td>5  </td><td>132</td></tr>\n",
       "</tbody>\n",
       "</table>\n"
      ],
      "text/latex": [
       "\\begin{tabular}{r|lllll}\n",
       " O3 & Solar.R & Temp & Month & double\\_temp\\\\\n",
       "\\hline\n",
       "\t 41  & 190 & 67  & 5   & 134\\\\\n",
       "\t 36  & 118 & 72  & 5   & 144\\\\\n",
       "\t 12  & 149 & 74  & 5   & 148\\\\\n",
       "\t 18  & 313 & 62  & 5   & 124\\\\\n",
       "\t NA  &  NA & 56  & 5   & 112\\\\\n",
       "\t 28  &  NA & 66  & 5   & 132\\\\\n",
       "\\end{tabular}\n"
      ],
      "text/markdown": [
       "\n",
       "| O3 | Solar.R | Temp | Month | double_temp |\n",
       "|---|---|---|---|---|\n",
       "| 41  | 190 | 67  | 5   | 134 |\n",
       "| 36  | 118 | 72  | 5   | 144 |\n",
       "| 12  | 149 | 74  | 5   | 148 |\n",
       "| 18  | 313 | 62  | 5   | 124 |\n",
       "| NA  |  NA | 56  | 5   | 112 |\n",
       "| 28  |  NA | 66  | 5   | 132 |\n",
       "\n"
      ],
      "text/plain": [
       "  O3 Solar.R Temp Month double_temp\n",
       "1 41 190     67   5     134        \n",
       "2 36 118     72   5     144        \n",
       "3 12 149     74   5     148        \n",
       "4 18 313     62   5     124        \n",
       "5 NA  NA     56   5     112        \n",
       "6 28  NA     66   5     132        "
      ]
     },
     "metadata": {},
     "output_type": "display_data"
    }
   ],
   "source": [
    "aq %>% rename(O3 = Ozone) -> aq #zmiana nazwy, mozna tez za pomocą setnames(aq, \"Ozone\", \"O\")\n",
    "head(aq)"
   ]
  },
  {
   "cell_type": "code",
   "execution_count": 73,
   "metadata": {},
   "outputs": [
    {
     "data": {
      "text/html": [
       "<table>\n",
       "<thead><tr><th scope=col>O3</th><th scope=col>Solar.R</th><th scope=col>Temp</th><th scope=col>Month</th><th scope=col>double_temp</th></tr></thead>\n",
       "<tbody>\n",
       "\t<tr><td> NA</td><td>259</td><td>93 </td><td>6  </td><td>186</td></tr>\n",
       "\t<tr><td> 76</td><td>203</td><td>97 </td><td>8  </td><td>194</td></tr>\n",
       "\t<tr><td>118</td><td>225</td><td>94 </td><td>8  </td><td>188</td></tr>\n",
       "\t<tr><td> 84</td><td>237</td><td>96 </td><td>8  </td><td>192</td></tr>\n",
       "\t<tr><td> 85</td><td>188</td><td>94 </td><td>8  </td><td>188</td></tr>\n",
       "\t<tr><td> 73</td><td>183</td><td>93 </td><td>9  </td><td>186</td></tr>\n",
       "\t<tr><td> 91</td><td>189</td><td>93 </td><td>9  </td><td>186</td></tr>\n",
       "</tbody>\n",
       "</table>\n"
      ],
      "text/latex": [
       "\\begin{tabular}{r|lllll}\n",
       " O3 & Solar.R & Temp & Month & double\\_temp\\\\\n",
       "\\hline\n",
       "\t  NA & 259 & 93  & 6   & 186\\\\\n",
       "\t  76 & 203 & 97  & 8   & 194\\\\\n",
       "\t 118 & 225 & 94  & 8   & 188\\\\\n",
       "\t  84 & 237 & 96  & 8   & 192\\\\\n",
       "\t  85 & 188 & 94  & 8   & 188\\\\\n",
       "\t  73 & 183 & 93  & 9   & 186\\\\\n",
       "\t  91 & 189 & 93  & 9   & 186\\\\\n",
       "\\end{tabular}\n"
      ],
      "text/markdown": [
       "\n",
       "| O3 | Solar.R | Temp | Month | double_temp |\n",
       "|---|---|---|---|---|\n",
       "|  NA | 259 | 93  | 6   | 186 |\n",
       "|  76 | 203 | 97  | 8   | 194 |\n",
       "| 118 | 225 | 94  | 8   | 188 |\n",
       "|  84 | 237 | 96  | 8   | 192 |\n",
       "|  85 | 188 | 94  | 8   | 188 |\n",
       "|  73 | 183 | 93  | 9   | 186 |\n",
       "|  91 | 189 | 93  | 9   | 186 |\n",
       "\n"
      ],
      "text/plain": [
       "  O3  Solar.R Temp Month double_temp\n",
       "1  NA 259     93   6     186        \n",
       "2  76 203     97   8     194        \n",
       "3 118 225     94   8     188        \n",
       "4  84 237     96   8     192        \n",
       "5  85 188     94   8     188        \n",
       "6  73 183     93   9     186        \n",
       "7  91 189     93   9     186        "
      ]
     },
     "metadata": {},
     "output_type": "display_data"
    }
   ],
   "source": [
    "aq %>% top_n(5, Temp) #5 Top temperatur, wiecej rekordow bo kilka z tymi samymi temperaturami"
   ]
  },
  {
   "cell_type": "code",
   "execution_count": 74,
   "metadata": {},
   "outputs": [
    {
     "data": {
      "text/html": [
       "<table>\n",
       "<thead><tr><th scope=col>O3</th><th scope=col>Solar.R</th><th scope=col>Temp</th><th scope=col>Month</th><th scope=col>double_temp</th></tr></thead>\n",
       "<tbody>\n",
       "\t<tr><td>135</td><td>269</td><td>84 </td><td>7  </td><td>168</td></tr>\n",
       "\t<tr><td> 73</td><td>183</td><td>93 </td><td>9  </td><td>186</td></tr>\n",
       "\t<tr><td> NA</td><td>101</td><td>84 </td><td>7  </td><td>168</td></tr>\n",
       "\t<tr><td> 23</td><td> 14</td><td>71 </td><td>9  </td><td>142</td></tr>\n",
       "\t<tr><td>  6</td><td> 78</td><td>57 </td><td>5  </td><td>114</td></tr>\n",
       "</tbody>\n",
       "</table>\n"
      ],
      "text/latex": [
       "\\begin{tabular}{r|lllll}\n",
       " O3 & Solar.R & Temp & Month & double\\_temp\\\\\n",
       "\\hline\n",
       "\t 135 & 269 & 84  & 7   & 168\\\\\n",
       "\t  73 & 183 & 93  & 9   & 186\\\\\n",
       "\t  NA & 101 & 84  & 7   & 168\\\\\n",
       "\t  23 &  14 & 71  & 9   & 142\\\\\n",
       "\t   6 &  78 & 57  & 5   & 114\\\\\n",
       "\\end{tabular}\n"
      ],
      "text/markdown": [
       "\n",
       "| O3 | Solar.R | Temp | Month | double_temp |\n",
       "|---|---|---|---|---|\n",
       "| 135 | 269 | 84  | 7   | 168 |\n",
       "|  73 | 183 | 93  | 9   | 186 |\n",
       "|  NA | 101 | 84  | 7   | 168 |\n",
       "|  23 |  14 | 71  | 9   | 142 |\n",
       "|   6 |  78 | 57  | 5   | 114 |\n",
       "\n"
      ],
      "text/plain": [
       "  O3  Solar.R Temp Month double_temp\n",
       "1 135 269     84   7     168        \n",
       "2  73 183     93   9     186        \n",
       "3  NA 101     84   7     168        \n",
       "4  23  14     71   9     142        \n",
       "5   6  78     57   5     114        "
      ]
     },
     "metadata": {},
     "output_type": "display_data"
    }
   ],
   "source": [
    "aq %>% sample_n(5) #losowe 5"
   ]
  },
  {
   "cell_type": "code",
   "execution_count": 75,
   "metadata": {},
   "outputs": [
    {
     "data": {
      "text/html": [
       "<table>\n",
       "<thead><tr><th scope=col>O3</th><th scope=col>Solar.R</th><th scope=col>Temp</th><th scope=col>Month</th><th scope=col>double_temp</th></tr></thead>\n",
       "<tbody>\n",
       "\t<tr><td>41 </td><td>190</td><td>67 </td><td>5  </td><td>134</td></tr>\n",
       "\t<tr><td>36 </td><td>118</td><td>72 </td><td>5  </td><td>144</td></tr>\n",
       "\t<tr><td>12 </td><td>149</td><td>74 </td><td>5  </td><td>148</td></tr>\n",
       "\t<tr><td>18 </td><td>313</td><td>62 </td><td>5  </td><td>124</td></tr>\n",
       "\t<tr><td>NA </td><td> NA</td><td>56 </td><td>5  </td><td>112</td></tr>\n",
       "\t<tr><td>28 </td><td> NA</td><td>66 </td><td>5  </td><td>132</td></tr>\n",
       "</tbody>\n",
       "</table>\n"
      ],
      "text/latex": [
       "\\begin{tabular}{r|lllll}\n",
       " O3 & Solar.R & Temp & Month & double\\_temp\\\\\n",
       "\\hline\n",
       "\t 41  & 190 & 67  & 5   & 134\\\\\n",
       "\t 36  & 118 & 72  & 5   & 144\\\\\n",
       "\t 12  & 149 & 74  & 5   & 148\\\\\n",
       "\t 18  & 313 & 62  & 5   & 124\\\\\n",
       "\t NA  &  NA & 56  & 5   & 112\\\\\n",
       "\t 28  &  NA & 66  & 5   & 132\\\\\n",
       "\\end{tabular}\n"
      ],
      "text/markdown": [
       "\n",
       "| O3 | Solar.R | Temp | Month | double_temp |\n",
       "|---|---|---|---|---|\n",
       "| 41  | 190 | 67  | 5   | 134 |\n",
       "| 36  | 118 | 72  | 5   | 144 |\n",
       "| 12  | 149 | 74  | 5   | 148 |\n",
       "| 18  | 313 | 62  | 5   | 124 |\n",
       "| NA  |  NA | 56  | 5   | 112 |\n",
       "| 28  |  NA | 66  | 5   | 132 |\n",
       "\n"
      ],
      "text/plain": [
       "  O3 Solar.R Temp Month double_temp\n",
       "1 41 190     67   5     134        \n",
       "2 36 118     72   5     144        \n",
       "3 12 149     74   5     148        \n",
       "4 18 313     62   5     124        \n",
       "5 NA  NA     56   5     112        \n",
       "6 28  NA     66   5     132        "
      ]
     },
     "metadata": {},
     "output_type": "display_data"
    }
   ],
   "source": [
    "head(aq %>% distinct) #usuwanie replikatow, ten sam efekt co unique(aq)"
   ]
  },
  {
   "cell_type": "code",
   "execution_count": 76,
   "metadata": {},
   "outputs": [
    {
     "data": {
      "text/html": [
       "<table>\n",
       "<thead><tr><th scope=col>O3</th><th scope=col>Solar.R</th><th scope=col>Temp</th><th scope=col>Month</th><th scope=col>double_temp</th></tr></thead>\n",
       "<tbody>\n",
       "\t<tr><td>41 </td><td>190</td><td>67 </td><td>5  </td><td>134</td></tr>\n",
       "\t<tr><td>36 </td><td>118</td><td>72 </td><td>5  </td><td>144</td></tr>\n",
       "\t<tr><td>12 </td><td>149</td><td>74 </td><td>5  </td><td>148</td></tr>\n",
       "\t<tr><td>18 </td><td>313</td><td>62 </td><td>5  </td><td>124</td></tr>\n",
       "\t<tr><td>23 </td><td>299</td><td>65 </td><td>5  </td><td>130</td></tr>\n",
       "\t<tr><td>19 </td><td> 99</td><td>59 </td><td>5  </td><td>118</td></tr>\n",
       "</tbody>\n",
       "</table>\n"
      ],
      "text/latex": [
       "\\begin{tabular}{r|lllll}\n",
       " O3 & Solar.R & Temp & Month & double\\_temp\\\\\n",
       "\\hline\n",
       "\t 41  & 190 & 67  & 5   & 134\\\\\n",
       "\t 36  & 118 & 72  & 5   & 144\\\\\n",
       "\t 12  & 149 & 74  & 5   & 148\\\\\n",
       "\t 18  & 313 & 62  & 5   & 124\\\\\n",
       "\t 23  & 299 & 65  & 5   & 130\\\\\n",
       "\t 19  &  99 & 59  & 5   & 118\\\\\n",
       "\\end{tabular}\n"
      ],
      "text/markdown": [
       "\n",
       "| O3 | Solar.R | Temp | Month | double_temp |\n",
       "|---|---|---|---|---|\n",
       "| 41  | 190 | 67  | 5   | 134 |\n",
       "| 36  | 118 | 72  | 5   | 144 |\n",
       "| 12  | 149 | 74  | 5   | 148 |\n",
       "| 18  | 313 | 62  | 5   | 124 |\n",
       "| 23  | 299 | 65  | 5   | 130 |\n",
       "| 19  |  99 | 59  | 5   | 118 |\n",
       "\n"
      ],
      "text/plain": [
       "  O3 Solar.R Temp Month double_temp\n",
       "1 41 190     67   5     134        \n",
       "2 36 118     72   5     144        \n",
       "3 12 149     74   5     148        \n",
       "4 18 313     62   5     124        \n",
       "5 23 299     65   5     130        \n",
       "6 19  99     59   5     118        "
      ]
     },
     "metadata": {},
     "output_type": "display_data"
    }
   ],
   "source": [
    "head(aq %>% drop_na) #usuwa te z NA; inne rozwiazanie na.omit(aq); z tidyr"
   ]
  },
  {
   "cell_type": "code",
   "execution_count": 77,
   "metadata": {},
   "outputs": [
    {
     "data": {
      "text/html": [
       "<table>\n",
       "<thead><tr><th scope=col>Month</th><th scope=col>meanTemp</th></tr></thead>\n",
       "<tbody>\n",
       "\t<tr><td>5       </td><td>65.54839</td></tr>\n",
       "\t<tr><td>6       </td><td>79.10000</td></tr>\n",
       "\t<tr><td>7       </td><td>83.90323</td></tr>\n",
       "\t<tr><td>8       </td><td>83.96774</td></tr>\n",
       "\t<tr><td>9       </td><td>76.90000</td></tr>\n",
       "</tbody>\n",
       "</table>\n"
      ],
      "text/latex": [
       "\\begin{tabular}{r|ll}\n",
       " Month & meanTemp\\\\\n",
       "\\hline\n",
       "\t 5        & 65.54839\\\\\n",
       "\t 6        & 79.10000\\\\\n",
       "\t 7        & 83.90323\\\\\n",
       "\t 8        & 83.96774\\\\\n",
       "\t 9        & 76.90000\\\\\n",
       "\\end{tabular}\n"
      ],
      "text/markdown": [
       "\n",
       "| Month | meanTemp |\n",
       "|---|---|\n",
       "| 5        | 65.54839 |\n",
       "| 6        | 79.10000 |\n",
       "| 7        | 83.90323 |\n",
       "| 8        | 83.96774 |\n",
       "| 9        | 76.90000 |\n",
       "\n"
      ],
      "text/plain": [
       "  Month meanTemp\n",
       "1 5     65.54839\n",
       "2 6     79.10000\n",
       "3 7     83.90323\n",
       "4 8     83.96774\n",
       "5 9     76.90000"
      ]
     },
     "metadata": {},
     "output_type": "display_data"
    }
   ],
   "source": [
    "#Przetwarzanie potokowe 1\n",
    "\n",
    "aq %>% group_by(Month) %>% summarise(meanTemp = mean(Temp)) #grupowanie"
   ]
  },
  {
   "cell_type": "code",
   "execution_count": 78,
   "metadata": {},
   "outputs": [
    {
     "data": {
      "text/html": [
       "<table>\n",
       "<thead><tr><th scope=col>Month</th><th scope=col>srednia</th></tr></thead>\n",
       "<tbody>\n",
       "\t<tr><td>7       </td><td>81.71429</td></tr>\n",
       "\t<tr><td>8       </td><td>78.94118</td></tr>\n",
       "\t<tr><td>6       </td><td>76.96000</td></tr>\n",
       "\t<tr><td>9       </td><td>74.04000</td></tr>\n",
       "\t<tr><td>5       </td><td>65.54839</td></tr>\n",
       "</tbody>\n",
       "</table>\n"
      ],
      "text/latex": [
       "\\begin{tabular}{r|ll}\n",
       " Month & srednia\\\\\n",
       "\\hline\n",
       "\t 7        & 81.71429\\\\\n",
       "\t 8        & 78.94118\\\\\n",
       "\t 6        & 76.96000\\\\\n",
       "\t 9        & 74.04000\\\\\n",
       "\t 5        & 65.54839\\\\\n",
       "\\end{tabular}\n"
      ],
      "text/markdown": [
       "\n",
       "| Month | srednia |\n",
       "|---|---|\n",
       "| 7        | 81.71429 |\n",
       "| 8        | 78.94118 |\n",
       "| 6        | 76.96000 |\n",
       "| 9        | 74.04000 |\n",
       "| 5        | 65.54839 |\n",
       "\n"
      ],
      "text/plain": [
       "  Month srednia \n",
       "1 7     81.71429\n",
       "2 8     78.94118\n",
       "3 6     76.96000\n",
       "4 9     74.04000\n",
       "5 5     65.54839"
      ]
     },
     "metadata": {},
     "output_type": "display_data"
    }
   ],
   "source": [
    "#Przetwarzanie potokowe 2\n",
    "\n",
    "aq %>%\n",
    "  filter(Temp >= 50 & Temp <= 85) %>% #wybieramy te co mają temperature z tego zakresu\n",
    "  group_by(Month) %>%                 #grupujemy po miesiącach\n",
    "  summarise(srednia = mean(Temp)) %>% #liczymy srednie temperatury\n",
    "  arrange(desc(srednia))              #posortujmy te wyniki malejąco"
   ]
  },
  {
   "cell_type": "markdown",
   "metadata": {},
   "source": [
    "Długie i szerokie ramki danych"
   ]
  },
  {
   "cell_type": "code",
   "execution_count": 79,
   "metadata": {},
   "outputs": [
    {
     "name": "stderr",
     "output_type": "stream",
     "text": [
      "Warning message in read.table(\"szerokie.txt\", sep = \",\", header = TRUE):\n",
      "\"niekompletna końcowa linia znaleziona przez 'readTableHeader' w 'szerokie.txt'\""
     ]
    },
    {
     "name": "stdout",
     "output_type": "stream",
     "text": [
      "  v1 v2 v3\n",
      "1  1  2  3\n",
      "2  4  5  6\n",
      "3  7  8  9\n"
     ]
    }
   ],
   "source": [
    "szerokie_dane =  read.table(\"szerokie.txt\", sep=\",\", header = TRUE)\n",
    "print(szerokie_dane)"
   ]
  },
  {
   "cell_type": "code",
   "execution_count": 80,
   "metadata": {},
   "outputs": [
    {
     "data": {
      "text/html": [
       "<table>\n",
       "<thead><tr><th scope=col>name</th><th scope=col>value</th></tr></thead>\n",
       "<tbody>\n",
       "\t<tr><td>v1</td><td>1 </td></tr>\n",
       "\t<tr><td>v2</td><td>2 </td></tr>\n",
       "\t<tr><td>v3</td><td>3 </td></tr>\n",
       "\t<tr><td>v1</td><td>4 </td></tr>\n",
       "\t<tr><td>v2</td><td>5 </td></tr>\n",
       "\t<tr><td>v3</td><td>6 </td></tr>\n",
       "\t<tr><td>v1</td><td>7 </td></tr>\n",
       "\t<tr><td>v2</td><td>8 </td></tr>\n",
       "\t<tr><td>v3</td><td>9 </td></tr>\n",
       "</tbody>\n",
       "</table>\n"
      ],
      "text/latex": [
       "\\begin{tabular}{r|ll}\n",
       " name & value\\\\\n",
       "\\hline\n",
       "\t v1 & 1 \\\\\n",
       "\t v2 & 2 \\\\\n",
       "\t v3 & 3 \\\\\n",
       "\t v1 & 4 \\\\\n",
       "\t v2 & 5 \\\\\n",
       "\t v3 & 6 \\\\\n",
       "\t v1 & 7 \\\\\n",
       "\t v2 & 8 \\\\\n",
       "\t v3 & 9 \\\\\n",
       "\\end{tabular}\n"
      ],
      "text/markdown": [
       "\n",
       "| name | value |\n",
       "|---|---|\n",
       "| v1 | 1  |\n",
       "| v2 | 2  |\n",
       "| v3 | 3  |\n",
       "| v1 | 4  |\n",
       "| v2 | 5  |\n",
       "| v3 | 6  |\n",
       "| v1 | 7  |\n",
       "| v2 | 8  |\n",
       "| v3 | 9  |\n",
       "\n"
      ],
      "text/plain": [
       "  name value\n",
       "1 v1   1    \n",
       "2 v2   2    \n",
       "3 v3   3    \n",
       "4 v1   4    \n",
       "5 v2   5    \n",
       "6 v3   6    \n",
       "7 v1   7    \n",
       "8 v2   8    \n",
       "9 v3   9    "
      ]
     },
     "metadata": {},
     "output_type": "display_data"
    }
   ],
   "source": [
    "#z postaci szerokiej na dlugą:\n",
    "dlugie_dane = pivot_longer(szerokie_dane, c(v1,v2,v3)) #analogiczna funkcja pivot_wider generuje przeciwne przejscie\n",
    "dlugie_dane"
   ]
  },
  {
   "cell_type": "markdown",
   "metadata": {},
   "source": [
    "<h4> dplyr+ggplot2"
   ]
  },
  {
   "cell_type": "code",
   "execution_count": 81,
   "metadata": {},
   "outputs": [
    {
     "data": {
      "text/html": [
       "<table>\n",
       "<thead><tr><th scope=col>country</th><th scope=col>year</th><th scope=col>pop</th><th scope=col>continent</th><th scope=col>lifeExp</th><th scope=col>gdpPercap</th></tr></thead>\n",
       "<tbody>\n",
       "\t<tr><td>Afghanistan</td><td>1952       </td><td> 8425333   </td><td>Asia       </td><td>28.801     </td><td>779.4453   </td></tr>\n",
       "\t<tr><td>Afghanistan</td><td>1957       </td><td> 9240934   </td><td>Asia       </td><td>30.332     </td><td>820.8530   </td></tr>\n",
       "\t<tr><td>Afghanistan</td><td>1962       </td><td>10267083   </td><td>Asia       </td><td>31.997     </td><td>853.1007   </td></tr>\n",
       "\t<tr><td>Afghanistan</td><td>1967       </td><td>11537966   </td><td>Asia       </td><td>34.020     </td><td>836.1971   </td></tr>\n",
       "\t<tr><td>Afghanistan</td><td>1972       </td><td>13079460   </td><td>Asia       </td><td>36.088     </td><td>739.9811   </td></tr>\n",
       "\t<tr><td>Afghanistan</td><td>1977       </td><td>14880372   </td><td>Asia       </td><td>38.438     </td><td>786.1134   </td></tr>\n",
       "</tbody>\n",
       "</table>\n"
      ],
      "text/latex": [
       "\\begin{tabular}{r|llllll}\n",
       " country & year & pop & continent & lifeExp & gdpPercap\\\\\n",
       "\\hline\n",
       "\t Afghanistan & 1952        &  8425333    & Asia        & 28.801      & 779.4453   \\\\\n",
       "\t Afghanistan & 1957        &  9240934    & Asia        & 30.332      & 820.8530   \\\\\n",
       "\t Afghanistan & 1962        & 10267083    & Asia        & 31.997      & 853.1007   \\\\\n",
       "\t Afghanistan & 1967        & 11537966    & Asia        & 34.020      & 836.1971   \\\\\n",
       "\t Afghanistan & 1972        & 13079460    & Asia        & 36.088      & 739.9811   \\\\\n",
       "\t Afghanistan & 1977        & 14880372    & Asia        & 38.438      & 786.1134   \\\\\n",
       "\\end{tabular}\n"
      ],
      "text/markdown": [
       "\n",
       "| country | year | pop | continent | lifeExp | gdpPercap |\n",
       "|---|---|---|---|---|---|\n",
       "| Afghanistan | 1952        |  8425333    | Asia        | 28.801      | 779.4453    |\n",
       "| Afghanistan | 1957        |  9240934    | Asia        | 30.332      | 820.8530    |\n",
       "| Afghanistan | 1962        | 10267083    | Asia        | 31.997      | 853.1007    |\n",
       "| Afghanistan | 1967        | 11537966    | Asia        | 34.020      | 836.1971    |\n",
       "| Afghanistan | 1972        | 13079460    | Asia        | 36.088      | 739.9811    |\n",
       "| Afghanistan | 1977        | 14880372    | Asia        | 38.438      | 786.1134    |\n",
       "\n"
      ],
      "text/plain": [
       "  country     year pop      continent lifeExp gdpPercap\n",
       "1 Afghanistan 1952  8425333 Asia      28.801  779.4453 \n",
       "2 Afghanistan 1957  9240934 Asia      30.332  820.8530 \n",
       "3 Afghanistan 1962 10267083 Asia      31.997  853.1007 \n",
       "4 Afghanistan 1967 11537966 Asia      34.020  836.1971 \n",
       "5 Afghanistan 1972 13079460 Asia      36.088  739.9811 \n",
       "6 Afghanistan 1977 14880372 Asia      38.438  786.1134 "
      ]
     },
     "metadata": {},
     "output_type": "display_data"
    }
   ],
   "source": [
    "head(dd3r) #dane zdefiniowane wczensiej"
   ]
  },
  {
   "cell_type": "code",
   "execution_count": 82,
   "metadata": {},
   "outputs": [],
   "source": [
    "options(repr.plot.width=10, repr.plot.height=10)"
   ]
  },
  {
   "cell_type": "code",
   "execution_count": 83,
   "metadata": {},
   "outputs": [
    {
     "data": {
      "image/png": "[encoded data removed]",
      "text/plain": [
       "plot without title"
      ]
     },
     "metadata": {},
     "output_type": "display_data"
    }
   ],
   "source": [
    "library(ggplot2)\n",
    "europejczycy = dd3r[dd3r$continent == \"Europe\", ]\n",
    "ggplot(data = europejczycy, mapping = aes(x = year, y = lifeExp)) +\n",
    "  geom_line() +\n",
    "  facet_wrap( ~ country) +\n",
    "  theme(axis.text.x = element_text(angle = 45))"
   ]
  },
  {
   "cell_type": "code",
   "execution_count": 84,
   "metadata": {},
   "outputs": [
    {
     "data": {
      "image/png": "[encoded data removed]",
      "text/plain": [
       "plot without title"
      ]
     },
     "metadata": {},
     "output_type": "display_data"
    }
   ],
   "source": [
    "dd3r %>%\n",
    "  filter(continent == \"Europe\") %>%\n",
    "  ggplot(mapping = aes(x = year, y = lifeExp)) +\n",
    "  geom_line() +\n",
    "  facet_wrap( ~ country) +\n",
    "  theme(axis.text.x = element_text(angle = 45))"
   ]
  },
  {
   "cell_type": "code",
   "execution_count": 85,
   "metadata": {},
   "outputs": [],
   "source": [
    "options(repr.plot.width=10, repr.plot.height=2)"
   ]
  },
  {
   "cell_type": "code",
   "execution_count": 86,
   "metadata": {},
   "outputs": [
    {
     "data": {
      "image/png": "[encoded data removed]",
      "text/plain": [
       "plot without title"
      ]
     },
     "metadata": {},
     "output_type": "display_data"
    }
   ],
   "source": [
    "dd3r %>%\n",
    "  mutate(startsWith = substr(country, 1, 1)) %>% #tworzymy nową kolumne z pierwsza litera panstwa\n",
    "  filter(startsWith %in% c(\"W\", \"Z\")) %>%       #zachowujemy tylko te panstwa co zaczynaja sie od W lub Z\n",
    "  ggplot(aes(x = year, y = lifeExp, colour = continent)) +  #kolorujemy na podstawie kontynentu\n",
    "  geom_line() +\n",
    "  facet_wrap(vars(country)) +\n",
    "  theme_minimal()"
   ]
  }
 ],
 "metadata": {
  "kernelspec": {
   "display_name": "R",
   "language": "R",
   "name": "ir"
  },
  "language_info": {
   "codemirror_mode": "r",
   "file_extension": ".r",
   "mimetype": "text/x-r-source",
   "name": "R",
   "pygments_lexer": "r",
   "version": "3.6.1"
  }
 },
 "nbformat": 4,
 "nbformat_minor": 5
}
