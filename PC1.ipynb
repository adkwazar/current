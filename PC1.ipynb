{
 "cells": [
  {
   "cell_type": "markdown",
   "metadata": {},
   "source": [
    "Python for Bioinformatics, Practical Classes 1"
   ]
  },
  {
   "cell_type": "markdown",
   "metadata": {},
   "source": [
    "<h4> Exercise1: Let's define a nucleotide sequence ATTTGGCCTA and replace within it every Thymine (T) with Uracil (U)."
   ]
  },
  {
   "cell_type": "markdown",
   "metadata": {},
   "source": [
    "Example: Create a function ComDNA that takes a nucleotide sequence and returns the complementary one.\n"
   ]
  },
  {
   "cell_type": "code",
   "execution_count": 1,
   "metadata": {},
   "outputs": [],
   "source": [
    "def ComDNA(seq): \n",
    "    \"\"\"\n",
    "    This function takes a nucleotide \n",
    "    sequence and returns the complementary one.\n",
    "    \"\"\"  \n",
    "    complementary_code = {\"A\":\"T\", \"T\":\"A\", \"G\":\"C\", \"C\":\"G\"}\n",
    "    com_seq = '' #creating an empty string that will contain a complementary sequence   \n",
    "    for elem in seq:\n",
    "        com_seq += complementary_code[elem] #add subsequent complement nucleotide to com_seq variable. \n",
    "    return com_seq"
   ]
  },
  {
   "cell_type": "code",
   "execution_count": 2,
   "metadata": {},
   "outputs": [
    {
     "name": "stdout",
     "output_type": "stream",
     "text": [
      "TACCCGG\n"
     ]
    }
   ],
   "source": [
    "sequence = \"ATGGGCC\"\n",
    "print(ComDNA(sequence))"
   ]
  },
  {
   "cell_type": "markdown",
   "metadata": {},
   "source": [
    "<h4> Exercise2: Create a function RevComDNA that takes a nucleotide sequence and returns the reverse complementary one.\n",
    "For example RevComDNA(\"ATTGGCCAAA\") should return 'TTTGGCCAAT'."
   ]
  },
  {
   "cell_type": "markdown",
   "metadata": {},
   "source": [
    "Example: Create a function CountNucSeq that takes a nucleotide sequence and returns the dictionary containing nucleotide counts."
   ]
  },
  {
   "cell_type": "code",
   "execution_count": 3,
   "metadata": {},
   "outputs": [],
   "source": [
    "def CountNucSeq(seq):\n",
    "    \"\"\"\n",
    "    This function takes a nucleotide \n",
    "    sequence and returns the count dictionary\n",
    "    for each of them.\n",
    "    \"\"\"\n",
    "    nucleotides = [\"A\", \"T\", \"G\", \"C\"]\n",
    "    frequencies = [seq.count(\"A\"),seq.count(\"T\"),seq.count(\"G\"),seq.count(\"C\")]\n",
    "    d = dict(zip(nucleotides, frequencies))\n",
    "    return d"
   ]
  },
  {
   "cell_type": "code",
   "execution_count": 4,
   "metadata": {},
   "outputs": [
    {
     "name": "stdout",
     "output_type": "stream",
     "text": [
      "{'A': 2, 'T': 3, 'G': 5, 'C': 0}\n"
     ]
    }
   ],
   "source": [
    "sequence = \"ATGGGGATTG\"\n",
    "print(CountNucSeq(sequence))"
   ]
  },
  {
   "cell_type": "markdown",
   "metadata": {},
   "source": [
    "<h4> Exercise3: Write a function FrecNucSeq that for a given nucleotide sequence returns frequencies of occuring for each nucleotide.\n"
   ]
  },
  {
   "cell_type": "markdown",
   "metadata": {},
   "source": [
    "Example: Let's say we have two nucleotide sequences (with the same length). We want to compare them - if they have the same nucleotide at the same position, then put 1 into the list. In other case put -2. For example for ATGC and AGGC we should obtain [1,-2,1,1]."
   ]
  },
  {
   "cell_type": "code",
   "execution_count": 5,
   "metadata": {},
   "outputs": [],
   "source": [
    "def CompareSequences(seq1, seq2):    \n",
    "    \"\"\"\n",
    "    This function compares two nucleotide \n",
    "    sequences at the subsequent positions, \n",
    "    put 1 into the list (if the same); \n",
    "    in other case put -2\n",
    "    \"\"\"   \n",
    "    N1 = len(seq1)\n",
    "    N2 = len(seq2)\n",
    "    \n",
    "    if N1 == N2:    #case when sequenses have the same length\n",
    "        y = []      #creating an empty list\n",
    "        for i in range(N1):\n",
    "            if seq1[i]==seq2[i]:  #if sequences have the same nucleotide at i-position\n",
    "                y.append(1)\n",
    "            else:\n",
    "                y.append(-2)\n",
    "        return y\n",
    "    \n",
    "    else:    #Case when sequences have differnt lengths\n",
    "        return \"Sequences have different length.\""
   ]
  },
  {
   "cell_type": "code",
   "execution_count": 6,
   "metadata": {},
   "outputs": [
    {
     "name": "stdout",
     "output_type": "stream",
     "text": [
      "[1, -2, 1, 1]\n"
     ]
    }
   ],
   "source": [
    "print(CompareSequences(\"ATGC\",\"AGGC\"))"
   ]
  },
  {
   "cell_type": "code",
   "execution_count": 7,
   "metadata": {},
   "outputs": [
    {
     "name": "stdout",
     "output_type": "stream",
     "text": [
      "Sequences have different length.\n"
     ]
    }
   ],
   "source": [
    "print(CompareSequences(\"ATGC\",\"AGGCT\"))"
   ]
  },
  {
   "cell_type": "markdown",
   "metadata": {},
   "source": [
    "We can use the result from above function to the other function. Let's define a function  ScoreSeq  that returns the sum of the list from CompareSequences (of course, the higher score the sequences are more similar)."
   ]
  },
  {
   "cell_type": "code",
   "execution_count": 8,
   "metadata": {},
   "outputs": [],
   "source": [
    "def ScoreSeq(seq1, seq2):   \n",
    "    \"\"\"\n",
    "    This function returns the sum \n",
    "    of the list from CompareSequences\n",
    "    \"\"\" \n",
    "    N1 = len(seq1)\n",
    "    N2 = len(seq2)\n",
    "    if N1 == N2:\n",
    "        S = sum(CompareSequences(seq1, seq2))  #here we use the result from the previous function\n",
    "        return S\n",
    "    else:\n",
    "        return \"Sequences have different length\""
   ]
  },
  {
   "cell_type": "code",
   "execution_count": 9,
   "metadata": {},
   "outputs": [
    {
     "name": "stdout",
     "output_type": "stream",
     "text": [
      "1\n"
     ]
    }
   ],
   "source": [
    "print(ScoreSeq(\"ATGC\", \"AGGC\"))"
   ]
  },
  {
   "cell_type": "markdown",
   "metadata": {},
   "source": [
    "An analogous function for comparing two sequences:"
   ]
  },
  {
   "cell_type": "code",
   "execution_count": 10,
   "metadata": {},
   "outputs": [],
   "source": [
    "def CalcSeqIdentity(seqA, seqB):\n",
    "    numPlaces = min(len(seqA), len(seqB))\n",
    "    score = 0.0\n",
    "    for i in range(numPlaces):\n",
    "        if seqA[i] == seqB[i]:\n",
    "            score += 1.0\n",
    "    return 100.0 * score/numPlaces"
   ]
  },
  {
   "cell_type": "code",
   "execution_count": 11,
   "metadata": {},
   "outputs": [
    {
     "name": "stdout",
     "output_type": "stream",
     "text": [
      "80.0\n",
      "40.0\n",
      "72.72727272727273\n"
     ]
    }
   ],
   "source": [
    "seq1 = 'ALIGNMENTS'\n",
    "seq2 = 'ALIGDVENTS'\n",
    "seq3 = 'ALIGDPVENTS'\n",
    "seq4 = 'ALIGN-MENTS'  #seq1 with a gap inserted\n",
    "\n",
    "print(CalcSeqIdentity(seq1, seq2)) \n",
    "print(CalcSeqIdentity(seq1, seq3)) \n",
    "print(CalcSeqIdentity(seq4, seq3)) #'-' insertion results in higher similarity than seq1 vs seq3"
   ]
  },
  {
   "cell_type": "markdown",
   "metadata": {},
   "source": [
    "<h3> Dot matrix\n"
   ]
  },
  {
   "cell_type": "code",
   "execution_count": 12,
   "metadata": {},
   "outputs": [],
   "source": [
    "import numpy as np\n",
    "import matplotlib.pyplot as plt\n",
    "\n",
    "\n",
    "def dotMatrix(sequence1, sequence2):\n",
    "    \n",
    "    S1 = len(sequence1)\n",
    "    S2 = len(sequence2)\n",
    "\n",
    "    A = np.zeros((S1, S2))\n",
    "\n",
    "    for i in range(S1):\n",
    "        for j in range(S2):\n",
    "            if sequence1[i] == sequence2[j]:  #if sequences have the same residue at i and j poistions respectively\n",
    "                A[i,j] = 1\n",
    "\n",
    "    fig = plt.figure(figsize=(8,8))\n",
    "    ax = fig.add_subplot(111)\n",
    "    cax = ax.matshow(A)\n",
    "    xaxis = np.arange(S2)\n",
    "    yaxis = np.arange(S1)\n",
    "    ax.set_xticks(xaxis)\n",
    "    ax.set_yticks(yaxis)\n",
    "    ax.set_xticklabels(sequence2)\n",
    "    ax.set_yticklabels(sequence1)\n",
    "\n",
    "    plt.show()"
   ]
  },
  {
   "cell_type": "code",
   "execution_count": 13,
   "metadata": {},
   "outputs": [
    {
     "data": {
      "image/png": "[encoded data removed]",
      "text/plain": [
       "<Figure size 576x576 with 1 Axes>"
      ]
     },
     "metadata": {
      "needs_background": "light"
     },
     "output_type": "display_data"
    }
   ],
   "source": [
    "dotMatrix(\"MEEPQSDPSVEPPLSQETFSDLWKLLPENNVLSPL\", \"MAEPQSDPRVEPPLSQETFSDLWKLLPQNNVLSPL\")"
   ]
  },
  {
   "cell_type": "markdown",
   "metadata": {},
   "source": [
    "<h4> Exercise4: Plot a dot matrix for following sequences. Make a comment on it."
   ]
  },
  {
   "cell_type": "code",
   "execution_count": 14,
   "metadata": {},
   "outputs": [],
   "source": [
    "s1 = \"MDSNTVSSFQVDCFLWHVRKRFADQELGDAPFLDRLRRDQKSLRGRGSTLGLDEALKMTIASVPASRYLTDMTLEEMSRDWFMLMPKQKVAGSLCIRMDQAIMDKNIILKANFSVIFDRLETLILLRAFTEEGAIVGEISPLPSLPGHTDEDVKNAIGVLIGGLEWNDNTIRVSETLQRFAWRSSNEDGRPPLPPKQKRKMARTIESEV\"\n",
    "s2 = \"MDSNTVSSFQVDCFLWHVRKRFADQELGDAPFLDRLRRDQKSLRGRGSTLGLDIETATCAGKQIVERILEEESDEALKMTIASVPASRYLTDMTLEEMSRDWFMLMPKQKVAGSLCIRMDQAIMDKNIILKANFSVIFDRLETLILLRAFTEEGAIVGEISPLPSLPGHTDEDVKNAIGVLIGGLEWNDNTVRVSETLQRFAWRSSNEDGRPPLPPKQKRKMERTIESEV\""
   ]
  },
  {
   "cell_type": "markdown",
   "metadata": {},
   "source": [
    "<h3> Similarity and Mismatches"
   ]
  },
  {
   "cell_type": "code",
   "execution_count": 15,
   "metadata": {},
   "outputs": [],
   "source": [
    "DNA_1 = {'G': { 'G':1, 'C':0, 'A':0, 'T':0 },\n",
    "'C': { 'G':0, 'C':1, 'A':0, 'T':0 },\n",
    "'A': { 'G':0, 'C':0, 'A':1, 'T':0 },\n",
    "'T': { 'G':0, 'C':0, 'A':0, 'T':1 }}"
   ]
  },
  {
   "cell_type": "code",
   "execution_count": 16,
   "metadata": {},
   "outputs": [],
   "source": [
    "DNA_2 = {'G': { 'G': 1, 'C':-3, 'A':-3, 'T':-3, 'N':0 },\n",
    "'C': { 'G':-3, 'C': 1, 'A':-3, 'T':-3, 'N':0 },\n",
    "'A': { 'G':-3, 'C':-3, 'A': 1, 'T':-3, 'N':0 },\n",
    "'T': { 'G':-3, 'C':-3, 'A':-3, 'T': 1, 'N':0 },\n",
    "'N': { 'G': 0, 'C': 0, 'A': 0, 'T': 0, 'N':0 }}"
   ]
  },
  {
   "cell_type": "code",
   "execution_count": 17,
   "metadata": {},
   "outputs": [],
   "source": [
    "REV_COMP = {'G': { 'G':-1, 'C': 1, 'A':-1, 'T':-1 },\n",
    "'C': { 'G': 1, 'C':-1, 'A':-1, 'T':-1 },\n",
    "'A': { 'G':-1, 'C':-1, 'A':-1, 'T': 1 },\n",
    "'T': { 'G':-1, 'C':-1, 'A': 1, 'T':-1 }}"
   ]
  },
  {
   "cell_type": "code",
   "execution_count": 18,
   "metadata": {},
   "outputs": [],
   "source": [
    "import numpy as np\n",
    "\n",
    "B62 = np.array([[4, -1, -2, -2,  0, -1, -1,  0, -2, -1, -1, -1, -1, -2, -1, 1, 0, -3, -2,0],\n",
    "[-1, 5, 0, -2, -3, 1, 0, -2, 0, -3, -2, 2, -1, -3, -2, -1, -1, -3, -2, -3],\n",
    "[-2, 0,  6,  1, -3,  0,  0,  0,  1, -3, -3,  0, -2, -3, -2,  1,  0, -4, -2, -3], \n",
    "[-2, -2,  1,  6, -3,  0,  2, -1, -1, -3, -4, -1, -3, -3, -1,  0, -1, -4, -3, -3], \n",
    "[0, -3, -3, -3,  9, -3, -4, -3, -3, -1, -1, -3, -1, -2, -3, -1, -1, -2, -2, -1], \n",
    "[-1,  1,  0,  0, -3,  5,  2, -2, 0, -3, -2, 1,  0, -3, -1,  0, -1, -2, -1, -2], \n",
    "[-1,  0,  0,  2, -4,  2,  5, -2,  0, -3, -3,  1, -2, -3, -1,  0, -1, -3, -2, -2], \n",
    "[0, -2,  0, -1, -3, -2, -2,  6, -2, -4, -4, -2, -3, -3, -2, 0, -2, -2, -3, -3], \n",
    "[-2,  0,  1, -1, -3,  0,  0, -2,  8, -3, -3, -1, -2, -1, -2, -1, -2, -2,  2, -3],\n",
    "[-1, -3, -3, -3, -1, -3, -3, -4, -3,  4,  2, -3,  1,  0, -3, -2, -1, -3, -1,  3], \n",
    "[-1, -2, -3, -4, -1, -2, -3, -4, -3,  2,  4, -2,  2,  0, -3, -2, -1, -2, -1,  1], \n",
    "[-1,  2,  0, -1, -3,  1,  1, -2, -1, -3, -2,  5, -1, -3, -1,  0, -1, -3, -2, -2],\n",
    "[-1, -1, -2, -3, -1,  0, -2, -3, -2, 1, 2, -1,  5,  0, -2, -1, -1, -1, -1,  1], \n",
    "[-2, -3, -3, -3, -2, -3, -3, -3, -1,  0,  0, -3,  0,  6, -4, -2, -2,  1,  3, -1], \n",
    "[-1, -2, -2, -1, -3, -1, -1, -2, -2, -3, -3, -1, -2, -4,  7, -1, -1, -4, -3, -2], \n",
    "[1, -1,  1,  0, -1,  0,  0,  0, -1, -2, -2,  0, -1, -2, -1, 4, 1, -3, -2, -2], \n",
    "[0, -1,  0, -1, -1, -1, -1, -2, -2, -1, -1, -1, -1, -2, -1, 1, 5, -2, -2, 0],\n",
    "[-3, -3, -4, -4, -2, -2, -3, -2, -2, -3, -2, -3, -1,  1, -4, -3, -2, 11, 2, -3], \n",
    "[-2, -2, -2, -3, -2, -1, -2, -3, 2, -1, -1, -2, -1, 3, -3, -2, -2,  2, 7, -1],\n",
    "[0, -3, -3, -3, -1, -2, -2, -3, -3, 3, 1, -2, 1, -1, -2, -2, 0, -3, -1, 4]]) "
   ]
  },
  {
   "cell_type": "code",
   "execution_count": 19,
   "metadata": {},
   "outputs": [
    {
     "data": {
      "text/plain": [
       "[-4, 11]"
      ]
     },
     "execution_count": 19,
     "metadata": {},
     "output_type": "execute_result"
    }
   ],
   "source": [
    "[np.min(B62), np.max(B62)]"
   ]
  },
  {
   "cell_type": "code",
   "execution_count": 20,
   "metadata": {},
   "outputs": [],
   "source": [
    "aa = [\"A\",\"R\",\"N\",\"D\",\"C\",\"Q\",\"E\",\"G\",\"H\",\"I\",\"L\",\"K\",\"M\",\"F\",\"P\",\"S\",\"T\",\"W\",\"Y\",\"V\"] #a list of corresponding amino acids"
   ]
  },
  {
   "cell_type": "code",
   "execution_count": 21,
   "metadata": {},
   "outputs": [
    {
     "data": {
      "image/png": "[encoded data removed]",
      "text/plain": [
       "<Figure size 576x576 with 2 Axes>"
      ]
     },
     "metadata": {
      "needs_background": "light"
     },
     "output_type": "display_data"
    }
   ],
   "source": [
    "#plotting B62 matrix\n",
    "\n",
    "import matplotlib.pyplot as plt\n",
    "from matplotlib.colors import from_levels_and_colors\n",
    "\n",
    "\n",
    "fig = plt.figure(figsize=(8,8))\n",
    "ax = fig.add_subplot(111)\n",
    "\n",
    "levels = [-4, 0, 1, 11]\n",
    "colors = ['red', 'white', 'green']\n",
    "cmap, norm = from_levels_and_colors(levels, colors)\n",
    "cax = ax.matshow(B62,cmap=cmap, norm = norm) #here\n",
    "fig.colorbar(cax)\n",
    "\n",
    "xaxis = np.arange(len(aa))\n",
    "ax.set_xticks(xaxis)\n",
    "ax.set_yticks(xaxis)\n",
    "ax.set_xticklabels(aa)\n",
    "ax.set_yticklabels(aa)\n",
    "\n",
    "plt.show()"
   ]
  },
  {
   "cell_type": "code",
   "execution_count": 22,
   "metadata": {},
   "outputs": [
    {
     "name": "stdout",
     "output_type": "stream",
     "text": [
      "{'A': {'A': 4, 'R': -1, 'N': -2, 'D': -2, 'C': 0, 'Q': -1, 'E': -1, 'G': 0, 'H': -2, 'I': -1, 'L': -1, 'K': -1, 'M': -1, 'F': -2, 'P': -1, 'S': 1, 'T': 0, 'W': -3, 'Y': -2, 'V': 0}, 'R': {'A': -1, 'R': 5, 'N': 0, 'D': -2, 'C': -3, 'Q': 1, 'E': 0, 'G': -2, 'H': 0, 'I': -3, 'L': -2, 'K': 2, 'M': -1, 'F': -3, 'P': -2, 'S': -1, 'T': -1, 'W': -3, 'Y': -2, 'V': -3}, 'N': {'A': -2, 'R': 0, 'N': 6, 'D': 1, 'C': -3, 'Q': 0, 'E': 0, 'G': 0, 'H': 1, 'I': -3, 'L': -3, 'K': 0, 'M': -2, 'F': -3, 'P': -2, 'S': 1, 'T': 0, 'W': -4, 'Y': -2, 'V': -3}, 'D': {'A': -2, 'R': -2, 'N': 1, 'D': 6, 'C': -3, 'Q': 0, 'E': 2, 'G': -1, 'H': -1, 'I': -3, 'L': -4, 'K': -1, 'M': -3, 'F': -3, 'P': -1, 'S': 0, 'T': -1, 'W': -4, 'Y': -3, 'V': -3}, 'C': {'A': 0, 'R': -3, 'N': -3, 'D': -3, 'C': 9, 'Q': -3, 'E': -4, 'G': -3, 'H': -3, 'I': -1, 'L': -1, 'K': -3, 'M': -1, 'F': -2, 'P': -3, 'S': -1, 'T': -1, 'W': -2, 'Y': -2, 'V': -1}, 'Q': {'A': -1, 'R': 1, 'N': 0, 'D': 0, 'C': -3, 'Q': 5, 'E': 2, 'G': -2, 'H': 0, 'I': -3, 'L': -2, 'K': 1, 'M': 0, 'F': -3, 'P': -1, 'S': 0, 'T': -1, 'W': -2, 'Y': -1, 'V': -2}, 'E': {'A': -1, 'R': 0, 'N': 0, 'D': 2, 'C': -4, 'Q': 2, 'E': 5, 'G': -2, 'H': 0, 'I': -3, 'L': -3, 'K': 1, 'M': -2, 'F': -3, 'P': -1, 'S': 0, 'T': -1, 'W': -3, 'Y': -2, 'V': -2}, 'G': {'A': 0, 'R': -2, 'N': 0, 'D': -1, 'C': -3, 'Q': -2, 'E': -2, 'G': 6, 'H': -2, 'I': -4, 'L': -4, 'K': -2, 'M': -3, 'F': -3, 'P': -2, 'S': 0, 'T': -2, 'W': -2, 'Y': -3, 'V': -3}, 'H': {'A': -2, 'R': 0, 'N': 1, 'D': -1, 'C': -3, 'Q': 0, 'E': 0, 'G': -2, 'H': 8, 'I': -3, 'L': -3, 'K': -1, 'M': -2, 'F': -1, 'P': -2, 'S': -1, 'T': -2, 'W': -2, 'Y': 2, 'V': -3}, 'I': {'A': -1, 'R': -3, 'N': -3, 'D': -3, 'C': -1, 'Q': -3, 'E': -3, 'G': -4, 'H': -3, 'I': 4, 'L': 2, 'K': -3, 'M': 1, 'F': 0, 'P': -3, 'S': -2, 'T': -1, 'W': -3, 'Y': -1, 'V': 3}, 'L': {'A': -1, 'R': -2, 'N': -3, 'D': -4, 'C': -1, 'Q': -2, 'E': -3, 'G': -4, 'H': -3, 'I': 2, 'L': 4, 'K': -2, 'M': 2, 'F': 0, 'P': -3, 'S': -2, 'T': -1, 'W': -2, 'Y': -1, 'V': 1}, 'K': {'A': -1, 'R': 2, 'N': 0, 'D': -1, 'C': -3, 'Q': 1, 'E': 1, 'G': -2, 'H': -1, 'I': -3, 'L': -2, 'K': 5, 'M': -1, 'F': -3, 'P': -1, 'S': 0, 'T': -1, 'W': -3, 'Y': -2, 'V': -2}, 'M': {'A': -1, 'R': -1, 'N': -2, 'D': -3, 'C': -1, 'Q': 0, 'E': -2, 'G': -3, 'H': -2, 'I': 1, 'L': 2, 'K': -1, 'M': 5, 'F': 0, 'P': -2, 'S': -1, 'T': -1, 'W': -1, 'Y': -1, 'V': 1}, 'F': {'A': -2, 'R': -3, 'N': -3, 'D': -3, 'C': -2, 'Q': -3, 'E': -3, 'G': -3, 'H': -1, 'I': 0, 'L': 0, 'K': -3, 'M': 0, 'F': 6, 'P': -4, 'S': -2, 'T': -2, 'W': 1, 'Y': 3, 'V': -1}, 'P': {'A': -1, 'R': -2, 'N': -2, 'D': -1, 'C': -3, 'Q': -1, 'E': -1, 'G': -2, 'H': -2, 'I': -3, 'L': -3, 'K': -1, 'M': -2, 'F': -4, 'P': 7, 'S': -1, 'T': -1, 'W': -4, 'Y': -3, 'V': -2}, 'S': {'A': 1, 'R': -1, 'N': 1, 'D': 0, 'C': -1, 'Q': 0, 'E': 0, 'G': 0, 'H': -1, 'I': -2, 'L': -2, 'K': 0, 'M': -1, 'F': -2, 'P': -1, 'S': 4, 'T': 1, 'W': -3, 'Y': -2, 'V': -2}, 'T': {'A': 0, 'R': -1, 'N': 0, 'D': -1, 'C': -1, 'Q': -1, 'E': -1, 'G': -2, 'H': -2, 'I': -1, 'L': -1, 'K': -1, 'M': -1, 'F': -2, 'P': -1, 'S': 1, 'T': 5, 'W': -2, 'Y': -2, 'V': 0}, 'W': {'A': -3, 'R': -3, 'N': -4, 'D': -4, 'C': -2, 'Q': -2, 'E': -3, 'G': -2, 'H': -2, 'I': -3, 'L': -2, 'K': -3, 'M': -1, 'F': 1, 'P': -4, 'S': -3, 'T': -2, 'W': 11, 'Y': 2, 'V': -3}, 'Y': {'A': -2, 'R': -2, 'N': -2, 'D': -3, 'C': -2, 'Q': -1, 'E': -2, 'G': -3, 'H': 2, 'I': -1, 'L': -1, 'K': -2, 'M': -1, 'F': 3, 'P': -3, 'S': -2, 'T': -2, 'W': 2, 'Y': 7, 'V': -1}, 'V': {'A': 0, 'R': -3, 'N': -3, 'D': -3, 'C': -1, 'Q': -2, 'E': -2, 'G': -3, 'H': -3, 'I': 3, 'L': 1, 'K': -2, 'M': 1, 'F': -1, 'P': -2, 'S': -2, 'T': 0, 'W': -3, 'Y': -1, 'V': 4}}\n"
     ]
    }
   ],
   "source": [
    "BLOSUM62 = {aa[i]:{aa[j]: B62[i][j] for j in range(20)} for i in range(20)} #the same as B62, but this time stored as a dictionary\n",
    "print(BLOSUM62)"
   ]
  },
  {
   "cell_type": "markdown",
   "metadata": {},
   "source": [
    "<h4> Exercise5: Write a function that generates a dot matrix but this time put an appropriate BLOSUM62 value when comparing amino acid on  i  and  j  postions. Applly it to sequences from Ex. 4. "
   ]
  },
  {
   "cell_type": "markdown",
   "metadata": {},
   "source": [
    "<h3> Sequences comparison using similiarity matrices"
   ]
  },
  {
   "cell_type": "code",
   "execution_count": 23,
   "metadata": {},
   "outputs": [],
   "source": [
    "def CalcSeqSimilarity(seqA, seqB, simMatrix):\n",
    "    N = min(len(seqA), len(seqB))\n",
    "    Score = 0.0\n",
    "    for i in range(N):\n",
    "        rA = seqA[i]   \n",
    "        rB = seqB[i]  \n",
    "        Score += simMatrix[rA][rB]\n",
    "    return Score"
   ]
  },
  {
   "cell_type": "code",
   "execution_count": 24,
   "metadata": {},
   "outputs": [
    {
     "name": "stdout",
     "output_type": "stream",
     "text": [
      "1.0\n",
      "7.0\n"
     ]
    }
   ],
   "source": [
    "print(CalcSeqSimilarity('AGCTT', 'AGGTT', DNA_2))\n",
    "print(CalcSeqSimilarity('ALI', 'AYI', BLOSUM62))"
   ]
  },
  {
   "cell_type": "markdown",
   "metadata": {},
   "source": [
    "<h3> Alignment"
   ]
  },
  {
   "cell_type": "markdown",
   "metadata": {},
   "source": [
    "Construct  SM  matrix according to the following formula:\n",
    "\n",
    "- put in the first row and column 0 values.\n",
    "\n",
    "- $SM[i,j]=\\max(S[i−1,j−1]+Score,SM[i−1,j]−Penalty,SM[i,j−1]−Penalty)$.\n",
    "\n",
    "\n",
    "The last cell contain Total Score.\n",
    "\n",
    "\n",
    "\n",
    "Additionally, to include a penalty for insertion and extension RM matrix is used:\n",
    "\n",
    "$RM$ matrix contains information about kind of events (matches/mismatches/indel).\n",
    "\n",
    "- 0  (pairing of two residues)\n",
    "- 1  (gap in seqB, residue in seqA)\n",
    "- 2  (gap in seqA, residude in seqB)"
   ]
  },
  {
   "cell_type": "code",
   "execution_count": 25,
   "metadata": {},
   "outputs": [],
   "source": [
    "def SequenceAlign(seqA, seqB, similarityMatrix=DNA_2, insert=5, extend=3):\n",
    "    \n",
    "    import numpy as np\n",
    "    \n",
    "    numI = len(seqA) + 1\n",
    "    numJ = len(seqB) + 1\n",
    "    \n",
    "    SMatrix = np.zeros((numI, numJ))\n",
    "    RMatrix = np.zeros((numI, numJ))\n",
    "    \n",
    "    for i in range(1, numI):\n",
    "        RMatrix[i, 0] = 1\n",
    "        \n",
    "    for j in range(1, numJ):\n",
    "        RMatrix[0, j] = 2\n",
    "    \n",
    "    for i in range(1, numI):\n",
    "        for j in range(1, numJ):\n",
    "            \n",
    "            penalty1 = insert\n",
    "            penalty2 = insert\n",
    "            \n",
    "            if RMatrix[i-1, j] == 1:\n",
    "                penalty1 = extend\n",
    "                \n",
    "            elif RMatrix[i, j-1] == 2:\n",
    "                penalty2 = extend\n",
    "                \n",
    "            similarity = similarityMatrix[seqA[i-1]][seqB[j-1]]\n",
    "            \n",
    "            paths = [SMatrix[i-1, j-1] + similarity,\n",
    "                     SMatrix[i-1, j] - penalty1,\n",
    "                     SMatrix[i, j-1] - penalty2]\n",
    "        \n",
    "            best = max(paths)         #maximum value of path list\n",
    "            route = paths.index(best) #index where maximum value\n",
    "        \n",
    "            SMatrix[i, j] = best  \n",
    "            RMatrix[i, j] = route\n",
    "                    \n",
    "        alignA = []\n",
    "        alignB = []\n",
    "        \n",
    "        i = numI-1\n",
    "        j = numJ-1\n",
    "            \n",
    "        score = SMatrix[i, j]\n",
    "        \n",
    "        while i > 0 or j > 0:\n",
    "            route = RMatrix[i, j]\n",
    "            \n",
    "            if route == 0: \n",
    "                alignA.append( seqA[i-1] )\n",
    "                alignB.append( seqB[j-1] )\n",
    "                i -= 1\n",
    "                j -= 1\n",
    "                \n",
    "            elif route == 1:\n",
    "                alignA.append( seqA[i-1] )\n",
    "                alignB.append( '-' )\n",
    "                i -= 1\n",
    "                \n",
    "            elif route == 2: \n",
    "                alignA.append( '-' )\n",
    "                alignB.append( seqB[j-1] )\n",
    "                j -= 1\n",
    "                \n",
    "    alignA.reverse()\n",
    "    alignB.reverse()\n",
    "    \n",
    "    alignA = ''.join(alignA)\n",
    "    alignB = ''.join(alignB)\n",
    "    \n",
    "    return score, alignA, alignB "
   ]
  },
  {
   "cell_type": "code",
   "execution_count": 26,
   "metadata": {
    "scrolled": true
   },
   "outputs": [
    {
     "name": "stdout",
     "output_type": "stream",
     "text": [
      "21.0\n",
      "WFSEPE--IST\n",
      "-FSRPAVVIST\n"
     ]
    }
   ],
   "source": [
    "seqA = 'WFSEPEIST'\n",
    "seqB = 'FSRPAVVIST'\n",
    "\n",
    "score, alignA, alignB = SequenceAlign(seqA, seqB, BLOSUM62)\n",
    "print(score)\n",
    "print(alignA) \n",
    "print(alignB) "
   ]
  },
  {
   "cell_type": "markdown",
   "metadata": {},
   "source": [
    "<h4> Exercise6: Compare an alignment with (insert=1, extend=1) and (insert=8, extend=2) for the following sequences. Make a comment on it.\n"
   ]
  },
  {
   "cell_type": "code",
   "execution_count": 27,
   "metadata": {},
   "outputs": [],
   "source": [
    "seqA = \"FSRPAVVAIST\"\n",
    "seqB = \"FSRPAAVVIST\""
   ]
  },
  {
   "cell_type": "markdown",
   "metadata": {},
   "source": [
    "<h4> Exercise7: Plot a dot matrix and make an alignment for the following sequences (Metallothionein). Whether both sequences are similar?"
   ]
  },
  {
   "cell_type": "code",
   "execution_count": 28,
   "metadata": {},
   "outputs": [],
   "source": [
    "seqA = 'MTSTTLVKCACEPCLCNVDPSKAIDRNGLYYCSEACADGHTGGSKGCGHTGCNCHG'\n",
    "seqB = 'MTTVTQMKCACDSCLCIVDTSKAVEKEGHYYCSEACANGHPEGSGCGHTGCTCHS'"
   ]
  },
  {
   "cell_type": "markdown",
   "metadata": {},
   "source": [
    "<h4> Exercise8: Download insuline sequences from human and mouse (uniport database available here: https://www.uniprot.org/, ids: P01308 and P01325 respevtively). Plot a dot matrix and make an alignment. Whether both sequences are similar?"
   ]
  },
  {
   "cell_type": "markdown",
   "metadata": {},
   "source": [
    "Note that similarity generally is not a transitive relation which means that if  A  is similiar with  B  and  B  is similar with  C  does not impy  A  is similiar with  C ."
   ]
  },
  {
   "cell_type": "code",
   "execution_count": 29,
   "metadata": {},
   "outputs": [
    {
     "name": "stdout",
     "output_type": "stream",
     "text": [
      "27.0\n",
      "32.0\n",
      "9.0\n"
     ]
    }
   ],
   "source": [
    "seq1 = 'FSRPAVVIST'\n",
    "seq2 = 'FSRGGGVIST'\n",
    "seq3 = 'AGTGGGVIST'\n",
    "\n",
    "\n",
    "score12, align1, align2 = SequenceAlign(seq1, seq2, BLOSUM62)\n",
    "score23, align2, align3 = SequenceAlign(seq2, seq3, BLOSUM62)\n",
    "score13, align1, align3 = SequenceAlign(seq1, seq3, BLOSUM62)\n",
    "\n",
    "print(score12)\n",
    "print(score23)\n",
    "print(score13)"
   ]
  },
  {
   "cell_type": "markdown",
   "metadata": {},
   "source": [
    "<h4>  Exercise9*: Write a function TheLongestSubsequence that for two nucleotide sequences returns the longest subsequence that is present in both sequences. For exmaple TheLongestSubsequence(\"ATGGGGCATTA\", \"ATGAGGCATTC\") should return \"GGCATT\"."
   ]
  },
  {
   "cell_type": "markdown",
   "metadata": {},
   "source": [
    "<h4> Exercise10*: Write a function SuperSequence that takes a list of sequenes and find \"the shortest\" string that contains all of them. Remark: The solution may not be optimal"
   ]
  }
 ],
 "metadata": {
  "kernelspec": {
   "display_name": "Python 3",
   "language": "python",
   "name": "python3"
  },
  "language_info": {
   "codemirror_mode": {
    "name": "ipython",
    "version": 3
   },
   "file_extension": ".py",
   "mimetype": "text/x-python",
   "name": "python",
   "nbconvert_exporter": "python",
   "pygments_lexer": "ipython3",
   "version": "3.8.5"
  }
 },
 "nbformat": 4,
 "nbformat_minor": 4
}
