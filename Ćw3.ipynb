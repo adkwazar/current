{
 "cells": [
  {
   "cell_type": "markdown",
   "id": "a1ee67b2",
   "metadata": {},
   "source": [
    "<h3> Elementy statystyki opisowej i podstawy rachunku prawdopdobieństwa"
   ]
  },
  {
   "cell_type": "code",
   "execution_count": 1,
   "id": "95dbe1bf",
   "metadata": {},
   "outputs": [],
   "source": [
    "library(moments)"
   ]
  },
  {
   "cell_type": "code",
   "execution_count": 2,
   "id": "d6bb6263",
   "metadata": {},
   "outputs": [],
   "source": [
    "options(repr.plot.width=3, repr.plot.height=3) #ustawia rozmiar obrazka"
   ]
  },
  {
   "cell_type": "code",
   "execution_count": 11,
   "id": "08ba8071",
   "metadata": {},
   "outputs": [
    {
     "data": {
      "image/png": "[encoded data removed]",
      "text/plain": [
       "Plot with title \"Histogram of x\""
      ]
     },
     "metadata": {},
     "output_type": "display_data"
    }
   ],
   "source": [
    "x = rnorm(1000)\n",
    "hist(x)"
   ]
  },
  {
   "cell_type": "code",
   "execution_count": 5,
   "id": "eb5c5a0e",
   "metadata": {},
   "outputs": [
    {
     "data": {
      "text/html": [
       "<ol class=list-inline>\n",
       "\t<li>-3.78481482359303</li>\n",
       "\t<li>2.69605219835895</li>\n",
       "</ol>\n"
      ],
      "text/latex": [
       "\\begin{enumerate*}\n",
       "\\item -3.78481482359303\n",
       "\\item 2.69605219835895\n",
       "\\end{enumerate*}\n"
      ],
      "text/markdown": [
       "1. -3.78481482359303\n",
       "2. 2.69605219835895\n",
       "\n",
       "\n"
      ],
      "text/plain": [
       "[1] -3.784815  2.696052"
      ]
     },
     "metadata": {},
     "output_type": "display_data"
    },
    {
     "data": {
      "text/html": [
       "-0.0160635962907789"
      ],
      "text/latex": [
       "-0.0160635962907789"
      ],
      "text/markdown": [
       "-0.0160635962907789"
      ],
      "text/plain": [
       "[1] -0.0160636"
      ]
     },
     "metadata": {},
     "output_type": "display_data"
    },
    {
     "data": {
      "text/html": [
       "-0.031284693440305"
      ],
      "text/latex": [
       "-0.031284693440305"
      ],
      "text/markdown": [
       "-0.031284693440305"
      ],
      "text/plain": [
       "[1] -0.03128469"
      ]
     },
     "metadata": {},
     "output_type": "display_data"
    },
    {
     "data": {
      "text/html": [
       "1.02962420735353"
      ],
      "text/latex": [
       "1.02962420735353"
      ],
      "text/markdown": [
       "1.02962420735353"
      ],
      "text/plain": [
       "[1] 1.029624"
      ]
     },
     "metadata": {},
     "output_type": "display_data"
    },
    {
     "data": {
      "text/html": [
       "1.06012600836838"
      ],
      "text/latex": [
       "1.06012600836838"
      ],
      "text/markdown": [
       "1.06012600836838"
      ],
      "text/plain": [
       "[1] 1.060126"
      ]
     },
     "metadata": {},
     "output_type": "display_data"
    }
   ],
   "source": [
    "range(x); mean(x); median(x); sd(x); var(x)"
   ]
  },
  {
   "cell_type": "code",
   "execution_count": 6,
   "id": "f8419e6f",
   "metadata": {},
   "outputs": [
    {
     "data": {
      "text/html": [
       "<strong>5%:</strong> -1.69970260819798"
      ],
      "text/latex": [
       "\\textbf{5\\textbackslash{}\\%:} -1.69970260819798"
      ],
      "text/markdown": [
       "**5%:** -1.69970260819798"
      ],
      "text/plain": [
       "       5% \n",
       "-1.699703 "
      ]
     },
     "metadata": {},
     "output_type": "display_data"
    },
    {
     "data": {
      "text/html": [
       "<strong>50%:</strong> -0.031284693440305"
      ],
      "text/latex": [
       "\\textbf{50\\textbackslash{}\\%:} -0.031284693440305"
      ],
      "text/markdown": [
       "**50%:** -0.031284693440305"
      ],
      "text/plain": [
       "        50% \n",
       "-0.03128469 "
      ]
     },
     "metadata": {},
     "output_type": "display_data"
    }
   ],
   "source": [
    "quantile(x, 0.05); quantile(x, 0.50) #kwantyle "
   ]
  },
  {
   "cell_type": "code",
   "execution_count": 104,
   "id": "7ba6d6c9",
   "metadata": {},
   "outputs": [
    {
     "data": {
      "text/html": [
       "1.22124408755665"
      ],
      "text/latex": [
       "1.22124408755665"
      ],
      "text/markdown": [
       "1.22124408755665"
      ],
      "text/plain": [
       "[1] 1.221244"
      ]
     },
     "metadata": {},
     "output_type": "display_data"
    }
   ],
   "source": [
    "skewness(x) #skośność"
   ]
  },
  {
   "cell_type": "code",
   "execution_count": 7,
   "id": "0d973e3e",
   "metadata": {},
   "outputs": [
    {
     "data": {
      "text/html": [
       "3.06027967274887"
      ],
      "text/latex": [
       "3.06027967274887"
      ],
      "text/markdown": [
       "3.06027967274887"
      ],
      "text/plain": [
       "[1] 3.06028"
      ]
     },
     "metadata": {},
     "output_type": "display_data"
    }
   ],
   "source": [
    "kurtosis(x) #kurtoza, dla rozkladu normalnego 3 "
   ]
  },
  {
   "cell_type": "markdown",
   "id": "f22d6e6e",
   "metadata": {},
   "source": [
    "<h4> Rozkład Weibull'a"
   ]
  },
  {
   "cell_type": "code",
   "execution_count": 8,
   "id": "b522b21f",
   "metadata": {},
   "outputs": [
    {
     "data": {
      "image/png": "[encoded data removed]",
      "text/plain": [
       "Plot with title \"Histogram of w1\""
      ]
     },
     "metadata": {},
     "output_type": "display_data"
    }
   ],
   "source": [
    "w1 = rweibull(1000, 2, 1)\n",
    "hist(w1)"
   ]
  },
  {
   "cell_type": "code",
   "execution_count": 9,
   "id": "9bdca468",
   "metadata": {},
   "outputs": [
    {
     "data": {
      "text/html": [
       "0.614664547417966"
      ],
      "text/latex": [
       "0.614664547417966"
      ],
      "text/markdown": [
       "0.614664547417966"
      ],
      "text/plain": [
       "[1] 0.6146645"
      ]
     },
     "metadata": {},
     "output_type": "display_data"
    }
   ],
   "source": [
    "skewness(w1) #rozklad przesuniety w lewo - dodatnia skośność"
   ]
  },
  {
   "cell_type": "code",
   "execution_count": 10,
   "id": "ee5007b8",
   "metadata": {},
   "outputs": [
    {
     "data": {
      "image/png": "[encoded data removed]",
      "text/plain": [
       "Plot with title \"Histogram of w2\""
      ]
     },
     "metadata": {},
     "output_type": "display_data"
    }
   ],
   "source": [
    "w2 = rweibull(1000, 10, 1)\n",
    "hist(w2)"
   ]
  },
  {
   "cell_type": "code",
   "execution_count": 11,
   "id": "ff15449d",
   "metadata": {},
   "outputs": [
    {
     "data": {
      "text/html": [
       "-0.786981773247888"
      ],
      "text/latex": [
       "-0.786981773247888"
      ],
      "text/markdown": [
       "-0.786981773247888"
      ],
      "text/plain": [
       "[1] -0.7869818"
      ]
     },
     "metadata": {},
     "output_type": "display_data"
    }
   ],
   "source": [
    "skewness(w2) #rozkald przesuniety w prawo - ujemna skośność"
   ]
  },
  {
   "cell_type": "markdown",
   "id": "25f1da60",
   "metadata": {},
   "source": [
    "Wartość dystrybuanty rozkładu normalnego"
   ]
  },
  {
   "cell_type": "code",
   "execution_count": 12,
   "id": "1a0878af",
   "metadata": {},
   "outputs": [
    {
     "data": {
      "text/html": [
       "0.5"
      ],
      "text/latex": [
       "0.5"
      ],
      "text/markdown": [
       "0.5"
      ],
      "text/plain": [
       "[1] 0.5"
      ]
     },
     "metadata": {},
     "output_type": "display_data"
    }
   ],
   "source": [
    "pnorm(0) #wartosc dystrybuanty rozkladu normalnego w punkcie 0, czyli F(0)"
   ]
  },
  {
   "cell_type": "code",
   "execution_count": 13,
   "id": "ebeeac05",
   "metadata": {},
   "outputs": [
    {
     "data": {
      "image/png": "[encoded data removed]",
      "text/plain": [
       "plot without title"
      ]
     },
     "metadata": {},
     "output_type": "display_data"
    }
   ],
   "source": [
    "curve(pnorm, from=-2, to=2)"
   ]
  },
  {
   "cell_type": "code",
   "execution_count": 14,
   "id": "717d73d4",
   "metadata": {},
   "outputs": [
    {
     "data": {
      "image/png": "[encoded data removed]",
      "text/plain": [
       "plot without title"
      ]
     },
     "metadata": {},
     "output_type": "display_data"
    }
   ],
   "source": [
    "curve(dnorm, from=-4, to=4) #funkcja gęstosci rozkladu normalnego\n",
    "abline(v=c(-3,3), col=\"red\", lty=2, lwd=2) #pionowe linie"
   ]
  },
  {
   "cell_type": "code",
   "execution_count": 15,
   "id": "26f201c7",
   "metadata": {},
   "outputs": [
    {
     "data": {
      "text/html": [
       "0.99730020393674"
      ],
      "text/latex": [
       "0.99730020393674"
      ],
      "text/markdown": [
       "0.99730020393674"
      ],
      "text/plain": [
       "[1] 0.9973002"
      ]
     },
     "metadata": {},
     "output_type": "display_data"
    }
   ],
   "source": [
    "#regula 3 sigm:\n",
    "pnorm(3)-pnorm(-3)"
   ]
  },
  {
   "cell_type": "markdown",
   "id": "7e8a0e03",
   "metadata": {},
   "source": [
    "<h4>Zadanie1: Jakie jest prawdopodbieństwo, że wylosujemy liczbę z przedziału $<-2,1>$ jeżeli losujemy z populacji opisanej przez rozkład normalny $N(0,1)$?"
   ]
  },
  {
   "cell_type": "markdown",
   "id": "f77ce2fa",
   "metadata": {},
   "source": [
    "<h3> Gdzie rozkład normalny pojawia się naturalnie?"
   ]
  },
  {
   "cell_type": "code",
   "execution_count": 16,
   "id": "719aae65",
   "metadata": {},
   "outputs": [
    {
     "data": {
      "image/png": "[encoded data removed]",
      "text/plain": [
       "Plot with title \"Histogram of x_end\""
      ]
     },
     "metadata": {},
     "output_type": "display_data"
    }
   ],
   "source": [
    "#Spacer losowy po osi\n",
    "\n",
    "x_end = c()\n",
    "for (i in 1:1000){\n",
    "    t = sample(c(-1,1), 1000, rep = T)\n",
    "    x_end = append(x_end, sum(t))\n",
    "}\n",
    "\n",
    "hist(x_end)"
   ]
  },
  {
   "cell_type": "markdown",
   "id": "ed301962",
   "metadata": {},
   "source": [
    "<h3> Jak wygenerować dane z dowolnego rozkładu znając funkcję gęstości i mając do dyspozycji rozkład jednostajny?"
   ]
  },
  {
   "cell_type": "code",
   "execution_count": 17,
   "id": "15924616",
   "metadata": {},
   "outputs": [],
   "source": [
    "dens.norm = function(x){\n",
    "    return((1/(sqrt(2*pi)))*exp(-x^2/2))\n",
    "}"
   ]
  },
  {
   "cell_type": "code",
   "execution_count": 18,
   "id": "4a8d6f89",
   "metadata": {},
   "outputs": [
    {
     "data": {
      "text/html": [
       "0.0539909665131881"
      ],
      "text/latex": [
       "0.0539909665131881"
      ],
      "text/markdown": [
       "0.0539909665131881"
      ],
      "text/plain": [
       "[1] 0.05399097"
      ]
     },
     "metadata": {},
     "output_type": "display_data"
    },
    {
     "data": {
      "text/html": [
       "0.0539909665131881"
      ],
      "text/latex": [
       "0.0539909665131881"
      ],
      "text/markdown": [
       "0.0539909665131881"
      ],
      "text/plain": [
       "[1] 0.05399097"
      ]
     },
     "metadata": {},
     "output_type": "display_data"
    }
   ],
   "source": [
    "dens.norm(2); dnorm(2) #porownanie z wbudowana funkcją"
   ]
  },
  {
   "cell_type": "code",
   "execution_count": 19,
   "id": "6e1c6669",
   "metadata": {},
   "outputs": [
    {
     "data": {
      "image/png": "[encoded data removed]",
      "text/plain": [
       "plot without title"
      ]
     },
     "metadata": {},
     "output_type": "display_data"
    }
   ],
   "source": [
    "x = sort(runif(1000, -3,3))\n",
    "y = runif(1000, 0,0.5)\n",
    "\n",
    "plot(x, y, cex = 0.1)\n",
    "lines(x, dens.norm(x), col = \"red\")"
   ]
  },
  {
   "cell_type": "code",
   "execution_count": 20,
   "id": "108f53c5",
   "metadata": {},
   "outputs": [
    {
     "data": {
      "image/png": "[encoded data removed]",
      "text/plain": [
       "Plot with title \"Histogram of z\""
      ]
     },
     "metadata": {},
     "output_type": "display_data"
    }
   ],
   "source": [
    "z = x[y<dens.norm(x)] \n",
    "hist(z)"
   ]
  },
  {
   "cell_type": "markdown",
   "id": "bdea07ec",
   "metadata": {},
   "source": [
    "<h3> Jak wygenerować dane z rozkładu jednostajnego?"
   ]
  },
  {
   "cell_type": "code",
   "execution_count": 21,
   "id": "bf279c4a",
   "metadata": {},
   "outputs": [],
   "source": [
    "#wiecej np tutaj https://pl.wikipedia.org/wiki/Generator_Lehmera\n",
    "\n",
    "X = c(2^(31))\n",
    "n = 2^(31) - 1\n",
    "g = 7^5\n",
    "\n",
    "for (i in 1:4000){\n",
    "    X = append(X, g*X[length(X)] %% n)\n",
    "}"
   ]
  },
  {
   "cell_type": "code",
   "execution_count": 22,
   "id": "e06ae020",
   "metadata": {},
   "outputs": [
    {
     "data": {
      "image/png": "[encoded data removed]",
      "text/plain": [
       "plot without title"
      ]
     },
     "metadata": {},
     "output_type": "display_data"
    }
   ],
   "source": [
    "plot(X/max(X), cex = 0.1)"
   ]
  },
  {
   "cell_type": "code",
   "execution_count": 23,
   "id": "eccac42d",
   "metadata": {},
   "outputs": [
    {
     "data": {
      "image/png": "[encoded data removed]",
      "text/plain": [
       "Plot with title \"Histogram of X/max(X)\""
      ]
     },
     "metadata": {},
     "output_type": "display_data"
    }
   ],
   "source": [
    "hist(X/max(X))"
   ]
  },
  {
   "cell_type": "markdown",
   "id": "2808e2b7",
   "metadata": {},
   "source": [
    "<h3> Prawa wielkich liczb"
   ]
  },
  {
   "cell_type": "markdown",
   "id": "0b524e95",
   "metadata": {},
   "source": [
    "<h4> Zadanie2: Wykonaj następujący eksperyment. Wylosuj 1,2,3.... oraz 1000 liczb losowych z rozkładu normalnego $N(2,3)$ każdorazowo licząc średnią i odchylenie. Następnie narysuj dwa wykresy zależności liczby wylosowanych liczb od średniej oraz liczby wylosowanych liczb od odchylenia."
   ]
  },
  {
   "cell_type": "code",
   "execution_count": 24,
   "id": "dc16809f",
   "metadata": {},
   "outputs": [
    {
     "data": {
      "image/png": "[encoded data removed]",
      "text/plain": [
       "plot without title"
      ]
     },
     "metadata": {},
     "output_type": "display_data"
    }
   ],
   "source": [
    "#oczekiwany wynik"
   ]
  },
  {
   "cell_type": "markdown",
   "id": "9001047a",
   "metadata": {},
   "source": [
    "<h4> Zadanie3: Wykonaj następujący eksperyment. Rzucamy kostką 1 raz, 2 razy,...., 1000 razy. Za każdym razem wyznaczamy częstości wystąpienia 1,2,3,4,5 oraz 6 oczek. Narysuj na jednym wykresie te częstości dla kolejnych rzutów. Podaj częstości dla ostatniej sytuacji."
   ]
  },
  {
   "cell_type": "code",
   "execution_count": 25,
   "id": "7fbe79ef",
   "metadata": {},
   "outputs": [
    {
     "data": {
      "image/png": "[encoded data removed]",
      "text/plain": [
       "plot without title"
      ]
     },
     "metadata": {},
     "output_type": "display_data"
    }
   ],
   "source": [
    "#oczekiwany wynik"
   ]
  },
  {
   "cell_type": "code",
   "execution_count": 26,
   "id": "d56566aa",
   "metadata": {},
   "outputs": [
    {
     "data": {
      "text/html": [
       "0.169"
      ],
      "text/latex": [
       "0.169"
      ],
      "text/markdown": [
       "0.169"
      ],
      "text/plain": [
       "[1] 0.169"
      ]
     },
     "metadata": {},
     "output_type": "display_data"
    },
    {
     "data": {
      "text/html": [
       "0.16"
      ],
      "text/latex": [
       "0.16"
      ],
      "text/markdown": [
       "0.16"
      ],
      "text/plain": [
       "[1] 0.16"
      ]
     },
     "metadata": {},
     "output_type": "display_data"
    },
    {
     "data": {
      "text/html": [
       "0.16"
      ],
      "text/latex": [
       "0.16"
      ],
      "text/markdown": [
       "0.16"
      ],
      "text/plain": [
       "[1] 0.16"
      ]
     },
     "metadata": {},
     "output_type": "display_data"
    },
    {
     "data": {
      "text/html": [
       "0.173"
      ],
      "text/latex": [
       "0.173"
      ],
      "text/markdown": [
       "0.173"
      ],
      "text/plain": [
       "[1] 0.173"
      ]
     },
     "metadata": {},
     "output_type": "display_data"
    },
    {
     "data": {
      "text/html": [
       "0.175"
      ],
      "text/latex": [
       "0.175"
      ],
      "text/markdown": [
       "0.175"
      ],
      "text/plain": [
       "[1] 0.175"
      ]
     },
     "metadata": {},
     "output_type": "display_data"
    },
    {
     "data": {
      "text/html": [
       "0.163"
      ],
      "text/latex": [
       "0.163"
      ],
      "text/markdown": [
       "0.163"
      ],
      "text/plain": [
       "[1] 0.163"
      ]
     },
     "metadata": {},
     "output_type": "display_data"
    }
   ],
   "source": [
    "#oczekiwny wynik (przykladowe wyniki)"
   ]
  },
  {
   "cell_type": "markdown",
   "id": "952e3095",
   "metadata": {},
   "source": [
    "<h4> Zadanie4: Jakie jest prawdopodobieństwo, że w rzucie 100 razy kostką do gry wylosujemy dokładnie 16 razy szóstkę? Zadanie rozwiąż na 2 sposoby:\n",
    "\n",
    "- wyznacz dokładną wartość na podstawie rozkładu Bernoulliego\n",
    "- wyznacz przybliżoną wartość poprzez symulację 100 tys razy tego eksperymentu."
   ]
  },
  {
   "cell_type": "code",
   "execution_count": 27,
   "id": "b35c4615",
   "metadata": {},
   "outputs": [
    {
     "data": {
      "text/html": [
       "0.106501423989507"
      ],
      "text/latex": [
       "0.106501423989507"
      ],
      "text/markdown": [
       "0.106501423989507"
      ],
      "text/plain": [
       "[1] 0.1065014"
      ]
     },
     "metadata": {},
     "output_type": "display_data"
    }
   ],
   "source": [
    "#oczekiwana wartosc teoretyczna"
   ]
  },
  {
   "cell_type": "code",
   "execution_count": 28,
   "id": "41e93806",
   "metadata": {},
   "outputs": [
    {
     "name": "stdout",
     "output_type": "stream",
     "text": [
      "[1] 0.10725\n"
     ]
    }
   ],
   "source": [
    "#wartosc z symulacji (przykladowa)"
   ]
  },
  {
   "cell_type": "markdown",
   "id": "378d2419",
   "metadata": {},
   "source": [
    "<h4> Zadanie5: Mając $5$ zł wchodzimy z nimi do następującej gry. Mamy do dyspozycji niesymetryczną monetę, w której z prawdopodbieństwem $p=0.6$ wypada orzeł. Rzucamy monetą, jeżeli wypadnie orzeł to otrzymujemy $1$ zł, w przeciwnym przypadku oddajemy $1$ zł. Grę kończymy, gdy osiągniemy $1000$ zł lub $0$ zł. Jakie jest prawdopodobieństwo, że wygramy w takiej grze? Czy taka gra jest dla nas opłacalna? Ile należałoby mieć na początku, żeby na $99 \\%$ być pewnym wygranej?"
   ]
  },
  {
   "cell_type": "code",
   "execution_count": 29,
   "id": "c1469c51",
   "metadata": {},
   "outputs": [
    {
     "data": {
      "text/html": [
       "0.868312757201646"
      ],
      "text/latex": [
       "0.868312757201646"
      ],
      "text/markdown": [
       "0.868312757201646"
      ],
      "text/plain": [
       "[1] 0.8683128"
      ]
     },
     "metadata": {},
     "output_type": "display_data"
    }
   ],
   "source": [
    "#powinno wyjsc cos ok tego"
   ]
  },
  {
   "cell_type": "markdown",
   "id": "1c29d70c",
   "metadata": {},
   "source": [
    "<h4> Centralne twierdzenie graniczne"
   ]
  },
  {
   "cell_type": "markdown",
   "id": "e6900066",
   "metadata": {},
   "source": [
    "CTW: $\\frac{\\sum X_i - n\\mu}{\\sigma \\sqrt{n}} \\rightarrow N(0,1)$."
   ]
  },
  {
   "cell_type": "markdown",
   "id": "e3a4c943",
   "metadata": {},
   "source": [
    "Powtarzamy 1000 razy następujący eksperyment: \n",
    "\n",
    "- Rzucamy 100 razy kostką do gry, następnie zapisujemy sumę oczek ($X_1+X_2+...+X_{100} = \\sum X_i$)\n",
    "- Przekształcamy tę sumę na $\\frac{\\sum X_i - n\\mu}{\\sigma \\sqrt{n}}$, gdzie $\\mu = 3.5$ oraz $\\sigma = 2.917$ to suma i odchylenie dla zmiennej losowej opisującej rzut kostką, $n=100$.\n",
    "- Zapisujemy ten wynik do wektora.\n",
    "\n",
    "W efekcie otrzymujemy 1000 liczb. Jaki rozkład będą miały te wartości?"
   ]
  },
  {
   "cell_type": "code",
   "execution_count": 57,
   "id": "48ebd089",
   "metadata": {},
   "outputs": [],
   "source": [
    "liczby = c()\n",
    "for (i in 1:1000){\n",
    "    t = sum(sample(1:6, 100, rep=T))\n",
    "    t = (t-100*3.5)/(2.917*sqrt(100))\n",
    "    liczby = append(liczby, t)\n",
    "}"
   ]
  },
  {
   "cell_type": "code",
   "execution_count": 58,
   "id": "21d49c94",
   "metadata": {},
   "outputs": [
    {
     "data": {
      "image/png": "[encoded data removed]",
      "text/plain": [
       "Plot with title \"Histogram of liczby\""
      ]
     },
     "metadata": {},
     "output_type": "display_data"
    }
   ],
   "source": [
    "options(repr.plot.width=3, repr.plot.height=3)\n",
    "hist(liczby) #okazuje sie ze normalny, co zupelnie nie jest takie oczywiste..."
   ]
  },
  {
   "cell_type": "markdown",
   "id": "e2443bc3",
   "metadata": {},
   "source": [
    "<h4> Zadanie6: Na statku jest 100 dorosłych osób. Waga w populacji opisana jest rozkładem $N(80, 20)$. Jakie jest prawdopodobieństwo, że waga tych osób nie przekroczy 8200 kg? Wykonaj zadanie na 2 sposoby:\n",
    " \n",
    "- wykonując 100000 symulacji tej sytuacji do oszacowania prawdopodobieństwa,\n",
    "- wykorzystując Centralne Twierdzenie Graniczne\n",
    "    \n",
    "Czy założenie o normalności jest tutaj istotne?"
   ]
  },
  {
   "cell_type": "code",
   "execution_count": 34,
   "id": "e1e1aaf8",
   "metadata": {},
   "outputs": [
    {
     "data": {
      "text/html": [
       "0.84011"
      ],
      "text/latex": [
       "0.84011"
      ],
      "text/markdown": [
       "0.84011"
      ],
      "text/plain": [
       "[1] 0.84011"
      ]
     },
     "metadata": {},
     "output_type": "display_data"
    }
   ],
   "source": [
    "#z symulacji"
   ]
  },
  {
   "cell_type": "markdown",
   "id": "142e06dd",
   "metadata": {},
   "source": [
    "<h4> Zadanie7: Zaprosiłeś na imprezę 64 osoby. Będziesz przygotowywał kanapki. Każdy gość zje 0, 1 lub 2 kanapki z prawdopodobieństwm 0.25, 0.50 i 0.25 odpowiednio. Ile powinieneś przygotowac kanapek aby na 95 % być pewnym, że wystarczy?"
   ]
  },
  {
   "cell_type": "markdown",
   "id": "6035446d",
   "metadata": {},
   "source": [
    "Założmy, że zadajemy ludziom pytanie na które mogą odpowiedzieć tylko na 2 sposoby (np. TAK lub NIE). Niech $p$ oznacza prawdopodobieństwo uzyskania pierwszej odpowiedzi, przy czym $p$ jest zmienną losową. Niech $p^*$ oznacza prawdopodobieństwo aproksymujące $p$ na podstawie próby $n$- elementowej. Wtedy $p \\sim N(p^*, \\sqrt{\\frac{p^*(1-p^*)}{n}})$"
   ]
  },
  {
   "cell_type": "markdown",
   "id": "3d0dae9e",
   "metadata": {},
   "source": [
    "<h4> Zadanie8*: Pokaż, że powyższa relacja jest konsekwencją Centralnego Twierdzenia Granicznego."
   ]
  },
  {
   "cell_type": "markdown",
   "id": "1645e785",
   "metadata": {},
   "source": [
    "<h4> Zadanie9: Aby ocenić szanse wyborcze partii $X$ przeprowadzono ankietę. W tym celu wybrano losowo 300 osób i zapytano o stostunek do partii $X$. 140 z nich odpowiedziało, że zagłosuje za partią $X$. Jakie jest prawdopodobieństwo, że w całej populacji ta partia uzyska mniej niż 40%?"
   ]
  }
 ],
 "metadata": {
  "kernelspec": {
   "display_name": "R",
   "language": "R",
   "name": "ir"
  },
  "language_info": {
   "codemirror_mode": "r",
   "file_extension": ".r",
   "mimetype": "text/x-r-source",
   "name": "R",
   "pygments_lexer": "r",
   "version": "3.6.1"
  }
 },
 "nbformat": 4,
 "nbformat_minor": 5
}
