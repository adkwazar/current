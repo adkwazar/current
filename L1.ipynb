{
 "cells": [
  {
   "cell_type": "markdown",
   "metadata": {},
   "source": [
    "<h2> Lecture1: A brief introduction to Python programming. \n",
    "<h4> Adrian Kania\n"
   ]
  },
  {
   "cell_type": "code",
   "execution_count": 1,
   "metadata": {},
   "outputs": [],
   "source": [
    "x = 13 #creating a variable"
   ]
  },
  {
   "cell_type": "code",
   "execution_count": 2,
   "metadata": {},
   "outputs": [
    {
     "name": "stdout",
     "output_type": "stream",
     "text": [
      "13\n"
     ]
    }
   ],
   "source": [
    "print(x)"
   ]
  },
  {
   "cell_type": "code",
   "execution_count": 3,
   "metadata": {},
   "outputs": [
    {
     "name": "stdout",
     "output_type": "stream",
     "text": [
      "14\n"
     ]
    }
   ],
   "source": [
    "x = 13\n",
    "x = x+1\n",
    "print(x)"
   ]
  },
  {
   "cell_type": "code",
   "execution_count": 4,
   "metadata": {},
   "outputs": [
    {
     "name": "stdout",
     "output_type": "stream",
     "text": [
      "14\n"
     ]
    }
   ],
   "source": [
    "x = 13\n",
    "x += 1\n",
    "print(x)"
   ]
  },
  {
   "cell_type": "code",
   "execution_count": 5,
   "metadata": {},
   "outputs": [],
   "source": [
    "a = 5\n",
    "b = 2.3\n",
    "\n",
    "c = a+b  #other basic operators: *, +, -, /"
   ]
  },
  {
   "cell_type": "code",
   "execution_count": 6,
   "metadata": {},
   "outputs": [
    {
     "name": "stdout",
     "output_type": "stream",
     "text": [
      "7.3\n"
     ]
    }
   ],
   "source": [
    "print(c)"
   ]
  },
  {
   "cell_type": "code",
   "execution_count": 7,
   "metadata": {},
   "outputs": [
    {
     "name": "stdout",
     "output_type": "stream",
     "text": [
      "8\n"
     ]
    }
   ],
   "source": [
    "y = 2**3 #power of a number    \n",
    "print(y)"
   ]
  },
  {
   "cell_type": "code",
   "execution_count": 8,
   "metadata": {},
   "outputs": [
    {
     "name": "stdout",
     "output_type": "stream",
     "text": [
      "2\n"
     ]
    }
   ],
   "source": [
    "z = 7%5 #modulo    \n",
    "print(z)"
   ]
  },
  {
   "cell_type": "markdown",
   "metadata": {},
   "source": [
    "<h4> Exercise: Define a variable $z$ as $\\frac{2^4+5}{6 - 123}$. Print the variable."
   ]
  },
  {
   "cell_type": "code",
   "execution_count": 9,
   "metadata": {},
   "outputs": [
    {
     "name": "stdout",
     "output_type": "stream",
     "text": [
      "-0.1794871794871795\n"
     ]
    }
   ],
   "source": [
    "#your code"
   ]
  },
  {
   "cell_type": "markdown",
   "metadata": {},
   "source": [
    "<h3> Variables"
   ]
  },
  {
   "cell_type": "markdown",
   "metadata": {},
   "source": [
    "<h4> Numbers"
   ]
  },
  {
   "cell_type": "code",
   "execution_count": 10,
   "metadata": {},
   "outputs": [
    {
     "name": "stdout",
     "output_type": "stream",
     "text": [
      "<class 'int'>\n"
     ]
    }
   ],
   "source": [
    "x = 7  #integer\n",
    "print(type(x))"
   ]
  },
  {
   "cell_type": "code",
   "execution_count": 11,
   "metadata": {},
   "outputs": [
    {
     "name": "stdout",
     "output_type": "stream",
     "text": [
      "<class 'float'>\n"
     ]
    }
   ],
   "source": [
    "y = 7.5 #rational number\n",
    "print(type(y))"
   ]
  },
  {
   "cell_type": "code",
   "execution_count": 12,
   "metadata": {},
   "outputs": [
    {
     "name": "stdout",
     "output_type": "stream",
     "text": [
      "<class 'float'>\n"
     ]
    }
   ],
   "source": [
    "z = 2**0.5  #irrational number\n",
    "print(type(z))"
   ]
  },
  {
   "cell_type": "markdown",
   "metadata": {},
   "source": [
    "<h4> Strings"
   ]
  },
  {
   "cell_type": "code",
   "execution_count": 13,
   "metadata": {},
   "outputs": [],
   "source": [
    "s = \"Python programming for bioinformatics\" #creating a string"
   ]
  },
  {
   "cell_type": "code",
   "execution_count": 14,
   "metadata": {},
   "outputs": [
    {
     "name": "stdout",
     "output_type": "stream",
     "text": [
      "Python programming for bioinformatics\n"
     ]
    }
   ],
   "source": [
    "print(s)"
   ]
  },
  {
   "cell_type": "code",
   "execution_count": 15,
   "metadata": {},
   "outputs": [
    {
     "name": "stdout",
     "output_type": "stream",
     "text": [
      "<class 'str'>\n"
     ]
    }
   ],
   "source": [
    "print(type(s))"
   ]
  },
  {
   "cell_type": "markdown",
   "metadata": {},
   "source": [
    "<h4> Operations on strings"
   ]
  },
  {
   "cell_type": "code",
   "execution_count": 16,
   "metadata": {},
   "outputs": [
    {
     "data": {
      "text/plain": [
       "37"
      ]
     },
     "execution_count": 16,
     "metadata": {},
     "output_type": "execute_result"
    }
   ],
   "source": [
    "len(s) #length of the string (number of characters)"
   ]
  },
  {
   "cell_type": "code",
   "execution_count": 17,
   "metadata": {},
   "outputs": [
    {
     "data": {
      "text/plain": [
       "'P'"
      ]
     },
     "execution_count": 17,
     "metadata": {},
     "output_type": "execute_result"
    }
   ],
   "source": [
    "s[0] #first character"
   ]
  },
  {
   "cell_type": "code",
   "execution_count": 18,
   "metadata": {},
   "outputs": [
    {
     "data": {
      "text/plain": [
       "'Pyth'"
      ]
     },
     "execution_count": 18,
     "metadata": {},
     "output_type": "execute_result"
    }
   ],
   "source": [
    "s[0:4] #characters from 0 to 3"
   ]
  },
  {
   "cell_type": "code",
   "execution_count": 19,
   "metadata": {},
   "outputs": [
    {
     "data": {
      "text/plain": [
       "'gramming for bioinformatics'"
      ]
     },
     "execution_count": 19,
     "metadata": {},
     "output_type": "execute_result"
    }
   ],
   "source": [
    "s[10:] #characters from s[10] till the end"
   ]
  },
  {
   "cell_type": "code",
   "execution_count": 20,
   "metadata": {},
   "outputs": [
    {
     "name": "stdout",
     "output_type": "stream",
     "text": [
      "PythXn prXgramming fXr biXinfXrmatics\n"
     ]
    }
   ],
   "source": [
    "w = s.replace(\"o\", \"X\") #replace all \"o\" character by \"X\"\n",
    "print(w)"
   ]
  },
  {
   "cell_type": "code",
   "execution_count": 21,
   "metadata": {},
   "outputs": [
    {
     "data": {
      "text/plain": [
       "5"
      ]
     },
     "execution_count": 21,
     "metadata": {},
     "output_type": "execute_result"
    }
   ],
   "source": [
    "text = \"agC aagca ta\"\n",
    "text.count(\"a\")  #count the number of occurences of \"a\" in text"
   ]
  },
  {
   "cell_type": "code",
   "execution_count": 22,
   "metadata": {},
   "outputs": [
    {
     "name": "stdout",
     "output_type": "stream",
     "text": [
      "abcdef\n"
     ]
    }
   ],
   "source": [
    "x1 = \"abc\" #let's define a string x1\n",
    "x2 = \"def\" #let's define a string x2\n",
    "\n",
    "print(x1+x2)"
   ]
  },
  {
   "cell_type": "code",
   "execution_count": 23,
   "metadata": {},
   "outputs": [
    {
     "name": "stdout",
     "output_type": "stream",
     "text": [
      "12\n"
     ]
    }
   ],
   "source": [
    "a1 = \"1\"\n",
    "a2 = \"2\"\n",
    "\n",
    "print(a1+a2)   "
   ]
  },
  {
   "cell_type": "code",
   "execution_count": 24,
   "metadata": {},
   "outputs": [
    {
     "name": "stdout",
     "output_type": "stream",
     "text": [
      "3.0\n"
     ]
    }
   ],
   "source": [
    "print(float(a1)+float(a2))"
   ]
  },
  {
   "cell_type": "markdown",
   "metadata": {},
   "source": [
    "<h4> Lists"
   ]
  },
  {
   "cell_type": "code",
   "execution_count": 25,
   "metadata": {},
   "outputs": [],
   "source": [
    "x = [1,2,-5,10,17,\"a\"] #defining a list"
   ]
  },
  {
   "cell_type": "code",
   "execution_count": 26,
   "metadata": {},
   "outputs": [
    {
     "name": "stdout",
     "output_type": "stream",
     "text": [
      "[1, 2, -5, 10, 17, 'a']\n"
     ]
    }
   ],
   "source": [
    "print(x)"
   ]
  },
  {
   "cell_type": "code",
   "execution_count": 27,
   "metadata": {},
   "outputs": [
    {
     "name": "stdout",
     "output_type": "stream",
     "text": [
      "<class 'list'>\n"
     ]
    }
   ],
   "source": [
    "print(type(x))"
   ]
  },
  {
   "cell_type": "code",
   "execution_count": 28,
   "metadata": {},
   "outputs": [
    {
     "name": "stdout",
     "output_type": "stream",
     "text": [
      "6\n"
     ]
    }
   ],
   "source": [
    "print(len(x)) #length of the list"
   ]
  },
  {
   "cell_type": "code",
   "execution_count": 29,
   "metadata": {},
   "outputs": [
    {
     "data": {
      "text/plain": [
       "1"
      ]
     },
     "execution_count": 29,
     "metadata": {},
     "output_type": "execute_result"
    }
   ],
   "source": [
    "x[0] #the first element of the list "
   ]
  },
  {
   "cell_type": "code",
   "execution_count": 30,
   "metadata": {},
   "outputs": [
    {
     "name": "stdout",
     "output_type": "stream",
     "text": [
      "[1, 2, 16, 10, 17, 'a']\n"
     ]
    }
   ],
   "source": [
    "x[2] = 16 #set the third element of x as 16\n",
    "print(x)"
   ]
  },
  {
   "cell_type": "code",
   "execution_count": 31,
   "metadata": {},
   "outputs": [
    {
     "name": "stdout",
     "output_type": "stream",
     "text": [
      "[3]\n"
     ]
    }
   ],
   "source": [
    "y = [] #let's define an empty list\n",
    "\n",
    "y.append(3) #add 3 number to the list\n",
    "print(y)"
   ]
  },
  {
   "cell_type": "code",
   "execution_count": 32,
   "metadata": {},
   "outputs": [],
   "source": [
    "w = [\"a\", 1, 2, \"b\", \"c\"] #list can contain different types of variables "
   ]
  },
  {
   "cell_type": "code",
   "execution_count": 33,
   "metadata": {},
   "outputs": [
    {
     "name": "stdout",
     "output_type": "stream",
     "text": [
      "[1, 2, 'b', 'c']\n"
     ]
    }
   ],
   "source": [
    "w.remove(\"a\") #removing the \"a\" element\n",
    "print(w)"
   ]
  },
  {
   "cell_type": "code",
   "execution_count": 34,
   "metadata": {},
   "outputs": [
    {
     "name": "stdout",
     "output_type": "stream",
     "text": [
      "[1, 2, 'b']\n"
     ]
    }
   ],
   "source": [
    "w.pop(3) #removing w[3] element\n",
    "print(w)"
   ]
  },
  {
   "cell_type": "markdown",
   "metadata": {},
   "source": [
    "<h4> Exercise: Create a list that contains 5 elements where some of them are numbers, and others are strings."
   ]
  },
  {
   "cell_type": "code",
   "execution_count": 1,
   "metadata": {},
   "outputs": [],
   "source": [
    "#your code"
   ]
  },
  {
   "cell_type": "markdown",
   "metadata": {},
   "source": [
    "<h4> Tuples"
   ]
  },
  {
   "cell_type": "code",
   "execution_count": 35,
   "metadata": {},
   "outputs": [],
   "source": [
    "x = (1,2,3,55) #defining a tuple (tuple takes lesss space in memory) "
   ]
  },
  {
   "cell_type": "code",
   "execution_count": 36,
   "metadata": {},
   "outputs": [
    {
     "name": "stdout",
     "output_type": "stream",
     "text": [
      "<class 'tuple'>\n"
     ]
    }
   ],
   "source": [
    "print(type(x))"
   ]
  },
  {
   "cell_type": "code",
   "execution_count": 37,
   "metadata": {},
   "outputs": [
    {
     "name": "stdout",
     "output_type": "stream",
     "text": [
      "(1, 2, 3, 55)\n"
     ]
    }
   ],
   "source": [
    "print(x)"
   ]
  },
  {
   "cell_type": "code",
   "execution_count": 38,
   "metadata": {},
   "outputs": [
    {
     "name": "stdout",
     "output_type": "stream",
     "text": [
      "1\n"
     ]
    }
   ],
   "source": [
    "print(x[0])"
   ]
  },
  {
   "cell_type": "code",
   "execution_count": 39,
   "metadata": {},
   "outputs": [],
   "source": [
    "#x[2] = 16 # we cannot modify tuple elements "
   ]
  },
  {
   "cell_type": "markdown",
   "metadata": {},
   "source": [
    "<h4> Sets"
   ]
  },
  {
   "cell_type": "code",
   "execution_count": 40,
   "metadata": {},
   "outputs": [
    {
     "name": "stdout",
     "output_type": "stream",
     "text": [
      "{1, 2, 3, 4, 5}\n"
     ]
    }
   ],
   "source": [
    "s = {1,2,3,4,5} #there is no order in a set\n",
    "print(s)"
   ]
  },
  {
   "cell_type": "code",
   "execution_count": 41,
   "metadata": {},
   "outputs": [
    {
     "name": "stdout",
     "output_type": "stream",
     "text": [
      "[1, 2, 3]\n"
     ]
    }
   ],
   "source": [
    "#an example of sets' application \n",
    "\n",
    "l = [1,1,2,2,2,3]\n",
    "s = list(set(l))\n",
    "print(s)"
   ]
  },
  {
   "cell_type": "markdown",
   "metadata": {},
   "source": [
    "<h4> Dictionaries"
   ]
  },
  {
   "cell_type": "code",
   "execution_count": 42,
   "metadata": {},
   "outputs": [
    {
     "name": "stdout",
     "output_type": "stream",
     "text": [
      "{'a': [1, 2, 3], 'b': [4, 4, 12], 'c': [6, 1, 0]}\n"
     ]
    }
   ],
   "source": [
    "w = {\"a\":[1,2,3], \"b\":[4,4,12], \"c\":[6,1,0]} #defining a dictionary, a dictionary contains keys: 'a', 'b' and 'c' and values for each key\n",
    "print(w)"
   ]
  },
  {
   "cell_type": "code",
   "execution_count": 43,
   "metadata": {},
   "outputs": [
    {
     "name": "stdout",
     "output_type": "stream",
     "text": [
      "<class 'dict'>\n"
     ]
    }
   ],
   "source": [
    "print(type(w))"
   ]
  },
  {
   "cell_type": "code",
   "execution_count": 44,
   "metadata": {},
   "outputs": [
    {
     "name": "stdout",
     "output_type": "stream",
     "text": [
      "[1, 2, 3]\n"
     ]
    }
   ],
   "source": [
    "print(w[\"a\"])"
   ]
  },
  {
   "cell_type": "code",
   "execution_count": 45,
   "metadata": {},
   "outputs": [
    {
     "name": "stdout",
     "output_type": "stream",
     "text": [
      "dict_keys(['a', 'b', 'c'])\n"
     ]
    }
   ],
   "source": [
    "print(w.keys()) #keys"
   ]
  },
  {
   "cell_type": "code",
   "execution_count": 46,
   "metadata": {},
   "outputs": [
    {
     "name": "stdout",
     "output_type": "stream",
     "text": [
      "dict_values([[1, 2, 3], [4, 4, 12], [6, 1, 0]])\n"
     ]
    }
   ],
   "source": [
    "print(w.values()) #values"
   ]
  },
  {
   "cell_type": "code",
   "execution_count": 47,
   "metadata": {},
   "outputs": [
    {
     "name": "stdout",
     "output_type": "stream",
     "text": [
      "dict_items([('a', [1, 2, 3]), ('b', [4, 4, 12]), ('c', [6, 1, 0])])\n"
     ]
    }
   ],
   "source": [
    "print(w.items()) #all"
   ]
  },
  {
   "cell_type": "code",
   "execution_count": 48,
   "metadata": {},
   "outputs": [
    {
     "data": {
      "text/plain": [
       "True"
      ]
     },
     "execution_count": 48,
     "metadata": {},
     "output_type": "execute_result"
    }
   ],
   "source": [
    "{'a':1, 'b':3} == {'b':3, 'a':1} #dictionaries are unordered, for example {\"a\":1, \"b\":2} is the same as {\"b\":2, \"a\":1}"
   ]
  },
  {
   "cell_type": "code",
   "execution_count": 49,
   "metadata": {},
   "outputs": [],
   "source": [
    "#Creating a dictionary using 2 lists\n",
    "\n",
    "keys = [\"M1\",\"M2\"]\n",
    "values = [[1,2,3,4],[5,6,7,8]]\n",
    "\n",
    "d = dict(zip(keys, values))"
   ]
  },
  {
   "cell_type": "code",
   "execution_count": 50,
   "metadata": {},
   "outputs": [
    {
     "name": "stdout",
     "output_type": "stream",
     "text": [
      "{'M1': [1, 2, 3, 4], 'M2': [5, 6, 7, 8]}\n"
     ]
    }
   ],
   "source": [
    "print(d)"
   ]
  },
  {
   "cell_type": "code",
   "execution_count": 51,
   "metadata": {},
   "outputs": [],
   "source": [
    "d[\"M3\"] = [5,6,11,10] #adding key with value"
   ]
  },
  {
   "cell_type": "code",
   "execution_count": 52,
   "metadata": {},
   "outputs": [
    {
     "name": "stdout",
     "output_type": "stream",
     "text": [
      "{'M1': [1, 2, 3, 4], 'M2': [5, 6, 7, 8], 'M3': [5, 6, 11, 10]}\n"
     ]
    }
   ],
   "source": [
    "print(d)"
   ]
  },
  {
   "cell_type": "markdown",
   "metadata": {},
   "source": [
    "<h4> Exercise: Let's define two lists: [\"a1\",\"a2\",\"a3\"] and [[3,4],[6,7],[8,6]], and then create a dictionary, where the elements from the first list are keys, and values come from the second one."
   ]
  },
  {
   "cell_type": "markdown",
   "metadata": {},
   "source": [
    "<h4> Loops"
   ]
  },
  {
   "cell_type": "code",
   "execution_count": 53,
   "metadata": {},
   "outputs": [
    {
     "name": "stdout",
     "output_type": "stream",
     "text": [
      "0\n",
      "1\n",
      "2\n",
      "3\n",
      "4\n",
      "5\n",
      "6\n",
      "7\n"
     ]
    }
   ],
   "source": [
    "#print subsequent numbers from 0 to 7\n",
    "\n",
    "for i in range(8):  \n",
    "    print(i)"
   ]
  },
  {
   "cell_type": "code",
   "execution_count": 54,
   "metadata": {},
   "outputs": [],
   "source": [
    "#sum up the subsequent numbers from 3 to 11\n",
    "\n",
    "S = 0\n",
    "for i in range(3,12):\n",
    "    S += i                \n",
    "    "
   ]
  },
  {
   "cell_type": "code",
   "execution_count": 55,
   "metadata": {},
   "outputs": [
    {
     "name": "stdout",
     "output_type": "stream",
     "text": [
      "63\n"
     ]
    }
   ],
   "source": [
    "print(S)"
   ]
  },
  {
   "cell_type": "markdown",
   "metadata": {},
   "source": [
    "<h4> Exercise: Calculate the product of subsequent numbers from 5 to 18 i.e.:  $5 \\cdot 6\\cdot7...\\cdot18$"
   ]
  },
  {
   "cell_type": "code",
   "execution_count": 56,
   "metadata": {},
   "outputs": [
    {
     "name": "stdout",
     "output_type": "stream",
     "text": [
      "266765571072000\n"
     ]
    }
   ],
   "source": [
    "#your code"
   ]
  },
  {
   "cell_type": "markdown",
   "metadata": {},
   "source": [
    "<h4> Logic operators"
   ]
  },
  {
   "cell_type": "code",
   "execution_count": 57,
   "metadata": {},
   "outputs": [
    {
     "data": {
      "text/plain": [
       "False"
      ]
     },
     "execution_count": 57,
     "metadata": {},
     "output_type": "execute_result"
    }
   ],
   "source": [
    "1+2 == 4 #whether 1+2 equals 3?"
   ]
  },
  {
   "cell_type": "code",
   "execution_count": 58,
   "metadata": {},
   "outputs": [
    {
     "data": {
      "text/plain": [
       "True"
      ]
     },
     "execution_count": 58,
     "metadata": {},
     "output_type": "execute_result"
    }
   ],
   "source": [
    "1+2 != 5 #wheter 1+2 does not equal 5?"
   ]
  },
  {
   "cell_type": "code",
   "execution_count": 59,
   "metadata": {},
   "outputs": [
    {
     "data": {
      "text/plain": [
       "True"
      ]
     },
     "execution_count": 59,
     "metadata": {},
     "output_type": "execute_result"
    }
   ],
   "source": [
    "True and True"
   ]
  },
  {
   "cell_type": "code",
   "execution_count": 60,
   "metadata": {},
   "outputs": [
    {
     "data": {
      "text/plain": [
       "True"
      ]
     },
     "execution_count": 60,
     "metadata": {},
     "output_type": "execute_result"
    }
   ],
   "source": [
    "True or False"
   ]
  },
  {
   "cell_type": "code",
   "execution_count": 61,
   "metadata": {},
   "outputs": [
    {
     "data": {
      "text/plain": [
       "False"
      ]
     },
     "execution_count": 61,
     "metadata": {},
     "output_type": "execute_result"
    }
   ],
   "source": [
    "not True"
   ]
  },
  {
   "cell_type": "code",
   "execution_count": 62,
   "metadata": {},
   "outputs": [
    {
     "data": {
      "text/plain": [
       "True"
      ]
     },
     "execution_count": 62,
     "metadata": {},
     "output_type": "execute_result"
    }
   ],
   "source": [
    "\"a\" in \"abcd\" #wheter \"a\" character is in \"abcd\" string?"
   ]
  },
  {
   "cell_type": "code",
   "execution_count": 63,
   "metadata": {},
   "outputs": [
    {
     "name": "stdout",
     "output_type": "stream",
     "text": [
      "Three is less than two or five is greater than 0.\n"
     ]
    }
   ],
   "source": [
    "if 3>2 and 5<0:\n",
    "    print(\"Three is greater than two and five is less than 0.\")\n",
    "else:\n",
    "    print(\"Three is less than two or five is greater than 0.\")"
   ]
  },
  {
   "cell_type": "code",
   "execution_count": 64,
   "metadata": {},
   "outputs": [
    {
     "name": "stdout",
     "output_type": "stream",
     "text": [
      "14\n",
      "6\n",
      "13\n"
     ]
    }
   ],
   "source": [
    "#print all elements from list which are greater than 4\n",
    "\n",
    "x = [1,-2,14,6,2,4,13]\n",
    "\n",
    "for elem in x:\n",
    "    if elem > 4:\n",
    "        print(elem)"
   ]
  },
  {
   "cell_type": "markdown",
   "metadata": {},
   "source": [
    "<h4> Exercise: Let's define a list x=[1,3,4,7,10,14,−3,0] and create a new list which contains elements from x which are less than 5."
   ]
  },
  {
   "cell_type": "code",
   "execution_count": 65,
   "metadata": {},
   "outputs": [
    {
     "name": "stdout",
     "output_type": "stream",
     "text": [
      "[1, 3, 4, -3, 0]\n"
     ]
    }
   ],
   "source": [
    "#your code"
   ]
  },
  {
   "cell_type": "markdown",
   "metadata": {},
   "source": [
    "<h4> While loop"
   ]
  },
  {
   "cell_type": "code",
   "execution_count": 66,
   "metadata": {},
   "outputs": [
    {
     "name": "stdout",
     "output_type": "stream",
     "text": [
      "5\n",
      "4\n",
      "3\n",
      "2\n",
      "1\n"
     ]
    }
   ],
   "source": [
    "number = 5\n",
    "\n",
    "while number > 0:\n",
    "    print(number)\n",
    "    number -= 1"
   ]
  },
  {
   "cell_type": "markdown",
   "metadata": {},
   "source": [
    "<h4> Functions"
   ]
  },
  {
   "cell_type": "code",
   "execution_count": 67,
   "metadata": {},
   "outputs": [],
   "source": [
    "# define a function that check whether a number is negative\n",
    "\n",
    "def whether_negative(x):\n",
    "    if x >= 0: \n",
    "        return \"non negative\"\n",
    "    else:\n",
    "        return \"negative\""
   ]
  },
  {
   "cell_type": "code",
   "execution_count": 68,
   "metadata": {},
   "outputs": [
    {
     "name": "stdout",
     "output_type": "stream",
     "text": [
      "non negative\n"
     ]
    }
   ],
   "source": [
    "print(whether_negative(4))"
   ]
  },
  {
   "cell_type": "code",
   "execution_count": 69,
   "metadata": {},
   "outputs": [
    {
     "name": "stdout",
     "output_type": "stream",
     "text": [
      "negative\n"
     ]
    }
   ],
   "source": [
    "print(whether_negative(-7))"
   ]
  },
  {
   "cell_type": "code",
   "execution_count": 70,
   "metadata": {},
   "outputs": [],
   "source": [
    "# define a function that makes a square of value passed\n",
    "\n",
    "def square(x):\n",
    "    return x**0.5"
   ]
  },
  {
   "cell_type": "code",
   "execution_count": 71,
   "metadata": {},
   "outputs": [
    {
     "name": "stdout",
     "output_type": "stream",
     "text": [
      "6.0\n"
     ]
    }
   ],
   "source": [
    "print(square(36))"
   ]
  },
  {
   "cell_type": "markdown",
   "metadata": {},
   "source": [
    "<h4> Exercise: Define a function Sign that takes a list of numbers and returns a list that contains 1 when element was non negative and -1 when element was negative. Applying this function to [3,4,-1,0,-4,1] one should obtain [1,1,-1,1,-1,1]."
   ]
  },
  {
   "cell_type": "code",
   "execution_count": 72,
   "metadata": {},
   "outputs": [
    {
     "name": "stdout",
     "output_type": "stream",
     "text": [
      "[1, 1, -1, 1, -1, 1]\n"
     ]
    }
   ],
   "source": [
    "#your code"
   ]
  },
  {
   "cell_type": "markdown",
   "metadata": {},
   "source": [
    "<h4> Some remarks"
   ]
  },
  {
   "cell_type": "markdown",
   "metadata": {},
   "source": [
    "- the name of variables should not start with a number:"
   ]
  },
  {
   "cell_type": "code",
   "execution_count": 73,
   "metadata": {},
   "outputs": [],
   "source": [
    "#1x = 40  #bad name"
   ]
  },
  {
   "cell_type": "code",
   "execution_count": 74,
   "metadata": {},
   "outputs": [],
   "source": [
    "x1 = 40 #good name (names can include numbers but not as a first character)"
   ]
  },
  {
   "cell_type": "code",
   "execution_count": 75,
   "metadata": {},
   "outputs": [],
   "source": [
    "#x y = 50  #name for variable can not include spaces - we can use _ "
   ]
  },
  {
   "cell_type": "code",
   "execution_count": 76,
   "metadata": {},
   "outputs": [],
   "source": [
    "x_y = 50  #good name, other solution:   xy=50"
   ]
  },
  {
   "cell_type": "markdown",
   "metadata": {},
   "source": [
    "- take care about indentations (especially in: for/while loop, if conditon, defining a function) - using Tab\n",
    "\n",
    "- use comments to make your code clear for a reader and for yourself"
   ]
  },
  {
   "cell_type": "code",
   "execution_count": 77,
   "metadata": {},
   "outputs": [
    {
     "name": "stdout",
     "output_type": "stream",
     "text": [
      "2\n",
      "3\n",
      "4\n"
     ]
    }
   ],
   "source": [
    "for i in range(2,5): #for numbers 2,3,4 (without 5) \n",
    "    print(i)         #printing subsequent number "
   ]
  },
  {
   "cell_type": "markdown",
   "metadata": {},
   "source": [
    "- for commenting many lines use \"\"\" comment \"\"\"\""
   ]
  },
  {
   "cell_type": "code",
   "execution_count": 78,
   "metadata": {},
   "outputs": [],
   "source": [
    "def MyFunction(x):\n",
    "    \n",
    "    \"\"\"My fuction adds 3 to an argument.\n",
    "    Making a comment inside\n",
    "    a function is a good practice\"\"\"\n",
    "    \n",
    "    return x+3"
   ]
  },
  {
   "cell_type": "code",
   "execution_count": 79,
   "metadata": {},
   "outputs": [
    {
     "name": "stdout",
     "output_type": "stream",
     "text": [
      "8\n"
     ]
    }
   ],
   "source": [
    "print(MyFunction(5))"
   ]
  },
  {
   "cell_type": "markdown",
   "metadata": {},
   "source": [
    "- if your code is large (many many lines), write it for example in text editor and next copy it into Python compiller"
   ]
  },
  {
   "cell_type": "markdown",
   "metadata": {},
   "source": [
    "<h4> Example: Create a list that contains 20 elements. The first element is 5 and each subsequent element is 3 greater than the previous one.\n"
   ]
  },
  {
   "cell_type": "code",
   "execution_count": 80,
   "metadata": {},
   "outputs": [],
   "source": [
    "#Solution\n",
    "\n",
    "x = [5] #we create a list thah contains the first element - 5\n",
    "\n",
    "while len(x) < 20:      #while the lenghth of the list x is less than 20 do sth\n",
    "    x.append(x[-1]+3)   #append subsequent element to to the list x, which is the sum of the last element from x (x[-1]) and 3"
   ]
  },
  {
   "cell_type": "code",
   "execution_count": 81,
   "metadata": {},
   "outputs": [
    {
     "name": "stdout",
     "output_type": "stream",
     "text": [
      "[5, 8, 11, 14, 17, 20, 23, 26, 29, 32, 35, 38, 41, 44, 47, 50, 53, 56, 59, 62]\n"
     ]
    }
   ],
   "source": [
    "print(x)"
   ]
  },
  {
   "cell_type": "markdown",
   "metadata": {},
   "source": [
    "<h4> Example: We will construct a sequence. The first two numbers are 2 and 3. The next number is the sum of the previous two. As a result, we have 2, 3, 5, 8, 13, 21,... Create a list in Python that contains the first 10 elements of this sequence."
   ]
  },
  {
   "cell_type": "code",
   "execution_count": 82,
   "metadata": {},
   "outputs": [],
   "source": [
    "#Solution\n",
    "\n",
    "x = [2,3] #we create a list that contains the first two elements\n",
    "\n",
    "while len(x) < 10:\n",
    "    x.append(x[-1]+x[-2])  #adding the last two elements of the list x"
   ]
  },
  {
   "cell_type": "markdown",
   "metadata": {},
   "source": [
    "<h4> Exercise: We will construct a sequence. The first three numbers are 0.5, 1 and 2. The next numbers is the product of the previous three. As a result, we have 0.5, 1, 2, 1, 2, 4, 8, 64, ... Create a list in Python that contains the first 10 elements of this sequence."
   ]
  },
  {
   "cell_type": "code",
   "execution_count": 2,
   "metadata": {},
   "outputs": [],
   "source": [
    "#your code"
   ]
  },
  {
   "cell_type": "markdown",
   "metadata": {},
   "source": [
    "<h4> Example: Let's write a function Factorial that return the product of all natural numbers less or equal than a given number. For example Factorial(5) should return 120 (because 1⋅2⋅3⋅4⋅5=120)."
   ]
  },
  {
   "cell_type": "code",
   "execution_count": 3,
   "metadata": {},
   "outputs": [],
   "source": [
    "# Solution\n",
    "\n",
    "def Factorial(x):\n",
    "    \n",
    "    \"\"\"\n",
    "    This function returns the product\n",
    "    of all natural numbers less \n",
    "    or equal than a given number.\n",
    "    \"\"\"\n",
    "    \n",
    "    if x==1:   #if our number is 1, return 1\n",
    "        return x\n",
    "    elif x>1: #if our number is greater than 1, second case\n",
    "        n=1   #let's define a variable n = 1\n",
    "        for i in range(1,x+1):   #range(1,x+1) includes numbers 1,2,3,4...., x\n",
    "            n=n*i  #we multiply n by 1,2,3,4 etc. until x using for loop\n",
    "        return n\n",
    "    else:\n",
    "        return \"Your number is not a natural number!\""
   ]
  },
  {
   "cell_type": "code",
   "execution_count": 84,
   "metadata": {},
   "outputs": [
    {
     "name": "stdout",
     "output_type": "stream",
     "text": [
      "1\n"
     ]
    }
   ],
   "source": [
    "print(Factorial(1)) "
   ]
  },
  {
   "cell_type": "code",
   "execution_count": 85,
   "metadata": {},
   "outputs": [
    {
     "name": "stdout",
     "output_type": "stream",
     "text": [
      "120\n"
     ]
    }
   ],
   "source": [
    "print(Factorial(5))"
   ]
  },
  {
   "cell_type": "code",
   "execution_count": 86,
   "metadata": {},
   "outputs": [
    {
     "name": "stdout",
     "output_type": "stream",
     "text": [
      "Your number is not a natural number!\n"
     ]
    }
   ],
   "source": [
    "print(Factorial(-2))"
   ]
  },
  {
   "cell_type": "markdown",
   "metadata": {},
   "source": [
    "<h4> Exercise: Let's write a function SumAll that return the sum of all natural numbers less or equal than a given number. For example SumAll(5) should return 15 (because 1+2+3+4+5 = 15)."
   ]
  },
  {
   "cell_type": "code",
   "execution_count": 4,
   "metadata": {},
   "outputs": [],
   "source": [
    "#your code"
   ]
  },
  {
   "cell_type": "markdown",
   "metadata": {},
   "source": [
    "<h4> Example: Create a function RestOne (with two arguments: n and x) that returns the list containing natural numbers from 1 to n, which gave the rest 1 when divided by x."
   ]
  },
  {
   "cell_type": "code",
   "execution_count": 5,
   "metadata": {},
   "outputs": [],
   "source": [
    "#Solution\n",
    "\n",
    "def RestOne(n, x):\n",
    "    \n",
    "    \"\"\"\n",
    "    This function returns the list\n",
    "    containing natural numbers from \n",
    "    1 to n, which gave the rest 1 \n",
    "    when divided by x\n",
    "    \"\"\"\n",
    "    \n",
    "    a = []  #creating an empty list\n",
    "    for i in range(1, n+1):\n",
    "        if i%x == 1:\n",
    "            a.append(i)\n",
    "    return a"
   ]
  },
  {
   "cell_type": "code",
   "execution_count": 88,
   "metadata": {},
   "outputs": [
    {
     "name": "stdout",
     "output_type": "stream",
     "text": [
      "[1, 6, 11, 16]\n"
     ]
    }
   ],
   "source": [
    "print(RestOne(20, 5))   #1 = 5*0 +1,    6 = 5*1 +1,    11=5*2 +1,   16=5*3 +1"
   ]
  },
  {
   "cell_type": "markdown",
   "metadata": {},
   "source": [
    "<h4> Exercise: Create a function WhichPrime (with one argument n) that returns the list containing prime numbers from 1 to n. For example WhichPrime(20) should return [2,3,5,7,11,13,19].\n"
   ]
  },
  {
   "cell_type": "markdown",
   "metadata": {},
   "source": [
    "Hint: Prime number is a natural number (greater than 1) that is divided only by 1 and itself, so if I divide natural number p by 2,3,4,...,p-1 I get the rest greater than 0."
   ]
  },
  {
   "cell_type": "code",
   "execution_count": 6,
   "metadata": {},
   "outputs": [],
   "source": [
    "#your code"
   ]
  },
  {
   "cell_type": "markdown",
   "metadata": {},
   "source": [
    "<h3> Biology and Python"
   ]
  },
  {
   "cell_type": "markdown",
   "metadata": {},
   "source": [
    "<h4> Translation"
   ]
  },
  {
   "cell_type": "code",
   "execution_count": 89,
   "metadata": {},
   "outputs": [
    {
     "name": "stdout",
     "output_type": "stream",
     "text": [
      "['Met', 'Val', 'His', 'Leu', 'Thr', 'Pro', 'Glu', 'Glu', 'Lys', 'Ser', 'Ala', 'Val', 'Thr', 'Ala', 'Leu', 'Trp', 'Gly', 'Lys', 'Val']\n"
     ]
    }
   ],
   "source": [
    "def ProteinTranslation(seq, code):\n",
    "    \n",
    "    \"\"\" This function translates a nucleic acid sequence into a\n",
    "    protein sequence, until the end or until it comes across\n",
    "    a stop codon \"\"\"\n",
    "    \n",
    "    protein = []\n",
    "    i = 0\n",
    "    while i+2 < len(seq):\n",
    "        codon = seq[i:i+3]\n",
    "        aminoacid = code[codon]\n",
    "        if aminoacid is None: # if found stop codon\n",
    "            break\n",
    "        protein.append(aminoacid)\n",
    "        i += 3\n",
    "    return protein\n",
    "\n",
    "GeneticCode = {'UUU':'Phe', 'UUC':'Phe', 'UCU':'Ser', 'UCC':'Ser',\n",
    "               'UAU':'Tyr', 'UAC':'Tyr', 'UGU':'Cys', 'UGC':'Cys',\n",
    "               'UUA':'Leu', 'UCA':'Ser', 'UAA': None, 'UGA':None,\n",
    "               'UUG':'Leu', 'UCG':'Ser', 'UAG': None, 'UGG':'Trp',\n",
    "               'CUU':'Leu', 'CUC':'Leu', 'CCU':'Pro', 'CCC':'Pro',\n",
    "               'CAU':'His', 'CAC':'His', 'CGU':'Arg', 'CGC':'Arg',\n",
    "               'CUA':'Leu', 'CUG':'Leu', 'CCA':'Pro', 'CCG':'Pro',\n",
    "               'CAA':'Gln', 'CAG':'Gln', 'CGA':'Arg', 'CGG':'Arg',\n",
    "               'AUU':'Ile', 'AUC':'Ile', 'ACU':'Thr', 'ACC':'Thr',\n",
    "               'AAU':'Asn', 'AAC':'Asn', 'AGU':'Ser', 'AGC':'Ser',\n",
    "               'AUA':'Ile', 'ACA':'Thr', 'AAA':'Lys', 'AGA':'Arg',\n",
    "               'AUG':'Met', 'ACG':'Thr', 'AAG':'Lys', 'AGG':'Arg',\n",
    "               'GUU':'Val', 'GUC':'Val', 'GCU':'Ala', 'GCC':'Ala',\n",
    "               'GAU':'Asp', 'GAC':'Asp', 'GGU':'Gly', 'GGC':'Gly',\n",
    "               'GUA':'Val', 'GUG':'Val', 'GCA':'Ala', 'GCG':'Ala',\n",
    "               'GAA':'Glu', 'GAG':'Glu', 'GGA':'Gly', 'GGG':'Gly'}\n",
    "\n",
    "sequence = 'AUGGUGCAUCUGACUCCUGAGGAGAAGUCUGCCGUUACUGCCCUGUGGGGCAAGGUG'\n",
    "\n",
    "protein_from_sequence = ProteinTranslation(sequence, GeneticCode)\n",
    "\n",
    "print(protein_from_sequence)"
   ]
  },
  {
   "cell_type": "markdown",
   "metadata": {},
   "source": [
    "<h4> Molecular mass"
   ]
  },
  {
   "cell_type": "code",
   "execution_count": 90,
   "metadata": {},
   "outputs": [],
   "source": [
    "def EstimateMass(seq, molecule='protein'):\n",
    "    \n",
    "    \"\"\"Calculate the molecular weight of a biological sequence assuming\n",
    "    normal isotopic ratios and protonation/modification states\n",
    "    \"\"\"\n",
    "    \n",
    "    masses = {\n",
    "                    \"DNA\": {\"G\":329.21, \"C\":289.18, \"A\":323.21, \"T\":304.19},\n",
    "        \n",
    "                    \"RNA\": {\"G\":345.21, \"C\":305.18, \"A\":329.21, \"U\":302.16},\n",
    "        \n",
    "                    \"protein\": {\"A\": 71.07, \"R\":156.18, \"N\":114.08, \"D\":115.08,\n",
    "                                \"C\":103.10, \"Q\":128.13, \"E\":129.11, \"G\": 57.05,\n",
    "                                \"H\":137.14, \"I\":113.15, \"L\":113.15, \"K\":128.17,\n",
    "                                \"M\":131.19, \"F\":147.17, \"P\": 97.11, \"S\": 87.07,\n",
    "                                \"T\":101.10, \"W\":186.20, \"Y\":163.17, \"V\": 99.13}}\n",
    "\n",
    "    m = 18.02 #extra H + O-H \n",
    "    \n",
    "    massDict = masses[molecule]\n",
    "    \n",
    "    for letter in seq:  \n",
    "        m += massDict.get(letter, 0.0) #0 if a key does not exist\n",
    "        \n",
    "    return m"
   ]
  },
  {
   "cell_type": "code",
   "execution_count": 91,
   "metadata": {},
   "outputs": [
    {
     "name": "stdout",
     "output_type": "stream",
     "text": [
      "5370.179999999999\n"
     ]
    }
   ],
   "source": [
    "protein_seq = 'IRTNGTHMQPLLKLMKFQKFLLELFTLQKRKPEKGYNLPIISLNQ'\n",
    "p_mass = EstimateMass(protein_seq)\n",
    "print(p_mass)"
   ]
  },
  {
   "cell_type": "code",
   "execution_count": 92,
   "metadata": {},
   "outputs": [
    {
     "name": "stdout",
     "output_type": "stream",
     "text": [
      "13593.65999999999\n"
     ]
    }
   ],
   "source": [
    "dna_seq = 'AUGGUGCAUCUGACUCCUGAGGAGAAGUCUGCCGUUACUGCCCUGUGGGGCAAGGUG'\n",
    "dna_mass = EstimateMass(dna_seq, molecule='DNA')\n",
    "print(dna_mass)"
   ]
  },
  {
   "cell_type": "markdown",
   "metadata": {},
   "source": [
    "<h4> GC content"
   ]
  },
  {
   "cell_type": "code",
   "execution_count": 93,
   "metadata": {},
   "outputs": [
    {
     "name": "stdout",
     "output_type": "stream",
     "text": [
      "[0.5, 0.5, 0.6, 0.5, 0.5, 0.5, 0.5, 0.5, 0.5, 0.6, 0.5, 0.6, 0.6, 0.6, 0.6, 0.6, 0.5, 0.5, 0.5, 0.5, 0.5, 0.5, 0.5, 0.6, 0.6, 0.6, 0.6, 0.5, 0.6, 0.5, 0.6, 0.6, 0.6, 0.6, 0.5, 0.6, 0.6, 0.7, 0.7, 0.8, 0.8, 0.8, 0.7, 0.6, 0.7, 0.7, 0.7]\n"
     ]
    }
   ],
   "source": [
    "def GC_Content(seq, window=10):\n",
    "    \n",
    "    gc = []\n",
    "    for i in range(len(seq)-window):\n",
    "        subseq = seq[i:i+window]\n",
    "        num_gc = subseq.count('G') + subseq.count('C')\n",
    "        value = num_gc/window\n",
    "        gc.append(value)\n",
    "        \n",
    "    return gc\n",
    "\n",
    "\n",
    "dna_seq = 'AUGGUGCAUCUGACUCCUGAGGAGAAGUCUGCCGUUACUGCCCUGUGGGGCAAGGUG'\n",
    "gc_percent = GC_Content(dna_seq)\n",
    "print(gc_percent)"
   ]
  },
  {
   "cell_type": "code",
   "execution_count": 94,
   "metadata": {},
   "outputs": [
    {
     "data": {
      "text/plain": [
       "[57, 47]"
      ]
     },
     "execution_count": 94,
     "metadata": {},
     "output_type": "execute_result"
    }
   ],
   "source": [
    "[len(dna_seq), len(gc_percent)]"
   ]
  },
  {
   "cell_type": "code",
   "execution_count": 95,
   "metadata": {},
   "outputs": [
    {
     "data": {
      "image/png": "[encoded data removed]",
      "text/plain": [
       "<Figure size 432x288 with 1 Axes>"
      ]
     },
     "metadata": {
      "needs_background": "light"
     },
     "output_type": "display_data"
    }
   ],
   "source": [
    "import matplotlib.pyplot as plt #external library for plotting \n",
    "\n",
    "plt.plot(gc_percent)\n",
    "plt.show()"
   ]
  },
  {
   "cell_type": "markdown",
   "metadata": {},
   "source": [
    "<h4> Hydrophobicity\n"
   ]
  },
  {
   "cell_type": "code",
   "execution_count": 96,
   "metadata": {},
   "outputs": [],
   "source": [
    "def Hydrophobicity(seq, scale, winSize=15):\n",
    "    \n",
    "    \"\"\"Scan a protein sequence for hydrophobic regions using the GES\n",
    "    hydrophobicity scale.\n",
    "    \"\"\"\n",
    "    \n",
    "    score = None\n",
    "    scoreList = []\n",
    "    for i in range(len(seq)- winSize):\n",
    "        \n",
    "        j = i + winSize\n",
    "        \n",
    "        if score is None:\n",
    "            score = 0\n",
    "            for k in range(i,j):\n",
    "                score += scale[seq[k]]\n",
    "        else:\n",
    "            score += scale[seq[j-1]]\n",
    "            score -= scale[seq[i-1]]\n",
    "            \n",
    "        scoreList.append(score)\n",
    "        \n",
    "    return scoreList\n",
    "\n",
    "\n",
    "GES_SCALE = {'F':-3.7,'M':-3.4,'I':-3.1,'L':-2.8,'V':-2.6,\n",
    "             'C':-2.0,'W':-1.9,'A':-1.6,'T':-1.2,'G':-1.0,\n",
    "             'S':-0.6,'P': 0.2,'Y': 0.7,'H': 3.0,'Q': 4.1,\n",
    "             'N': 4.8,'E': 8.2,'K': 8.8,'D': 9.2,'R':12.3}\n",
    "\n",
    "\n",
    "protein_seq = 'IRTNGTHMQPLLKLMKFQKFLLELFTLQKRKPEKGYNLPIISLNQ'\n",
    "hyd = Hydrophobicity(protein_seq, GES_SCALE)"
   ]
  },
  {
   "cell_type": "code",
   "execution_count": 97,
   "metadata": {},
   "outputs": [
    {
     "data": {
      "image/png": "[encoded data removed]",
      "text/plain": [
       "<Figure size 432x288 with 1 Axes>"
      ]
     },
     "metadata": {
      "needs_background": "light"
     },
     "output_type": "display_data"
    }
   ],
   "source": [
    "import matplotlib.pyplot as plt \n",
    "\n",
    "plt.plot(hyd)\n",
    "plt.show()"
   ]
  },
  {
   "cell_type": "markdown",
   "metadata": {},
   "source": [
    "<h4> Exercise: Below, there is a hydrophobic profile for a protein  X . Which regions do you predict to be located inside a lipid bilayer?"
   ]
  },
  {
   "cell_type": "code",
   "execution_count": 98,
   "metadata": {},
   "outputs": [
    {
     "data": {
      "image/png": "[encoded data removed]",
      "text/plain": [
       "<Figure size 432x288 with 1 Axes>"
      ]
     },
     "metadata": {
      "needs_background": "light"
     },
     "output_type": "display_data"
    }
   ],
   "source": [
    "gp = \"MAFLIILITCFVIILATSQPCQTPDDFVAATSPGHIIIGGLFAIHEKMLSSEDSPRRPQIQECVGFEISVFLQTLAMIHSIEMINNSTLLPGVKLGYEIYDTCTEVTVAMAATLRFLSKFNCSRETVEFKCDYSSYMPRVKAVIGSGYSEITMAVSRMLNLQLMPQVGYESTAEILSDKIRFPSFLRTVPSDFHQIKAMAHLIQKSGWNWIGIITTDDDYGRLALNTFIIQAEANNVCIAFKEVLPAFLSDNTIEVRINRTLKKIILEAQVNVIVVFLRQFHVFDLFNKAIEMNINKMWIASDNWSTATKITTIPNVKKIGKVVGFAFRRGNISSFHSFLQNLHLLPSDSHKLLHEYAMHLSACAYVKDTDLSQCIFNHSQRTLAYKANKAIERNFVMRNDFLWDYAEPGLIHSIQLAVFALGYAIRDLCQARDCQNPNAFQPWELLGVLKNVTFTDGWNSFHFDAHGDLNTGYDVVLWKEINGHMTVTKMAEYDLQNDVFIIPDQETKNEFRNLKQIQSKCSKECSPGQMKKTTRSQHICCYECQNCPENHYTNQTDMPHCLLCNNKTHWAPVRSTMCFEKEVEYLNWNDSLAILLLILSLLGIIFVLVVGIIFTRNLNTPVVKSSGGLRVCYVILLCHFLNFASTSFFIGEPQDFTCKTRQTMFGVSFTLCISCILTKSLKILLAFSFDPKLQKFLKCLYRPILIIFTCTGIQVVICTLWLIFAAPTVEVNVSLPRVIILECEEGSILAFGTMLGYIAILAFICFIFAFKGKYENYNEAKFITFGMLIYFIAWITFIPIYATTFGKYVPAVEIIVILISNYGILYCTFIPKCYVIICKQEINTKSAFLKMIYSYSSHSVSSIALSPASLDSMSGNVTMTNPSSSGKSATWQKSKDLQAQAFAHICRENATSVSKTLPRKRMSSI\"\n",
    "\n",
    "hyd = Hydrophobicity(gp, GES_SCALE, winSize=30)\n",
    "plt.plot(hyd)\n",
    "plt.show()"
   ]
  },
  {
   "cell_type": "markdown",
   "metadata": {},
   "source": [
    "<h4> Exercise*: Define, CAI (codon adaptation index) function."
   ]
  }
 ],
 "metadata": {
  "kernelspec": {
   "display_name": "Python 3",
   "language": "python",
   "name": "python3"
  },
  "language_info": {
   "codemirror_mode": {
    "name": "ipython",
    "version": 3
   },
   "file_extension": ".py",
   "mimetype": "text/x-python",
   "name": "python",
   "nbconvert_exporter": "python",
   "pygments_lexer": "ipython3",
   "version": "3.8.5"
  }
 },
 "nbformat": 4,
 "nbformat_minor": 5
}
