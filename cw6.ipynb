{
 "cells": [
  {
   "cell_type": "markdown",
   "metadata": {},
   "source": [
    "<h4> Biblioteka numpy"
   ]
  },
  {
   "cell_type": "code",
   "execution_count": 21,
   "metadata": {},
   "outputs": [
    {
     "name": "stdout",
     "output_type": "stream",
     "text": [
      "[1 2 3 4 5 6 7 8]\n"
     ]
    }
   ],
   "source": [
    "import numpy as np\n",
    "\n",
    "a = np.array([1,2,3,4,5,6,7,8])\n",
    "print(a)"
   ]
  },
  {
   "cell_type": "markdown",
   "metadata": {},
   "source": [
    "<h4> Lista a array"
   ]
  },
  {
   "cell_type": "code",
   "execution_count": 2,
   "metadata": {},
   "outputs": [
    {
     "name": "stdout",
     "output_type": "stream",
     "text": [
      "['__add__', '__class__', '__contains__', '__delattr__', '__delitem__', '__dir__', '__doc__', '__eq__', '__format__', '__ge__', '__getattribute__', '__getitem__', '__gt__', '__hash__', '__iadd__', '__imul__', '__init__', '__init_subclass__', '__iter__', '__le__', '__len__', '__lt__', '__mul__', '__ne__', '__new__', '__reduce__', '__reduce_ex__', '__repr__', '__reversed__', '__rmul__', '__setattr__', '__setitem__', '__sizeof__', '__str__', '__subclasshook__', 'append', 'clear', 'copy', 'count', 'extend', 'index', 'insert', 'pop', 'remove', 'reverse', 'sort']\n"
     ]
    }
   ],
   "source": [
    "x = [1,2,3]\n",
    "print(dir(x))"
   ]
  },
  {
   "cell_type": "code",
   "execution_count": 3,
   "metadata": {},
   "outputs": [
    {
     "name": "stdout",
     "output_type": "stream",
     "text": [
      "['T', '__abs__', '__add__', '__and__', '__array__', '__array_finalize__', '__array_function__', '__array_interface__', '__array_prepare__', '__array_priority__', '__array_struct__', '__array_ufunc__', '__array_wrap__', '__bool__', '__class__', '__class_getitem__', '__complex__', '__contains__', '__copy__', '__deepcopy__', '__delattr__', '__delitem__', '__dir__', '__divmod__', '__dlpack__', '__dlpack_device__', '__doc__', '__eq__', '__float__', '__floordiv__', '__format__', '__ge__', '__getattribute__', '__getitem__', '__gt__', '__hash__', '__iadd__', '__iand__', '__ifloordiv__', '__ilshift__', '__imatmul__', '__imod__', '__imul__', '__index__', '__init__', '__init_subclass__', '__int__', '__invert__', '__ior__', '__ipow__', '__irshift__', '__isub__', '__iter__', '__itruediv__', '__ixor__', '__le__', '__len__', '__lshift__', '__lt__', '__matmul__', '__mod__', '__mul__', '__ne__', '__neg__', '__new__', '__or__', '__pos__', '__pow__', '__radd__', '__rand__', '__rdivmod__', '__reduce__', '__reduce_ex__', '__repr__', '__rfloordiv__', '__rlshift__', '__rmatmul__', '__rmod__', '__rmul__', '__ror__', '__rpow__', '__rrshift__', '__rshift__', '__rsub__', '__rtruediv__', '__rxor__', '__setattr__', '__setitem__', '__setstate__', '__sizeof__', '__str__', '__sub__', '__subclasshook__', '__truediv__', '__xor__', 'all', 'any', 'argmax', 'argmin', 'argpartition', 'argsort', 'astype', 'base', 'byteswap', 'choose', 'clip', 'compress', 'conj', 'conjugate', 'copy', 'ctypes', 'cumprod', 'cumsum', 'data', 'diagonal', 'dot', 'dtype', 'dump', 'dumps', 'fill', 'flags', 'flat', 'flatten', 'getfield', 'imag', 'item', 'itemset', 'itemsize', 'max', 'mean', 'min', 'nbytes', 'ndim', 'newbyteorder', 'nonzero', 'partition', 'prod', 'ptp', 'put', 'ravel', 'real', 'repeat', 'reshape', 'resize', 'round', 'searchsorted', 'setfield', 'setflags', 'shape', 'size', 'sort', 'squeeze', 'std', 'strides', 'sum', 'swapaxes', 'take', 'tobytes', 'tofile', 'tolist', 'tostring', 'trace', 'transpose', 'var', 'view']\n"
     ]
    }
   ],
   "source": [
    "y = np.array(x)\n",
    "print(dir(y))"
   ]
  },
  {
   "cell_type": "code",
   "execution_count": 4,
   "metadata": {},
   "outputs": [
    {
     "data": {
      "text/plain": [
       "8"
      ]
     },
     "execution_count": 4,
     "metadata": {},
     "output_type": "execute_result"
    }
   ],
   "source": [
    "len(a)"
   ]
  },
  {
   "cell_type": "code",
   "execution_count": 5,
   "metadata": {},
   "outputs": [
    {
     "data": {
      "text/plain": [
       "array([2, 3, 4, 5, 6, 7])"
      ]
     },
     "execution_count": 5,
     "metadata": {},
     "output_type": "execute_result"
    }
   ],
   "source": [
    "a[1:7]"
   ]
  },
  {
   "cell_type": "code",
   "execution_count": 6,
   "metadata": {},
   "outputs": [
    {
     "data": {
      "text/plain": [
       "array([2, 4, 6])"
      ]
     },
     "execution_count": 6,
     "metadata": {},
     "output_type": "execute_result"
    }
   ],
   "source": [
    "a[1:7:2]"
   ]
  },
  {
   "cell_type": "code",
   "execution_count": 7,
   "metadata": {},
   "outputs": [],
   "source": [
    "a = np.append(a,22)"
   ]
  },
  {
   "cell_type": "code",
   "execution_count": 8,
   "metadata": {},
   "outputs": [
    {
     "data": {
      "text/plain": [
       "array([ 1,  2,  3,  4,  5,  6,  7,  8, 22])"
      ]
     },
     "execution_count": 8,
     "metadata": {},
     "output_type": "execute_result"
    }
   ],
   "source": [
    "a"
   ]
  },
  {
   "cell_type": "code",
   "execution_count": 9,
   "metadata": {},
   "outputs": [],
   "source": [
    "x1 = np.array([1,2,5,6,1,1,0])\n",
    "x2 = np.array([-1,7,13,2,0,0,1]) "
   ]
  },
  {
   "cell_type": "code",
   "execution_count": 10,
   "metadata": {},
   "outputs": [
    {
     "data": {
      "text/plain": [
       "array([ 0,  9, 18,  8,  1,  1,  1])"
      ]
     },
     "execution_count": 10,
     "metadata": {},
     "output_type": "execute_result"
    }
   ],
   "source": [
    "x1+x2"
   ]
  },
  {
   "cell_type": "code",
   "execution_count": 1,
   "metadata": {},
   "outputs": [
    {
     "data": {
      "text/plain": [
       "[1, 2, 5, 6, 1, 1, 0, -1, 7, 13, 2, 0, 0, 1]"
      ]
     },
     "execution_count": 1,
     "metadata": {},
     "output_type": "execute_result"
    }
   ],
   "source": [
    "x1 = [1,2,5,6,1,1,0]\n",
    "x2 = [-1,7,13,2,0,0,1]\n",
    "x1+x2"
   ]
  },
  {
   "cell_type": "code",
   "execution_count": 12,
   "metadata": {},
   "outputs": [
    {
     "name": "stdout",
     "output_type": "stream",
     "text": [
      "[ 0.84147098  0.90929743  0.14112001 -0.7568025  -0.95892427 -0.2794155 ]\n"
     ]
    }
   ],
   "source": [
    "#Wszystkie podstawowe funkcje matematyzne też znajdują sie w numpy\n",
    "\n",
    "x = np.array([1,2,3,4,5,6])\n",
    "y = np.sin(x) #liczy wartość funkcji sinus na każdym elemencie x\n",
    "print(y)"
   ]
  },
  {
   "cell_type": "markdown",
   "metadata": {},
   "source": [
    "<h4> Macierze jako array 2D"
   ]
  },
  {
   "cell_type": "code",
   "execution_count": 13,
   "metadata": {},
   "outputs": [
    {
     "name": "stdout",
     "output_type": "stream",
     "text": [
      "[[ 1  2  3]\n",
      " [ 4  5  6]\n",
      " [ 7  8  9]\n",
      " [10 11 12]]\n"
     ]
    }
   ],
   "source": [
    "A = np.array([\n",
    "    [1,2,3],\n",
    "    [4,5,6],\n",
    "    [7,8,9],\n",
    "    [10,11,12]\n",
    "])\n",
    "\n",
    "print(A)"
   ]
  },
  {
   "cell_type": "code",
   "execution_count": 14,
   "metadata": {},
   "outputs": [
    {
     "data": {
      "text/plain": [
       "(4, 3)"
      ]
     },
     "execution_count": 14,
     "metadata": {},
     "output_type": "execute_result"
    }
   ],
   "source": [
    "A.shape #wymiar"
   ]
  },
  {
   "cell_type": "code",
   "execution_count": 15,
   "metadata": {},
   "outputs": [
    {
     "name": "stdout",
     "output_type": "stream",
     "text": [
      "[[0. 0. 0. 0. 0.]\n",
      " [0. 0. 0. 0. 0.]\n",
      " [0. 0. 0. 0. 0.]]\n"
     ]
    }
   ],
   "source": [
    "Z = np.zeros((3, 5)) #macierz zerowa o 3 wierszach i 5 kolumnach\n",
    "print(Z)"
   ]
  },
  {
   "cell_type": "markdown",
   "metadata": {},
   "source": [
    "<h4> Operacje na macierzach"
   ]
  },
  {
   "cell_type": "code",
   "execution_count": 16,
   "metadata": {},
   "outputs": [],
   "source": [
    "A = np.array([\n",
    "    [1,2],\n",
    "    [3,4],\n",
    "])\n",
    "\n",
    "B = np.array([\n",
    "    [5,6],\n",
    "    [7,8]\n",
    "])"
   ]
  },
  {
   "cell_type": "code",
   "execution_count": 17,
   "metadata": {},
   "outputs": [
    {
     "data": {
      "text/plain": [
       "array([[ 6,  8],\n",
       "       [10, 12]])"
      ]
     },
     "execution_count": 17,
     "metadata": {},
     "output_type": "execute_result"
    }
   ],
   "source": [
    "A+B #dodawanie macierzy"
   ]
  },
  {
   "cell_type": "code",
   "execution_count": 18,
   "metadata": {},
   "outputs": [
    {
     "data": {
      "text/plain": [
       "array([[-4, -4],\n",
       "       [-4, -4]])"
      ]
     },
     "execution_count": 18,
     "metadata": {},
     "output_type": "execute_result"
    }
   ],
   "source": [
    "A-B #odejmowanie macierz"
   ]
  },
  {
   "cell_type": "code",
   "execution_count": 19,
   "metadata": {},
   "outputs": [
    {
     "data": {
      "text/plain": [
       "array([[ 5, 12],\n",
       "       [21, 32]])"
      ]
     },
     "execution_count": 19,
     "metadata": {},
     "output_type": "execute_result"
    }
   ],
   "source": [
    "A*B #mnożenie macierzy element po elemencie"
   ]
  },
  {
   "cell_type": "code",
   "execution_count": 20,
   "metadata": {},
   "outputs": [
    {
     "data": {
      "text/plain": [
       "array([[19, 22],\n",
       "       [43, 50]])"
      ]
     },
     "execution_count": 20,
     "metadata": {},
     "output_type": "execute_result"
    }
   ],
   "source": [
    "np.dot(A,B) #właściwe mnożenie macierzy"
   ]
  },
  {
   "cell_type": "code",
   "execution_count": 21,
   "metadata": {},
   "outputs": [
    {
     "data": {
      "text/plain": [
       "array([[ 8,  9],\n",
       "       [10, 11]])"
      ]
     },
     "execution_count": 21,
     "metadata": {},
     "output_type": "execute_result"
    }
   ],
   "source": [
    "A+7 #dodaj 7 do każdej wartości macierzy A"
   ]
  },
  {
   "cell_type": "code",
   "execution_count": 22,
   "metadata": {},
   "outputs": [
    {
     "name": "stdout",
     "output_type": "stream",
     "text": [
      "[[ 1  2  3  4]\n",
      " [ 5  6  7  8]\n",
      " [ 9 10 11 12]]\n"
     ]
    }
   ],
   "source": [
    "X = np.array([[1,2,3,4],[5,6,7,8],[9,10,11,12]])\n",
    "print(X)"
   ]
  },
  {
   "cell_type": "code",
   "execution_count": 23,
   "metadata": {},
   "outputs": [
    {
     "data": {
      "text/plain": [
       "(3, 4)"
      ]
     },
     "execution_count": 23,
     "metadata": {},
     "output_type": "execute_result"
    }
   ],
   "source": [
    "X.shape"
   ]
  },
  {
   "cell_type": "code",
   "execution_count": 24,
   "metadata": {},
   "outputs": [
    {
     "data": {
      "text/plain": [
       "array([[ 1,  2],\n",
       "       [ 3,  4],\n",
       "       [ 5,  6],\n",
       "       [ 7,  8],\n",
       "       [ 9, 10],\n",
       "       [11, 12]])"
      ]
     },
     "execution_count": 24,
     "metadata": {},
     "output_type": "execute_result"
    }
   ],
   "source": [
    "X.reshape((6,2)) #zmiana kształtu"
   ]
  },
  {
   "cell_type": "code",
   "execution_count": 25,
   "metadata": {},
   "outputs": [
    {
     "data": {
      "text/plain": [
       "array([[-2. ,  1. ],\n",
       "       [ 1.5, -0.5]])"
      ]
     },
     "execution_count": 25,
     "metadata": {},
     "output_type": "execute_result"
    }
   ],
   "source": [
    "np.linalg.inv(A) #macierz odwrotna"
   ]
  },
  {
   "cell_type": "code",
   "execution_count": 26,
   "metadata": {},
   "outputs": [
    {
     "data": {
      "text/plain": [
       "-2.0000000000000004"
      ]
     },
     "execution_count": 26,
     "metadata": {},
     "output_type": "execute_result"
    }
   ],
   "source": [
    "np.linalg.det(A) #wyznacznik macierzy A"
   ]
  },
  {
   "cell_type": "markdown",
   "metadata": {},
   "source": [
    "<h4> Zadanie1: Zdefiniuj dowolne dwie macierze kwadratowe $A$ i $B$ o wymiarach (3,3) (trzy kolumny i trzy wiersze). Przekonaj się, że mnożenie macierzy nie jest przemienne, tj. $AB$ i $BA$ to różne macierze."
   ]
  },
  {
   "cell_type": "markdown",
   "metadata": {},
   "source": [
    "<h4> Zadanie2: Wyznacz macierz $B^4+AB+6B^{-1}A$, gdzie $A$ i $B$ zdefiniowane w poprzednim zadaniu."
   ]
  },
  {
   "cell_type": "code",
   "execution_count": 27,
   "metadata": {},
   "outputs": [
    {
     "name": "stdout",
     "output_type": "stream",
     "text": [
      "Zmienna x wynosi 12.46\n"
     ]
    }
   ],
   "source": [
    "#Wstawka/f-stringi\n",
    "\n",
    "x = 12.456\n",
    "print(f'Zmienna x wynosi {x:.2f}')"
   ]
  },
  {
   "cell_type": "markdown",
   "metadata": {},
   "source": [
    "<h4> Regresja liniowa z użyciem algorytmu Backward"
   ]
  },
  {
   "cell_type": "code",
   "execution_count": 25,
   "metadata": {},
   "outputs": [
    {
     "name": "stdout",
     "output_type": "stream",
     "text": [
      "Ile wynosi f(5): 6.000\n",
      "epoch 1: a = 1.350, b = 1.130, loss = 43.50000000\n",
      "epoch 201: a = 2.611, b = 3.204, loss = 0.54165851\n",
      "epoch 401: a = 2.335, b = 4.014, loss = 0.16324936\n",
      "epoch 601: a = 2.184, b = 4.459, loss = 0.04920135\n",
      "epoch 801: a = 2.101, b = 4.703, loss = 0.01482869\n",
      "Ile wynosi f(5) po trenowaniu: 15.115\n"
     ]
    }
   ],
   "source": [
    "#Dane do treningu###########################\n",
    "X = np.array([1, 2, 3, 4], dtype=np.float32)\n",
    "Y = np.array([7, 9, 11, 13]) #czyli Y = a*X + b,  gdzie a=2, b=5\n",
    "############################################\n",
    "\n",
    "#Parametry początkowe#######################\n",
    "a = 1.0\n",
    "b = 1.0\n",
    "############################################\n",
    "\n",
    "\n",
    "#Postać modelu\n",
    "def forward(x):\n",
    "    return a*x+b\n",
    "\n",
    "#Funkcja kosztu\n",
    "def loss(y, y_pred):\n",
    "    return np.mean(((y_pred - y)**2))\n",
    "\n",
    "#Gradient\n",
    "def gradient(x, y, y_pred):\n",
    "    return np.mean(2*x*(y_pred - y)), np.mean(2*(y_pred - y)) #pochodne (po funkcji kosztu), obliczone ręcznie\n",
    "\n",
    "\n",
    "print(f'Ile wynosi f(5): {forward(5):.3f}')\n",
    "\n",
    "\n",
    "#Trenowanie########################################\n",
    "learning_rate = 0.01 #współczynnik uczenia \n",
    "n_iters = 1000 #liczba iteracji\n",
    "\n",
    "for epoch in range(n_iters):\n",
    "    y_pred = forward(X) #liczymy ile wynoszą przewidywane wartości dla X\n",
    "    l = loss(Y, y_pred) #wyznaczamy wartość funkcji kosztu\n",
    "    dl = gradient(X, Y, y_pred) #liczymy gradient\n",
    "    a -= learning_rate * dl[0]    #aktualizujemy parametr a\n",
    "    b -= learning_rate * dl[1]    ##aktualizujemy parametr b\n",
    "    \n",
    "    if epoch % 200 == 0: #Co 200 przejscie zobaczmy parametry i wartosc funkcji kosztu\n",
    "        print(f'epoch {epoch+1}: a = {a:.3f}, b = {b:.3f}, loss = {l:.8f}')\n",
    "  \n",
    "print(f'Ile wynosi f(5) po trenowaniu: {forward(5):.3f}')"
   ]
  },
  {
   "cell_type": "markdown",
   "metadata": {},
   "source": [
    "<h4> Zadanie3: Zdefiniuj dane uczące  X=np.array([1,2,3,4,5])  oraz  Y=np.array([−1,3,13,29,51]) . Zakładamy, że pomiędzy  X  i  Y  istnieje przybliżona zależność $Y=aX^2+bX+c$. Zbuduj model przewidujący wartość parametrów  a,b,c  w oparciu o  X  i  Y. Następnie wyznacz przewidywaną wartość dla  x=6 ."
   ]
  },
  {
   "cell_type": "markdown",
   "metadata": {},
   "source": [
    "<h4> Zadanie4: Zdefiniuj dane uczące  X=np.array([−3,−2,−1,0,1,2,3])  oraz  Y=np.array([27,−32,−13,0,−5,32,243]) . Zakładamy, że pomiędzy  X  i  Y  istnieje przybliżona zależność  $Y=aX^4+bX^3+cX^2+dX+e$. Zbuduj model przewidujący wartość parametrów  a,b,c,d,e  w oparciu o  X  i  Y . Przetestuj trzy rodzaje parametrów:\n",
    "\n",
    "- parametry początkowe: a=0, b=0, c=0, d=0, e=0; learning_rate=0.01; n_iters = 10\n",
    "\n",
    "- parametry początkowe: a=0, b=0, c=0, d=0, e=0; learning_rate=0.0001; n_iters = 10\n",
    "\n",
    "- parametry początkowe: a=0, b=0, c=0, d=0, e=0; learning_rate=0.0001; n_iters = 10000\n",
    "\n",
    "- parametry początkowe: a=2.7, b=4.2, c=-11.9, d=0.1, e=0; learning_rate=0.0001; n_iters = 10000\n",
    "\n",
    "wyświetlając za każdym razem tylko 5 epok z modelu (w równych odstępach czasu). Skomentuj otrzymane wyniki"
   ]
  },
  {
   "cell_type": "markdown",
   "metadata": {},
   "source": [
    "<h4> Biblioteka PyTorch - wprowadzenie"
   ]
  },
  {
   "cell_type": "code",
   "execution_count": 5,
   "metadata": {},
   "outputs": [],
   "source": [
    "import torch "
   ]
  },
  {
   "cell_type": "code",
   "execution_count": 30,
   "metadata": {},
   "outputs": [
    {
     "name": "stdout",
     "output_type": "stream",
     "text": [
      "tensor([1, 2, 3, 4, 6])\n"
     ]
    }
   ],
   "source": [
    "#tworzenie tensorow 1D\n",
    "\n",
    "t1 = torch.tensor([1,2,3,4,6])\n",
    "print(t1)"
   ]
  },
  {
   "cell_type": "code",
   "execution_count": 31,
   "metadata": {},
   "outputs": [
    {
     "name": "stdout",
     "output_type": "stream",
     "text": [
      "tensor([[ 1,  2,  3,  4,  6],\n",
      "        [ 7,  6, -2,  1,  0]])\n"
     ]
    }
   ],
   "source": [
    "#tworzenie tensorow 2D\n",
    "\n",
    "t2 = torch.tensor([[1,2,3,4,6],[7,6,-2,1,0]])\n",
    "print(t2)"
   ]
  },
  {
   "cell_type": "code",
   "execution_count": 32,
   "metadata": {},
   "outputs": [
    {
     "data": {
      "text/plain": [
       "tensor([1, 2, 3, 4, 6])"
      ]
     },
     "execution_count": 32,
     "metadata": {},
     "output_type": "execute_result"
    }
   ],
   "source": [
    "t2[0] #elementy tensora 2D to tensory 1D"
   ]
  },
  {
   "cell_type": "code",
   "execution_count": 33,
   "metadata": {},
   "outputs": [
    {
     "name": "stdout",
     "output_type": "stream",
     "text": [
      "tensor([[[ 1,  3],\n",
      "         [ 5, -1]],\n",
      "\n",
      "        [[ 0,  4],\n",
      "         [10, 11]]])\n"
     ]
    }
   ],
   "source": [
    "#tworzenie tensorow 3D\n",
    "\n",
    "t3 = torch.tensor([[[1,3], [5,-1]],[[0,4], [10,11]]])\n",
    "print(t3)"
   ]
  },
  {
   "cell_type": "code",
   "execution_count": 34,
   "metadata": {},
   "outputs": [
    {
     "data": {
      "text/plain": [
       "tensor([[ 1,  3],\n",
       "        [ 5, -1]])"
      ]
     },
     "execution_count": 34,
     "metadata": {},
     "output_type": "execute_result"
    }
   ],
   "source": [
    "t3[0] #elementy tensora 3D to tensory 2D"
   ]
  },
  {
   "cell_type": "markdown",
   "metadata": {},
   "source": [
    "<h4> Operacje na tensorach"
   ]
  },
  {
   "cell_type": "code",
   "execution_count": 35,
   "metadata": {},
   "outputs": [],
   "source": [
    "#tworzę dwa tensory 1D\n",
    "\n",
    "x  = torch.tensor([4,7])\n",
    "y  = torch.tensor([-2,3])"
   ]
  },
  {
   "cell_type": "code",
   "execution_count": 36,
   "metadata": {},
   "outputs": [
    {
     "name": "stdout",
     "output_type": "stream",
     "text": [
      "tensor([ 2, 10])\n"
     ]
    }
   ],
   "source": [
    "z1 = x+y #dodawanie tensorow\n",
    "print(z1)"
   ]
  },
  {
   "cell_type": "code",
   "execution_count": 37,
   "metadata": {},
   "outputs": [
    {
     "name": "stdout",
     "output_type": "stream",
     "text": [
      "tensor([-8, 21])\n"
     ]
    }
   ],
   "source": [
    "z2 = x*y #mnożenie tensorow\n",
    "print(z2)"
   ]
  },
  {
   "cell_type": "code",
   "execution_count": 38,
   "metadata": {},
   "outputs": [
    {
     "name": "stdout",
     "output_type": "stream",
     "text": [
      "tensor([[0., 0., 0., 0., 0.],\n",
      "        [0., 0., 0., 0., 0.]])\n"
     ]
    }
   ],
   "source": [
    "#Tensor zerowy o zadanych wymiarach\n",
    "a = torch.zeros([2,5])\n",
    "print(a)"
   ]
  },
  {
   "cell_type": "code",
   "execution_count": 39,
   "metadata": {},
   "outputs": [
    {
     "data": {
      "text/plain": [
       "torch.Size([2, 5])"
      ]
     },
     "execution_count": 39,
     "metadata": {},
     "output_type": "execute_result"
    }
   ],
   "source": [
    "a.shape #wymiary tensora a"
   ]
  },
  {
   "cell_type": "markdown",
   "metadata": {},
   "source": [
    "<h4> Tensory losowe"
   ]
  },
  {
   "cell_type": "code",
   "execution_count": 40,
   "metadata": {},
   "outputs": [
    {
     "name": "stdout",
     "output_type": "stream",
     "text": [
      "tensor([[0.4820, 0.3024, 0.6173],\n",
      "        [0.6214, 0.1780, 0.4908],\n",
      "        [0.9264, 0.3585, 0.3858],\n",
      "        [0.4100, 0.3380, 0.6361]])\n"
     ]
    }
   ],
   "source": [
    "b1 = torch.rand([4,3]) #tensor liczb losowych z rozkładu jednostajnego\n",
    "print(b1)"
   ]
  },
  {
   "cell_type": "code",
   "execution_count": 41,
   "metadata": {},
   "outputs": [
    {
     "name": "stdout",
     "output_type": "stream",
     "text": [
      "tensor([[[-0.6423, -1.4874, -0.4804,  0.9581, -0.6918],\n",
      "         [-0.7581, -0.8823, -0.1709, -0.5210,  0.9010],\n",
      "         [-0.1989, -0.9266, -0.9507, -0.2836, -1.2085],\n",
      "         [ 1.2416, -0.5363, -0.7282, -0.3636,  0.5127]],\n",
      "\n",
      "        [[ 0.7013,  0.3208,  1.5537,  0.6296, -1.8385],\n",
      "         [ 2.1334,  1.3272,  1.0909,  1.7875, -1.7143],\n",
      "         [-1.4874,  1.0700, -1.8206,  0.3654, -0.4310],\n",
      "         [-1.1849, -0.7481, -0.9042, -0.4140, -0.6792]],\n",
      "\n",
      "        [[-0.2982,  0.9868,  0.4614,  0.2485, -1.2234],\n",
      "         [ 0.1962,  0.0845,  1.5312, -0.7911, -1.3818],\n",
      "         [-0.7243, -0.9855, -1.2512, -1.1951, -0.0168],\n",
      "         [-0.3802,  0.3688,  0.5359, -0.3501,  0.0542]]])\n"
     ]
    }
   ],
   "source": [
    "b2 = torch.randn([3, 4, 5]) #tak jak wyzej, tylko tym razem z rozkladu normalnego/Gaussa [literka n na koncu]\n",
    "print(b2)"
   ]
  },
  {
   "cell_type": "code",
   "execution_count": 42,
   "metadata": {},
   "outputs": [
    {
     "name": "stdout",
     "output_type": "stream",
     "text": [
      "tensor([[0.4820, 0.3024, 0.6173, 0.6214, 0.1780, 0.4908, 0.9264, 0.3585, 0.3858,\n",
      "         0.4100, 0.3380, 0.6361]])\n"
     ]
    }
   ],
   "source": [
    "c1 = b1.view([1,12])  #view pełni te samą funkcję co reshape w numpy\n",
    "print(c1)"
   ]
  },
  {
   "cell_type": "code",
   "execution_count": 43,
   "metadata": {},
   "outputs": [
    {
     "name": "stdout",
     "output_type": "stream",
     "text": [
      "tensor([[0.4820, 0.3024, 0.6173, 0.6214, 0.1780, 0.4908],\n",
      "        [0.9264, 0.3585, 0.3858, 0.4100, 0.3380, 0.6361]])\n"
     ]
    }
   ],
   "source": [
    "c2 = b1.view([2,6])  #view pełni te samą funkcję co reshape w numpy\n",
    "print(c2)"
   ]
  },
  {
   "cell_type": "code",
   "execution_count": 44,
   "metadata": {},
   "outputs": [
    {
     "name": "stdout",
     "output_type": "stream",
     "text": [
      "tensor([[0.4820, 0.3024, 0.6173, 0.6214, 0.1780, 0.4908],\n",
      "        [0.9264, 0.3585, 0.3858, 0.4100, 0.3380, 0.6361]])\n"
     ]
    }
   ],
   "source": [
    "c3 = b1.view([2,-1])  #jezeli ustawie index na -1 to zostanie ustawiony domyslny rozmiar na tej pozycji (tak zeby było ok, przy załozonej wartosci drugiego indeksu)\n",
    "print(c3)"
   ]
  },
  {
   "cell_type": "code",
   "execution_count": 45,
   "metadata": {},
   "outputs": [
    {
     "name": "stdout",
     "output_type": "stream",
     "text": [
      "tensor([[0.4820, 0.3024],\n",
      "        [0.6173, 0.6214],\n",
      "        [0.1780, 0.4908],\n",
      "        [0.9264, 0.3585],\n",
      "        [0.3858, 0.4100],\n",
      "        [0.3380, 0.6361]])\n"
     ]
    }
   ],
   "source": [
    "c4 = b1.view([-1,2])  \n",
    "print(c4)"
   ]
  },
  {
   "cell_type": "markdown",
   "metadata": {},
   "source": [
    "<h4> Zadanie5. Utwórz dwa tensory jednowymiarowe  x=tensor([1,2,3,4,5,6])  oraz  y=tensor([7,8,3,−1.,−2,2]) . Następnie wyznacz nowy tensor wg przepisu  $z=x^3+2y$. Utwórz dwa nowe tensory (2D - o wymiarach 2 na 3 oraz 3D - o wymiarach 2,1,3 odpowiednio) poprzez zmianę wymiaru  z ."
   ]
  },
  {
   "cell_type": "markdown",
   "metadata": {},
   "source": [
    "<h4> Typy liczbowe"
   ]
  },
  {
   "cell_type": "code",
   "execution_count": 46,
   "metadata": {},
   "outputs": [
    {
     "name": "stdout",
     "output_type": "stream",
     "text": [
      "tensor([1, 2, 3])\n"
     ]
    }
   ],
   "source": [
    "x1 = torch.tensor([1,2,3]) \n",
    "print(x1)     "
   ]
  },
  {
   "cell_type": "code",
   "execution_count": 47,
   "metadata": {},
   "outputs": [
    {
     "name": "stdout",
     "output_type": "stream",
     "text": [
      "tensor([1., 2., 3.])\n"
     ]
    }
   ],
   "source": [
    "x2 = torch.tensor([1.0,2,3])  \n",
    "print(x2)"
   ]
  },
  {
   "cell_type": "markdown",
   "metadata": {},
   "source": [
    "<h4> Konkatenacja"
   ]
  },
  {
   "cell_type": "code",
   "execution_count": 48,
   "metadata": {},
   "outputs": [
    {
     "name": "stdout",
     "output_type": "stream",
     "text": [
      "tensor([[ 1.3889,  0.4623, -0.1972,  0.5615, -0.6790],\n",
      "        [-2.7907,  0.0381, -0.3735, -1.4054,  1.7846],\n",
      "        [ 0.4469,  0.8596,  0.3873, -0.8999, -0.3291],\n",
      "        [-2.4238,  0.9740,  0.1313,  0.2889,  2.0592],\n",
      "        [ 0.2495,  0.2077, -0.9615, -0.0966,  0.4031]])\n"
     ]
    }
   ],
   "source": [
    "x1 = torch.randn(2, 5)\n",
    "x2 = torch.randn(3, 5)\n",
    "y = torch.cat([x1, x2]) #domyślnie konkatenuje wiersze \n",
    "\n",
    "print(y)"
   ]
  },
  {
   "cell_type": "code",
   "execution_count": 49,
   "metadata": {},
   "outputs": [
    {
     "name": "stdout",
     "output_type": "stream",
     "text": [
      "tensor([[-0.4553,  0.1454, -0.2270,  1.6258,  0.9062,  0.9873, -0.3742, -0.7640],\n",
      "        [-0.7893,  0.9054,  0.1424, -0.9897,  0.0746, -0.4261, -0.5836,  0.3055]])\n"
     ]
    }
   ],
   "source": [
    "x1 = torch.randn(2,3)\n",
    "x2 = torch.randn(2,5)\n",
    "y = torch.cat([x1, x2], 1) #teraz konkatenuje po kolumnach\n",
    "\n",
    "print(y)"
   ]
  },
  {
   "cell_type": "markdown",
   "metadata": {},
   "source": [
    "Uwaga: Aby wykonać konkatenację, liczba wierszy/liczba kolumn musi być zgodna w obu Tensorach.\n"
   ]
  },
  {
   "cell_type": "markdown",
   "metadata": {},
   "source": [
    "<h4> Po co Tensory skoro mamy Array z numpy?"
   ]
  },
  {
   "cell_type": "code",
   "execution_count": 10,
   "metadata": {},
   "outputs": [],
   "source": [
    "x = torch.tensor([3.0, -1.0, 2.0], requires_grad=True)"
   ]
  },
  {
   "cell_type": "code",
   "execution_count": 51,
   "metadata": {},
   "outputs": [
    {
     "name": "stdout",
     "output_type": "stream",
     "text": [
      "tensor([ 3., -1.,  2.], requires_grad=True)\n"
     ]
    }
   ],
   "source": [
    "print(x)  #tensor + jakaś dodatkowa informacja, po co? za chwile"
   ]
  },
  {
   "cell_type": "code",
   "execution_count": 52,
   "metadata": {},
   "outputs": [
    {
     "name": "stdout",
     "output_type": "stream",
     "text": [
      "tensor([ 3., -1.,  2.])\n"
     ]
    }
   ],
   "source": [
    "print(x.data) #sam tensor"
   ]
  },
  {
   "cell_type": "code",
   "execution_count": 17,
   "metadata": {},
   "outputs": [],
   "source": [
    "x = torch.tensor([1.0,2,3], requires_grad=True)\n",
    "y = torch.tensor([-4.0,3,7], requires_grad=True)\n",
    "\n",
    "z = x+y"
   ]
  },
  {
   "cell_type": "code",
   "execution_count": 18,
   "metadata": {},
   "outputs": [
    {
     "name": "stdout",
     "output_type": "stream",
     "text": [
      "tensor([-3.,  5., 10.])\n"
     ]
    }
   ],
   "source": [
    "print(z.data) #sam wynik dodawania [w tym momencie nie wazne jakie było x i y, mamy ich sume/nie ma pamieci przeszlosci]"
   ]
  },
  {
   "cell_type": "code",
   "execution_count": 19,
   "metadata": {},
   "outputs": [
    {
     "name": "stdout",
     "output_type": "stream",
     "text": [
      "<AddBackward0 object at 0x0000020215ABF700>\n"
     ]
    }
   ],
   "source": [
    "print(z.grad_fn) #dodatkowa informacja, Add - czyli wiadomo ze 'z' powstalo przez zsumowanie jakis innych Tensorow"
   ]
  },
  {
   "cell_type": "code",
   "execution_count": 56,
   "metadata": {},
   "outputs": [
    {
     "name": "stdout",
     "output_type": "stream",
     "text": [
      "tensor([-3.,  5., 10.], grad_fn=<AddBackward0>)\n"
     ]
    }
   ],
   "source": [
    "print(z) #tutaj obie informacje"
   ]
  },
  {
   "cell_type": "code",
   "execution_count": 57,
   "metadata": {},
   "outputs": [
    {
     "name": "stdout",
     "output_type": "stream",
     "text": [
      "tensor(12., grad_fn=<SumBackward0>)\n"
     ]
    }
   ],
   "source": [
    "r = z.sum() #r powstlo przez zsumowanie elementow Tensora z, co więcej - s pozwala nawet policzyć pochodną, patrz niżej:\n",
    "print(r)"
   ]
  },
  {
   "cell_type": "markdown",
   "metadata": {},
   "source": [
    "<h4> Wstawka matematyczna:"
   ]
  },
  {
   "cell_type": "markdown",
   "metadata": {},
   "source": [
    "$r=\\underbrace{x_0+y_0}_{\\text{z0}}+\\underbrace{x_1+y_1}_{\\text{z1}}+\\underbrace{x_2+y_2}_{\\text{z2}}$\n",
    "\n",
    "Ile wynoszą:  $\\frac{\\partial r}{\\partial x_0}$, $\\frac{\\partial r}{\\partial x_1}$, $\\frac{\\partial r}{\\partial x_2}$?\n"
   ]
  },
  {
   "cell_type": "code",
   "execution_count": 58,
   "metadata": {},
   "outputs": [],
   "source": [
    "r.backward() #stosujemy algorytm wstecznej propagacji (back propagation algorithm) do r"
   ]
  },
  {
   "cell_type": "code",
   "execution_count": 59,
   "metadata": {},
   "outputs": [
    {
     "name": "stdout",
     "output_type": "stream",
     "text": [
      "tensor([1., 1., 1.])\n"
     ]
    }
   ],
   "source": [
    "print(x.grad) #pochodna r po zmiennej x = (x0,x1,x2)"
   ]
  },
  {
   "cell_type": "markdown",
   "metadata": {},
   "source": [
    "Uwaga: Jeżeli wykonasz powyższe 2 linijki wiele razy, gradient będzie się zwiększał. Inaczej mówiąc gradient się akumuluje (dla wielu modeli to użyteczna własność, którą zaproponowali autorzy PyTorch)."
   ]
  },
  {
   "cell_type": "code",
   "execution_count": 60,
   "metadata": {},
   "outputs": [
    {
     "name": "stdout",
     "output_type": "stream",
     "text": [
      "tensor([2., 2., 2.])\n"
     ]
    }
   ],
   "source": [
    "r.backward()\n",
    "print(x.grad) "
   ]
  },
  {
   "cell_type": "code",
   "execution_count": 61,
   "metadata": {},
   "outputs": [
    {
     "name": "stdout",
     "output_type": "stream",
     "text": [
      "tensor([3., 3., 3.])\n"
     ]
    }
   ],
   "source": [
    "r.backward()\n",
    "print(x.grad) "
   ]
  },
  {
   "cell_type": "code",
   "execution_count": 62,
   "metadata": {},
   "outputs": [
    {
     "data": {
      "text/plain": [
       "tensor([0., 0., 0.])"
      ]
     },
     "execution_count": 62,
     "metadata": {},
     "output_type": "execute_result"
    }
   ],
   "source": [
    "x.grad.zero_() #jeżeli chce wyzerowac gradient"
   ]
  },
  {
   "cell_type": "code",
   "execution_count": 63,
   "metadata": {},
   "outputs": [
    {
     "name": "stdout",
     "output_type": "stream",
     "text": [
      "tensor([0., 0., 0.])\n"
     ]
    }
   ],
   "source": [
    "print(x.grad) "
   ]
  },
  {
   "cell_type": "code",
   "execution_count": 64,
   "metadata": {},
   "outputs": [
    {
     "name": "stdout",
     "output_type": "stream",
     "text": [
      "tensor([1., 1., 1.])\n"
     ]
    }
   ],
   "source": [
    "r.backward()\n",
    "print(x.grad)"
   ]
  },
  {
   "cell_type": "markdown",
   "metadata": {},
   "source": [
    "<h4> Zadanie6: Wyjaśnij poniższe liniki kodu i otrzymany wynik (łącznie z uzyskanymi wartościami w x.grad)\n"
   ]
  },
  {
   "cell_type": "code",
   "execution_count": 65,
   "metadata": {},
   "outputs": [
    {
     "name": "stdout",
     "output_type": "stream",
     "text": [
      "tensor(38., grad_fn=<SumBackward0>)\n",
      "tensor([27., 48.,  3.])\n"
     ]
    }
   ],
   "source": [
    "x = torch.tensor([-3.0,4,1], requires_grad=True)\n",
    "z = x**3\n",
    "r = z.sum()\n",
    "print(r)\n",
    "r.backward()\n",
    "print(x.grad)"
   ]
  },
  {
   "cell_type": "markdown",
   "metadata": {},
   "source": [
    "<h4> Zadanie7: Wyjaśnij poniższe liniki kodu i otrzymany wynik (łącznie z uzyskanymi wartościami w x.grad)"
   ]
  },
  {
   "cell_type": "code",
   "execution_count": 66,
   "metadata": {},
   "outputs": [
    {
     "name": "stdout",
     "output_type": "stream",
     "text": [
      "tensor(17., grad_fn=<SumBackward0>)\n",
      "tensor([-12.,   0.,  -2.])\n"
     ]
    }
   ],
   "source": [
    "x = torch.tensor([-3.0,4,1], requires_grad=True)\n",
    "y = torch.tensor([2.0,0,-1], requires_grad=True)\n",
    "z = (x**2)*y\n",
    "r = z.sum()\n",
    "print(r)\n",
    "r.backward()\n",
    "print(x.grad)"
   ]
  }
 ],
 "metadata": {
  "kernelspec": {
   "display_name": "Python 3",
   "language": "python",
   "name": "python3"
  },
  "language_info": {
   "codemirror_mode": {
    "name": "ipython",
    "version": 3
   },
   "file_extension": ".py",
   "mimetype": "text/x-python",
   "name": "python",
   "nbconvert_exporter": "python",
   "pygments_lexer": "ipython3",
   "version": "3.8.5"
  }
 },
 "nbformat": 4,
 "nbformat_minor": 4
}
