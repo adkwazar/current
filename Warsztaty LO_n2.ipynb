{
 "cells": [
  {
   "cell_type": "markdown",
   "metadata": {},
   "source": [
    "<h2> Napisy i wyrażenia regularne"
   ]
  },
  {
   "cell_type": "code",
   "execution_count": 1,
   "metadata": {},
   "outputs": [],
   "source": [
    "seq = \"ATATA\""
   ]
  },
  {
   "cell_type": "code",
   "execution_count": 2,
   "metadata": {},
   "outputs": [
    {
     "data": {
      "text/plain": [
       "3"
      ]
     },
     "execution_count": 2,
     "metadata": {},
     "output_type": "execute_result"
    }
   ],
   "source": [
    "seq.count(\"A\")   "
   ]
  },
  {
   "cell_type": "code",
   "execution_count": 3,
   "metadata": {},
   "outputs": [
    {
     "data": {
      "text/plain": [
       "1"
      ]
     },
     "execution_count": 3,
     "metadata": {},
     "output_type": "execute_result"
    }
   ],
   "source": [
    "seq.count(\"ATA\")"
   ]
  },
  {
   "cell_type": "code",
   "execution_count": 3,
   "metadata": {},
   "outputs": [
    {
     "data": {
      "text/plain": [
       "2"
      ]
     },
     "execution_count": 3,
     "metadata": {},
     "output_type": "execute_result"
    }
   ],
   "source": [
    "import re\n",
    "\n",
    "len(re.findall('(?=ATA)', seq))"
   ]
  },
  {
   "cell_type": "markdown",
   "metadata": {},
   "source": [
    "<h3> Biblioteka re"
   ]
  },
  {
   "cell_type": "markdown",
   "metadata": {},
   "source": [
    "- [abc] <-- a lub b lub c\n",
    "- [A-Z] <-- od A do Z\n",
    "- [^X]  <-- wszystko z wyjątkiem X\n",
    "- . <-- cokolwiek\n",
    "- \\d <-- dowolna cyfra od 0 do 9\n",
    "- \\D <-- wszystko z wyjątkiem cyfr [^d]\n",
    "- \\s <-- spacja\n",
    "- \\S <-- wszystko co nie jest spacją\n",
    "- \\w <-- a-z, A-Z, cyfry, podkreślenie _\n",
    "- \\* <-- żadne lub dowolnej długości powtórzenie, np ca*t znaczy ct, cat, caat, caaat...\n",
    "- \\+ <-- jedno lub więcej powtórzenie, np ca+t znaczy cat, caat, caaat...\n",
    "- ? <-- żadne wystąpienie lub jedno wystąpienie, np pyt?hon znaczy pyhon lub python\n",
    "- {n} <-- znaczy, że coś ma nastąpić n razy\n",
    "- {n,m} <-- znaczy, że coś ma nastąpić między n a m razy np ab{1,3}c znaczy  abc, abbc, abbbc\n",
    "- (X|Y) <-- X lub Y\n",
    "- ^x <-- znaczy, że od x ma sie zacząć wyraz\n",
    "- x$ <-- znaczy, że na x ma sie kończyc wyraz"
   ]
  },
  {
   "cell_type": "code",
   "execution_count": 5,
   "metadata": {},
   "outputs": [
    {
     "name": "stdout",
     "output_type": "stream",
     "text": [
      "['dog', 'dag', 'dag', 'dag']\n"
     ]
    }
   ],
   "source": [
    "text = \"dog deg dag dug dag dag\"\n",
    "\n",
    "t = re.findall('d[oa]g', text)    \n",
    "print(t)"
   ]
  },
  {
   "cell_type": "code",
   "execution_count": 6,
   "metadata": {},
   "outputs": [
    {
     "name": "stdout",
     "output_type": "stream",
     "text": [
      "['CGTT', 'CTT', 'CTT']\n"
     ]
    }
   ],
   "source": [
    "seq = \"ATGCGTTGCCTTAGCATCGCTTTGATCGGAGCCTAGGCG\"\n",
    "\n",
    "t2 = re.findall('CG?T{2}', seq)\n",
    "print(t2)"
   ]
  },
  {
   "cell_type": "markdown",
   "metadata": {},
   "source": [
    "<h4> Zadanie1: Dla sekwencji $s$ zapisz do listy wszystkie podsekwencje postaci $GXXTA$, gdzie $X$ jest dowolnym nukleotydem z wyjątkiem adeniny."
   ]
  },
  {
   "cell_type": "code",
   "execution_count": 7,
   "metadata": {},
   "outputs": [],
   "source": [
    "s = \"ATGCGCGCGGCGGATCGAATAGGCTAGCTAGGCTATATGCGCTATATGCGCCGTATAGGAGTCTAGCGTATATGCGATTCGATTCGTATAGCGTAGCTCTGAGACTCTGAGAGC\""
   ]
  },
  {
   "cell_type": "markdown",
   "metadata": {},
   "source": [
    "<h2> Matplotlib"
   ]
  },
  {
   "cell_type": "code",
   "execution_count": 4,
   "metadata": {},
   "outputs": [],
   "source": [
    "import matplotlib.pyplot as plt  #pakiet do rysowania wykresow"
   ]
  },
  {
   "cell_type": "code",
   "execution_count": 9,
   "metadata": {},
   "outputs": [
    {
     "data": {
      "image/png": "[encoded data removed]",
      "text/plain": [
       "<Figure size 432x288 with 1 Axes>"
      ]
     },
     "metadata": {
      "needs_background": "light"
     },
     "output_type": "display_data"
    }
   ],
   "source": [
    "x = [1,2,3,4,5,8]\n",
    "y = [0,2,3,2.5,2,6]\n",
    "\n",
    "plt.scatter(x,y)\n",
    "plt.show()"
   ]
  },
  {
   "cell_type": "code",
   "execution_count": 10,
   "metadata": {},
   "outputs": [
    {
     "data": {
      "image/png": "[encoded data removed]",
      "text/plain": [
       "<Figure size 432x288 with 1 Axes>"
      ]
     },
     "metadata": {
      "needs_background": "light"
     },
     "output_type": "display_data"
    }
   ],
   "source": [
    "plt.plot(x,y, c = \"red\")\n",
    "plt.show()"
   ]
  },
  {
   "cell_type": "code",
   "execution_count": 11,
   "metadata": {},
   "outputs": [
    {
     "data": {
      "image/png": "[encoded data removed]",
      "text/plain": [
       "<Figure size 432x288 with 1 Axes>"
      ]
     },
     "metadata": {
      "needs_background": "light"
     },
     "output_type": "display_data"
    }
   ],
   "source": [
    "t = [0,0,1,1,1,1,2,2,3]\n",
    "\n",
    "plt.hist(t) #rysowanie histogramu\n",
    "plt.show()"
   ]
  },
  {
   "cell_type": "markdown",
   "metadata": {},
   "source": [
    "<h2> 1. Drugie prawo Chargaffa"
   ]
  },
  {
   "cell_type": "markdown",
   "metadata": {},
   "source": [
    "Okazuje się, że dla organizmów posiadających jako materiał genetyczny dwuniciowy DNA spełnione jest następujące prawo, dla każdej z nici: częstość występowania danej sekwencji i odwrotnie do niej komplementarnej jest w przybliżeniu takie samo. W szczególnym przypadku $A \\% \\approx T \\%$ oraz $C \\% \\approx G\\%$. Okazuje sie, że przyczyna tego prawa może mieć naturę termodynamiczną (DNA sequence symmetries from randomness: the origin of the Chargaff’s second parity rule, Briefings in Bioinformatics, 2020)."
   ]
  },
  {
   "cell_type": "code",
   "execution_count": 11,
   "metadata": {},
   "outputs": [],
   "source": [
    "f = open(\"ec.fasta\", \"r\")  #pobieram genom E.coli #HG738867.1\n",
    "g = f.read()\n",
    "f.close()"
   ]
  },
  {
   "cell_type": "code",
   "execution_count": 6,
   "metadata": {},
   "outputs": [
    {
     "data": {
      "text/plain": [
       "'AGCTTTTCATTCTGACTGCAACGGGCAATATGTCTCTGTGTGGATTAAAAAAAGAGTGTCTGATAGCAGC\\nTTCTGAACTGGTTACCTGCCGTGAGTAAATTAAAATTTTATTGACTTAGGTCACTAAATACTTTAACCAA\\nTATAGGCATAGCGCACAGACAGATAAAAATTACAGAGTACACAACATCCATGAAACGCATTAGCACCACC\\nATTACCACCACCATCACCATTACCACAGGTAACGGTGCGGGCTGACGCGTACAGGAAACACAGAAAAAAG\\nCCCGCACCTGACAGTGCGGGCTTTTTTTTTCGACCAAAGGTAACGAGGTAACAACCATGCGAGTGTTGAA\\nGTTCGGCGGTACATCAGTGGCAAATGCAGAACGTTTTCTGCGTGTTGCCGATATTCTGGAAAGCAATGCC\\nAGGCAGGGGCAGGTGGCCACCGTCCTCTCTGCCCCCGCCAAAATCACCAACCACCTGGTGGCGATGATTG\\nAAA'"
      ]
     },
     "execution_count": 6,
     "metadata": {},
     "output_type": "execute_result"
    }
   ],
   "source": [
    "g[:500]"
   ]
  },
  {
   "cell_type": "code",
   "execution_count": 12,
   "metadata": {},
   "outputs": [],
   "source": [
    "g = g.replace('\\n', '') #kasuje \\n (znaki końca linii)"
   ]
  },
  {
   "cell_type": "code",
   "execution_count": 13,
   "metadata": {},
   "outputs": [
    {
     "name": "stdout",
     "output_type": "stream",
     "text": [
      "4527247\n"
     ]
    }
   ],
   "source": [
    "N = len(g)\n",
    "print(N)"
   ]
  },
  {
   "cell_type": "code",
   "execution_count": 14,
   "metadata": {},
   "outputs": [
    {
     "data": {
      "text/plain": [
       "(0.9967237559950964, 1.023655446429986)"
      ]
     },
     "execution_count": 14,
     "metadata": {},
     "output_type": "execute_result"
    }
   ],
   "source": [
    "#Stosunki A/T i G/C\n",
    "\n",
    "g.count(\"A\")/g.count(\"T\"), g.count(\"G\")/g.count(\"C\")"
   ]
  },
  {
   "cell_type": "code",
   "execution_count": 91,
   "metadata": {},
   "outputs": [
    {
     "name": "stdout",
     "output_type": "stream",
     "text": [
      "['AA', 'AT', 'AG', 'AC', 'TA', 'TT', 'TG', 'TC', 'GA', 'GT', 'GG', 'GC', 'CA', 'CT', 'CG', 'CC']\n"
     ]
    }
   ],
   "source": [
    "#tworzę liste dinukleotydow\n",
    "\n",
    "nukleotydy = [\"A\",\"T\",\"G\",\"C\"]\n",
    "din =[]\n",
    "\n",
    "for n in nukleotydy:\n",
    "    for m in nukleotydy:\n",
    "        din.append(n+m)\n",
    "\n",
    "print(din)"
   ]
  },
  {
   "cell_type": "code",
   "execution_count": 92,
   "metadata": {},
   "outputs": [
    {
     "name": "stdout",
     "output_type": "stream",
     "text": [
      "[0.07295362346115056, 0.06672224129194658, 0.05160399942923358, 0.054400622365119986, 0.045640108799035885, 0.07314225911293533, 0.07087531801894574, 0.05683035558483016, 0.05838140891835787, 0.05607117439608981, 0.05969456928119214, 0.08273683382789448, 0.06870512448406824, 0.050552366714775386, 0.07471009969416285, 0.056979894620261415]\n"
     ]
    }
   ],
   "source": [
    "Z = [len(re.findall('(?='+x+')', g))/(N-1) for x in din] #częstosci występowania dinukleotydow\n",
    "\n",
    "print(Z)"
   ]
  },
  {
   "cell_type": "code",
   "execution_count": 93,
   "metadata": {},
   "outputs": [
    {
     "data": {
      "text/plain": [
       "1.0"
      ]
     },
     "execution_count": 93,
     "metadata": {},
     "output_type": "execute_result"
    }
   ],
   "source": [
    "sum(Z)"
   ]
  },
  {
   "cell_type": "code",
   "execution_count": 94,
   "metadata": {},
   "outputs": [
    {
     "name": "stdout",
     "output_type": "stream",
     "text": [
      "{'AA': 0.072954, 'AT': 0.066722, 'AG': 0.051604, 'AC': 0.054401, 'TA': 0.04564, 'TT': 0.073142, 'TG': 0.070875, 'TC': 0.05683, 'GA': 0.058381, 'GT': 0.056071, 'GG': 0.059695, 'GC': 0.082737, 'CA': 0.068705, 'CT': 0.050552, 'CG': 0.07471, 'CC': 0.05698}\n"
     ]
    }
   ],
   "source": [
    "czestosci = dict(zip(din,[round(x,6) for x in Z]))\n",
    "\n",
    "print(czestosci)"
   ]
  },
  {
   "cell_type": "code",
   "execution_count": 98,
   "metadata": {},
   "outputs": [],
   "source": [
    "#definuje funkcje, ktora dla zadanej sekwencji zwraca sekwencje do niej odwrotnie komplementarną\n",
    "\n",
    "def REV_COM_DNA(seq):\n",
    "    complementary_code = {\"A\":\"T\", \"T\":\"A\", \"G\":\"C\", \"C\":\"G\"}\n",
    "    rev_com_seq = ''\n",
    "    for elem in seq:\n",
    "        rev_com_seq =  complementary_code[elem]+rev_com_seq\n",
    "    return rev_com_seq"
   ]
  },
  {
   "cell_type": "code",
   "execution_count": 99,
   "metadata": {},
   "outputs": [
    {
     "name": "stdout",
     "output_type": "stream",
     "text": [
      "['AA', 'AG', 'AC', 'TT', 'TG', 'TC', 'GA', 'GT', 'GG', 'CA', 'CT', 'CC']\n"
     ]
    }
   ],
   "source": [
    "N_SK = [x for x in din if x != REV_COM_DNA(x)]  #wybieram tylko te dinukleotydy ktore nie są rownoczesnie odwrotną komplementarną (jak np AT)\n",
    "print(N_SK)"
   ]
  },
  {
   "cell_type": "code",
   "execution_count": 100,
   "metadata": {},
   "outputs": [],
   "source": [
    "unikatowe = set() \n",
    "ile = []\n",
    "for x in N_SK:\n",
    "    for y in N_SK:\n",
    "        if x == REV_COM_DNA(y) and x not in unikatowe and y not in unikatowe:\n",
    "            ile.append(czestosci[x]/czestosci[y])\n",
    "            unikatowe.add(x)\n",
    "            unikatowe.add(y)"
   ]
  },
  {
   "cell_type": "code",
   "execution_count": 101,
   "metadata": {},
   "outputs": [
    {
     "name": "stdout",
     "output_type": "stream",
     "text": [
      "{'AA', 'TG', 'CC', 'CT', 'TT', 'GA', 'AG', 'CA', 'TC', 'GT', 'AC', 'GG'}\n"
     ]
    }
   ],
   "source": [
    "print(unikatowe)"
   ]
  },
  {
   "cell_type": "code",
   "execution_count": 102,
   "metadata": {},
   "outputs": [
    {
     "name": "stdout",
     "output_type": "stream",
     "text": [
      "[0.9974296573787975, 1.0208102547871498, 0.9702163328636906, 1.031584309730005, 0.9734331374933625, 1.0476482976482975]\n"
     ]
    }
   ],
   "source": [
    "print(ile) #stosunki częstosci dinukleotydow i odwrotnie do nich komplementarnych"
   ]
  },
  {
   "cell_type": "code",
   "execution_count": 103,
   "metadata": {},
   "outputs": [
    {
     "name": "stdout",
     "output_type": "stream",
     "text": [
      "1.0068536649835507\n",
      "\n",
      "0.02892124629832622\n"
     ]
    }
   ],
   "source": [
    "import numpy as np\n",
    "\n",
    "print(np.mean(ile))\n",
    "print()\n",
    "print(np.std(ile))"
   ]
  },
  {
   "cell_type": "markdown",
   "metadata": {},
   "source": [
    "<h4> Zadanie2: Wykonaj analogiczne obliczenia dla trójek i czwórek nukleotydów. Narysuj histogramy stosunków częstości dla obu przypadków."
   ]
  }
 ],
 "metadata": {
  "kernelspec": {
   "display_name": "Python 3",
   "language": "python",
   "name": "python3"
  },
  "language_info": {
   "codemirror_mode": {
    "name": "ipython",
    "version": 3
   },
   "file_extension": ".py",
   "mimetype": "text/x-python",
   "name": "python",
   "nbconvert_exporter": "python",
   "pygments_lexer": "ipython3",
   "version": "3.8.5"
  }
 },
 "nbformat": 4,
 "nbformat_minor": 2
}
