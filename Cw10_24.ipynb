{
 "cells": [
  {
   "cell_type": "markdown",
   "id": "bbcbb261",
   "metadata": {},
   "source": [
    "<h3> Regresja z rozkładem Pascala (ujemny dwumianowy)"
   ]
  },
  {
   "cell_type": "markdown",
   "id": "8986f40f",
   "metadata": {},
   "source": [
    "Jeżeli wariancje nie są równe wartościom oczekiwanym, to stosowanie regresji Poissona może prowadzić do niepoprawnego modelu. Warto wtedy zastosować rozkład ujemny dwumianowy, dla którego: $var(X) = \\mu + \\mu^2/\\theta$."
   ]
  },
  {
   "cell_type": "code",
   "execution_count": 12,
   "id": "0131b955",
   "metadata": {},
   "outputs": [
    {
     "data": {
      "text/html": [
       "<table>\n",
       "<thead><tr><th scope=col>breaks</th><th scope=col>wool</th><th scope=col>tension</th></tr></thead>\n",
       "<tbody>\n",
       "\t<tr><td>26</td><td>A </td><td>L </td></tr>\n",
       "\t<tr><td>30</td><td>A </td><td>L </td></tr>\n",
       "\t<tr><td>54</td><td>A </td><td>L </td></tr>\n",
       "\t<tr><td>25</td><td>A </td><td>L </td></tr>\n",
       "\t<tr><td>70</td><td>A </td><td>L </td></tr>\n",
       "\t<tr><td>52</td><td>A </td><td>L </td></tr>\n",
       "</tbody>\n",
       "</table>\n"
      ],
      "text/latex": [
       "\\begin{tabular}{r|lll}\n",
       " breaks & wool & tension\\\\\n",
       "\\hline\n",
       "\t 26 & A  & L \\\\\n",
       "\t 30 & A  & L \\\\\n",
       "\t 54 & A  & L \\\\\n",
       "\t 25 & A  & L \\\\\n",
       "\t 70 & A  & L \\\\\n",
       "\t 52 & A  & L \\\\\n",
       "\\end{tabular}\n"
      ],
      "text/markdown": [
       "\n",
       "| breaks | wool | tension |\n",
       "|---|---|---|\n",
       "| 26 | A  | L  |\n",
       "| 30 | A  | L  |\n",
       "| 54 | A  | L  |\n",
       "| 25 | A  | L  |\n",
       "| 70 | A  | L  |\n",
       "| 52 | A  | L  |\n",
       "\n"
      ],
      "text/plain": [
       "  breaks wool tension\n",
       "1 26     A    L      \n",
       "2 30     A    L      \n",
       "3 54     A    L      \n",
       "4 25     A    L      \n",
       "5 70     A    L      \n",
       "6 52     A    L      "
      ]
     },
     "metadata": {},
     "output_type": "display_data"
    }
   ],
   "source": [
    "head(warpbreaks)"
   ]
  },
  {
   "cell_type": "code",
   "execution_count": 13,
   "id": "c187a3e7",
   "metadata": {},
   "outputs": [
    {
     "data": {
      "text/plain": [
       "\n",
       "Call:\n",
       "glm(formula = breaks ~ wool + tension, family = \"poisson\", data = warpbreaks)\n",
       "\n",
       "Deviance Residuals: \n",
       "    Min       1Q   Median       3Q      Max  \n",
       "-3.6871  -1.6503  -0.4269   1.1902   4.2616  \n",
       "\n",
       "Coefficients:\n",
       "            Estimate Std. Error z value Pr(>|z|)    \n",
       "(Intercept)  3.69196    0.04541  81.302  < 2e-16 ***\n",
       "woolB       -0.20599    0.05157  -3.994 6.49e-05 ***\n",
       "tensionM    -0.32132    0.06027  -5.332 9.73e-08 ***\n",
       "tensionH    -0.51849    0.06396  -8.107 5.21e-16 ***\n",
       "---\n",
       "Signif. codes:  0 '***' 0.001 '**' 0.01 '*' 0.05 '.' 0.1 ' ' 1\n",
       "\n",
       "(Dispersion parameter for poisson family taken to be 1)\n",
       "\n",
       "    Null deviance: 297.37  on 53  degrees of freedom\n",
       "Residual deviance: 210.39  on 50  degrees of freedom\n",
       "AIC: 493.06\n",
       "\n",
       "Number of Fisher Scoring iterations: 4\n"
      ]
     },
     "metadata": {},
     "output_type": "display_data"
    }
   ],
   "source": [
    "poiss.model <- glm(breaks ~ wool + tension, family=\"poisson\", data=warpbreaks)\n",
    "summary(poiss.model)"
   ]
  },
  {
   "cell_type": "code",
   "execution_count": 16,
   "id": "42d47ff4",
   "metadata": {},
   "outputs": [
    {
     "data": {
      "text/html": [
       "<dl class=dl-horizontal>\n",
       "\t<dt>A</dt>\n",
       "\t\t<dd>'srednia (wariancja) = 31.04 (251.27)'</dd>\n",
       "\t<dt>B</dt>\n",
       "\t\t<dd>'srednia (wariancja) = 25.26 (86.51)'</dd>\n",
       "</dl>\n"
      ],
      "text/latex": [
       "\\begin{description*}\n",
       "\\item[A] 'srednia (wariancja) = 31.04 (251.27)'\n",
       "\\item[B] 'srednia (wariancja) = 25.26 (86.51)'\n",
       "\\end{description*}\n"
      ],
      "text/markdown": [
       "A\n",
       ":   'srednia (wariancja) = 31.04 (251.27)'B\n",
       ":   'srednia (wariancja) = 25.26 (86.51)'\n",
       "\n"
      ],
      "text/plain": [
       "                                     A                                      B \n",
       "\"srednia (wariancja) = 31.04 (251.27)\"  \"srednia (wariancja) = 25.26 (86.51)\" "
      ]
     },
     "metadata": {},
     "output_type": "display_data"
    }
   ],
   "source": [
    "with(warpbreaks, tapply(breaks, wool, function(x) { sprintf(\"srednia (wariancja) = %1.2f (%1.2f)\", mean(x), var(x))}))"
   ]
  },
  {
   "cell_type": "code",
   "execution_count": 17,
   "id": "62c84b81",
   "metadata": {},
   "outputs": [
    {
     "data": {
      "text/html": [
       "<dl class=dl-horizontal>\n",
       "\t<dt>L</dt>\n",
       "\t\t<dd>'srednia (wariancja) = 36.39 (270.49)'</dd>\n",
       "\t<dt>M</dt>\n",
       "\t\t<dd>'srednia (wariancja) = 26.39 (83.19)'</dd>\n",
       "\t<dt>H</dt>\n",
       "\t\t<dd>'srednia (wariancja) = 21.67 (69.76)'</dd>\n",
       "</dl>\n"
      ],
      "text/latex": [
       "\\begin{description*}\n",
       "\\item[L] 'srednia (wariancja) = 36.39 (270.49)'\n",
       "\\item[M] 'srednia (wariancja) = 26.39 (83.19)'\n",
       "\\item[H] 'srednia (wariancja) = 21.67 (69.76)'\n",
       "\\end{description*}\n"
      ],
      "text/markdown": [
       "L\n",
       ":   'srednia (wariancja) = 36.39 (270.49)'M\n",
       ":   'srednia (wariancja) = 26.39 (83.19)'H\n",
       ":   'srednia (wariancja) = 21.67 (69.76)'\n",
       "\n"
      ],
      "text/plain": [
       "                                     L                                      M \n",
       "\"srednia (wariancja) = 36.39 (270.49)\"  \"srednia (wariancja) = 26.39 (83.19)\" \n",
       "                                     H \n",
       " \"srednia (wariancja) = 21.67 (69.76)\" "
      ]
     },
     "metadata": {},
     "output_type": "display_data"
    }
   ],
   "source": [
    "with(warpbreaks, tapply(breaks, tension, function(x) { sprintf(\"srednia (wariancja) = %1.2f (%1.2f)\", mean(x), var(x))}))"
   ]
  },
  {
   "cell_type": "code",
   "execution_count": 42,
   "id": "527f2833",
   "metadata": {},
   "outputs": [
    {
     "data": {
      "text/html": [
       "44.5555555555556"
      ],
      "text/latex": [
       "44.5555555555556"
      ],
      "text/markdown": [
       "44.5555555555556"
      ],
      "text/plain": [
       "[1] 44.55556"
      ]
     },
     "metadata": {},
     "output_type": "display_data"
    }
   ],
   "source": [
    "mean(warpbreaks$breaks[warpbreaks$wool == \"A\" & warpbreaks$tension == \"L\"])"
   ]
  },
  {
   "cell_type": "code",
   "execution_count": 52,
   "id": "7adf08c3",
   "metadata": {},
   "outputs": [
    {
     "data": {
      "text/html": [
       "<strong>1:</strong> 40.1235380122176"
      ],
      "text/latex": [
       "\\textbf{1:} 40.1235380122176"
      ],
      "text/markdown": [
       "**1:** 40.1235380122176"
      ],
      "text/plain": [
       "       1 \n",
       "40.12354 "
      ]
     },
     "metadata": {},
     "output_type": "display_data"
    }
   ],
   "source": [
    "m <- exp(predict(poiss.model, newdata = data.frame(wool = c(\"A\"), tension = c(\"L\"))))\n",
    "m"
   ]
  },
  {
   "cell_type": "code",
   "execution_count": 15,
   "id": "972ea6e6",
   "metadata": {},
   "outputs": [
    {
     "data": {
      "text/plain": [
       "\n",
       "Call:\n",
       "glm.nb(formula = breaks ~ wool + tension, data = warpbreaks, \n",
       "    init.theta = 9.944385436, link = log)\n",
       "\n",
       "Deviance Residuals: \n",
       "    Min       1Q   Median       3Q      Max  \n",
       "-2.0144  -0.9319  -0.2240   0.5828   1.8220  \n",
       "\n",
       "Coefficients:\n",
       "            Estimate Std. Error z value Pr(>|z|)    \n",
       "(Intercept)   3.6734     0.0979  37.520  < 2e-16 ***\n",
       "woolB        -0.1862     0.1010  -1.844   0.0651 .  \n",
       "tensionM     -0.2992     0.1217  -2.458   0.0140 *  \n",
       "tensionH     -0.5114     0.1237  -4.133 3.58e-05 ***\n",
       "---\n",
       "Signif. codes:  0 '***' 0.001 '**' 0.01 '*' 0.05 '.' 0.1 ' ' 1\n",
       "\n",
       "(Dispersion parameter for Negative Binomial(9.9444) family taken to be 1)\n",
       "\n",
       "    Null deviance: 75.464  on 53  degrees of freedom\n",
       "Residual deviance: 53.723  on 50  degrees of freedom\n",
       "AIC: 408.76\n",
       "\n",
       "Number of Fisher Scoring iterations: 1\n",
       "\n",
       "\n",
       "              Theta:  9.94 \n",
       "          Std. Err.:  2.56 \n",
       "\n",
       " 2 x log-likelihood:  -398.764 "
      ]
     },
     "metadata": {},
     "output_type": "display_data"
    }
   ],
   "source": [
    "library(MASS)\n",
    "nb.model <- glm.nb(breaks ~ wool + tension, data=warpbreaks)\n",
    "summary(nb.model) #wzrosly błędy, wspolczynniki zasadniczo te same"
   ]
  },
  {
   "cell_type": "code",
   "execution_count": 18,
   "id": "e8e4356e",
   "metadata": {},
   "outputs": [
    {
     "data": {
      "text/html": [
       "9.94438543569866"
      ],
      "text/latex": [
       "9.94438543569866"
      ],
      "text/markdown": [
       "9.94438543569866"
      ],
      "text/plain": [
       "[1] 9.944385"
      ]
     },
     "metadata": {},
     "output_type": "display_data"
    }
   ],
   "source": [
    "nb.model$theta"
   ]
  },
  {
   "cell_type": "code",
   "execution_count": 44,
   "id": "309c84ec",
   "metadata": {},
   "outputs": [
    {
     "data": {
      "text/html": [
       "68.8915103725018"
      ],
      "text/latex": [
       "68.8915103725018"
      ],
      "text/markdown": [
       "68.8915103725018"
      ],
      "text/plain": [
       "[1] 68.89151"
      ]
     },
     "metadata": {},
     "output_type": "display_data"
    }
   ],
   "source": [
    "21.67+(21.67^2)/nb.model$theta"
   ]
  },
  {
   "cell_type": "markdown",
   "id": "db91f201",
   "metadata": {},
   "source": [
    "<h3> Analiza przeżycia"
   ]
  },
  {
   "cell_type": "markdown",
   "id": "fe332f3d",
   "metadata": {},
   "source": [
    "Niech $T$ będzie zmienną losową opisującą czas, który minął do pewnego zdarzenia. \n",
    "\n",
    "Definiujemy $S(t) = P(T>t)$ - funkcja przeżycia (określa prawdopodobieństwo wystąpienia zdarzenia po czasie $t$)"
   ]
  },
  {
   "cell_type": "code",
   "execution_count": 2,
   "id": "ebb55530",
   "metadata": {},
   "outputs": [
    {
     "data": {
      "text/html": [
       "<table>\n",
       "<thead><tr><th scope=col>Wiek</th><th scope=col>Rozmiar.guza</th><th scope=col>Wezly.chlonne</th><th scope=col>Nowotwor</th><th scope=col>Receptory.estrogenowe</th><th scope=col>Receptory.progesteronowe</th><th scope=col>Niepowodzenia</th><th scope=col>Okres.bez.wznowy</th><th scope=col>VEGF</th></tr></thead>\n",
       "<tbody>\n",
       "\t<tr><td>29    </td><td>1     </td><td>0     </td><td> 2    </td><td>(-)   </td><td>(++)  </td><td>brak  </td><td>22    </td><td> 914  </td></tr>\n",
       "\t<tr><td>29    </td><td>1     </td><td>0     </td><td> 2    </td><td>(++)  </td><td>(++)  </td><td>brak  </td><td>53    </td><td>1118  </td></tr>\n",
       "\t<tr><td>30    </td><td>1     </td><td>1     </td><td> 2    </td><td>(-)   </td><td>(+)   </td><td>brak  </td><td>38    </td><td> 630  </td></tr>\n",
       "\t<tr><td>32    </td><td>1     </td><td>0     </td><td> 3    </td><td>(++)  </td><td>(++)  </td><td>brak  </td><td>26    </td><td>1793  </td></tr>\n",
       "\t<tr><td>32    </td><td>2     </td><td>0     </td><td>NA    </td><td>(-)   </td><td>(++)  </td><td>brak  </td><td>19    </td><td> 963  </td></tr>\n",
       "\t<tr><td>33    </td><td>1     </td><td>1     </td><td> 3    </td><td>(-)   </td><td>(++)  </td><td>wznowa</td><td>36    </td><td>2776  </td></tr>\n",
       "</tbody>\n",
       "</table>\n"
      ],
      "text/latex": [
       "\\begin{tabular}{r|lllllllll}\n",
       " Wiek & Rozmiar.guza & Wezly.chlonne & Nowotwor & Receptory.estrogenowe & Receptory.progesteronowe & Niepowodzenia & Okres.bez.wznowy & VEGF\\\\\n",
       "\\hline\n",
       "\t 29     & 1      & 0      &  2     & (-)    & (++)   & brak   & 22     &  914  \\\\\n",
       "\t 29     & 1      & 0      &  2     & (++)   & (++)   & brak   & 53     & 1118  \\\\\n",
       "\t 30     & 1      & 1      &  2     & (-)    & (+)    & brak   & 38     &  630  \\\\\n",
       "\t 32     & 1      & 0      &  3     & (++)   & (++)   & brak   & 26     & 1793  \\\\\n",
       "\t 32     & 2      & 0      & NA     & (-)    & (++)   & brak   & 19     &  963  \\\\\n",
       "\t 33     & 1      & 1      &  3     & (-)    & (++)   & wznowa & 36     & 2776  \\\\\n",
       "\\end{tabular}\n"
      ],
      "text/markdown": [
       "\n",
       "| Wiek | Rozmiar.guza | Wezly.chlonne | Nowotwor | Receptory.estrogenowe | Receptory.progesteronowe | Niepowodzenia | Okres.bez.wznowy | VEGF |\n",
       "|---|---|---|---|---|---|---|---|---|\n",
       "| 29     | 1      | 0      |  2     | (-)    | (++)   | brak   | 22     |  914   |\n",
       "| 29     | 1      | 0      |  2     | (++)   | (++)   | brak   | 53     | 1118   |\n",
       "| 30     | 1      | 1      |  2     | (-)    | (+)    | brak   | 38     |  630   |\n",
       "| 32     | 1      | 0      |  3     | (++)   | (++)   | brak   | 26     | 1793   |\n",
       "| 32     | 2      | 0      | NA     | (-)    | (++)   | brak   | 19     |  963   |\n",
       "| 33     | 1      | 1      |  3     | (-)    | (++)   | wznowa | 36     | 2776   |\n",
       "\n"
      ],
      "text/plain": [
       "  Wiek Rozmiar.guza Wezly.chlonne Nowotwor Receptory.estrogenowe\n",
       "1 29   1            0              2       (-)                  \n",
       "2 29   1            0              2       (++)                 \n",
       "3 30   1            1              2       (-)                  \n",
       "4 32   1            0              3       (++)                 \n",
       "5 32   2            0             NA       (-)                  \n",
       "6 33   1            1              3       (-)                  \n",
       "  Receptory.progesteronowe Niepowodzenia Okres.bez.wznowy VEGF\n",
       "1 (++)                     brak          22                914\n",
       "2 (++)                     brak          53               1118\n",
       "3 (+)                      brak          38                630\n",
       "4 (++)                     brak          26               1793\n",
       "5 (++)                     brak          19                963\n",
       "6 (++)                     wznowa        36               2776"
      ]
     },
     "metadata": {},
     "output_type": "display_data"
    }
   ],
   "source": [
    "dane = read.table(\"http://www.biecek.pl/R/dane/dane0.csv\", sep = \";\", header = T)\n",
    "head(dane)"
   ]
  },
  {
   "cell_type": "code",
   "execution_count": 3,
   "id": "17d66c77",
   "metadata": {},
   "outputs": [
    {
     "data": {
      "text/html": [
       "<ol class=list-inline>\n",
       "\t<li>22</li>\n",
       "\t<li>53</li>\n",
       "\t<li>38</li>\n",
       "\t<li>26</li>\n",
       "\t<li>19</li>\n",
       "\t<li>36</li>\n",
       "\t<li>33</li>\n",
       "\t<li>38</li>\n",
       "\t<li>38</li>\n",
       "\t<li>37</li>\n",
       "\t<li>47</li>\n",
       "\t<li>40</li>\n",
       "\t<li>30</li>\n",
       "\t<li>16</li>\n",
       "\t<li>44</li>\n",
       "\t<li>27</li>\n",
       "\t<li>36</li>\n",
       "\t<li>19</li>\n",
       "\t<li>41</li>\n",
       "\t<li>18</li>\n",
       "\t<li>41</li>\n",
       "\t<li>29</li>\n",
       "\t<li>47</li>\n",
       "\t<li>47</li>\n",
       "\t<li>53</li>\n",
       "\t<li>33</li>\n",
       "\t<li>30</li>\n",
       "\t<li>39</li>\n",
       "\t<li>38</li>\n",
       "\t<li>47</li>\n",
       "\t<li>44</li>\n",
       "\t<li>48</li>\n",
       "\t<li>33</li>\n",
       "\t<li>36</li>\n",
       "\t<li>43</li>\n",
       "\t<li>53</li>\n",
       "\t<li>38</li>\n",
       "\t<li>33</li>\n",
       "\t<li>41</li>\n",
       "\t<li>54</li>\n",
       "\t<li>51</li>\n",
       "\t<li>23</li>\n",
       "\t<li>42</li>\n",
       "\t<li>42</li>\n",
       "\t<li>45</li>\n",
       "\t<li>51</li>\n",
       "\t<li>42</li>\n",
       "\t<li>36</li>\n",
       "\t<li>38</li>\n",
       "\t<li>28</li>\n",
       "\t<li>27</li>\n",
       "\t<li>31</li>\n",
       "\t<li>47</li>\n",
       "\t<li>33</li>\n",
       "\t<li>42</li>\n",
       "\t<li>38</li>\n",
       "\t<li>34</li>\n",
       "\t<li>21</li>\n",
       "\t<li>34</li>\n",
       "\t<li>36</li>\n",
       "\t<li>26</li>\n",
       "\t<li>36</li>\n",
       "\t<li>39</li>\n",
       "\t<li>39</li>\n",
       "\t<li>49</li>\n",
       "\t<li>28</li>\n",
       "\t<li>19</li>\n",
       "\t<li>29</li>\n",
       "\t<li>46</li>\n",
       "\t<li>33</li>\n",
       "\t<li>45</li>\n",
       "\t<li>39</li>\n",
       "\t<li>43</li>\n",
       "\t<li>49</li>\n",
       "\t<li>41</li>\n",
       "\t<li>27</li>\n",
       "\t<li>33</li>\n",
       "\t<li>33</li>\n",
       "\t<li>36</li>\n",
       "\t<li>50</li>\n",
       "\t<li>52</li>\n",
       "\t<li>10</li>\n",
       "\t<li>49</li>\n",
       "\t<li>30</li>\n",
       "\t<li>30</li>\n",
       "\t<li>42</li>\n",
       "\t<li>47</li>\n",
       "\t<li>48</li>\n",
       "\t<li>35</li>\n",
       "\t<li>48</li>\n",
       "\t<li>43</li>\n",
       "\t<li>50</li>\n",
       "\t<li>30</li>\n",
       "\t<li>36</li>\n",
       "\t<li>29</li>\n",
       "\t<li>&lt;NA&gt;</li>\n",
       "\t<li>46</li>\n",
       "</ol>\n"
      ],
      "text/latex": [
       "\\begin{enumerate*}\n",
       "\\item 22\n",
       "\\item 53\n",
       "\\item 38\n",
       "\\item 26\n",
       "\\item 19\n",
       "\\item 36\n",
       "\\item 33\n",
       "\\item 38\n",
       "\\item 38\n",
       "\\item 37\n",
       "\\item 47\n",
       "\\item 40\n",
       "\\item 30\n",
       "\\item 16\n",
       "\\item 44\n",
       "\\item 27\n",
       "\\item 36\n",
       "\\item 19\n",
       "\\item 41\n",
       "\\item 18\n",
       "\\item 41\n",
       "\\item 29\n",
       "\\item 47\n",
       "\\item 47\n",
       "\\item 53\n",
       "\\item 33\n",
       "\\item 30\n",
       "\\item 39\n",
       "\\item 38\n",
       "\\item 47\n",
       "\\item 44\n",
       "\\item 48\n",
       "\\item 33\n",
       "\\item 36\n",
       "\\item 43\n",
       "\\item 53\n",
       "\\item 38\n",
       "\\item 33\n",
       "\\item 41\n",
       "\\item 54\n",
       "\\item 51\n",
       "\\item 23\n",
       "\\item 42\n",
       "\\item 42\n",
       "\\item 45\n",
       "\\item 51\n",
       "\\item 42\n",
       "\\item 36\n",
       "\\item 38\n",
       "\\item 28\n",
       "\\item 27\n",
       "\\item 31\n",
       "\\item 47\n",
       "\\item 33\n",
       "\\item 42\n",
       "\\item 38\n",
       "\\item 34\n",
       "\\item 21\n",
       "\\item 34\n",
       "\\item 36\n",
       "\\item 26\n",
       "\\item 36\n",
       "\\item 39\n",
       "\\item 39\n",
       "\\item 49\n",
       "\\item 28\n",
       "\\item 19\n",
       "\\item 29\n",
       "\\item 46\n",
       "\\item 33\n",
       "\\item 45\n",
       "\\item 39\n",
       "\\item 43\n",
       "\\item 49\n",
       "\\item 41\n",
       "\\item 27\n",
       "\\item 33\n",
       "\\item 33\n",
       "\\item 36\n",
       "\\item 50\n",
       "\\item 52\n",
       "\\item 10\n",
       "\\item 49\n",
       "\\item 30\n",
       "\\item 30\n",
       "\\item 42\n",
       "\\item 47\n",
       "\\item 48\n",
       "\\item 35\n",
       "\\item 48\n",
       "\\item 43\n",
       "\\item 50\n",
       "\\item 30\n",
       "\\item 36\n",
       "\\item 29\n",
       "\\item <NA>\n",
       "\\item 46\n",
       "\\end{enumerate*}\n"
      ],
      "text/markdown": [
       "1. 22\n",
       "2. 53\n",
       "3. 38\n",
       "4. 26\n",
       "5. 19\n",
       "6. 36\n",
       "7. 33\n",
       "8. 38\n",
       "9. 38\n",
       "10. 37\n",
       "11. 47\n",
       "12. 40\n",
       "13. 30\n",
       "14. 16\n",
       "15. 44\n",
       "16. 27\n",
       "17. 36\n",
       "18. 19\n",
       "19. 41\n",
       "20. 18\n",
       "21. 41\n",
       "22. 29\n",
       "23. 47\n",
       "24. 47\n",
       "25. 53\n",
       "26. 33\n",
       "27. 30\n",
       "28. 39\n",
       "29. 38\n",
       "30. 47\n",
       "31. 44\n",
       "32. 48\n",
       "33. 33\n",
       "34. 36\n",
       "35. 43\n",
       "36. 53\n",
       "37. 38\n",
       "38. 33\n",
       "39. 41\n",
       "40. 54\n",
       "41. 51\n",
       "42. 23\n",
       "43. 42\n",
       "44. 42\n",
       "45. 45\n",
       "46. 51\n",
       "47. 42\n",
       "48. 36\n",
       "49. 38\n",
       "50. 28\n",
       "51. 27\n",
       "52. 31\n",
       "53. 47\n",
       "54. 33\n",
       "55. 42\n",
       "56. 38\n",
       "57. 34\n",
       "58. 21\n",
       "59. 34\n",
       "60. 36\n",
       "61. 26\n",
       "62. 36\n",
       "63. 39\n",
       "64. 39\n",
       "65. 49\n",
       "66. 28\n",
       "67. 19\n",
       "68. 29\n",
       "69. 46\n",
       "70. 33\n",
       "71. 45\n",
       "72. 39\n",
       "73. 43\n",
       "74. 49\n",
       "75. 41\n",
       "76. 27\n",
       "77. 33\n",
       "78. 33\n",
       "79. 36\n",
       "80. 50\n",
       "81. 52\n",
       "82. 10\n",
       "83. 49\n",
       "84. 30\n",
       "85. 30\n",
       "86. 42\n",
       "87. 47\n",
       "88. 48\n",
       "89. 35\n",
       "90. 48\n",
       "91. 43\n",
       "92. 50\n",
       "93. 30\n",
       "94. 36\n",
       "95. 29\n",
       "96. &lt;NA&gt;\n",
       "97. 46\n",
       "\n",
       "\n"
      ],
      "text/plain": [
       " [1] 22 53 38 26 19 36 33 38 38 37 47 40 30 16 44 27 36 19 41 18 41 29 47 47 53\n",
       "[26] 33 30 39 38 47 44 48 33 36 43 53 38 33 41 54 51 23 42 42 45 51 42 36 38 28\n",
       "[51] 27 31 47 33 42 38 34 21 34 36 26 36 39 39 49 28 19 29 46 33 45 39 43 49 41\n",
       "[76] 27 33 33 36 50 52 10 49 30 30 42 47 48 35 48 43 50 30 36 29 NA 46"
      ]
     },
     "metadata": {},
     "output_type": "display_data"
    }
   ],
   "source": [
    "x = dane$Okres.bez.wznowy\n",
    "x"
   ]
  },
  {
   "cell_type": "code",
   "execution_count": 4,
   "id": "a2a6659d",
   "metadata": {},
   "outputs": [
    {
     "data": {
      "text/plain": [
       "      Wiek        Rozmiar.guza   Wezly.chlonne       Nowotwor    \n",
       " Min.   :29.00   Min.   :1.000   Min.   :0.0000   Min.   :1.000  \n",
       " 1st Qu.:42.00   1st Qu.:1.000   1st Qu.:0.0000   1st Qu.:2.000  \n",
       " Median :46.00   Median :1.000   Median :0.0000   Median :2.000  \n",
       " Mean   :45.52   Mean   :1.268   Mean   :0.4124   Mean   :2.221  \n",
       " 3rd Qu.:50.00   3rd Qu.:2.000   3rd Qu.:1.0000   3rd Qu.:3.000  \n",
       " Max.   :57.00   Max.   :2.000   Max.   :1.0000   Max.   :3.000  \n",
       "                                                  NA's   :11     \n",
       " Receptory.estrogenowe Receptory.progesteronowe Niepowodzenia Okres.bez.wznowy\n",
       " (-)  :37              (-)  :24                 brak  :84     Min.   :10.00   \n",
       " (+)  :21              (+)  :18                 wznowa:13     1st Qu.:30.75   \n",
       " (++) :24              (++) :32                               Median :38.00   \n",
       " (+++): 9              (+++):16                               Mean   :37.41   \n",
       " NA's : 6              NA's : 7                               3rd Qu.:45.00   \n",
       "                                                              Max.   :54.00   \n",
       "                                                              NA's   :1       \n",
       "      VEGF      \n",
       " Min.   :  118  \n",
       " 1st Qu.:  629  \n",
       " Median : 1489  \n",
       " Mean   : 2627  \n",
       " 3rd Qu.: 3240  \n",
       " Max.   :22554  \n",
       "                "
      ]
     },
     "metadata": {},
     "output_type": "display_data"
    }
   ],
   "source": [
    "summary(dane)"
   ]
  },
  {
   "cell_type": "code",
   "execution_count": 3,
   "id": "e34506ee",
   "metadata": {},
   "outputs": [
    {
     "data": {
      "text/plain": [
       "        Niepowodzenia\n",
       "Nowotwor brak wznowa\n",
       "       1    7      0\n",
       "       2   49      4\n",
       "       3   17      9"
      ]
     },
     "metadata": {},
     "output_type": "display_data"
    }
   ],
   "source": [
    "table(dane[c(4,7)])"
   ]
  },
  {
   "cell_type": "code",
   "execution_count": 4,
   "id": "c89e8278",
   "metadata": {},
   "outputs": [
    {
     "data": {
      "text/html": [
       "<dl class=dl-horizontal>\n",
       "\t<dt>1</dt>\n",
       "\t\t<dd>7</dd>\n",
       "\t<dt>2</dt>\n",
       "\t\t<dd>53</dd>\n",
       "\t<dt>3</dt>\n",
       "\t\t<dd>26</dd>\n",
       "\t<dt>NA's</dt>\n",
       "\t\t<dd>11</dd>\n",
       "</dl>\n"
      ],
      "text/latex": [
       "\\begin{description*}\n",
       "\\item[1] 7\n",
       "\\item[2] 53\n",
       "\\item[3] 26\n",
       "\\item[NA's] 11\n",
       "\\end{description*}\n"
      ],
      "text/markdown": [
       "1\n",
       ":   72\n",
       ":   533\n",
       ":   26NA's\n",
       ":   11\n",
       "\n"
      ],
      "text/plain": [
       "   1    2    3 NA's \n",
       "   7   53   26   11 "
      ]
     },
     "metadata": {},
     "output_type": "display_data"
    }
   ],
   "source": [
    "summary(factor(dane$Nowotwor))"
   ]
  },
  {
   "cell_type": "code",
   "execution_count": 5,
   "id": "b27aca91",
   "metadata": {},
   "outputs": [
    {
     "data": {
      "text/plain": [
       " [1] 22+ 53+ 38+ 26+ 19+ 36  33+ 38+ 38  37+ 47+ 40  30  16  44+ 27+ 36+ 19+ 41+\n",
       "[20] 18+ 41  29  47+ 47+ 53+ 33+ 30+ 39+ 38+ 47+ 44+ 48+ 33+ 36+ 43  53+ 38+ 33+\n",
       "[39] 41+ 54+ 51+ 23+ 42+ 42+ 45+ 51+ 42+ 36+ 38+ 28+ 27+ 31+ 47+ 33+ 42+ 38+ 34+\n",
       "[58] 21  34+ 36+ 26+ 36+ 39+ 39+ 49+ 28+ 19  29+ 46+ 33+ 45+ 39+ 43+ 49+ 41+ 27+\n",
       "[77] 33+ 33+ 36+ 50+ 52+ 10  49+ 30+ 30+ 42+ 47+ 48  35+ 48+ 43+ 50  30+ 36+ 29+\n",
       "[96] NA+ 46+"
      ]
     },
     "metadata": {},
     "output_type": "display_data"
    }
   ],
   "source": [
    "library(survival) #tam jest metoda Surv\n",
    "czasy = with(dane, Surv(Okres.bez.wznowy, Niepowodzenia == \"wznowa\"))\n",
    "czasy #część obserwacji  to tzw. obserwacje ocenzurowane"
   ]
  },
  {
   "cell_type": "markdown",
   "id": "2d0a1277",
   "metadata": {},
   "source": [
    "Estymator Kaplana-Meiera (uwzględnia obserwacje cenzurowane)\n",
    "\n",
    "$\\bar{S(t)}=\\prod_{t_i  \\leq t} \\frac{n_i-d_i}{n_i}$\n",
    "\n",
    "- $n_i$ liczba osób, które dożyły do danego momentu\n",
    "- $d_i$ liczba śmierci w danym momencie"
   ]
  },
  {
   "cell_type": "code",
   "execution_count": 6,
   "id": "2ffc17d3",
   "metadata": {},
   "outputs": [
    {
     "data": {
      "text/plain": [
       "Call: survfit(formula = czasy ~ 1)\n",
       "\n",
       "1 observation deleted due to missingness \n",
       " time n.risk n.event survival std.err lower 95% CI upper 95% CI\n",
       "   10     96       1    0.990  0.0104        0.969        1.000\n",
       "   16     95       1    0.979  0.0146        0.951        1.000\n",
       "   19     93       1    0.969  0.0178        0.934        1.000\n",
       "   21     90       1    0.958  0.0206        0.918        0.999\n",
       "   29     80       1    0.946  0.0236        0.901        0.993\n",
       "   30     77       1    0.934  0.0263        0.884        0.987\n",
       "   36     60       1    0.918  0.0301        0.861        0.979\n",
       "   38     51       1    0.900  0.0345        0.835        0.970\n",
       "   40     40       1    0.878  0.0403        0.802        0.960\n",
       "   41     39       1    0.855  0.0451        0.771        0.948\n",
       "   43     30       1    0.827  0.0518        0.731        0.935\n",
       "   48     15       1    0.771  0.0719        0.643        0.926\n",
       "   50      9       1    0.686  0.1030        0.511        0.921"
      ]
     },
     "metadata": {},
     "output_type": "display_data"
    }
   ],
   "source": [
    "model1 = survfit(czasy~1) #estymator Kaplana-Meiera (oparty o metodę największej wiarygodnosci)\n",
    "summary(model1)"
   ]
  },
  {
   "cell_type": "markdown",
   "id": "c01cb564",
   "metadata": {},
   "source": [
    "<h4> Zadanie1: Jakie w tej populacji jest prawdopodobieństwo, że wznowa nastąpiła do 48 okresów?"
   ]
  },
  {
   "cell_type": "markdown",
   "id": "a590bce3",
   "metadata": {},
   "source": [
    "<h4> Zadanie2: Pokaż, że $\\bar{S}$ jest funkcją nieujemną i nierosnącą. Kiedy $\\bar{S(t)} = 0$ ?"
   ]
  },
  {
   "cell_type": "code",
   "execution_count": 7,
   "id": "f7e6fa3c",
   "metadata": {},
   "outputs": [
    {
     "data": {
      "text/html": [
       "0.685731595177065"
      ],
      "text/latex": [
       "0.685731595177065"
      ],
      "text/markdown": [
       "0.685731595177065"
      ],
      "text/plain": [
       "[1] 0.6857316"
      ]
     },
     "metadata": {},
     "output_type": "display_data"
    }
   ],
   "source": [
    "#przykladowo dla ostatnieniego wiersza\n",
    "nrisk = c(96,95,93,90,80,77,60,51,40,39,30,15,9)\n",
    "prod((nrisk - 1)/nrisk)"
   ]
  },
  {
   "cell_type": "code",
   "execution_count": 8,
   "id": "bafa4137",
   "metadata": {},
   "outputs": [
    {
     "data": {
      "image/png": "[encoded data removed]",
      "text/plain": [
       "plot without title"
      ]
     },
     "metadata": {},
     "output_type": "display_data"
    }
   ],
   "source": [
    "plot(model1)"
   ]
  },
  {
   "cell_type": "code",
   "execution_count": 9,
   "id": "1bcc6eee",
   "metadata": {},
   "outputs": [
    {
     "data": {
      "text/plain": [
       "Call: survfit(formula = czasy ~ dane$Nowotwor)\n",
       "\n",
       "11 observations deleted due to missingness \n",
       "                dane$Nowotwor=1 \n",
       "     time n.risk n.event survival std.err lower 95% CI upper 95% CI\n",
       "\n",
       "                dane$Nowotwor=2 \n",
       " time n.risk n.event survival std.err lower 95% CI upper 95% CI\n",
       "   19     53       1    0.981  0.0187        0.945            1\n",
       "   29     46       1    0.960  0.0279        0.907            1\n",
       "   30     43       1    0.937  0.0351        0.871            1\n",
       "   48      9       1    0.833  0.1030        0.654            1\n",
       "\n",
       "                dane$Nowotwor=3 \n",
       " time n.risk n.event survival std.err lower 95% CI upper 95% CI\n",
       "   10     26       1    0.962  0.0377       0.8904        1.000\n",
       "   16     25       1    0.923  0.0523       0.8261        1.000\n",
       "   21     23       1    0.883  0.0636       0.7668        1.000\n",
       "   36     18       1    0.834  0.0767       0.6964        0.999\n",
       "   38     15       1    0.778  0.0895       0.6213        0.975\n",
       "   40      9       1    0.692  0.1139       0.5010        0.955\n",
       "   41      8       1    0.605  0.1284       0.3995        0.917\n",
       "   43      7       1    0.519  0.1361       0.3103        0.867\n",
       "   50      2       1    0.259  0.1957       0.0592        1.000\n"
      ]
     },
     "metadata": {},
     "output_type": "display_data"
    }
   ],
   "source": [
    "model2 = survfit(czasy~dane$Nowotwor)\n",
    "summary(model2)"
   ]
  },
  {
   "cell_type": "code",
   "execution_count": 10,
   "id": "6be0488a",
   "metadata": {},
   "outputs": [
    {
     "data": {
      "image/png": "[encoded data removed]",
      "text/plain": [
       "plot without title"
      ]
     },
     "metadata": {},
     "output_type": "display_data"
    }
   ],
   "source": [
    "options(repr.plot.width=7, repr.plot.height=4)\n",
    "plot(model2, col=1:3, xlab=\"wiek\", ylab=\"S(t)\")\n",
    "legend(\"bottomleft\", legend=c(\"typ 1\",\"typ 2\",\"typ 3\"), col=1:3, lty=1, y.intersp=1.7)"
   ]
  },
  {
   "cell_type": "code",
   "execution_count": 11,
   "id": "aa119a9a",
   "metadata": {},
   "outputs": [
    {
     "data": {
      "text/plain": [
       "Call:\n",
       "survdiff(formula = czasy ~ dane$Nowotwor)\n",
       "\n",
       "n=86, 11 observations deleted due to missingness.\n",
       "\n",
       "                 N Observed Expected (O-E)^2/E (O-E)^2/V\n",
       "dane$Nowotwor=1  7        0    0.913     0.913     0.991\n",
       "dane$Nowotwor=2 53        4    8.532     2.408     7.091\n",
       "dane$Nowotwor=3 26        9    3.554     8.344    11.552\n",
       "\n",
       " Chisq= 11.7  on 2 degrees of freedom, p= 0.003 "
      ]
     },
     "metadata": {},
     "output_type": "display_data"
    }
   ],
   "source": [
    "survdiff(czasy~dane$Nowotwor) #test, wskazuje czy krzywa przezycia rozni sie istotnie dla roznych stopni zaawansowania nowotworu"
   ]
  },
  {
   "cell_type": "markdown",
   "id": "2ae4701d",
   "metadata": {},
   "source": [
    "<h4> <center> Model Coxa (Model hazardu proporcjonalnego) </center> \n",
    "\n",
    "$h(t) = P(T=t|T \\geq t)$\n",
    "\n",
    "$h(t,X) = h_0(t)e^{X\\beta} $\n",
    "\n",
    "Zauważ, że z postaci modelu wynika, że $\\frac{h(t,X_1)}{h(t,X_2)} = \\frac{h_0(t)e^{X_1\\beta}}{h_0(t)e^{X_2\\beta}}=e^{(X_1-X_2)\\beta}$ (czyli nie zależy od czasu!)\n",
    "\n",
    "Załóżmy, że $X = (x_1,x_2,...,x_n)$ (wektor $X$ składa się z $n$ cech). Niech cecha $x_1$ wzrośnie o 1. Jak wtedy zmieni się funkcja hazardu?\n",
    "\n",
    "$\\frac{h(t,(x_1+1,x_2,...,x_n))}{h(t,(x_1,x_2,...,x_n))} = e^{(x_1+1)\\beta_1+x_2 \\beta_2 +... - x_1 \\beta_1 - x_2 \\beta_2 ...} = e^{\\beta_1}$\n",
    "\n",
    "Analogicznie dla pozostałych zmiennych. Wartość tę nazywamy hazardem względnym (HR = hazard ratio).\n",
    "\n",
    "Uwaga: Zachodzi następująca relacja pomiędzy funkcją hazardu a funkcją przeżycia $h(t) = -\\frac{d}{dt}\\ln S(t)$"
   ]
  },
  {
   "cell_type": "code",
   "execution_count": 12,
   "id": "3a215cef",
   "metadata": {
    "scrolled": true
   },
   "outputs": [
    {
     "data": {
      "text/plain": [
       "Call:\n",
       "coxph(formula = czasy ~ Nowotwor + Wiek, data = dane)\n",
       "\n",
       "  n= 86, number of events= 13 \n",
       "   (11 observations deleted due to missingness)\n",
       "\n",
       "             coef exp(coef) se(coef)      z Pr(>|z|)   \n",
       "Nowotwor  1.75372   5.77607  0.59566  2.944  0.00324 **\n",
       "Wiek     -0.05632   0.94524  0.04340 -1.297  0.19447   \n",
       "---\n",
       "Signif. codes:  0 '***' 0.001 '**' 0.01 '*' 0.05 '.' 0.1 ' ' 1\n",
       "\n",
       "         exp(coef) exp(-coef) lower .95 upper .95\n",
       "Nowotwor    5.7761     0.1731    1.7973    18.563\n",
       "Wiek        0.9452     1.0579    0.8682     1.029\n",
       "\n",
       "Concordance= 0.747  (se = 0.073 )\n",
       "Likelihood ratio test= 12.17  on 2 df,   p=0.002\n",
       "Wald test            = 10  on 2 df,   p=0.007\n",
       "Score (logrank) test = 11.62  on 2 df,   p=0.003\n"
      ]
     },
     "metadata": {},
     "output_type": "display_data"
    }
   ],
   "source": [
    "model = coxph(czasy~Nowotwor+Wiek, data = dane) #concordance opisuje jakosc modelu, 1 - idealnie, 0.6-0.7 ok, 0.5 - losowy\n",
    "summary(model)"
   ]
  },
  {
   "cell_type": "markdown",
   "id": "8d121172",
   "metadata": {},
   "source": [
    "<h4> Zadanie3: Odczytaj hazardy względne dla zmiennych Nowotwor oraz Wiek. Zinterpretuj ich wartości."
   ]
  },
  {
   "cell_type": "markdown",
   "id": "a527da38",
   "metadata": {},
   "source": [
    "<h4> Zadanie4: Zauważ, że w powyższym modelu nie jest estymowany wyraz wolny. Dlaczego możemy z niego zrezygnować?"
   ]
  },
  {
   "cell_type": "code",
   "execution_count": 13,
   "id": "0bc2da37",
   "metadata": {},
   "outputs": [
    {
     "name": "stdout",
     "output_type": "stream",
     "text": [
      "Analysis of Deviance Table\n",
      " Cox model: response is czasy\n",
      "Terms added sequentially (first to last)\n",
      "\n",
      "          loglik   Chisq Df Pr(>|Chi|)   \n",
      "NULL     -49.414                         \n",
      "Nowotwor -44.129 10.5700  1   0.001149 **\n",
      "Wiek     -43.331  1.5956  1   0.206534   \n",
      "---\n",
      "Signif. codes:  0 '***' 0.001 '**' 0.01 '*' 0.05 '.' 0.1 ' ' 1\n"
     ]
    }
   ],
   "source": [
    "print(anova(model))"
   ]
  },
  {
   "cell_type": "code",
   "execution_count": 14,
   "id": "e21eb128",
   "metadata": {},
   "outputs": [
    {
     "data": {
      "image/png": "[encoded data removed]",
      "text/plain": [
       "plot without title"
      ]
     },
     "metadata": {},
     "output_type": "display_data"
    },
    {
     "data": {
      "image/png": "[encoded data removed]",
      "text/plain": [
       "plot without title"
      ]
     },
     "metadata": {},
     "output_type": "display_data"
    }
   ],
   "source": [
    "plot(cox.zph(model)) #wizualna ocena założeń: nachylenie powinno byc bliskie zera"
   ]
  },
  {
   "cell_type": "markdown",
   "id": "9f2a6a0e",
   "metadata": {},
   "source": [
    "Ciekawostka:\n",
    "W Europie Zachodniej $S(100) > S(110)$ (oczywiste), ale $h(100) \\approx h(110)$. Czyli z jednej strony oczywiście prawdopodobieństwo przeżycia 100 lat jest większe niż 110 lat, ale już ryzyko śmierci dla osób w wieku 100 i 110 jest porównywalne."
   ]
  },
  {
   "cell_type": "markdown",
   "id": "23f54f8c",
   "metadata": {},
   "source": [
    "Warto poczytać: https://socialsciences.mcmaster.ca/jfox/Books/Companion-1E/appendix-cox-regression.pdf"
   ]
  }
 ],
 "metadata": {
  "kernelspec": {
   "display_name": "R",
   "language": "R",
   "name": "ir"
  },
  "language_info": {
   "codemirror_mode": "r",
   "file_extension": ".r",
   "mimetype": "text/x-r-source",
   "name": "R",
   "pygments_lexer": "r",
   "version": "3.6.1"
  }
 },
 "nbformat": 4,
 "nbformat_minor": 5
}
