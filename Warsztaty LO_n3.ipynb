{
 "cells": [
  {
   "cell_type": "markdown",
   "metadata": {},
   "source": [
    "<h3> Grafy"
   ]
  },
  {
   "cell_type": "code",
   "execution_count": 1,
   "metadata": {},
   "outputs": [],
   "source": [
    "class Graf:\n",
    "    def __init__(self, wierzcholki=[]):\n",
    "        \"\"\"inicjalizacja grafu z listą wierzcholkow\"\"\"\n",
    "        self.w = {v:i for i,v in enumerate(wierzcholki)}    \n",
    "        self.i = {i:v for i,v in enumerate(wierzcholki)}   \n",
    "        self.krawedzie = []\n",
    "        self.nazwykrawedzi = []\n",
    "        \n",
    "    def dodajWierzcholek(self, wierzcholek):\n",
    "        \"\"\" Dodanie wierzchołka do grafu (wraz z nazwą) \"\"\"\n",
    "        indeks = len(self.w)\n",
    "        self.w[wierzcholek] = indeks\n",
    "        self.i[indeks] = wierzcholek\n",
    "        \n",
    "    def dodajKrawedz(self, w1, w2, label='', powtorzenia=True):\n",
    "        \"\"\" Dodanie krawędzi do grafu (opcjonalnie z nazwą), \n",
    "        powtwórzone krawędzie traktowane są jakie różne chyba ze wybrano False\"\"\"\n",
    "        e = (self.w[w1], self.w[w2])\n",
    "        if (powtorzenia) or (e not in self.krawedzie):\n",
    "            self.krawedzie.append(e)\n",
    "            self.nazwykrawedzi.append(label)"
   ]
  },
  {
   "cell_type": "markdown",
   "metadata": {},
   "source": [
    "Przykład grafu"
   ]
  },
  {
   "cell_type": "code",
   "execution_count": 2,
   "metadata": {},
   "outputs": [],
   "source": [
    "g = Graf([\"A\",\"B\"])"
   ]
  },
  {
   "cell_type": "code",
   "execution_count": 3,
   "metadata": {},
   "outputs": [],
   "source": [
    "g.dodajWierzcholek(\"C\")"
   ]
  },
  {
   "cell_type": "code",
   "execution_count": 4,
   "metadata": {},
   "outputs": [],
   "source": [
    "g.dodajKrawedz(\"A\",\"B\")"
   ]
  },
  {
   "cell_type": "code",
   "execution_count": 5,
   "metadata": {},
   "outputs": [],
   "source": [
    "g.dodajKrawedz(\"A\",\"C\")"
   ]
  },
  {
   "cell_type": "code",
   "execution_count": 6,
   "metadata": {},
   "outputs": [
    {
     "data": {
      "text/plain": [
       "[(0, 1), (0, 2)]"
      ]
     },
     "execution_count": 6,
     "metadata": {},
     "output_type": "execute_result"
    }
   ],
   "source": [
    "g.krawedzie"
   ]
  },
  {
   "cell_type": "markdown",
   "metadata": {},
   "source": [
    "Graf na wierzchołkach binarnych"
   ]
  },
  {
   "cell_type": "code",
   "execution_count": 7,
   "metadata": {},
   "outputs": [
    {
     "name": "stdout",
     "output_type": "stream",
     "text": [
      "['000', '001', '010', '011', '100', '101', '110', '111']\n"
     ]
    }
   ],
   "source": [
    "import itertools\n",
    "\n",
    "b = [''.join(t) for t in itertools.product('01', repeat=3)]\n",
    "print(b)"
   ]
  },
  {
   "cell_type": "code",
   "execution_count": 8,
   "metadata": {},
   "outputs": [
    {
     "name": "stdout",
     "output_type": "stream",
     "text": [
      "\n",
      "wierzchołki:indeksy =  {'000': 0, '001': 1, '010': 2, '011': 3, '100': 4, '101': 5, '110': 6, '111': 7}\n",
      "\n",
      "indeksy:wierzchołki =  {0: '000', 1: '001', 2: '010', 3: '011', 4: '100', 5: '101', 6: '110', 7: '111'}\n",
      "\n",
      "krawędzie = [(0, 0), (0, 1), (1, 2), (1, 3), (2, 4), (2, 5), (3, 6), (3, 7), (4, 0), (4, 1), (5, 2), (5, 3), (6, 4), (6, 5), (7, 6), (7, 7)]\n"
     ]
    }
   ],
   "source": [
    "G = Graf(b)\n",
    "for w in b:\n",
    "    G.dodajKrawedz(w, w[1:]+'0')\n",
    "    G.dodajKrawedz(w, w[1:]+'1')\n",
    "\n",
    "print()\n",
    "print(\"wierzchołki:indeksy = \", G.w)\n",
    "print()\n",
    "print(\"indeksy:wierzchołki = \", G.i)\n",
    "print()\n",
    "print(\"krawędzie =\", G.krawedzie)"
   ]
  },
  {
   "cell_type": "markdown",
   "metadata": {},
   "source": [
    "<h4> Permutacje"
   ]
  },
  {
   "cell_type": "code",
   "execution_count": 9,
   "metadata": {},
   "outputs": [
    {
     "name": "stdout",
     "output_type": "stream",
     "text": [
      "(1, 2, 3)\n",
      "(1, 3, 2)\n",
      "(2, 1, 3)\n",
      "(2, 3, 1)\n",
      "(3, 1, 2)\n",
      "(3, 2, 1)\n"
     ]
    }
   ],
   "source": [
    "import itertools\n",
    "\n",
    "start = 1\n",
    "for p in itertools.permutations([1,2,3]):\n",
    "    print(p)"
   ]
  },
  {
   "cell_type": "code",
   "execution_count": 10,
   "metadata": {},
   "outputs": [
    {
     "name": "stdout",
     "output_type": "stream",
     "text": [
      "Wall time: 0 ns\n",
      "['000', '001', '010', '101', '011', '111', '110', '100']\n",
      "0001011100\n"
     ]
    }
   ],
   "source": [
    "import itertools\n",
    "\n",
    "class Graf2(Graf):\n",
    "    def sciezkaHamiltona(self):\n",
    "        \"\"\" Rozwiazazanie za poomocą tzw. brutalnej siły \n",
    "        (tzn. sprawdzamy wszystkie możliwości)\"\"\"\n",
    "        for sciezka in itertools.permutations(sorted(self.w.values())):\n",
    "            for i in range(len(sciezka)-1):\n",
    "                if ((sciezka[i],sciezka[i+1]) not in self.krawedzie):\n",
    "                    break\n",
    "            else:\n",
    "                return [self.i[i] for i in sciezka]\n",
    "        return []\n",
    "    \n",
    "G = Graf2(b)\n",
    "for w in b:\n",
    "    G.dodajKrawedz(w, w[1:]+'0')\n",
    "    G.dodajKrawedz(w ,w[1:]+'1')\n",
    "\n",
    "    \n",
    "%time sciezka = G.sciezkaHamiltona()\n",
    "print(sciezka)\n",
    "s = sciezka[0] + ''.join([sciezka[i][-1] for i in range(1,len(sciezka))])\n",
    "print(s)"
   ]
  },
  {
   "cell_type": "code",
   "execution_count": 11,
   "metadata": {},
   "outputs": [
    {
     "name": "stdout",
     "output_type": "stream",
     "text": [
      "Wall time: 0 ns\n",
      "['000', '001', '010', '101', '011', '111', '110', '100']\n",
      "0001011100\n"
     ]
    }
   ],
   "source": [
    "class Graf3(Graf):   \n",
    "    def szukaj(self, sciezka, pozostale_wierzcholki):\n",
    "        if (len(pozostale_wierzcholki) == 0):\n",
    "            self.wyniki = [self.i[i] for i in sciezka]\n",
    "            return True\n",
    "        for v in pozostale_wierzcholki:\n",
    "            if (len(sciezka) == 0) or ((sciezka[-1],v) in self.krawedzie):\n",
    "                if self.szukaj(sciezka+[v], [r for r in pozostale_wierzcholki if r != v]):\n",
    "                    return True\n",
    "        return False\n",
    "    \n",
    "    def sciezkaHamiltona(self):\n",
    "        self.wyniki = []\n",
    "        self.szukaj([],sorted(self.w.values()))                \n",
    "        return self.wyniki\n",
    "\n",
    "G = Graf3(b)\n",
    "for w in b:\n",
    "    G.dodajKrawedz(w, w[1:]+'0')\n",
    "    G.dodajKrawedz(w ,w[1:]+'1')\n",
    "\n",
    "    \n",
    "%time sciezka = G.sciezkaHamiltona()\n",
    "print(sciezka)\n",
    "s = sciezka[0] + ''.join([sciezka[i][-1] for i in range(1,len(sciezka))])\n",
    "print(s)"
   ]
  },
  {
   "cell_type": "code",
   "execution_count": 12,
   "metadata": {},
   "outputs": [
    {
     "name": "stdout",
     "output_type": "stream",
     "text": [
      "Wall time: 995 µs\n",
      "['0000', '0001', '0010', '0100', '1001', '0011', '0110', '1101', '1010', '0101', '1011', '0111', '1111', '1110', '1100', '1000']\n",
      "0000100110101111000\n"
     ]
    }
   ],
   "source": [
    "#dla ciagu binarnego dlugosci 4\n",
    "\n",
    "b4 = [''.join(t) for t in itertools.product('01', repeat=4)]\n",
    "\n",
    "G = Graf3(b4)\n",
    "for w in b4:\n",
    "    G.dodajKrawedz(w, w[1:]+'0')\n",
    "    G.dodajKrawedz(w ,w[1:]+'1')\n",
    "\n",
    "    \n",
    "%time sciezka = G.sciezkaHamiltona()\n",
    "print(sciezka)\n",
    "s = sciezka[0] + ''.join([sciezka[i][-1] for i in range(1,len(sciezka))])\n",
    "print(s)"
   ]
  },
  {
   "cell_type": "markdown",
   "metadata": {},
   "source": [
    "Jak to sie ma do sekwencji biologicznych?"
   ]
  },
  {
   "cell_type": "code",
   "execution_count": 13,
   "metadata": {},
   "outputs": [
    {
     "name": "stdout",
     "output_type": "stream",
     "text": [
      "TCAGGATGCGTCTTGTTACACGCGATATCCTACGTGATTCTGCAAACCCGCCTACTGATGTATAAGTAAGTGTATACCAGCTACACCCCGTACCCCTAGG\n"
     ]
    }
   ],
   "source": [
    "import random\n",
    "n = 100\n",
    "nt = [\"A\",\"T\",\"G\",\"C\"]\n",
    "sekwencja = random.choices(nt, k = n)\n",
    "sekwencja = \"\".join(sekwencja)\n",
    "print(sekwencja)\n",
    "\n",
    "sekwencja = \"ACTTCCCCTAGATTCTCTCCGTGGACCCGATGGCTGTGAGATAAAAAACAGCGGAGGGAAACCTTTGTTGACATAGGAGTACTGTACGAACTCAATGCAC\"\n"
   ]
  },
  {
   "cell_type": "code",
   "execution_count": 14,
   "metadata": {},
   "outputs": [],
   "source": [
    "def wszystkie_k_mery(s, k = 10):\n",
    "    return [s[i:(i+k)] for i in range(len(s)-k+1)]"
   ]
  },
  {
   "cell_type": "code",
   "execution_count": 15,
   "metadata": {},
   "outputs": [
    {
     "name": "stdout",
     "output_type": "stream",
     "text": [
      "['ACTTCCCCTA', 'CTTCCCCTAG', 'TTCCCCTAGA', 'TCCCCTAGAT', 'CCCCTAGATT', 'CCCTAGATTC', 'CCTAGATTCT', 'CTAGATTCTC', 'TAGATTCTCT', 'AGATTCTCTC', 'GATTCTCTCC', 'ATTCTCTCCG', 'TTCTCTCCGT', 'TCTCTCCGTG', 'CTCTCCGTGG', 'TCTCCGTGGA', 'CTCCGTGGAC', 'TCCGTGGACC', 'CCGTGGACCC', 'CGTGGACCCG', 'GTGGACCCGA', 'TGGACCCGAT', 'GGACCCGATG', 'GACCCGATGG', 'ACCCGATGGC', 'CCCGATGGCT', 'CCGATGGCTG', 'CGATGGCTGT', 'GATGGCTGTG', 'ATGGCTGTGA', 'TGGCTGTGAG', 'GGCTGTGAGA', 'GCTGTGAGAT', 'CTGTGAGATA', 'TGTGAGATAA', 'GTGAGATAAA', 'TGAGATAAAA', 'GAGATAAAAA', 'AGATAAAAAA', 'GATAAAAAAC', 'ATAAAAAACA', 'TAAAAAACAG', 'AAAAAACAGC', 'AAAAACAGCG', 'AAAACAGCGG', 'AAACAGCGGA', 'AACAGCGGAG', 'ACAGCGGAGG', 'CAGCGGAGGG', 'AGCGGAGGGA', 'GCGGAGGGAA', 'CGGAGGGAAA', 'GGAGGGAAAC', 'GAGGGAAACC', 'AGGGAAACCT', 'GGGAAACCTT', 'GGAAACCTTT', 'GAAACCTTTG', 'AAACCTTTGT', 'AACCTTTGTT', 'ACCTTTGTTG', 'CCTTTGTTGA', 'CTTTGTTGAC', 'TTTGTTGACA', 'TTGTTGACAT', 'TGTTGACATA', 'GTTGACATAG', 'TTGACATAGG', 'TGACATAGGA', 'GACATAGGAG', 'ACATAGGAGT', 'CATAGGAGTA', 'ATAGGAGTAC', 'TAGGAGTACT', 'AGGAGTACTG', 'GGAGTACTGT', 'GAGTACTGTA', 'AGTACTGTAC', 'GTACTGTACG', 'TACTGTACGA', 'ACTGTACGAA', 'CTGTACGAAC', 'TGTACGAACT', 'GTACGAACTC', 'TACGAACTCA', 'ACGAACTCAA', 'CGAACTCAAT', 'GAACTCAATG', 'AACTCAATGC', 'ACTCAATGCA', 'CTCAATGCAC']\n"
     ]
    }
   ],
   "source": [
    "print(wszystkie_k_mery(sekwencja))"
   ]
  },
  {
   "cell_type": "code",
   "execution_count": 16,
   "metadata": {},
   "outputs": [
    {
     "name": "stdout",
     "output_type": "stream",
     "text": [
      "ACTTCCCCTAGATTCTCTCCGTGGACCCGATGGCTGTGAGATAAAAAACAGCGGAGGGAAACCTTTGTTGACATAGGAGTACTGTACGAACTCAATGCAC\n"
     ]
    }
   ],
   "source": [
    "sekwencje = list(set(wszystkie_k_mery(sekwencja)))\n",
    "G = Graf3(sekwencje)\n",
    "\n",
    "for i in range(len(sekwencje)):\n",
    "    for j in range(len(sekwencje)):\n",
    "        if i!=j and sekwencje[i][1:] == sekwencje[j][:-1]:\n",
    "            G.dodajKrawedz(sekwencje[i],sekwencje[j])\n",
    "\n",
    "    \n",
    "sciezka = G.sciezkaHamiltona()\n",
    "s = sciezka[0] + ''.join([sciezka[i][-1] for i in range(1,len(sciezka))])\n",
    "print(s)"
   ]
  },
  {
   "cell_type": "code",
   "execution_count": 17,
   "metadata": {},
   "outputs": [
    {
     "data": {
      "text/plain": [
       "True"
      ]
     },
     "execution_count": 17,
     "metadata": {},
     "output_type": "execute_result"
    }
   ],
   "source": [
    "s == sekwencja"
   ]
  },
  {
   "cell_type": "markdown",
   "metadata": {},
   "source": [
    "<h4> Zadanie1: Zastanów się nad sekwencją, dla której algorytm na podstawie k-merów może wskazać inną sekwencję przewidywaną."
   ]
  },
  {
   "cell_type": "markdown",
   "metadata": {},
   "source": [
    "<h4> Podejście Eulera"
   ]
  },
  {
   "cell_type": "code",
   "execution_count": 18,
   "metadata": {},
   "outputs": [],
   "source": [
    "class Graf4(Graf3):\n",
    "\n",
    "    def stopnie(self):\n",
    "        \"\"\"zwraca informacje o tym ile wchodzi i ile wychodzi\n",
    "           krawedzi do kazdego wierzcholka\"\"\"\n",
    "        do = {}\n",
    "        od = {}\n",
    "        for a, b in self.krawedzie:\n",
    "            od[a] = od.get(a, 0) + 1\n",
    "            do[b] = do.get(b, 0) + 1\n",
    "        return do, od\n",
    "    \n",
    "    def weryfikuj_i_zacznij(self):\n",
    "        do, od = self.stopnie()\n",
    "        start, end = 0, 0\n",
    "        for v in self.i:\n",
    "            wchodzace = do.get(v,0)\n",
    "            wychodzace = od.get(v,0)\n",
    "            if (wchodzace == wychodzace):\n",
    "                continue\n",
    "            elif (wchodzace - wychodzace == 1) and (end == 0):\n",
    "                end = v\n",
    "            elif (wychodzace - wchodzace == 1) and (start == 0):\n",
    "                start = v\n",
    "            else:\n",
    "                start, end = -1, -1\n",
    "                break\n",
    "        if (start >= 0) and (end >= 0):\n",
    "            return start\n",
    "        else:\n",
    "            return -1\n",
    "        \n",
    "    def sciezkaEulera(self):\n",
    "        graf = [(a,b) for a,b in self.krawedzie]\n",
    "        aktualny_wierzcholek = self.weryfikuj_i_zacznij()\n",
    "        sciezka = [aktualny_wierzcholek]\n",
    "        next = 1\n",
    "        while (len(graf) > 0):                   #kiedy nie wszystkie krawedzie zostaly uzyte, len(graf) != 0\n",
    "            for krawedz in graf:\n",
    "                if (krawedz[0] == aktualny_wierzcholek):\n",
    "                    aktualny_wierzcholek = krawedz[1]\n",
    "                    graf.remove(krawedz)\n",
    "                    sciezka.insert(next, aktualny_wierzcholek) \n",
    "                    next += 1\n",
    "                    break\n",
    "            else:\n",
    "                for krawedz in graf:\n",
    "                    try:\n",
    "                        next = sciezka.index(krawedz[0]) + 1\n",
    "                        aktualny_wierzcholek = krawedz[0]\n",
    "                        break\n",
    "                    except ValueError:\n",
    "                        continue\n",
    "                else:\n",
    "                    print(\"Nie ma ścieżki!\")\n",
    "                    return False\n",
    "        return sciezka\n",
    "\n",
    "    def krawedzieEulera(self, sciezka):\n",
    "        krawedzieId = {}\n",
    "        for i in range(len(self.krawedzie)):\n",
    "            krawedzieId[self.krawedzie[i]] = krawedzieId.get(self.krawedzie[i], []) + [i]\n",
    "        krawedzieList = []\n",
    "        for i in range(len(sciezka)-1):\n",
    "            krawedzieList.append(self.nazwykrawedzi[krawedzieId[sciezka[i],sciezka[i+1]].pop()])            \n",
    "        return krawedzieList\n"
   ]
  },
  {
   "cell_type": "code",
   "execution_count": 19,
   "metadata": {},
   "outputs": [
    {
     "name": "stdout",
     "output_type": "stream",
     "text": [
      "['AAAAAACAG', 'AAAAACAGC', 'AAAACAGCG', 'AAACAGCGG', 'AAACCTTTG', 'AACAGCGGA', 'AACCTTTGT', 'AACTCAATG', 'ACAGCGGAG', 'ACATAGGAG', 'ACCCGATGG', 'ACCTTTGTT', 'ACGAACTCA', 'ACTCAATGC', 'ACTGTACGA', 'ACTTCCCCT', 'AGATAAAAA', 'AGATTCTCT', 'AGCGGAGGG', 'AGGAGTACT', 'AGGGAAACC', 'AGTACTGTA', 'ATAAAAAAC', 'ATAGGAGTA', 'ATGGCTGTG', 'ATTCTCTCC', 'CAGCGGAGG', 'CATAGGAGT', 'CCCCTAGAT', 'CCCGATGGC', 'CCCTAGATT', 'CCGATGGCT', 'CCGTGGACC', 'CCTAGATTC', 'CCTTTGTTG', 'CGAACTCAA', 'CGATGGCTG', 'CGGAGGGAA', 'CGTGGACCC', 'CTAGATTCT', 'CTCAATGCA', 'CTCCGTGGA', 'CTCTCCGTG', 'CTGTACGAA', 'CTGTGAGAT', 'CTTCCCCTA', 'CTTTGTTGA', 'GAAACCTTT', 'GAACTCAAT', 'GACATAGGA', 'GACCCGATG', 'GAGATAAAA', 'GAGGGAAAC', 'GAGTACTGT', 'GATAAAAAA', 'GATGGCTGT', 'GATTCTCTC', 'GCGGAGGGA', 'GCTGTGAGA', 'GGAAACCTT', 'GGACCCGAT', 'GGAGGGAAA', 'GGAGTACTG', 'GGCTGTGAG', 'GGGAAACCT', 'GTACGAACT', 'GTACTGTAC', 'GTGAGATAA', 'GTGGACCCG', 'GTTGACATA', 'TAAAAAACA', 'TACGAACTC', 'TACTGTACG', 'TAGATTCTC', 'TAGGAGTAC', 'TCAATGCAC', 'TCCCCTAGA', 'TCCGTGGAC', 'TCTCCGTGG', 'TCTCTCCGT', 'TGACATAGG', 'TGAGATAAA', 'TGGACCCGA', 'TGGCTGTGA', 'TGTACGAAC', 'TGTGAGATA', 'TGTTGACAT', 'TTCCCCTAG', 'TTCTCTCCG', 'TTGACATAG', 'TTGTTGACA', 'TTTGTTGAC']\n"
     ]
    }
   ],
   "source": [
    "wierzcholki = sorted(set([s[:-1] for s in sekwencje] + [s[1:] for s in sekwencje]))\n",
    "print(wierzcholki)"
   ]
  },
  {
   "cell_type": "code",
   "execution_count": 20,
   "metadata": {},
   "outputs": [
    {
     "name": "stdout",
     "output_type": "stream",
     "text": [
      "606 µs ± 117 µs per loop (mean ± std. dev. of 7 runs, 1000 loops each)\n",
      "[15, 45, 87, 76, 28, 30, 33, 39, 73, 17, 56, 25, 88, 79, 42, 78, 41, 77, 32, 38, 68, 82, 60, 50, 10, 29, 31, 36, 55, 24, 83, 63, 58, 44, 85, 67, 81, 51, 16, 54, 22, 70, 0, 1, 2, 3, 5, 8, 26, 18, 57, 37, 61, 52, 20, 64, 59, 47, 4, 6, 11, 34, 46, 91, 90, 86, 69, 89, 80, 49, 9, 27, 23, 74, 19, 62, 53, 21, 66, 72, 14, 43, 84, 65, 71, 12, 35, 48, 7, 13, 40, 75]\n",
      "['ACTTCCCCTA', 'CTTCCCCTAG', 'TTCCCCTAGA', 'TCCCCTAGAT', 'CCCCTAGATT', 'CCCTAGATTC', 'CCTAGATTCT', 'CTAGATTCTC', 'TAGATTCTCT', 'AGATTCTCTC', 'GATTCTCTCC', 'ATTCTCTCCG', 'TTCTCTCCGT', 'TCTCTCCGTG', 'CTCTCCGTGG', 'TCTCCGTGGA', 'CTCCGTGGAC', 'TCCGTGGACC', 'CCGTGGACCC', 'CGTGGACCCG', 'GTGGACCCGA', 'TGGACCCGAT', 'GGACCCGATG', 'GACCCGATGG', 'ACCCGATGGC', 'CCCGATGGCT', 'CCGATGGCTG', 'CGATGGCTGT', 'GATGGCTGTG', 'ATGGCTGTGA', 'TGGCTGTGAG', 'GGCTGTGAGA', 'GCTGTGAGAT', 'CTGTGAGATA', 'TGTGAGATAA', 'GTGAGATAAA', 'TGAGATAAAA', 'GAGATAAAAA', 'AGATAAAAAA', 'GATAAAAAAC', 'ATAAAAAACA', 'TAAAAAACAG', 'AAAAAACAGC', 'AAAAACAGCG', 'AAAACAGCGG', 'AAACAGCGGA', 'AACAGCGGAG', 'ACAGCGGAGG', 'CAGCGGAGGG', 'AGCGGAGGGA', 'GCGGAGGGAA', 'CGGAGGGAAA', 'GGAGGGAAAC', 'GAGGGAAACC', 'AGGGAAACCT', 'GGGAAACCTT', 'GGAAACCTTT', 'GAAACCTTTG', 'AAACCTTTGT', 'AACCTTTGTT', 'ACCTTTGTTG', 'CCTTTGTTGA', 'CTTTGTTGAC', 'TTTGTTGACA', 'TTGTTGACAT', 'TGTTGACATA', 'GTTGACATAG', 'TTGACATAGG', 'TGACATAGGA', 'GACATAGGAG', 'ACATAGGAGT', 'CATAGGAGTA', 'ATAGGAGTAC', 'TAGGAGTACT', 'AGGAGTACTG', 'GGAGTACTGT', 'GAGTACTGTA', 'AGTACTGTAC', 'GTACTGTACG', 'TACTGTACGA', 'ACTGTACGAA', 'CTGTACGAAC', 'TGTACGAACT', 'GTACGAACTC', 'TACGAACTCA', 'ACGAACTCAA', 'CGAACTCAAT', 'GAACTCAATG', 'AACTCAATGC', 'ACTCAATGCA', 'CTCAATGCAC']\n",
      "ACTTCCCCTAGATTCTCTCCGTGGACCCGATGGCTGTGAGATAAAAAACAGCGGAGGGAAACCTTTGTTGACATAGGAGTACTGTACGAACTCAATGCAC\n"
     ]
    }
   ],
   "source": [
    "G4 = Graf4(wierzcholki)\n",
    "for s in sekwencje:\n",
    "    G4.dodajKrawedz(s[:-1],s[1:],s)\n",
    "\n",
    "%timeit G4.sciezkaEulera()\n",
    "sciezka = G4.sciezkaEulera()\n",
    "print(sciezka)\n",
    "\n",
    "krawedzie = G4.krawedzieEulera(sciezka)\n",
    "print(krawedzie)\n",
    "print(krawedzie[0] + ''.join([krawedzie[i][-1] for i in range(1,len(krawedzie))]))"
   ]
  },
  {
   "cell_type": "code",
   "execution_count": 21,
   "metadata": {},
   "outputs": [
    {
     "data": {
      "text/plain": [
       "True"
      ]
     },
     "execution_count": 21,
     "metadata": {},
     "output_type": "execute_result"
    }
   ],
   "source": [
    "\"ACTTCCCCTAGATTCTCTCCGTGGACCCGATGGCTGTGAGATAAAAAACAGCGGAGGGAAACCTTTGTTGACATAGGAGTACTGTACGAACTCAATGCAC\" == sekwencja"
   ]
  },
  {
   "cell_type": "markdown",
   "metadata": {},
   "source": [
    "<h4> Zadanie2: Zdefiniuj funkcję, która zwraca k-mery dla danej sekwencji. Jeżeli pewne k-mery powtarzają się to są one numerowane."
   ]
  },
  {
   "cell_type": "markdown",
   "metadata": {},
   "source": [
    "<h4> Zadanie3: Przetestuj działanie składania sekwencji w oparciu o grafy dla \"ATGCACTGCC\", dla różnych parametrów k."
   ]
  },
  {
   "cell_type": "markdown",
   "metadata": {},
   "source": [
    "Problemy w realnych przykładach:\n",
    "- nie mamy informacji o tym czy powtórzenie wynika z tego, że w sekwencji występuje wielokrotnie czy z tego że dany fragment został zsekwencjonowany wiele razy\n",
    "- brak pewnych k-merów\n",
    "- błędy odczytu (zakłócone k-mery)"
   ]
  }
 ],
 "metadata": {
  "kernelspec": {
   "display_name": "Python 3",
   "language": "python",
   "name": "python3"
  },
  "language_info": {
   "codemirror_mode": {
    "name": "ipython",
    "version": 3
   },
   "file_extension": ".py",
   "mimetype": "text/x-python",
   "name": "python",
   "nbconvert_exporter": "python",
   "pygments_lexer": "ipython3",
   "version": "3.8.5"
  }
 },
 "nbformat": 4,
 "nbformat_minor": 4
}
