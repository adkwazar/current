{
 "cells": [
  {
   "cell_type": "markdown",
   "id": "6c8f7f99",
   "metadata": {},
   "source": [
    "<h3> Wstęp do testowania hipotez"
   ]
  },
  {
   "cell_type": "markdown",
   "id": "5a91ee9e",
   "metadata": {},
   "source": [
    "<h4> Testowanie średniej"
   ]
  },
  {
   "cell_type": "markdown",
   "id": "d7273cce",
   "metadata": {},
   "source": [
    "<h4> Jedna próbka"
   ]
  },
  {
   "cell_type": "code",
   "execution_count": 1,
   "id": "b5a36566",
   "metadata": {},
   "outputs": [],
   "source": [
    "dane = c(87.7,80.01,77.28,78.76,81.52,74.2,80.71,79.5,77.87,81.94,80.7,\n",
    "    82.32,75.78,80.19,83.91,79.4,77.52,77.62,81.4,74.89,82.95,\n",
    "    73.59,77.92,77.18,79.83,81.23,79.28,78.44,79.01,80.47,76.23,\n",
    "    78.89,77.14,69.94,78.54,79.7,82.45,77.29,75.52,77.21,75.99,\n",
    "    81.94,80.41,77.7)"
   ]
  },
  {
   "cell_type": "markdown",
   "id": "e9cbb61f",
   "metadata": {},
   "source": [
    "Testujemy hipotezę $H_0: \\mu = 80$ przeciw $H_A: \\mu < 80$"
   ]
  },
  {
   "cell_type": "code",
   "execution_count": 2,
   "id": "6cb4cb53",
   "metadata": {},
   "outputs": [
    {
     "data": {
      "image/png": "[encoded data removed]",
      "text/plain": [
       "plot without title"
      ]
     },
     "metadata": {},
     "output_type": "display_data"
    }
   ],
   "source": [
    "options(repr.plot.width=3, repr.plot.height=3) \n",
    "boxplot(dane)"
   ]
  },
  {
   "cell_type": "code",
   "execution_count": 3,
   "id": "6111084e",
   "metadata": {},
   "outputs": [
    {
     "data": {
      "text/html": [
       "78.9106818181818"
      ],
      "text/latex": [
       "78.9106818181818"
      ],
      "text/markdown": [
       "78.9106818181818"
      ],
      "text/plain": [
       "[1] 78.91068"
      ]
     },
     "metadata": {},
     "output_type": "display_data"
    },
    {
     "data": {
      "text/html": [
       "3.05602294960279"
      ],
      "text/latex": [
       "3.05602294960279"
      ],
      "text/markdown": [
       "3.05602294960279"
      ],
      "text/plain": [
       "[1] 3.056023"
      ]
     },
     "metadata": {},
     "output_type": "display_data"
    }
   ],
   "source": [
    "mean(dane); sd(dane)"
   ]
  },
  {
   "cell_type": "markdown",
   "id": "ff44b19b",
   "metadata": {},
   "source": [
    "Wyznaczamy statystykę $T = \\frac{\\overline{X}-\\mu}{\\sigma/\\sqrt{n}}$ i na tej podstawie podejmujemy decyzję."
   ]
  },
  {
   "cell_type": "code",
   "execution_count": 4,
   "id": "f8296457",
   "metadata": {},
   "outputs": [
    {
     "name": "stdout",
     "output_type": "stream",
     "text": [
      "[1] -2.364419\n"
     ]
    }
   ],
   "source": [
    "T = (mean(dane) - 80)/(sd(dane)/sqrt(length(dane)))\n",
    "print(T)"
   ]
  },
  {
   "cell_type": "code",
   "execution_count": 5,
   "id": "cb4a447c",
   "metadata": {
    "scrolled": true
   },
   "outputs": [
    {
     "name": "stdout",
     "output_type": "stream",
     "text": [
      "\n",
      "\tOne Sample t-test\n",
      "\n",
      "data:  dane\n",
      "t = -2.3644, df = 43, p-value = 0.01132\n",
      "alternative hypothesis: true mean is less than 80\n",
      "95 percent confidence interval:\n",
      "     -Inf 79.68517\n",
      "sample estimates:\n",
      "mean of x \n",
      " 78.91068 \n",
      "\n"
     ]
    }
   ],
   "source": [
    "print(t.test(x=dane, mu=80, alternative=\"less\")) #p_value>0.01, wiec nie ma podstaw do odrzucenia H0 (przyjmujac 0.01)"
   ]
  },
  {
   "cell_type": "code",
   "execution_count": 6,
   "id": "7037e997",
   "metadata": {},
   "outputs": [
    {
     "name": "stdout",
     "output_type": "stream",
     "text": [
      "[1] 77.98157 79.83980\n",
      "attr(,\"conf.level\")\n",
      "[1] 0.95\n"
     ]
    }
   ],
   "source": [
    "print(t.test(x=dane, mu=80, alternative=\"two.sided\")$conf.int) #przedzial ufnosci dwustronny, p_value przechowywane jako atrybut"
   ]
  },
  {
   "cell_type": "markdown",
   "id": "21b20475",
   "metadata": {},
   "source": [
    "<h4> Zadanie1: W telewizji ogłoszono, że cena metra kwadratowego mieszkania w mieście $X$ kosztuje 3.8 tys złotych. Aby to zweryfikować wybrano 14 losowych mieszkań. Ceny przedstawiały się następująco: 3.75, 3.89, 5.09, 3.77, 3.53, 2.82, 3.16, 2.79, 4.34, 3.61, 4.31, 3.31, 2.50, 3.27. Czy te wartości potwierdzają postawioną tezę?"
   ]
  },
  {
   "cell_type": "markdown",
   "id": "90c67757",
   "metadata": {},
   "source": [
    "<h4> Dwie próbki"
   ]
  },
  {
   "cell_type": "code",
   "execution_count": 5,
   "id": "6581ac4f",
   "metadata": {},
   "outputs": [
    {
     "data": {
      "image/png": "[encoded data removed]",
      "text/plain": [
       "plot without title"
      ]
     },
     "metadata": {},
     "output_type": "display_data"
    }
   ],
   "source": [
    "dane1 = c(87.7,80.01,77.28,78.76,81.52,74.2,80.71,79.5,77.87,81.94,80.7,\n",
    "    82.32,75.78,80.19,83.91,79.4,77.52,77.62,81.4,74.89,82.95,\n",
    "    73.59,77.92,77.18,79.83,81.23,79.28,78.44,79.01,80.47,76.23,\n",
    "    78.89,77.14,69.94,78.54,79.7,82.45,77.29,75.52,77.21,75.99,\n",
    "    81.94,80.41,77.7)\n",
    "\n",
    "dane2 =  c(80.22,79.73,81.1,78.76,82.03,81.66,80.97,81.32,80.12,78.98,\n",
    "    79.21,81.48,79.86,81.06,77.96,80.73,80.34,80.01,81.82,79.3,\n",
    "    79.08,79.47,78.98,80.87,82.24,77.22,80.03,79.2,80.95,79.17,81)\n",
    "\n",
    "boxplot(dane1,dane2)"
   ]
  },
  {
   "cell_type": "code",
   "execution_count": 6,
   "id": "802495dc",
   "metadata": {
    "scrolled": true
   },
   "outputs": [
    {
     "data": {
      "text/html": [
       "78.9106818181818"
      ],
      "text/latex": [
       "78.9106818181818"
      ],
      "text/markdown": [
       "78.9106818181818"
      ],
      "text/plain": [
       "[1] 78.91068"
      ]
     },
     "metadata": {},
     "output_type": "display_data"
    },
    {
     "data": {
      "text/html": [
       "3.05602294960279"
      ],
      "text/latex": [
       "3.05602294960279"
      ],
      "text/markdown": [
       "3.05602294960279"
      ],
      "text/plain": [
       "[1] 3.056023"
      ]
     },
     "metadata": {},
     "output_type": "display_data"
    },
    {
     "data": {
      "text/html": [
       "80.1570967741935"
      ],
      "text/latex": [
       "80.1570967741935"
      ],
      "text/markdown": [
       "80.1570967741935"
      ],
      "text/plain": [
       "[1] 80.1571"
      ]
     },
     "metadata": {},
     "output_type": "display_data"
    },
    {
     "data": {
      "text/html": [
       "1.2136946171323"
      ],
      "text/latex": [
       "1.2136946171323"
      ],
      "text/markdown": [
       "1.2136946171323"
      ],
      "text/plain": [
       "[1] 1.213695"
      ]
     },
     "metadata": {},
     "output_type": "display_data"
    }
   ],
   "source": [
    "mean(dane1);sd(dane1);mean(dane2);sd(dane2)"
   ]
  },
  {
   "cell_type": "markdown",
   "id": "22226e71",
   "metadata": {},
   "source": [
    "Testujemy hipotezę $H_0: \\mu_1 = \\mu_2$ przeciw alternatywnej $H_1: \\mu_2 > \\mu_1$."
   ]
  },
  {
   "cell_type": "code",
   "execution_count": 9,
   "id": "b1c7dfd2",
   "metadata": {},
   "outputs": [
    {
     "data": {
      "text/plain": [
       "\n",
       "\tWelch Two Sample t-test\n",
       "\n",
       "data:  dane2 and dane1\n",
       "t = 2.4455, df = 60.091, p-value = 0.008706\n",
       "alternative hypothesis: true difference in means is greater than 0\n",
       "90 percent confidence interval:\n",
       " 0.5859714       Inf\n",
       "sample estimates:\n",
       "mean of x mean of y \n",
       " 80.15710  78.91068 \n"
      ]
     },
     "metadata": {},
     "output_type": "display_data"
    }
   ],
   "source": [
    "t.test(x=dane2,y=dane1,alternative=\"greater\",conf.level=0.90) #tutaj odrzucamy H_0"
   ]
  },
  {
   "cell_type": "markdown",
   "id": "31d1a24e",
   "metadata": {},
   "source": [
    "<h4> Zadanie2: Testujemy skuteczność leku skutkującego redukcją tętna. Pomiary tej wielkości zostały dokonane na 16 osobnikach (w uderzeniach na minutę). Pomiaru dokonano przed podaniem leku i po pewnym czasie."
   ]
  },
  {
   "cell_type": "code",
   "execution_count": 10,
   "id": "ebbb2585",
   "metadata": {},
   "outputs": [],
   "source": [
    "rate.before = c(52,66,89,87,89,72,66,65,49,62,70,52,75,63,65,61)\n",
    "rate.after = c(51,66,71,73,70,68,60,51,40,57,65,53,64,56,60,59)"
   ]
  },
  {
   "cell_type": "markdown",
   "id": "e6169eab",
   "metadata": {},
   "source": [
    "<h4> Czy istnieje istotna statystycznia różnica po spożyciu leku? W tym celu zdefiniuj nowy wektor $rate.dif$ określający różnicę w uderzeniach (po - przed) dla kolejnych osobników, a następnie przetestuj hipotezę $H_{\\mu_{rate.dif}} =0$ przeciw hipotezie $H_{\\mu_{rate.diff}}<0$."
   ]
  },
  {
   "cell_type": "markdown",
   "id": "7b81a149",
   "metadata": {},
   "source": [
    "<h4> Zadanie3: W pakiecie $MASS$ znajdują się dane $anorexia$. Dane dotyczą 72 młodych kobiet i zawierają informacje o wadze (w funtach) przed i po leczeniu. Osoby zostały podzielone na 3 kategorie - kontrola (bez leczenia) oraz 2 grupy ze względu na sposób leczenia. Dokładniej:\n",
    "    \n",
    "- Cont = control\n",
    " \n",
    "- CBT = cognitive behavioral program\n",
    "    \n",
    "- FT = family treatment\n",
    "    \n",
    "Niech $X = X_{post} - X_{pre}$. Zbadaj hipotezę $\\mu_{X} =0$ przeciw $\\mu_{X} >0$. Skomentuj otrzymane wyniki."
   ]
  },
  {
   "cell_type": "code",
   "execution_count": 11,
   "id": "01a16058",
   "metadata": {},
   "outputs": [
    {
     "data": {
      "text/html": [
       "<table>\n",
       "<thead><tr><th scope=col>Treat</th><th scope=col>Prewt</th><th scope=col>Postwt</th></tr></thead>\n",
       "<tbody>\n",
       "\t<tr><td>Cont</td><td>80.7</td><td>80.2</td></tr>\n",
       "\t<tr><td>Cont</td><td>89.4</td><td>80.1</td></tr>\n",
       "\t<tr><td>Cont</td><td>91.8</td><td>86.4</td></tr>\n",
       "\t<tr><td>Cont</td><td>74.0</td><td>86.3</td></tr>\n",
       "\t<tr><td>Cont</td><td>78.1</td><td>76.1</td></tr>\n",
       "\t<tr><td>Cont</td><td>88.3</td><td>78.1</td></tr>\n",
       "</tbody>\n",
       "</table>\n"
      ],
      "text/latex": [
       "\\begin{tabular}{r|lll}\n",
       " Treat & Prewt & Postwt\\\\\n",
       "\\hline\n",
       "\t Cont & 80.7 & 80.2\\\\\n",
       "\t Cont & 89.4 & 80.1\\\\\n",
       "\t Cont & 91.8 & 86.4\\\\\n",
       "\t Cont & 74.0 & 86.3\\\\\n",
       "\t Cont & 78.1 & 76.1\\\\\n",
       "\t Cont & 88.3 & 78.1\\\\\n",
       "\\end{tabular}\n"
      ],
      "text/markdown": [
       "\n",
       "| Treat | Prewt | Postwt |\n",
       "|---|---|---|\n",
       "| Cont | 80.7 | 80.2 |\n",
       "| Cont | 89.4 | 80.1 |\n",
       "| Cont | 91.8 | 86.4 |\n",
       "| Cont | 74.0 | 86.3 |\n",
       "| Cont | 78.1 | 76.1 |\n",
       "| Cont | 88.3 | 78.1 |\n",
       "\n"
      ],
      "text/plain": [
       "  Treat Prewt Postwt\n",
       "1 Cont  80.7  80.2  \n",
       "2 Cont  89.4  80.1  \n",
       "3 Cont  91.8  86.4  \n",
       "4 Cont  74.0  86.3  \n",
       "5 Cont  78.1  76.1  \n",
       "6 Cont  88.3  78.1  "
      ]
     },
     "metadata": {},
     "output_type": "display_data"
    },
    {
     "data": {
      "text/plain": [
       "  Treat        Prewt           Postwt      \n",
       " CBT :29   Min.   :70.00   Min.   : 71.30  \n",
       " Cont:26   1st Qu.:79.60   1st Qu.: 79.33  \n",
       " FT  :17   Median :82.30   Median : 84.05  \n",
       "           Mean   :82.41   Mean   : 85.17  \n",
       "           3rd Qu.:86.00   3rd Qu.: 91.55  \n",
       "           Max.   :94.90   Max.   :103.60  "
      ]
     },
     "metadata": {},
     "output_type": "display_data"
    }
   ],
   "source": [
    "library(MASS)\n",
    "head(anorexia)\n",
    "summary(anorexia)"
   ]
  },
  {
   "cell_type": "markdown",
   "id": "afb37e57",
   "metadata": {},
   "source": [
    "<h4> Zadanie4: Rozważ dane $PlantGrowth$ (rozważane już na ćw2) dotyczące produkcji pewnych roślin. Zastosowano 2 rodzaje suplementów aby zwiększyć produkcję (trt1 i trt2). Czy rzeczwyiście średnia produkcja w grupach trt1 i trt2 jest większa niż ta w grupie bez suplementacji? Skomentuj otrzymane wyniki."
   ]
  },
  {
   "cell_type": "code",
   "execution_count": 12,
   "id": "00def1bd",
   "metadata": {},
   "outputs": [
    {
     "data": {
      "text/html": [
       "<table>\n",
       "<thead><tr><th scope=col>weight</th><th scope=col>group</th></tr></thead>\n",
       "<tbody>\n",
       "\t<tr><td>4.17</td><td>ctrl</td></tr>\n",
       "\t<tr><td>5.58</td><td>ctrl</td></tr>\n",
       "\t<tr><td>5.18</td><td>ctrl</td></tr>\n",
       "\t<tr><td>6.11</td><td>ctrl</td></tr>\n",
       "\t<tr><td>4.50</td><td>ctrl</td></tr>\n",
       "\t<tr><td>4.61</td><td>ctrl</td></tr>\n",
       "</tbody>\n",
       "</table>\n"
      ],
      "text/latex": [
       "\\begin{tabular}{r|ll}\n",
       " weight & group\\\\\n",
       "\\hline\n",
       "\t 4.17 & ctrl\\\\\n",
       "\t 5.58 & ctrl\\\\\n",
       "\t 5.18 & ctrl\\\\\n",
       "\t 6.11 & ctrl\\\\\n",
       "\t 4.50 & ctrl\\\\\n",
       "\t 4.61 & ctrl\\\\\n",
       "\\end{tabular}\n"
      ],
      "text/markdown": [
       "\n",
       "| weight | group |\n",
       "|---|---|\n",
       "| 4.17 | ctrl |\n",
       "| 5.58 | ctrl |\n",
       "| 5.18 | ctrl |\n",
       "| 6.11 | ctrl |\n",
       "| 4.50 | ctrl |\n",
       "| 4.61 | ctrl |\n",
       "\n"
      ],
      "text/plain": [
       "  weight group\n",
       "1 4.17   ctrl \n",
       "2 5.58   ctrl \n",
       "3 5.18   ctrl \n",
       "4 6.11   ctrl \n",
       "5 4.50   ctrl \n",
       "6 4.61   ctrl "
      ]
     },
     "metadata": {},
     "output_type": "display_data"
    },
    {
     "data": {
      "text/plain": [
       "     weight       group   \n",
       " Min.   :3.590   ctrl:10  \n",
       " 1st Qu.:4.550   trt1:10  \n",
       " Median :5.155   trt2:10  \n",
       " Mean   :5.073            \n",
       " 3rd Qu.:5.530            \n",
       " Max.   :6.310            "
      ]
     },
     "metadata": {},
     "output_type": "display_data"
    }
   ],
   "source": [
    "head(PlantGrowth); summary(PlantGrowth)"
   ]
  },
  {
   "cell_type": "markdown",
   "id": "bed35609",
   "metadata": {},
   "source": [
    "<h4> Testowanie proporcji"
   ]
  },
  {
   "cell_type": "markdown",
   "id": "61d246c7",
   "metadata": {},
   "source": [
    "<h4> Jedna próbka"
   ]
  },
  {
   "cell_type": "code",
   "execution_count": 13,
   "id": "af1c1f48",
   "metadata": {},
   "outputs": [],
   "source": [
    "glosy = c(0,0,1,1,0,0,0,0,0,1,0,0,0,0,0,0,0,0,1,0,0,0,1,1,1,0,0,0,1)"
   ]
  },
  {
   "cell_type": "code",
   "execution_count": 14,
   "id": "d2e8e02c",
   "metadata": {},
   "outputs": [
    {
     "data": {
      "text/html": [
       "29"
      ],
      "text/latex": [
       "29"
      ],
      "text/markdown": [
       "29"
      ],
      "text/plain": [
       "[1] 29"
      ]
     },
     "metadata": {},
     "output_type": "display_data"
    },
    {
     "data": {
      "text/html": [
       "0.275862068965517"
      ],
      "text/latex": [
       "0.275862068965517"
      ],
      "text/markdown": [
       "0.275862068965517"
      ],
      "text/plain": [
       "[1] 0.2758621"
      ]
     },
     "metadata": {},
     "output_type": "display_data"
    }
   ],
   "source": [
    "length(glosy); mean(glosy)"
   ]
  },
  {
   "cell_type": "markdown",
   "id": "ac12a50f",
   "metadata": {},
   "source": [
    "Testujemy hipotezę $H_0: \\pi = 0.2$ przeciw $H_A: \\pi \\neq 0.2$"
   ]
  },
  {
   "cell_type": "markdown",
   "id": "e9a79070",
   "metadata": {},
   "source": [
    "Statystyka $Z = \\frac{p^* - \\pi}{\\sqrt{\\pi(1-\\pi)/n}}$. Pod pewnymi założeniami $Z \\sim N(0,1)$."
   ]
  },
  {
   "cell_type": "code",
   "execution_count": 15,
   "id": "fa66e85a",
   "metadata": {},
   "outputs": [
    {
     "name": "stdout",
     "output_type": "stream",
     "text": [
      "[1] 1.021324\n"
     ]
    }
   ],
   "source": [
    "Z = (mean(glosy) - 0.2)/sqrt(0.2*(1-0.2)/29)\n",
    "print(Z)"
   ]
  },
  {
   "cell_type": "code",
   "execution_count": 16,
   "id": "6ff35716",
   "metadata": {},
   "outputs": [
    {
     "data": {
      "text/plain": [
       "\n",
       "\t1-sample proportions test without continuity correction\n",
       "\n",
       "data:  sum(glosy) out of length(glosy), null probability 0.2\n",
       "X-squared = 1.0431, df = 1, p-value = 0.3071\n",
       "alternative hypothesis: true p is not equal to 0.2\n",
       "95 percent confidence interval:\n",
       " 0.1469876 0.4571713\n",
       "sample estimates:\n",
       "        p \n",
       "0.2758621 \n"
      ]
     },
     "metadata": {},
     "output_type": "display_data"
    }
   ],
   "source": [
    "prop.test(x=sum(glosy), n=length(glosy), p=0.2, correct=FALSE) #ten test  formalnie uzywa rozkładu chi kwadrat dlatego statystyka jest nieco inna, ale idea podobna"
   ]
  },
  {
   "cell_type": "markdown",
   "id": "97b90458",
   "metadata": {},
   "source": [
    "<h4> Zadanie5: Zwielokrotnij 5-krotnie wektor $glosy$ i przeprowadź analogiczne testowanie. Skomentuj zmienioną wartosć $p-value$. Z czego wynika?"
   ]
  },
  {
   "cell_type": "markdown",
   "id": "0d8d32cb",
   "metadata": {},
   "source": [
    "<h4> Dwie próbki"
   ]
  },
  {
   "cell_type": "markdown",
   "id": "243ffeb0",
   "metadata": {},
   "source": [
    "Testujemy hipotezę $H_0: \\pi_1 = \\pi_2$ przeciw alternatywnej $H_1: \\pi_2 > \\pi_1$."
   ]
  },
  {
   "cell_type": "code",
   "execution_count": 17,
   "id": "ac929332",
   "metadata": {},
   "outputs": [
    {
     "data": {
      "text/html": [
       "0.772532188841202"
      ],
      "text/latex": [
       "0.772532188841202"
      ],
      "text/markdown": [
       "0.772532188841202"
      ],
      "text/plain": [
       "[1] 0.7725322"
      ]
     },
     "metadata": {},
     "output_type": "display_data"
    },
    {
     "data": {
      "text/html": [
       "0.888324873096447"
      ],
      "text/latex": [
       "0.888324873096447"
      ],
      "text/markdown": [
       "0.888324873096447"
      ],
      "text/plain": [
       "[1] 0.8883249"
      ]
     },
     "metadata": {},
     "output_type": "display_data"
    }
   ],
   "source": [
    "x1 = 180\n",
    "n1 = 233\n",
    "\n",
    "x2 = 175\n",
    "n2 = 197\n",
    "\n",
    "x1/n1; x2/n2"
   ]
  },
  {
   "cell_type": "code",
   "execution_count": 18,
   "id": "0532468b",
   "metadata": {},
   "outputs": [
    {
     "data": {
      "text/plain": [
       "\n",
       "\t2-sample test for equality of proportions without continuity\n",
       "\tcorrection\n",
       "\n",
       "data:  c(x2, x1) out of c(n2, n1)\n",
       "X-squared = 9.9395, df = 1, p-value = 0.0008089\n",
       "alternative hypothesis: greater\n",
       "95 percent confidence interval:\n",
       " 0.05745804 1.00000000\n",
       "sample estimates:\n",
       "   prop 1    prop 2 \n",
       "0.8883249 0.7725322 \n"
      ]
     },
     "metadata": {},
     "output_type": "display_data"
    }
   ],
   "source": [
    "prop.test(x=c(x2,x1), n=c(n2,n1), alternative=\"greater\", correct=FALSE)"
   ]
  },
  {
   "cell_type": "markdown",
   "id": "94443e96",
   "metadata": {},
   "source": [
    "<h4> Zadanie6: Reklama kremu do skóry twierdzi, że 9 na 10 kobiet które używało ich produktu zarekomendowało by go swoim znajomym. Sceptyczna klientka uważa, że rzeczywista proporcja jest mniejsza. Zebrała one dane od 89 losowych kobiet. 71 z nich potwierdziło zadowolenie. Postaw odpowiednią hipotezę, a następnie na poziomie istotności $\\alpha = 0.1$ odpowiedz na nurtujące klientkę pytanie."
   ]
  },
  {
   "cell_type": "markdown",
   "id": "b9758082",
   "metadata": {},
   "source": [
    "<h4> Zmienne kategoryczne"
   ]
  },
  {
   "cell_type": "code",
   "execution_count": 19,
   "id": "70ddf0e6",
   "metadata": {},
   "outputs": [
    {
     "name": "stdout",
     "output_type": "stream",
     "text": [
      " [1] 2 3 2 3 2 1 3 3 2 2 3 2 2 2 3 3 3 2 3 2 2 2 1 3 2 2 2 1 2 2 3 2 2 2 2 1 2 1\n",
      "[39] 1 1 2 2 2 3 1 2 1 2 1 2 1 3 3\n",
      "Levels: 1 2 3\n"
     ]
    }
   ],
   "source": [
    "d = c(2,3,2,3,2,1,3,3,2,2,3,2,2,2,3,3,3,2,3,2,2,2,1,3,2,2,2,1,2,2,3,2,2,2,2,1,2,1,1,1,2,2,2,3,1,2,1,2,1,2,1,3,3)\n",
    "print(factor(d))"
   ]
  },
  {
   "cell_type": "markdown",
   "id": "b258c4ee",
   "metadata": {},
   "source": [
    "Testujemy hipotezę $H_0: \\pi_1 = \\pi_2 = \\pi_3$ przeciw $H_A = \\sim H_0$"
   ]
  },
  {
   "cell_type": "code",
   "execution_count": 20,
   "id": "c8cb891b",
   "metadata": {},
   "outputs": [
    {
     "name": "stdout",
     "output_type": "stream",
     "text": [
      "d\n",
      " 1  2  3 \n",
      "11 28 14 \n"
     ]
    }
   ],
   "source": [
    "print(table(d))"
   ]
  },
  {
   "cell_type": "code",
   "execution_count": 21,
   "id": "3d9f5bb5",
   "metadata": {},
   "outputs": [
    {
     "data": {
      "text/plain": [
       "d\n",
       "        1         2         3 \n",
       "0.2075472 0.5283019 0.2641509 "
      ]
     },
     "metadata": {},
     "output_type": "display_data"
    }
   ],
   "source": [
    "table(d)/length(d) #częstosci"
   ]
  },
  {
   "cell_type": "code",
   "execution_count": 22,
   "id": "f1a4f3b0",
   "metadata": {},
   "outputs": [
    {
     "name": "stdout",
     "output_type": "stream",
     "text": [
      "  i Oi       Ei (Oi-Ei)^2/Ei\n",
      "1 1 11 17.66667    2.5157233\n",
      "2 2 28 17.66667    6.0440252\n",
      "3 3 14 17.66667    0.7610063\n"
     ]
    }
   ],
   "source": [
    "expected =  1/3*length(d) #expected = oczekiwane\n",
    "\n",
    "dane.matrix = cbind(1:3,table(d), expected,(table(d)-expected)^2/expected)\n",
    "dimnames(dane.matrix) <- list(c(\"1\",\"2\",\"3\"),c(\"i\",\"Oi\",\"Ei\",\"(Oi-Ei)^2/Ei\"))\n",
    "\n",
    "print(dane.matrix)"
   ]
  },
  {
   "cell_type": "code",
   "execution_count": 23,
   "id": "a778a6b6",
   "metadata": {},
   "outputs": [
    {
     "data": {
      "text/html": [
       "9.3207548"
      ],
      "text/latex": [
       "9.3207548"
      ],
      "text/markdown": [
       "9.3207548"
      ],
      "text/plain": [
       "[1] 9.320755"
      ]
     },
     "metadata": {},
     "output_type": "display_data"
    }
   ],
   "source": [
    "2.5157233 + 6.0440252 + 0.7610063"
   ]
  },
  {
   "cell_type": "code",
   "execution_count": 24,
   "id": "f22baf28",
   "metadata": {
    "scrolled": true
   },
   "outputs": [
    {
     "data": {
      "text/plain": [
       "\n",
       "\tChi-squared test for given probabilities\n",
       "\n",
       "data:  table(d)\n",
       "X-squared = 9.3208, df = 2, p-value = 0.009463\n"
      ]
     },
     "metadata": {},
     "output_type": "display_data"
    }
   ],
   "source": [
    "chisq.test(x=table(d)) #czy zachodzi jednostajny rozklad?"
   ]
  },
  {
   "cell_type": "code",
   "execution_count": 25,
   "id": "6a19d34e",
   "metadata": {},
   "outputs": [
    {
     "data": {
      "text/plain": [
       "\n",
       "\tChi-squared test for given probabilities\n",
       "\n",
       "data:  table(d)\n",
       "X-squared = 0.50943, df = 2, p-value = 0.7751\n"
      ]
     },
     "metadata": {},
     "output_type": "display_data"
    }
   ],
   "source": [
    "chisq.test(x=table(d), p=c(0.25,0.5,0.25)) #H0: p=c(0.25,0.5,0.25)"
   ]
  },
  {
   "cell_type": "markdown",
   "id": "72c025f9",
   "metadata": {},
   "source": [
    "<h4> Zadanie7: Rzucamy 50 razy monetą aby zweryfikować czy jest ona jednorodna czy niejednorodna (orzeł lub reszka pojawiają się częściej niż powinny). Przeprowadź odpowiedni test i skomentuj otrzymane wyniki. W przypadku odrzucenia $H_0$ oszacuj rzeczywiste prawdopodobieństwo pojawienia się orła (1)."
   ]
  },
  {
   "cell_type": "code",
   "execution_count": 26,
   "id": "7cd2fd17",
   "metadata": {},
   "outputs": [],
   "source": [
    "#wyniki\n",
    "rzuty = c(0,0,1,0,0,1,1,0,1,0,1,0,0,0,0,0,1,1,0,1,0,0,0,0,0,1,0,0,0,1,0,0,0,0,0,1,0,0,0,1,0,1,1,0,1,0,0,1,0,1)"
   ]
  },
  {
   "cell_type": "code",
   "execution_count": 27,
   "id": "cff75327",
   "metadata": {},
   "outputs": [
    {
     "data": {
      "text/html": [
       "17"
      ],
      "text/latex": [
       "17"
      ],
      "text/markdown": [
       "17"
      ],
      "text/plain": [
       "[1] 17"
      ]
     },
     "metadata": {},
     "output_type": "display_data"
    }
   ],
   "source": [
    "length(rzuty[rzuty ==1])"
   ]
  },
  {
   "cell_type": "markdown",
   "id": "110425ef",
   "metadata": {},
   "source": [
    "<h4> Test niezależności"
   ]
  },
  {
   "cell_type": "code",
   "execution_count": 28,
   "id": "f1f0f88d",
   "metadata": {},
   "outputs": [
    {
     "name": "stdout",
     "output_type": "stream",
     "text": [
      "          None Partial Full\n",
      "Injection   20       9   16\n",
      "Tablet      32      72   64\n",
      "Laser        8       8   30\n",
      "Herbal      52      32   12\n"
     ]
    }
   ],
   "source": [
    "#355 pacjentow, zabiegi/poziom sukcesu\n",
    "skin <- matrix(c(20,32,8,52,9,72,8,32,16,64,30,12),4,3, dimnames=list(c(\"Injection\",\"Tablet\",\"Laser\",\"Herbal\"), c(\"None\",\"Partial\",\"Full\")))\n",
    "print(skin)"
   ]
  },
  {
   "cell_type": "code",
   "execution_count": 29,
   "id": "e3b769c5",
   "metadata": {},
   "outputs": [
    {
     "data": {
      "text/html": [
       "<dl class=dl-horizontal>\n",
       "\t<dt>Injection</dt>\n",
       "\t\t<dd>45</dd>\n",
       "\t<dt>Tablet</dt>\n",
       "\t\t<dd>168</dd>\n",
       "\t<dt>Laser</dt>\n",
       "\t\t<dd>46</dd>\n",
       "\t<dt>Herbal</dt>\n",
       "\t\t<dd>96</dd>\n",
       "</dl>\n"
      ],
      "text/latex": [
       "\\begin{description*}\n",
       "\\item[Injection] 45\n",
       "\\item[Tablet] 168\n",
       "\\item[Laser] 46\n",
       "\\item[Herbal] 96\n",
       "\\end{description*}\n"
      ],
      "text/markdown": [
       "Injection\n",
       ":   45Tablet\n",
       ":   168Laser\n",
       ":   46Herbal\n",
       ":   96\n",
       "\n"
      ],
      "text/plain": [
       "Injection    Tablet     Laser    Herbal \n",
       "       45       168        46        96 "
      ]
     },
     "metadata": {},
     "output_type": "display_data"
    },
    {
     "data": {
      "text/html": [
       "<dl class=dl-horizontal>\n",
       "\t<dt>None</dt>\n",
       "\t\t<dd>112</dd>\n",
       "\t<dt>Partial</dt>\n",
       "\t\t<dd>121</dd>\n",
       "\t<dt>Full</dt>\n",
       "\t\t<dd>122</dd>\n",
       "</dl>\n"
      ],
      "text/latex": [
       "\\begin{description*}\n",
       "\\item[None] 112\n",
       "\\item[Partial] 121\n",
       "\\item[Full] 122\n",
       "\\end{description*}\n"
      ],
      "text/markdown": [
       "None\n",
       ":   112Partial\n",
       ":   121Full\n",
       ":   122\n",
       "\n"
      ],
      "text/plain": [
       "   None Partial    Full \n",
       "    112     121     122 "
      ]
     },
     "metadata": {},
     "output_type": "display_data"
    }
   ],
   "source": [
    "kr <- nrow(skin)\n",
    "kc <- ncol(skin)\n",
    "rowSums(skin);  colSums(skin)"
   ]
  },
  {
   "cell_type": "code",
   "execution_count": 30,
   "id": "02d11821",
   "metadata": {},
   "outputs": [
    {
     "data": {
      "text/plain": [
       "\n",
       "\tPearson's Chi-squared test\n",
       "\n",
       "data:  skin\n",
       "X-squared = 66.166, df = 6, p-value = 2.492e-12\n"
      ]
     },
     "metadata": {},
     "output_type": "display_data"
    }
   ],
   "source": [
    "chisq.test(x=skin) #H0: zmienne są niezalezne (typ leczenia i poziom sukcesu nie są niezalezne)"
   ]
  },
  {
   "cell_type": "markdown",
   "id": "8db3a8db",
   "metadata": {},
   "source": [
    "<h3> Uzupełnienie"
   ]
  },
  {
   "cell_type": "markdown",
   "id": "1ec47374",
   "metadata": {},
   "source": [
    "<h4> Rozkład chi kwadrat o n-stopniach swobody"
   ]
  },
  {
   "cell_type": "code",
   "execution_count": 2,
   "id": "078a9d1e",
   "metadata": {},
   "outputs": [],
   "source": [
    "options(repr.plot.width=3, repr.plot.height=3)"
   ]
  },
  {
   "cell_type": "code",
   "execution_count": 32,
   "id": "c8ea6a94",
   "metadata": {},
   "outputs": [
    {
     "data": {
      "image/png": "[encoded data removed]",
      "text/plain": [
       "Plot with title \"density.default(x = X)\""
      ]
     },
     "metadata": {},
     "output_type": "display_data"
    }
   ],
   "source": [
    "n = 10\n",
    "X = c()\n",
    "for (i in 1:10000){\n",
    "    X = append(X, sum(rnorm(n)^2))\n",
    "}\n",
    "\n",
    "plot(density(X))"
   ]
  },
  {
   "cell_type": "code",
   "execution_count": 33,
   "id": "9a793e51",
   "metadata": {},
   "outputs": [
    {
     "data": {
      "text/plain": [
       "\n",
       "\tTwo-sample Kolmogorov-Smirnov test\n",
       "\n",
       "data:  rchisq(10000, 10) and X\n",
       "D = 0.0118, p-value = 0.4893\n",
       "alternative hypothesis: two-sided\n"
      ]
     },
     "metadata": {},
     "output_type": "display_data"
    }
   ],
   "source": [
    "ks.test(rchisq(10000, 10), X) #jest oczywiscie wbudowany"
   ]
  },
  {
   "cell_type": "markdown",
   "id": "2f9b4e04",
   "metadata": {},
   "source": [
    "<h4> Rozkład t-studenta o n stopniach swobody"
   ]
  },
  {
   "cell_type": "code",
   "execution_count": 3,
   "id": "74cb277c",
   "metadata": {},
   "outputs": [
    {
     "data": {
      "image/png": "[encoded data removed]",
      "text/plain": [
       "Plot with title \"density.default(x = t)\""
      ]
     },
     "metadata": {},
     "output_type": "display_data"
    }
   ],
   "source": [
    "n = 10\n",
    "t = c()\n",
    "\n",
    "for (i in 1:10000){\n",
    "    t = append(t, (rnorm(1)/sqrt(rchisq(1,n))) *sqrt(n))\n",
    "}\n",
    "\n",
    "plot(density(t))"
   ]
  },
  {
   "cell_type": "code",
   "execution_count": 4,
   "id": "cc7dbd7a",
   "metadata": {},
   "outputs": [
    {
     "data": {
      "text/plain": [
       "\n",
       "\tTwo-sample Kolmogorov-Smirnov test\n",
       "\n",
       "data:  rt(10000, 10) and t\n",
       "D = 0.0148, p-value = 0.2234\n",
       "alternative hypothesis: two-sided\n"
      ]
     },
     "metadata": {},
     "output_type": "display_data"
    }
   ],
   "source": [
    "ks.test(rt(10000, 10), t)"
   ]
  },
  {
   "cell_type": "markdown",
   "id": "979ea544",
   "metadata": {},
   "source": [
    "<h4> Zadanie8: Policz kurtozę i skośność dla rozkładu chi-kwadrat i t-studenta z 10 stopniami swobody (na podstawie próby 1000 elementowej). Ile wynosiły odpowiednie wartości dla rozkładu $N(0,1)$? (warto wrócić do ćw3)"
   ]
  }
 ],
 "metadata": {
  "kernelspec": {
   "display_name": "R",
   "language": "R",
   "name": "ir"
  },
  "language_info": {
   "codemirror_mode": "r",
   "file_extension": ".r",
   "mimetype": "text/x-r-source",
   "name": "R",
   "pygments_lexer": "r",
   "version": "3.6.1"
  }
 },
 "nbformat": 4,
 "nbformat_minor": 5
}
