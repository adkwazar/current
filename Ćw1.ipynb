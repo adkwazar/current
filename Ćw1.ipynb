{
 "cells": [
  {
   "cell_type": "markdown",
   "id": "85334500",
   "metadata": {},
   "source": [
    "<h3> Ćwiczenia1/R"
   ]
  },
  {
   "cell_type": "markdown",
   "id": "8c507e4f",
   "metadata": {},
   "source": [
    "Zadanie1: Dany jest wektor v = c(2,0.5,1,2,0.5,1,2,0.5,1). Utwórz wektor o tej samej długości, zawierajacy tylko jedynki."
   ]
  },
  {
   "cell_type": "markdown",
   "id": "6d79a4e8",
   "metadata": {},
   "source": [
    "Zadanie2: Dany jest wektor temperatur w stopniach Fahrenheita F = c(45,77,20,19,101,120,212). Wyznacz wektor tych samych temperatur w skali Celcjusza. Zachodzi następująca relacja $C=\\frac{5}{9}(F-32)$."
   ]
  },
  {
   "cell_type": "markdown",
   "id": "5ce76f1a",
   "metadata": {},
   "source": [
    "Zadanie3: Standaryzacja polega na przekształceniu danych $X$ poprzez $\\frac{X-\\overline{X}}{S}$. Dokonaj standaryzacji dla $X=c(4,5,5.5,4.8,3.5,6.1,5.2,5.8)$. Porównaj kształt funkcji rozkładu (np poprzez histogram) oraz parametry statystyczne (średnia, odchylenie) danych wyjściowych i ustandaryzowanych."
   ]
  },
  {
   "cell_type": "markdown",
   "id": "b05a49ed",
   "metadata": {},
   "source": [
    "Zadanie4: Zdefiniuj dwie macierze kwadratowe $A$ i $B$ wymiaru 3 (zawierające dowolne liczby), a następnie wyznacz $A+B^TA$."
   ]
  },
  {
   "cell_type": "markdown",
   "id": "26799e48",
   "metadata": {},
   "source": [
    "Zadanie5: Wygeneruj 100 losowych liczb całkowitych z zakresu od -10 do 10, zapisz je do wektora v. Nastepnie utworz nowy wektor v2 zawierający tylko dodatnie wartosci wektora v. Ile jest takich liczb?"
   ]
  },
  {
   "cell_type": "markdown",
   "id": "b7b72dbf",
   "metadata": {},
   "source": [
    "Zadanie6: Zasymuluj 10000-krotny rzut kostką do gry. Zapisz do listy częstości występowania każdej liczby oczek, przyjmując za nazwy liczby oczek."
   ]
  },
  {
   "cell_type": "markdown",
   "id": "3a4eb58c",
   "metadata": {},
   "source": [
    "Zadanie7: Zdefiniuj funkcję, która dla argumentu $x$ wyznacza wartość wyrażenia $\\sin(\\frac{\\pi}{2}x ) +\\frac{e}{x^2+1}$. "
   ]
  },
  {
   "cell_type": "markdown",
   "id": "8952ee0e",
   "metadata": {},
   "source": [
    "Zadanie8: Zdefiniuj funkcję, która przyjmuje wektor liczb dodatnich i która zwraca średnią geometryczną tych liczb."
   ]
  },
  {
   "cell_type": "markdown",
   "id": "37f69baf",
   "metadata": {},
   "source": [
    "Zadanie9: Zdefiniuj dwa wektory: pierwszy zawierający liczby całkowite z przedziału od -5 do 6. Drugi, elementy zgodnie z równaniem $y=4x+3\\cdot(1+\\varepsilon)$, gdzie $\\varepsilon$ to losowa liczba z zakresu od -1 do 1, dla każdego x inna. Narysuj wykres zależności $y$ od $x$ stosując pakiet ggplot2."
   ]
  },
  {
   "cell_type": "markdown",
   "id": "24043c72",
   "metadata": {},
   "source": [
    "<h3> Uzupełnienie"
   ]
  },
  {
   "cell_type": "code",
   "execution_count": 4,
   "id": "23101fdb",
   "metadata": {},
   "outputs": [
    {
     "data": {
      "text/html": [
       "<ol class=list-inline>\n",
       "\t<li>'abline'</li>\n",
       "\t<li>'arrows'</li>\n",
       "\t<li>'assocplot'</li>\n",
       "\t<li>'axis'</li>\n",
       "\t<li>'Axis'</li>\n",
       "\t<li>'axis.Date'</li>\n",
       "\t<li>'axis.POSIXct'</li>\n",
       "\t<li>'axTicks'</li>\n",
       "\t<li>'barplot'</li>\n",
       "\t<li>'barplot.default'</li>\n",
       "\t<li>'box'</li>\n",
       "\t<li>'boxplot'</li>\n",
       "\t<li>'boxplot.default'</li>\n",
       "\t<li>'boxplot.matrix'</li>\n",
       "\t<li>'bxp'</li>\n",
       "\t<li>'cdplot'</li>\n",
       "\t<li>'clip'</li>\n",
       "\t<li>'close.screen'</li>\n",
       "\t<li>'co.intervals'</li>\n",
       "\t<li>'contour'</li>\n",
       "\t<li>'contour.default'</li>\n",
       "\t<li>'coplot'</li>\n",
       "\t<li>'curve'</li>\n",
       "\t<li>'dotchart'</li>\n",
       "\t<li>'erase.screen'</li>\n",
       "\t<li>'filled.contour'</li>\n",
       "\t<li>'fourfoldplot'</li>\n",
       "\t<li>'frame'</li>\n",
       "\t<li>'grconvertX'</li>\n",
       "\t<li>'grconvertY'</li>\n",
       "\t<li>'grid'</li>\n",
       "\t<li>'hist'</li>\n",
       "\t<li>'hist.default'</li>\n",
       "\t<li>'identify'</li>\n",
       "\t<li>'image'</li>\n",
       "\t<li>'image.default'</li>\n",
       "\t<li>'layout'</li>\n",
       "\t<li>'layout.show'</li>\n",
       "\t<li>'lcm'</li>\n",
       "\t<li>'legend'</li>\n",
       "\t<li>'lines'</li>\n",
       "\t<li>'lines.default'</li>\n",
       "\t<li>'locator'</li>\n",
       "\t<li>'matlines'</li>\n",
       "\t<li>'matplot'</li>\n",
       "\t<li>'matpoints'</li>\n",
       "\t<li>'mosaicplot'</li>\n",
       "\t<li>'mtext'</li>\n",
       "\t<li>'pairs'</li>\n",
       "\t<li>'pairs.default'</li>\n",
       "\t<li>'panel.smooth'</li>\n",
       "\t<li>'par'</li>\n",
       "\t<li>'persp'</li>\n",
       "\t<li>'pie'</li>\n",
       "\t<li>'plot'</li>\n",
       "\t<li>'plot.default'</li>\n",
       "\t<li>'plot.design'</li>\n",
       "\t<li>'plot.function'</li>\n",
       "\t<li>'plot.new'</li>\n",
       "\t<li>'plot.window'</li>\n",
       "\t<li>'plot.xy'</li>\n",
       "\t<li>'points'</li>\n",
       "\t<li>'points.default'</li>\n",
       "\t<li>'polygon'</li>\n",
       "\t<li>'polypath'</li>\n",
       "\t<li>'rasterImage'</li>\n",
       "\t<li>'rect'</li>\n",
       "\t<li>'rug'</li>\n",
       "\t<li>'screen'</li>\n",
       "\t<li>'segments'</li>\n",
       "\t<li>'smoothScatter'</li>\n",
       "\t<li>'spineplot'</li>\n",
       "\t<li>'split.screen'</li>\n",
       "\t<li>'stars'</li>\n",
       "\t<li>'stem'</li>\n",
       "\t<li>'strheight'</li>\n",
       "\t<li>'stripchart'</li>\n",
       "\t<li>'strwidth'</li>\n",
       "\t<li>'sunflowerplot'</li>\n",
       "\t<li>'symbols'</li>\n",
       "\t<li>'text'</li>\n",
       "\t<li>'text.default'</li>\n",
       "\t<li>'title'</li>\n",
       "\t<li>'xinch'</li>\n",
       "\t<li>'xspline'</li>\n",
       "\t<li>'xyinch'</li>\n",
       "\t<li>'yinch'</li>\n",
       "</ol>\n"
      ],
      "text/latex": [
       "\\begin{enumerate*}\n",
       "\\item 'abline'\n",
       "\\item 'arrows'\n",
       "\\item 'assocplot'\n",
       "\\item 'axis'\n",
       "\\item 'Axis'\n",
       "\\item 'axis.Date'\n",
       "\\item 'axis.POSIXct'\n",
       "\\item 'axTicks'\n",
       "\\item 'barplot'\n",
       "\\item 'barplot.default'\n",
       "\\item 'box'\n",
       "\\item 'boxplot'\n",
       "\\item 'boxplot.default'\n",
       "\\item 'boxplot.matrix'\n",
       "\\item 'bxp'\n",
       "\\item 'cdplot'\n",
       "\\item 'clip'\n",
       "\\item 'close.screen'\n",
       "\\item 'co.intervals'\n",
       "\\item 'contour'\n",
       "\\item 'contour.default'\n",
       "\\item 'coplot'\n",
       "\\item 'curve'\n",
       "\\item 'dotchart'\n",
       "\\item 'erase.screen'\n",
       "\\item 'filled.contour'\n",
       "\\item 'fourfoldplot'\n",
       "\\item 'frame'\n",
       "\\item 'grconvertX'\n",
       "\\item 'grconvertY'\n",
       "\\item 'grid'\n",
       "\\item 'hist'\n",
       "\\item 'hist.default'\n",
       "\\item 'identify'\n",
       "\\item 'image'\n",
       "\\item 'image.default'\n",
       "\\item 'layout'\n",
       "\\item 'layout.show'\n",
       "\\item 'lcm'\n",
       "\\item 'legend'\n",
       "\\item 'lines'\n",
       "\\item 'lines.default'\n",
       "\\item 'locator'\n",
       "\\item 'matlines'\n",
       "\\item 'matplot'\n",
       "\\item 'matpoints'\n",
       "\\item 'mosaicplot'\n",
       "\\item 'mtext'\n",
       "\\item 'pairs'\n",
       "\\item 'pairs.default'\n",
       "\\item 'panel.smooth'\n",
       "\\item 'par'\n",
       "\\item 'persp'\n",
       "\\item 'pie'\n",
       "\\item 'plot'\n",
       "\\item 'plot.default'\n",
       "\\item 'plot.design'\n",
       "\\item 'plot.function'\n",
       "\\item 'plot.new'\n",
       "\\item 'plot.window'\n",
       "\\item 'plot.xy'\n",
       "\\item 'points'\n",
       "\\item 'points.default'\n",
       "\\item 'polygon'\n",
       "\\item 'polypath'\n",
       "\\item 'rasterImage'\n",
       "\\item 'rect'\n",
       "\\item 'rug'\n",
       "\\item 'screen'\n",
       "\\item 'segments'\n",
       "\\item 'smoothScatter'\n",
       "\\item 'spineplot'\n",
       "\\item 'split.screen'\n",
       "\\item 'stars'\n",
       "\\item 'stem'\n",
       "\\item 'strheight'\n",
       "\\item 'stripchart'\n",
       "\\item 'strwidth'\n",
       "\\item 'sunflowerplot'\n",
       "\\item 'symbols'\n",
       "\\item 'text'\n",
       "\\item 'text.default'\n",
       "\\item 'title'\n",
       "\\item 'xinch'\n",
       "\\item 'xspline'\n",
       "\\item 'xyinch'\n",
       "\\item 'yinch'\n",
       "\\end{enumerate*}\n"
      ],
      "text/markdown": [
       "1. 'abline'\n",
       "2. 'arrows'\n",
       "3. 'assocplot'\n",
       "4. 'axis'\n",
       "5. 'Axis'\n",
       "6. 'axis.Date'\n",
       "7. 'axis.POSIXct'\n",
       "8. 'axTicks'\n",
       "9. 'barplot'\n",
       "10. 'barplot.default'\n",
       "11. 'box'\n",
       "12. 'boxplot'\n",
       "13. 'boxplot.default'\n",
       "14. 'boxplot.matrix'\n",
       "15. 'bxp'\n",
       "16. 'cdplot'\n",
       "17. 'clip'\n",
       "18. 'close.screen'\n",
       "19. 'co.intervals'\n",
       "20. 'contour'\n",
       "21. 'contour.default'\n",
       "22. 'coplot'\n",
       "23. 'curve'\n",
       "24. 'dotchart'\n",
       "25. 'erase.screen'\n",
       "26. 'filled.contour'\n",
       "27. 'fourfoldplot'\n",
       "28. 'frame'\n",
       "29. 'grconvertX'\n",
       "30. 'grconvertY'\n",
       "31. 'grid'\n",
       "32. 'hist'\n",
       "33. 'hist.default'\n",
       "34. 'identify'\n",
       "35. 'image'\n",
       "36. 'image.default'\n",
       "37. 'layout'\n",
       "38. 'layout.show'\n",
       "39. 'lcm'\n",
       "40. 'legend'\n",
       "41. 'lines'\n",
       "42. 'lines.default'\n",
       "43. 'locator'\n",
       "44. 'matlines'\n",
       "45. 'matplot'\n",
       "46. 'matpoints'\n",
       "47. 'mosaicplot'\n",
       "48. 'mtext'\n",
       "49. 'pairs'\n",
       "50. 'pairs.default'\n",
       "51. 'panel.smooth'\n",
       "52. 'par'\n",
       "53. 'persp'\n",
       "54. 'pie'\n",
       "55. 'plot'\n",
       "56. 'plot.default'\n",
       "57. 'plot.design'\n",
       "58. 'plot.function'\n",
       "59. 'plot.new'\n",
       "60. 'plot.window'\n",
       "61. 'plot.xy'\n",
       "62. 'points'\n",
       "63. 'points.default'\n",
       "64. 'polygon'\n",
       "65. 'polypath'\n",
       "66. 'rasterImage'\n",
       "67. 'rect'\n",
       "68. 'rug'\n",
       "69. 'screen'\n",
       "70. 'segments'\n",
       "71. 'smoothScatter'\n",
       "72. 'spineplot'\n",
       "73. 'split.screen'\n",
       "74. 'stars'\n",
       "75. 'stem'\n",
       "76. 'strheight'\n",
       "77. 'stripchart'\n",
       "78. 'strwidth'\n",
       "79. 'sunflowerplot'\n",
       "80. 'symbols'\n",
       "81. 'text'\n",
       "82. 'text.default'\n",
       "83. 'title'\n",
       "84. 'xinch'\n",
       "85. 'xspline'\n",
       "86. 'xyinch'\n",
       "87. 'yinch'\n",
       "\n",
       "\n"
      ],
      "text/plain": [
       " [1] \"abline\"          \"arrows\"          \"assocplot\"       \"axis\"           \n",
       " [5] \"Axis\"            \"axis.Date\"       \"axis.POSIXct\"    \"axTicks\"        \n",
       " [9] \"barplot\"         \"barplot.default\" \"box\"             \"boxplot\"        \n",
       "[13] \"boxplot.default\" \"boxplot.matrix\"  \"bxp\"             \"cdplot\"         \n",
       "[17] \"clip\"            \"close.screen\"    \"co.intervals\"    \"contour\"        \n",
       "[21] \"contour.default\" \"coplot\"          \"curve\"           \"dotchart\"       \n",
       "[25] \"erase.screen\"    \"filled.contour\"  \"fourfoldplot\"    \"frame\"          \n",
       "[29] \"grconvertX\"      \"grconvertY\"      \"grid\"            \"hist\"           \n",
       "[33] \"hist.default\"    \"identify\"        \"image\"           \"image.default\"  \n",
       "[37] \"layout\"          \"layout.show\"     \"lcm\"             \"legend\"         \n",
       "[41] \"lines\"           \"lines.default\"   \"locator\"         \"matlines\"       \n",
       "[45] \"matplot\"         \"matpoints\"       \"mosaicplot\"      \"mtext\"          \n",
       "[49] \"pairs\"           \"pairs.default\"   \"panel.smooth\"    \"par\"            \n",
       "[53] \"persp\"           \"pie\"             \"plot\"            \"plot.default\"   \n",
       "[57] \"plot.design\"     \"plot.function\"   \"plot.new\"        \"plot.window\"    \n",
       "[61] \"plot.xy\"         \"points\"          \"points.default\"  \"polygon\"        \n",
       "[65] \"polypath\"        \"rasterImage\"     \"rect\"            \"rug\"            \n",
       "[69] \"screen\"          \"segments\"        \"smoothScatter\"   \"spineplot\"      \n",
       "[73] \"split.screen\"    \"stars\"           \"stem\"            \"strheight\"      \n",
       "[77] \"stripchart\"      \"strwidth\"        \"sunflowerplot\"   \"symbols\"        \n",
       "[81] \"text\"            \"text.default\"    \"title\"           \"xinch\"          \n",
       "[85] \"xspline\"         \"xyinch\"          \"yinch\"          "
      ]
     },
     "metadata": {},
     "output_type": "display_data"
    }
   ],
   "source": [
    "ls(\"package:graphics\") #co znjaduje sie w graphics, cos jak dir w Pythonie"
   ]
  },
  {
   "cell_type": "code",
   "execution_count": 7,
   "id": "7e98b333",
   "metadata": {},
   "outputs": [],
   "source": [
    "#mozna wybierac ale nie jest to zbyt popularne...\n",
    "library(graphics, include.only = c(\"abline\", \"arrows\"))\n",
    "library(graphics, exclude = c(\"title\", \"stars\"))"
   ]
  },
  {
   "cell_type": "code",
   "execution_count": 5,
   "id": "4be1d25e",
   "metadata": {},
   "outputs": [
    {
     "name": "stdout",
     "output_type": "stream",
     "text": [
      "function (x, size, replace = FALSE, prob = NULL) \n",
      "{\n",
      "    if (length(x) == 1L && is.numeric(x) && is.finite(x) && x >= \n",
      "        1) {\n",
      "        if (missing(size)) \n",
      "            size <- x\n",
      "        sample.int(x, size, replace, prob)\n",
      "    }\n",
      "    else {\n",
      "        if (missing(size)) \n",
      "            size <- length(x)\n",
      "        x[sample.int(length(x), size, replace, prob)]\n",
      "    }\n",
      "}\n",
      "<bytecode: 0x000000004b1da5a0>\n",
      "<environment: namespace:base>\n"
     ]
    }
   ],
   "source": [
    "print(sample) #jak wyglada ta funkcja?"
   ]
  },
  {
   "cell_type": "code",
   "execution_count": 6,
   "id": "d4b34426",
   "metadata": {},
   "outputs": [
    {
     "data": {
      "text/html": [
       "<pre class=language-r><code>function (x, size, replace = FALSE, prob = NULL) \n",
       "NULL</code></pre>"
      ],
      "text/latex": [
       "\\begin{minted}{r}\n",
       "function (x, size, replace = FALSE, prob = NULL) \n",
       "NULL\n",
       "\\end{minted}"
      ],
      "text/markdown": [
       "```r\n",
       "function (x, size, replace = FALSE, prob = NULL) \n",
       "NULL\n",
       "```"
      ],
      "text/plain": [
       "function (x, size, replace = FALSE, prob = NULL) \n",
       "NULL"
      ]
     },
     "metadata": {},
     "output_type": "display_data"
    }
   ],
   "source": [
    "args(sample) #jakie argumenty przyjmuje"
   ]
  },
  {
   "cell_type": "markdown",
   "id": "e5f03249",
   "metadata": {},
   "source": [
    "- Klasy/atrybuty"
   ]
  },
  {
   "cell_type": "code",
   "execution_count": 7,
   "id": "af8e08d0",
   "metadata": {},
   "outputs": [
    {
     "name": "stdout",
     "output_type": "stream",
     "text": [
      "NULL\n"
     ]
    }
   ],
   "source": [
    "x = 0:9\n",
    "print(attributes(x))"
   ]
  },
  {
   "cell_type": "code",
   "execution_count": 8,
   "id": "c9a187c5",
   "metadata": {},
   "outputs": [
    {
     "name": "stdout",
     "output_type": "stream",
     "text": [
      " [1] 0 1 2 3 4 5 6 7 8 9\n",
      "attr(,\"atrybut1\")\n",
      "[1] \"opis1\"\n",
      "attr(,\"atrybut2\")\n",
      "[1] \"opis2\"\n"
     ]
    }
   ],
   "source": [
    "attr(x, \"atrybut1\") = \"opis1\"\n",
    "attr(x, \"atrybut2\") = \"opis2\"\n",
    "print(x)"
   ]
  },
  {
   "cell_type": "code",
   "execution_count": 9,
   "id": "997c38e3",
   "metadata": {},
   "outputs": [
    {
     "data": {
      "text/html": [
       "<dl>\n",
       "\t<dt>$atrybut1</dt>\n",
       "\t\t<dd>'opis1'</dd>\n",
       "\t<dt>$atrybut2</dt>\n",
       "\t\t<dd>'opis2'</dd>\n",
       "</dl>\n"
      ],
      "text/latex": [
       "\\begin{description}\n",
       "\\item[\\$atrybut1] 'opis1'\n",
       "\\item[\\$atrybut2] 'opis2'\n",
       "\\end{description}\n"
      ],
      "text/markdown": [
       "$atrybut1\n",
       ":   'opis1'\n",
       "$atrybut2\n",
       ":   'opis2'\n",
       "\n",
       "\n"
      ],
      "text/plain": [
       "$atrybut1\n",
       "[1] \"opis1\"\n",
       "\n",
       "$atrybut2\n",
       "[1] \"opis2\"\n"
      ]
     },
     "metadata": {},
     "output_type": "display_data"
    }
   ],
   "source": [
    "attributes(x)"
   ]
  },
  {
   "cell_type": "code",
   "execution_count": 10,
   "id": "5b02bbae",
   "metadata": {},
   "outputs": [
    {
     "name": "stdout",
     "output_type": "stream",
     "text": [
      "  I  II III \n",
      "  1   2   3 \n",
      "attr(,\"opis\")\n",
      "[1] \"elementy\"\n"
     ]
    }
   ],
   "source": [
    "z = structure(1:3, opis = \"elementy\", names = c(\"I\",\"II\",\"III\")) #w ten sposob moge tez dodawac atrybuty, names to specjalny atrybut one są nad wartosciami\n",
    "print(z)"
   ]
  },
  {
   "cell_type": "code",
   "execution_count": 11,
   "id": "d8c3775d",
   "metadata": {},
   "outputs": [
    {
     "data": {
      "text/html": [
       "<strong>II:</strong> 2"
      ],
      "text/latex": [
       "\\textbf{II:} 2"
      ],
      "text/markdown": [
       "**II:** 2"
      ],
      "text/plain": [
       "II \n",
       " 2 "
      ]
     },
     "metadata": {},
     "output_type": "display_data"
    }
   ],
   "source": [
    "z[\"II\"] #moge sie odnosic do wyrazow potem w ten sposob"
   ]
  },
  {
   "cell_type": "code",
   "execution_count": 12,
   "id": "479c1ef9",
   "metadata": {},
   "outputs": [
    {
     "data": {
      "text/html": [
       "<dl>\n",
       "\t<dt>$opis</dt>\n",
       "\t\t<dd>'elementy'</dd>\n",
       "\t<dt>$names</dt>\n",
       "\t\t<dd><ol class=list-inline>\n",
       "\t<li>'I'</li>\n",
       "\t<li>'II'</li>\n",
       "\t<li>'III'</li>\n",
       "</ol>\n",
       "</dd>\n",
       "</dl>\n"
      ],
      "text/latex": [
       "\\begin{description}\n",
       "\\item[\\$opis] 'elementy'\n",
       "\\item[\\$names] \\begin{enumerate*}\n",
       "\\item 'I'\n",
       "\\item 'II'\n",
       "\\item 'III'\n",
       "\\end{enumerate*}\n",
       "\n",
       "\\end{description}\n"
      ],
      "text/markdown": [
       "$opis\n",
       ":   'elementy'\n",
       "$names\n",
       ":   1. 'I'\n",
       "2. 'II'\n",
       "3. 'III'\n",
       "\n",
       "\n",
       "\n",
       "\n",
       "\n"
      ],
      "text/plain": [
       "$opis\n",
       "[1] \"elementy\"\n",
       "\n",
       "$names\n",
       "[1] \"I\"   \"II\"  \"III\"\n"
      ]
     },
     "metadata": {},
     "output_type": "display_data"
    }
   ],
   "source": [
    "attributes(z)"
   ]
  },
  {
   "cell_type": "code",
   "execution_count": 13,
   "id": "13dad22e",
   "metadata": {},
   "outputs": [
    {
     "data": {
      "text/html": [
       "<ol class=list-inline>\n",
       "\t<li>'I'</li>\n",
       "\t<li>'II'</li>\n",
       "\t<li>'III'</li>\n",
       "</ol>\n"
      ],
      "text/latex": [
       "\\begin{enumerate*}\n",
       "\\item 'I'\n",
       "\\item 'II'\n",
       "\\item 'III'\n",
       "\\end{enumerate*}\n"
      ],
      "text/markdown": [
       "1. 'I'\n",
       "2. 'II'\n",
       "3. 'III'\n",
       "\n",
       "\n"
      ],
      "text/plain": [
       "[1] \"I\"   \"II\"  \"III\""
      ]
     },
     "metadata": {},
     "output_type": "display_data"
    }
   ],
   "source": [
    "names(z)"
   ]
  },
  {
   "cell_type": "code",
   "execution_count": 14,
   "id": "58a55f20",
   "metadata": {},
   "outputs": [
    {
     "data": {
      "text/html": [
       "2"
      ],
      "text/latex": [
       "2"
      ],
      "text/markdown": [
       "2"
      ],
      "text/plain": [
       "[1] 2"
      ]
     },
     "metadata": {},
     "output_type": "display_data"
    }
   ],
   "source": [
    "#Przerobienie na liste i dostęp\n",
    "l = as.list(z)\n",
    "l[[\"II\"]]"
   ]
  },
  {
   "cell_type": "code",
   "execution_count": 15,
   "id": "1b798aad",
   "metadata": {},
   "outputs": [
    {
     "data": {
      "text/html": [
       "2"
      ],
      "text/latex": [
       "2"
      ],
      "text/markdown": [
       "2"
      ],
      "text/plain": [
       "[1] 2"
      ]
     },
     "metadata": {},
     "output_type": "display_data"
    }
   ],
   "source": [
    "l$II #w listach moge sie tak odnosic"
   ]
  },
  {
   "cell_type": "code",
   "execution_count": 16,
   "id": "1db4d03c",
   "metadata": {},
   "outputs": [
    {
     "name": "stdout",
     "output_type": "stream",
     "text": [
      "$I\n",
      "[1] 1\n",
      "\n",
      "$II\n",
      "[1] 2\n",
      "\n",
      "$III\n",
      "[1] 3\n",
      "\n"
     ]
    }
   ],
   "source": [
    "l2 = list(I=1,II=2,III=3) #tak moge tworzyc liste (od razu z nazwami); przy wektorach podobnie c(I=1,II=2,III=3)\n",
    "print(l2)"
   ]
  },
  {
   "cell_type": "code",
   "execution_count": 17,
   "id": "fef397cb",
   "metadata": {},
   "outputs": [
    {
     "name": "stdout",
     "output_type": "stream",
     "text": [
      "[[1]]\n",
      "[1] 1\n",
      "\n",
      "[[2]]\n",
      "[1] 2\n",
      "\n",
      "[[3]]\n",
      "[1] 3\n",
      "\n"
     ]
    }
   ],
   "source": [
    "l3 <- unname(l2) #usuwa nazwy\n",
    "print(l3)"
   ]
  },
  {
   "cell_type": "code",
   "execution_count": 18,
   "id": "44ed5637",
   "metadata": {},
   "outputs": [
    {
     "name": "stdout",
     "output_type": "stream",
     "text": [
      "$I\n",
      "[1] 1\n",
      "\n",
      "$II\n",
      "[1] 2\n",
      "\n",
      "$III\n",
      "[1] 3\n",
      "\n"
     ]
    }
   ],
   "source": [
    "l2.comment = \"komentarz\" #comment to inny specjalny atrybut\n",
    "print(l2)"
   ]
  },
  {
   "cell_type": "code",
   "execution_count": 19,
   "id": "edcf1d66",
   "metadata": {},
   "outputs": [
    {
     "data": {
      "text/html": [
       "'list'"
      ],
      "text/latex": [
       "'list'"
      ],
      "text/markdown": [
       "'list'"
      ],
      "text/plain": [
       "[1] \"list\""
      ]
     },
     "metadata": {},
     "output_type": "display_data"
    }
   ],
   "source": [
    "class(l2)"
   ]
  },
  {
   "cell_type": "code",
   "execution_count": 20,
   "id": "04232b5f",
   "metadata": {},
   "outputs": [],
   "source": [
    "class(l2) = \"wektor3D\""
   ]
  },
  {
   "cell_type": "code",
   "execution_count": 21,
   "id": "4115ddc5",
   "metadata": {},
   "outputs": [
    {
     "data": {
      "text/html": [
       "'wektor3D'"
      ],
      "text/latex": [
       "'wektor3D'"
      ],
      "text/markdown": [
       "'wektor3D'"
      ],
      "text/plain": [
       "[1] \"wektor3D\""
      ]
     },
     "metadata": {},
     "output_type": "display_data"
    }
   ],
   "source": [
    "class(l2) #nadpisalismy"
   ]
  },
  {
   "cell_type": "code",
   "execution_count": 22,
   "id": "cecf6a71",
   "metadata": {},
   "outputs": [],
   "source": [
    "print.wektor3D <- function(v) { #nadpisuje funkcje print dla obiektow z klasy wektor3D\n",
    "    print(paste(\"hello: \", v[1], v[2], v[3]))\n",
    "}    "
   ]
  },
  {
   "cell_type": "code",
   "execution_count": 23,
   "id": "c4079b02",
   "metadata": {},
   "outputs": [
    {
     "name": "stdout",
     "output_type": "stream",
     "text": [
      "[1] \"hello:  1 2 3\"\n"
     ]
    }
   ],
   "source": [
    "print(l2) #teraz print dziala nieco inaczej :)"
   ]
  },
  {
   "cell_type": "code",
   "execution_count": 24,
   "id": "c17cd25f",
   "metadata": {},
   "outputs": [
    {
     "name": "stdout",
     "output_type": "stream",
     "text": [
      "$I\n",
      "[1] 1\n",
      "\n",
      "$II\n",
      "[1] 2\n",
      "\n",
      "$III\n",
      "[1] 3\n",
      "\n"
     ]
    }
   ],
   "source": [
    "l2 <- unclass(l2) #\"powracamy\" do poprzedniej klasy (pierwotnej)\n",
    "print(l2)"
   ]
  },
  {
   "cell_type": "markdown",
   "id": "25da3cd5",
   "metadata": {},
   "source": [
    "Zadanie10: Zdefiniuj wektor $v=c(3,-4, 0)$, następnie dodaj mu 2 atrybuty: \"elems\" przechowujący informacje o liczbie elementów tego wektora i \"sum\" przechowujący informacje o sumie jego wartości. Sprawdź do jakiej klasy należy, a następnie nadpisz tę klasę na \"Wektory\", gdzie zmień definicję działania metody length ma długość wektora rozumianą jako pierwiastek z sumy kwadratów współrzędnych."
   ]
  },
  {
   "cell_type": "code",
   "execution_count": 5,
   "id": "60bb3899",
   "metadata": {},
   "outputs": [],
   "source": [
    "#length(v) powinno zwrocic 5"
   ]
  }
 ],
 "metadata": {
  "kernelspec": {
   "display_name": "R",
   "language": "R",
   "name": "ir"
  },
  "language_info": {
   "codemirror_mode": "r",
   "file_extension": ".r",
   "mimetype": "text/x-r-source",
   "name": "R",
   "pygments_lexer": "r",
   "version": "3.6.1"
  }
 },
 "nbformat": 4,
 "nbformat_minor": 5
}
