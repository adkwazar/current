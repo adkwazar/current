{
 "cells": [
  {
   "cell_type": "markdown",
   "metadata": {},
   "source": [
    "<h3> Generowanie nowego tekstu"
   ]
  },
  {
   "cell_type": "code",
   "execution_count": 1,
   "metadata": {},
   "outputs": [],
   "source": [
    "import torch\n",
    "import torch.nn as nn\n",
    "import torch.nn.functional as F\n",
    "import torch.optim as optim"
   ]
  },
  {
   "cell_type": "code",
   "execution_count": 2,
   "metadata": {},
   "outputs": [],
   "source": [
    "f = open('cytaty.txt','r')  #otwiram plik z cytatami\n",
    "cytaty = f.read().split('\\n')\n",
    "f.close()"
   ]
  },
  {
   "cell_type": "code",
   "execution_count": 3,
   "metadata": {},
   "outputs": [
    {
     "data": {
      "text/plain": [
       "['The best and most beautiful things in the world cannot be seen or even touched - they must be felt with the heart.',\n",
       " 'The best preparation for tomorrow is doing your best today.',\n",
       " 'Put your heart, mind, and soul into even your smallest acts. This is the secret of success.',\n",
       " \"I can't change the direction of the wind, but I can adjust my sails to always reach my destination.\"]"
      ]
     },
     "execution_count": 3,
     "metadata": {},
     "output_type": "execute_result"
    }
   ],
   "source": [
    "cytaty[:4] #pierwsze cztery cytaty"
   ]
  },
  {
   "cell_type": "code",
   "execution_count": 4,
   "metadata": {},
   "outputs": [
    {
     "data": {
      "text/plain": [
       "403"
      ]
     },
     "execution_count": 4,
     "metadata": {},
     "output_type": "execute_result"
    }
   ],
   "source": [
    "len(cytaty) #ile wszysktich cytatow?"
   ]
  },
  {
   "cell_type": "code",
   "execution_count": 5,
   "metadata": {},
   "outputs": [
    {
     "name": "stdout",
     "output_type": "stream",
     "text": [
      "From a small seed a mighty trunk may grow.\n"
     ]
    }
   ],
   "source": [
    "cytat9 = cytaty[9] #wybieram przykladowy cytat\n",
    "print(cytat9)"
   ]
  },
  {
   "cell_type": "code",
   "execution_count": 6,
   "metadata": {},
   "outputs": [
    {
     "data": {
      "text/plain": [
       "42"
      ]
     },
     "execution_count": 6,
     "metadata": {},
     "output_type": "execute_result"
    }
   ],
   "source": [
    "len(cytat9) #ile ma znakow?                "
   ]
  },
  {
   "cell_type": "code",
   "execution_count": 7,
   "metadata": {},
   "outputs": [],
   "source": [
    "vocab = list(set(cytat9)) + [\"<BOS>\", \"<EOS>\"] #tworze liste znakow ktore wystepują w wybranym cytacie, dodaje dwa nowe BOS = początek sekwencji, EOS = koniec sekwencji"
   ]
  },
  {
   "cell_type": "code",
   "execution_count": 8,
   "metadata": {},
   "outputs": [
    {
     "name": "stdout",
     "output_type": "stream",
     "text": [
      "['d', 'F', 'y', 'o', '.', 'u', 'w', 't', 'k', ' ', 'e', 'r', 'l', 'i', 'g', 's', 'm', 'a', 'h', 'n', '<BOS>', '<EOS>']\n"
     ]
    }
   ],
   "source": [
    "print(vocab)"
   ]
  },
  {
   "cell_type": "code",
   "execution_count": 9,
   "metadata": {},
   "outputs": [
    {
     "data": {
      "text/plain": [
       "22"
      ]
     },
     "execution_count": 9,
     "metadata": {},
     "output_type": "execute_result"
    }
   ],
   "source": [
    "len(vocab) #ile jest znakow unikalnych?"
   ]
  },
  {
   "cell_type": "code",
   "execution_count": 10,
   "metadata": {},
   "outputs": [],
   "source": [
    "vocab_size = len(vocab) #zapisuje te informacje pod zmienną"
   ]
  },
  {
   "cell_type": "code",
   "execution_count": 11,
   "metadata": {},
   "outputs": [],
   "source": [
    "#tworze dwa pomocnicze słowniki\n",
    "vocab1 = {s: i for i, s in enumerate(vocab)}\n",
    "vocab2 = {i: s for i, s in enumerate(vocab)}"
   ]
  },
  {
   "cell_type": "code",
   "execution_count": 12,
   "metadata": {},
   "outputs": [
    {
     "name": "stdout",
     "output_type": "stream",
     "text": [
      "{'d': 0, 'F': 1, 'y': 2, 'o': 3, '.': 4, 'u': 5, 'w': 6, 't': 7, 'k': 8, ' ': 9, 'e': 10, 'r': 11, 'l': 12, 'i': 13, 'g': 14, 's': 15, 'm': 16, 'a': 17, 'h': 18, 'n': 19, '<BOS>': 20, '<EOS>': 21}\n"
     ]
    }
   ],
   "source": [
    "print(vocab1)"
   ]
  },
  {
   "cell_type": "code",
   "execution_count": 13,
   "metadata": {},
   "outputs": [
    {
     "name": "stdout",
     "output_type": "stream",
     "text": [
      "{0: 'd', 1: 'F', 2: 'y', 3: 'o', 4: '.', 5: 'u', 6: 'w', 7: 't', 8: 'k', 9: ' ', 10: 'e', 11: 'r', 12: 'l', 13: 'i', 14: 'g', 15: 's', 16: 'm', 17: 'a', 18: 'h', 19: 'n', 20: '<BOS>', 21: '<EOS>'}\n"
     ]
    }
   ],
   "source": [
    "print(vocab2)"
   ]
  },
  {
   "cell_type": "code",
   "execution_count": 14,
   "metadata": {},
   "outputs": [
    {
     "data": {
      "text/plain": [
       "tensor([[1., 0., 0., 0.],\n",
       "        [0., 1., 0., 0.],\n",
       "        [0., 0., 1., 0.],\n",
       "        [0., 0., 0., 1.]])"
      ]
     },
     "execution_count": 14,
     "metadata": {},
     "output_type": "execute_result"
    }
   ],
   "source": [
    "#Uwaga: tak sie definiuje macierz jednostkową, my będziemy interpretowac wiersze jako reprezentacje one-hot vectors dla znakow\n",
    "torch.eye(4)"
   ]
  },
  {
   "cell_type": "code",
   "execution_count": 15,
   "metadata": {},
   "outputs": [],
   "source": [
    "# Model: \n",
    "\n",
    "class TextGenerator(nn.Module):\n",
    "    def __init__(self, v_size, hidden_size, n_layers=1):\n",
    "        super().__init__()\n",
    "        self.ident = torch.eye(v_size) #macierz wektorow one-hot encoding dla wszytkich znakow\n",
    "        self.gru = nn.GRU(v_size, hidden_size, n_layers, batch_first=True) #uzyjemy sobie GRU\n",
    "        self.decoder = nn.Linear(hidden_size, v_size) #jako dekoder wezmiemy przeksztalcenie liniowe\n",
    "    \n",
    "    def forward(self, inp, hidden=None):\n",
    "        inp = self.ident[inp]                  #one-hot vector dla kolejnego znaku\n",
    "        output, hidden = self.gru(inp, hidden) #zastosowanie GRU\n",
    "        output = self.decoder(output)          #rozklad kolejnych znakow\n",
    "        return output, hidden"
   ]
  },
  {
   "cell_type": "code",
   "execution_count": 16,
   "metadata": {},
   "outputs": [],
   "source": [
    "model = TextGenerator(vocab_size, 16) #buduje model, z wymiarem dla stanu ukrytego = 16"
   ]
  },
  {
   "cell_type": "code",
   "execution_count": 17,
   "metadata": {},
   "outputs": [],
   "source": [
    "criterion = nn.CrossEntropyLoss() #funkcja kosztu"
   ]
  },
  {
   "cell_type": "code",
   "execution_count": 18,
   "metadata": {},
   "outputs": [
    {
     "name": "stdout",
     "output_type": "stream",
     "text": [
      "tensor([[20]])\n"
     ]
    }
   ],
   "source": [
    "bos = torch.Tensor([vocab1[\"<BOS>\"]]).long().unsqueeze(0) #zaczynamy od BOS - patrzymy jaki ma indeks\n",
    "print(bos)"
   ]
  },
  {
   "cell_type": "code",
   "execution_count": 19,
   "metadata": {},
   "outputs": [
    {
     "name": "stdout",
     "output_type": "stream",
     "text": [
      "tensor([[[-0.0623, -0.2222, -0.0150,  0.1365,  0.0983,  0.1993,  0.1391,\n",
      "          -0.1728, -0.0231, -0.2330, -0.2657,  0.1632, -0.0490, -0.2230,\n",
      "           0.1564,  0.1299,  0.1966, -0.0765,  0.2454, -0.0259, -0.1660,\n",
      "          -0.0031]]], grad_fn=<AddBackward0>)\n"
     ]
    }
   ],
   "source": [
    "output, hidden = model(bos, hidden=None)\n",
    "print(output) #rozklad po pierwszym tokenie - tensor 3D"
   ]
  },
  {
   "cell_type": "code",
   "execution_count": 20,
   "metadata": {},
   "outputs": [
    {
     "name": "stdout",
     "output_type": "stream",
     "text": [
      "tensor([[-0.0623, -0.2222, -0.0150,  0.1365,  0.0983,  0.1993,  0.1391, -0.1728,\n",
      "         -0.0231, -0.2330, -0.2657,  0.1632, -0.0490, -0.2230,  0.1564,  0.1299,\n",
      "          0.1966, -0.0765,  0.2454, -0.0259, -0.1660, -0.0031]],\n",
      "       grad_fn=<ReshapeAliasBackward0>)\n"
     ]
    }
   ],
   "source": [
    "print(output.reshape(-1, vocab_size)) #tensor 2D"
   ]
  },
  {
   "cell_type": "code",
   "execution_count": 21,
   "metadata": {},
   "outputs": [
    {
     "name": "stdout",
     "output_type": "stream",
     "text": [
      "tensor([[1]])\n"
     ]
    }
   ],
   "source": [
    "target = torch.Tensor([vocab1[cytat9[0]]]).long().unsqueeze(0) #pierwszy znak z cytatu \n",
    "print(target)"
   ]
  },
  {
   "cell_type": "code",
   "execution_count": 22,
   "metadata": {},
   "outputs": [
    {
     "name": "stdout",
     "output_type": "stream",
     "text": [
      "tensor(3.3223, grad_fn=<NllLossBackward0>)\n"
     ]
    }
   ],
   "source": [
    "print(criterion(output.reshape(-1, vocab_size), target.reshape(-1))) #wartosc funkcji kosztu"
   ]
  },
  {
   "cell_type": "code",
   "execution_count": 23,
   "metadata": {},
   "outputs": [
    {
     "data": {
      "text/plain": [
       "tensor([1])"
      ]
     },
     "execution_count": 23,
     "metadata": {},
     "output_type": "execute_result"
    }
   ],
   "source": [
    "target.reshape(-1)"
   ]
  },
  {
   "cell_type": "markdown",
   "metadata": {},
   "source": [
    "<h4> Zadanie1: Wyjaśnij skąd wzięła się wartość funkcji kosztu (wyznacz ją poprzez bezpośrednie obliczenia)."
   ]
  },
  {
   "cell_type": "code",
   "execution_count": 24,
   "metadata": {},
   "outputs": [
    {
     "name": "stdout",
     "output_type": "stream",
     "text": [
      "tensor([[[-0.0276, -0.2690,  0.0260,  0.1704,  0.1412,  0.2731,  0.1469,\n",
      "          -0.2622, -0.0477, -0.1721, -0.2899,  0.1170,  0.0115, -0.2258,\n",
      "           0.1195,  0.1773,  0.2310, -0.0768,  0.2129, -0.0802, -0.1289,\n",
      "           0.0324]]], grad_fn=<AddBackward0>)\n"
     ]
    }
   ],
   "source": [
    "output, hidden = model(target, hidden) #uzyj hidden do wygenerowania nowego output i hidden\n",
    "print(output) "
   ]
  },
  {
   "cell_type": "code",
   "execution_count": 25,
   "metadata": {},
   "outputs": [
    {
     "name": "stdout",
     "output_type": "stream",
     "text": [
      "tensor(2.9920, grad_fn=<NllLossBackward0>)\n"
     ]
    }
   ],
   "source": [
    "target = torch.Tensor([vocab1[cytat9[1]]]).long().unsqueeze(0) #drugi znak w cytacie\n",
    "print(criterion(output.reshape(-1, vocab_size), target.reshape(-1)))        "
   ]
  },
  {
   "cell_type": "code",
   "execution_count": 26,
   "metadata": {},
   "outputs": [
    {
     "name": "stdout",
     "output_type": "stream",
     "text": [
      "2 tensor(3.0214, grad_fn=<NllLossBackward0>)\n",
      "3 tensor(2.9355, grad_fn=<NllLossBackward0>)\n",
      "4 tensor(3.4547, grad_fn=<NllLossBackward0>)\n",
      "5 tensor(3.2883, grad_fn=<NllLossBackward0>)\n",
      "6 tensor(3.2219, grad_fn=<NllLossBackward0>)\n",
      "7 tensor(2.8485, grad_fn=<NllLossBackward0>)\n",
      "8 tensor(2.9043, grad_fn=<NllLossBackward0>)\n",
      "9 tensor(3.1984, grad_fn=<NllLossBackward0>)\n",
      "10 tensor(3.0012, grad_fn=<NllLossBackward0>)\n",
      "11 tensor(3.0398, grad_fn=<NllLossBackward0>)\n",
      "12 tensor(3.4019, grad_fn=<NllLossBackward0>)\n",
      "13 tensor(2.8991, grad_fn=<NllLossBackward0>)\n",
      "14 tensor(3.3230, grad_fn=<NllLossBackward0>)\n",
      "15 tensor(3.3401, grad_fn=<NllLossBackward0>)\n",
      "16 tensor(3.1339, grad_fn=<NllLossBackward0>)\n",
      "17 tensor(3.4604, grad_fn=<NllLossBackward0>)\n",
      "18 tensor(3.2840, grad_fn=<NllLossBackward0>)\n",
      "19 tensor(3.2394, grad_fn=<NllLossBackward0>)\n",
      "20 tensor(2.8135, grad_fn=<NllLossBackward0>)\n",
      "21 tensor(3.4494, grad_fn=<NllLossBackward0>)\n",
      "22 tensor(2.9808, grad_fn=<NllLossBackward0>)\n",
      "23 tensor(2.7827, grad_fn=<NllLossBackward0>)\n",
      "24 tensor(3.3134, grad_fn=<NllLossBackward0>)\n",
      "25 tensor(3.1247, grad_fn=<NllLossBackward0>)\n",
      "26 tensor(3.3166, grad_fn=<NllLossBackward0>)\n",
      "27 tensor(3.3861, grad_fn=<NllLossBackward0>)\n",
      "28 tensor(2.9354, grad_fn=<NllLossBackward0>)\n",
      "29 tensor(2.8927, grad_fn=<NllLossBackward0>)\n",
      "30 tensor(3.2009, grad_fn=<NllLossBackward0>)\n",
      "31 tensor(3.0539, grad_fn=<NllLossBackward0>)\n",
      "32 tensor(3.4310, grad_fn=<NllLossBackward0>)\n",
      "33 tensor(2.8131, grad_fn=<NllLossBackward0>)\n",
      "34 tensor(3.2337, grad_fn=<NllLossBackward0>)\n",
      "35 tensor(3.1051, grad_fn=<NllLossBackward0>)\n",
      "36 tensor(3.2736, grad_fn=<NllLossBackward0>)\n",
      "37 tensor(3.1144, grad_fn=<NllLossBackward0>)\n",
      "38 tensor(2.9706, grad_fn=<NllLossBackward0>)\n",
      "39 tensor(2.9909, grad_fn=<NllLossBackward0>)\n",
      "40 tensor(2.9985, grad_fn=<NllLossBackward0>)\n",
      "41 tensor(3.1145, grad_fn=<NllLossBackward0>)\n"
     ]
    }
   ],
   "source": [
    "#analogicznie dla pozotalych znakow\n",
    "for i in range(2, len(cytat9)):\n",
    "    output, hidden = model(target, hidden) #generuje hidden i output w oparciu o poprzedni znak i hidden\n",
    "    target = torch.Tensor([vocab1[cytat9[i]]]).long().unsqueeze(0) #jaki mial byc kolejny znak?\n",
    "    loss = criterion(output.reshape(-1, vocab_size),target.reshape(-1)) #na ile sie pokrywa przewidywany znak z tym co generuje model      \n",
    "    print(i, loss)"
   ]
  },
  {
   "cell_type": "code",
   "execution_count": 27,
   "metadata": {},
   "outputs": [
    {
     "name": "stdout",
     "output_type": "stream",
     "text": [
      "tensor(3.0567, grad_fn=<NllLossBackward0>)\n"
     ]
    }
   ],
   "source": [
    "#na koncu dla znaku konca sekwencji\n",
    "output, hidden = model(target, hidden)\n",
    "target = torch.Tensor([vocab1[\"<EOS>\"]]).long().unsqueeze(0)\n",
    "loss = criterion(output.reshape(-1, vocab_size),target.reshape(-1))             \n",
    "print(loss)"
   ]
  },
  {
   "cell_type": "markdown",
   "metadata": {},
   "source": [
    "<h4>Krótsze rozwiązanie\n"
   ]
  },
  {
   "cell_type": "code",
   "execution_count": 28,
   "metadata": {},
   "outputs": [
    {
     "name": "stdout",
     "output_type": "stream",
     "text": [
      "['<BOS>', 'F', 'r', 'o', 'm', ' ', 'a', ' ', 's', 'm', 'a', 'l', 'l', ' ', 's', 'e', 'e', 'd', ' ', 'a', ' ', 'm', 'i', 'g', 'h', 't', 'y', ' ', 't', 'r', 'u', 'n', 'k', ' ', 'm', 'a', 'y', ' ', 'g', 'r', 'o', 'w', '.', '<EOS>']\n"
     ]
    }
   ],
   "source": [
    "cytat_ch = [\"<BOS>\"] + list(cytat9) + [\"<EOS>\"]\n",
    "print(cytat_ch)"
   ]
  },
  {
   "cell_type": "code",
   "execution_count": 29,
   "metadata": {},
   "outputs": [
    {
     "name": "stdout",
     "output_type": "stream",
     "text": [
      "[20, 1, 11, 3, 16, 9, 17, 9, 15, 16, 17, 12, 12, 9, 15, 10, 10, 0, 9, 17, 9, 16, 13, 14, 18, 7, 2, 9, 7, 11, 5, 19, 8, 9, 16, 17, 2, 9, 14, 11, 3, 6, 4, 21]\n"
     ]
    }
   ],
   "source": [
    "cytat_indices = [vocab1[ch] for ch in cytat_ch] #indeksy\n",
    "print(cytat_indices)"
   ]
  },
  {
   "cell_type": "code",
   "execution_count": 30,
   "metadata": {},
   "outputs": [
    {
     "name": "stdout",
     "output_type": "stream",
     "text": [
      "tensor([[20,  1, 11,  3, 16,  9, 17,  9, 15, 16, 17, 12, 12,  9, 15, 10, 10,  0,\n",
      "          9, 17,  9, 16, 13, 14, 18,  7,  2,  9,  7, 11,  5, 19,  8,  9, 16, 17,\n",
      "          2,  9, 14, 11,  3,  6,  4, 21]])\n"
     ]
    }
   ],
   "source": [
    "cytat_tensor = torch.Tensor(cytat_indices).long().unsqueeze(0) #przerabiamy na tensor\n",
    "print(cytat_tensor) "
   ]
  },
  {
   "cell_type": "code",
   "execution_count": 31,
   "metadata": {},
   "outputs": [
    {
     "name": "stdout",
     "output_type": "stream",
     "text": [
      "torch.Size([1, 44])\n"
     ]
    }
   ],
   "source": [
    "print(cytat_tensor.shape)"
   ]
  },
  {
   "cell_type": "code",
   "execution_count": 32,
   "metadata": {},
   "outputs": [
    {
     "name": "stdout",
     "output_type": "stream",
     "text": [
      "tensor([[20,  1, 11,  3, 16,  9, 17,  9, 15, 16, 17, 12, 12,  9, 15, 10, 10,  0,\n",
      "          9, 17,  9, 16, 13, 14, 18,  7,  2,  9,  7, 11,  5, 19,  8,  9, 16, 17,\n",
      "          2,  9, 14, 11,  3,  6,  4]])\n"
     ]
    }
   ],
   "source": [
    "print(cytat_tensor[:,:-1])  #bez EOS"
   ]
  },
  {
   "cell_type": "code",
   "execution_count": 33,
   "metadata": {},
   "outputs": [
    {
     "name": "stdout",
     "output_type": "stream",
     "text": [
      "tensor([[ 1, 11,  3, 16,  9, 17,  9, 15, 16, 17, 12, 12,  9, 15, 10, 10,  0,  9,\n",
      "         17,  9, 16, 13, 14, 18,  7,  2,  9,  7, 11,  5, 19,  8,  9, 16, 17,  2,\n",
      "          9, 14, 11,  3,  6,  4, 21]])\n"
     ]
    }
   ],
   "source": [
    "print(cytat_tensor[:,1:])  #bez BOS"
   ]
  },
  {
   "cell_type": "code",
   "execution_count": 34,
   "metadata": {},
   "outputs": [
    {
     "name": "stdout",
     "output_type": "stream",
     "text": [
      "tensor(3.1317, grad_fn=<NllLossBackward0>)\n"
     ]
    }
   ],
   "source": [
    "#mozna przejsc wszystkie znaki bez pętli for\n",
    "\n",
    "output, hidden = model(cytat_tensor[:,:-1])\n",
    "target = cytat_tensor[:,1:]                 \n",
    "loss = criterion(output.reshape(-1, vocab_size), target.reshape(-1))\n",
    "print(loss) #taka zbiorcza wartosc funkcji kosztu"
   ]
  },
  {
   "cell_type": "code",
   "execution_count": 35,
   "metadata": {},
   "outputs": [
    {
     "name": "stdout",
     "output_type": "stream",
     "text": [
      "[Iter 300] Loss value: 1.0709996223449707\n",
      "[Iter 600] Loss value: 0.15126468241214752\n",
      "[Iter 900] Loss value: 0.04709853604435921\n",
      "[Iter 1200] Loss value: 0.02358001098036766\n",
      "[Iter 1500] Loss value: 0.014323363080620766\n",
      "[Iter 1800] Loss value: 0.009610854089260101\n",
      "[Iter 2100] Loss value: 0.006851714104413986\n",
      "[Iter 2400] Loss value: 0.0050923689268529415\n",
      "[Iter 2700] Loss value: 0.0039008131716400385\n",
      "[Iter 3000] Loss value: 0.0030554949771612883\n"
     ]
    }
   ],
   "source": [
    "#Trening \n",
    "\n",
    "optimizer = torch.optim.Adam(model.parameters(), lr=0.001) #optymalizator\n",
    "criterion = nn.CrossEntropyLoss()                          #funkcja kosztu\n",
    "for it in range(3000):\n",
    "    optimizer.zero_grad()\n",
    "    output, hidden = model(cytat_tensor[:,:-1])\n",
    "    loss = criterion(output.reshape(-1, vocab_size),target.reshape(-1))\n",
    "    loss.backward()\n",
    "    optimizer.step()\n",
    "    if (it+1) % 300 == 0:  #jak sobie radzi nasz model co 100 epoke?\n",
    "        print(f\"[Iter {it+1}] Loss value: {float(loss)}\")"
   ]
  },
  {
   "cell_type": "markdown",
   "metadata": {},
   "source": [
    "<h4> Generowanie nowego tekstu na podstawie modelu."
   ]
  },
  {
   "cell_type": "code",
   "execution_count": 36,
   "metadata": {},
   "outputs": [],
   "source": [
    "#funkcja do generowania nowej sekwencji\n",
    "#będziemy lekko modyfikowac prawdopodobienstwa wylosowania danego znaku poprzez czynnik temperaturowy, gdy T=1, to nie zmieniamy, gdy T<1 to zwiększamy prp wystapienia najbardziej prawdopodobnych znakow, gdy T>1 to zmniejszamy prp najbardziej prawdopodobnych znakow\n",
    "\n",
    "\n",
    "def sample_sequence(model, max_len=100, temperature=0.8):\n",
    "    generated_sequence = \"\" #tu będzie przechowywana wygenerowana sekwencja\n",
    "    inp = torch.Tensor([vocab1[\"<BOS>\"]]).long() #zaczynamy od BOS\n",
    "    hidden = None\n",
    "    for p in range(max_len):\n",
    "        output, hidden = model(inp.unsqueeze(0), hidden) #co nam przeiwduje model?\n",
    "        output_dist = output.data.view(-1).div(temperature).exp() #uwzględniamy czynnik temperaturowy\n",
    "        top_i = int(torch.multinomial(output_dist, 1)[0]) #indeks przewidywanego znaku\n",
    "        predicted_char = vocab2[top_i] #przewidywany znak\n",
    "        if predicted_char == \"<EOS>\": #jakim przewidywanym znakiem jest EOS to konczymy\n",
    "            break\n",
    "        generated_sequence += predicted_char #dodajemy kolejny znak\n",
    "        inp = torch.Tensor([top_i]).long() #zapisujemy indeks w postaci tensora\n",
    "    return generated_sequence"
   ]
  },
  {
   "cell_type": "code",
   "execution_count": 37,
   "metadata": {},
   "outputs": [
    {
     "name": "stdout",
     "output_type": "stream",
     "text": [
      "From a small seed a mighty trunk may grow.\n"
     ]
    }
   ],
   "source": [
    "print(sample_sequence(model, temperature=0.4)) #T=0.4"
   ]
  },
  {
   "cell_type": "code",
   "execution_count": 38,
   "metadata": {},
   "outputs": [
    {
     "name": "stdout",
     "output_type": "stream",
     "text": [
      "From a small seed a mighty trunk may grow.\n"
     ]
    }
   ],
   "source": [
    "print(sample_sequence(model, temperature=1.0)) #T=1"
   ]
  },
  {
   "cell_type": "code",
   "execution_count": 39,
   "metadata": {},
   "outputs": [
    {
     "name": "stdout",
     "output_type": "stream",
     "text": [
      "From a small seed a mighty ttunk may groy.\n"
     ]
    }
   ],
   "source": [
    "print(sample_sequence(model, temperature=1.5)) #T=1.5"
   ]
  },
  {
   "cell_type": "code",
   "execution_count": 40,
   "metadata": {},
   "outputs": [
    {
     "name": "stdout",
     "output_type": "stream",
     "text": [
      "From a small seed ay aytw.rFrlr<BOS>may g\n"
     ]
    }
   ],
   "source": [
    "print(sample_sequence(model, temperature=2.0)) #T=2"
   ]
  },
  {
   "cell_type": "code",
   "execution_count": 41,
   "metadata": {},
   "outputs": [
    {
     "name": "stdout",
     "output_type": "stream",
     "text": [
      "wFeoo.sFiyk.mhtyoswnFFkmsrt iuumunk hlgiunk\n"
     ]
    }
   ],
   "source": [
    "print(sample_sequence(model, temperature=5.0))  #T=5"
   ]
  },
  {
   "cell_type": "markdown",
   "metadata": {},
   "source": [
    "<h4> Analiza wszytkich cytatów\n"
   ]
  },
  {
   "cell_type": "code",
   "execution_count": 42,
   "metadata": {},
   "outputs": [],
   "source": [
    "from torchtext.legacy.data import Field, TabularDataset, BucketIterator, Iterator\n",
    "\n",
    "text_field = Field(sequential=True, tokenize=lambda x: x, include_lengths=True, batch_first=True, use_vocab=True, init_token=\"<BOS>\", eos_token=\"<EOS>\")    \n",
    "fields = [('text', text_field)]\n",
    "cytaty = TabularDataset(\"cytaty.txt\", \"csv\", fields) #laduje sobie dane jeszcze raz"
   ]
  },
  {
   "cell_type": "code",
   "execution_count": 43,
   "metadata": {},
   "outputs": [
    {
     "data": {
      "text/plain": [
       "403"
      ]
     },
     "execution_count": 43,
     "metadata": {},
     "output_type": "execute_result"
    }
   ],
   "source": [
    "len(cytaty) "
   ]
  },
  {
   "cell_type": "code",
   "execution_count": 44,
   "metadata": {},
   "outputs": [
    {
     "data": {
      "text/plain": [
       "72"
      ]
     },
     "execution_count": 44,
     "metadata": {},
     "output_type": "execute_result"
    }
   ],
   "source": [
    "text_field.build_vocab(cytaty)\n",
    "\n",
    "vocab1 = text_field.vocab.stoi #nie musimy tego robic ręcznie\n",
    "vocab2 = text_field.vocab.itos #nie musimy tego robic ręcznie\n",
    "vocab_size = len(text_field.vocab.itos)\n",
    "vocab_size"
   ]
  },
  {
   "cell_type": "code",
   "execution_count": 45,
   "metadata": {},
   "outputs": [
    {
     "name": "stdout",
     "output_type": "stream",
     "text": [
      "tensor([41, 41, 41, 41, 40, 40, 40, 40, 40, 38, 38, 38, 38, 38, 37, 37])\n",
      "tensor([37, 37, 36, 36, 36, 36, 36, 36, 36, 36, 36, 36, 35, 35, 35, 35])\n",
      "tensor([86, 85, 84, 84, 83, 83, 83, 83, 82, 82, 82, 82, 81, 81, 81, 80])\n",
      "tensor([35, 34, 34, 34, 33, 33, 33, 33, 32, 32, 31, 31, 30, 30, 30, 30])\n",
      "tensor([63, 63, 63, 62, 62, 61, 61, 61, 61, 60, 60, 60, 60, 59, 59, 59])\n",
      "tensor([68, 68, 68, 67, 66, 66, 65, 65, 65, 65, 64, 64, 64, 64, 63, 63])\n",
      "tensor([79, 79, 78, 78, 77, 77, 77, 77, 77, 76, 76, 76, 76, 75, 75, 75])\n",
      "tensor([58, 58, 58, 58, 58, 57, 57, 57, 57, 56, 56, 56, 56, 55, 55, 55])\n",
      "tensor([46, 46, 46, 46, 45, 45, 45, 45, 45, 45, 44, 44, 44, 44, 44, 44])\n",
      "tensor([49, 49, 48, 48, 48, 48, 48, 48, 48, 48, 48, 47, 47, 47, 46, 46])\n",
      "tensor([74, 74, 73, 72, 71, 71, 71, 71, 71, 70, 69, 69, 69, 68, 68, 68])\n",
      "tensor([51, 51, 51, 51, 50, 50, 50, 50, 50, 50, 50, 49, 49, 49, 49, 49])\n",
      "tensor([44, 44, 44, 43, 43, 43, 43, 43, 43, 42, 42, 42, 42, 42, 42, 42])\n",
      "tensor([28, 27, 27, 27, 26, 26, 26, 26, 25, 25, 25, 24, 24, 24, 24, 24])\n",
      "tensor([108, 107, 107, 106, 104, 103, 102, 102, 102, 101, 101, 101,  98,  98,\n",
      "         97,  97])\n",
      "tensor([24, 24, 23, 23, 23, 23, 23, 23, 23, 23, 22, 22, 22, 22, 22, 22])\n",
      "tensor([172, 170, 168, 168, 166, 165, 164, 161, 160, 160, 158, 157, 156, 155,\n",
      "        152, 150])\n",
      "tensor([12, 12, 12, 11, 11, 11,  9,  9,  9,  9,  8,  8,  8,  7,  6,  4])\n",
      "tensor([229, 225, 216, 207, 200, 196, 195, 194, 193, 186, 185, 178, 175, 174,\n",
      "        173, 173])\n",
      "tensor([247, 247, 235])\n",
      "tensor([21, 21, 21, 20, 20, 20, 20, 20, 20, 18, 18, 17, 17, 16, 15, 12])\n",
      "tensor([30, 30, 30, 30, 30, 30, 30, 29, 29, 29, 29, 29, 29, 29, 28, 28])\n",
      "tensor([96, 96, 95, 95, 95, 95, 94, 94, 93, 90, 90, 89, 89, 89, 87, 86])\n",
      "tensor([131, 130, 126, 125, 123, 121, 119, 119, 118, 116, 116, 115, 113, 113,\n",
      "        109, 109])\n",
      "tensor([150, 149, 148, 146, 144, 142, 142, 141, 141, 140, 137, 137, 136, 135,\n",
      "        133, 133])\n",
      "tensor([55, 55, 54, 54, 54, 54, 54, 54, 54, 54, 54, 54, 53, 53, 52, 52])\n"
     ]
    }
   ],
   "source": [
    "#Batchowanie w sieciach rekurencyjnych - wstawka\n",
    "data_iter = BucketIterator(cytaty, batch_size=16, sort_key=lambda x: len(x.text), sort_within_batch=True)\n",
    "\n",
    "for (cytat, lengths), label in data_iter:\n",
    "    print(lengths) #dlugosc cytatow w jednym batchu"
   ]
  },
  {
   "cell_type": "code",
   "execution_count": 46,
   "metadata": {},
   "outputs": [],
   "source": [
    "#funkcja do trenowania modelu\n",
    "\n",
    "def train(model, data, batch_size=1, num_epochs=1, lr=0.001, print_every=100):\n",
    "    optimizer = torch.optim.Adam(model.parameters(), lr=lr) #optymalizator - Adam\n",
    "    criterion = nn.CrossEntropyLoss()  #Entropia krzyżowa jako funkcja koztu\n",
    "    it = 0  #licnzik iteraji\n",
    "    data_iter = BucketIterator(data, batch_size=batch_size, sort_key=lambda x: len(x.text), sort_within_batch=True)\n",
    "    \n",
    "    for e in range(num_epochs):\n",
    "        avg_loss = 0 #srednia wartosc funkcji kosztu\n",
    "        for (tweet, lengths), label in data_iter:\n",
    "            target = tweet[:, 1:] #bez BOS\n",
    "            inp = tweet[:, :-1]  #bez EOS\n",
    "            optimizer.zero_grad()\n",
    "            output, hidden = model(inp)\n",
    "            loss = criterion(output.reshape(-1, vocab_size), target.reshape(-1))\n",
    "            loss.backward()\n",
    "            optimizer.step()\n",
    "\n",
    "            avg_loss += loss\n",
    "            it += 1 # inkrementujemy liczbe iteracji\n",
    "            \n",
    "            if it % print_every == 0:  #co setną ierację pokaz srednią wartosc funkcji kosztu\n",
    "                print(f\"[Iter {it+1}] Loss {float(avg_loss/print_every)}\")\n",
    "                avg_loss = 0"
   ]
  },
  {
   "cell_type": "code",
   "execution_count": 47,
   "metadata": {},
   "outputs": [],
   "source": [
    "model = TextGenerator(vocab_size, 40) #budujemy model"
   ]
  },
  {
   "cell_type": "code",
   "execution_count": 48,
   "metadata": {},
   "outputs": [
    {
     "name": "stdout",
     "output_type": "stream",
     "text": [
      "[Iter 101] Loss 0.22996553778648376\n",
      "[Iter 201] Loss 0.1098194569349289\n",
      "[Iter 301] Loss 0.015256743878126144\n",
      "[Iter 401] Loss 0.1886453777551651\n",
      "[Iter 501] Loss 0.10235956311225891\n",
      "[Iter 601] Loss 0.03265569359064102\n",
      "[Iter 701] Loss 0.17500537633895874\n",
      "[Iter 801] Loss 0.10474497079849243\n",
      "[Iter 901] Loss 0.043717317283153534\n",
      "[Iter 1001] Loss 0.17315396666526794\n",
      "[Iter 1101] Loss 0.11181270331144333\n",
      "[Iter 1201] Loss 0.05601189658045769\n",
      "[Iter 1301] Loss 0.17299970984458923\n",
      "[Iter 1401] Loss 0.1137675940990448\n",
      "[Iter 1501] Loss 0.06057059392333031\n",
      "[Iter 1601] Loss 0.007530189584940672\n",
      "[Iter 1701] Loss 0.13070720434188843\n",
      "[Iter 1801] Loss 0.0664728432893753\n",
      "[Iter 1901] Loss 0.026708440855145454\n",
      "[Iter 2001] Loss 0.1339685022830963\n",
      "[Iter 2101] Loss 0.08049748092889786\n",
      "[Iter 2201] Loss 0.03516561910510063\n",
      "[Iter 2301] Loss 0.1420387625694275\n",
      "[Iter 2401] Loss 0.08406105637550354\n",
      "[Iter 2501] Loss 0.038467887789011\n",
      "[Iter 2601] Loss 0.14875061810016632\n"
     ]
    }
   ],
   "source": [
    "train(model, cytaty, batch_size=32, num_epochs=200, lr=0.004, print_every=100) #trenujemy model"
   ]
  },
  {
   "cell_type": "markdown",
   "metadata": {},
   "source": [
    "<h4> Zadanie2: Dlaczego liczba iteracji wynosiła ok 2600 skoro zadaliśmy liczbę epok na 200?\n"
   ]
  },
  {
   "cell_type": "markdown",
   "metadata": {},
   "source": [
    "<h4> Zadanie3: Poniżej wygenerowano dwie sekwencje (losowe cytaty) - jeden z temperaturą 0.6, drugi z 1.5. Który pochodzi z którego losowania? Dlaczego?"
   ]
  },
  {
   "cell_type": "code",
   "execution_count": 50,
   "metadata": {},
   "outputs": [
    {
     "name": "stdout",
     "output_type": "stream",
     "text": [
      "I believe to be a drouds the stiveled a alless inspirational of nows when I drife we like to mig to \n"
     ]
    }
   ],
   "source": [
    "print(sample_sequence(model, temperature = T))  #T=?"
   ]
  },
  {
   "cell_type": "code",
   "execution_count": 51,
   "metadata": {},
   "outputs": [
    {
     "name": "stdout",
     "output_type": "stream",
     "text": [
      "Withit maken van sigrent.\n"
     ]
    }
   ],
   "source": [
    "print(sample_sequence(model, temperature = T))  #T=?"
   ]
  },
  {
   "cell_type": "markdown",
   "metadata": {},
   "source": [
    "<h3> Prawdopodobieństwo pozostawienia słowa\n"
   ]
  },
  {
   "cell_type": "code",
   "execution_count": 3,
   "metadata": {},
   "outputs": [],
   "source": [
    "import numpy as np\n",
    "def P(w):\n",
    "    return min((np.sqrt(w/0.001)+1)*0.001/w,1)"
   ]
  },
  {
   "cell_type": "code",
   "execution_count": 54,
   "metadata": {},
   "outputs": [
    {
     "data": {
      "image/png": "[encoded data removed]",
      "text/plain": [
       "<Figure size 432x288 with 1 Axes>"
      ]
     },
     "metadata": {
      "needs_background": "light"
     },
     "output_type": "display_data"
    }
   ],
   "source": [
    "import matplotlib.pyplot as plt\n",
    "import numpy as np\n",
    "\n",
    "x = np.linspace(1e-10,1,100)\n",
    "y = np.array([P(elem) for elem in x])\n",
    "\n",
    "plt.plot(x,y)\n",
    "plt.show()"
   ]
  },
  {
   "cell_type": "markdown",
   "metadata": {},
   "source": [
    "<h4> Zadanie4: \n",
    "\n",
    "\n",
    "- Wyznacz prawdopodobieństwo pozostawienia słowa występującego w korpusie z częstością 4% oraz 100% (cały korpus to tylko to słowo), czyli  P(0.04), P(1). Skomentuj otrzymane wyniki\n",
    "\n",
    "- Dla jakiej wartości częstości prawdopodobieństwo pozostawienia wynosi w przybliżenu 0.5 i 1?"
   ]
  },
  {
   "cell_type": "markdown",
   "metadata": {},
   "source": [
    "<h3> Metody redukcji wymiarowości\n"
   ]
  },
  {
   "cell_type": "code",
   "execution_count": 55,
   "metadata": {},
   "outputs": [],
   "source": [
    "import torchtext\n",
    "glove = torchtext.vocab.GloVe(name=\"6B\", dim=50) #embeddingi 50D"
   ]
  },
  {
   "cell_type": "code",
   "execution_count": 56,
   "metadata": {},
   "outputs": [],
   "source": [
    "from sklearn.decomposition import PCA\n",
    "from sklearn.decomposition import TruncatedSVD\n",
    "from sklearn.manifold import TSNE\n",
    "from sklearn.manifold import MDS"
   ]
  },
  {
   "cell_type": "markdown",
   "metadata": {},
   "source": [
    "<h4> SVD"
   ]
  },
  {
   "cell_type": "code",
   "execution_count": 57,
   "metadata": {},
   "outputs": [
    {
     "name": "stdout",
     "output_type": "stream",
     "text": [
      "[[ 8  2 -1]\n",
      " [ 3  4  0]\n",
      " [ 4  1  3]]\n"
     ]
    }
   ],
   "source": [
    "A = np.array([[8,2,-1],[3,4,0],[4,1,3]])\n",
    "print(A)"
   ]
  },
  {
   "cell_type": "code",
   "execution_count": 58,
   "metadata": {},
   "outputs": [],
   "source": [
    "U, S, Vt = np.linalg.svd(A) #rozklad macierzy A,  A = USVt"
   ]
  },
  {
   "cell_type": "code",
   "execution_count": 59,
   "metadata": {},
   "outputs": [
    {
     "data": {
      "text/plain": [
       "array([[ 8.00000000e+00,  2.00000000e+00, -1.00000000e+00],\n",
       "       [ 3.00000000e+00,  4.00000000e+00, -3.76696205e-17],\n",
       "       [ 4.00000000e+00,  1.00000000e+00,  3.00000000e+00]])"
      ]
     },
     "execution_count": 59,
     "metadata": {},
     "output_type": "execute_result"
    }
   ],
   "source": [
    "np.dot(np.dot(U,np.diag(S)),Vt) #sprawdzenie "
   ]
  },
  {
   "cell_type": "code",
   "execution_count": 60,
   "metadata": {},
   "outputs": [
    {
     "data": {
      "text/plain": [
       "TruncatedSVD(random_state=42)"
      ]
     },
     "execution_count": 60,
     "metadata": {},
     "output_type": "execute_result"
    }
   ],
   "source": [
    "svd = TruncatedSVD(n_components=2, random_state=42) #truncated SVD\n",
    "svd.fit(A) "
   ]
  },
  {
   "cell_type": "code",
   "execution_count": 61,
   "metadata": {},
   "outputs": [
    {
     "data": {
      "text/plain": [
       "array([[ 0.92874673,  0.36804127,  0.04444244],\n",
       "       [ 0.07398789, -0.30149516,  0.95059269]])"
      ]
     },
     "execution_count": 61,
     "metadata": {},
     "output_type": "execute_result"
    }
   ],
   "source": [
    "Vt = svd.components_\n",
    "Vt"
   ]
  },
  {
   "cell_type": "code",
   "execution_count": 62,
   "metadata": {},
   "outputs": [
    {
     "data": {
      "text/plain": [
       "array([0.36801455, 0.35575045])"
      ]
     },
     "execution_count": 62,
     "metadata": {},
     "output_type": "execute_result"
    }
   ],
   "source": [
    "svd.explained_variance_ratio_"
   ]
  },
  {
   "cell_type": "code",
   "execution_count": 63,
   "metadata": {},
   "outputs": [
    {
     "data": {
      "text/plain": [
       "0.7237649989267075"
      ]
     },
     "execution_count": 63,
     "metadata": {},
     "output_type": "execute_result"
    }
   ],
   "source": [
    "svd.explained_variance_ratio_.sum()"
   ]
  },
  {
   "cell_type": "code",
   "execution_count": 64,
   "metadata": {},
   "outputs": [
    {
     "data": {
      "text/plain": [
       "array([10.09318001,  3.16135545])"
      ]
     },
     "execution_count": 64,
     "metadata": {},
     "output_type": "execute_result"
    }
   ],
   "source": [
    "svd.singular_values_"
   ]
  },
  {
   "cell_type": "markdown",
   "metadata": {},
   "source": [
    "<h4> PCA"
   ]
  },
  {
   "cell_type": "code",
   "execution_count": 65,
   "metadata": {},
   "outputs": [
    {
     "data": {
      "text/plain": [
       "(5, 3)"
      ]
     },
     "execution_count": 65,
     "metadata": {},
     "output_type": "execute_result"
    }
   ],
   "source": [
    "X = np.array([[1,-4,5],\n",
    "              [3,6,1],\n",
    "              [0,2,-13],\n",
    "              [5,6,8],\n",
    "              [-7,-2,1]])\n",
    "\n",
    "X.shape"
   ]
  },
  {
   "cell_type": "code",
   "execution_count": 66,
   "metadata": {},
   "outputs": [
    {
     "name": "stdout",
     "output_type": "stream",
     "text": [
      "[[-4.12824364  4.70132591]\n",
      " [-1.55726889 -4.7610173 ]\n",
      " [13.0398852  -2.97440901]\n",
      " [-8.80575535 -4.5213729 ]\n",
      " [ 1.45138268  7.55547331]]\n"
     ]
    }
   ],
   "source": [
    "pca = PCA(n_components=2).fit(X)\n",
    "X_pca = pca.transform(X)\n",
    "print(X_pca)"
   ]
  },
  {
   "cell_type": "code",
   "execution_count": 67,
   "metadata": {},
   "outputs": [
    {
     "name": "stdout",
     "output_type": "stream",
     "text": [
      "[0.63241054 0.30814109]\n"
     ]
    }
   ],
   "source": [
    "print(pca.explained_variance_ratio_)"
   ]
  },
  {
   "cell_type": "markdown",
   "metadata": {},
   "source": [
    "<h4> t-SNE"
   ]
  },
  {
   "cell_type": "code",
   "execution_count": 68,
   "metadata": {},
   "outputs": [
    {
     "name": "stdout",
     "output_type": "stream",
     "text": [
      "[[113.59251    -27.103952  ]\n",
      " [121.7994      69.201675  ]\n",
      " [134.00754     19.657959  ]\n",
      " [ 72.45755     50.437115  ]\n",
      " [ 68.14512     -0.25711372]]\n"
     ]
    }
   ],
   "source": [
    "X_tSNE = TSNE(n_components=2).fit_transform(X)\n",
    "print(X_tSNE)"
   ]
  },
  {
   "cell_type": "markdown",
   "metadata": {},
   "source": [
    "<h4> MDS"
   ]
  },
  {
   "cell_type": "code",
   "execution_count": 69,
   "metadata": {},
   "outputs": [
    {
     "name": "stdout",
     "output_type": "stream",
     "text": [
      "[[ 5.53521359 -4.72656974]\n",
      " [-4.69629383 -1.86894848]\n",
      " [-4.38960198 12.70101156]\n",
      " [-4.06579229 -9.07048815]\n",
      " [ 7.61647451  2.96499481]]\n"
     ]
    }
   ],
   "source": [
    "X_MDS = MDS(n_components=2).fit_transform(X)\n",
    "print(X_MDS)"
   ]
  },
  {
   "cell_type": "code",
   "execution_count": 70,
   "metadata": {},
   "outputs": [
    {
     "data": {
      "image/png": "[encoded data removed]",
      "text/plain": [
       "<Figure size 432x288 with 1 Axes>"
      ]
     },
     "metadata": {
      "needs_background": "light"
     },
     "output_type": "display_data"
    }
   ],
   "source": [
    "X = []\n",
    "words = ['woman', 'man', 'sister','brother', 'uncle', 'aunt', 'mother', 'father'] #wybieram grupe slow\n",
    "for word in words:\n",
    "    X.append(glove[word].tolist()) #patrze jakie mają embeddingi\n",
    "    \n",
    "X = np.array(X) #tworze z nich macierz\n",
    "\n",
    "pca = PCA(n_components=2)\n",
    "pca.fit(X)\n",
    "X_pca = pca.transform(X)  #redukuje liczbe zmiennych z 50 do 2 dla kazdego slowa\n",
    "\n",
    "\n",
    "#Do rysowania: \n",
    "\n",
    "x = X_pca[:,0] #pierwsza zmienna\n",
    "y = X_pca[:,1] #druga zmienna\n",
    "\n",
    "\n",
    "plt.scatter(x,y)\n",
    "\n",
    "for i, txt in enumerate(words):\n",
    "    plt.annotate(txt, (x[i], y[i]))\n",
    "    \n",
    "for i in range(0, len(x), 2):\n",
    "    plt.plot(x[i:i+2], y[i:i+2], 'ro-')\n",
    "    \n",
    "plt.show()"
   ]
  },
  {
   "cell_type": "markdown",
   "metadata": {},
   "source": [
    "<h4> Zadanie5:\n",
    "\n",
    "Zaznacz na płaszczyźnie (i połącz linią) następujące nazwy państw/stolic: 'france', 'paris', 'poland', 'warsaw', 'germany', 'berlin', 'netherlands', 'amsterdam'. Do redukcji ilości zmiennych wykorzystaj PCA."
   ]
  },
  {
   "cell_type": "markdown",
   "metadata": {},
   "source": [
    "<h4> Zadanie6:\n",
    "\n",
    "Zaznacz na płaszczyźnie (nie łącz) następujące słowa: 'dog', 'cat', 'cow', 'horse', 'sheep', 'sunflower', 'carrot', 'salad', 'potato','cucumber'. Do redukcji ilości zmiennych wykorzystaj MDS. Czy obserwujesz jakąś zależność?"
   ]
  }
 ],
 "metadata": {
  "kernelspec": {
   "display_name": "Python 3",
   "language": "python",
   "name": "python3"
  },
  "language_info": {
   "codemirror_mode": {
    "name": "ipython",
    "version": 3
   },
   "file_extension": ".py",
   "mimetype": "text/x-python",
   "name": "python",
   "nbconvert_exporter": "python",
   "pygments_lexer": "ipython3",
   "version": "3.8.5"
  }
 },
 "nbformat": 4,
 "nbformat_minor": 5
}
