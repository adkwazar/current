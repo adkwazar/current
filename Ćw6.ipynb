{
 "cells": [
  {
   "cell_type": "markdown",
   "metadata": {},
   "source": [
    "Python 2023/2024, Adrian Kania, Ćwiczenia6"
   ]
  },
  {
   "cell_type": "code",
   "execution_count": 5,
   "metadata": {},
   "outputs": [],
   "source": [
    "import re"
   ]
  },
  {
   "cell_type": "code",
   "execution_count": 6,
   "metadata": {},
   "outputs": [
    {
     "name": "stdout",
     "output_type": "stream",
     "text": [
      "(2, 4)\n"
     ]
    }
   ],
   "source": [
    "s = 'ATTCTCCGGAGCCAATGCGGCGCTAGGAAATCAACAAT'\n",
    "t1 = re.search(r'T[CA]', s) \n",
    "print(t1.span()) #polozenie dla pierwszego znalezionego"
   ]
  },
  {
   "cell_type": "code",
   "execution_count": 7,
   "metadata": {},
   "outputs": [
    {
     "name": "stdout",
     "output_type": "stream",
     "text": [
      "TC\n"
     ]
    }
   ],
   "source": [
    "print(s[2:4]) "
   ]
  },
  {
   "cell_type": "code",
   "execution_count": 8,
   "metadata": {},
   "outputs": [
    {
     "name": "stdout",
     "output_type": "stream",
     "text": [
      "[((2, 4), 'TC'), ((4, 6), 'TC'), ((23, 25), 'TA'), ((30, 32), 'TC')]\n"
     ]
    }
   ],
   "source": [
    "s = 'ATTCTCCGGAGCCAATGCGGCGCTAGGAAATCAACAAT'\n",
    "\n",
    "t2 = [(match.span(),match.group()) for match in re.finditer(r'T[CA]',s)]\n",
    "print(t2)"
   ]
  },
  {
   "cell_type": "markdown",
   "metadata": {},
   "source": [
    "<h4> Grupy"
   ]
  },
  {
   "cell_type": "code",
   "execution_count": 31,
   "metadata": {},
   "outputs": [
    {
     "data": {
      "text/plain": [
       "'GTATAAAACC'"
      ]
     },
     "execution_count": 31,
     "metadata": {},
     "output_type": "execute_result"
    }
   ],
   "source": [
    "#zwielokrotnij wszystkie wystapienia TA, ktore leżą pomiędzy A i G\n",
    "\n",
    "import re\n",
    "tekst = \"GATAGCC\"   \n",
    "re.sub(r'(A)(TA)(G)', lambda x: x.group(2)*2+x.group(1)*3, tekst)   #()()() #to co w pierwszym () to group(1) itd"
   ]
  },
  {
   "cell_type": "code",
   "execution_count": 32,
   "metadata": {},
   "outputs": [
    {
     "name": "stdout",
     "output_type": "stream",
     "text": [
      "['1', '1', '2', '1', 'ab', '123']\n"
     ]
    }
   ],
   "source": [
    "text = \"11 1122 1134 abab 123123\"\n",
    "match = re.findall(r\"(.+)\\1\", text)  #\\1 znaczy to samo co wyzej group(1)\n",
    "print(match)"
   ]
  },
  {
   "cell_type": "code",
   "execution_count": 11,
   "metadata": {},
   "outputs": [
    {
     "name": "stdout",
     "output_type": "stream",
     "text": [
      "['11']\n"
     ]
    }
   ],
   "source": [
    "text = \"11 1122 1134 abab 123123\" \n",
    "match = re.findall(r\"(.+) \\1\", text)\n",
    "print(match)"
   ]
  },
  {
   "cell_type": "markdown",
   "metadata": {},
   "source": [
    "<h4> Zadanie1:  Dana jest lista stringów zawierających imie i nazwisko (dla przykładu L = [\"Adam Nowak\", \"Kasia Klimczak\", \"Maria Rudzik\"]). Napisać wyrażenie regularne, które zwróci nam elementy listy, w których obydwa słowa rozpoczynają się od tej samej litery."
   ]
  },
  {
   "cell_type": "markdown",
   "metadata": {},
   "source": [
    "<h4> Zadanie2: Napisać wyrażenie wyznaczające liczbę najdłuższych podsekwencji występujących w zadanej sekwencji co najmniej trzy razy po sobie.\n",
    "\n",
    "Wynikiem działania tego wyrażenia na: sekwencja = \"ATTTGGCGAGAGACATCATCATCAT\" powinno być ['T', 'GA', 'CAT']"
   ]
  },
  {
   "cell_type": "markdown",
   "metadata": {},
   "source": [
    "<h4> Zadanie3: Napisać wyrażenie regularne, które wstawia spację pomiędzy małą a wielką literą. Dla przykładu działanie tego wyrażenia na \"Mam na imię AdamNowak.\" powinno zwrócić \"Mam na imię Adam Nowak.\""
   ]
  },
  {
   "cell_type": "markdown",
   "metadata": {},
   "source": [
    "<h4> Zadanie4: Napisać wyrażenie regularne, które w zadanym tekście zmieni wszystkie daty z formatu: YY-MM-DD na DD-MM-YY. Przykładowo zamieni 2019-11-28 na 28-11-2019."
   ]
  },
  {
   "cell_type": "markdown",
   "metadata": {},
   "source": [
    "<h4> Zadanie5: Często przy pisaniu dłuższych tekstów zdarza się pisać obydwie litery początkowych wyrazów jako wielkie. Dla przykładu: \"DZisiaj jest czwartek. JUtro będzie piątek\". Proszę napisać wyrażenie regularne które poprawi tego typu błędy."
   ]
  },
  {
   "cell_type": "markdown",
   "metadata": {},
   "source": [
    "<h4> Zadanie6: Korzystając w wyrażeń regularnych, przekształcić zadany ciąg zdań (o losowej wielkości liter) na zdania zaczynające się od dużej litery (a kolejne będą już małe)."
   ]
  },
  {
   "cell_type": "code",
   "execution_count": 7,
   "metadata": {},
   "outputs": [
    {
     "name": "stdout",
     "output_type": "stream",
     "text": [
      "[('>sewkencja1', 'ATGGGAGAGAGA\\nTGGAGAGGAGAG\\nTCGGCGCGCGCC\\nATAGAGAG\\n'), ('>sekwencja2', 'TAGGAAGGAGAA\\nTCGCGGGCGCGC')]\n"
     ]
    }
   ],
   "source": [
    "import re\n",
    "fasta_file = \"\"\"\n",
    ">sewkencja1\n",
    "ATGGGAGAGAGA\n",
    "TGGAGAGGAGAG\n",
    "TCGGCGCGCGCC\n",
    "ATAGAGAG\n",
    ">sekwencja2\n",
    "TAGGAAGGAGAA\n",
    "TCGCGGGCGCGC              \n",
    "TGGG\"\"\"\n",
    "\n",
    "l = re.findall(\"(>.*)\\n([ATGCNatgcn\\n]*)\", fasta_file)\n",
    "print(l)"
   ]
  },
  {
   "cell_type": "markdown",
   "metadata": {},
   "source": [
    "<h4> Zadanie7: Napisz funkcję, która pobiera z pliku FASTA sekwencje (argumentem tej funkcji jest nazwa pliku) i zapisuje je do słownika - klucze to nazwy sekwencji a wartości to sekwencje."
   ]
  },
  {
   "cell_type": "markdown",
   "metadata": {},
   "source": [
    "<h3> Flagi w re"
   ]
  },
  {
   "cell_type": "markdown",
   "metadata": {},
   "source": [
    "<h4> re.IGNORCASE"
   ]
  },
  {
   "cell_type": "code",
   "execution_count": 13,
   "metadata": {},
   "outputs": [],
   "source": [
    "x = \"ATGCActacacTA\""
   ]
  },
  {
   "cell_type": "code",
   "execution_count": 14,
   "metadata": {},
   "outputs": [
    {
     "name": "stdout",
     "output_type": "stream",
     "text": [
      "['ta', 'ca']\n"
     ]
    }
   ],
   "source": [
    "r1 = re.findall(r\"[tc]a\", x) \n",
    "print(r1)"
   ]
  },
  {
   "cell_type": "code",
   "execution_count": 15,
   "metadata": {},
   "outputs": [
    {
     "name": "stdout",
     "output_type": "stream",
     "text": [
      "['CA', 'ta', 'ca', 'TA']\n"
     ]
    }
   ],
   "source": [
    "r1 = re.findall(r\"[tc]a\", x, re.I) #re.I = re.IGNORCASE - ignoruj wielkość liter\n",
    "print(r1)"
   ]
  },
  {
   "cell_type": "markdown",
   "metadata": {},
   "source": [
    "<h4> re.MULTILINE"
   ]
  },
  {
   "cell_type": "code",
   "execution_count": 16,
   "metadata": {},
   "outputs": [],
   "source": [
    "x = \"\"\"abc\n",
    "def\n",
    "adm\n",
    "gam\n",
    "efg\n",
    "abc\n",
    "ghi\"\"\""
   ]
  },
  {
   "cell_type": "code",
   "execution_count": 17,
   "metadata": {},
   "outputs": [
    {
     "name": "stdout",
     "output_type": "stream",
     "text": [
      "abc\n",
      "def\n",
      "adm\n",
      "gam\n",
      "efg\n",
      "abc\n",
      "ghi\n"
     ]
    }
   ],
   "source": [
    "print(x)"
   ]
  },
  {
   "cell_type": "code",
   "execution_count": 18,
   "metadata": {},
   "outputs": [
    {
     "name": "stdout",
     "output_type": "stream",
     "text": [
      "['abc', 'adm', 'am', 'abc']\n"
     ]
    }
   ],
   "source": [
    "r2 = re.findall(r\"a[a-z]+\", x) \n",
    "print(r2)"
   ]
  },
  {
   "cell_type": "code",
   "execution_count": 19,
   "metadata": {},
   "outputs": [
    {
     "name": "stdout",
     "output_type": "stream",
     "text": [
      "['abc']\n"
     ]
    }
   ],
   "source": [
    "r3 = re.findall(r\"^a[a-z]+\", x)\n",
    "print(r3)"
   ]
  },
  {
   "cell_type": "code",
   "execution_count": 20,
   "metadata": {},
   "outputs": [
    {
     "name": "stdout",
     "output_type": "stream",
     "text": [
      "['abc', 'adm', 'abc']\n"
     ]
    }
   ],
   "source": [
    "r4 = re.findall(r\"^a[a-z]+\", x, re.M) #re.M  = re.MULTILINE, sprawdzi czy zaczyna się ^ lub kończy $ w każdej linijce\n",
    "print(r4)"
   ]
  },
  {
   "cell_type": "markdown",
   "metadata": {},
   "source": [
    "<h4> re.DOTALL"
   ]
  },
  {
   "cell_type": "code",
   "execution_count": 21,
   "metadata": {},
   "outputs": [],
   "source": [
    "x = \"\"\"once upon a time,\n",
    "there lived a king\"\"\""
   ]
  },
  {
   "cell_type": "code",
   "execution_count": 22,
   "metadata": {},
   "outputs": [
    {
     "name": "stdout",
     "output_type": "stream",
     "text": [
      "once upon a time,\n",
      "there lived a king\n"
     ]
    }
   ],
   "source": [
    "print(x)"
   ]
  },
  {
   "cell_type": "code",
   "execution_count": 23,
   "metadata": {},
   "outputs": [
    {
     "name": "stdout",
     "output_type": "stream",
     "text": [
      "['once upon a time,', 'there lived a king']\n"
     ]
    }
   ],
   "source": [
    "r5 = re.findall(r\".+\", x) \n",
    "print(r5)"
   ]
  },
  {
   "cell_type": "code",
   "execution_count": 24,
   "metadata": {},
   "outputs": [
    {
     "name": "stdout",
     "output_type": "stream",
     "text": [
      "['once upon a time,\\nthere lived a king']\n"
     ]
    }
   ],
   "source": [
    "r6 = re.findall(r\".+\", x, re.S)  #re.S =re.DOTALL , wtedy  . objejmuje tez nową linię\n",
    "print(r6)"
   ]
  },
  {
   "cell_type": "markdown",
   "metadata": {},
   "source": [
    "<h3> Wstęp do programowania obiektowego"
   ]
  },
  {
   "cell_type": "code",
   "execution_count": 46,
   "metadata": {},
   "outputs": [],
   "source": [
    "class Osoba:\n",
    "    def __init__(self, imie, wiek):\n",
    "        self.imie = imie\n",
    "        self.wiek = wiek"
   ]
  },
  {
   "cell_type": "code",
   "execution_count": 47,
   "metadata": {},
   "outputs": [],
   "source": [
    "x = Osoba(\"Kasia\", 25)"
   ]
  },
  {
   "cell_type": "code",
   "execution_count": 48,
   "metadata": {},
   "outputs": [
    {
     "name": "stdout",
     "output_type": "stream",
     "text": [
      "<__main__.Osoba object at 0x000001FF0C30EA60>\n"
     ]
    }
   ],
   "source": [
    "print(x)"
   ]
  },
  {
   "cell_type": "code",
   "execution_count": 49,
   "metadata": {},
   "outputs": [
    {
     "name": "stdout",
     "output_type": "stream",
     "text": [
      "Kasia\n"
     ]
    }
   ],
   "source": [
    "print(x.imie)"
   ]
  },
  {
   "cell_type": "code",
   "execution_count": 50,
   "metadata": {},
   "outputs": [
    {
     "name": "stdout",
     "output_type": "stream",
     "text": [
      "25\n"
     ]
    }
   ],
   "source": [
    "print(x.wiek)"
   ]
  },
  {
   "cell_type": "code",
   "execution_count": 51,
   "metadata": {},
   "outputs": [
    {
     "name": "stdout",
     "output_type": "stream",
     "text": [
      "<class '__main__.Osoba'>\n"
     ]
    }
   ],
   "source": [
    "print(type(x))"
   ]
  },
  {
   "cell_type": "markdown",
   "metadata": {},
   "source": [
    "print(dir(x))"
   ]
  },
  {
   "cell_type": "code",
   "execution_count": 57,
   "metadata": {},
   "outputs": [],
   "source": [
    "class Osoba:\n",
    "    def __init__(self, imie, wiek):\n",
    "        self.imie = imie\n",
    "        self.wiek = wiek\n",
    "    \n",
    "    def przedstaw_sie(self):\n",
    "        return f'Witaj! Nazywam sie {self.imie}.'\n",
    "    \n",
    "    def ile_mam_lat(self):\n",
    "        return f'Mam {self.wiek} lat'"
   ]
  },
  {
   "cell_type": "code",
   "execution_count": 59,
   "metadata": {},
   "outputs": [
    {
     "name": "stdout",
     "output_type": "stream",
     "text": [
      "Mam 25 lat\n"
     ]
    }
   ],
   "source": [
    "x = Osoba(\"Kasia\", 25)\n",
    "\n",
    "print(x.ile_mam_lat())"
   ]
  },
  {
   "cell_type": "code",
   "execution_count": 56,
   "metadata": {},
   "outputs": [
    {
     "name": "stdout",
     "output_type": "stream",
     "text": [
      "['__class__', '__delattr__', '__dict__', '__dir__', '__doc__', '__eq__', '__format__', '__ge__', '__getattribute__', '__gt__', '__hash__', '__init__', '__init_subclass__', '__le__', '__lt__', '__module__', '__ne__', '__new__', '__reduce__', '__reduce_ex__', '__repr__', '__setattr__', '__sizeof__', '__str__', '__subclasshook__', '__weakref__', 'ile_mama_lat', 'imie', 'przedstaw_sie', 'wiek']\n"
     ]
    }
   ],
   "source": [
    "print(dir(x))"
   ]
  },
  {
   "cell_type": "markdown",
   "metadata": {},
   "source": [
    "<h4> Zadanie8: Zdefiniuj klasę DNA, która posiada pole sekwencja. Klasa ta powinna mieć dwie metody, pozwalające wyznaczyć sekwencje komplementarną oraz zliczającą tyminy. Wywołaj te klase dla przykładowej instancji."
   ]
  },
  {
   "cell_type": "code",
   "execution_count": 60,
   "metadata": {},
   "outputs": [],
   "source": [
    "class DNA:\n",
    "    def __init__(self, sequence):\n",
    "        pass\n",
    "    def komplementarna(self):\n",
    "        pass\n",
    "    def ile_tymin(self):\n",
    "        pass"
   ]
  }
 ],
 "metadata": {
  "kernelspec": {
   "display_name": "Python 3",
   "language": "python",
   "name": "python3"
  },
  "language_info": {
   "codemirror_mode": {
    "name": "ipython",
    "version": 3
   },
   "file_extension": ".py",
   "mimetype": "text/x-python",
   "name": "python",
   "nbconvert_exporter": "python",
   "pygments_lexer": "ipython3",
   "version": "3.8.5"
  }
 },
 "nbformat": 4,
 "nbformat_minor": 2
}
