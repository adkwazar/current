{
 "cells": [
  {
   "cell_type": "markdown",
   "id": "7795c54f",
   "metadata": {},
   "source": [
    "<h4> Problem testowania wielu hipotez"
   ]
  },
  {
   "cell_type": "code",
   "execution_count": 51,
   "id": "ea8d0fbe",
   "metadata": {},
   "outputs": [
    {
     "name": "stdout",
     "output_type": "stream",
     "text": [
      "          x1        x2          x3         x4         x5         x6         x7\n",
      "1  0.1517625 0.8769762 0.479656416 0.88807513 0.55452071 0.45364881 0.51681870\n",
      "2  0.9659410 0.6141504 0.278917585 0.11624687 0.50716065 0.02737966 0.21707486\n",
      "3  0.6893987 0.8889160 0.003717388 0.76602062 0.55910631 0.84295853 0.30023037\n",
      "4  0.6935325 0.8915585 0.482621814 0.96433201 0.23708665 0.35134870 0.91761401\n",
      "5  0.7793549 0.2882533 0.798764063 0.83372196 0.86074014 0.29081830 0.95105327\n",
      "6  0.9385063 0.9371172 0.190622811 0.81066628 0.84116473 0.71256010 0.44559432\n",
      "7  0.2230799 0.6021071 0.550568787 0.98908783 0.11256259 0.90629223 0.87166445\n",
      "8  0.5838892 0.9398664 0.948175797 0.29937046 0.23896264 0.40544109 0.78991793\n",
      "9  0.8561472 0.9431413 0.258801522 0.08089594 0.73370131 0.74180774 0.08327653\n",
      "10 0.9341386 0.6996976 0.728294100 0.11438275 0.09756577 0.54593279 0.98630784\n",
      "          x8          x9        x10\n",
      "1  0.5828390 0.355733722 0.42111446\n",
      "2  0.3027436 0.000167401 0.87558923\n",
      "3  0.4817403 0.304250044 0.96661014\n",
      "4  0.8052899 0.630382357 0.02793378\n",
      "5  0.6371339 0.034177699 0.66409584\n",
      "6  0.1655911 0.651966999 0.08155184\n",
      "7  0.9533159 0.921261426 0.37654552\n",
      "8  0.1934353 0.412342561 0.76705440\n",
      "9  0.7556089 0.203218309 0.30888372\n",
      "10 0.2367614 0.250392454 0.86611662\n"
     ]
    }
   ],
   "source": [
    "d = data.frame(x1 = runif(10), x2 = runif(10), x3 = runif(10), x4 = runif(10), x5 = runif(10), x6 = runif(10), x7 = runif(10), x8 = runif(10), x9 = runif(10), x10 = runif(10))\n",
    "print(d)"
   ]
  },
  {
   "cell_type": "code",
   "execution_count": 52,
   "id": "ec47cecb",
   "metadata": {},
   "outputs": [
    {
     "name": "stdout",
     "output_type": "stream",
     "text": [
      " [1] 0.457761049 0.126343033 0.538529376 0.125905033 0.238701269 0.605976967\n",
      " [7] 0.197430757 0.029534438 0.313956365 0.020603602 0.211401946 0.019651652\n",
      "[13] 0.043894468 0.223190563 0.034327876 0.003184092 0.086548467 0.465567734\n",
      "[19] 0.986494594 0.667349120 0.349835311 0.762741461 0.473545980 0.660551814\n",
      "[25] 0.470547671 0.700182945 0.894546657 0.624389560 0.184588969 0.757516146\n",
      "[31] 0.676090587 0.352944771 0.773121201 0.458086415 0.668683201 0.567115023\n",
      "[37] 0.896415820 0.245195395 0.955987569 0.494269720 0.116004681 0.637281404\n",
      "[43] 0.301642014 0.864267829 0.273382720\n"
     ]
    }
   ],
   "source": [
    "p_values = c()\n",
    "for (i in 1:9){\n",
    "    for (j in (i+1):10){\n",
    "            p_values = append(p_values, t.test(x=d[,i], y=d[,j] ,conf.level=0.90)$p.value)\n",
    "    }\n",
    "}\n",
    "\n",
    "print(p_values)"
   ]
  },
  {
   "cell_type": "markdown",
   "id": "2ac286b3",
   "metadata": {},
   "source": [
    "<h4> Zadanie1: Jeżeli przy wykonywaniu jednego testu prawdopodobieństwo popełnienia błędu wynosi $\\alpha=0.05$ (czyli prawdopodobieństwo nie popełnienia błędu wynosi $0.95$) to ile wynosi prawdopodobieństwo, że popełnimy chociaż jeden błąd testując 10 niezależnych hipotez?"
   ]
  },
  {
   "cell_type": "markdown",
   "id": "12b1f399",
   "metadata": {},
   "source": [
    "<h4> T-test"
   ]
  },
  {
   "cell_type": "markdown",
   "id": "275262a3",
   "metadata": {},
   "source": [
    "$H_0: \\mu_1 = \\mu_2$ \n",
    "\n",
    "$H_1: \\mu_1 \\neq \\mu_2$\n",
    "\n",
    "Założenia:\n",
    "- rozkład normalny\n",
    "- ta sama wariancja\n",
    "- niezależność"
   ]
  },
  {
   "cell_type": "code",
   "execution_count": 3,
   "id": "3ed12c1c",
   "metadata": {},
   "outputs": [
    {
     "data": {
      "text/html": [
       "<table>\n",
       "<thead><tr><th scope=col>id</th><th scope=col>sleep</th><th scope=col>group</th></tr></thead>\n",
       "<tbody>\n",
       "\t<tr><td>1        </td><td>8.145150 </td><td>control  </td></tr>\n",
       "\t<tr><td>2        </td><td>7.522362 </td><td>treatment</td></tr>\n",
       "\t<tr><td>3        </td><td>6.935754 </td><td>control  </td></tr>\n",
       "\t<tr><td>4        </td><td>8.959435 </td><td>treatment</td></tr>\n",
       "\t<tr><td>5        </td><td>6.985122 </td><td>control  </td></tr>\n",
       "\t<tr><td>6        </td><td>8.072651 </td><td>treatment</td></tr>\n",
       "</tbody>\n",
       "</table>\n"
      ],
      "text/latex": [
       "\\begin{tabular}{r|lll}\n",
       " id & sleep & group\\\\\n",
       "\\hline\n",
       "\t 1         & 8.145150  & control  \\\\\n",
       "\t 2         & 7.522362  & treatment\\\\\n",
       "\t 3         & 6.935754  & control  \\\\\n",
       "\t 4         & 8.959435  & treatment\\\\\n",
       "\t 5         & 6.985122  & control  \\\\\n",
       "\t 6         & 8.072651  & treatment\\\\\n",
       "\\end{tabular}\n"
      ],
      "text/markdown": [
       "\n",
       "| id | sleep | group |\n",
       "|---|---|---|\n",
       "| 1         | 8.145150  | control   |\n",
       "| 2         | 7.522362  | treatment |\n",
       "| 3         | 6.935754  | control   |\n",
       "| 4         | 8.959435  | treatment |\n",
       "| 5         | 6.985122  | control   |\n",
       "| 6         | 8.072651  | treatment |\n",
       "\n"
      ],
      "text/plain": [
       "  id sleep    group    \n",
       "1 1  8.145150 control  \n",
       "2 2  7.522362 treatment\n",
       "3 3  6.935754 control  \n",
       "4 4  8.959435 treatment\n",
       "5 5  6.985122 control  \n",
       "6 6  8.072651 treatment"
      ]
     },
     "metadata": {},
     "output_type": "display_data"
    }
   ],
   "source": [
    "mel = read.delim(file = 'melatonina.txt', sep=\" \") #dane dotyczą 20 doroslych mezczyzn. 10 z nich otrzymalo melatonine przed snem (5mg). Czy mialo to wplyw na dlugosc snu?\n",
    "head(mel)"
   ]
  },
  {
   "cell_type": "code",
   "execution_count": 4,
   "id": "7d8b1c3d",
   "metadata": {},
   "outputs": [
    {
     "data": {
      "text/plain": [
       "\n",
       "\tShapiro-Wilk normality test\n",
       "\n",
       "data:  subset(mel_c, select = c(sleep))$sleep\n",
       "W = 0.93638, p-value = 0.5135\n"
      ]
     },
     "metadata": {},
     "output_type": "display_data"
    },
    {
     "data": {
      "text/html": [
       "1.67218999798112"
      ],
      "text/latex": [
       "1.67218999798112"
      ],
      "text/markdown": [
       "1.67218999798112"
      ],
      "text/plain": [
       "[1] 1.67219"
      ]
     },
     "metadata": {},
     "output_type": "display_data"
    },
    {
     "data": {
      "text/plain": [
       "\n",
       "\tShapiro-Wilk normality test\n",
       "\n",
       "data:  subset(mel_t, select = c(sleep))$sleep\n",
       "W = 0.92649, p-value = 0.4143\n"
      ]
     },
     "metadata": {},
     "output_type": "display_data"
    },
    {
     "data": {
      "text/html": [
       "1.55590383077834"
      ],
      "text/latex": [
       "1.55590383077834"
      ],
      "text/markdown": [
       "1.55590383077834"
      ],
      "text/plain": [
       "[1] 1.555904"
      ]
     },
     "metadata": {},
     "output_type": "display_data"
    }
   ],
   "source": [
    "mel_c = mel[mel$group == \"control\",]\n",
    "shapiro.test(subset(mel_c, select = c(sleep))$sleep); sd(subset(mel_c, select = c(sleep))$sleep)\n",
    "\n",
    "mel_t = mel[mel$group == \"treatment\",]\n",
    "shapiro.test(subset(mel_t, select = c(sleep))$sleep); sd(subset(mel_t, select = c(sleep))$sleep)"
   ]
  },
  {
   "cell_type": "code",
   "execution_count": 5,
   "id": "67081156",
   "metadata": {},
   "outputs": [
    {
     "data": {
      "text/plain": [
       "\n",
       "\tWelch Two Sample t-test\n",
       "\n",
       "data:  sleep by group\n",
       "t = -2.0854, df = 17.907, p-value = 0.05161\n",
       "alternative hypothesis: true difference in means is not equal to 0\n",
       "95 percent confidence interval:\n",
       " -3.02434584  0.01173884\n",
       "sample estimates:\n",
       "  mean in group control mean in group treatment \n",
       "               6.827152                8.333456 \n"
      ]
     },
     "metadata": {},
     "output_type": "display_data"
    }
   ],
   "source": [
    "t.test(sleep ~ group, data = mel) #czy srednie pomiedzy kontrolą a grupą traktowaną sie roznią? Jezeli przyjmiemy poziom istotnosci 0.10 to tak"
   ]
  },
  {
   "cell_type": "code",
   "execution_count": 6,
   "id": "9a849914",
   "metadata": {},
   "outputs": [
    {
     "data": {
      "image/png": "[encoded data removed]",
      "text/plain": [
       "plot without title"
      ]
     },
     "metadata": {},
     "output_type": "display_data"
    }
   ],
   "source": [
    "options(repr.plot.width=3, repr.plot.height=3)\n",
    "boxplot(sleep ~ group, data = mel, col = 5:6)"
   ]
  },
  {
   "cell_type": "markdown",
   "id": "8220ca25",
   "metadata": {},
   "source": [
    "<h4> Test Wilcoxon-Mann-Whitney"
   ]
  },
  {
   "cell_type": "code",
   "execution_count": 2,
   "id": "99aee4e8",
   "metadata": {},
   "outputs": [
    {
     "data": {
      "text/html": [
       "<table>\n",
       "<thead><tr><th scope=col>name</th><th scope=col>genus</th><th scope=col>vore</th><th scope=col>order</th><th scope=col>conservation</th><th scope=col>sleep_total</th><th scope=col>sleep_rem</th><th scope=col>sleep_cycle</th><th scope=col>awake</th><th scope=col>brainwt</th><th scope=col>bodywt</th></tr></thead>\n",
       "<tbody>\n",
       "\t<tr><td>Cheetah                   </td><td>Acinonyx                  </td><td>carni                     </td><td>Carnivora                 </td><td>lc                        </td><td>12.1                      </td><td> NA                       </td><td>       NA                 </td><td>11.9                      </td><td>     NA                   </td><td> 50.000                   </td></tr>\n",
       "\t<tr><td>Owl monkey                </td><td>Aotus                     </td><td>omni                      </td><td>Primates                  </td><td>NA                        </td><td>17.0                      </td><td>1.8                       </td><td>       NA                 </td><td> 7.0                      </td><td>0.01550                   </td><td>  0.480                   </td></tr>\n",
       "\t<tr><td>Mountain beaver           </td><td>Aplodontia                </td><td>herbi                     </td><td>Rodentia                  </td><td>nt                        </td><td>14.4                      </td><td>2.4                       </td><td>       NA                 </td><td> 9.6                      </td><td>     NA                   </td><td>  1.350                   </td></tr>\n",
       "\t<tr><td>Greater short-tailed shrew</td><td>Blarina                   </td><td>omni                      </td><td>Soricomorpha              </td><td>lc                        </td><td>14.9                      </td><td>2.3                       </td><td>0.1333333                 </td><td> 9.1                      </td><td>0.00029                   </td><td>  0.019                   </td></tr>\n",
       "\t<tr><td>Cow                       </td><td>Bos                       </td><td>herbi                     </td><td>Artiodactyla              </td><td>domesticated              </td><td> 4.0                      </td><td>0.7                       </td><td>0.6666667                 </td><td>20.0                      </td><td>0.42300                   </td><td>600.000                   </td></tr>\n",
       "\t<tr><td>Three-toed sloth          </td><td>Bradypus                  </td><td>herbi                     </td><td>Pilosa                    </td><td>NA                        </td><td>14.4                      </td><td>2.2                       </td><td>0.7666667                 </td><td> 9.6                      </td><td>     NA                   </td><td>  3.850                   </td></tr>\n",
       "</tbody>\n",
       "</table>\n"
      ],
      "text/latex": [
       "\\begin{tabular}{r|lllllllllll}\n",
       " name & genus & vore & order & conservation & sleep\\_total & sleep\\_rem & sleep\\_cycle & awake & brainwt & bodywt\\\\\n",
       "\\hline\n",
       "\t Cheetah                    & Acinonyx                   & carni                      & Carnivora                  & lc                         & 12.1                       &  NA                        &        NA                  & 11.9                       &      NA                    &  50.000                   \\\\\n",
       "\t Owl monkey                 & Aotus                      & omni                       & Primates                   & NA                         & 17.0                       & 1.8                        &        NA                  &  7.0                       & 0.01550                    &   0.480                   \\\\\n",
       "\t Mountain beaver            & Aplodontia                 & herbi                      & Rodentia                   & nt                         & 14.4                       & 2.4                        &        NA                  &  9.6                       &      NA                    &   1.350                   \\\\\n",
       "\t Greater short-tailed shrew & Blarina                    & omni                       & Soricomorpha               & lc                         & 14.9                       & 2.3                        & 0.1333333                  &  9.1                       & 0.00029                    &   0.019                   \\\\\n",
       "\t Cow                        & Bos                        & herbi                      & Artiodactyla               & domesticated               &  4.0                       & 0.7                        & 0.6666667                  & 20.0                       & 0.42300                    & 600.000                   \\\\\n",
       "\t Three-toed sloth           & Bradypus                   & herbi                      & Pilosa                     & NA                         & 14.4                       & 2.2                        & 0.7666667                  &  9.6                       &      NA                    &   3.850                   \\\\\n",
       "\\end{tabular}\n"
      ],
      "text/markdown": [
       "\n",
       "| name | genus | vore | order | conservation | sleep_total | sleep_rem | sleep_cycle | awake | brainwt | bodywt |\n",
       "|---|---|---|---|---|---|---|---|---|---|---|\n",
       "| Cheetah                    | Acinonyx                   | carni                      | Carnivora                  | lc                         | 12.1                       |  NA                        |        NA                  | 11.9                       |      NA                    |  50.000                    |\n",
       "| Owl monkey                 | Aotus                      | omni                       | Primates                   | NA                         | 17.0                       | 1.8                        |        NA                  |  7.0                       | 0.01550                    |   0.480                    |\n",
       "| Mountain beaver            | Aplodontia                 | herbi                      | Rodentia                   | nt                         | 14.4                       | 2.4                        |        NA                  |  9.6                       |      NA                    |   1.350                    |\n",
       "| Greater short-tailed shrew | Blarina                    | omni                       | Soricomorpha               | lc                         | 14.9                       | 2.3                        | 0.1333333                  |  9.1                       | 0.00029                    |   0.019                    |\n",
       "| Cow                        | Bos                        | herbi                      | Artiodactyla               | domesticated               |  4.0                       | 0.7                        | 0.6666667                  | 20.0                       | 0.42300                    | 600.000                    |\n",
       "| Three-toed sloth           | Bradypus                   | herbi                      | Pilosa                     | NA                         | 14.4                       | 2.2                        | 0.7666667                  |  9.6                       |      NA                    |   3.850                    |\n",
       "\n"
      ],
      "text/plain": [
       "  name                       genus      vore  order        conservation\n",
       "1 Cheetah                    Acinonyx   carni Carnivora    lc          \n",
       "2 Owl monkey                 Aotus      omni  Primates     NA          \n",
       "3 Mountain beaver            Aplodontia herbi Rodentia     nt          \n",
       "4 Greater short-tailed shrew Blarina    omni  Soricomorpha lc          \n",
       "5 Cow                        Bos        herbi Artiodactyla domesticated\n",
       "6 Three-toed sloth           Bradypus   herbi Pilosa       NA          \n",
       "  sleep_total sleep_rem sleep_cycle awake brainwt bodywt \n",
       "1 12.1         NA              NA   11.9       NA  50.000\n",
       "2 17.0        1.8              NA    7.0  0.01550   0.480\n",
       "3 14.4        2.4              NA    9.6       NA   1.350\n",
       "4 14.9        2.3       0.1333333    9.1  0.00029   0.019\n",
       "5  4.0        0.7       0.6666667   20.0  0.42300 600.000\n",
       "6 14.4        2.2       0.7666667    9.6       NA   3.850"
      ]
     },
     "metadata": {},
     "output_type": "display_data"
    }
   ],
   "source": [
    "library(ggplot2)\n",
    "head(msleep) #dane są z ggplot2"
   ]
  },
  {
   "cell_type": "code",
   "execution_count": 8,
   "id": "4a0f9817",
   "metadata": {},
   "outputs": [
    {
     "data": {
      "image/png": "[encoded data removed]",
      "text/plain": [
       "plot without title"
      ]
     },
     "metadata": {},
     "output_type": "display_data"
    }
   ],
   "source": [
    "t = subset(msleep, vore == \"carni\" | vore == \"herbi\")\n",
    "boxplot(sleep_total ~ vore, data = t, col = 5:6)"
   ]
  },
  {
   "cell_type": "code",
   "execution_count": 9,
   "id": "48d81053",
   "metadata": {},
   "outputs": [
    {
     "data": {
      "text/plain": [
       "\n",
       "\tWilcoxon rank sum test with continuity correction\n",
       "\n",
       "data:  sleep_total by vore\n",
       "W = 325, p-value = 0.6895\n",
       "alternative hypothesis: true location shift is not equal to 0\n"
      ]
     },
     "metadata": {},
     "output_type": "display_data"
    }
   ],
   "source": [
    "wilcox.test(sleep_total ~ vore, data = t,  exact = FALSE)"
   ]
  },
  {
   "cell_type": "markdown",
   "id": "949a6d65",
   "metadata": {},
   "source": [
    "- Co jeżeli więcej niż 2 grupy?"
   ]
  },
  {
   "cell_type": "markdown",
   "id": "ad8245e5",
   "metadata": {},
   "source": [
    "<h3> Analiza wariancji (ANOVA)"
   ]
  },
  {
   "cell_type": "markdown",
   "id": "345841c7",
   "metadata": {},
   "source": [
    "- ANOVA Jednoczynnikowa"
   ]
  },
  {
   "cell_type": "code",
   "execution_count": 2,
   "id": "b8bee3ee",
   "metadata": {},
   "outputs": [
    {
     "name": "stderr",
     "output_type": "stream",
     "text": [
      "Warning message:\n",
      "\"package 'faraway' was built under R version 3.6.3\""
     ]
    },
    {
     "data": {
      "text/html": [
       "<ol class=list-inline>\n",
       "\t<li>'coag'</li>\n",
       "\t<li>'diet'</li>\n",
       "</ol>\n"
      ],
      "text/latex": [
       "\\begin{enumerate*}\n",
       "\\item 'coag'\n",
       "\\item 'diet'\n",
       "\\end{enumerate*}\n"
      ],
      "text/markdown": [
       "1. 'coag'\n",
       "2. 'diet'\n",
       "\n",
       "\n"
      ],
      "text/plain": [
       "[1] \"coag\" \"diet\""
      ]
     },
     "metadata": {},
     "output_type": "display_data"
    }
   ],
   "source": [
    "library(faraway)\n",
    "names(coagulation)"
   ]
  },
  {
   "cell_type": "code",
   "execution_count": 11,
   "id": "2bd0477a",
   "metadata": {},
   "outputs": [
    {
     "data": {
      "text/html": [
       "<table>\n",
       "<thead><tr><th scope=col>coag</th><th scope=col>diet</th></tr></thead>\n",
       "<tbody>\n",
       "\t<tr><td>62</td><td>A </td></tr>\n",
       "\t<tr><td>60</td><td>A </td></tr>\n",
       "\t<tr><td>63</td><td>A </td></tr>\n",
       "\t<tr><td>59</td><td>A </td></tr>\n",
       "\t<tr><td>63</td><td>B </td></tr>\n",
       "\t<tr><td>67</td><td>B </td></tr>\n",
       "</tbody>\n",
       "</table>\n"
      ],
      "text/latex": [
       "\\begin{tabular}{r|ll}\n",
       " coag & diet\\\\\n",
       "\\hline\n",
       "\t 62 & A \\\\\n",
       "\t 60 & A \\\\\n",
       "\t 63 & A \\\\\n",
       "\t 59 & A \\\\\n",
       "\t 63 & B \\\\\n",
       "\t 67 & B \\\\\n",
       "\\end{tabular}\n"
      ],
      "text/markdown": [
       "\n",
       "| coag | diet |\n",
       "|---|---|\n",
       "| 62 | A  |\n",
       "| 60 | A  |\n",
       "| 63 | A  |\n",
       "| 59 | A  |\n",
       "| 63 | B  |\n",
       "| 67 | B  |\n",
       "\n"
      ],
      "text/plain": [
       "  coag diet\n",
       "1 62   A   \n",
       "2 60   A   \n",
       "3 63   A   \n",
       "4 59   A   \n",
       "5 63   B   \n",
       "6 67   B   "
      ]
     },
     "metadata": {},
     "output_type": "display_data"
    }
   ],
   "source": [
    "head(coagulation) #24 zwierzeta podzielone na 4 grupy ze wzgledu na rodzaj diety"
   ]
  },
  {
   "cell_type": "code",
   "execution_count": 12,
   "id": "0b0c3d0c",
   "metadata": {},
   "outputs": [
    {
     "name": "stdout",
     "output_type": "stream",
     "text": [
      " [1] A A A A B B B B B B C C C C C C D D D D D D D D\n",
      "Levels: A B C D\n"
     ]
    }
   ],
   "source": [
    "print(coagulation$diet)"
   ]
  },
  {
   "cell_type": "code",
   "execution_count": 65,
   "id": "f0ce03ef",
   "metadata": {},
   "outputs": [],
   "source": [
    "?coagulation"
   ]
  },
  {
   "cell_type": "code",
   "execution_count": 14,
   "id": "a8baf757",
   "metadata": {},
   "outputs": [
    {
     "data": {
      "image/png": "[encoded data removed]",
      "text/plain": [
       "plot without title"
      ]
     },
     "metadata": {},
     "output_type": "display_data"
    }
   ],
   "source": [
    "plot(coag ~ diet, data = coagulation, col = 2:5)"
   ]
  },
  {
   "cell_type": "code",
   "execution_count": 15,
   "id": "2965ec46",
   "metadata": {},
   "outputs": [
    {
     "name": "stdout",
     "output_type": "stream",
     "text": [
      "Call:\n",
      "   aov(formula = coag ~ diet, data = coagulation)\n",
      "\n",
      "Terms:\n",
      "                diet Residuals\n",
      "Sum of Squares   228       112\n",
      "Deg. of Freedom    3        20\n",
      "\n",
      "Residual standard error: 2.366432\n",
      "Estimated effects may be unbalanced\n"
     ]
    }
   ],
   "source": [
    "coag_aov = aov(coag ~ diet, data = coagulation) #test ANOVA\n",
    "print(coag_aov)"
   ]
  },
  {
   "cell_type": "code",
   "execution_count": 16,
   "id": "25680882",
   "metadata": {},
   "outputs": [
    {
     "data": {
      "text/plain": [
       "            Df Sum Sq Mean Sq F value   Pr(>F)    \n",
       "diet         3    228    76.0   13.57 4.66e-05 ***\n",
       "Residuals   20    112     5.6                     \n",
       "---\n",
       "Signif. codes:  0 '***' 0.001 '**' 0.01 '*' 0.05 '.' 0.1 ' ' 1"
      ]
     },
     "metadata": {},
     "output_type": "display_data"
    }
   ],
   "source": [
    "summary(coag_aov) #dieta ma wplyw"
   ]
  },
  {
   "cell_type": "code",
   "execution_count": 17,
   "id": "a481bcb2",
   "metadata": {},
   "outputs": [
    {
     "data": {
      "text/html": [
       "<table>\n",
       "<thead><tr><th scope=col>diet</th><th scope=col>coag</th></tr></thead>\n",
       "<tbody>\n",
       "\t<tr><td>A </td><td>61</td></tr>\n",
       "\t<tr><td>B </td><td>66</td></tr>\n",
       "\t<tr><td>C </td><td>68</td></tr>\n",
       "\t<tr><td>D </td><td>61</td></tr>\n",
       "</tbody>\n",
       "</table>\n"
      ],
      "text/latex": [
       "\\begin{tabular}{r|ll}\n",
       " diet & coag\\\\\n",
       "\\hline\n",
       "\t A  & 61\\\\\n",
       "\t B  & 66\\\\\n",
       "\t C  & 68\\\\\n",
       "\t D  & 61\\\\\n",
       "\\end{tabular}\n"
      ],
      "text/markdown": [
       "\n",
       "| diet | coag |\n",
       "|---|---|\n",
       "| A  | 61 |\n",
       "| B  | 66 |\n",
       "| C  | 68 |\n",
       "| D  | 61 |\n",
       "\n"
      ],
      "text/plain": [
       "  diet coag\n",
       "1 A    61  \n",
       "2 B    66  \n",
       "3 C    68  \n",
       "4 D    61  "
      ]
     },
     "metadata": {},
     "output_type": "display_data"
    }
   ],
   "source": [
    "diety = data.frame(diet = unique(coagulation$diet))\n",
    "data.frame(diety, coag = predict(coag_aov, diety)) #srednie przewidziane dla kazdej grupy"
   ]
  },
  {
   "cell_type": "code",
   "execution_count": 18,
   "id": "755b9706",
   "metadata": {},
   "outputs": [
    {
     "data": {
      "text/plain": [
       "\n",
       "\tPairwise comparisons using t tests with pooled SD \n",
       "\n",
       "data:  coag and diet \n",
       "\n",
       "  A       B       C      \n",
       "B 0.00380 -       -      \n",
       "C 0.00018 0.15878 -      \n",
       "D 1.00000 0.00086 2.3e-05\n",
       "\n",
       "P value adjustment method: none "
      ]
     },
     "metadata": {},
     "output_type": "display_data"
    }
   ],
   "source": [
    "#ale ktore srednie są rozne?\n",
    "with(coagulation, pairwise.t.test(coag, diet, p.adj = \"none\"))"
   ]
  },
  {
   "cell_type": "code",
   "execution_count": 19,
   "id": "1fac1bb7",
   "metadata": {},
   "outputs": [
    {
     "data": {
      "text/plain": [
       "\n",
       "\tPairwise comparisons using t tests with pooled SD \n",
       "\n",
       "data:  coag and diet \n",
       "\n",
       "  A       B       C      \n",
       "B 0.02282 -       -      \n",
       "C 0.00108 0.95266 -      \n",
       "D 1.00000 0.00518 0.00014\n",
       "\n",
       "P value adjustment method: bonferroni "
      ]
     },
     "metadata": {},
     "output_type": "display_data"
    }
   ],
   "source": [
    "with(coagulation, pairwise.t.test(coag, diet, p.adj = \"bonferroni\")) #uwzględniając poprawkę Bonferroniego (wielokrotne testowanie); obserwujemy wyzsze wartosci p-value"
   ]
  },
  {
   "cell_type": "code",
   "execution_count": 20,
   "id": "647a9aa6",
   "metadata": {},
   "outputs": [
    {
     "data": {
      "text/plain": [
       "  Tukey multiple comparisons of means\n",
       "    95% family-wise confidence level\n",
       "\n",
       "Fit: aov(formula = coag ~ diet, data = coagulation)\n",
       "\n",
       "$diet\n",
       "             diff         lwr       upr     p adj\n",
       "B-A  5.000000e+00   0.7245544  9.275446 0.0183283\n",
       "C-A  7.000000e+00   2.7245544 11.275446 0.0009577\n",
       "D-A -1.421085e-14  -4.0560438  4.056044 1.0000000\n",
       "C-B  2.000000e+00  -1.8240748  5.824075 0.4766005\n",
       "D-B -5.000000e+00  -8.5770944 -1.422906 0.0044114\n",
       "D-C -7.000000e+00 -10.5770944 -3.422906 0.0001268\n"
      ]
     },
     "metadata": {},
     "output_type": "display_data"
    }
   ],
   "source": [
    "#Test HSD Tukeya (stosowany post hoc - po analizie wariancji)\n",
    "TukeyHSD(coag_aov, conf.level = 0.95) #uwzglednia poprawke na wielokrotne powtorzenia"
   ]
  },
  {
   "cell_type": "code",
   "execution_count": 21,
   "id": "5e859ec4",
   "metadata": {},
   "outputs": [
    {
     "data": {
      "image/png": "[encoded data removed]",
      "text/plain": [
       "Plot with title \"95% family-wise confidence level\n",
       "\""
      ]
     },
     "metadata": {},
     "output_type": "display_data"
    }
   ],
   "source": [
    "options(repr.plot.width=3, repr.plot.height=5)\n",
    "plot(TukeyHSD(coag_aov, conf.level = 0.95))"
   ]
  },
  {
   "cell_type": "markdown",
   "id": "f0074208",
   "metadata": {},
   "source": [
    "- ANOVA Wieloczynnikowa"
   ]
  },
  {
   "cell_type": "code",
   "execution_count": 3,
   "id": "f72f4483",
   "metadata": {},
   "outputs": [
    {
     "data": {
      "text/plain": [
       "      time        poison   treat \n",
       " Min.   :0.1800   I  :16   A:12  \n",
       " 1st Qu.:0.3000   II :16   B:12  \n",
       " Median :0.4000   III:16   C:12  \n",
       " Mean   :0.4794            D:12  \n",
       " 3rd Qu.:0.6225                  \n",
       " Max.   :1.2400                  "
      ]
     },
     "metadata": {},
     "output_type": "display_data"
    }
   ],
   "source": [
    "summary(rats) #dane dotyczące 48 szczurów, testowano 3 trucizny (poison), 4 lekarstwa (treat) i obserwowano czas zycia (time; w dziesiątkach godzin)"
   ]
  },
  {
   "cell_type": "code",
   "execution_count": 4,
   "id": "fcae6826",
   "metadata": {},
   "outputs": [
    {
     "data": {
      "text/html": [
       "<table>\n",
       "<thead><tr><th scope=col>time</th><th scope=col>poison</th><th scope=col>treat</th></tr></thead>\n",
       "<tbody>\n",
       "\t<tr><td>0.31</td><td>I   </td><td>A   </td></tr>\n",
       "\t<tr><td>0.82</td><td>I   </td><td>B   </td></tr>\n",
       "\t<tr><td>0.43</td><td>I   </td><td>C   </td></tr>\n",
       "\t<tr><td>0.45</td><td>I   </td><td>D   </td></tr>\n",
       "\t<tr><td>0.45</td><td>I   </td><td>A   </td></tr>\n",
       "\t<tr><td>1.10</td><td>I   </td><td>B   </td></tr>\n",
       "</tbody>\n",
       "</table>\n"
      ],
      "text/latex": [
       "\\begin{tabular}{r|lll}\n",
       " time & poison & treat\\\\\n",
       "\\hline\n",
       "\t 0.31 & I    & A   \\\\\n",
       "\t 0.82 & I    & B   \\\\\n",
       "\t 0.43 & I    & C   \\\\\n",
       "\t 0.45 & I    & D   \\\\\n",
       "\t 0.45 & I    & A   \\\\\n",
       "\t 1.10 & I    & B   \\\\\n",
       "\\end{tabular}\n"
      ],
      "text/markdown": [
       "\n",
       "| time | poison | treat |\n",
       "|---|---|---|\n",
       "| 0.31 | I    | A    |\n",
       "| 0.82 | I    | B    |\n",
       "| 0.43 | I    | C    |\n",
       "| 0.45 | I    | D    |\n",
       "| 0.45 | I    | A    |\n",
       "| 1.10 | I    | B    |\n",
       "\n"
      ],
      "text/plain": [
       "  time poison treat\n",
       "1 0.31 I      A    \n",
       "2 0.82 I      B    \n",
       "3 0.43 I      C    \n",
       "4 0.45 I      D    \n",
       "5 0.45 I      A    \n",
       "6 1.10 I      B    "
      ]
     },
     "metadata": {},
     "output_type": "display_data"
    }
   ],
   "source": [
    "head(rats)"
   ]
  },
  {
   "cell_type": "code",
   "execution_count": 13,
   "id": "a29ced05",
   "metadata": {},
   "outputs": [
    {
     "data": {
      "text/html": [
       "0.4125"
      ],
      "text/latex": [
       "0.4125"
      ],
      "text/markdown": [
       "0.4125"
      ],
      "text/plain": [
       "[1] 0.4125"
      ]
     },
     "metadata": {},
     "output_type": "display_data"
    }
   ],
   "source": [
    "mean(rats[rats$poison == \"I\" & rats$treat == \"A\",]$time)"
   ]
  },
  {
   "cell_type": "code",
   "execution_count": 8,
   "id": "e002c473",
   "metadata": {},
   "outputs": [
    {
     "data": {
      "text/html": [
       "0.5675"
      ],
      "text/latex": [
       "0.5675"
      ],
      "text/markdown": [
       "0.5675"
      ],
      "text/plain": [
       "[1] 0.5675"
      ]
     },
     "metadata": {},
     "output_type": "display_data"
    }
   ],
   "source": [
    "mean(rats[rats$poison == \"I\" & rats$treat == \"C\",]$time)"
   ]
  },
  {
   "cell_type": "code",
   "execution_count": 9,
   "id": "8d8746b6",
   "metadata": {},
   "outputs": [
    {
     "data": {
      "image/png": "[encoded data removed]",
      "text/plain": [
       "plot without title"
      ]
     },
     "metadata": {},
     "output_type": "display_data"
    }
   ],
   "source": [
    "options(repr.plot.width=10, repr.plot.height=5)\n",
    "\n",
    "par(mfrow = c(1, 2))\n",
    "with(rats, interaction.plot(poison, treat, time, lwd = 2, col = 1:4))\n",
    "with(rats, interaction.plot(treat, poison, time, lwd = 2, col = 1:3))"
   ]
  },
  {
   "cell_type": "code",
   "execution_count": 10,
   "id": "cd64a6c5",
   "metadata": {},
   "outputs": [],
   "source": [
    "rats_int = aov(time ~ poison * treat, data = rats) # interaction model, gwiazdka oznacza ze rozwazamy interakcje i efekty addytywne; dwukropek oznaczalby tylko interakacje\n",
    "rats_add = aov(time ~ poison + treat, data = rats) # additive model\n",
    "rats_pois = aov(time ~ poison , data = rats) # single factor model\n",
    "rats_treat = aov(time ~ treat, data = rats) # single factor model\n",
    "rats_null = aov(time ~ 1, data = rats) # null model"
   ]
  },
  {
   "cell_type": "code",
   "execution_count": 27,
   "id": "bcfbe19b",
   "metadata": {},
   "outputs": [
    {
     "name": "stdout",
     "output_type": "stream",
     "text": [
      "   poison treat\n",
      "1       I     A\n",
      "2      II     A\n",
      "3     III     A\n",
      "4       I     B\n",
      "5      II     B\n",
      "6     III     B\n",
      "7       I     C\n",
      "8      II     C\n",
      "9     III     C\n",
      "10      I     D\n",
      "11     II     D\n",
      "12    III     D\n"
     ]
    }
   ],
   "source": [
    "rats_table = expand.grid(poison = unique(rats$poison), treat = unique(rats$treat))\n",
    "print(rats_table)"
   ]
  },
  {
   "cell_type": "code",
   "execution_count": 28,
   "id": "844d485f",
   "metadata": {},
   "outputs": [
    {
     "name": "stdout",
     "output_type": "stream",
     "text": [
      "     [,1]  [,2]   [,3]   \n",
      "[1,] \"I-A\" \"II-A\" \"III-A\"\n",
      "[2,] \"I-B\" \"II-B\" \"III-B\"\n",
      "[3,] \"I-C\" \"II-C\" \"III-C\"\n",
      "[4,] \"I-D\" \"II-D\" \"III-D\"\n"
     ]
    }
   ],
   "source": [
    "print(matrix(paste0(rats_table$poison, \"-\", rats_table$treat) , 4, 3, byrow = TRUE))"
   ]
  },
  {
   "cell_type": "code",
   "execution_count": 29,
   "id": "255bfddf",
   "metadata": {},
   "outputs": [],
   "source": [
    "#estymuje srednie\n",
    "\n",
    "get_est_means = function(model, table) {\n",
    "mat = matrix(predict(model, table), nrow = 4, ncol = 3, byrow = TRUE)\n",
    "colnames(mat) = c(\"I\", \"II\", \"III\")\n",
    "rownames(mat) = c(\"A\", \"B\", \"C\", \"D\")\n",
    "mat\n",
    "}\n"
   ]
  },
  {
   "cell_type": "code",
   "execution_count": 30,
   "id": "fdb42792",
   "metadata": {},
   "outputs": [
    {
     "data": {
      "text/plain": [
       "\n",
       "\n",
       "|   |      I|     II|   III|\n",
       "|:--|------:|------:|-----:|\n",
       "|A  | 0.4125| 0.3200| 0.210|\n",
       "|B  | 0.8800| 0.8150| 0.335|\n",
       "|C  | 0.5675| 0.3750| 0.235|\n",
       "|D  | 0.6100| 0.6675| 0.325|"
      ]
     },
     "metadata": {},
     "output_type": "display_data"
    }
   ],
   "source": [
    "knitr::kable(get_est_means(model = rats_int, table = rats_table)) #interaction model"
   ]
  },
  {
   "cell_type": "code",
   "execution_count": 31,
   "id": "119cb9bd",
   "metadata": {},
   "outputs": [
    {
     "data": {
      "text/plain": [
       "\n",
       "\n",
       "|   |         I|        II|       III|\n",
       "|:--|---------:|---------:|---------:|\n",
       "|A  | 0.4522917| 0.3791667| 0.1110417|\n",
       "|B  | 0.8147917| 0.7416667| 0.4735417|\n",
       "|C  | 0.5306250| 0.4575000| 0.1893750|\n",
       "|D  | 0.6722917| 0.5991667| 0.3310417|"
      ]
     },
     "metadata": {},
     "output_type": "display_data"
    }
   ],
   "source": [
    "knitr::kable(get_est_means(model = rats_add, table = rats_table)) #model addytywny"
   ]
  },
  {
   "cell_type": "code",
   "execution_count": 32,
   "id": "b7aa1056",
   "metadata": {},
   "outputs": [
    {
     "data": {
      "text/html": [
       "<dl class=dl-horizontal>\n",
       "\t<dt>I</dt>\n",
       "\t\t<dd>-0.3625</dd>\n",
       "\t<dt>II</dt>\n",
       "\t\t<dd>-0.3625</dd>\n",
       "\t<dt>III</dt>\n",
       "\t\t<dd>-0.3625</dd>\n",
       "</dl>\n"
      ],
      "text/latex": [
       "\\begin{description*}\n",
       "\\item[I] -0.3625\n",
       "\\item[II] -0.3625\n",
       "\\item[III] -0.3625\n",
       "\\end{description*}\n"
      ],
      "text/markdown": [
       "I\n",
       ":   -0.3625II\n",
       ":   -0.3625III\n",
       ":   -0.3625\n",
       "\n"
      ],
      "text/plain": [
       "      I      II     III \n",
       "-0.3625 -0.3625 -0.3625 "
      ]
     },
     "metadata": {},
     "output_type": "display_data"
    }
   ],
   "source": [
    "additive_means = get_est_means(model = rats_add, table = rats_table)\n",
    "additive_means[\"A\",] - additive_means[\"B\",] #efekt leczenia w modelu addytywnnym (te same wartosci--> ten sam efekt)"
   ]
  },
  {
   "cell_type": "code",
   "execution_count": 33,
   "id": "c8f27c9b",
   "metadata": {},
   "outputs": [
    {
     "data": {
      "text/html": [
       "<dl class=dl-horizontal>\n",
       "\t<dt>I</dt>\n",
       "\t\t<dd>-0.4675</dd>\n",
       "\t<dt>II</dt>\n",
       "\t\t<dd>-0.495</dd>\n",
       "\t<dt>III</dt>\n",
       "\t\t<dd>-0.125</dd>\n",
       "</dl>\n"
      ],
      "text/latex": [
       "\\begin{description*}\n",
       "\\item[I] -0.4675\n",
       "\\item[II] -0.495\n",
       "\\item[III] -0.125\n",
       "\\end{description*}\n"
      ],
      "text/markdown": [
       "I\n",
       ":   -0.4675II\n",
       ":   -0.495III\n",
       ":   -0.125\n",
       "\n"
      ],
      "text/plain": [
       "      I      II     III \n",
       "-0.4675 -0.4950 -0.1250 "
      ]
     },
     "metadata": {},
     "output_type": "display_data"
    }
   ],
   "source": [
    "interaction_means = get_est_means(model = rats_int, table = rats_table)\n",
    "interaction_means[\"A\",] - interaction_means[\"B\",] #efekt leczenia w modelu z interakcją (rozne wartosci)"
   ]
  },
  {
   "cell_type": "code",
   "execution_count": 34,
   "id": "154bc230",
   "metadata": {},
   "outputs": [
    {
     "data": {
      "text/plain": [
       "\n",
       "\n",
       "|   |      I|       II|     III|\n",
       "|:--|------:|--------:|-------:|\n",
       "|A  | 0.6175| 0.544375| 0.27625|\n",
       "|B  | 0.6175| 0.544375| 0.27625|\n",
       "|C  | 0.6175| 0.544375| 0.27625|\n",
       "|D  | 0.6175| 0.544375| 0.27625|"
      ]
     },
     "metadata": {},
     "output_type": "display_data"
    }
   ],
   "source": [
    "knitr::kable(get_est_means(model = rats_pois, table = rats_table))"
   ]
  },
  {
   "cell_type": "code",
   "execution_count": 35,
   "id": "ce79cd56",
   "metadata": {},
   "outputs": [
    {
     "data": {
      "text/plain": [
       "\n",
       "\n",
       "|   |         I|        II|       III|\n",
       "|:--|---------:|---------:|---------:|\n",
       "|A  | 0.3141667| 0.3141667| 0.3141667|\n",
       "|B  | 0.6766667| 0.6766667| 0.6766667|\n",
       "|C  | 0.3925000| 0.3925000| 0.3925000|\n",
       "|D  | 0.5341667| 0.5341667| 0.5341667|"
      ]
     },
     "metadata": {},
     "output_type": "display_data"
    }
   ],
   "source": [
    "knitr::kable(get_est_means(model = rats_treat, table = rats_table))"
   ]
  },
  {
   "cell_type": "code",
   "execution_count": 36,
   "id": "c3a300e3",
   "metadata": {},
   "outputs": [
    {
     "data": {
      "text/plain": [
       "\n",
       "\n",
       "|   |        I|       II|      III|\n",
       "|:--|--------:|--------:|--------:|\n",
       "|A  | 0.479375| 0.479375| 0.479375|\n",
       "|B  | 0.479375| 0.479375| 0.479375|\n",
       "|C  | 0.479375| 0.479375| 0.479375|\n",
       "|D  | 0.479375| 0.479375| 0.479375|"
      ]
     },
     "metadata": {},
     "output_type": "display_data"
    }
   ],
   "source": [
    "knitr::kable(get_est_means(model = rats_null, table = rats_table))"
   ]
  },
  {
   "cell_type": "code",
   "execution_count": 6,
   "id": "c4a21ba3",
   "metadata": {},
   "outputs": [
    {
     "data": {
      "text/plain": [
       "             Df Sum Sq Mean Sq F value   Pr(>F)    \n",
       "poison        2 1.0330  0.5165  23.222 3.33e-07 ***\n",
       "treat         3 0.9212  0.3071  13.806 3.78e-06 ***\n",
       "poison:treat  6 0.2501  0.0417   1.874    0.112    \n",
       "Residuals    36 0.8007  0.0222                     \n",
       "---\n",
       "Signif. codes:  0 '***' 0.001 '**' 0.01 '*' 0.05 '.' 0.1 ' ' 1"
      ]
     },
     "metadata": {},
     "output_type": "display_data"
    }
   ],
   "source": [
    "summary(aov(time ~ poison * treat, data = rats)) #interakcja nie jest znacząca, pojedyczne cechy znaczące --> wybierzemy model addytywny"
   ]
  },
  {
   "cell_type": "code",
   "execution_count": 38,
   "id": "a326abdd",
   "metadata": {},
   "outputs": [
    {
     "data": {
      "text/plain": [
       "  Tukey multiple comparisons of means\n",
       "    95% family-wise confidence level\n",
       "\n",
       "Fit: aov(formula = time ~ poison + treat, data = rats)\n",
       "\n",
       "$poison\n",
       "            diff        lwr        upr     p adj\n",
       "II-I   -0.073125 -0.2089936  0.0627436 0.3989657\n",
       "III-I  -0.341250 -0.4771186 -0.2053814 0.0000008\n",
       "III-II -0.268125 -0.4039936 -0.1322564 0.0000606\n",
       "\n",
       "$treat\n",
       "           diff         lwr         upr     p adj\n",
       "B-A  0.36250000  0.18976135  0.53523865 0.0000083\n",
       "C-A  0.07833333 -0.09440532  0.25107198 0.6221729\n",
       "D-A  0.22000000  0.04726135  0.39273865 0.0076661\n",
       "C-B -0.28416667 -0.45690532 -0.11142802 0.0004090\n",
       "D-B -0.14250000 -0.31523865  0.03023865 0.1380432\n",
       "D-C  0.14166667 -0.03107198  0.31440532 0.1416151\n"
      ]
     },
     "metadata": {},
     "output_type": "display_data"
    }
   ],
   "source": [
    "TukeyHSD(aov(time ~ poison + treat, data = rats))"
   ]
  },
  {
   "cell_type": "code",
   "execution_count": 39,
   "id": "de83e3dd",
   "metadata": {},
   "outputs": [
    {
     "data": {
      "image/png": "[encoded data removed]",
      "text/plain": [
       "Plot with title \"95% family-wise confidence level\n",
       "\""
      ]
     },
     "metadata": {},
     "output_type": "display_data"
    },
    {
     "data": {
      "image/png": "[encoded data removed]",
      "text/plain": [
       "Plot with title \"95% family-wise confidence level\n",
       "\""
      ]
     },
     "metadata": {},
     "output_type": "display_data"
    }
   ],
   "source": [
    "plot(TukeyHSD(aov(time ~ poison + treat, data = rats)))"
   ]
  },
  {
   "cell_type": "markdown",
   "id": "53b48cdb",
   "metadata": {},
   "source": [
    "<h4> Zadanie2: Rozważ dane $warpbreaks$. Czego dotyczą te dane? Narysuj odpowiednie wykresy interakcji pomiędzy wool and tension. Wykonaj test anova. Czy zachodzi tutaj interakcja? Skomentuj otrzymane wyniki."
   ]
  },
  {
   "cell_type": "code",
   "execution_count": 69,
   "id": "abb94862",
   "metadata": {},
   "outputs": [],
   "source": [
    "?warpbreaks"
   ]
  },
  {
   "cell_type": "code",
   "execution_count": 41,
   "id": "a4f809b7",
   "metadata": {},
   "outputs": [
    {
     "data": {
      "text/html": [
       "<table>\n",
       "<thead><tr><th scope=col>breaks</th><th scope=col>wool</th><th scope=col>tension</th></tr></thead>\n",
       "<tbody>\n",
       "\t<tr><td>26</td><td>A </td><td>L </td></tr>\n",
       "\t<tr><td>30</td><td>A </td><td>L </td></tr>\n",
       "\t<tr><td>54</td><td>A </td><td>L </td></tr>\n",
       "\t<tr><td>25</td><td>A </td><td>L </td></tr>\n",
       "\t<tr><td>70</td><td>A </td><td>L </td></tr>\n",
       "\t<tr><td>52</td><td>A </td><td>L </td></tr>\n",
       "</tbody>\n",
       "</table>\n"
      ],
      "text/latex": [
       "\\begin{tabular}{r|lll}\n",
       " breaks & wool & tension\\\\\n",
       "\\hline\n",
       "\t 26 & A  & L \\\\\n",
       "\t 30 & A  & L \\\\\n",
       "\t 54 & A  & L \\\\\n",
       "\t 25 & A  & L \\\\\n",
       "\t 70 & A  & L \\\\\n",
       "\t 52 & A  & L \\\\\n",
       "\\end{tabular}\n"
      ],
      "text/markdown": [
       "\n",
       "| breaks | wool | tension |\n",
       "|---|---|---|\n",
       "| 26 | A  | L  |\n",
       "| 30 | A  | L  |\n",
       "| 54 | A  | L  |\n",
       "| 25 | A  | L  |\n",
       "| 70 | A  | L  |\n",
       "| 52 | A  | L  |\n",
       "\n"
      ],
      "text/plain": [
       "  breaks wool tension\n",
       "1 26     A    L      \n",
       "2 30     A    L      \n",
       "3 54     A    L      \n",
       "4 25     A    L      \n",
       "5 70     A    L      \n",
       "6 52     A    L      "
      ]
     },
     "metadata": {},
     "output_type": "display_data"
    }
   ],
   "source": [
    "head(warpbreaks)"
   ]
  },
  {
   "cell_type": "markdown",
   "id": "5ba77d4c",
   "metadata": {},
   "source": [
    "<h3> Test Kruskala-Wallisa"
   ]
  },
  {
   "cell_type": "markdown",
   "id": "ee16c4cc",
   "metadata": {},
   "source": [
    "- stosujemy gdy problem z założeniem normalności (ciągle jednak zakładamy równe wariancje); zadajemy pytanie czy grupy mają równe mediany (H0)"
   ]
  },
  {
   "cell_type": "code",
   "execution_count": 42,
   "id": "d001317f",
   "metadata": {},
   "outputs": [
    {
     "data": {
      "text/html": [
       "<table>\n",
       "<thead><tr><th scope=col>Sex</th><th scope=col>Wr.Hnd</th><th scope=col>NW.Hnd</th><th scope=col>W.Hnd</th><th scope=col>Fold</th><th scope=col>Pulse</th><th scope=col>Clap</th><th scope=col>Exer</th><th scope=col>Smoke</th><th scope=col>Height</th><th scope=col>M.I</th><th scope=col>Age</th></tr></thead>\n",
       "<tbody>\n",
       "\t<tr><td>Female  </td><td>18.5    </td><td>18.0    </td><td>Right   </td><td>R on L  </td><td> 92     </td><td>Left    </td><td>Some    </td><td>Never   </td><td>173.00  </td><td>Metric  </td><td>18.250  </td></tr>\n",
       "\t<tr><td>Male    </td><td>19.5    </td><td>20.5    </td><td>Left    </td><td>R on L  </td><td>104     </td><td>Left    </td><td>None    </td><td>Regul   </td><td>177.80  </td><td>Imperial</td><td>17.583  </td></tr>\n",
       "\t<tr><td>Male    </td><td>18.0    </td><td>13.3    </td><td>Right   </td><td>L on R  </td><td> 87     </td><td>Neither </td><td>None    </td><td>Occas   </td><td>    NA  </td><td>NA      </td><td>16.917  </td></tr>\n",
       "\t<tr><td>Male    </td><td>18.8    </td><td>18.9    </td><td>Right   </td><td>R on L  </td><td> NA     </td><td>Neither </td><td>None    </td><td>Never   </td><td>160.00  </td><td>Metric  </td><td>20.333  </td></tr>\n",
       "\t<tr><td>Male    </td><td>20.0    </td><td>20.0    </td><td>Right   </td><td>Neither </td><td> 35     </td><td>Right   </td><td>Some    </td><td>Never   </td><td>165.00  </td><td>Metric  </td><td>23.667  </td></tr>\n",
       "\t<tr><td>Female  </td><td>18.0    </td><td>17.7    </td><td>Right   </td><td>L on R  </td><td> 64     </td><td>Right   </td><td>Some    </td><td>Never   </td><td>172.72  </td><td>Imperial</td><td>21.000  </td></tr>\n",
       "</tbody>\n",
       "</table>\n"
      ],
      "text/latex": [
       "\\begin{tabular}{r|llllllllllll}\n",
       " Sex & Wr.Hnd & NW.Hnd & W.Hnd & Fold & Pulse & Clap & Exer & Smoke & Height & M.I & Age\\\\\n",
       "\\hline\n",
       "\t Female   & 18.5     & 18.0     & Right    & R on L   &  92      & Left     & Some     & Never    & 173.00   & Metric   & 18.250  \\\\\n",
       "\t Male     & 19.5     & 20.5     & Left     & R on L   & 104      & Left     & None     & Regul    & 177.80   & Imperial & 17.583  \\\\\n",
       "\t Male     & 18.0     & 13.3     & Right    & L on R   &  87      & Neither  & None     & Occas    &     NA   & NA       & 16.917  \\\\\n",
       "\t Male     & 18.8     & 18.9     & Right    & R on L   &  NA      & Neither  & None     & Never    & 160.00   & Metric   & 20.333  \\\\\n",
       "\t Male     & 20.0     & 20.0     & Right    & Neither  &  35      & Right    & Some     & Never    & 165.00   & Metric   & 23.667  \\\\\n",
       "\t Female   & 18.0     & 17.7     & Right    & L on R   &  64      & Right    & Some     & Never    & 172.72   & Imperial & 21.000  \\\\\n",
       "\\end{tabular}\n"
      ],
      "text/markdown": [
       "\n",
       "| Sex | Wr.Hnd | NW.Hnd | W.Hnd | Fold | Pulse | Clap | Exer | Smoke | Height | M.I | Age |\n",
       "|---|---|---|---|---|---|---|---|---|---|---|---|\n",
       "| Female   | 18.5     | 18.0     | Right    | R on L   |  92      | Left     | Some     | Never    | 173.00   | Metric   | 18.250   |\n",
       "| Male     | 19.5     | 20.5     | Left     | R on L   | 104      | Left     | None     | Regul    | 177.80   | Imperial | 17.583   |\n",
       "| Male     | 18.0     | 13.3     | Right    | L on R   |  87      | Neither  | None     | Occas    |     NA   | NA       | 16.917   |\n",
       "| Male     | 18.8     | 18.9     | Right    | R on L   |  NA      | Neither  | None     | Never    | 160.00   | Metric   | 20.333   |\n",
       "| Male     | 20.0     | 20.0     | Right    | Neither  |  35      | Right    | Some     | Never    | 165.00   | Metric   | 23.667   |\n",
       "| Female   | 18.0     | 17.7     | Right    | L on R   |  64      | Right    | Some     | Never    | 172.72   | Imperial | 21.000   |\n",
       "\n"
      ],
      "text/plain": [
       "  Sex    Wr.Hnd NW.Hnd W.Hnd Fold    Pulse Clap    Exer Smoke Height M.I     \n",
       "1 Female 18.5   18.0   Right R on L   92   Left    Some Never 173.00 Metric  \n",
       "2 Male   19.5   20.5   Left  R on L  104   Left    None Regul 177.80 Imperial\n",
       "3 Male   18.0   13.3   Right L on R   87   Neither None Occas     NA NA      \n",
       "4 Male   18.8   18.9   Right R on L   NA   Neither None Never 160.00 Metric  \n",
       "5 Male   20.0   20.0   Right Neither  35   Right   Some Never 165.00 Metric  \n",
       "6 Female 18.0   17.7   Right L on R   64   Right   Some Never 172.72 Imperial\n",
       "  Age   \n",
       "1 18.250\n",
       "2 17.583\n",
       "3 16.917\n",
       "4 20.333\n",
       "5 23.667\n",
       "6 21.000"
      ]
     },
     "metadata": {},
     "output_type": "display_data"
    }
   ],
   "source": [
    "library(MASS) #tam m.in. jest zbior survey\n",
    "head(survey)"
   ]
  },
  {
   "cell_type": "code",
   "execution_count": 43,
   "id": "1474aeed",
   "metadata": {},
   "outputs": [
    {
     "data": {
      "image/png": "[encoded data removed]",
      "text/plain": [
       "Plot with title \"Normal QQ plot of residuals\""
      ]
     },
     "metadata": {},
     "output_type": "display_data"
    }
   ],
   "source": [
    "options(repr.plot.width=10, repr.plot.height=5)\n",
    "\n",
    "par(mfrow = c(1, 2))\n",
    "boxplot(Age~Smoke,data=survey)\n",
    "age.means <- tapply(survey$Age,survey$Smoke,mean) #srednia z wieku wg Smoke\n",
    "age.meancen <- survey$Age-age.means[as.numeric(survey$Smoke)]\n",
    "qqnorm(age.meancen,main=\"Normal QQ plot of residuals\")\n",
    "qqline(age.meancen)"
   ]
  },
  {
   "cell_type": "code",
   "execution_count": 44,
   "id": "f5315f5f",
   "metadata": {},
   "outputs": [
    {
     "data": {
      "text/html": [
       "<dl class=dl-horizontal>\n",
       "\t<dt>Heavy</dt>\n",
       "\t\t<dd>21.394</dd>\n",
       "\t<dt>Never</dt>\n",
       "\t\t<dd>20.2615079365079</dd>\n",
       "\t<dt>Occas</dt>\n",
       "\t\t<dd>20.3421578947368</dd>\n",
       "\t<dt>Regul</dt>\n",
       "\t\t<dd>21.1274705882353</dd>\n",
       "</dl>\n"
      ],
      "text/latex": [
       "\\begin{description*}\n",
       "\\item[Heavy] 21.394\n",
       "\\item[Never] 20.2615079365079\n",
       "\\item[Occas] 20.3421578947368\n",
       "\\item[Regul] 21.1274705882353\n",
       "\\end{description*}\n"
      ],
      "text/markdown": [
       "Heavy\n",
       ":   21.394Never\n",
       ":   20.2615079365079Occas\n",
       ":   20.3421578947368Regul\n",
       ":   21.1274705882353\n",
       "\n"
      ],
      "text/plain": [
       "   Heavy    Never    Occas    Regul \n",
       "21.39400 20.26151 20.34216 21.12747 "
      ]
     },
     "metadata": {},
     "output_type": "display_data"
    }
   ],
   "source": [
    "age.means"
   ]
  },
  {
   "cell_type": "code",
   "execution_count": 45,
   "id": "1ffd5043",
   "metadata": {},
   "outputs": [
    {
     "data": {
      "text/plain": [
       "\n",
       "\tKruskal-Wallis rank sum test\n",
       "\n",
       "data:  Age by Smoke\n",
       "Kruskal-Wallis chi-squared = 3.9262, df = 3, p-value = 0.2695\n"
      ]
     },
     "metadata": {},
     "output_type": "display_data"
    }
   ],
   "source": [
    "kruskal.test(Age~Smoke,data=survey) #nie wskazuje na istotną roznicę"
   ]
  },
  {
   "cell_type": "markdown",
   "id": "97b06e13",
   "metadata": {},
   "source": [
    "<h3> Uzupełnienie "
   ]
  },
  {
   "cell_type": "code",
   "execution_count": 139,
   "id": "d2ef0ad8",
   "metadata": {},
   "outputs": [
    {
     "data": {
      "image/png": "[encoded data removed]",
      "text/plain": [
       "plot without title"
      ]
     },
     "metadata": {},
     "output_type": "display_data"
    }
   ],
   "source": [
    "options(repr.plot.width=3, repr.plot.height=3)\n",
    "y = c(0.38,1.43,1.2,1.45,1.44,0.98,6.91,2.28,1.02,0.55,1.18,0.59,0.41,1.08,0.75,1.99,0.14,1.64,2.54,1.94,1.7,1.04,0.67,2.59,0.34,0.48,0.4,0.25,0.3,8.07,5.41,10.9,3.85,0.59,1.61,0.48,1.71,0.78,0.74,0.49,1.07,3.18,19.53,0.37,0.46,2.71,1.01,1.3,4.98,0.78)\n",
    "boxplot(y)"
   ]
  },
  {
   "cell_type": "code",
   "execution_count": 47,
   "id": "47179273",
   "metadata": {},
   "outputs": [
    {
     "data": {
      "text/plain": [
       "\n",
       "\tShapiro-Wilk normality test\n",
       "\n",
       "data:  y\n",
       "W = 0.55292, p-value = 4.139e-11\n"
      ]
     },
     "metadata": {},
     "output_type": "display_data"
    }
   ],
   "source": [
    "shapiro.test(y)"
   ]
  },
  {
   "cell_type": "code",
   "execution_count": 48,
   "id": "03c3540d",
   "metadata": {},
   "outputs": [
    {
     "data": {
      "image/png": "[encoded data removed]",
      "text/plain": [
       "plot without title"
      ]
     },
     "metadata": {},
     "output_type": "display_data"
    }
   ],
   "source": [
    "#transformacja danych\n",
    "\n",
    "y2 = log(y)\n",
    "boxplot(y2)"
   ]
  },
  {
   "cell_type": "code",
   "execution_count": 49,
   "id": "2679909a",
   "metadata": {},
   "outputs": [
    {
     "data": {
      "text/plain": [
       "\n",
       "\tShapiro-Wilk normality test\n",
       "\n",
       "data:  y2\n",
       "W = 0.97701, p-value = 0.434\n"
      ]
     },
     "metadata": {},
     "output_type": "display_data"
    }
   ],
   "source": [
    "shapiro.test(y2)"
   ]
  },
  {
   "cell_type": "markdown",
   "id": "66e6a620",
   "metadata": {},
   "source": [
    "<h4> Zadanie3: Zaproponuj odpowiednią transformację danych tak aby rozkład danych po tej operacji był normalny."
   ]
  },
  {
   "cell_type": "code",
   "execution_count": 1,
   "id": "43bf969b",
   "metadata": {},
   "outputs": [
    {
     "data": {
      "image/png": "[encoded data removed]",
      "text/plain": [
       "plot without title"
      ]
     },
     "metadata": {},
     "output_type": "display_data"
    }
   ],
   "source": [
    "options(repr.plot.width=3, repr.plot.height=3)\n",
    "y = c(-0.11,6.26,0.07,-0.29,-0.16,1.1,0,1.41,5.33,-1.7,0.4,-1.66,-0.83,-0.02,0,-0.06,-0.01,-0.08,-0.18,-8.74,1.24,-0.41,-1.87,0.93,0.01,9.97,0.11,0.01,2.78,-0.32,0.01,-0.22,0.44,0.01,-8.62,0.02,0.08,-12.39,0,0.17,0.1,-2.78,3.51,0.06,-0.01,0,0.08,-1.37,0.02,0)\n",
    "boxplot(y)"
   ]
  }
 ],
 "metadata": {
  "kernelspec": {
   "display_name": "R",
   "language": "R",
   "name": "ir"
  },
  "language_info": {
   "codemirror_mode": "r",
   "file_extension": ".r",
   "mimetype": "text/x-r-source",
   "name": "R",
   "pygments_lexer": "r",
   "version": "3.6.1"
  }
 },
 "nbformat": 4,
 "nbformat_minor": 5
}
