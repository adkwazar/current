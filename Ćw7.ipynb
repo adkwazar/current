{
 "cells": [
  {
   "cell_type": "markdown",
   "metadata": {},
   "source": [
    "Adrian Kania, Ćwiczenia7"
   ]
  },
  {
   "cell_type": "markdown",
   "metadata": {},
   "source": [
    "<h4> Dziedziczenie"
   ]
  },
  {
   "cell_type": "code",
   "execution_count": 42,
   "metadata": {},
   "outputs": [],
   "source": [
    "class Osoba:\n",
    "    def __init__(self, imie, wiek):\n",
    "        self.imie = imie\n",
    "        self.wiek = wiek\n",
    "    \n",
    "    def przedstaw_sie(self):\n",
    "        return f'Witaj! Nazywam sie {self.imie}.'\n",
    "    \n",
    "    def ile_mam_lat(self):\n",
    "        return f'Mam {self.wiek} lat.'\n",
    "    "
   ]
  },
  {
   "cell_type": "code",
   "execution_count": 2,
   "metadata": {},
   "outputs": [],
   "source": [
    "class Student(Osoba): #klasa Student dziedziczy po klasie Osoba\n",
    "    def __init__(self, imie, wiek, rok):\n",
    "        super().__init__(imie, wiek) #pola imie i wiek jak w klasie Osoba\n",
    "        self.rok = rok\n",
    "    def ktory_rok(self):\n",
    "        return f'Jestem na {self.rok} roku studiów.'"
   ]
  },
  {
   "cell_type": "code",
   "execution_count": 3,
   "metadata": {},
   "outputs": [],
   "source": [
    "a = Student('Olek', 27, 2)    "
   ]
  },
  {
   "cell_type": "code",
   "execution_count": 4,
   "metadata": {},
   "outputs": [
    {
     "name": "stdout",
     "output_type": "stream",
     "text": [
      "['__class__', '__delattr__', '__dict__', '__dir__', '__doc__', '__eq__', '__format__', '__ge__', '__getattribute__', '__gt__', '__hash__', '__init__', '__init_subclass__', '__le__', '__lt__', '__module__', '__ne__', '__new__', '__reduce__', '__reduce_ex__', '__repr__', '__setattr__', '__sizeof__', '__str__', '__subclasshook__', '__weakref__', 'ile_mam_lat', 'imie', 'ktory_rok', 'przedstaw_sie', 'rok', 'wiek']\n"
     ]
    }
   ],
   "source": [
    "print(dir(a))"
   ]
  },
  {
   "cell_type": "code",
   "execution_count": 5,
   "metadata": {},
   "outputs": [
    {
     "data": {
      "text/plain": [
       "'Witaj! Nazywam sie Olek.'"
      ]
     },
     "execution_count": 5,
     "metadata": {},
     "output_type": "execute_result"
    }
   ],
   "source": [
    "a.przedstaw_sie() #metody z klasy Osoba są dostępne"
   ]
  },
  {
   "cell_type": "code",
   "execution_count": 6,
   "metadata": {},
   "outputs": [
    {
     "data": {
      "text/plain": [
       "'Jestem na 2 roku studiów.'"
      ]
     },
     "execution_count": 6,
     "metadata": {},
     "output_type": "execute_result"
    }
   ],
   "source": [
    "a.ktory_rok() #metoda zaimplementowania w klasie Student"
   ]
  },
  {
   "cell_type": "markdown",
   "metadata": {},
   "source": [
    "<h4> Funkcje z parametrem"
   ]
  },
  {
   "cell_type": "code",
   "execution_count": 7,
   "metadata": {},
   "outputs": [],
   "source": [
    "class Student(Osoba):\n",
    "    def __init__(self, imie, wiek, rok):\n",
    "        super().__init__(imie, wiek)\n",
    "        self.rok = rok\n",
    "        \n",
    "    def ktory_rok(self):\n",
    "        return f'Jestem na {self.rok} roku studiów.'\n",
    "    \n",
    "    def kiedy_skoncze_studia(self, l = 5):\n",
    "        \"\"\"\n",
    "        Ta funkcja wyznacza różnicę\n",
    "        pomiędzy liczbą lat studiów (l)\n",
    "        a obecnym rokiem studiowania.\n",
    "        \"\"\"\n",
    "        return f'Skoncze studia za {l-self.rok} lata.'"
   ]
  },
  {
   "cell_type": "code",
   "execution_count": 8,
   "metadata": {},
   "outputs": [],
   "source": [
    "a = Student('Olek', 27, 2)"
   ]
  },
  {
   "cell_type": "code",
   "execution_count": 9,
   "metadata": {},
   "outputs": [
    {
     "name": "stdout",
     "output_type": "stream",
     "text": [
      "['__class__', '__delattr__', '__dict__', '__dir__', '__doc__', '__eq__', '__format__', '__ge__', '__getattribute__', '__gt__', '__hash__', '__init__', '__init_subclass__', '__le__', '__lt__', '__module__', '__ne__', '__new__', '__reduce__', '__reduce_ex__', '__repr__', '__setattr__', '__sizeof__', '__str__', '__subclasshook__', '__weakref__', 'ile_mam_lat', 'kiedy_skoncze_studia', 'ktory_rok', 'przedstaw_sie']\n"
     ]
    }
   ],
   "source": [
    "print(dir(Student))"
   ]
  },
  {
   "cell_type": "code",
   "execution_count": 10,
   "metadata": {},
   "outputs": [
    {
     "name": "stdout",
     "output_type": "stream",
     "text": [
      "Help on function kiedy_skoncze_studia in module __main__:\n",
      "\n",
      "kiedy_skoncze_studia(self, l=5)\n",
      "    Ta funkcja wyznacza różnicę\n",
      "    pomiędzy liczbą lat studiów (l)\n",
      "    a obecnym rokiem studiowania.\n",
      "\n"
     ]
    }
   ],
   "source": [
    "help(Student.kiedy_skoncze_studia)"
   ]
  },
  {
   "cell_type": "code",
   "execution_count": 11,
   "metadata": {},
   "outputs": [
    {
     "data": {
      "text/plain": [
       "'Skoncze studia za 3 lata.'"
      ]
     },
     "execution_count": 11,
     "metadata": {},
     "output_type": "execute_result"
    }
   ],
   "source": [
    "a.kiedy_skoncze_studia()"
   ]
  },
  {
   "cell_type": "code",
   "execution_count": 12,
   "metadata": {},
   "outputs": [
    {
     "data": {
      "text/plain": [
       "'Skoncze studia za 2 lata.'"
      ]
     },
     "execution_count": 12,
     "metadata": {},
     "output_type": "execute_result"
    }
   ],
   "source": [
    "a.kiedy_skoncze_studia(4)"
   ]
  },
  {
   "cell_type": "code",
   "execution_count": 13,
   "metadata": {},
   "outputs": [
    {
     "name": "stdout",
     "output_type": "stream",
     "text": [
      "<__main__.Student object at 0x0000026557B800A0>\n"
     ]
    }
   ],
   "source": [
    "print(a)"
   ]
  },
  {
   "cell_type": "markdown",
   "metadata": {},
   "source": [
    "<h4> Metody specjalne"
   ]
  },
  {
   "cell_type": "code",
   "execution_count": 14,
   "metadata": {},
   "outputs": [],
   "source": [
    "class Student(Osoba):\n",
    "    \n",
    "    def __init__(self, imie, wiek, rok):\n",
    "        super().__init__(imie, wiek)\n",
    "        self.rok = rok\n",
    "       \n",
    "    def __str__(self):  #to co w print()\n",
    "        return f'Obiekt klasy Student: {self.imie}, {self.wiek}, {self.rok}'\n",
    "    \n",
    "    def __len__(self):  #to co w len()\n",
    "        return len(self.imie)\n",
    "    \n",
    "    def ktory_rok(self):\n",
    "        return f'Jestem na {self.rok} roku studiów.'\n",
    "    \n",
    "    def kiedy_skoncze_studia(self, l = 5):\n",
    "        \"\"\"\n",
    "        Ta funkcja wyznacza różnicę\n",
    "        pomiędzy liczbą lat studiów (l)\n",
    "        a obecnym rokiem studiowania.\n",
    "        \"\"\"\n",
    "        return f'Skoncze studia za {l-self.rok} lata.'"
   ]
  },
  {
   "cell_type": "code",
   "execution_count": 15,
   "metadata": {},
   "outputs": [
    {
     "name": "stdout",
     "output_type": "stream",
     "text": [
      "Obiekt klasy Student: Olek, 27, 2\n"
     ]
    }
   ],
   "source": [
    "a = Student('Olek', 27, 2)\n",
    "print(a)"
   ]
  },
  {
   "cell_type": "code",
   "execution_count": 16,
   "metadata": {},
   "outputs": [
    {
     "data": {
      "text/plain": [
       "'Obiekt klasy Student: Olek, 27, 2'"
      ]
     },
     "execution_count": 16,
     "metadata": {},
     "output_type": "execute_result"
    }
   ],
   "source": [
    "str(a)"
   ]
  },
  {
   "cell_type": "code",
   "execution_count": 17,
   "metadata": {},
   "outputs": [
    {
     "data": {
      "text/plain": [
       "4"
      ]
     },
     "execution_count": 17,
     "metadata": {},
     "output_type": "execute_result"
    }
   ],
   "source": [
    "len(a)"
   ]
  },
  {
   "cell_type": "markdown",
   "metadata": {},
   "source": [
    "<h4> Klasa Punkt"
   ]
  },
  {
   "cell_type": "code",
   "execution_count": 18,
   "metadata": {},
   "outputs": [
    {
     "data": {
      "text/plain": [
       "(9, 'aa')"
      ]
     },
     "execution_count": 18,
     "metadata": {},
     "output_type": "execute_result"
    }
   ],
   "source": [
    "#Przeciązanie operatorow\n",
    "\n",
    "4+5, \"a\"+\"a\""
   ]
  },
  {
   "cell_type": "code",
   "execution_count": 26,
   "metadata": {},
   "outputs": [],
   "source": [
    "class Punkt:\n",
    "    \"\"\"Klasa dla punktów.\"\"\"\n",
    "    \n",
    "    def __init__(self, x=0, y=0):\n",
    "        self.x = x\n",
    "        self.y = y\n",
    "\n",
    "    def __str__(self):  \n",
    "        \"\"\"Postać łańcuchowa punktu.\"\"\"\n",
    "        return f'pierwsza wsp.: {self.x}, druga wsp.: {self.y}'\n",
    "\n",
    "    def __add__(self, other):    \n",
    "        \"\"\"Dodawanie punktów jako wektorów.\"\"\"\n",
    "        return Punkt(self.x + other.x, self.y + other.y)\n",
    "    \n",
    "    def __eq__(self, other):  \n",
    "        \"Sprawdza czy dwa punkty są takie same (mają te same wspolrzędne)\"\n",
    "        return self.x == other.x and self.y == other.y\n"
   ]
  },
  {
   "cell_type": "code",
   "execution_count": 27,
   "metadata": {},
   "outputs": [],
   "source": [
    "p1 = Punkt(4,5)\n",
    "p2 = Punkt(1,2)"
   ]
  },
  {
   "cell_type": "code",
   "execution_count": 28,
   "metadata": {},
   "outputs": [
    {
     "name": "stdout",
     "output_type": "stream",
     "text": [
      "pierwsza wsp.: 5, druga wsp.: 7\n"
     ]
    }
   ],
   "source": [
    "p3 = p1+p2\n",
    "print(p3)"
   ]
  },
  {
   "cell_type": "code",
   "execution_count": 29,
   "metadata": {},
   "outputs": [
    {
     "data": {
      "text/plain": [
       "__main__.Punkt"
      ]
     },
     "execution_count": 29,
     "metadata": {},
     "output_type": "execute_result"
    }
   ],
   "source": [
    "type(p3)"
   ]
  },
  {
   "cell_type": "code",
   "execution_count": 21,
   "metadata": {},
   "outputs": [
    {
     "name": "stdout",
     "output_type": "stream",
     "text": [
      "pierwsza wsp.: 4, druga wsp.: 5\n"
     ]
    }
   ],
   "source": [
    "print(p1)"
   ]
  },
  {
   "cell_type": "code",
   "execution_count": 22,
   "metadata": {},
   "outputs": [
    {
     "name": "stdout",
     "output_type": "stream",
     "text": [
      "pierwsza wsp.: 1, druga wsp.: 2\n"
     ]
    }
   ],
   "source": [
    "print(p2)"
   ]
  },
  {
   "cell_type": "code",
   "execution_count": 23,
   "metadata": {},
   "outputs": [
    {
     "name": "stdout",
     "output_type": "stream",
     "text": [
      "pierwsza wsp.: 5, druga wsp.: 7\n"
     ]
    }
   ],
   "source": [
    "p3 = p1+p2 #dodawanie jest zdefiniowane w __add__\n",
    "print(p3)"
   ]
  },
  {
   "cell_type": "code",
   "execution_count": 24,
   "metadata": {},
   "outputs": [
    {
     "data": {
      "text/plain": [
       "False"
      ]
     },
     "execution_count": 24,
     "metadata": {},
     "output_type": "execute_result"
    }
   ],
   "source": [
    "p1 == p2 #== zdefiniowane jest w __eq__"
   ]
  },
  {
   "cell_type": "code",
   "execution_count": 50,
   "metadata": {},
   "outputs": [
    {
     "data": {
      "text/plain": [
       "(3, 'ab', False)"
      ]
     },
     "execution_count": 50,
     "metadata": {},
     "output_type": "execute_result"
    }
   ],
   "source": [
    "#dodawanie liczb calkowitych a dodawanie napisow\n",
    "\n",
    "int.__add__(1,2), str.__add__(\"a\",\"b\"), int.__add__ == str.__add__"
   ]
  },
  {
   "cell_type": "markdown",
   "metadata": {},
   "source": [
    "<h4> Zadanie1: Zdefiniuj klasę Prostokąt, która powinna mieć pola: długość i szerokość. Klasa ta powinna mieć metody wyznaczajace obwód, pole i przekątną prostokąta. Po wykonaniu metody print na instancji tej klasy powinny zostać podane wymiary tego prostokąta. Zdefiniuj przykładową instancję i wywołaj na niej te metody."
   ]
  },
  {
   "cell_type": "markdown",
   "metadata": {},
   "source": [
    "<h4> Zadanie2: Napisz klasę Punkt wraz z potrzebnymi metodami (skorzystaj z poniższego szablonu - uzupełni brakujące definicje). Punkty są traktowane jak wektory zaczepione w początku układu współrzędnych, o końcu w położeniu (x, y). Przedstaw działanie poniższej klasy. Zapisz program w pliku o nazwie ,,points.py''."
   ]
  },
  {
   "cell_type": "code",
   "execution_count": 25,
   "metadata": {},
   "outputs": [],
   "source": [
    "class Punkt:\n",
    "    \"\"\"Klasa reprezentująca punkty na płaszczyźnie.\"\"\"\n",
    "\n",
    "    def __init__(self, x=0, y=0):  # konstuktor\n",
    "        self.x = x\n",
    "        self.y = y\n",
    "        \n",
    "    def __str__(self): pass         # zwraca string \"(x, y)\"\n",
    "    \n",
    "    def __repr__(self):             # zwraca string \"Punkt(x, y)\"\n",
    "        \"\"\"Reprezentacja punktu.\"\"\"\n",
    "        return f'Punkt({self.x}, {self.y})'     \n",
    "    \n",
    "    def __eq__(self, other): pass   # obsługa point1 == point2\n",
    "    \n",
    "    def __ne__(self, other):        # obsługa point1 != point2\n",
    "        return not self == other\n",
    "    \n",
    "    def __add__(self, other): pass  # v1 + v2\n",
    "    \n",
    "    def __sub__(self, other): pass  # v1 - v2\n",
    "    \n",
    "    def __mul__(self, other): pass  # v1 * v2, iloczyn skalarny (suma iloczynow wspolrzędnych)\n",
    "    \n",
    "    def length(self): pass          # długość wektora\n",
    "    \n",
    "    def cross(self, other):         # v1 x v2, iloczyn wektorowy 2D\n",
    "        return self.x * other.y - self.y * other.x\n",
    "    "
   ]
  },
  {
   "cell_type": "markdown",
   "metadata": {},
   "source": [
    "<h4> Zadanie3: Proszę zdefiniować klasę Kolo wraz z potrzebnymi metodami. Kolo jest określone przez podanie środka i promienia. Wykorzystać wyjątek ValueError do obsługi błędów."
   ]
  },
  {
   "cell_type": "code",
   "execution_count": 26,
   "metadata": {},
   "outputs": [],
   "source": [
    "#from points import Punkt          # klasa z 2 zadania!\n",
    "\n",
    "class Kolo:\n",
    "    \"\"\"Klasa reprezentująca kola na płaszczyźnie.\"\"\"\n",
    "\n",
    "    def __init__(self, x=0, y=0, radius=1):\n",
    "        if radius < 0:\n",
    "            raise ValueError(\"promień ujemny\")\n",
    "        self.pt = Punkt(x, y)\n",
    "        self.radius = radius\n",
    "        \n",
    "    def __repr__(self): pass       # \"Kolo(x, y, radius)\"\n",
    "    \n",
    "    def __eq__(self, other):\n",
    "        return self.pt == other.pt and self.radius == other.radius\n",
    "    \n",
    "    def __ne__(self, other):\n",
    "        return not self == other\n",
    "    \n",
    "    def area(self): pass           # pole powierzchni\n",
    "    \n",
    "    def move(self, x, y): pass     # przesuniecie kola o wektor (x, y) ??\n",
    "    \n",
    "    def cover(self, other): pass   #sprawdza czy dwa kola nakladają sie"
   ]
  },
  {
   "cell_type": "markdown",
   "metadata": {},
   "source": [
    "<h4> Zadanie4: Zdefiniuj klasę FunkcjaKwadratowa, która przechowuje funkcje typu $ax^2$+bx+c. Klasa powinna zawierać trzy pola: a, b, c, które są przypisywane w konstruktorze. Główną metodą powinna być rozwiaz(), która zwraca miejsca zerowe podanej funkcji. Należy zwrócić uwagę na przypadki gdy a=0, b=0 itd a także obmyślić sposób informowania o jednym lub zerze rozwiązań. Zdefiniuj też kilka innych wybranych metod."
   ]
  },
  {
   "cell_type": "markdown",
   "metadata": {},
   "source": [
    "<h4> Zadanie5: Zdefiniuj klasę DNAseq, która będzie zawierała metody działające na sekwencjach nukleotydowych. Klasa ta powinna zawierać takie funkcjonalności jak:\n",
    "\n",
    "- wyświetlanie sekwencji w formacie FASTA\n",
    "- wyznaczanie sekwencji komplementarnej\n",
    "- wyznaczanie sekwencji odwrotnie komplementarnej\n",
    "- translację sekwencji na sewkencje aminokwasową (o ile to możliwe)\n",
    "- sprawdzanie czy w sekwencji znajduje sie zadana podsekwencja\n",
    "- dodawanie dwóch sekwencji (rozumiane jako konkatenacja) nazw i sekwencji\n",
    "- zapisywanie sekwencji do pliku w formacie FASTA\n",
    "\n",
    "Więcej funkcjonalnosci i szkielet poniżej ;)"
   ]
  },
  {
   "cell_type": "code",
   "execution_count": 27,
   "metadata": {},
   "outputs": [],
   "source": [
    "class DNAseq:\n",
    "    \n",
    "    def __init__(self, name, seq):\n",
    "        pass\n",
    "        \n",
    "    def __repr__(self):  #zwraca reprezentacje w formacie FASTA\n",
    "        pass\n",
    "    \n",
    "    def __add__(self,other):  #dodawanie sekwencji rozumiane jako konktenacja nazw i sekwenecji (tez obiekt klasy DNAseq!!)\n",
    "        pass\n",
    "    \n",
    "    def __len__(self):       #dlugosc zdefiniowana jako dlugosc sekwencji\n",
    "        pass\n",
    "    \n",
    "    def __getitem__(self, key):   #slicowanie, operacja typu obiekt[4:6] (tez obiekt klasy DNAseq!!)\n",
    "        pass\n",
    "    \n",
    "    def __eq__(self, other):      #sprawdza czy dwa obiekty klasy DNAseq są takie same (te same nazwy i sekwencje) \n",
    "        pass\n",
    "    \n",
    "    def __contains__(self, value): #przyklad \"ATGC\" in \"TCGCGCGAAA\"\n",
    "        pass\n",
    "    \n",
    "    def komplementarna(self):   #zwraca komplementarną (tez obiekt klasy DNAseq!!)\n",
    "        pass\n",
    "    \n",
    "    def odwrotnie_komplementarna(self):  #zwraca odwrotnie komplementaerną (tez obiekt klasy DNAseq!!)\n",
    "        pass\n",
    "    \n",
    "    def zapisz(self):   #zapisze do pliku w formacie FASTA, nazwa pliku to nazwa sekwencji\n",
    "        pass\n",
    "    \n",
    "    def sklad(self):   # częstosci A?, C?, G?, T? w postaci slownika\n",
    "        pass\n",
    "    \n",
    "    def translacja(self):  #zwraca sekwencje aminokwasową (o ile to mozliwe)\n",
    "        pass\n",
    "    \n",
    "    def doklej(self, x):  #zwraca wydluzoną sekwencje (tez obiekt klasy DNAseq!!)\n",
    "        pass"
   ]
  },
  {
   "cell_type": "markdown",
   "metadata": {},
   "source": [
    "Przykładowe wywołania poniżej"
   ]
  },
  {
   "cell_type": "code",
   "execution_count": 29,
   "metadata": {},
   "outputs": [],
   "source": [
    "s1 = DNAseq(\"sekwencja1\",\"ATGGC\")"
   ]
  },
  {
   "cell_type": "code",
   "execution_count": 30,
   "metadata": {},
   "outputs": [
    {
     "name": "stdout",
     "output_type": "stream",
     "text": [
      ">sekwencja1\n",
      "ATGGC\n"
     ]
    }
   ],
   "source": [
    "print(s1) #zdefiniowane w __repr__ "
   ]
  },
  {
   "cell_type": "code",
   "execution_count": 31,
   "metadata": {},
   "outputs": [
    {
     "name": "stdout",
     "output_type": "stream",
     "text": [
      ">sekwencja1_sekwencja2\n",
      "ATGGCTCA\n"
     ]
    }
   ],
   "source": [
    "s1 = DNAseq(\"sekwencja1\",\"ATGGC\")\n",
    "s2 = DNAseq(\"sekwencja2\",\"TCA\")\n",
    "\n",
    "s3 = s1+s2 #zdefiniowane w __ad__\n",
    "print(s3)"
   ]
  },
  {
   "cell_type": "code",
   "execution_count": 32,
   "metadata": {},
   "outputs": [
    {
     "data": {
      "text/plain": [
       "8"
      ]
     },
     "execution_count": 32,
     "metadata": {},
     "output_type": "execute_result"
    }
   ],
   "source": [
    "len(s3)  #zdefiniowane w __len__"
   ]
  },
  {
   "cell_type": "code",
   "execution_count": 33,
   "metadata": {},
   "outputs": [
    {
     "data": {
      "text/plain": [
       ">sekwencja1_sekwencja2\n",
       "GGC"
      ]
     },
     "execution_count": 33,
     "metadata": {},
     "output_type": "execute_result"
    }
   ],
   "source": [
    "s3[2:5] #zdefiniowane w __getitem__"
   ]
  },
  {
   "cell_type": "code",
   "execution_count": 34,
   "metadata": {},
   "outputs": [
    {
     "data": {
      "text/plain": [
       "False"
      ]
     },
     "execution_count": 34,
     "metadata": {},
     "output_type": "execute_result"
    }
   ],
   "source": [
    "s1 == s2 #zdefiniowane w __eq__"
   ]
  },
  {
   "cell_type": "code",
   "execution_count": 35,
   "metadata": {},
   "outputs": [
    {
     "data": {
      "text/plain": [
       "True"
      ]
     },
     "execution_count": 35,
     "metadata": {},
     "output_type": "execute_result"
    }
   ],
   "source": [
    "\"AT\" in s1 #zdefiniowane w __contains__"
   ]
  },
  {
   "cell_type": "code",
   "execution_count": 36,
   "metadata": {},
   "outputs": [
    {
     "data": {
      "text/plain": [
       ">komplementarna_do_sekwencja1\n",
       "TACCG"
      ]
     },
     "execution_count": 36,
     "metadata": {},
     "output_type": "execute_result"
    }
   ],
   "source": [
    "s1.komplementarna() #zdefiniowane w komplementarna"
   ]
  },
  {
   "cell_type": "code",
   "execution_count": 37,
   "metadata": {},
   "outputs": [
    {
     "data": {
      "text/plain": [
       ">komplementarna_do_sekwencja1\n",
       "GCCAT"
      ]
     },
     "execution_count": 37,
     "metadata": {},
     "output_type": "execute_result"
    }
   ],
   "source": [
    "s1.odwrotnie_komplementarna() #zdefiniowane w odwrotnie_komplementarna"
   ]
  },
  {
   "cell_type": "code",
   "execution_count": 38,
   "metadata": {},
   "outputs": [
    {
     "name": "stdout",
     "output_type": "stream",
     "text": [
      ">sekwencja1\n",
      "ATGGC\n"
     ]
    }
   ],
   "source": [
    "print(s1)"
   ]
  },
  {
   "cell_type": "code",
   "execution_count": 39,
   "metadata": {},
   "outputs": [
    {
     "name": "stdout",
     "output_type": "stream",
     "text": [
      ">sekwencja1\n",
      "ATGGCAA\n"
     ]
    }
   ],
   "source": [
    "s4 = s1.doklej(\"AA\")\n",
    "print(s4)"
   ]
  }
 ],
 "metadata": {
  "kernelspec": {
   "display_name": "Python 3",
   "language": "python",
   "name": "python3"
  },
  "language_info": {
   "codemirror_mode": {
    "name": "ipython",
    "version": 3
   },
   "file_extension": ".py",
   "mimetype": "text/x-python",
   "name": "python",
   "nbconvert_exporter": "python",
   "pygments_lexer": "ipython3",
   "version": "3.8.5"
  }
 },
 "nbformat": 4,
 "nbformat_minor": 2
}
