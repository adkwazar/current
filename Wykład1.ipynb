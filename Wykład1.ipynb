{
 "cells": [
  {
   "cell_type": "markdown",
   "id": "c012fd19",
   "metadata": {},
   "source": [
    "<h3> Podstawy języka R"
   ]
  },
  {
   "cell_type": "markdown",
   "id": "44ff3e98",
   "metadata": {},
   "source": [
    "<h4> Deklarowanie zmiennej"
   ]
  },
  {
   "cell_type": "code",
   "execution_count": 1,
   "id": "fd969c53",
   "metadata": {},
   "outputs": [
    {
     "data": {
      "text/html": [
       "5"
      ],
      "text/latex": [
       "5"
      ],
      "text/markdown": [
       "5"
      ],
      "text/plain": [
       "[1] 5"
      ]
     },
     "metadata": {},
     "output_type": "display_data"
    },
    {
     "data": {
      "text/html": [
       "6"
      ],
      "text/latex": [
       "6"
      ],
      "text/markdown": [
       "6"
      ],
      "text/plain": [
       "[1] 6"
      ]
     },
     "metadata": {},
     "output_type": "display_data"
    },
    {
     "data": {
      "text/html": [
       "7"
      ],
      "text/latex": [
       "7"
      ],
      "text/markdown": [
       "7"
      ],
      "text/plain": [
       "[1] 7"
      ]
     },
     "metadata": {},
     "output_type": "display_data"
    }
   ],
   "source": [
    "x1 = 5\n",
    "x2 <- 6 #preferowany przez R'owców\n",
    "7 -> x3\n",
    "\n",
    "x1; x2; x3   "
   ]
  },
  {
   "cell_type": "code",
   "execution_count": 2,
   "id": "6ea5b57e",
   "metadata": {},
   "outputs": [
    {
     "data": {
      "text/html": [
       "2.23606797749979"
      ],
      "text/latex": [
       "2.23606797749979"
      ],
      "text/markdown": [
       "2.23606797749979"
      ],
      "text/plain": [
       "[1] 2.236068"
      ]
     },
     "metadata": {},
     "output_type": "display_data"
    },
    {
     "data": {
      "text/html": [
       "2.32192809488736"
      ],
      "text/latex": [
       "2.32192809488736"
      ],
      "text/markdown": [
       "2.32192809488736"
      ],
      "text/plain": [
       "[1] 2.321928"
      ]
     },
     "metadata": {},
     "output_type": "display_data"
    },
    {
     "data": {
      "text/html": [
       "148.413159102577"
      ],
      "text/latex": [
       "148.413159102577"
      ],
      "text/markdown": [
       "148.413159102577"
      ],
      "text/plain": [
       "[1] 148.4132"
      ]
     },
     "metadata": {},
     "output_type": "display_data"
    }
   ],
   "source": [
    "sqrt(x1); log2(x1); exp(x1)"
   ]
  },
  {
   "cell_type": "markdown",
   "id": "be7f68b8",
   "metadata": {},
   "source": [
    "<h4> Ćwiczenie1: Oblicz wartosć wyrażenia: $e^{\\frac{-2}{\\log_2{5}}}$."
   ]
  },
  {
   "cell_type": "code",
   "execution_count": 3,
   "id": "4337ab62",
   "metadata": {},
   "outputs": [
    {
     "data": {
      "text/html": [
       "3.14159265358979"
      ],
      "text/latex": [
       "3.14159265358979"
      ],
      "text/markdown": [
       "3.14159265358979"
      ],
      "text/plain": [
       "[1] 3.141593"
      ]
     },
     "metadata": {},
     "output_type": "display_data"
    }
   ],
   "source": [
    "pi #stala pi jest zaimplementowana w R"
   ]
  },
  {
   "cell_type": "code",
   "execution_count": 4,
   "id": "944a6380",
   "metadata": {},
   "outputs": [
    {
     "data": {
      "text/html": [
       "<ol class=list-inline>\n",
       "\t<li>'x1'</li>\n",
       "\t<li>'x2'</li>\n",
       "\t<li>'x3'</li>\n",
       "</ol>\n"
      ],
      "text/latex": [
       "\\begin{enumerate*}\n",
       "\\item 'x1'\n",
       "\\item 'x2'\n",
       "\\item 'x3'\n",
       "\\end{enumerate*}\n"
      ],
      "text/markdown": [
       "1. 'x1'\n",
       "2. 'x2'\n",
       "3. 'x3'\n",
       "\n",
       "\n"
      ],
      "text/plain": [
       "[1] \"x1\" \"x2\" \"x3\""
      ]
     },
     "metadata": {},
     "output_type": "display_data"
    }
   ],
   "source": [
    "ls() #co sobie zadeklarowalismy"
   ]
  },
  {
   "cell_type": "markdown",
   "id": "f9d6b107",
   "metadata": {},
   "source": [
    "<h4> Typy obiektów w R"
   ]
  },
  {
   "cell_type": "markdown",
   "id": "7e0112e7",
   "metadata": {},
   "source": [
    "- Liczby"
   ]
  },
  {
   "cell_type": "code",
   "execution_count": 5,
   "id": "416d3e0c",
   "metadata": {},
   "outputs": [
    {
     "data": {
      "text/html": [
       "1"
      ],
      "text/latex": [
       "1"
      ],
      "text/markdown": [
       "1"
      ],
      "text/plain": [
       "[1] 1"
      ]
     },
     "metadata": {},
     "output_type": "display_data"
    },
    {
     "data": {
      "text/html": [
       "'double'"
      ],
      "text/latex": [
       "'double'"
      ],
      "text/markdown": [
       "'double'"
      ],
      "text/plain": [
       "[1] \"double\""
      ]
     },
     "metadata": {},
     "output_type": "display_data"
    },
    {
     "data": {
      "text/html": [
       "'numeric'"
      ],
      "text/latex": [
       "'numeric'"
      ],
      "text/markdown": [
       "'numeric'"
      ],
      "text/plain": [
       "[1] \"numeric\""
      ]
     },
     "metadata": {},
     "output_type": "display_data"
    }
   ],
   "source": [
    "x = 1\n",
    "x; typeof(x); mode(x)"
   ]
  },
  {
   "cell_type": "code",
   "execution_count": 6,
   "id": "e30d3511",
   "metadata": {},
   "outputs": [
    {
     "data": {
      "text/html": [
       "1"
      ],
      "text/latex": [
       "1"
      ],
      "text/markdown": [
       "1"
      ],
      "text/plain": [
       "[1] 1"
      ]
     },
     "metadata": {},
     "output_type": "display_data"
    },
    {
     "data": {
      "text/html": [
       "'double'"
      ],
      "text/latex": [
       "'double'"
      ],
      "text/markdown": [
       "'double'"
      ],
      "text/plain": [
       "[1] \"double\""
      ]
     },
     "metadata": {},
     "output_type": "display_data"
    },
    {
     "data": {
      "text/html": [
       "'numeric'"
      ],
      "text/latex": [
       "'numeric'"
      ],
      "text/markdown": [
       "'numeric'"
      ],
      "text/plain": [
       "[1] \"numeric\""
      ]
     },
     "metadata": {},
     "output_type": "display_data"
    }
   ],
   "source": [
    "x = 1.0\n",
    "x; typeof(x); mode(x)"
   ]
  },
  {
   "cell_type": "code",
   "execution_count": 7,
   "id": "3a7930c9",
   "metadata": {},
   "outputs": [
    {
     "data": {
      "text/html": [
       "1"
      ],
      "text/latex": [
       "1"
      ],
      "text/markdown": [
       "1"
      ],
      "text/plain": [
       "[1] 1"
      ]
     },
     "metadata": {},
     "output_type": "display_data"
    },
    {
     "data": {
      "text/html": [
       "'integer'"
      ],
      "text/latex": [
       "'integer'"
      ],
      "text/markdown": [
       "'integer'"
      ],
      "text/plain": [
       "[1] \"integer\""
      ]
     },
     "metadata": {},
     "output_type": "display_data"
    },
    {
     "data": {
      "text/html": [
       "'numeric'"
      ],
      "text/latex": [
       "'numeric'"
      ],
      "text/markdown": [
       "'numeric'"
      ],
      "text/plain": [
       "[1] \"numeric\""
      ]
     },
     "metadata": {},
     "output_type": "display_data"
    }
   ],
   "source": [
    "x = 1L #jezeli chce miec typ integer dodaje L\n",
    "x; typeof(x); mode(x) #nazwa typu zmiennej/informacja o sposobie przetwarzania obiektu (w zasadzie cos jak typeof z tym ze double to podrodzaj numeric)"
   ]
  },
  {
   "cell_type": "code",
   "execution_count": 8,
   "id": "89dca61c",
   "metadata": {},
   "outputs": [
    {
     "data": {
      "text/html": [
       "'integer'"
      ],
      "text/latex": [
       "'integer'"
      ],
      "text/markdown": [
       "'integer'"
      ],
      "text/plain": [
       "[1] \"integer\""
      ]
     },
     "metadata": {},
     "output_type": "display_data"
    }
   ],
   "source": [
    "class(x) #nazwa klasy, mozna modyfikowac (wiecej na cwiczenia2)"
   ]
  },
  {
   "cell_type": "code",
   "execution_count": 9,
   "id": "56a9b448",
   "metadata": {},
   "outputs": [
    {
     "data": {
      "text/html": [
       "'double'"
      ],
      "text/latex": [
       "'double'"
      ],
      "text/markdown": [
       "'double'"
      ],
      "text/plain": [
       "[1] \"double\""
      ]
     },
     "metadata": {},
     "output_type": "display_data"
    }
   ],
   "source": [
    "typeof(1L+3)"
   ]
  },
  {
   "cell_type": "code",
   "execution_count": 10,
   "id": "1bbb6c19",
   "metadata": {},
   "outputs": [
    {
     "data": {
      "text/html": [
       "5.68"
      ],
      "text/latex": [
       "5.68"
      ],
      "text/markdown": [
       "5.68"
      ],
      "text/plain": [
       "[1] 5.68"
      ]
     },
     "metadata": {},
     "output_type": "display_data"
    }
   ],
   "source": [
    "round(5.678,2)"
   ]
  },
  {
   "cell_type": "code",
   "execution_count": 11,
   "id": "b09008ad",
   "metadata": {},
   "outputs": [],
   "source": [
    "#?round #opis; inny sposob to help(round)"
   ]
  },
  {
   "cell_type": "markdown",
   "id": "b6f10d87",
   "metadata": {},
   "source": [
    "- Napisy"
   ]
  },
  {
   "cell_type": "code",
   "execution_count": 12,
   "id": "5e6a4316",
   "metadata": {},
   "outputs": [
    {
     "data": {
      "text/html": [
       "'character'"
      ],
      "text/latex": [
       "'character'"
      ],
      "text/markdown": [
       "'character'"
      ],
      "text/plain": [
       "[1] \"character\""
      ]
     },
     "metadata": {},
     "output_type": "display_data"
    },
    {
     "data": {
      "text/html": [
       "'character'"
      ],
      "text/latex": [
       "'character'"
      ],
      "text/markdown": [
       "'character'"
      ],
      "text/plain": [
       "[1] \"character\""
      ]
     },
     "metadata": {},
     "output_type": "display_data"
    }
   ],
   "source": [
    "n = \"ATG\"\n",
    "typeof(n); mode(n)"
   ]
  },
  {
   "cell_type": "code",
   "execution_count": 13,
   "id": "73c79fab",
   "metadata": {},
   "outputs": [
    {
     "data": {
      "text/html": [
       "3"
      ],
      "text/latex": [
       "3"
      ],
      "text/markdown": [
       "3"
      ],
      "text/plain": [
       "[1] 3"
      ]
     },
     "metadata": {},
     "output_type": "display_data"
    }
   ],
   "source": [
    "nchar(n) #liczba zankow"
   ]
  },
  {
   "cell_type": "code",
   "execution_count": 14,
   "id": "f61d8e37",
   "metadata": {},
   "outputs": [
    {
     "data": {
      "text/html": [
       "1"
      ],
      "text/latex": [
       "1"
      ],
      "text/markdown": [
       "1"
      ],
      "text/plain": [
       "[1] 1"
      ]
     },
     "metadata": {},
     "output_type": "display_data"
    }
   ],
   "source": [
    "length(n) #bo to jeden napis"
   ]
  },
  {
   "cell_type": "code",
   "execution_count": 15,
   "id": "dc2d62be",
   "metadata": {},
   "outputs": [
    {
     "data": {
      "text/html": [
       "'A--T'"
      ],
      "text/latex": [
       "'A--T'"
      ],
      "text/markdown": [
       "'A--T'"
      ],
      "text/plain": [
       "[1] \"A--T\""
      ]
     },
     "metadata": {},
     "output_type": "display_data"
    }
   ],
   "source": [
    "paste(c(\"A\", \"T\"), collapse = \"--\") #sklejanie napisow,  \"A\"+\"T\""
   ]
  },
  {
   "cell_type": "markdown",
   "id": "14f59cd3",
   "metadata": {},
   "source": [
    "- Wektory"
   ]
  },
  {
   "cell_type": "code",
   "execution_count": 16,
   "id": "29e62993",
   "metadata": {},
   "outputs": [
    {
     "data": {
      "text/html": [
       "<ol class=list-inline>\n",
       "\t<li>1</li>\n",
       "\t<li>-2</li>\n",
       "\t<li>3</li>\n",
       "</ol>\n"
      ],
      "text/latex": [
       "\\begin{enumerate*}\n",
       "\\item 1\n",
       "\\item -2\n",
       "\\item 3\n",
       "\\end{enumerate*}\n"
      ],
      "text/markdown": [
       "1. 1\n",
       "2. -2\n",
       "3. 3\n",
       "\n",
       "\n"
      ],
      "text/plain": [
       "[1]  1 -2  3"
      ]
     },
     "metadata": {},
     "output_type": "display_data"
    },
    {
     "data": {
      "text/html": [
       "'double'"
      ],
      "text/latex": [
       "'double'"
      ],
      "text/markdown": [
       "'double'"
      ],
      "text/plain": [
       "[1] \"double\""
      ]
     },
     "metadata": {},
     "output_type": "display_data"
    },
    {
     "data": {
      "text/html": [
       "'numeric'"
      ],
      "text/latex": [
       "'numeric'"
      ],
      "text/markdown": [
       "'numeric'"
      ],
      "text/plain": [
       "[1] \"numeric\""
      ]
     },
     "metadata": {},
     "output_type": "display_data"
    }
   ],
   "source": [
    "v = c(1,-2,3) #wektor zawiera uporządkowany zestaw obiektow jednego typu!\n",
    "v; typeof(v); mode(v)"
   ]
  },
  {
   "cell_type": "code",
   "execution_count": 17,
   "id": "492a2225",
   "metadata": {},
   "outputs": [
    {
     "name": "stdout",
     "output_type": "stream",
     "text": [
      "[1] 1\n"
     ]
    }
   ],
   "source": [
    "print(v[1]) #pierwszy element. W R liczymy od 1!"
   ]
  },
  {
   "cell_type": "code",
   "execution_count": 18,
   "id": "feea074c",
   "metadata": {},
   "outputs": [
    {
     "name": "stdout",
     "output_type": "stream",
     "text": [
      "[1] -2  3\n"
     ]
    }
   ],
   "source": [
    "print(v[-1]) #wektor v bez pierwszego elementu; inne znaczenie niz w Python"
   ]
  },
  {
   "cell_type": "code",
   "execution_count": 19,
   "id": "daf63281",
   "metadata": {},
   "outputs": [
    {
     "data": {
      "text/html": [
       "2"
      ],
      "text/latex": [
       "2"
      ],
      "text/markdown": [
       "2"
      ],
      "text/plain": [
       "[1] 2"
      ]
     },
     "metadata": {},
     "output_type": "display_data"
    }
   ],
   "source": [
    "sum(v) #suma elementow"
   ]
  },
  {
   "cell_type": "code",
   "execution_count": 20,
   "id": "014d26cc",
   "metadata": {},
   "outputs": [
    {
     "data": {
      "text/html": [
       "-6"
      ],
      "text/latex": [
       "-6"
      ],
      "text/markdown": [
       "-6"
      ],
      "text/plain": [
       "[1] -6"
      ]
     },
     "metadata": {},
     "output_type": "display_data"
    }
   ],
   "source": [
    "prod(v) #iloczyn elementow"
   ]
  },
  {
   "cell_type": "code",
   "execution_count": 21,
   "id": "4a649b73",
   "metadata": {},
   "outputs": [
    {
     "data": {
      "text/html": [
       "3"
      ],
      "text/latex": [
       "3"
      ],
      "text/markdown": [
       "3"
      ],
      "text/plain": [
       "[1] 3"
      ]
     },
     "metadata": {},
     "output_type": "display_data"
    }
   ],
   "source": [
    "length(v) #dlugosc weektora"
   ]
  },
  {
   "cell_type": "code",
   "execution_count": 22,
   "id": "36ec0858",
   "metadata": {},
   "outputs": [
    {
     "data": {
      "text/html": [
       "<ol class=list-inline>\n",
       "\t<li>'1'</li>\n",
       "\t<li>'-2'</li>\n",
       "\t<li>'3'</li>\n",
       "</ol>\n"
      ],
      "text/latex": [
       "\\begin{enumerate*}\n",
       "\\item '1'\n",
       "\\item '-2'\n",
       "\\item '3'\n",
       "\\end{enumerate*}\n"
      ],
      "text/markdown": [
       "1. '1'\n",
       "2. '-2'\n",
       "3. '3'\n",
       "\n",
       "\n"
      ],
      "text/plain": [
       "[1] \"1\"  \"-2\" \"3\" "
      ]
     },
     "metadata": {},
     "output_type": "display_data"
    },
    {
     "data": {
      "text/html": [
       "'character'"
      ],
      "text/latex": [
       "'character'"
      ],
      "text/markdown": [
       "'character'"
      ],
      "text/plain": [
       "[1] \"character\""
      ]
     },
     "metadata": {},
     "output_type": "display_data"
    },
    {
     "data": {
      "text/html": [
       "'character'"
      ],
      "text/latex": [
       "'character'"
      ],
      "text/markdown": [
       "'character'"
      ],
      "text/plain": [
       "[1] \"character\""
      ]
     },
     "metadata": {},
     "output_type": "display_data"
    }
   ],
   "source": [
    "v2 = c(1,-2,\"3\") \n",
    "v2; typeof(v2); mode(v2)"
   ]
  },
  {
   "cell_type": "code",
   "execution_count": 23,
   "id": "8821ca7b",
   "metadata": {},
   "outputs": [
    {
     "name": "stdout",
     "output_type": "stream",
     "text": [
      "[1] -2  1  3\n"
     ]
    }
   ],
   "source": [
    "print(sort(v)) #posortowany wektor v"
   ]
  },
  {
   "cell_type": "code",
   "execution_count": 24,
   "id": "0cba4c9b",
   "metadata": {},
   "outputs": [
    {
     "name": "stdout",
     "output_type": "stream",
     "text": [
      "[1] 2 1 3\n"
     ]
    }
   ],
   "source": [
    "print(order(v)) #kolejnosc indeksow rosnaco"
   ]
  },
  {
   "cell_type": "code",
   "execution_count": 25,
   "id": "0f613227",
   "metadata": {},
   "outputs": [
    {
     "name": "stdout",
     "output_type": "stream",
     "text": [
      " [1] -4 -3 -2 -1  0  1  2  3  4  5\n"
     ]
    }
   ],
   "source": [
    "v3 = -4:5 #tak tez moge zadeklarowac wektor\n",
    "print(v3)"
   ]
  },
  {
   "cell_type": "code",
   "execution_count": 26,
   "id": "e0769e22",
   "metadata": {},
   "outputs": [
    {
     "name": "stdout",
     "output_type": "stream",
     "text": [
      " [1]  1  4  7 10 13 16 19 22 25 28\n"
     ]
    }
   ],
   "source": [
    "v4 = seq(1,30, 3) #od, do, co ile\n",
    "print(v4)"
   ]
  },
  {
   "cell_type": "code",
   "execution_count": 27,
   "id": "c721a55d",
   "metadata": {},
   "outputs": [
    {
     "name": "stdout",
     "output_type": "stream",
     "text": [
      "[1] 2 2 2 2\n"
     ]
    }
   ],
   "source": [
    "v5 = rep(2,4) #zwielokrotniony - co i ile razy  \n",
    "print(v5)"
   ]
  },
  {
   "cell_type": "code",
   "execution_count": 28,
   "id": "bdea93de",
   "metadata": {},
   "outputs": [
    {
     "name": "stdout",
     "output_type": "stream",
     "text": [
      "[1] 1 2 1 2 1 2\n"
     ]
    }
   ],
   "source": [
    "v6 = rep(c(1,2),3)                          \n",
    "print(v6)"
   ]
  },
  {
   "cell_type": "code",
   "execution_count": 29,
   "id": "2b6a9402",
   "metadata": {},
   "outputs": [
    {
     "data": {
      "text/html": [
       "3"
      ],
      "text/latex": [
       "3"
      ],
      "text/markdown": [
       "3"
      ],
      "text/plain": [
       "[1] 3"
      ]
     },
     "metadata": {},
     "output_type": "display_data"
    },
    {
     "data": {
      "text/html": [
       "6"
      ],
      "text/latex": [
       "6"
      ],
      "text/markdown": [
       "6"
      ],
      "text/plain": [
       "[1] 6"
      ]
     },
     "metadata": {},
     "output_type": "display_data"
    },
    {
     "data": {
      "text/html": [
       "6"
      ],
      "text/latex": [
       "6"
      ],
      "text/markdown": [
       "6"
      ],
      "text/plain": [
       "[1] 6"
      ]
     },
     "metadata": {},
     "output_type": "display_data"
    },
    {
     "data": {
      "text/html": [
       "<ol class=list-inline>\n",
       "\t<li>0.841470984807897</li>\n",
       "\t<li>0.909297426825682</li>\n",
       "\t<li>0.141120008059867</li>\n",
       "</ol>\n"
      ],
      "text/latex": [
       "\\begin{enumerate*}\n",
       "\\item 0.841470984807897\n",
       "\\item 0.909297426825682\n",
       "\\item 0.141120008059867\n",
       "\\end{enumerate*}\n"
      ],
      "text/markdown": [
       "1. 0.841470984807897\n",
       "2. 0.909297426825682\n",
       "3. 0.141120008059867\n",
       "\n",
       "\n"
      ],
      "text/plain": [
       "[1] 0.8414710 0.9092974 0.1411200"
      ]
     },
     "metadata": {},
     "output_type": "display_data"
    },
    {
     "data": {
      "text/html": [
       "<ol class=list-inline>\n",
       "\t<li>-3</li>\n",
       "\t<li>7</li>\n",
       "\t<li>9</li>\n",
       "</ol>\n"
      ],
      "text/latex": [
       "\\begin{enumerate*}\n",
       "\\item -3\n",
       "\\item 7\n",
       "\\item 9\n",
       "\\end{enumerate*}\n"
      ],
      "text/markdown": [
       "1. -3\n",
       "2. 7\n",
       "3. 9\n",
       "\n",
       "\n"
      ],
      "text/plain": [
       "[1] -3  7  9"
      ]
     },
     "metadata": {},
     "output_type": "display_data"
    },
    {
     "data": {
      "text/html": [
       "<ol class=list-inline>\n",
       "\t<li>-4</li>\n",
       "\t<li>10</li>\n",
       "\t<li>18</li>\n",
       "</ol>\n"
      ],
      "text/latex": [
       "\\begin{enumerate*}\n",
       "\\item -4\n",
       "\\item 10\n",
       "\\item 18\n",
       "\\end{enumerate*}\n"
      ],
      "text/markdown": [
       "1. -4\n",
       "2. 10\n",
       "3. 18\n",
       "\n",
       "\n"
      ],
      "text/plain": [
       "[1] -4 10 18"
      ]
     },
     "metadata": {},
     "output_type": "display_data"
    },
    {
     "data": {
      "text/html": [
       "<ol class=list-inline>\n",
       "\t<li>5</li>\n",
       "\t<li>-3</li>\n",
       "\t<li>-3</li>\n",
       "</ol>\n"
      ],
      "text/latex": [
       "\\begin{enumerate*}\n",
       "\\item 5\n",
       "\\item -3\n",
       "\\item -3\n",
       "\\end{enumerate*}\n"
      ],
      "text/markdown": [
       "1. 5\n",
       "2. -3\n",
       "3. -3\n",
       "\n",
       "\n"
      ],
      "text/plain": [
       "[1]  5 -3 -3"
      ]
     },
     "metadata": {},
     "output_type": "display_data"
    },
    {
     "data": {
      "text/html": [
       "<ol class=list-inline>\n",
       "\t<li>-0.25</li>\n",
       "\t<li>0.4</li>\n",
       "\t<li>0.5</li>\n",
       "</ol>\n"
      ],
      "text/latex": [
       "\\begin{enumerate*}\n",
       "\\item -0.25\n",
       "\\item 0.4\n",
       "\\item 0.5\n",
       "\\end{enumerate*}\n"
      ],
      "text/markdown": [
       "1. -0.25\n",
       "2. 0.4\n",
       "3. 0.5\n",
       "\n",
       "\n"
      ],
      "text/plain": [
       "[1] -0.25  0.40  0.50"
      ]
     },
     "metadata": {},
     "output_type": "display_data"
    },
    {
     "data": {
      "text/html": [
       "<ol class=list-inline>\n",
       "\t<li>2</li>\n",
       "\t<li>4</li>\n",
       "\t<li>6</li>\n",
       "</ol>\n"
      ],
      "text/latex": [
       "\\begin{enumerate*}\n",
       "\\item 2\n",
       "\\item 4\n",
       "\\item 6\n",
       "\\end{enumerate*}\n"
      ],
      "text/markdown": [
       "1. 2\n",
       "2. 4\n",
       "3. 6\n",
       "\n",
       "\n"
      ],
      "text/plain": [
       "[1] 2 4 6"
      ]
     },
     "metadata": {},
     "output_type": "display_data"
    }
   ],
   "source": [
    "#operacje na wektorach\n",
    "\n",
    "v1 = c(1,2,3)\n",
    "v2 = c(-4,5,6)\n",
    "\n",
    "length(v1); sum(v1); prod(v1); sin(v1); v1+v2; v1*v2; v1-v2; v1/v2; 2*v1 #5 ostatnich to tez wektory!"
   ]
  },
  {
   "cell_type": "code",
   "execution_count": 30,
   "id": "df233aba",
   "metadata": {},
   "outputs": [
    {
     "name": "stdout",
     "output_type": "stream",
     "text": [
      "[1] 1 2 3 5\n"
     ]
    }
   ],
   "source": [
    "#dodawanie elementu do wektora\n",
    "\n",
    "v1 = append(v1, 5)\n",
    "print(v1)"
   ]
  },
  {
   "cell_type": "markdown",
   "id": "5c7da05d",
   "metadata": {},
   "source": [
    "<h4> Ćwiczenie2: Dany jest rozkład pewnej zmienej losowej $X$:\n",
    "\n",
    "x | 4 | 5 | 6 <br>\n",
    "p |0.2|0.4|0.4\n",
    "\n",
    "Wyznacz wartość oczekiwaną, wariancję oraz odchylenie standardowe tej zmiennej."
   ]
  },
  {
   "cell_type": "markdown",
   "id": "a1a71f23",
   "metadata": {},
   "source": [
    "- Czynniki (Factors)"
   ]
  },
  {
   "cell_type": "code",
   "execution_count": 31,
   "id": "f533fa85",
   "metadata": {},
   "outputs": [
    {
     "name": "stdout",
     "output_type": "stream",
     "text": [
      "[1] 1 2 1 1 3\n",
      "Levels: 1 2 3\n"
     ]
    }
   ],
   "source": [
    "x = c(1,2,1,1,3)\n",
    "x = factor(x)\n",
    "print(x)"
   ]
  },
  {
   "cell_type": "code",
   "execution_count": 32,
   "id": "65eb7577",
   "metadata": {},
   "outputs": [
    {
     "name": "stdout",
     "output_type": "stream",
     "text": [
      "[1] M M M K\n",
      "Levels: K M\n"
     ]
    }
   ],
   "source": [
    "a = factor(c(\"M\",\"M\",\"M\",\"K\"))\n",
    "print(a)"
   ]
  },
  {
   "cell_type": "markdown",
   "id": "217d4794",
   "metadata": {},
   "source": [
    "- Listy"
   ]
  },
  {
   "cell_type": "code",
   "execution_count": 33,
   "id": "ae1efb21",
   "metadata": {},
   "outputs": [
    {
     "name": "stdout",
     "output_type": "stream",
     "text": [
      "[[1]]\n",
      "[1] 5\n",
      "\n",
      "[[2]]\n",
      "[1] 6\n",
      "\n",
      "[[3]]\n",
      "[1] 7\n",
      "\n"
     ]
    }
   ],
   "source": [
    "l = list(5,6,7)\n",
    "print(l)"
   ]
  },
  {
   "cell_type": "code",
   "execution_count": 34,
   "id": "514fbf67",
   "metadata": {},
   "outputs": [
    {
     "name": "stdout",
     "output_type": "stream",
     "text": [
      "[[1]]\n",
      "[1] 5\n",
      "\n"
     ]
    }
   ],
   "source": [
    "print(l[1]) #zwraca podliste!"
   ]
  },
  {
   "cell_type": "code",
   "execution_count": 35,
   "id": "93674dd1",
   "metadata": {},
   "outputs": [
    {
     "name": "stdout",
     "output_type": "stream",
     "text": [
      "[1] 5\n"
     ]
    }
   ],
   "source": [
    "print(l[[1]]) #zwrca pierwszy element listy"
   ]
  },
  {
   "cell_type": "code",
   "execution_count": 36,
   "id": "69cb34af",
   "metadata": {},
   "outputs": [
    {
     "name": "stdout",
     "output_type": "stream",
     "text": [
      "[[1]]\n",
      "[1] 4\n",
      "\n",
      "[[2]]\n",
      "[1] 5\n",
      "\n",
      "[[3]]\n",
      "[1] \"a\"\n",
      "\n"
     ]
    }
   ],
   "source": [
    "l2 = list(4, 5, \"a\") #lista moze zawierac obiekty roznego typu\n",
    "print(l2)"
   ]
  },
  {
   "cell_type": "code",
   "execution_count": 37,
   "id": "a0dd2a96",
   "metadata": {},
   "outputs": [
    {
     "name": "stdout",
     "output_type": "stream",
     "text": [
      "$a\n",
      "[1] 5\n",
      "\n",
      "$b\n",
      "[1] 6\n",
      "\n",
      "$c\n",
      "[1] 7\n",
      "\n"
     ]
    }
   ],
   "source": [
    "l3 = list(a = 5, b = 6, c = 7)\n",
    "print(l3)"
   ]
  },
  {
   "cell_type": "code",
   "execution_count": 38,
   "id": "aea35770",
   "metadata": {},
   "outputs": [
    {
     "name": "stdout",
     "output_type": "stream",
     "text": [
      "[1] 5\n"
     ]
    }
   ],
   "source": [
    "print(l3$a)"
   ]
  },
  {
   "cell_type": "code",
   "execution_count": 39,
   "id": "6b2eb718",
   "metadata": {},
   "outputs": [
    {
     "data": {
      "text/plain": [
       "4048 bytes"
      ]
     },
     "metadata": {},
     "output_type": "display_data"
    },
    {
     "data": {
      "text/plain": [
       "4104 bytes"
      ]
     },
     "metadata": {},
     "output_type": "display_data"
    }
   ],
   "source": [
    "#porownanie pamięciowe list i wektorow\n",
    "\n",
    "v = 1:1000\n",
    "l = list(1:1000)\n",
    "\n",
    "object.size(v); object.size(l)"
   ]
  },
  {
   "cell_type": "markdown",
   "id": "95eb7b2d",
   "metadata": {},
   "source": [
    "- Tablice"
   ]
  },
  {
   "cell_type": "code",
   "execution_count": 40,
   "id": "bd531dd1",
   "metadata": {},
   "outputs": [
    {
     "name": "stdout",
     "output_type": "stream",
     "text": [
      "     [,1] [,2] [,3]\n",
      "[1,]    1    2    3\n",
      "[2,]    2    3    4\n",
      "[3,]    3    4    5\n",
      "[4,]    4    5    6\n",
      "[5,]    5    6    7\n"
     ]
    }
   ],
   "source": [
    "tabA = cbind(1:5, 2:6, 3:7) #jako polączenie 3 wektorow, porownaj z rbind\n",
    "print(tabA)"
   ]
  },
  {
   "cell_type": "code",
   "execution_count": 41,
   "id": "b6682f8d",
   "metadata": {},
   "outputs": [
    {
     "data": {
      "text/html": [
       "<ol class=list-inline>\n",
       "\t<li>5</li>\n",
       "\t<li>3</li>\n",
       "</ol>\n"
      ],
      "text/latex": [
       "\\begin{enumerate*}\n",
       "\\item 5\n",
       "\\item 3\n",
       "\\end{enumerate*}\n"
      ],
      "text/markdown": [
       "1. 5\n",
       "2. 3\n",
       "\n",
       "\n"
      ],
      "text/plain": [
       "[1] 5 3"
      ]
     },
     "metadata": {},
     "output_type": "display_data"
    },
    {
     "data": {
      "text/html": [
       "5"
      ],
      "text/latex": [
       "5"
      ],
      "text/markdown": [
       "5"
      ],
      "text/plain": [
       "[1] 5"
      ]
     },
     "metadata": {},
     "output_type": "display_data"
    },
    {
     "data": {
      "text/html": [
       "3"
      ],
      "text/latex": [
       "3"
      ],
      "text/markdown": [
       "3"
      ],
      "text/plain": [
       "[1] 3"
      ]
     },
     "metadata": {},
     "output_type": "display_data"
    }
   ],
   "source": [
    "dim(tabA); nrow(tabA); ncol(tabA)"
   ]
  },
  {
   "cell_type": "code",
   "execution_count": 42,
   "id": "48bde3f9",
   "metadata": {},
   "outputs": [
    {
     "name": "stdout",
     "output_type": "stream",
     "text": [
      "[1] 1 2 3\n"
     ]
    }
   ],
   "source": [
    "print(tabA[1,]) #pierwszy wiersz"
   ]
  },
  {
   "cell_type": "code",
   "execution_count": 43,
   "id": "4ff19e7b",
   "metadata": {},
   "outputs": [
    {
     "name": "stdout",
     "output_type": "stream",
     "text": [
      "[1] 1 2 3 4 5\n"
     ]
    }
   ],
   "source": [
    "print(tabA[,1]) #pierwsza kolumna"
   ]
  },
  {
   "cell_type": "code",
   "execution_count": 44,
   "id": "5a92ef61",
   "metadata": {},
   "outputs": [
    {
     "name": "stdout",
     "output_type": "stream",
     "text": [
      "[1] 2\n"
     ]
    }
   ],
   "source": [
    "print(tabA[1,2]) #elment z pierwszego wiersza i drugiej kolumny"
   ]
  },
  {
   "cell_type": "markdown",
   "id": "a97a12d1",
   "metadata": {},
   "source": [
    "- Macierze"
   ]
  },
  {
   "cell_type": "code",
   "execution_count": 45,
   "id": "c2a34380",
   "metadata": {},
   "outputs": [
    {
     "name": "stdout",
     "output_type": "stream",
     "text": [
      "     [,1] [,2] [,3]\n",
      "[1,]    1    2    0\n",
      "[2,]    4    5   -2\n",
      "[3,]    7    8   -1\n"
     ]
    }
   ],
   "source": [
    "M = matrix(c(1,2,0,4,5,-2,7,8,-1),ncol=3,nrow=3, byrow = TRUE)\n",
    "print(M)"
   ]
  },
  {
   "cell_type": "code",
   "execution_count": 46,
   "id": "2097eafe",
   "metadata": {},
   "outputs": [
    {
     "name": "stdout",
     "output_type": "stream",
     "text": [
      "[1] 0\n"
     ]
    }
   ],
   "source": [
    "print(M[1,3]) #odwolywanie jak w tablicach"
   ]
  },
  {
   "cell_type": "code",
   "execution_count": 47,
   "id": "a9adecec",
   "metadata": {},
   "outputs": [
    {
     "data": {
      "text/html": [
       "-9"
      ],
      "text/latex": [
       "-9"
      ],
      "text/markdown": [
       "-9"
      ],
      "text/plain": [
       "[1] -9"
      ]
     },
     "metadata": {},
     "output_type": "display_data"
    }
   ],
   "source": [
    "det(M)"
   ]
  },
  {
   "cell_type": "code",
   "execution_count": 48,
   "id": "7d26f5bd",
   "metadata": {},
   "outputs": [
    {
     "name": "stdout",
     "output_type": "stream",
     "text": [
      "           [,1]       [,2]       [,3]\n",
      "[1,] -1.2222222 -0.2222222  0.4444444\n",
      "[2,]  1.1111111  0.1111111 -0.2222222\n",
      "[3,]  0.3333333 -0.6666667  0.3333333\n"
     ]
    }
   ],
   "source": [
    "print(solve(M)) #macierz odwrotna"
   ]
  },
  {
   "cell_type": "code",
   "execution_count": 49,
   "id": "69e8eabb",
   "metadata": {},
   "outputs": [
    {
     "name": "stdout",
     "output_type": "stream",
     "text": [
      "     [,1] [,2] [,3]\n",
      "[1,]    1    4    7\n",
      "[2,]    2    5    8\n",
      "[3,]    0   -2   -1\n"
     ]
    }
   ],
   "source": [
    "print(t(M)) #transpozycja macierzy"
   ]
  },
  {
   "cell_type": "code",
   "execution_count": 50,
   "id": "d4a97dc8",
   "metadata": {},
   "outputs": [
    {
     "name": "stdout",
     "output_type": "stream",
     "text": [
      "[1]  1  5 -1\n"
     ]
    }
   ],
   "source": [
    "print(diag(M)) #elementy diagonalne"
   ]
  },
  {
   "cell_type": "code",
   "execution_count": 51,
   "id": "1290b8db",
   "metadata": {},
   "outputs": [
    {
     "data": {
      "text/html": [
       "<table>\n",
       "<tbody>\n",
       "\t<tr><td>1</td><td>3</td></tr>\n",
       "\t<tr><td>2</td><td>4</td></tr>\n",
       "</tbody>\n",
       "</table>\n"
      ],
      "text/latex": [
       "\\begin{tabular}{ll}\n",
       "\t 1 & 3\\\\\n",
       "\t 2 & 4\\\\\n",
       "\\end{tabular}\n"
      ],
      "text/markdown": [
       "\n",
       "| 1 | 3 |\n",
       "| 2 | 4 |\n",
       "\n"
      ],
      "text/plain": [
       "     [,1] [,2]\n",
       "[1,] 1    3   \n",
       "[2,] 2    4   "
      ]
     },
     "metadata": {},
     "output_type": "display_data"
    },
    {
     "data": {
      "text/html": [
       "<table>\n",
       "<tbody>\n",
       "\t<tr><td>4</td><td>6</td></tr>\n",
       "\t<tr><td>5</td><td>7</td></tr>\n",
       "</tbody>\n",
       "</table>\n"
      ],
      "text/latex": [
       "\\begin{tabular}{ll}\n",
       "\t 4 & 6\\\\\n",
       "\t 5 & 7\\\\\n",
       "\\end{tabular}\n"
      ],
      "text/markdown": [
       "\n",
       "| 4 | 6 |\n",
       "| 5 | 7 |\n",
       "\n"
      ],
      "text/plain": [
       "     [,1] [,2]\n",
       "[1,] 4    6   \n",
       "[2,] 5    7   "
      ]
     },
     "metadata": {},
     "output_type": "display_data"
    }
   ],
   "source": [
    "M1 = matrix(1:4, ncol=2, nrow=2)\n",
    "M2 = matrix(4:7, ncol=2, nrow=2)\n",
    "\n",
    "M1; M2"
   ]
  },
  {
   "cell_type": "code",
   "execution_count": 52,
   "id": "b79ff377",
   "metadata": {},
   "outputs": [
    {
     "name": "stdout",
     "output_type": "stream",
     "text": [
      "     [,1] [,2]\n",
      "[1,]    5    9\n",
      "[2,]    7   11\n"
     ]
    }
   ],
   "source": [
    "print(M1+M2)"
   ]
  },
  {
   "cell_type": "code",
   "execution_count": 53,
   "id": "a0fe3e9f",
   "metadata": {},
   "outputs": [
    {
     "name": "stdout",
     "output_type": "stream",
     "text": [
      "     [,1] [,2]\n",
      "[1,]    4   18\n",
      "[2,]   10   28\n"
     ]
    }
   ],
   "source": [
    "print(M1*M2)"
   ]
  },
  {
   "cell_type": "code",
   "execution_count": 54,
   "id": "1a27d0cb",
   "metadata": {},
   "outputs": [
    {
     "name": "stdout",
     "output_type": "stream",
     "text": [
      "     [,1] [,2]\n",
      "[1,]    8   12\n",
      "[2,]   10   14\n"
     ]
    }
   ],
   "source": [
    "print(2*M2)"
   ]
  },
  {
   "cell_type": "code",
   "execution_count": 55,
   "id": "8a1a4256",
   "metadata": {},
   "outputs": [
    {
     "name": "stdout",
     "output_type": "stream",
     "text": [
      "     [,1] [,2]\n",
      "[1,]   19   27\n",
      "[2,]   28   40\n"
     ]
    }
   ],
   "source": [
    "print(M1 %*% M2) #mnozenie macierzowe"
   ]
  },
  {
   "cell_type": "code",
   "execution_count": 138,
   "id": "fe8916c1",
   "metadata": {},
   "outputs": [
    {
     "name": "stdout",
     "output_type": "stream",
     "text": [
      "     [,1] [,2] [,3]\n",
      "[1,]    1    3    5\n",
      "[2,]    2    4    6\n"
     ]
    },
    {
     "data": {
      "text/html": [
       "<ol class=list-inline>\n",
       "\t<li>3</li>\n",
       "\t<li>4</li>\n",
       "</ol>\n"
      ],
      "text/latex": [
       "\\begin{enumerate*}\n",
       "\\item 3\n",
       "\\item 4\n",
       "\\end{enumerate*}\n"
      ],
      "text/markdown": [
       "1. 3\n",
       "2. 4\n",
       "\n",
       "\n"
      ],
      "text/plain": [
       "[1] 3 4"
      ]
     },
     "metadata": {},
     "output_type": "display_data"
    }
   ],
   "source": [
    "#bardziej zaawansowne funkcje\n",
    "\n",
    "M =  matrix(c(1,2,3,4,5,6), nrow = 2, ncol = 3)\n",
    "print(M); apply(M, 1, mean)    #1-wiersze                     "
   ]
  },
  {
   "cell_type": "code",
   "execution_count": 57,
   "id": "2cd90cf5",
   "metadata": {},
   "outputs": [
    {
     "data": {
      "text/html": [
       "<table>\n",
       "<tbody>\n",
       "\t<tr><td>2</td><td>5</td><td>8</td></tr>\n",
       "\t<tr><td>3</td><td>6</td><td>9</td></tr>\n",
       "</tbody>\n",
       "</table>\n"
      ],
      "text/latex": [
       "\\begin{tabular}{lll}\n",
       "\t 2 & 5 & 8\\\\\n",
       "\t 3 & 6 & 9\\\\\n",
       "\\end{tabular}\n"
      ],
      "text/markdown": [
       "\n",
       "| 2 | 5 | 8 |\n",
       "| 3 | 6 | 9 |\n",
       "\n"
      ],
      "text/plain": [
       "     [,1] [,2] [,3]\n",
       "[1,] 2    5    8   \n",
       "[2,] 3    6    9   "
      ]
     },
     "metadata": {},
     "output_type": "display_data"
    }
   ],
   "source": [
    "sweep(M, MARGIN = 2, STATS = c(1,2,3), FUN = \"+\") #wykonaj operację * na kolumnach (2) z uzyciem tego co w stats"
   ]
  },
  {
   "cell_type": "markdown",
   "id": "810f1d7d",
   "metadata": {},
   "source": [
    "- Array (uogólnienie macierzy)"
   ]
  },
  {
   "cell_type": "code",
   "execution_count": 143,
   "id": "780567fb",
   "metadata": {},
   "outputs": [
    {
     "name": "stdout",
     "output_type": "stream",
     "text": [
      ", , 1\n",
      "\n",
      "     [,1] [,2] [,3] [,4]\n",
      "[1,]    1    4    7   10\n",
      "[2,]    2    5    8   11\n",
      "[3,]    3    6    9   12\n",
      "\n",
      ", , 2\n",
      "\n",
      "     [,1] [,2] [,3] [,4]\n",
      "[1,]   13   16   19   22\n",
      "[2,]   14   17   20   23\n",
      "[3,]   15   18   21   24\n",
      "\n"
     ]
    }
   ],
   "source": [
    "A = array(data = 1:24, dim=c(3,4,2))\n",
    "print(A)"
   ]
  },
  {
   "cell_type": "code",
   "execution_count": 142,
   "id": "3c5c46e0",
   "metadata": {},
   "outputs": [
    {
     "name": "stdout",
     "output_type": "stream",
     "text": [
      "[1] 16\n"
     ]
    }
   ],
   "source": [
    "print(A[1,2,2]) #element [1,2] z 2"
   ]
  },
  {
   "cell_type": "markdown",
   "id": "8f25d044",
   "metadata": {},
   "source": [
    "- Wartości logiczne"
   ]
  },
  {
   "cell_type": "code",
   "execution_count": 60,
   "id": "d3880dc4",
   "metadata": {},
   "outputs": [
    {
     "data": {
      "text/html": [
       "TRUE"
      ],
      "text/latex": [
       "TRUE"
      ],
      "text/markdown": [
       "TRUE"
      ],
      "text/plain": [
       "[1] TRUE"
      ]
     },
     "metadata": {},
     "output_type": "display_data"
    }
   ],
   "source": [
    "TRUE"
   ]
  },
  {
   "cell_type": "code",
   "execution_count": 61,
   "id": "60bbbbc8",
   "metadata": {},
   "outputs": [
    {
     "data": {
      "text/html": [
       "FALSE"
      ],
      "text/latex": [
       "FALSE"
      ],
      "text/markdown": [
       "FALSE"
      ],
      "text/plain": [
       "[1] FALSE"
      ]
     },
     "metadata": {},
     "output_type": "display_data"
    }
   ],
   "source": [
    "FALSE"
   ]
  },
  {
   "cell_type": "code",
   "execution_count": 62,
   "id": "47e6735c",
   "metadata": {},
   "outputs": [
    {
     "data": {
      "text/html": [
       "TRUE"
      ],
      "text/latex": [
       "TRUE"
      ],
      "text/markdown": [
       "TRUE"
      ],
      "text/plain": [
       "[1] TRUE"
      ]
     },
     "metadata": {},
     "output_type": "display_data"
    }
   ],
   "source": [
    "TRUE || FALSE #lub (alternatywa)"
   ]
  },
  {
   "cell_type": "code",
   "execution_count": 145,
   "id": "d4097544",
   "metadata": {},
   "outputs": [
    {
     "data": {
      "text/html": [
       "FALSE"
      ],
      "text/latex": [
       "FALSE"
      ],
      "text/markdown": [
       "FALSE"
      ],
      "text/plain": [
       "[1] FALSE"
      ]
     },
     "metadata": {},
     "output_type": "display_data"
    }
   ],
   "source": [
    "TRUE & FALSE #i (koniunkcja)"
   ]
  },
  {
   "cell_type": "code",
   "execution_count": 64,
   "id": "0051ea09",
   "metadata": {},
   "outputs": [
    {
     "data": {
      "text/html": [
       "2"
      ],
      "text/latex": [
       "2"
      ],
      "text/markdown": [
       "2"
      ],
      "text/plain": [
       "[1] 2"
      ]
     },
     "metadata": {},
     "output_type": "display_data"
    }
   ],
   "source": [
    "TRUE+TRUE #mozna dodawac :) TRUE traktowane jest jak liczba 1"
   ]
  },
  {
   "cell_type": "code",
   "execution_count": 65,
   "id": "ae26fa5c",
   "metadata": {},
   "outputs": [
    {
     "data": {
      "text/html": [
       "FALSE"
      ],
      "text/latex": [
       "FALSE"
      ],
      "text/markdown": [
       "FALSE"
      ],
      "text/plain": [
       "[1] FALSE"
      ]
     },
     "metadata": {},
     "output_type": "display_data"
    },
    {
     "data": {
      "text/html": [
       "TRUE"
      ],
      "text/latex": [
       "TRUE"
      ],
      "text/markdown": [
       "TRUE"
      ],
      "text/plain": [
       "[1] TRUE"
      ]
     },
     "metadata": {},
     "output_type": "display_data"
    }
   ],
   "source": [
    "x = c(TRUE, TRUE, FALSE)\n",
    "all(x); any(x)"
   ]
  },
  {
   "cell_type": "code",
   "execution_count": 66,
   "id": "53f7a93d",
   "metadata": {},
   "outputs": [
    {
     "data": {
      "text/html": [
       "TRUE"
      ],
      "text/latex": [
       "TRUE"
      ],
      "text/markdown": [
       "TRUE"
      ],
      "text/plain": [
       "[1] TRUE"
      ]
     },
     "metadata": {},
     "output_type": "display_data"
    }
   ],
   "source": [
    "x = 4\n",
    "x > 2 & x < 6"
   ]
  },
  {
   "cell_type": "code",
   "execution_count": 67,
   "id": "43b472cb",
   "metadata": {},
   "outputs": [
    {
     "data": {
      "text/html": [
       "<ol class=list-inline>\n",
       "\t<li>FALSE</li>\n",
       "\t<li>FALSE</li>\n",
       "\t<li>TRUE</li>\n",
       "\t<li>TRUE</li>\n",
       "\t<li>FALSE</li>\n",
       "</ol>\n"
      ],
      "text/latex": [
       "\\begin{enumerate*}\n",
       "\\item FALSE\n",
       "\\item FALSE\n",
       "\\item TRUE\n",
       "\\item TRUE\n",
       "\\item FALSE\n",
       "\\end{enumerate*}\n"
      ],
      "text/markdown": [
       "1. FALSE\n",
       "2. FALSE\n",
       "3. TRUE\n",
       "4. TRUE\n",
       "5. FALSE\n",
       "\n",
       "\n"
      ],
      "text/plain": [
       "[1] FALSE FALSE  TRUE  TRUE FALSE"
      ]
     },
     "metadata": {},
     "output_type": "display_data"
    }
   ],
   "source": [
    "x = c(1,2,3,4,-2)  \n",
    "x > 2"
   ]
  },
  {
   "cell_type": "code",
   "execution_count": 68,
   "id": "c2cfe21a",
   "metadata": {},
   "outputs": [
    {
     "data": {
      "text/html": [
       "<ol class=list-inline>\n",
       "\t<li>3</li>\n",
       "\t<li>4</li>\n",
       "</ol>\n"
      ],
      "text/latex": [
       "\\begin{enumerate*}\n",
       "\\item 3\n",
       "\\item 4\n",
       "\\end{enumerate*}\n"
      ],
      "text/markdown": [
       "1. 3\n",
       "2. 4\n",
       "\n",
       "\n"
      ],
      "text/plain": [
       "[1] 3 4"
      ]
     },
     "metadata": {},
     "output_type": "display_data"
    }
   ],
   "source": [
    "x[x>2] #zwraca podwektor tych elementow, ktore sa wieskze od 2"
   ]
  },
  {
   "cell_type": "markdown",
   "id": "2fb27f6b",
   "metadata": {},
   "source": [
    "- Wartości specjalne"
   ]
  },
  {
   "cell_type": "code",
   "execution_count": 69,
   "id": "fdd860d1",
   "metadata": {},
   "outputs": [
    {
     "data": {
      "text/html": [
       "&lt;NA&gt;"
      ],
      "text/latex": [
       "<NA>"
      ],
      "text/markdown": [
       "&lt;NA&gt;"
      ],
      "text/plain": [
       "[1] NA"
      ]
     },
     "metadata": {},
     "output_type": "display_data"
    }
   ],
   "source": [
    "NA #Not available (czesto w danych)"
   ]
  },
  {
   "cell_type": "code",
   "execution_count": 70,
   "id": "a9f34bb6",
   "metadata": {},
   "outputs": [
    {
     "data": {
      "text/html": [
       "NaN"
      ],
      "text/latex": [
       "NaN"
      ],
      "text/markdown": [
       "NaN"
      ],
      "text/plain": [
       "[1] NaN"
      ]
     },
     "metadata": {},
     "output_type": "display_data"
    }
   ],
   "source": [
    "NaN #not a number (tylko w odniesniu do numerycznych wartosci)"
   ]
  },
  {
   "cell_type": "code",
   "execution_count": 71,
   "id": "6aeb7a01",
   "metadata": {},
   "outputs": [
    {
     "data": {
      "text/html": [
       "Inf"
      ],
      "text/latex": [
       "Inf"
      ],
      "text/markdown": [
       "Inf"
      ],
      "text/plain": [
       "[1] Inf"
      ]
     },
     "metadata": {},
     "output_type": "display_data"
    }
   ],
   "source": [
    "Inf #nieskonczonosc"
   ]
  },
  {
   "cell_type": "code",
   "execution_count": 72,
   "id": "6423473e",
   "metadata": {},
   "outputs": [
    {
     "data": {
      "text/html": [
       "NaN"
      ],
      "text/latex": [
       "NaN"
      ],
      "text/markdown": [
       "NaN"
      ],
      "text/plain": [
       "[1] NaN"
      ]
     },
     "metadata": {},
     "output_type": "display_data"
    }
   ],
   "source": [
    "Inf*0"
   ]
  },
  {
   "cell_type": "code",
   "execution_count": 73,
   "id": "a583e3ae",
   "metadata": {},
   "outputs": [
    {
     "data": {
      "text/html": [
       "Inf"
      ],
      "text/latex": [
       "Inf"
      ],
      "text/markdown": [
       "Inf"
      ],
      "text/plain": [
       "[1] Inf"
      ]
     },
     "metadata": {},
     "output_type": "display_data"
    }
   ],
   "source": [
    "Inf*Inf"
   ]
  },
  {
   "cell_type": "code",
   "execution_count": 74,
   "id": "58a8f44a",
   "metadata": {},
   "outputs": [
    {
     "data": {
      "text/html": [
       "Inf"
      ],
      "text/latex": [
       "Inf"
      ],
      "text/markdown": [
       "Inf"
      ],
      "text/plain": [
       "[1] Inf"
      ]
     },
     "metadata": {},
     "output_type": "display_data"
    }
   ],
   "source": [
    "4/0"
   ]
  },
  {
   "cell_type": "markdown",
   "id": "7992a3d6",
   "metadata": {},
   "source": [
    "<h4> Podstawowa statystyka i prezentacja wyników"
   ]
  },
  {
   "cell_type": "code",
   "execution_count": 122,
   "id": "37dd789b",
   "metadata": {},
   "outputs": [],
   "source": [
    "x = c(1,2,2.3,2.5,1.7,2.5,2.4,1.9,3)"
   ]
  },
  {
   "cell_type": "code",
   "execution_count": 76,
   "id": "bc0adcad",
   "metadata": {},
   "outputs": [
    {
     "data": {
      "text/html": [
       "<ol class=list-inline>\n",
       "\t<li>1</li>\n",
       "\t<li>3</li>\n",
       "</ol>\n"
      ],
      "text/latex": [
       "\\begin{enumerate*}\n",
       "\\item 1\n",
       "\\item 3\n",
       "\\end{enumerate*}\n"
      ],
      "text/markdown": [
       "1. 1\n",
       "2. 3\n",
       "\n",
       "\n"
      ],
      "text/plain": [
       "[1] 1 3"
      ]
     },
     "metadata": {},
     "output_type": "display_data"
    },
    {
     "data": {
      "text/html": [
       "2.14444444444444"
      ],
      "text/latex": [
       "2.14444444444444"
      ],
      "text/markdown": [
       "2.14444444444444"
      ],
      "text/plain": [
       "[1] 2.144444"
      ]
     },
     "metadata": {},
     "output_type": "display_data"
    },
    {
     "data": {
      "text/html": [
       "2.3"
      ],
      "text/latex": [
       "2.3"
      ],
      "text/markdown": [
       "2.3"
      ],
      "text/plain": [
       "[1] 2.3"
      ]
     },
     "metadata": {},
     "output_type": "display_data"
    },
    {
     "data": {
      "text/html": [
       "0.576868943329226"
      ],
      "text/latex": [
       "0.576868943329226"
      ],
      "text/markdown": [
       "0.576868943329226"
      ],
      "text/plain": [
       "[1] 0.5768689"
      ]
     },
     "metadata": {},
     "output_type": "display_data"
    },
    {
     "data": {
      "text/html": [
       "0.332777777777778"
      ],
      "text/latex": [
       "0.332777777777778"
      ],
      "text/markdown": [
       "0.332777777777778"
      ],
      "text/plain": [
       "[1] 0.3327778"
      ]
     },
     "metadata": {},
     "output_type": "display_data"
    },
    {
     "data": {
      "text/html": [
       "0.6"
      ],
      "text/latex": [
       "0.6"
      ],
      "text/markdown": [
       "0.6"
      ],
      "text/plain": [
       "[1] 0.6"
      ]
     },
     "metadata": {},
     "output_type": "display_data"
    }
   ],
   "source": [
    "range(x); mean(x); median(x); sd(x); var(x); IQR(x) #podstawowe wielkosci statystyczne"
   ]
  },
  {
   "cell_type": "code",
   "execution_count": 77,
   "id": "801538a0",
   "metadata": {},
   "outputs": [
    {
     "data": {
      "text/plain": [
       "   Min. 1st Qu.  Median    Mean 3rd Qu.    Max. \n",
       "  1.000   1.900   2.300   2.144   2.500   3.000 "
      ]
     },
     "metadata": {},
     "output_type": "display_data"
    }
   ],
   "source": [
    "summary(x) #podsumowanie"
   ]
  },
  {
   "cell_type": "code",
   "execution_count": 78,
   "id": "b994e09d",
   "metadata": {},
   "outputs": [
    {
     "data": {
      "text/html": [
       "<dl class=dl-horizontal>\n",
       "\t<dt>32%</dt>\n",
       "\t\t<dd>1.956</dd>\n",
       "\t<dt>50%</dt>\n",
       "\t\t<dd>2.3</dd>\n",
       "</dl>\n"
      ],
      "text/latex": [
       "\\begin{description*}\n",
       "\\item[32\\textbackslash{}\\%] 1.956\n",
       "\\item[50\\textbackslash{}\\%] 2.3\n",
       "\\end{description*}\n"
      ],
      "text/markdown": [
       "32%\n",
       ":   1.95650%\n",
       ":   2.3\n",
       "\n"
      ],
      "text/plain": [
       "  32%   50% \n",
       "1.956 2.300 "
      ]
     },
     "metadata": {},
     "output_type": "display_data"
    }
   ],
   "source": [
    "quantile(x, c(0.32, 0.5)) #kwantyle       "
   ]
  },
  {
   "cell_type": "code",
   "execution_count": 79,
   "id": "7a9fc512",
   "metadata": {},
   "outputs": [],
   "source": [
    "options(repr.plot.width=3, repr.plot.height=3) #ustawia rozmiar obrazka"
   ]
  },
  {
   "cell_type": "code",
   "execution_count": 80,
   "id": "6c0ba508",
   "metadata": {},
   "outputs": [
    {
     "data": {
      "image/png": "[encoded data removed]",
      "text/plain": [
       "Plot with title \"Histogram of x\""
      ]
     },
     "metadata": {},
     "output_type": "display_data"
    }
   ],
   "source": [
    "hist(x) #histogram"
   ]
  },
  {
   "cell_type": "code",
   "execution_count": 81,
   "id": "8ead3848",
   "metadata": {},
   "outputs": [
    {
     "data": {
      "image/png": "[encoded data removed]",
      "text/plain": [
       "Plot with title \"density.default(x = x)\""
      ]
     },
     "metadata": {},
     "output_type": "display_data"
    }
   ],
   "source": [
    "plot(density(x)) #funkcja gęstosci"
   ]
  },
  {
   "cell_type": "code",
   "execution_count": 82,
   "id": "1f532c5e",
   "metadata": {},
   "outputs": [
    {
     "data": {
      "image/png": "[encoded data removed]",
      "text/plain": [
       "plot without title"
      ]
     },
     "metadata": {},
     "output_type": "display_data"
    }
   ],
   "source": [
    "boxplot(x) #wykres pudelkowy"
   ]
  },
  {
   "cell_type": "markdown",
   "id": "4888ec61",
   "metadata": {},
   "source": [
    "#install.packages(\"vioplot\") #czasem trzeba doinstalowac pewne biblioteki"
   ]
  },
  {
   "cell_type": "code",
   "execution_count": 123,
   "id": "65e540ea",
   "metadata": {},
   "outputs": [
    {
     "data": {
      "image/png": "[encoded data removed]",
      "text/plain": [
       "Plot with title \"\""
      ]
     },
     "metadata": {},
     "output_type": "display_data"
    }
   ],
   "source": [
    "library(\"vioplot\")\n",
    "vioplot(x)"
   ]
  },
  {
   "cell_type": "code",
   "execution_count": 84,
   "id": "e7c1b95f",
   "metadata": {},
   "outputs": [
    {
     "data": {
      "image/png": "[encoded data removed]",
      "text/plain": [
       "Plot with title \"ecdf(x)\""
      ]
     },
     "metadata": {},
     "output_type": "display_data"
    }
   ],
   "source": [
    "plot(ecdf(x)) #dystrybuanta empiryczna F(t) = P(X <= t)"
   ]
  },
  {
   "cell_type": "code",
   "execution_count": 85,
   "id": "2ab5f51c",
   "metadata": {},
   "outputs": [
    {
     "data": {
      "text/html": [
       "&lt;NA&gt;"
      ],
      "text/latex": [
       "<NA>"
      ],
      "text/markdown": [
       "&lt;NA&gt;"
      ],
      "text/plain": [
       "[1] NA"
      ]
     },
     "metadata": {},
     "output_type": "display_data"
    },
    {
     "data": {
      "text/html": [
       "2"
      ],
      "text/latex": [
       "2"
      ],
      "text/markdown": [
       "2"
      ],
      "text/plain": [
       "[1] 2"
      ]
     },
     "metadata": {},
     "output_type": "display_data"
    }
   ],
   "source": [
    "#Wartosci NA\n",
    "\n",
    "x = c(1,2,3,NA)\n",
    "mean(x); mean(x, na.rm = TRUE)"
   ]
  },
  {
   "cell_type": "code",
   "execution_count": 86,
   "id": "5dbc713f",
   "metadata": {},
   "outputs": [
    {
     "name": "stdout",
     "output_type": "stream",
     "text": [
      "[1] 6 1 1\n"
     ]
    }
   ],
   "source": [
    "#generawanie losowych wartosci\n",
    "\n",
    "t = sample(1:10, 3, rep=TRUE)\n",
    "print(t)"
   ]
  },
  {
   "cell_type": "code",
   "execution_count": 87,
   "id": "021bdb2c",
   "metadata": {},
   "outputs": [
    {
     "name": "stdout",
     "output_type": "stream",
     "text": [
      "[1] 4 4 3 2\n"
     ]
    }
   ],
   "source": [
    "t = sample(c(1,2,3,4), 4, rep = TRUE) #losowy wektor 4 liczb z przedzialu od 1 do 4, rep = TRUE oznacza ze wyrazy mogą sie powtarzac\n",
    "print(t)"
   ]
  },
  {
   "cell_type": "code",
   "execution_count": 88,
   "id": "f3566a3c",
   "metadata": {},
   "outputs": [
    {
     "data": {
      "text/html": [
       "5.186"
      ],
      "text/latex": [
       "5.186"
      ],
      "text/markdown": [
       "5.186"
      ],
      "text/plain": [
       "[1] 5.186"
      ]
     },
     "metadata": {},
     "output_type": "display_data"
    },
    {
     "data": {
      "text/html": [
       "0.553957957957958"
      ],
      "text/latex": [
       "0.553957957957958"
      ],
      "text/markdown": [
       "0.553957957957958"
      ],
      "text/plain": [
       "[1] 0.553958"
      ]
     },
     "metadata": {},
     "output_type": "display_data"
    },
    {
     "data": {
      "text/html": [
       "0.744283519875295"
      ],
      "text/latex": [
       "0.744283519875295"
      ],
      "text/markdown": [
       "0.744283519875295"
      ],
      "text/plain": [
       "[1] 0.7442835"
      ]
     },
     "metadata": {},
     "output_type": "display_data"
    }
   ],
   "source": [
    "#mozemy ustalac prawdopodobieństwa uzyskania poszczegolnych wynikow; wylosujmy 1000 liczb z rozkladu z poprzedniego cwiczenia\n",
    "X = sample(c(4,5,6), 1000, rep = TRUE, prob = c(0.2,0.4,0.4))\n",
    "mean(X); var(X); sd(X) #srednia, wariancja i odchylenie tych danych - porownaj z wynikami z zadania2"
   ]
  },
  {
   "cell_type": "markdown",
   "id": "371b86ff",
   "metadata": {},
   "source": [
    "<h4> Ćwiczenie3: Zasymuluj eksperyment polegający na 1000-krotnym rzucie kostką do gry. Zapisz liczbe oczek w kolejnych rzutach do wektora, a następnie przedstaw wyniki w postaci graficznej - histogram, wykres pudełkowy, wykres skrzypcowy."
   ]
  },
  {
   "cell_type": "markdown",
   "id": "edef9339",
   "metadata": {},
   "source": [
    "<h3> Przegląd najważniejszych rozkładów prawdopodobieństwa"
   ]
  },
  {
   "cell_type": "markdown",
   "id": "9c562efd",
   "metadata": {},
   "source": [
    "- rozkład jednostajny"
   ]
  },
  {
   "cell_type": "code",
   "execution_count": 89,
   "id": "291841f6",
   "metadata": {},
   "outputs": [
    {
     "name": "stdout",
     "output_type": "stream",
     "text": [
      "[1] 0.1359388 0.2869271 0.8423647 0.8464682\n"
     ]
    }
   ],
   "source": [
    "t = runif(4) #generuje 4 liczby losowe z przedzialu [0,1]\n",
    "print(t)"
   ]
  },
  {
   "cell_type": "code",
   "execution_count": 90,
   "id": "8c705c48",
   "metadata": {},
   "outputs": [
    {
     "name": "stdout",
     "output_type": "stream",
     "text": [
      "[1] 2.818242 2.963962 2.697969 1.792761\n"
     ]
    }
   ],
   "source": [
    "t = runif(4, 1, 3) #generuje 4 liczby losowe z przedzialu [1,3]\n",
    "print(t)"
   ]
  },
  {
   "cell_type": "markdown",
   "id": "26d063ad",
   "metadata": {},
   "source": [
    "- Rozkład normalny"
   ]
  },
  {
   "cell_type": "code",
   "execution_count": 91,
   "id": "f89cbeda",
   "metadata": {},
   "outputs": [
    {
     "name": "stdout",
     "output_type": "stream",
     "text": [
      "[1]  2.1847146  0.4483967  0.6694770 -0.5730602\n"
     ]
    }
   ],
   "source": [
    "t = rnorm(4) #generuje 4 liczby losowe z rozkladu normalnego N(0,1)\n",
    "print(t)"
   ]
  },
  {
   "cell_type": "code",
   "execution_count": 92,
   "id": "41f53bf1",
   "metadata": {},
   "outputs": [
    {
     "name": "stdout",
     "output_type": "stream",
     "text": [
      "[1]  4.752753 -5.211954  2.485451 -3.110354\n"
     ]
    }
   ],
   "source": [
    "t = rnorm(4, 2, 5) #generuje 4 liczby losowe z rozkladu normalnego N(2,5)\n",
    "print(t)"
   ]
  },
  {
   "cell_type": "markdown",
   "id": "47b4117d",
   "metadata": {},
   "source": [
    "- Rozkład Wykładniczy"
   ]
  },
  {
   "cell_type": "code",
   "execution_count": 93,
   "id": "c87e4fc9",
   "metadata": {},
   "outputs": [
    {
     "name": "stdout",
     "output_type": "stream",
     "text": [
      "[1] 0.75866798 0.52971837 0.28909713 0.03223985\n"
     ]
    }
   ],
   "source": [
    "t = rexp(4, 6) #generuje 4 liczby losowe z rozkladu EXP(6)\n",
    "print(t)"
   ]
  },
  {
   "cell_type": "markdown",
   "id": "fba3ae9f",
   "metadata": {},
   "source": [
    "- Rozkład Poissona"
   ]
  },
  {
   "cell_type": "code",
   "execution_count": 94,
   "id": "b4697037",
   "metadata": {},
   "outputs": [
    {
     "name": "stdout",
     "output_type": "stream",
     "text": [
      "[1] 2 1 2 1\n"
     ]
    }
   ],
   "source": [
    "t = rpois(4, 2) #generuje 4 liczby losowe z rozkładu Poiss(2)\n",
    "print(t)"
   ]
  },
  {
   "cell_type": "markdown",
   "id": "99e20f35",
   "metadata": {},
   "source": [
    "- Rozkład geometryczny"
   ]
  },
  {
   "cell_type": "code",
   "execution_count": 95,
   "id": "3ac910a0",
   "metadata": {},
   "outputs": [
    {
     "name": "stdout",
     "output_type": "stream",
     "text": [
      "[1] 27  2  5  1\n"
     ]
    }
   ],
   "source": [
    "t = rgeom(4, 0.2) #generuje 4 liczby losowe z rozkładu Geom(0.2)\n",
    "print(t)"
   ]
  },
  {
   "cell_type": "markdown",
   "id": "4d4331d3",
   "metadata": {},
   "source": [
    "<h4> Ćwiczenie4: Wygeneruj 1000 liczb z poniższych rozkładów: <br>\n",
    "    \n",
    "    \n",
    "\n",
    "- Normalny ze średnią $3$ i odchyleniem $2$; N(3, 2) \n",
    "- Jednostajny na przedziale $<5,6>$; Unif(5,6)\n",
    "- Wykładniczy z $\\lambda = 4$; Exp(4)\n",
    "- Poissona z $\\lambda=4$; Poiss(4)\n",
    "- Geometryczny z prp. sukcesu $p=0.3$; Geom(0.3)\n",
    "    \n",
    "    \n",
    "Dla każdego przypadku wygeneruj histogram; policz średnią, odchylenie standardowe. Skomentuj wyniki (jaki kształt przyjmują histogramy; jaki jest związek pomiędzy średnią/odchyleniem a parametrami rozkładu)."
   ]
  },
  {
   "cell_type": "markdown",
   "id": "b46f02f1",
   "metadata": {},
   "source": [
    "<h4> Pętla for, while i repeat"
   ]
  },
  {
   "cell_type": "code",
   "execution_count": 96,
   "id": "fd3e0a78",
   "metadata": {},
   "outputs": [
    {
     "name": "stdout",
     "output_type": "stream",
     "text": [
      "[1] 1\n",
      "[1] 4\n",
      "[1] 9\n",
      "[1] 16\n",
      "[1] 25\n"
     ]
    }
   ],
   "source": [
    "for (i in 1:5){\n",
    "    print(i^2)\n",
    "}"
   ]
  },
  {
   "cell_type": "code",
   "execution_count": 155,
   "id": "59d2ba8c",
   "metadata": {},
   "outputs": [
    {
     "name": "stdout",
     "output_type": "stream",
     "text": [
      "[1] 1\n",
      "[1] 3\n",
      "[1] -4\n"
     ]
    }
   ],
   "source": [
    "x = c(1,3,-4)\n",
    "for (elem in x){\n",
    "    print(elem)\n",
    "}"
   ]
  },
  {
   "cell_type": "code",
   "execution_count": 98,
   "id": "dcefd65b",
   "metadata": {},
   "outputs": [
    {
     "name": "stdout",
     "output_type": "stream",
     "text": [
      "[1] 0\n",
      "[1] 1\n",
      "[1] 2\n"
     ]
    }
   ],
   "source": [
    "i = 0\n",
    "\n",
    "while(i<3){\n",
    "    print(i)\n",
    "    i = i+1\n",
    "    \n",
    "}"
   ]
  },
  {
   "cell_type": "code",
   "execution_count": 99,
   "id": "2a5a9d82",
   "metadata": {},
   "outputs": [
    {
     "name": "stdout",
     "output_type": "stream",
     "text": [
      "[1] 0\n",
      "[1] 1\n",
      "[1] 2\n"
     ]
    }
   ],
   "source": [
    "i = 0\n",
    "repeat{\n",
    "    print(i)\n",
    "    i = i+1\n",
    "    if (i == 3){\n",
    "        break #break przerywa dzialanie, podobna funkcja jak w Pythonie (odpowiednikiem contiune jest next)\n",
    "    }\n",
    "}"
   ]
  },
  {
   "cell_type": "markdown",
   "id": "b0052d97",
   "metadata": {},
   "source": [
    "<h4> Instrukcje warunkowe"
   ]
  },
  {
   "cell_type": "code",
   "execution_count": 100,
   "id": "044e934b",
   "metadata": {},
   "outputs": [
    {
     "name": "stdout",
     "output_type": "stream",
     "text": [
      "[1] \"Mala\"\n",
      "[1] \"Taka sobie\"\n",
      "[1] \"Duza\"\n",
      "[1] \"Duza\"\n",
      "[1] \"Duza\"\n",
      "[1] \"Duza\"\n",
      "[1] \"Mala\"\n"
     ]
    }
   ],
   "source": [
    "x = c(1,2,5,6,6,8,-9)\n",
    "\n",
    "for(elem in x){ \n",
    "    if (elem >2){\n",
    "        print(\"Duza\")\n",
    "    }\n",
    "    else if (elem >1){\n",
    "        print(\"Taka sobie\")\n",
    "    }\n",
    "    else{\n",
    "        print(\"Mala\")\n",
    "    }\n",
    "}\n",
    "#ogolnie takie podejscie nie jest zalecane, są lepsze sposoby (zwlaszcza na danych); pokaze nastepnym razem"
   ]
  },
  {
   "cell_type": "markdown",
   "id": "a93111b3",
   "metadata": {},
   "source": [
    "<h4> Definiowanie funkcji"
   ]
  },
  {
   "cell_type": "code",
   "execution_count": 101,
   "id": "4438c57c",
   "metadata": {},
   "outputs": [
    {
     "name": "stdout",
     "output_type": "stream",
     "text": [
      "[1] 7\n"
     ]
    }
   ],
   "source": [
    "moja.funkcja = function(a,b){\n",
    "    return(a+2*b)\n",
    "}\n",
    "\n",
    "print(moja.funkcja(1,3))"
   ]
  },
  {
   "cell_type": "code",
   "execution_count": 102,
   "id": "14654c18",
   "metadata": {},
   "outputs": [
    {
     "name": "stdout",
     "output_type": "stream",
     "text": [
      "[1] 7\n"
     ]
    }
   ],
   "source": [
    "#tak tez zadziala\n",
    "moja.funkcja2 = function(a,b) return(a+2*b)\n",
    "print(moja.funkcja2(1,3))"
   ]
  },
  {
   "cell_type": "code",
   "execution_count": 103,
   "id": "1d2ed195",
   "metadata": {},
   "outputs": [
    {
     "name": "stdout",
     "output_type": "stream",
     "text": [
      "[1] 11 14 17\n"
     ]
    }
   ],
   "source": [
    "print(moja.funkcja(c(1,2,3),c(5,6,7))) #przy definiowaniu funckji nie deklarowalismy ze bedzie dzialac tylko dla liczb"
   ]
  },
  {
   "cell_type": "code",
   "execution_count": 104,
   "id": "41b5e3d7",
   "metadata": {},
   "outputs": [
    {
     "name": "stdout",
     "output_type": "stream",
     "text": [
      "[1] 7\n"
     ]
    }
   ],
   "source": [
    "#funkcje z parametrem\n",
    "moja.funkcja3 = function(a, b=2) return(a+2*b)\n",
    "print(moja.funkcja3(3))"
   ]
  },
  {
   "cell_type": "code",
   "execution_count": 105,
   "id": "fc3a2691",
   "metadata": {},
   "outputs": [
    {
     "name": "stdout",
     "output_type": "stream",
     "text": [
      "[1] \"1 2 ab TRUE\"\n"
     ]
    }
   ],
   "source": [
    "#funkcja z blizej nieokresloną liczbą argumentow\n",
    "moja.funkcja4 = function(n, ...){\n",
    "  l <- list(n, ...)\n",
    "  paste(l, collapse = \" \")\n",
    "}\n",
    "  \n",
    "\n",
    "print(moja.funkcja4(1, 2, \"ab\", \"TRUE\"))"
   ]
  },
  {
   "cell_type": "markdown",
   "id": "86fa7182",
   "metadata": {},
   "source": [
    "<h4> Wykresy - podstawy"
   ]
  },
  {
   "cell_type": "code",
   "execution_count": 161,
   "id": "170488c2",
   "metadata": {},
   "outputs": [
    {
     "data": {
      "image/png": "[encoded data removed]",
      "text/plain": [
       "plot without title"
      ]
     },
     "metadata": {},
     "output_type": "display_data"
    }
   ],
   "source": [
    "x = c(1,2,3,4,8,10)\n",
    "y = 2*x + 5*(1+runif(6))\n",
    "\n",
    "plot(x,y, col = \"red\")"
   ]
  },
  {
   "cell_type": "code",
   "execution_count": 107,
   "id": "5d5c4261",
   "metadata": {},
   "outputs": [
    {
     "data": {
      "image/png": "[encoded data removed]",
      "text/plain": [
       "plot without title"
      ]
     },
     "metadata": {},
     "output_type": "display_data"
    }
   ],
   "source": [
    "plot(x,y, col = \"red\", type = \"l\")"
   ]
  },
  {
   "cell_type": "code",
   "execution_count": 108,
   "id": "075634d1",
   "metadata": {},
   "outputs": [],
   "source": [
    "#?plot  #, wiecej informacji"
   ]
  },
  {
   "cell_type": "code",
   "execution_count": 109,
   "id": "15bb7f0a",
   "metadata": {},
   "outputs": [
    {
     "data": {
      "image/png": "[encoded data removed]",
      "text/plain": [
       "Plot with title \"Wykres\""
      ]
     },
     "metadata": {},
     "output_type": "display_data"
    }
   ],
   "source": [
    "plot(x, y, type = \"b\", main = \"Wykres\", xlab = \"OX\", ylab = \"OY\", pch = 2)"
   ]
  },
  {
   "cell_type": "code",
   "execution_count": 110,
   "id": "071b026d",
   "metadata": {},
   "outputs": [],
   "source": [
    "library(\"ggplot2\")"
   ]
  },
  {
   "cell_type": "code",
   "execution_count": 163,
   "id": "fe534d4a",
   "metadata": {},
   "outputs": [
    {
     "data": {
      "image/png": "[encoded data removed]",
      "text/plain": [
       "plot without title"
      ]
     },
     "metadata": {},
     "output_type": "display_data"
    }
   ],
   "source": [
    "qplot(x,y) #metoda z ggplot2 do rysowania wykresow"
   ]
  },
  {
   "cell_type": "code",
   "execution_count": 112,
   "id": "dcacffa9",
   "metadata": {},
   "outputs": [
    {
     "data": {
      "image/png": "[encoded data removed]",
      "text/plain": [
       "plot without title"
      ]
     },
     "metadata": {},
     "output_type": "display_data"
    }
   ],
   "source": [
    "qplot(x, y, main=\"Wykres\", xlab=\"OX\", ylab=\"OY\")"
   ]
  },
  {
   "cell_type": "code",
   "execution_count": 113,
   "id": "2dd35cba",
   "metadata": {},
   "outputs": [
    {
     "data": {
      "image/png": "[encoded data removed]",
      "text/plain": [
       "plot without title"
      ]
     },
     "metadata": {},
     "output_type": "display_data"
    }
   ],
   "source": [
    "qplot(x, y, main=\"Wykres\", xlab=\"OX\", ylab=\"OY\")+\n",
    "    geom_line()"
   ]
  },
  {
   "cell_type": "code",
   "execution_count": 120,
   "id": "2b238390",
   "metadata": {},
   "outputs": [
    {
     "data": {
      "image/png": "[encoded data removed]",
      "text/plain": [
       "plot without title"
      ]
     },
     "metadata": {},
     "output_type": "display_data"
    }
   ],
   "source": [
    "qplot(x, y, main=\"Wykres\", xlab=\"OX\", ylab=\"OY\")+\n",
    "    geom_point(size=3, shape=5, color=\"blue\")+ \n",
    "    geom_line(color=\"red\", linetype=2)"
   ]
  }
 ],
 "metadata": {
  "kernelspec": {
   "display_name": "R",
   "language": "R",
   "name": "ir"
  },
  "language_info": {
   "codemirror_mode": "r",
   "file_extension": ".r",
   "mimetype": "text/x-r-source",
   "name": "R",
   "pygments_lexer": "r",
   "version": "3.6.1"
  }
 },
 "nbformat": 4,
 "nbformat_minor": 5
}
