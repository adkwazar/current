{
 "cells": [
  {
   "cell_type": "markdown",
   "metadata": {},
   "source": [
    "<h3> Embeddingi"
   ]
  },
  {
   "cell_type": "code",
   "execution_count": 1,
   "metadata": {},
   "outputs": [
    {
     "ename": "ImportError",
     "evalue": "cannot import name 'ParamSpec' from 'typing_extensions' (C:\\Users\\48795\\anaconda3\\lib\\site-packages\\typing_extensions.py)",
     "output_type": "error",
     "traceback": [
      "\u001b[1;31m---------------------------------------------------------------------------\u001b[0m",
      "\u001b[1;31mImportError\u001b[0m                               Traceback (most recent call last)",
      "\u001b[1;32m<ipython-input-1-1615d9bf77f9>\u001b[0m in \u001b[0;36m<module>\u001b[1;34m\u001b[0m\n\u001b[1;32m----> 1\u001b[1;33m \u001b[1;32mimport\u001b[0m \u001b[0mtorchtext\u001b[0m\u001b[1;33m\u001b[0m\u001b[1;33m\u001b[0m\u001b[0m\n\u001b[0m\u001b[0;32m      2\u001b[0m \u001b[0mglove\u001b[0m \u001b[1;33m=\u001b[0m \u001b[0mtorchtext\u001b[0m\u001b[1;33m.\u001b[0m\u001b[0mvocab\u001b[0m\u001b[1;33m.\u001b[0m\u001b[0mGloVe\u001b[0m\u001b[1;33m(\u001b[0m\u001b[0mname\u001b[0m\u001b[1;33m=\u001b[0m\u001b[1;34m\"6B\"\u001b[0m\u001b[1;33m,\u001b[0m \u001b[0mdim\u001b[0m\u001b[1;33m=\u001b[0m\u001b[1;36m50\u001b[0m\u001b[1;33m)\u001b[0m\u001b[1;33m\u001b[0m\u001b[1;33m\u001b[0m\u001b[0m\n",
      "\u001b[1;32m~\\anaconda3\\lib\\site-packages\\torchtext\\__init__.py\u001b[0m in \u001b[0;36m<module>\u001b[1;34m\u001b[0m\n\u001b[1;32m----> 1\u001b[1;33m \u001b[1;32mfrom\u001b[0m \u001b[1;33m.\u001b[0m \u001b[1;32mimport\u001b[0m \u001b[0mdata\u001b[0m\u001b[1;33m\u001b[0m\u001b[1;33m\u001b[0m\u001b[0m\n\u001b[0m\u001b[0;32m      2\u001b[0m \u001b[1;32mfrom\u001b[0m \u001b[1;33m.\u001b[0m \u001b[1;32mimport\u001b[0m \u001b[0mnn\u001b[0m\u001b[1;33m\u001b[0m\u001b[1;33m\u001b[0m\u001b[0m\n\u001b[0;32m      3\u001b[0m \u001b[1;32mfrom\u001b[0m \u001b[1;33m.\u001b[0m \u001b[1;32mimport\u001b[0m \u001b[0mdatasets\u001b[0m\u001b[1;33m\u001b[0m\u001b[1;33m\u001b[0m\u001b[0m\n\u001b[0;32m      4\u001b[0m \u001b[1;32mfrom\u001b[0m \u001b[1;33m.\u001b[0m \u001b[1;32mimport\u001b[0m \u001b[0mutils\u001b[0m\u001b[1;33m\u001b[0m\u001b[1;33m\u001b[0m\u001b[0m\n\u001b[0;32m      5\u001b[0m \u001b[1;32mfrom\u001b[0m \u001b[1;33m.\u001b[0m \u001b[1;32mimport\u001b[0m \u001b[0mvocab\u001b[0m\u001b[1;33m\u001b[0m\u001b[1;33m\u001b[0m\u001b[0m\n",
      "\u001b[1;32m~\\anaconda3\\lib\\site-packages\\torchtext\\data\\__init__.py\u001b[0m in \u001b[0;36m<module>\u001b[1;34m\u001b[0m\n\u001b[1;32m----> 1\u001b[1;33m \u001b[1;32mfrom\u001b[0m \u001b[1;33m.\u001b[0m\u001b[0mmetrics\u001b[0m \u001b[1;32mimport\u001b[0m \u001b[0mbleu_score\u001b[0m\u001b[1;33m\u001b[0m\u001b[1;33m\u001b[0m\u001b[0m\n\u001b[0m\u001b[0;32m      2\u001b[0m \u001b[1;32mfrom\u001b[0m \u001b[1;33m.\u001b[0m\u001b[0mutils\u001b[0m \u001b[1;32mimport\u001b[0m \u001b[0mget_tokenizer\u001b[0m\u001b[1;33m,\u001b[0m \u001b[0minterleave_keys\u001b[0m\u001b[1;33m\u001b[0m\u001b[1;33m\u001b[0m\u001b[0m\n\u001b[0;32m      3\u001b[0m from .functional import (\n\u001b[0;32m      4\u001b[0m     \u001b[0mgenerate_sp_model\u001b[0m\u001b[1;33m,\u001b[0m\u001b[1;33m\u001b[0m\u001b[1;33m\u001b[0m\u001b[0m\n\u001b[0;32m      5\u001b[0m     \u001b[0mload_sp_model\u001b[0m\u001b[1;33m,\u001b[0m\u001b[1;33m\u001b[0m\u001b[1;33m\u001b[0m\u001b[0m\n",
      "\u001b[1;32m~\\anaconda3\\lib\\site-packages\\torchtext\\data\\metrics.py\u001b[0m in \u001b[0;36m<module>\u001b[1;34m\u001b[0m\n\u001b[0;32m      1\u001b[0m \u001b[1;32mimport\u001b[0m \u001b[0mmath\u001b[0m\u001b[1;33m\u001b[0m\u001b[1;33m\u001b[0m\u001b[0m\n\u001b[0;32m      2\u001b[0m \u001b[1;32mimport\u001b[0m \u001b[0mcollections\u001b[0m\u001b[1;33m\u001b[0m\u001b[1;33m\u001b[0m\u001b[0m\n\u001b[1;32m----> 3\u001b[1;33m \u001b[1;32mimport\u001b[0m \u001b[0mtorch\u001b[0m\u001b[1;33m\u001b[0m\u001b[1;33m\u001b[0m\u001b[0m\n\u001b[0m\u001b[0;32m      4\u001b[0m \u001b[1;32mfrom\u001b[0m \u001b[0mtorchtext\u001b[0m\u001b[1;33m.\u001b[0m\u001b[0mdata\u001b[0m\u001b[1;33m.\u001b[0m\u001b[0mutils\u001b[0m \u001b[1;32mimport\u001b[0m \u001b[0mngrams_iterator\u001b[0m\u001b[1;33m\u001b[0m\u001b[1;33m\u001b[0m\u001b[0m\n\u001b[0;32m      5\u001b[0m \u001b[1;33m\u001b[0m\u001b[0m\n",
      "\u001b[1;32m~\\anaconda3\\lib\\site-packages\\torch\\__init__.py\u001b[0m in \u001b[0;36m<module>\u001b[1;34m\u001b[0m\n\u001b[0;32m   1427\u001b[0m \u001b[1;32mfrom\u001b[0m \u001b[0mtorch\u001b[0m \u001b[1;32mimport\u001b[0m \u001b[0mnn\u001b[0m \u001b[1;32mas\u001b[0m \u001b[0mnn\u001b[0m\u001b[1;33m\u001b[0m\u001b[1;33m\u001b[0m\u001b[0m\n\u001b[0;32m   1428\u001b[0m \u001b[1;32mfrom\u001b[0m \u001b[0mtorch\u001b[0m\u001b[1;33m.\u001b[0m\u001b[0msignal\u001b[0m \u001b[1;32mimport\u001b[0m \u001b[0mwindows\u001b[0m \u001b[1;32mas\u001b[0m \u001b[0mwindows\u001b[0m\u001b[1;33m\u001b[0m\u001b[1;33m\u001b[0m\u001b[0m\n\u001b[1;32m-> 1429\u001b[1;33m \u001b[1;32mfrom\u001b[0m \u001b[0mtorch\u001b[0m \u001b[1;32mimport\u001b[0m \u001b[0moptim\u001b[0m \u001b[1;32mas\u001b[0m \u001b[0moptim\u001b[0m\u001b[1;33m\u001b[0m\u001b[1;33m\u001b[0m\u001b[0m\n\u001b[0m\u001b[0;32m   1430\u001b[0m \u001b[1;32mimport\u001b[0m \u001b[0mtorch\u001b[0m\u001b[1;33m.\u001b[0m\u001b[0moptim\u001b[0m\u001b[1;33m.\u001b[0m\u001b[0m_multi_tensor\u001b[0m\u001b[1;33m\u001b[0m\u001b[1;33m\u001b[0m\u001b[0m\n\u001b[0;32m   1431\u001b[0m \u001b[1;32mfrom\u001b[0m \u001b[0mtorch\u001b[0m \u001b[1;32mimport\u001b[0m \u001b[0mmultiprocessing\u001b[0m \u001b[1;32mas\u001b[0m \u001b[0mmultiprocessing\u001b[0m\u001b[1;33m\u001b[0m\u001b[1;33m\u001b[0m\u001b[0m\n",
      "\u001b[1;32m~\\anaconda3\\lib\\site-packages\\torch\\optim\\__init__.py\u001b[0m in \u001b[0;36m<module>\u001b[1;34m\u001b[0m\n\u001b[0;32m      6\u001b[0m \"\"\"\n\u001b[0;32m      7\u001b[0m \u001b[1;33m\u001b[0m\u001b[0m\n\u001b[1;32m----> 8\u001b[1;33m \u001b[1;32mfrom\u001b[0m \u001b[1;33m.\u001b[0m\u001b[0madadelta\u001b[0m \u001b[1;32mimport\u001b[0m \u001b[0mAdadelta\u001b[0m\u001b[1;33m\u001b[0m\u001b[1;33m\u001b[0m\u001b[0m\n\u001b[0m\u001b[0;32m      9\u001b[0m \u001b[1;32mfrom\u001b[0m \u001b[1;33m.\u001b[0m\u001b[0madagrad\u001b[0m \u001b[1;32mimport\u001b[0m \u001b[0mAdagrad\u001b[0m\u001b[1;33m\u001b[0m\u001b[1;33m\u001b[0m\u001b[0m\n\u001b[0;32m     10\u001b[0m \u001b[1;32mfrom\u001b[0m \u001b[1;33m.\u001b[0m\u001b[0madam\u001b[0m \u001b[1;32mimport\u001b[0m \u001b[0mAdam\u001b[0m\u001b[1;33m\u001b[0m\u001b[1;33m\u001b[0m\u001b[0m\n",
      "\u001b[1;32m~\\anaconda3\\lib\\site-packages\\torch\\optim\\adadelta.py\u001b[0m in \u001b[0;36m<module>\u001b[1;34m\u001b[0m\n\u001b[0;32m      2\u001b[0m \u001b[1;32mfrom\u001b[0m \u001b[0mtorch\u001b[0m \u001b[1;32mimport\u001b[0m \u001b[0mTensor\u001b[0m\u001b[1;33m\u001b[0m\u001b[1;33m\u001b[0m\u001b[0m\n\u001b[0;32m      3\u001b[0m \u001b[1;33m\u001b[0m\u001b[0m\n\u001b[1;32m----> 4\u001b[1;33m from .optimizer import (Optimizer, _use_grad_for_differentiable, _default_to_fused_or_foreach,\n\u001b[0m\u001b[0;32m      5\u001b[0m                         _differentiable_doc, _foreach_doc, _maximize_doc)\n\u001b[0;32m      6\u001b[0m \u001b[1;32mfrom\u001b[0m \u001b[0mtyping\u001b[0m \u001b[1;32mimport\u001b[0m \u001b[0mList\u001b[0m\u001b[1;33m,\u001b[0m \u001b[0mOptional\u001b[0m\u001b[1;33m\u001b[0m\u001b[1;33m\u001b[0m\u001b[0m\n",
      "\u001b[1;32m~\\anaconda3\\lib\\site-packages\\torch\\optim\\optimizer.py\u001b[0m in \u001b[0;36m<module>\u001b[1;34m\u001b[0m\n\u001b[0;32m     21\u001b[0m     \u001b[0moverload\u001b[0m\u001b[1;33m,\u001b[0m\u001b[1;33m\u001b[0m\u001b[1;33m\u001b[0m\u001b[0m\n\u001b[0;32m     22\u001b[0m )\n\u001b[1;32m---> 23\u001b[1;33m \u001b[1;32mfrom\u001b[0m \u001b[0mtyping_extensions\u001b[0m \u001b[1;32mimport\u001b[0m \u001b[0mParamSpec\u001b[0m\u001b[1;33m,\u001b[0m \u001b[0mSelf\u001b[0m\u001b[1;33m,\u001b[0m \u001b[0mTypeAlias\u001b[0m\u001b[1;33m\u001b[0m\u001b[1;33m\u001b[0m\u001b[0m\n\u001b[0m\u001b[0;32m     24\u001b[0m \u001b[1;33m\u001b[0m\u001b[0m\n\u001b[0;32m     25\u001b[0m \u001b[1;32mimport\u001b[0m \u001b[0mtorch\u001b[0m\u001b[1;33m\u001b[0m\u001b[1;33m\u001b[0m\u001b[0m\n",
      "\u001b[1;31mImportError\u001b[0m: cannot import name 'ParamSpec' from 'typing_extensions' (C:\\Users\\48795\\anaconda3\\lib\\site-packages\\typing_extensions.py)"
     ]
    }
   ],
   "source": [
    "import torchtext\n",
    "glove = torchtext.vocab.GloVe(name=\"6B\", dim=50)"
   ]
  },
  {
   "cell_type": "code",
   "execution_count": 3,
   "metadata": {},
   "outputs": [],
   "source": [
    "from sklearn.decomposition import PCA"
   ]
  },
  {
   "cell_type": "code",
   "execution_count": 4,
   "metadata": {},
   "outputs": [
    {
     "data": {
      "image/png": "[encoded data removed]",
      "text/plain": [
       "<Figure size 432x288 with 1 Axes>"
      ]
     },
     "metadata": {
      "needs_background": "light"
     },
     "output_type": "display_data"
    }
   ],
   "source": [
    "X = []\n",
    "words = ['woman', 'man', 'sister','brother', 'uncle', 'aunt', 'mother', 'father'] #wybieram grupe slow\n",
    "for word in words:\n",
    "    X.append(glove[word].tolist()) #patrze jakie mają embeddingi\n",
    "    \n",
    "X = np.array(X) #tworze z nich macierz\n",
    "\n",
    "pca = PCA(n_components=2)\n",
    "pca.fit(X)\n",
    "X_pca = pca.transform(X)  #redukuje liczbe zmiennych z 50 do 2 dla kazdego slowa\n",
    "\n",
    "\n",
    "#Do rysowania: \n",
    "\n",
    "x = X_pca[:,0] #pierwsza zmienna\n",
    "y = X_pca[:,1] #druga zmienna\n",
    "\n",
    "\n",
    "plt.scatter(x,y)\n",
    "\n",
    "for i, txt in enumerate(words):\n",
    "    plt.annotate(txt, (x[i], y[i]))\n",
    "    \n",
    "for i in range(0, len(x), 2):\n",
    "    plt.plot(x[i:i+2], y[i:i+2], 'ro-')\n",
    "    \n",
    "plt.show()"
   ]
  },
  {
   "cell_type": "markdown",
   "metadata": {},
   "source": [
    "<h4> Zadanie1: Zaznacz na płaszczyźnie (i połącz linią) następujące nazwy państw/stolic: 'france', 'paris', 'poland', 'warsaw', 'germany', 'berlin', 'netherlands', 'amsterdam'. Do redukcji ilości zmiennych wykorzystaj PCA. Skomentuj wyniki."
   ]
  },
  {
   "cell_type": "markdown",
   "metadata": {},
   "source": [
    "<h4> Zadanie2: Zaznacz na płaszczyźnie (nie łącz) następujące słowa: 'dog', 'cat', 'cow', 'horse', 'sheep', 'sunflower', 'carrot', 'salad', 'potato','cucumber'. Czy obserwujesz jakąś zależność?"
   ]
  },
  {
   "cell_type": "markdown",
   "metadata": {},
   "source": [
    "<h3> Ku rekurencyjnym sieciom neurnowym..."
   ]
  },
  {
   "cell_type": "code",
   "execution_count": 1,
   "metadata": {},
   "outputs": [],
   "source": [
    "import csv\n",
    "import torch\n",
    "import torch.nn as nn\n",
    "import torch.nn.functional as F\n",
    "import torch.optim as optim\n",
    "import torchtext\n",
    "import numpy as np\n",
    "import matplotlib.pyplot as plt\n",
    "from nltk import sent_tokenize, word_tokenize"
   ]
  },
  {
   "cell_type": "code",
   "execution_count": 2,
   "metadata": {},
   "outputs": [],
   "source": [
    "def data():\n",
    "    return csv.reader(open(\"training.1600000.processed.noemoticon.csv\", \"rt\", encoding=\"latin-1\")) #laduje dane [tweety]"
   ]
  },
  {
   "cell_type": "code",
   "execution_count": 5,
   "metadata": {},
   "outputs": [
    {
     "name": "stderr",
     "output_type": "stream",
     "text": [
      "100%|█████████████████████████████████████████████████████████████████████████▉| 9999/10000 [00:00<00:00, 21992.73it/s]\n"
     ]
    }
   ],
   "source": [
    "glove = torchtext.vocab.GloVe(name=\"6B\", dim=50, max_vectors=10000) #50 wymiarowe wekotry, uzywamy 10 tys najczęstszych slow"
   ]
  },
  {
   "cell_type": "code",
   "execution_count": 6,
   "metadata": {},
   "outputs": [
    {
     "name": "stdout",
     "output_type": "stream",
     "text": [
      "['__class__', '__delattr__', '__dict__', '__dir__', '__doc__', '__eq__', '__format__', '__ge__', '__getattribute__', '__getitem__', '__gt__', '__hash__', '__init__', '__init_subclass__', '__le__', '__len__', '__lt__', '__module__', '__ne__', '__new__', '__reduce__', '__reduce_ex__', '__repr__', '__setattr__', '__sizeof__', '__str__', '__subclasshook__', '__weakref__', 'cache', 'dim', 'get_vecs_by_tokens', 'itos', 'stoi', 'unk_init', 'url', 'vectors']\n"
     ]
    }
   ],
   "source": [
    "print(dir(glove))"
   ]
  },
  {
   "cell_type": "code",
   "execution_count": 11,
   "metadata": {},
   "outputs": [
    {
     "name": "stdout",
     "output_type": "stream",
     "text": [
      "['@', 'switchfoot', 'http', ':', '//twitpic.com/2y1zl', '-', 'awww', ',', 'that', \"'s\", 'a', 'bummer', '.', 'you', 'shoulda', 'got', 'david', 'carr', 'of', 'third', 'day', 'to', 'do', 'it', '.', ';', 'd']\n",
      "['is', 'upset', 'that', 'he', 'ca', \"n't\", 'update', 'his', 'facebook', 'by', 'texting', 'it', '...', 'and', 'might', 'cry', 'as', 'a', 'result', 'school', 'today', 'also', '.', 'blah', '!']\n",
      "['@', 'kenichan', 'i', 'dived', 'many', 'times', 'for', 'the', 'ball', '.', 'managed', 'to', 'save', '50', '%', 'the', 'rest', 'go', 'out', 'of', 'bounds']\n",
      "['my', 'whole', 'body', 'feels', 'itchy', 'and', 'like', 'its', 'on', 'fire']\n"
     ]
    }
   ],
   "source": [
    "#wyswietlam pierwsze 4 tweety\n",
    "\n",
    "for i, line in enumerate(data()): \n",
    "    if i > 3:\n",
    "        break\n",
    "    print(word_tokenize(line[-1].lower()))\n"
   ]
  },
  {
   "cell_type": "code",
   "execution_count": 21,
   "metadata": {},
   "outputs": [
    {
     "name": "stdout",
     "output_type": "stream",
     "text": [
      "['my', 'whole', 'body', 'feels', 'and', 'like', 'its', 'on', 'fire']\n"
     ]
    }
   ],
   "source": [
    "#ktore slowa z czwartego tweeta mają embeddingi?\n",
    "print([w for w in ['my', 'whole', 'body', 'feels', 'itchy', 'and', 'like', 'its', 'on', 'fire'] if w in glove.stoi])"
   ]
  },
  {
   "cell_type": "code",
   "execution_count": 22,
   "metadata": {},
   "outputs": [
    {
     "name": "stdout",
     "output_type": "stream",
     "text": [
      "[192, 1115, 719, 3866, 5, 117, 47, 13, 484]\n"
     ]
    }
   ],
   "source": [
    "#indeksy tych embeddingow\n",
    "print([glove.stoi[w] for w in ['my', 'whole', 'body', 'feels', 'itchy', 'and', 'like', 'its', 'on', 'fire'] if w in glove.stoi])"
   ]
  },
  {
   "cell_type": "code",
   "execution_count": 26,
   "metadata": {},
   "outputs": [
    {
     "data": {
      "text/plain": [
       "tensor([ 0.5091, -0.3681,  0.4128, -0.4464, -0.0179, -0.1243, -0.4375,  0.5202,\n",
       "        -0.1449, -0.8396, -0.3224, -0.7114, -0.4387, -0.1318, -0.2773,  0.0112,\n",
       "         0.0976,  0.5546, -1.3955, -0.5844,  0.2527,  0.7464, -0.1807, -0.4655,\n",
       "        -0.0936, -1.4951,  0.2663,  0.5531,  1.1030, -0.0600,  3.0834, -0.5712,\n",
       "        -0.9129, -0.5201,  0.0579,  0.8553,  0.7537, -1.2263,  0.6060,  0.7614,\n",
       "        -0.0281, -0.0778, -0.1043, -0.5089,  0.9201,  0.2151, -0.2919, -0.0336,\n",
       "         0.0560, -0.4328])"
      ]
     },
     "execution_count": 26,
     "metadata": {},
     "output_type": "execute_result"
    }
   ],
   "source": [
    "glove[\"fire\"] #embedding dla \"fire\""
   ]
  },
  {
   "cell_type": "code",
   "execution_count": 27,
   "metadata": {},
   "outputs": [],
   "source": [
    "#funkcja ktora dla danych zwraca trzy listy reprezentujące zbior testowy, walidacyjny i do trenowania, kazdy element to krotka: ([indeksy_embeddingow], label)\n",
    "\n",
    "def get_tweet_words(glove_vector, data): #argumenty: glove_vector - info o embeddingach, data = dane\n",
    "    train, valid, test = [], [], []  #puste listy na dane treningowe, walidacyjne, do testowania\n",
    "    for i, line in enumerate(data):\n",
    "        if i % 29 == 0:             #wybieram co 29 rekord (zeby w miare szybko sie nauczyl model; normalnie by mozna pominąc tego ifa)\n",
    "            tweet = line[-1]        #kolejny tweet\n",
    "            idx = [glove_vector.stoi[w] for w in word_tokenize(tweet.lower()) if w in glove_vector.stoi] #zapisuje indeksy slow ktore mialy embeddingi\n",
    "            if not idx: #jezeli zdarzy sie jakis tweet ktory nie ma zadnego embeddingu to pobiera kolejny rekord (nie robi tego co dalej)\n",
    "                continue\n",
    "            idx = torch.tensor(idx) #zapisuje indeksy jakot tensor\n",
    "            label = torch.tensor(int(line[0] == \"4\")).long() #label dla tweeta, 0 gdy bylo 0, 1 gdy  bylo 4 (wartosc logiczną tranformuje w liczbe calkowitą a następnie zapisuje do tensora)\n",
    "            #chce sobie podzielic dane na trzy kategorie: zbior treningowy, walidacyjny i testowy [3 na 5 będe zapisywal do testowego, 1 na 5 do walidacyjnego, 1 na 5 do testowego]\n",
    "            if i % 5 < 3:  #czyli 0,1,2 [60% danych]\n",
    "                train.append((idx, label))\n",
    "            elif i % 5 == 3: #20 % danych\n",
    "                valid.append((idx, label))\n",
    "            else:            # pozostale 20% danych\n",
    "                test.append((idx, label))\n",
    "    return train, valid, test #zwraca zbior treningowy, walidacyjny i testowy"
   ]
  },
  {
   "cell_type": "code",
   "execution_count": 28,
   "metadata": {},
   "outputs": [],
   "source": [
    "train, valid, test = get_tweet_words(glove, data()) #generuje te trzy listy"
   ]
  },
  {
   "cell_type": "code",
   "execution_count": 29,
   "metadata": {},
   "outputs": [
    {
     "name": "stdout",
     "output_type": "stream",
     "text": [
      "(tensor([  45,   11,    1,   12,    9,    7,    2,   81,  405,  684, 9912,    3,\n",
      "         245,  122,    4,   88,   20,    2,   89, 1968]), tensor(0))\n"
     ]
    }
   ],
   "source": [
    "print(train[0])"
   ]
  },
  {
   "cell_type": "code",
   "execution_count": 30,
   "metadata": {},
   "outputs": [],
   "source": [
    "tweet0, label0 = train[0]"
   ]
  },
  {
   "cell_type": "code",
   "execution_count": 31,
   "metadata": {},
   "outputs": [
    {
     "name": "stdout",
     "output_type": "stream",
     "text": [
      "tensor([  45,   11,    1,   12,    9,    7,    2,   81,  405,  684, 9912,    3,\n",
      "         245,  122,    4,   88,   20,    2,   89, 1968])\n",
      "tensor(0)\n"
     ]
    }
   ],
   "source": [
    "print(tweet0)\n",
    "print(label0)"
   ]
  },
  {
   "cell_type": "code",
   "execution_count": 32,
   "metadata": {},
   "outputs": [
    {
     "data": {
      "text/plain": [
       "20"
      ]
     },
     "execution_count": 32,
     "metadata": {},
     "output_type": "execute_result"
    }
   ],
   "source": [
    "len(tweet0) #ile tam bylo slow z embeddingami"
   ]
  },
  {
   "cell_type": "code",
   "execution_count": 33,
   "metadata": {},
   "outputs": [],
   "source": [
    "glove_emb = nn.Embedding.from_pretrained(glove.vectors) #zeby uzyc potem gotowych embeddingow\n",
    "tweet_emb = glove_emb(tweet0)  #tworzy mi tensor z embeddingami dla kazdego slowa z tweet0"
   ]
  },
  {
   "cell_type": "code",
   "execution_count": 34,
   "metadata": {},
   "outputs": [
    {
     "data": {
      "text/plain": [
       "torch.Size([20, 50])"
      ]
     },
     "execution_count": 34,
     "metadata": {},
     "output_type": "execute_result"
    }
   ],
   "source": [
    "tweet_emb.shape #wymiar"
   ]
  },
  {
   "cell_type": "code",
   "execution_count": 35,
   "metadata": {},
   "outputs": [
    {
     "name": "stdout",
     "output_type": "stream",
     "text": [
      "tensor([[-1.7587e-01,  1.3508e+00, -1.8159e-01,  4.5197e-01,  3.7554e-01,\n",
      "         -2.0926e-01,  1.4956e-02, -8.7286e-01, -5.4443e-01, -2.5731e-01,\n",
      "         -5.2100e-01,  6.2242e-01, -5.2387e-01, -6.1782e-02,  1.1805e+00,\n",
      "         -4.1984e-02,  1.0582e-01, -2.0913e-01, -5.4508e-01,  2.7728e-02,\n",
      "         -3.1329e-01,  1.3439e-01,  5.5192e-01,  7.5419e-01,  3.0996e-01,\n",
      "         -1.3301e+00, -9.8620e-01, -3.3747e-01,  1.7633e-01, -3.7547e-01,\n",
      "          3.4474e+00,  1.4171e-01, -6.5033e-01,  1.0118e-01,  1.4796e-04,\n",
      "         -7.4707e-02,  1.9146e-01, -4.7977e-01,  3.9628e-01, -1.3403e-01,\n",
      "          4.3043e-01,  4.5704e-01,  5.9387e-01, -4.0308e-01,  6.7302e-02,\n",
      "          1.2784e+00,  4.9927e-01,  1.5617e-01,  5.6650e-01,  6.1385e-01],\n",
      "        [-1.6768e-01,  1.2151e+00,  4.9515e-01,  2.6836e-01, -4.5850e-01,\n",
      "         -2.3311e-01, -5.2822e-01, -1.3557e+00,  1.6098e-01,  3.7691e-01,\n",
      "         -9.2702e-01, -4.3904e-01, -1.0634e+00,  1.0280e+00,  5.3943e-03,\n",
      "          4.1530e-02, -1.8638e-02, -5.5451e-01,  2.6166e-02,  2.8066e-01,\n",
      "         -6.6245e-01,  2.3435e-01,  2.4510e-01,  2.5668e-02, -1.0869e+00,\n",
      "         -2.8440e+00, -5.1272e-01,  2.7286e-01,  7.1502e-03,  3.3984e-02,\n",
      "          3.9084e+00,  5.2766e-01, -6.6899e-01,  1.8238e+00,  4.3436e-01,\n",
      "         -3.0084e-01, -2.6996e-01,  4.3940e-01,  6.9956e-01,  1.4885e-01,\n",
      "          2.9453e-02,  1.4888e+00,  5.2361e-01,  9.9354e-02,  1.2515e+00,\n",
      "          9.9381e-02, -7.9261e-02, -3.0862e-01,  3.0893e-01,  1.1023e-01],\n",
      "        [ 1.3441e-02,  2.3682e-01, -1.6899e-01,  4.0951e-01,  6.3812e-01,\n",
      "          4.7709e-01, -4.2852e-01, -5.5641e-01, -3.6400e-01, -2.3938e-01,\n",
      "          1.3001e-01, -6.3734e-02, -3.9575e-01, -4.8162e-01,  2.3291e-01,\n",
      "          9.0201e-02, -1.3324e-01,  7.8639e-02, -4.1634e-01, -1.5428e-01,\n",
      "          1.0068e-01,  4.8891e-01,  3.1226e-01, -1.2520e-01, -3.7512e-02,\n",
      "         -1.5179e+00,  1.2612e-01, -2.4420e-02, -4.2961e-02, -2.8351e-01,\n",
      "          3.5416e+00, -1.1956e-01, -1.4533e-02, -1.4990e-01,  2.1864e-01,\n",
      "         -3.3412e-01, -1.3872e-01,  3.1806e-01,  7.0358e-01,  4.4858e-01,\n",
      "         -8.0262e-02,  6.3003e-01,  3.2111e-01, -4.6765e-01,  2.2786e-01,\n",
      "          3.6034e-01, -3.7818e-01, -5.6657e-01,  4.4691e-02,  3.0392e-01],\n",
      "        [ 8.8387e-01, -1.4199e-01,  1.3566e-01,  9.8682e-02,  5.1218e-01,\n",
      "          4.9138e-01, -4.7155e-01, -3.0742e-01,  1.9630e-02,  1.2686e-01,\n",
      "          7.3524e-02,  3.5836e-01, -6.0874e-01, -1.8676e-01,  7.8935e-01,\n",
      "          5.4534e-01,  1.1060e-01, -2.9230e-01,  5.9041e-02, -6.9551e-01,\n",
      "         -1.8804e-01,  1.9455e-01,  3.2269e-01, -4.9981e-01,  3.0600e-01,\n",
      "         -2.3902e+00, -6.0749e-01,  3.7107e-01,  7.8912e-02, -2.3896e-01,\n",
      "          3.8390e+00, -2.0355e-01, -3.5613e-01, -6.9185e-01, -1.7497e-01,\n",
      "         -3.5323e-01,  1.0598e-01, -3.9303e-02,  1.5701e-02,  3.8279e-02,\n",
      "         -3.5283e-01,  4.4882e-01, -1.6534e-01,  3.1579e-01,  1.4963e-01,\n",
      "         -7.1277e-02, -5.3506e-01,  5.2711e-01, -2.0148e-01,  9.5952e-03],\n",
      "        [ 2.3727e-01,  4.0478e-01, -2.0547e-01,  5.8805e-01,  6.5533e-01,\n",
      "          3.2867e-01, -8.1964e-01, -2.3236e-01,  2.7428e-01,  2.4265e-01,\n",
      "          5.4992e-02,  1.6296e-01, -1.2555e+00, -8.6437e-02,  4.4536e-01,\n",
      "          9.6561e-02, -1.6519e-01,  5.8378e-02, -3.8598e-01,  8.6977e-02,\n",
      "          3.3869e-03,  5.5095e-01, -7.7697e-01, -6.2096e-01,  9.2948e-02,\n",
      "         -2.5685e+00, -6.7739e-01,  1.0151e-01, -4.8643e-01, -5.7805e-02,\n",
      "          3.1859e+00, -1.7554e-02, -1.6138e-01,  5.5486e-02, -2.5885e-01,\n",
      "         -3.3938e-01, -1.9928e-01,  2.6049e-01,  1.0478e-01, -5.5934e-01,\n",
      "         -1.2342e-01,  6.5961e-01, -5.1802e-01, -8.2995e-01, -8.2739e-02,\n",
      "          2.8155e-01, -4.2300e-01, -2.7378e-01, -7.9010e-03, -3.0231e-02],\n",
      "        [ 2.1705e-01,  4.6515e-01, -4.6757e-01,  1.0082e-01,  1.0135e+00,\n",
      "          7.4845e-01, -5.3104e-01, -2.6256e-01,  1.6812e-01,  1.3182e-01,\n",
      "         -2.4909e-01, -4.4185e-01, -2.1739e-01,  5.1004e-01,  1.3448e-01,\n",
      "         -4.3141e-01, -3.1230e-02,  2.0674e-01, -7.8138e-01, -2.0148e-01,\n",
      "         -9.7401e-02,  1.6088e-01, -6.1836e-01, -1.8504e-01, -1.2461e-01,\n",
      "         -2.2526e+00, -2.2321e-01,  5.0430e-01,  3.2257e-01,  1.5313e-01,\n",
      "          3.9636e+00, -7.1365e-01, -6.7012e-01,  2.8388e-01,  2.1738e-01,\n",
      "          1.4433e-01,  2.5926e-01,  2.3434e-01,  4.2740e-01, -4.4451e-01,\n",
      "          1.3813e-01,  3.6973e-01, -6.4289e-01,  2.4142e-02, -3.9315e-02,\n",
      "         -2.6037e-01,  1.2017e-01, -4.3782e-02,  4.1013e-01,  1.7960e-01],\n",
      "        [ 1.5164e-01,  3.0177e-01, -1.6763e-01,  1.7684e-01,  3.1719e-01,\n",
      "          3.3973e-01, -4.3478e-01, -3.1086e-01, -4.4999e-01, -2.9486e-01,\n",
      "          1.6608e-01,  1.1963e-01, -4.1328e-01, -4.2353e-01,  5.9868e-01,\n",
      "          2.8825e-01, -1.1547e-01, -4.1848e-02, -6.7989e-01, -2.5063e-01,\n",
      "          1.8472e-01,  8.6876e-02,  4.6582e-01,  1.5035e-02,  4.3474e-02,\n",
      "         -1.4671e+00, -3.0384e-01, -2.3441e-02,  3.0589e-01, -2.1785e-01,\n",
      "          3.7460e+00,  4.2284e-03, -1.8436e-01, -4.6209e-01,  9.8329e-02,\n",
      "         -1.1907e-01,  2.3919e-01,  1.1610e-01,  4.1705e-01,  5.6763e-02,\n",
      "         -6.3681e-05,  6.8987e-02,  8.7939e-02, -1.0285e-01, -1.3931e-01,\n",
      "          2.2314e-01, -8.0803e-02, -3.5652e-01,  1.6413e-02,  1.0216e-01],\n",
      "        [-1.0919e-03,  3.3324e-01,  3.5743e-01, -5.4041e-01,  8.2032e-01,\n",
      "         -4.9391e-01, -3.2588e-01,  1.9972e-03, -2.3829e-01,  3.5554e-01,\n",
      "         -6.0655e-01,  9.8932e-01, -2.1786e-01,  1.1236e-01,  1.1494e+00,\n",
      "          7.3284e-01,  5.1182e-01,  2.9287e-01,  2.8388e-01, -1.3590e+00,\n",
      "         -3.7951e-01,  5.0943e-01,  7.0710e-01,  6.2941e-01,  1.0534e+00,\n",
      "         -2.1756e+00, -1.3204e+00,  4.0001e-01,  1.5741e+00, -1.6600e+00,\n",
      "          3.7721e+00,  8.6949e-01, -8.0439e-01,  1.8390e-01, -3.4332e-01,\n",
      "          1.0714e-02,  2.3969e-01,  6.6748e-02,  7.0117e-01, -7.3702e-01,\n",
      "          2.0877e-01,  1.1564e-01, -1.5190e-01,  8.5908e-01,  2.2620e-01,\n",
      "          1.6519e-01,  3.6309e-01, -4.5697e-01, -4.8969e-02,  1.1316e+00],\n",
      "        [-4.0970e-01, -3.7167e-01,  3.8852e-01, -3.4947e-01,  5.4256e-01,\n",
      "         -5.5407e-02, -1.2432e+00,  5.8731e-01, -3.3109e-01,  2.6876e-01,\n",
      "         -1.6541e-01,  2.7529e-01, -8.7592e-01,  1.1583e-01,  7.6800e-01,\n",
      "         -2.3885e-01,  9.7804e-02, -4.0966e-02, -5.7139e-01, -5.8161e-01,\n",
      "         -5.4171e-01,  6.5742e-01,  5.5660e-01, -1.3654e-01,  6.2849e-01,\n",
      "         -1.8087e+00,  6.7057e-02,  3.0304e-01,  5.9420e-01, -1.1812e+00,\n",
      "          2.9078e+00,  8.6026e-01, -2.5584e-02,  2.4876e-01,  2.1716e-03,\n",
      "          9.6196e-02,  1.4752e-01,  6.9622e-01,  7.9390e-01, -5.7110e-01,\n",
      "         -1.2454e-01,  3.4798e-01, -3.3992e-01,  2.8812e-01, -2.2895e-01,\n",
      "         -5.1136e-02, -9.2898e-02, -2.5414e-01,  4.0372e-02,  3.8652e-01],\n",
      "        [-3.3246e-01,  9.6743e-01,  1.2959e-01, -2.0149e-01,  2.9269e-01,\n",
      "         -4.2241e-01, -1.2442e+00,  2.0015e-01, -5.3863e-01, -3.5508e-01,\n",
      "         -4.4494e-01,  5.7979e-01, -1.3057e+00,  3.5685e-02,  7.7380e-01,\n",
      "          3.5736e-03,  1.1445e+00, -1.2053e+00, -4.8096e-01, -1.9235e-01,\n",
      "         -3.9899e-01,  4.2011e-01, -1.9906e-01, -1.4857e-02, -3.4018e-01,\n",
      "         -9.4543e-01,  7.2259e-01, -5.6788e-01, -8.5878e-01,  2.9182e-01,\n",
      "          2.0714e+00, -1.4323e+00,  1.8008e-01, -7.4774e-01,  1.5479e-02,\n",
      "         -3.1071e-01,  1.1831e-01,  2.7912e-01,  8.5021e-01, -6.3294e-01,\n",
      "          1.0131e+00,  9.9396e-01, -2.9473e-01, -6.1603e-01,  5.5052e-01,\n",
      "         -2.8938e-01, -1.0936e-01, -7.2139e-01, -6.5306e-01,  1.3483e+00],\n",
      "        [-1.1803e+00,  3.3034e-01, -1.8902e-01, -1.1249e-02, -1.1956e-01,\n",
      "          3.7487e-03, -1.3758e+00, -1.8629e-01, -3.7347e-01, -7.1184e-01,\n",
      "         -2.1817e-01,  1.0253e+00, -9.9211e-01, -8.3026e-01,  4.4224e-01,\n",
      "          1.8250e-01,  3.6976e-01, -5.7417e-01, -2.2965e-01,  1.4137e-01,\n",
      "         -2.1449e-01,  6.2635e-01,  2.2841e-01, -1.3891e-02,  5.3005e-01,\n",
      "         -4.3270e-01,  4.6533e-01, -1.4870e-01, -9.3033e-02, -3.2446e-01,\n",
      "          5.8913e-01, -4.7923e-01,  5.2906e-01, -3.0585e-01,  7.0141e-02,\n",
      "         -2.4885e-01,  2.1957e-01, -2.2396e-01,  7.6897e-01,  1.7509e-01,\n",
      "          3.2516e-01,  9.9683e-02, -3.6965e-01,  1.7288e-02, -6.7391e-02,\n",
      "         -3.0003e-02, -1.4857e-03, -8.0926e-02,  1.1941e-01,  9.8678e-01],\n",
      "        [ 7.0853e-01,  5.7088e-01, -4.7160e-01,  1.8048e-01,  5.4449e-01,\n",
      "          7.2603e-01,  1.8157e-01, -5.2393e-01,  1.0381e-01, -1.7566e-01,\n",
      "          7.8852e-02, -3.6216e-01, -1.1829e-01, -8.3336e-01,  1.1917e-01,\n",
      "         -1.6605e-01,  6.1555e-02, -1.2719e-02, -5.6623e-01,  1.3616e-02,\n",
      "          2.2851e-01, -1.4396e-01, -6.7549e-02, -3.8157e-01, -2.3698e-01,\n",
      "         -1.7037e+00, -8.6692e-01, -2.6704e-01, -2.5890e-01,  1.7670e-01,\n",
      "          3.8676e+00, -1.6130e-01, -1.3273e-01, -6.8881e-01,  1.8444e-01,\n",
      "          5.2464e-03, -3.3874e-01, -7.8956e-02,  2.4185e-01,  3.6576e-01,\n",
      "         -3.4727e-01,  2.8483e-01,  7.5693e-02, -6.2178e-02, -3.8988e-01,\n",
      "          2.2902e-01, -2.1617e-01, -2.2562e-01, -9.3918e-02, -8.0375e-01],\n",
      "        [-2.9329e-01,  2.4741e-01,  3.8114e-01,  6.6685e-01,  8.2800e-01,\n",
      "          6.0294e-01, -9.1257e-01,  5.2368e-01,  1.4178e-01, -3.0512e-01,\n",
      "          1.4389e-01, -6.4990e-01, -1.1039e+00,  2.5910e-01,  5.1173e-01,\n",
      "         -6.9929e-01, -4.0610e-02, -8.7886e-01, -1.2485e+00,  1.9964e-01,\n",
      "         -2.5412e-01, -5.8236e-01, -3.1967e-01,  4.1768e-02,  8.8083e-02,\n",
      "         -1.3633e+00,  2.6619e-01, -6.6122e-01, -5.3167e-02, -9.9260e-02,\n",
      "          3.3406e+00,  2.4938e-01,  1.1115e-01,  6.6586e-01,  4.3210e-01,\n",
      "         -3.0615e-01,  4.4014e-01,  8.0759e-01,  1.7952e-02, -5.1661e-01,\n",
      "         -2.5567e-01, -2.6593e-01, -1.6342e-01, -5.3087e-01, -6.2928e-01,\n",
      "          2.9726e-01,  2.8643e-01, -3.6534e-01,  2.6795e-01, -1.7126e-01],\n",
      "        [ 1.1626e-01,  5.3897e-01, -3.9514e-01, -2.6027e-01,  5.7706e-01,\n",
      "         -7.9198e-01, -8.8374e-01,  3.0119e-01,  8.2896e-02, -3.3443e-01,\n",
      "         -6.4467e-01, -7.5366e-01, -3.0356e-01,  7.8840e-02,  1.2252e+00,\n",
      "         -3.8627e-02, -4.7341e-01, -4.0556e-01, -1.1165e+00, -2.1352e-01,\n",
      "          4.9275e-01,  5.5574e-01,  3.8941e-01, -2.2514e-01,  3.7775e-01,\n",
      "         -1.4233e+00, -1.3409e-01,  1.0737e-01,  1.6528e-01,  3.5527e-01,\n",
      "          3.5733e+00,  7.6404e-01, -5.9226e-01,  5.1366e-01,  1.2055e-01,\n",
      "         -3.6967e-01,  4.3251e-01,  8.6429e-02,  3.4554e-02,  8.2458e-02,\n",
      "         -8.7920e-01,  2.6134e-01, -3.2132e-01, -1.2652e-01,  2.5573e-01,\n",
      "          3.2818e-01,  2.4073e-02, -3.9062e-01, -1.0885e-01,  8.4513e-02],\n",
      "        [ 6.8047e-01, -3.9263e-02,  3.0186e-01, -1.7792e-01,  4.2962e-01,\n",
      "          3.2246e-02, -4.1376e-01,  1.3228e-01, -2.9847e-01, -8.5253e-02,\n",
      "          1.7118e-01,  2.2419e-01, -1.0046e-01, -4.3653e-01,  3.3418e-01,\n",
      "          6.7846e-01,  5.7204e-02, -3.4448e-01, -4.2785e-01, -4.3275e-01,\n",
      "          5.5963e-01,  1.0032e-01,  1.8677e-01, -2.6854e-01,  3.7334e-02,\n",
      "         -2.0932e+00,  2.2171e-01, -3.9868e-01,  2.0912e-01, -5.5725e-01,\n",
      "          3.8826e+00,  4.7466e-01, -9.5658e-01, -3.7788e-01,  2.0869e-01,\n",
      "         -3.2752e-01,  1.2751e-01,  8.8359e-02,  1.6351e-01, -2.1634e-01,\n",
      "         -9.4375e-02,  1.8324e-02,  2.1048e-01, -3.0880e-02, -1.9722e-01,\n",
      "          8.2279e-02, -9.4340e-02, -7.3297e-02, -6.4699e-02, -2.6044e-01],\n",
      "        [ 2.9605e-01, -1.3841e-01,  4.3774e-02, -3.8744e-01,  1.2262e-01,\n",
      "         -6.5180e-01, -2.8240e-01,  9.0312e-02, -5.5186e-01,  3.2060e-01,\n",
      "          3.7422e-03,  9.3229e-01, -2.2034e-01, -2.1922e-01,  9.2170e-01,\n",
      "          7.5724e-01,  8.4892e-01, -4.2197e-03,  5.3626e-01, -1.2667e+00,\n",
      "         -6.1028e-01,  1.6700e-01,  8.2753e-01,  6.5765e-01,  4.8959e-01,\n",
      "         -1.9744e+00, -1.1490e+00, -2.1461e-01,  8.0539e-01, -1.4745e+00,\n",
      "          3.7490e+00,  1.0141e+00, -1.1293e+00, -5.2661e-01, -1.2029e-01,\n",
      "         -2.7931e-01,  6.5092e-02, -4.3639e-02,  6.0426e-01, -2.0892e-01,\n",
      "         -4.5739e-01,  1.0441e-02,  4.1458e-01,  6.8900e-01,  1.4468e-01,\n",
      "         -3.1973e-02, -4.8073e-02, -1.1279e-04,  1.3854e-01,  9.6954e-01],\n",
      "        [ 6.1183e-01, -2.2072e-01, -1.0898e-01, -5.2967e-02,  5.0804e-01,\n",
      "          3.4684e-01, -3.3558e-01, -1.9152e-01, -3.5865e-02,  1.0510e-01,\n",
      "          7.9350e-02,  2.4490e-01, -4.3730e-01, -3.3344e-01,  5.7479e-01,\n",
      "          6.9052e-01,  2.9713e-01,  9.0669e-02, -5.4992e-01, -4.6176e-01,\n",
      "          1.0113e-01, -2.0240e-02,  2.8479e-01,  4.3512e-02,  4.5735e-01,\n",
      "         -2.0466e+00, -5.8084e-01,  6.1797e-01,  6.5180e-01, -5.8263e-01,\n",
      "          4.0786e+00, -2.5420e-01, -1.4649e-01, -3.4321e-01, -2.5437e-01,\n",
      "         -4.4677e-01,  1.2657e-01,  2.8134e-01,  1.3331e-01, -3.6974e-01,\n",
      "          5.0059e-02, -1.0058e-01, -1.7907e-02,  1.1142e-01, -7.1798e-01,\n",
      "          4.9100e-01, -9.9974e-02, -4.3688e-02, -9.7922e-02,  1.6806e-01],\n",
      "        [ 1.5164e-01,  3.0177e-01, -1.6763e-01,  1.7684e-01,  3.1719e-01,\n",
      "          3.3973e-01, -4.3478e-01, -3.1086e-01, -4.4999e-01, -2.9486e-01,\n",
      "          1.6608e-01,  1.1963e-01, -4.1328e-01, -4.2353e-01,  5.9868e-01,\n",
      "          2.8825e-01, -1.1547e-01, -4.1848e-02, -6.7989e-01, -2.5063e-01,\n",
      "          1.8472e-01,  8.6876e-02,  4.6582e-01,  1.5035e-02,  4.3474e-02,\n",
      "         -1.4671e+00, -3.0384e-01, -2.3441e-02,  3.0589e-01, -2.1785e-01,\n",
      "          3.7460e+00,  4.2284e-03, -1.8436e-01, -4.6209e-01,  9.8329e-02,\n",
      "         -1.1907e-01,  2.3919e-01,  1.1610e-01,  4.1705e-01,  5.6763e-02,\n",
      "         -6.3681e-05,  6.8987e-02,  8.7939e-02, -1.0285e-01, -1.3931e-01,\n",
      "          2.2314e-01, -8.0803e-02, -3.5652e-01,  1.6413e-02,  1.0216e-01],\n",
      "        [-1.1604e-01,  1.1429e+00,  2.6043e-02, -8.4921e-03,  3.1898e-01,\n",
      "          6.5984e-01, -2.5055e-01, -9.8368e-01, -8.3334e-01, -2.1147e-01,\n",
      "         -3.7307e-01,  4.1228e-01,  2.9478e-02, -4.2162e-01,  2.6829e-01,\n",
      "         -3.8260e-01, -2.6704e-01, -1.7551e-01, -6.9986e-01,  8.8440e-02,\n",
      "         -5.7850e-02,  1.4381e-01,  4.3372e-01,  3.1841e-01, -2.8405e-01,\n",
      "         -9.6445e-01,  9.6190e-02, -5.3046e-01,  5.9122e-01, -4.2788e-01,\n",
      "          3.3692e+00,  6.7626e-02, -1.0391e-01, -4.7914e-02,  1.1318e-01,\n",
      "         -5.6322e-02,  1.4699e-01,  5.7051e-02,  1.0275e+00,  4.1663e-01,\n",
      "          6.9818e-01,  5.4682e-01,  9.1148e-01, -2.6655e-01, -3.5268e-01,\n",
      "          1.1042e+00,  7.4058e-02, -8.6765e-01,  7.4969e-02,  8.0395e-01],\n",
      "        [ 7.4870e-02,  7.2680e-01,  6.0202e-01,  6.7041e-01, -4.9310e-01,\n",
      "          9.3332e-01,  5.6347e-01, -6.0140e-01, -2.4315e-01, -6.5394e-01,\n",
      "         -1.0592e+00, -2.2451e-02, -1.8103e-01, -6.0974e-01, -9.2036e-01,\n",
      "         -6.1579e-01,  1.8427e-01, -2.0126e-01, -1.7767e-01, -7.3492e-01,\n",
      "         -1.0046e+00, -9.3514e-01,  8.1081e-01,  2.6421e-01, -8.1027e-01,\n",
      "         -1.1659e+00,  2.2443e-01, -1.1386e-01, -6.5991e-01, -2.2088e-01,\n",
      "          1.9264e+00, -1.8013e-01, -6.7806e-01,  9.7938e-02,  7.2360e-01,\n",
      "         -1.4630e+00,  6.7200e-01,  1.9596e-01,  6.4471e-01, -1.1050e-01,\n",
      "          6.1934e-01,  8.7038e-01, -3.6938e-01, -4.9484e-01, -5.4509e-02,\n",
      "          1.2095e+00,  1.4817e-01, -3.6510e-01, -3.4448e-01,  2.5774e+00]])\n"
     ]
    }
   ],
   "source": [
    "print(tweet_emb)"
   ]
  },
  {
   "cell_type": "code",
   "execution_count": 36,
   "metadata": {},
   "outputs": [
    {
     "name": "stdout",
     "output_type": "stream",
     "text": [
      "tensor([[[-1.7587e-01,  1.3508e+00, -1.8159e-01,  4.5197e-01,  3.7554e-01,\n",
      "          -2.0926e-01,  1.4956e-02, -8.7286e-01, -5.4443e-01, -2.5731e-01,\n",
      "          -5.2100e-01,  6.2242e-01, -5.2387e-01, -6.1782e-02,  1.1805e+00,\n",
      "          -4.1984e-02,  1.0582e-01, -2.0913e-01, -5.4508e-01,  2.7728e-02,\n",
      "          -3.1329e-01,  1.3439e-01,  5.5192e-01,  7.5419e-01,  3.0996e-01,\n",
      "          -1.3301e+00, -9.8620e-01, -3.3747e-01,  1.7633e-01, -3.7547e-01,\n",
      "           3.4474e+00,  1.4171e-01, -6.5033e-01,  1.0118e-01,  1.4796e-04,\n",
      "          -7.4707e-02,  1.9146e-01, -4.7977e-01,  3.9628e-01, -1.3403e-01,\n",
      "           4.3043e-01,  4.5704e-01,  5.9387e-01, -4.0308e-01,  6.7302e-02,\n",
      "           1.2784e+00,  4.9927e-01,  1.5617e-01,  5.6650e-01,  6.1385e-01],\n",
      "         [-1.6768e-01,  1.2151e+00,  4.9515e-01,  2.6836e-01, -4.5850e-01,\n",
      "          -2.3311e-01, -5.2822e-01, -1.3557e+00,  1.6098e-01,  3.7691e-01,\n",
      "          -9.2702e-01, -4.3904e-01, -1.0634e+00,  1.0280e+00,  5.3943e-03,\n",
      "           4.1530e-02, -1.8638e-02, -5.5451e-01,  2.6166e-02,  2.8066e-01,\n",
      "          -6.6245e-01,  2.3435e-01,  2.4510e-01,  2.5668e-02, -1.0869e+00,\n",
      "          -2.8440e+00, -5.1272e-01,  2.7286e-01,  7.1502e-03,  3.3984e-02,\n",
      "           3.9084e+00,  5.2766e-01, -6.6899e-01,  1.8238e+00,  4.3436e-01,\n",
      "          -3.0084e-01, -2.6996e-01,  4.3940e-01,  6.9956e-01,  1.4885e-01,\n",
      "           2.9453e-02,  1.4888e+00,  5.2361e-01,  9.9354e-02,  1.2515e+00,\n",
      "           9.9381e-02, -7.9261e-02, -3.0862e-01,  3.0893e-01,  1.1023e-01],\n",
      "         [ 1.3441e-02,  2.3682e-01, -1.6899e-01,  4.0951e-01,  6.3812e-01,\n",
      "           4.7709e-01, -4.2852e-01, -5.5641e-01, -3.6400e-01, -2.3938e-01,\n",
      "           1.3001e-01, -6.3734e-02, -3.9575e-01, -4.8162e-01,  2.3291e-01,\n",
      "           9.0201e-02, -1.3324e-01,  7.8639e-02, -4.1634e-01, -1.5428e-01,\n",
      "           1.0068e-01,  4.8891e-01,  3.1226e-01, -1.2520e-01, -3.7512e-02,\n",
      "          -1.5179e+00,  1.2612e-01, -2.4420e-02, -4.2961e-02, -2.8351e-01,\n",
      "           3.5416e+00, -1.1956e-01, -1.4533e-02, -1.4990e-01,  2.1864e-01,\n",
      "          -3.3412e-01, -1.3872e-01,  3.1806e-01,  7.0358e-01,  4.4858e-01,\n",
      "          -8.0262e-02,  6.3003e-01,  3.2111e-01, -4.6765e-01,  2.2786e-01,\n",
      "           3.6034e-01, -3.7818e-01, -5.6657e-01,  4.4691e-02,  3.0392e-01],\n",
      "         [ 8.8387e-01, -1.4199e-01,  1.3566e-01,  9.8682e-02,  5.1218e-01,\n",
      "           4.9138e-01, -4.7155e-01, -3.0742e-01,  1.9630e-02,  1.2686e-01,\n",
      "           7.3524e-02,  3.5836e-01, -6.0874e-01, -1.8676e-01,  7.8935e-01,\n",
      "           5.4534e-01,  1.1060e-01, -2.9230e-01,  5.9041e-02, -6.9551e-01,\n",
      "          -1.8804e-01,  1.9455e-01,  3.2269e-01, -4.9981e-01,  3.0600e-01,\n",
      "          -2.3902e+00, -6.0749e-01,  3.7107e-01,  7.8912e-02, -2.3896e-01,\n",
      "           3.8390e+00, -2.0355e-01, -3.5613e-01, -6.9185e-01, -1.7497e-01,\n",
      "          -3.5323e-01,  1.0598e-01, -3.9303e-02,  1.5701e-02,  3.8279e-02,\n",
      "          -3.5283e-01,  4.4882e-01, -1.6534e-01,  3.1579e-01,  1.4963e-01,\n",
      "          -7.1277e-02, -5.3506e-01,  5.2711e-01, -2.0148e-01,  9.5952e-03],\n",
      "         [ 2.3727e-01,  4.0478e-01, -2.0547e-01,  5.8805e-01,  6.5533e-01,\n",
      "           3.2867e-01, -8.1964e-01, -2.3236e-01,  2.7428e-01,  2.4265e-01,\n",
      "           5.4992e-02,  1.6296e-01, -1.2555e+00, -8.6437e-02,  4.4536e-01,\n",
      "           9.6561e-02, -1.6519e-01,  5.8378e-02, -3.8598e-01,  8.6977e-02,\n",
      "           3.3869e-03,  5.5095e-01, -7.7697e-01, -6.2096e-01,  9.2948e-02,\n",
      "          -2.5685e+00, -6.7739e-01,  1.0151e-01, -4.8643e-01, -5.7805e-02,\n",
      "           3.1859e+00, -1.7554e-02, -1.6138e-01,  5.5486e-02, -2.5885e-01,\n",
      "          -3.3938e-01, -1.9928e-01,  2.6049e-01,  1.0478e-01, -5.5934e-01,\n",
      "          -1.2342e-01,  6.5961e-01, -5.1802e-01, -8.2995e-01, -8.2739e-02,\n",
      "           2.8155e-01, -4.2300e-01, -2.7378e-01, -7.9010e-03, -3.0231e-02],\n",
      "         [ 2.1705e-01,  4.6515e-01, -4.6757e-01,  1.0082e-01,  1.0135e+00,\n",
      "           7.4845e-01, -5.3104e-01, -2.6256e-01,  1.6812e-01,  1.3182e-01,\n",
      "          -2.4909e-01, -4.4185e-01, -2.1739e-01,  5.1004e-01,  1.3448e-01,\n",
      "          -4.3141e-01, -3.1230e-02,  2.0674e-01, -7.8138e-01, -2.0148e-01,\n",
      "          -9.7401e-02,  1.6088e-01, -6.1836e-01, -1.8504e-01, -1.2461e-01,\n",
      "          -2.2526e+00, -2.2321e-01,  5.0430e-01,  3.2257e-01,  1.5313e-01,\n",
      "           3.9636e+00, -7.1365e-01, -6.7012e-01,  2.8388e-01,  2.1738e-01,\n",
      "           1.4433e-01,  2.5926e-01,  2.3434e-01,  4.2740e-01, -4.4451e-01,\n",
      "           1.3813e-01,  3.6973e-01, -6.4289e-01,  2.4142e-02, -3.9315e-02,\n",
      "          -2.6037e-01,  1.2017e-01, -4.3782e-02,  4.1013e-01,  1.7960e-01],\n",
      "         [ 1.5164e-01,  3.0177e-01, -1.6763e-01,  1.7684e-01,  3.1719e-01,\n",
      "           3.3973e-01, -4.3478e-01, -3.1086e-01, -4.4999e-01, -2.9486e-01,\n",
      "           1.6608e-01,  1.1963e-01, -4.1328e-01, -4.2353e-01,  5.9868e-01,\n",
      "           2.8825e-01, -1.1547e-01, -4.1848e-02, -6.7989e-01, -2.5063e-01,\n",
      "           1.8472e-01,  8.6876e-02,  4.6582e-01,  1.5035e-02,  4.3474e-02,\n",
      "          -1.4671e+00, -3.0384e-01, -2.3441e-02,  3.0589e-01, -2.1785e-01,\n",
      "           3.7460e+00,  4.2284e-03, -1.8436e-01, -4.6209e-01,  9.8329e-02,\n",
      "          -1.1907e-01,  2.3919e-01,  1.1610e-01,  4.1705e-01,  5.6763e-02,\n",
      "          -6.3681e-05,  6.8987e-02,  8.7939e-02, -1.0285e-01, -1.3931e-01,\n",
      "           2.2314e-01, -8.0803e-02, -3.5652e-01,  1.6413e-02,  1.0216e-01],\n",
      "         [-1.0919e-03,  3.3324e-01,  3.5743e-01, -5.4041e-01,  8.2032e-01,\n",
      "          -4.9391e-01, -3.2588e-01,  1.9972e-03, -2.3829e-01,  3.5554e-01,\n",
      "          -6.0655e-01,  9.8932e-01, -2.1786e-01,  1.1236e-01,  1.1494e+00,\n",
      "           7.3284e-01,  5.1182e-01,  2.9287e-01,  2.8388e-01, -1.3590e+00,\n",
      "          -3.7951e-01,  5.0943e-01,  7.0710e-01,  6.2941e-01,  1.0534e+00,\n",
      "          -2.1756e+00, -1.3204e+00,  4.0001e-01,  1.5741e+00, -1.6600e+00,\n",
      "           3.7721e+00,  8.6949e-01, -8.0439e-01,  1.8390e-01, -3.4332e-01,\n",
      "           1.0714e-02,  2.3969e-01,  6.6748e-02,  7.0117e-01, -7.3702e-01,\n",
      "           2.0877e-01,  1.1564e-01, -1.5190e-01,  8.5908e-01,  2.2620e-01,\n",
      "           1.6519e-01,  3.6309e-01, -4.5697e-01, -4.8969e-02,  1.1316e+00],\n",
      "         [-4.0970e-01, -3.7167e-01,  3.8852e-01, -3.4947e-01,  5.4256e-01,\n",
      "          -5.5407e-02, -1.2432e+00,  5.8731e-01, -3.3109e-01,  2.6876e-01,\n",
      "          -1.6541e-01,  2.7529e-01, -8.7592e-01,  1.1583e-01,  7.6800e-01,\n",
      "          -2.3885e-01,  9.7804e-02, -4.0966e-02, -5.7139e-01, -5.8161e-01,\n",
      "          -5.4171e-01,  6.5742e-01,  5.5660e-01, -1.3654e-01,  6.2849e-01,\n",
      "          -1.8087e+00,  6.7057e-02,  3.0304e-01,  5.9420e-01, -1.1812e+00,\n",
      "           2.9078e+00,  8.6026e-01, -2.5584e-02,  2.4876e-01,  2.1716e-03,\n",
      "           9.6196e-02,  1.4752e-01,  6.9622e-01,  7.9390e-01, -5.7110e-01,\n",
      "          -1.2454e-01,  3.4798e-01, -3.3992e-01,  2.8812e-01, -2.2895e-01,\n",
      "          -5.1136e-02, -9.2898e-02, -2.5414e-01,  4.0372e-02,  3.8652e-01],\n",
      "         [-3.3246e-01,  9.6743e-01,  1.2959e-01, -2.0149e-01,  2.9269e-01,\n",
      "          -4.2241e-01, -1.2442e+00,  2.0015e-01, -5.3863e-01, -3.5508e-01,\n",
      "          -4.4494e-01,  5.7979e-01, -1.3057e+00,  3.5685e-02,  7.7380e-01,\n",
      "           3.5736e-03,  1.1445e+00, -1.2053e+00, -4.8096e-01, -1.9235e-01,\n",
      "          -3.9899e-01,  4.2011e-01, -1.9906e-01, -1.4857e-02, -3.4018e-01,\n",
      "          -9.4543e-01,  7.2259e-01, -5.6788e-01, -8.5878e-01,  2.9182e-01,\n",
      "           2.0714e+00, -1.4323e+00,  1.8008e-01, -7.4774e-01,  1.5479e-02,\n",
      "          -3.1071e-01,  1.1831e-01,  2.7912e-01,  8.5021e-01, -6.3294e-01,\n",
      "           1.0131e+00,  9.9396e-01, -2.9473e-01, -6.1603e-01,  5.5052e-01,\n",
      "          -2.8938e-01, -1.0936e-01, -7.2139e-01, -6.5306e-01,  1.3483e+00],\n",
      "         [-1.1803e+00,  3.3034e-01, -1.8902e-01, -1.1249e-02, -1.1956e-01,\n",
      "           3.7487e-03, -1.3758e+00, -1.8629e-01, -3.7347e-01, -7.1184e-01,\n",
      "          -2.1817e-01,  1.0253e+00, -9.9211e-01, -8.3026e-01,  4.4224e-01,\n",
      "           1.8250e-01,  3.6976e-01, -5.7417e-01, -2.2965e-01,  1.4137e-01,\n",
      "          -2.1449e-01,  6.2635e-01,  2.2841e-01, -1.3891e-02,  5.3005e-01,\n",
      "          -4.3270e-01,  4.6533e-01, -1.4870e-01, -9.3033e-02, -3.2446e-01,\n",
      "           5.8913e-01, -4.7923e-01,  5.2906e-01, -3.0585e-01,  7.0141e-02,\n",
      "          -2.4885e-01,  2.1957e-01, -2.2396e-01,  7.6897e-01,  1.7509e-01,\n",
      "           3.2516e-01,  9.9683e-02, -3.6965e-01,  1.7288e-02, -6.7391e-02,\n",
      "          -3.0003e-02, -1.4857e-03, -8.0926e-02,  1.1941e-01,  9.8678e-01],\n",
      "         [ 7.0853e-01,  5.7088e-01, -4.7160e-01,  1.8048e-01,  5.4449e-01,\n",
      "           7.2603e-01,  1.8157e-01, -5.2393e-01,  1.0381e-01, -1.7566e-01,\n",
      "           7.8852e-02, -3.6216e-01, -1.1829e-01, -8.3336e-01,  1.1917e-01,\n",
      "          -1.6605e-01,  6.1555e-02, -1.2719e-02, -5.6623e-01,  1.3616e-02,\n",
      "           2.2851e-01, -1.4396e-01, -6.7549e-02, -3.8157e-01, -2.3698e-01,\n",
      "          -1.7037e+00, -8.6692e-01, -2.6704e-01, -2.5890e-01,  1.7670e-01,\n",
      "           3.8676e+00, -1.6130e-01, -1.3273e-01, -6.8881e-01,  1.8444e-01,\n",
      "           5.2464e-03, -3.3874e-01, -7.8956e-02,  2.4185e-01,  3.6576e-01,\n",
      "          -3.4727e-01,  2.8483e-01,  7.5693e-02, -6.2178e-02, -3.8988e-01,\n",
      "           2.2902e-01, -2.1617e-01, -2.2562e-01, -9.3918e-02, -8.0375e-01],\n",
      "         [-2.9329e-01,  2.4741e-01,  3.8114e-01,  6.6685e-01,  8.2800e-01,\n",
      "           6.0294e-01, -9.1257e-01,  5.2368e-01,  1.4178e-01, -3.0512e-01,\n",
      "           1.4389e-01, -6.4990e-01, -1.1039e+00,  2.5910e-01,  5.1173e-01,\n",
      "          -6.9929e-01, -4.0610e-02, -8.7886e-01, -1.2485e+00,  1.9964e-01,\n",
      "          -2.5412e-01, -5.8236e-01, -3.1967e-01,  4.1768e-02,  8.8083e-02,\n",
      "          -1.3633e+00,  2.6619e-01, -6.6122e-01, -5.3167e-02, -9.9260e-02,\n",
      "           3.3406e+00,  2.4938e-01,  1.1115e-01,  6.6586e-01,  4.3210e-01,\n",
      "          -3.0615e-01,  4.4014e-01,  8.0759e-01,  1.7952e-02, -5.1661e-01,\n",
      "          -2.5567e-01, -2.6593e-01, -1.6342e-01, -5.3087e-01, -6.2928e-01,\n",
      "           2.9726e-01,  2.8643e-01, -3.6534e-01,  2.6795e-01, -1.7126e-01],\n",
      "         [ 1.1626e-01,  5.3897e-01, -3.9514e-01, -2.6027e-01,  5.7706e-01,\n",
      "          -7.9198e-01, -8.8374e-01,  3.0119e-01,  8.2896e-02, -3.3443e-01,\n",
      "          -6.4467e-01, -7.5366e-01, -3.0356e-01,  7.8840e-02,  1.2252e+00,\n",
      "          -3.8627e-02, -4.7341e-01, -4.0556e-01, -1.1165e+00, -2.1352e-01,\n",
      "           4.9275e-01,  5.5574e-01,  3.8941e-01, -2.2514e-01,  3.7775e-01,\n",
      "          -1.4233e+00, -1.3409e-01,  1.0737e-01,  1.6528e-01,  3.5527e-01,\n",
      "           3.5733e+00,  7.6404e-01, -5.9226e-01,  5.1366e-01,  1.2055e-01,\n",
      "          -3.6967e-01,  4.3251e-01,  8.6429e-02,  3.4554e-02,  8.2458e-02,\n",
      "          -8.7920e-01,  2.6134e-01, -3.2132e-01, -1.2652e-01,  2.5573e-01,\n",
      "           3.2818e-01,  2.4073e-02, -3.9062e-01, -1.0885e-01,  8.4513e-02],\n",
      "         [ 6.8047e-01, -3.9263e-02,  3.0186e-01, -1.7792e-01,  4.2962e-01,\n",
      "           3.2246e-02, -4.1376e-01,  1.3228e-01, -2.9847e-01, -8.5253e-02,\n",
      "           1.7118e-01,  2.2419e-01, -1.0046e-01, -4.3653e-01,  3.3418e-01,\n",
      "           6.7846e-01,  5.7204e-02, -3.4448e-01, -4.2785e-01, -4.3275e-01,\n",
      "           5.5963e-01,  1.0032e-01,  1.8677e-01, -2.6854e-01,  3.7334e-02,\n",
      "          -2.0932e+00,  2.2171e-01, -3.9868e-01,  2.0912e-01, -5.5725e-01,\n",
      "           3.8826e+00,  4.7466e-01, -9.5658e-01, -3.7788e-01,  2.0869e-01,\n",
      "          -3.2752e-01,  1.2751e-01,  8.8359e-02,  1.6351e-01, -2.1634e-01,\n",
      "          -9.4375e-02,  1.8324e-02,  2.1048e-01, -3.0880e-02, -1.9722e-01,\n",
      "           8.2279e-02, -9.4340e-02, -7.3297e-02, -6.4699e-02, -2.6044e-01],\n",
      "         [ 2.9605e-01, -1.3841e-01,  4.3774e-02, -3.8744e-01,  1.2262e-01,\n",
      "          -6.5180e-01, -2.8240e-01,  9.0312e-02, -5.5186e-01,  3.2060e-01,\n",
      "           3.7422e-03,  9.3229e-01, -2.2034e-01, -2.1922e-01,  9.2170e-01,\n",
      "           7.5724e-01,  8.4892e-01, -4.2197e-03,  5.3626e-01, -1.2667e+00,\n",
      "          -6.1028e-01,  1.6700e-01,  8.2753e-01,  6.5765e-01,  4.8959e-01,\n",
      "          -1.9744e+00, -1.1490e+00, -2.1461e-01,  8.0539e-01, -1.4745e+00,\n",
      "           3.7490e+00,  1.0141e+00, -1.1293e+00, -5.2661e-01, -1.2029e-01,\n",
      "          -2.7931e-01,  6.5092e-02, -4.3639e-02,  6.0426e-01, -2.0892e-01,\n",
      "          -4.5739e-01,  1.0441e-02,  4.1458e-01,  6.8900e-01,  1.4468e-01,\n",
      "          -3.1973e-02, -4.8073e-02, -1.1279e-04,  1.3854e-01,  9.6954e-01],\n",
      "         [ 6.1183e-01, -2.2072e-01, -1.0898e-01, -5.2967e-02,  5.0804e-01,\n",
      "           3.4684e-01, -3.3558e-01, -1.9152e-01, -3.5865e-02,  1.0510e-01,\n",
      "           7.9350e-02,  2.4490e-01, -4.3730e-01, -3.3344e-01,  5.7479e-01,\n",
      "           6.9052e-01,  2.9713e-01,  9.0669e-02, -5.4992e-01, -4.6176e-01,\n",
      "           1.0113e-01, -2.0240e-02,  2.8479e-01,  4.3512e-02,  4.5735e-01,\n",
      "          -2.0466e+00, -5.8084e-01,  6.1797e-01,  6.5180e-01, -5.8263e-01,\n",
      "           4.0786e+00, -2.5420e-01, -1.4649e-01, -3.4321e-01, -2.5437e-01,\n",
      "          -4.4677e-01,  1.2657e-01,  2.8134e-01,  1.3331e-01, -3.6974e-01,\n",
      "           5.0059e-02, -1.0058e-01, -1.7907e-02,  1.1142e-01, -7.1798e-01,\n",
      "           4.9100e-01, -9.9974e-02, -4.3688e-02, -9.7922e-02,  1.6806e-01],\n",
      "         [ 1.5164e-01,  3.0177e-01, -1.6763e-01,  1.7684e-01,  3.1719e-01,\n",
      "           3.3973e-01, -4.3478e-01, -3.1086e-01, -4.4999e-01, -2.9486e-01,\n",
      "           1.6608e-01,  1.1963e-01, -4.1328e-01, -4.2353e-01,  5.9868e-01,\n",
      "           2.8825e-01, -1.1547e-01, -4.1848e-02, -6.7989e-01, -2.5063e-01,\n",
      "           1.8472e-01,  8.6876e-02,  4.6582e-01,  1.5035e-02,  4.3474e-02,\n",
      "          -1.4671e+00, -3.0384e-01, -2.3441e-02,  3.0589e-01, -2.1785e-01,\n",
      "           3.7460e+00,  4.2284e-03, -1.8436e-01, -4.6209e-01,  9.8329e-02,\n",
      "          -1.1907e-01,  2.3919e-01,  1.1610e-01,  4.1705e-01,  5.6763e-02,\n",
      "          -6.3681e-05,  6.8987e-02,  8.7939e-02, -1.0285e-01, -1.3931e-01,\n",
      "           2.2314e-01, -8.0803e-02, -3.5652e-01,  1.6413e-02,  1.0216e-01],\n",
      "         [-1.1604e-01,  1.1429e+00,  2.6043e-02, -8.4921e-03,  3.1898e-01,\n",
      "           6.5984e-01, -2.5055e-01, -9.8368e-01, -8.3334e-01, -2.1147e-01,\n",
      "          -3.7307e-01,  4.1228e-01,  2.9478e-02, -4.2162e-01,  2.6829e-01,\n",
      "          -3.8260e-01, -2.6704e-01, -1.7551e-01, -6.9986e-01,  8.8440e-02,\n",
      "          -5.7850e-02,  1.4381e-01,  4.3372e-01,  3.1841e-01, -2.8405e-01,\n",
      "          -9.6445e-01,  9.6190e-02, -5.3046e-01,  5.9122e-01, -4.2788e-01,\n",
      "           3.3692e+00,  6.7626e-02, -1.0391e-01, -4.7914e-02,  1.1318e-01,\n",
      "          -5.6322e-02,  1.4699e-01,  5.7051e-02,  1.0275e+00,  4.1663e-01,\n",
      "           6.9818e-01,  5.4682e-01,  9.1148e-01, -2.6655e-01, -3.5268e-01,\n",
      "           1.1042e+00,  7.4058e-02, -8.6765e-01,  7.4969e-02,  8.0395e-01],\n",
      "         [ 7.4870e-02,  7.2680e-01,  6.0202e-01,  6.7041e-01, -4.9310e-01,\n",
      "           9.3332e-01,  5.6347e-01, -6.0140e-01, -2.4315e-01, -6.5394e-01,\n",
      "          -1.0592e+00, -2.2451e-02, -1.8103e-01, -6.0974e-01, -9.2036e-01,\n",
      "          -6.1579e-01,  1.8427e-01, -2.0126e-01, -1.7767e-01, -7.3492e-01,\n",
      "          -1.0046e+00, -9.3514e-01,  8.1081e-01,  2.6421e-01, -8.1027e-01,\n",
      "          -1.1659e+00,  2.2443e-01, -1.1386e-01, -6.5991e-01, -2.2088e-01,\n",
      "           1.9264e+00, -1.8013e-01, -6.7806e-01,  9.7938e-02,  7.2360e-01,\n",
      "          -1.4630e+00,  6.7200e-01,  1.9596e-01,  6.4471e-01, -1.1050e-01,\n",
      "           6.1934e-01,  8.7038e-01, -3.6938e-01, -4.9484e-01, -5.4509e-02,\n",
      "           1.2095e+00,  1.4817e-01, -3.6510e-01, -3.4448e-01,  2.5774e+00]]])\n"
     ]
    }
   ],
   "source": [
    "tweet_input = tweet_emb.unsqueeze(0) #dodaje dodatkowy wymiar (bo taki będzie oczekiwany pozniej)\n",
    "\n",
    "print(tweet_input)"
   ]
  },
  {
   "cell_type": "code",
   "execution_count": 37,
   "metadata": {},
   "outputs": [
    {
     "name": "stdout",
     "output_type": "stream",
     "text": [
      "torch.Size([20])\n",
      "torch.Size([29])\n",
      "torch.Size([8])\n",
      "torch.Size([25])\n",
      "torch.Size([6])\n",
      "torch.Size([5])\n",
      "torch.Size([11])\n",
      "torch.Size([8])\n",
      "torch.Size([7])\n",
      "torch.Size([33])\n"
     ]
    }
   ],
   "source": [
    "#Zauważmy, że kolejne tweety z train zawierają rozne ilosci embeddingow --> to problem\n",
    "for i in range(10):\n",
    "    tweet, label = train[i]\n",
    "    print(tweet.shape)"
   ]
  },
  {
   "cell_type": "markdown",
   "metadata": {},
   "source": [
    "<h3> RNN"
   ]
  },
  {
   "cell_type": "code",
   "execution_count": 38,
   "metadata": {},
   "outputs": [],
   "source": [
    "rnn_layer = nn.RNN(input_size=50,    #wymiar cech wejscia (wymiar embeddinga)\n",
    "                   hidden_size=5,   #wymiar cech w stanie ukrytym\n",
    "                   batch_first=True) "
   ]
  },
  {
   "cell_type": "code",
   "execution_count": 39,
   "metadata": {},
   "outputs": [
    {
     "data": {
      "text/plain": [
       "[Parameter containing:\n",
       " tensor([[-1.9780e-01, -3.7430e-01, -1.2457e-01, -2.6392e-01, -1.6460e-02,\n",
       "          -5.7580e-02, -2.4900e-01,  2.6096e-01, -1.6259e-01,  2.2439e-01,\n",
       "          -3.4196e-01,  1.6028e-01, -1.3927e-01, -3.9046e-01, -4.0019e-01,\n",
       "          -4.3444e-01,  4.4608e-01, -3.1892e-01,  6.8150e-02, -1.8801e-01,\n",
       "           8.3608e-02, -6.9456e-02,  1.7953e-01, -2.7886e-01, -9.8469e-02,\n",
       "           3.9215e-01,  2.6074e-01, -1.3219e-01, -3.5480e-01, -2.4380e-01,\n",
       "           4.2606e-01, -3.1004e-01,  2.0901e-01, -3.2756e-01, -1.6422e-01,\n",
       "          -2.3101e-01,  4.5475e-02,  3.4477e-01, -3.9251e-01,  1.1577e-01,\n",
       "           1.0649e-01, -4.1822e-01,  2.6021e-01,  2.5132e-01,  2.1316e-01,\n",
       "          -2.9727e-01,  1.8127e-01,  5.9348e-02,  7.9824e-02,  3.8684e-02],\n",
       "         [-2.2817e-01, -4.3777e-01, -3.4202e-01,  3.9784e-01, -1.1588e-01,\n",
       "          -3.2972e-01,  2.5894e-01,  2.8677e-01,  3.2078e-01, -4.0974e-01,\n",
       "           2.6984e-01,  1.2771e-01,  1.2110e-02, -3.6522e-02, -7.4364e-02,\n",
       "           1.6575e-01, -2.8480e-01,  3.9706e-02,  1.0076e-01,  3.8545e-01,\n",
       "          -4.4644e-01, -4.0037e-01,  3.5751e-01, -3.4382e-01, -4.0065e-01,\n",
       "           3.1653e-01, -2.6023e-01, -2.8528e-01,  3.8478e-01,  1.6498e-01,\n",
       "           2.4392e-01, -3.2654e-01,  1.2300e-01,  3.2413e-04,  1.0475e-01,\n",
       "           6.1789e-02, -1.3724e-02,  1.0477e-01, -2.3027e-01, -3.2351e-01,\n",
       "           3.6690e-01,  2.5618e-01,  4.2520e-01, -1.6485e-01,  4.4188e-01,\n",
       "           3.7549e-01, -1.0046e-01, -4.0779e-02,  1.7414e-01,  3.7093e-01],\n",
       "         [-4.3260e-01,  3.0238e-01, -3.6317e-03,  2.7326e-01,  4.2083e-02,\n",
       "          -4.0359e-01,  2.3275e-01, -2.9899e-01, -2.5126e-01,  3.4607e-01,\n",
       "           2.2928e-01,  1.5663e-01, -2.6394e-01,  3.5275e-01,  3.5668e-01,\n",
       "          -4.3049e-01, -5.9347e-02, -3.0187e-01, -1.2108e-02,  1.1303e-01,\n",
       "           3.6035e-01,  8.7263e-03,  3.2194e-01, -1.9950e-01,  2.5303e-02,\n",
       "          -1.8948e-01,  3.5203e-01, -4.1463e-01, -3.1019e-01,  2.0697e-01,\n",
       "          -4.2999e-01,  4.0480e-01, -2.1484e-01,  2.8303e-01, -2.0692e-01,\n",
       "          -2.5240e-01,  3.7915e-01, -2.1789e-01, -2.9262e-02,  3.3275e-02,\n",
       "          -2.5415e-01, -3.7359e-01,  4.1065e-01,  3.5880e-01, -3.4213e-01,\n",
       "           7.9578e-02,  4.0732e-01,  1.1250e-01, -3.5573e-01, -3.5394e-01],\n",
       "         [ 4.6834e-02, -3.3979e-01, -2.1640e-02, -1.0885e-01,  1.4704e-01,\n",
       "           2.8952e-01,  2.3841e-01, -3.9380e-01, -1.8506e-01,  3.6449e-01,\n",
       "          -4.3437e-02, -4.1453e-01,  1.2629e-01,  2.1770e-01,  3.8373e-01,\n",
       "          -4.0031e-01,  3.3644e-02, -3.8925e-01,  2.9977e-01,  3.2927e-01,\n",
       "           3.8965e-01,  3.9188e-02, -1.0717e-01,  4.2477e-01, -2.3185e-01,\n",
       "          -3.5578e-01, -2.2716e-01,  2.2870e-01,  6.2780e-02, -1.7360e-01,\n",
       "          -9.3888e-02, -3.0298e-01, -1.6242e-01, -2.9986e-01, -2.8518e-01,\n",
       "           4.4101e-01, -1.6420e-01,  2.8924e-01, -9.2534e-02, -1.5518e-01,\n",
       "          -4.0703e-01,  1.6672e-01,  2.1440e-01,  4.0358e-01,  2.0525e-01,\n",
       "           3.2205e-01, -2.2216e-01, -3.4908e-01,  1.3517e-01, -3.4513e-01],\n",
       "         [ 6.5898e-03, -2.0095e-01, -3.9867e-01,  3.5041e-01,  3.1670e-01,\n",
       "          -1.3828e-01,  3.8888e-01, -2.6031e-01,  3.2245e-01,  3.7135e-01,\n",
       "          -5.1140e-02,  4.1929e-01, -4.4034e-01, -3.8048e-01, -1.2302e-01,\n",
       "          -3.5690e-01, -2.7474e-01, -3.6296e-01, -2.7284e-01,  3.9653e-02,\n",
       "          -3.2093e-01, -3.6332e-01,  2.1276e-02,  3.8361e-01,  4.0440e-01,\n",
       "           2.9590e-01,  3.8290e-01,  4.2205e-01, -4.2201e-02, -2.5906e-02,\n",
       "          -3.5722e-02,  3.3488e-01,  1.6665e-01, -4.1272e-01, -1.6218e-01,\n",
       "          -3.3765e-01,  2.1935e-01, -1.3744e-01, -1.2229e-01, -8.5959e-02,\n",
       "           2.0652e-01, -1.2352e-01,  1.4155e-01,  1.0636e-01, -3.0852e-01,\n",
       "          -8.8395e-02,  2.3482e-01,  1.9037e-01, -2.7985e-01,  2.9517e-01]],\n",
       "        requires_grad=True),\n",
       " Parameter containing:\n",
       " tensor([[-0.1803,  0.4103, -0.2802,  0.2305, -0.0562],\n",
       "         [ 0.4240, -0.0157, -0.2727, -0.2749, -0.0949],\n",
       "         [ 0.0189, -0.2020,  0.2100, -0.0388, -0.3161],\n",
       "         [-0.3746,  0.0098, -0.1517, -0.3328,  0.1749],\n",
       "         [-0.3609, -0.3807,  0.0856, -0.1556,  0.1396]], requires_grad=True),\n",
       " Parameter containing:\n",
       " tensor([ 0.4343, -0.0771, -0.3336,  0.2507,  0.1170], requires_grad=True),\n",
       " Parameter containing:\n",
       " tensor([-0.2579, -0.3311,  0.1158,  0.4442,  0.0616], requires_grad=True)]"
      ]
     },
     "execution_count": 39,
     "metadata": {},
     "output_type": "execute_result"
    }
   ],
   "source": [
    "list(rnn_layer.parameters()) #losowe parametry na początek"
   ]
  },
  {
   "cell_type": "code",
   "execution_count": 40,
   "metadata": {},
   "outputs": [
    {
     "name": "stdout",
     "output_type": "stream",
     "text": [
      "tensor([[[0., 0., 0., 0., 0.]]])\n"
     ]
    }
   ],
   "source": [
    "h0 = torch.zeros(1, 1, 5)     #początkowy stan ukryty\n",
    "print(h0)"
   ]
  },
  {
   "cell_type": "code",
   "execution_count": 41,
   "metadata": {},
   "outputs": [],
   "source": [
    "out, last_hidden = rnn_layer(tweet_input, h0) #przejscie po modelu na podstawie danych z pierwszego tweeta i h0"
   ]
  },
  {
   "cell_type": "code",
   "execution_count": 42,
   "metadata": {},
   "outputs": [
    {
     "name": "stdout",
     "output_type": "stream",
     "text": [
      "tensor([[[-0.6749,  0.5155, -0.1366,  0.6992,  0.3812],\n",
      "         [-0.6186, -0.4248, -0.7309,  0.9748, -0.9907],\n",
      "         [ 0.7518, -0.3040, -0.9510,  0.7014, -0.5050],\n",
      "         [ 0.7188, -0.4968, -0.9779,  0.7941, -0.6272],\n",
      "         [-0.4254, -0.4404, -0.9338,  0.5421, -0.7845],\n",
      "         [ 0.2815, -0.7929, -0.9895,  0.9278, -0.7487],\n",
      "         [ 0.6580,  0.0107, -0.8969,  0.4199, -0.3643],\n",
      "         [ 0.0441, -0.6824, -0.9790,  0.5948, -0.5952],\n",
      "         [ 0.8039, -0.8730, -0.8384,  0.3765, -0.1990],\n",
      "         [ 0.9746,  0.4345, -0.9054, -0.6581, -0.2703],\n",
      "         [ 0.9275,  0.2424, -0.6019, -0.8565,  0.3677],\n",
      "         [ 0.3888,  0.0540, -0.9756,  0.9669, -0.7291],\n",
      "         [ 0.9032, -0.0768, -0.0732,  0.0014, -0.2195],\n",
      "         [-0.2553, -0.6365, -0.0561,  0.2538, -0.8604],\n",
      "         [ 0.7132, -0.8273, -0.6436,  0.5616, -0.6155],\n",
      "         [ 0.7045, -0.2744, -0.8903,  0.4737, -0.3658],\n",
      "         [ 0.6887, -0.1745, -0.9887,  0.7090,  0.0205],\n",
      "         [ 0.7042,  0.1592, -0.9476,  0.4686, -0.5530],\n",
      "         [ 0.4997,  0.5901, -0.7819,  0.5235, -0.4571],\n",
      "         [ 0.8379,  0.9175, -0.9767, -0.9374,  0.7083]]],\n",
      "       grad_fn=<TransposeBackward1>)\n"
     ]
    }
   ],
   "source": [
    "print(out)"
   ]
  },
  {
   "cell_type": "code",
   "execution_count": 43,
   "metadata": {},
   "outputs": [
    {
     "data": {
      "text/plain": [
       "tensor([[ 0.8379,  0.9175, -0.9767, -0.9374,  0.7083]],\n",
       "       grad_fn=<SliceBackward0>)"
      ]
     },
     "execution_count": 43,
     "metadata": {},
     "output_type": "execute_result"
    }
   ],
   "source": [
    "out[:,-1,:] #ostatni output"
   ]
  },
  {
   "cell_type": "code",
   "execution_count": 47,
   "metadata": {},
   "outputs": [
    {
     "data": {
      "text/plain": [
       "tensor([[[ 0.8379,  0.9175, -0.9767, -0.9374,  0.7083]]],\n",
       "       grad_fn=<StackBackward0>)"
      ]
     },
     "execution_count": 47,
     "metadata": {},
     "output_type": "execute_result"
    }
   ],
   "source": [
    "last_hidden #tak jak wyzej"
   ]
  },
  {
   "cell_type": "code",
   "execution_count": 45,
   "metadata": {},
   "outputs": [],
   "source": [
    "out2, last_hidden2 = rnn_layer(tweet_input) #jak nie podamy drugiego argumentu (h0) to domyślnie wezmie tensor zerowy"
   ]
  },
  {
   "cell_type": "code",
   "execution_count": 46,
   "metadata": {},
   "outputs": [
    {
     "data": {
      "text/plain": [
       "tensor([[[ 0.8379,  0.9175, -0.9767, -0.9374,  0.7083]]],\n",
       "       grad_fn=<StackBackward0>)"
      ]
     },
     "execution_count": 46,
     "metadata": {},
     "output_type": "execute_result"
    }
   ],
   "source": [
    "last_hidden2"
   ]
  },
  {
   "cell_type": "code",
   "execution_count": 48,
   "metadata": {},
   "outputs": [],
   "source": [
    "#Model RNN do wiadomosci tweet\n",
    "\n",
    "class T_RNN(nn.Module):\n",
    "    def __init__(self, input_size, hidden_size, num_classes): #parametry: input_size = wymiar Embeddingu, hidden_size - zadajemy, num_classes = ile kategorii\n",
    "        super().__init__()\n",
    "        self.emb = nn.Embedding.from_pretrained(glove.vectors) #embeddingi\n",
    "        self.hidden_size = hidden_size\n",
    "        self.rnn = nn.RNN(input_size, hidden_size, batch_first=True) #RNN\n",
    "        self.fc = nn.Linear(hidden_size, num_classes)  #przeksztalcenie liniowe\n",
    "    \n",
    "    def forward(self, x):\n",
    "        x = self.emb(x) #wyznacza embedding\n",
    "        h0 = torch.zeros(1, x.size(0), self.hidden_size) #początkowy stan ukryty\n",
    "        out, _ = self.rnn(x, h0)  #RNN\n",
    "        out = self.fc(out[:, -1, :]) #przez funkcje liniową przekształcamy ostatni output\n",
    "        return out"
   ]
  },
  {
   "cell_type": "code",
   "execution_count": 49,
   "metadata": {},
   "outputs": [],
   "source": [
    "model = T_RNN(50, 6, 2) #buduje model z konkretnymi parametrami"
   ]
  },
  {
   "cell_type": "markdown",
   "metadata": {},
   "source": [
    "<h4> Problem z batchingiem\n"
   ]
  },
  {
   "cell_type": "code",
   "execution_count": 50,
   "metadata": {},
   "outputs": [],
   "source": [
    "from torch.nn.utils.rnn import pad_sequence\n",
    "\n",
    "#przykladowe rozwiązanie jak zrobic zeby tensory dla kolejnych tweetow mialy tę samą dlugosc\n",
    "tweet_padded = pad_sequence([tweet for tweet, label in train[:10]], batch_first=True) #dodawanie zer do pierwszych 10 tweetow"
   ]
  },
  {
   "cell_type": "code",
   "execution_count": 51,
   "metadata": {},
   "outputs": [
    {
     "data": {
      "text/plain": [
       "torch.Size([10, 33])"
      ]
     },
     "execution_count": 51,
     "metadata": {},
     "output_type": "execute_result"
    }
   ],
   "source": [
    "tweet_padded.shape"
   ]
  },
  {
   "cell_type": "code",
   "execution_count": 52,
   "metadata": {
    "scrolled": true
   },
   "outputs": [
    {
     "name": "stdout",
     "output_type": "stream",
     "text": [
      "tensor([[  45,   11,    1,   12,    9,    7,    2,   81,  405,  684, 9912,    3,\n",
      "          245,  122,    4,   88,   20,    2,   89, 1968,    0,    0,    0,    0,\n",
      "            0,    0,    0,    0,    0,    0,    0,    0,    0],\n",
      "        [ 192,    2,   41, 4284,   83,    0,   31, 1096,    4,   88,   17,   20,\n",
      "          188,   83,  100,    1,   20,    9,  500,    1,   41,  169,   20,    1,\n",
      "          837, 4375,  805,  805,  805,    0,    0,    0,    0],\n",
      "        [8738,   34,   41,  346,   41, 1346,    7, 1019,    0,    0,    0,    0,\n",
      "            0,    0,    0,    0,    0,    0,    0,    0,    0,    0,    0,    0,\n",
      "            0,    0,    0,    0,    0,    0,    0,    0,    0],\n",
      "        [  41,  149,   33,   70, 1465,    0, 7035, 1161, 8457,   89, 3630, 4242,\n",
      "         4798,  116,  285, 7033,   22,    0,  156,    2,  155,   32, 1673, 1145,\n",
      "            2,    0,    0,    0,    0,    0,    0,    0,    0],\n",
      "        [ 414,   30,  881,    7, 9085,  378,    0,    0,    0,    0,    0,    0,\n",
      "            0,    0,    0,    0,    0,    0,    0,    0,    0,    0,    0,    0,\n",
      "            0,    0,    0,    0,    0,    0,    0,    0,    0],\n",
      "        [ 285,  317,   41,   14,  992,    0,    0,    0,    0,    0,    0,    0,\n",
      "            0,    0,    0,    0,    0,    0,    0,    0,    0,    0,    0,    0,\n",
      "            0,    0,    0,    0,    0,    0,    0,    0,    0],\n",
      "        [  45,  190,   20, 1673,    1,    5,   30,  219,    4,   81,    2,    0,\n",
      "            0,    0,    0,    0,    0,    0,    0,    0,    0,    0,    0,    0,\n",
      "            0,    0,    0,    0,    0,    0,    0,    0,    0],\n",
      "        [  14,    6,  835,   17,    5,   14,  103,  411,    0,    0,    0,    0,\n",
      "            0,    0,    0,    0,    0,    0,    0,    0,    0,    0,    0,    0,\n",
      "            0,    0,    0,    0,    0,    0,    0,    0,    0],\n",
      "        [1075,  170, 4522,    3, 5097, 2014,  584,    0,    0,    0,    0,    0,\n",
      "            0,    0,    0,    0,    0,    0,    0,    0,    0,    0,    0,    0,\n",
      "            0,    0,    0,    0,    0,    0,    0,    0,    0],\n",
      "        [  61,    4,    0, 8597, 4676, 2855,    5,    0, 1856,   94,   36,  596,\n",
      "          192, 5127,  805,  100,   41,   33,    4,  242,  137,    5,  253,   83,\n",
      "           18,   86,  596,  101,    6,    7, 1334,  249,    2]])\n"
     ]
    }
   ],
   "source": [
    "print(tweet_padded)"
   ]
  },
  {
   "cell_type": "code",
   "execution_count": 53,
   "metadata": {},
   "outputs": [
    {
     "data": {
      "text/plain": [
       "torch.Size([10, 2])"
      ]
     },
     "execution_count": 53,
     "metadata": {},
     "output_type": "execute_result"
    }
   ],
   "source": [
    "#teraz mozna je wrzucic do modelu\n",
    "out = model(tweet_padded)\n",
    "out.shape"
   ]
  },
  {
   "cell_type": "code",
   "execution_count": 54,
   "metadata": {},
   "outputs": [
    {
     "data": {
      "text/plain": [
       "tensor([[-0.1697,  0.3681],\n",
       "        [-0.1745,  0.3668],\n",
       "        [-0.1697,  0.3681],\n",
       "        [-0.1697,  0.3681],\n",
       "        [-0.1697,  0.3681],\n",
       "        [-0.1697,  0.3681],\n",
       "        [-0.1697,  0.3681],\n",
       "        [-0.1697,  0.3681],\n",
       "        [-0.1697,  0.3681],\n",
       "        [-0.1075,  0.1989]], grad_fn=<AddmmBackward0>)"
      ]
     },
     "execution_count": 54,
     "metadata": {},
     "output_type": "execute_result"
    }
   ],
   "source": [
    "out"
   ]
  },
  {
   "cell_type": "code",
   "execution_count": 55,
   "metadata": {},
   "outputs": [],
   "source": [
    "#Nieco lepsze rozwiązanie\n",
    "\n",
    "import random\n",
    "\n",
    "class TBatcher:\n",
    "    def __init__(self, tweets, batch_size=32, drop_last=False):\n",
    "        self.tweets_by_length = {} #slownik, przechowuje klucze - dlugosci i wartosci - liste tweetow o zadanej dlugosci\n",
    "        for words, label in tweets:\n",
    "            wlen = words.shape[0] #liczy dlugosc tweeta (ile ma embeddingow)\n",
    "            \n",
    "            if wlen not in self.tweets_by_length: #jak jeszcze nie pojawil sie tweet o takiej dlugosci\n",
    "                self.tweets_by_length[wlen] = []  #to stworz go i przypisz mu pustą liste\n",
    "                \n",
    "            self.tweets_by_length[wlen].append((words, label),) #dodaje do listy krotke slowa, label\n",
    "         \n",
    "        #tworze DataLoader dla kazdego zbioru tweetow o tej samej dlugosci\n",
    "        self.loaders = {wlen : torch.utils.data.DataLoader(tweets, batch_size=batch_size, shuffle=True, drop_last=drop_last) for wlen, tweets in self.tweets_by_length.items()}\n",
    "    \n",
    "    #Iterator, to nie takie wazne...\n",
    "    def __iter__(self): \n",
    "        iters = [iter(loader) for loader in self.loaders.values()] #tworze iterator dla kazdej dlugosci tweetow\n",
    "        while iters:\n",
    "            im = random.choice(iters) #generuje losowy iterator\n",
    "            try:\n",
    "                yield next(im)      #yield uzywamy kiedy iterujemy po sekwencji ale nie chcemy przechowywac calej sekwencji w pamieci (cos jak return)\n",
    "            except StopIteration:\n",
    "                iters.remove(im)"
   ]
  },
  {
   "cell_type": "code",
   "execution_count": 56,
   "metadata": {},
   "outputs": [
    {
     "name": "stdout",
     "output_type": "stream",
     "text": [
      "torch.Size([32, 33]) torch.Size([32])\n",
      "torch.Size([32, 26]) torch.Size([32])\n",
      "torch.Size([32, 34]) torch.Size([32])\n",
      "torch.Size([32, 3]) torch.Size([32])\n",
      "torch.Size([32, 18]) torch.Size([32])\n",
      "torch.Size([32, 22]) torch.Size([32])\n"
     ]
    }
   ],
   "source": [
    "train_TB = TBatcher(train, drop_last=True) #wywoluje te funkcje na train\n",
    "\n",
    "\n",
    "for i, (tweets, labels) in enumerate(train_TB):\n",
    "    if i > 5: \n",
    "        break\n",
    "    print(tweets.shape, labels.shape) #32 tweety o okreslonej liczbie embeddingow"
   ]
  },
  {
   "cell_type": "code",
   "execution_count": 57,
   "metadata": {},
   "outputs": [],
   "source": [
    "#Funkcja wyznaczająca dokładność predykcji:\n",
    "\n",
    "def get_accuracy(model, data_loader):\n",
    "    correct, total = 0, 0  #ile ok, ile wszystkich\n",
    "    for tweets, labels in data_loader: #przechodzi dane\n",
    "        output = model(tweets) #co mowi model\n",
    "        pred = output.max(1, keepdim=True)[1]  #ktora kategoria\n",
    "        correct += pred.eq(labels.view_as(pred)).sum().item()\n",
    "        total += labels.shape[0]\n",
    "    return correct / total"
   ]
  },
  {
   "cell_type": "code",
   "execution_count": 58,
   "metadata": {},
   "outputs": [
    {
     "data": {
      "text/plain": [
       "0.4888584474885845"
      ]
     },
     "execution_count": 58,
     "metadata": {},
     "output_type": "execute_result"
    }
   ],
   "source": [
    "test_loader = TBatcher(test, batch_size=64, drop_last=False)\n",
    "get_accuracy(model, test_loader)"
   ]
  },
  {
   "cell_type": "code",
   "execution_count": 59,
   "metadata": {},
   "outputs": [],
   "source": [
    "#funkcja do treningu\n",
    "\n",
    "def RNN_train(model, train, valid, num_epochs=5, learning_rate=1e-5):\n",
    "    criterion = nn.CrossEntropyLoss() #funkcja kosztu\n",
    "    optimizer = torch.optim.Adam(model.parameters(), lr=learning_rate) #optymalizator modelu\n",
    "    losses, train_acc, valid_acc, epochs = [], [], [], []  #cztery listy na wartosci funkcji kosztu, dokladnosc na zbiorze testowym i walidacyjnym, numer epoki\n",
    "    \n",
    "    for epoch in range(num_epochs): #przechodz kolejne epoki (iteracje)\n",
    "        for tweets, labels in train: #przechodzi dane ze zbioru testowego\n",
    "            optimizer.zero_grad()   #zerowanie gradientu\n",
    "            pred = model(tweets)    #co mowi model?\n",
    "            loss = criterion(pred, labels)   #wartosc funkcji kosztu - porownanie tego co mowi model, a tego jak jest\n",
    "            loss.backward()                  #pochodna po funkcji kosztu\n",
    "            optimizer.step()                 #aktualizacja parametrow\n",
    "        losses.append(float(loss))           #zapisz aktualną wartosc funkcji kosztu\n",
    "        epochs.append(epoch)                 #zapisz aktualny numer epoki\n",
    "        train_acc.append(get_accuracy(model, train_loader))   #dokladnosc na zbiorze treningowym\n",
    "        valid_acc.append(get_accuracy(model, valid_loader))   #dokladnosc na zbiorze walidacyjnym\n",
    "        print(f'Epoch number: {epoch+1} | Loss value: {loss} | Train accuracy: {round(train_acc[-1],3)} | Valid accuracy: {round(valid_acc[-1],3)}')\n",
    " \n",
    "    #Rysowanie wykresow\n",
    "    plt.title(\"Training Curve\")\n",
    "    plt.plot(losses, label=\"Train dataset\")\n",
    "    plt.xlabel(\"Epoch number\")\n",
    "    plt.ylabel(\"Loss value\")\n",
    "    plt.show()\n",
    "\n",
    "    plt.title(\"Training Curve\")\n",
    "    plt.plot(epochs, train_acc, label=\"Train dataset\")\n",
    "    plt.plot(epochs, valid_acc, label=\"Validation dataset\")\n",
    "    plt.xlabel(\"Epoch number\")\n",
    "    plt.ylabel(\"Accuracy\")\n",
    "    plt.legend(loc='best')\n",
    "    plt.show()"
   ]
  },
  {
   "cell_type": "code",
   "execution_count": 60,
   "metadata": {},
   "outputs": [],
   "source": [
    "train_loader = TBatcher(train, batch_size=64, drop_last=True)  #dane treningowe z batchem\n",
    "valid_loader = TBatcher(valid, batch_size=64, drop_last=False)  #dane walidacyjne z batchem"
   ]
  },
  {
   "cell_type": "code",
   "execution_count": 81,
   "metadata": {},
   "outputs": [
    {
     "name": "stdout",
     "output_type": "stream",
     "text": [
      "Epoch number: 1 | Loss value: 0.6713737845420837 | Train accuracy: 0.661 | Valid accuracy: 0.659\n",
      "Epoch number: 2 | Loss value: 0.6275432109832764 | Train accuracy: 0.661 | Valid accuracy: 0.658\n",
      "Epoch number: 3 | Loss value: 0.5675811767578125 | Train accuracy: 0.678 | Valid accuracy: 0.676\n",
      "Epoch number: 4 | Loss value: 0.6762139797210693 | Train accuracy: 0.679 | Valid accuracy: 0.678\n",
      "Epoch number: 5 | Loss value: 0.5686832666397095 | Train accuracy: 0.678 | Valid accuracy: 0.674\n",
      "Epoch number: 6 | Loss value: 0.6037498116493225 | Train accuracy: 0.683 | Valid accuracy: 0.676\n",
      "Epoch number: 7 | Loss value: 0.5565600991249084 | Train accuracy: 0.683 | Valid accuracy: 0.679\n",
      "Epoch number: 8 | Loss value: 0.5559365749359131 | Train accuracy: 0.686 | Valid accuracy: 0.682\n",
      "Epoch number: 9 | Loss value: 0.5778330564498901 | Train accuracy: 0.687 | Valid accuracy: 0.684\n",
      "Epoch number: 10 | Loss value: 0.6225438714027405 | Train accuracy: 0.688 | Valid accuracy: 0.685\n"
     ]
    },
    {
     "data": {
      "image/png": "[encoded data removed]",
      "text/plain": [
       "<Figure size 432x288 with 1 Axes>"
      ]
     },
     "metadata": {
      "needs_background": "light"
     },
     "output_type": "display_data"
    },
    {
     "data": {
      "image/png": "[encoded data removed]",
      "text/plain": [
       "<Figure size 432x288 with 1 Axes>"
      ]
     },
     "metadata": {
      "needs_background": "light"
     },
     "output_type": "display_data"
    }
   ],
   "source": [
    "model = T_RNN(50, 50, 2) #postac modelu\n",
    "RNN_train(model, train_loader, valid_loader, num_epochs=10, learning_rate = 2e-4)  #trenowanie modelu"
   ]
  },
  {
   "cell_type": "code",
   "execution_count": 83,
   "metadata": {},
   "outputs": [
    {
     "name": "stdout",
     "output_type": "stream",
     "text": [
      "0.68337899543379\n"
     ]
    }
   ],
   "source": [
    "print(get_accuracy(model, test_loader)) #dokladnosc na zbiorze testowym"
   ]
  },
  {
   "cell_type": "markdown",
   "metadata": {},
   "source": [
    "<h4> Zadanie3: zadanie z pdf."
   ]
  },
  {
   "cell_type": "markdown",
   "metadata": {},
   "source": [
    "<h3> LSTM"
   ]
  },
  {
   "cell_type": "code",
   "execution_count": 64,
   "metadata": {},
   "outputs": [],
   "source": [
    "#podobna skladnia jak dla RNN\n",
    "\n",
    "lstm_layer = nn.LSTM(input_size=50,   #wymiar wejscia\n",
    "                    hidden_size=5,   #wymiar cech w stanie ukrytym\n",
    "                    batch_first=True) "
   ]
  },
  {
   "cell_type": "code",
   "execution_count": 66,
   "metadata": {},
   "outputs": [
    {
     "data": {
      "text/plain": [
       "torch.Size([1, 20, 5])"
      ]
     },
     "execution_count": 66,
     "metadata": {},
     "output_type": "execute_result"
    }
   ],
   "source": [
    "h0 = torch.zeros(1, 1, 5)     #początkowy stan ukryty\n",
    "c0 = torch.zeros(1, 1, 5)     #początkowy cell state\n",
    "out, last_hidden = lstm_layer(tweet_input, (h0, c0)) #drugi argument sklada sie z h0 i c0 [RNN mialo tylko h0]\n",
    "out.shape"
   ]
  },
  {
   "cell_type": "code",
   "execution_count": 67,
   "metadata": {},
   "outputs": [],
   "source": [
    "class T_LSTM(nn.Module):\n",
    "    def __init__(self, input_size, hidden_size, num_classes):\n",
    "        super().__init__()\n",
    "        self.emb = nn.Embedding.from_pretrained(glove.vectors) #embeddingi\n",
    "        self.hidden_size = hidden_size\n",
    "        self.lstm = nn.LSTM(input_size, hidden_size, batch_first=True) #LSTM\n",
    "        self.fc = nn.Linear(hidden_size, num_classes)  #przeksztalcenie liniowe\n",
    "    \n",
    "    def forward(self, x):\n",
    "        x = self.emb(x)\n",
    "        h0 = torch.zeros(1, x.size(0), self.hidden_size) #początkowy  h0\n",
    "        c0 = torch.zeros(1, x.size(0), self.hidden_size) #początkowy c0\n",
    "        out, _ = self.lstm(x, (h0, c0))  #LSTM\n",
    "        out = self.fc(out[:, -1, :]) #przeksztlcam jeszcze liniowo ostatni output\n",
    "        return out"
   ]
  },
  {
   "cell_type": "code",
   "execution_count": 69,
   "metadata": {},
   "outputs": [
    {
     "name": "stdout",
     "output_type": "stream",
     "text": [
      "Epoch number: 1 | Loss value: 0.5998748540878296 | Train accuracy: 0.658 | Valid accuracy: 0.651\n",
      "Epoch number: 2 | Loss value: 0.6958214044570923 | Train accuracy: 0.677 | Valid accuracy: 0.67\n",
      "Epoch number: 3 | Loss value: 0.5215671062469482 | Train accuracy: 0.686 | Valid accuracy: 0.68\n",
      "Epoch number: 4 | Loss value: 0.60875004529953 | Train accuracy: 0.694 | Valid accuracy: 0.688\n",
      "Epoch number: 5 | Loss value: 0.5585095882415771 | Train accuracy: 0.697 | Valid accuracy: 0.688\n",
      "Epoch number: 6 | Loss value: 0.543899655342102 | Train accuracy: 0.705 | Valid accuracy: 0.695\n",
      "Epoch number: 7 | Loss value: 0.5191479921340942 | Train accuracy: 0.704 | Valid accuracy: 0.698\n",
      "Epoch number: 8 | Loss value: 0.5657405257225037 | Train accuracy: 0.709 | Valid accuracy: 0.698\n",
      "Epoch number: 9 | Loss value: 0.5346114635467529 | Train accuracy: 0.712 | Valid accuracy: 0.709\n",
      "Epoch number: 10 | Loss value: 0.5416251420974731 | Train accuracy: 0.711 | Valid accuracy: 0.709\n"
     ]
    },
    {
     "data": {
      "image/png": "[encoded data removed]",
      "text/plain": [
       "<Figure size 432x288 with 1 Axes>"
      ]
     },
     "metadata": {
      "needs_background": "light"
     },
     "output_type": "display_data"
    },
    {
     "data": {
      "image/png": "[encoded data removed]",
      "text/plain": [
       "<Figure size 432x288 with 1 Axes>"
      ]
     },
     "metadata": {
      "needs_background": "light"
     },
     "output_type": "display_data"
    }
   ],
   "source": [
    "model_lstm = T_LSTM(50, 50, 2) #model\n",
    "RNN_train(model_lstm, train_loader, valid_loader, num_epochs=10, learning_rate=2e-4) #trenuje"
   ]
  },
  {
   "cell_type": "code",
   "execution_count": 70,
   "metadata": {},
   "outputs": [
    {
     "name": "stdout",
     "output_type": "stream",
     "text": [
      "0.699634703196347\n"
     ]
    }
   ],
   "source": [
    "print(get_accuracy(model_lstm, test_loader)) #dokladnosc na zbiorze testowym"
   ]
  },
  {
   "cell_type": "markdown",
   "metadata": {},
   "source": [
    "<h4> GRU"
   ]
  },
  {
   "cell_type": "code",
   "execution_count": 71,
   "metadata": {},
   "outputs": [],
   "source": [
    "gru_layer = nn.GRU(input_size=50,   #wymiar wejscia\n",
    "                   hidden_size=5,   #wymiar cech w stanie ukrytym\n",
    "                   batch_first=True) "
   ]
  },
  {
   "cell_type": "code",
   "execution_count": 72,
   "metadata": {},
   "outputs": [
    {
     "data": {
      "text/plain": [
       "torch.Size([1, 20, 5])"
      ]
     },
     "execution_count": 72,
     "metadata": {},
     "output_type": "execute_result"
    }
   ],
   "source": [
    "h0 = torch.zeros(1, 1, 5)     #początkowy stan ukryty\n",
    "out, last_hidden = gru_layer(tweet_input, h0)  #tak jak w RNN, w LSTM bylo jeszcze c0\n",
    "out.shape"
   ]
  },
  {
   "cell_type": "code",
   "execution_count": 73,
   "metadata": {},
   "outputs": [],
   "source": [
    "class T_GRU(nn.Module):\n",
    "    def __init__(self, input_size, hidden_size, num_classes):\n",
    "        super().__init__()\n",
    "        self.emb = nn.Embedding.from_pretrained(glove.vectors) #embeddingi\n",
    "        self.hidden_size = hidden_size \n",
    "        self.gru = nn.GRU(input_size, hidden_size, batch_first=True)  #GRU\n",
    "        self.fc = nn.Linear(hidden_size, num_classes)   #przeksztalcenie liniowe\n",
    "    \n",
    "    def forward(self, x):\n",
    "        x = self.emb(x)  #embeddingi\n",
    "        h0 = torch.zeros(1, x.size(0), self.hidden_size) #początkowy stan ukryty\n",
    "        out, _ = self.gru(x, h0)   #GRU\n",
    "        out = self.fc(out[:, -1, :]) #ostatni output przeksztalcamy liniowo jeszcze\n",
    "        return out"
   ]
  },
  {
   "cell_type": "code",
   "execution_count": 74,
   "metadata": {},
   "outputs": [
    {
     "name": "stdout",
     "output_type": "stream",
     "text": [
      "Epoch number: 1 | Loss value: 0.627144455909729 | Train accuracy: 0.658 | Valid accuracy: 0.652\n",
      "Epoch number: 2 | Loss value: 0.5452039241790771 | Train accuracy: 0.685 | Valid accuracy: 0.682\n",
      "Epoch number: 3 | Loss value: 0.5791828632354736 | Train accuracy: 0.695 | Valid accuracy: 0.695\n",
      "Epoch number: 4 | Loss value: 0.5830959677696228 | Train accuracy: 0.698 | Valid accuracy: 0.693\n",
      "Epoch number: 5 | Loss value: 0.5432520508766174 | Train accuracy: 0.704 | Valid accuracy: 0.701\n",
      "Epoch number: 6 | Loss value: 0.543517529964447 | Train accuracy: 0.711 | Valid accuracy: 0.706\n",
      "Epoch number: 7 | Loss value: 0.5632123351097107 | Train accuracy: 0.712 | Valid accuracy: 0.707\n",
      "Epoch number: 8 | Loss value: 0.5059976577758789 | Train accuracy: 0.717 | Valid accuracy: 0.712\n",
      "Epoch number: 9 | Loss value: 0.56019127368927 | Train accuracy: 0.719 | Valid accuracy: 0.712\n",
      "Epoch number: 10 | Loss value: 0.5799170732498169 | Train accuracy: 0.716 | Valid accuracy: 0.712\n"
     ]
    },
    {
     "data": {
      "image/png": "[encoded data removed]",
      "text/plain": [
       "<Figure size 432x288 with 1 Axes>"
      ]
     },
     "metadata": {
      "needs_background": "light"
     },
     "output_type": "display_data"
    },
    {
     "data": {
      "image/png": "[encoded data removed]",
      "text/plain": [
       "<Figure size 432x288 with 1 Axes>"
      ]
     },
     "metadata": {
      "needs_background": "light"
     },
     "output_type": "display_data"
    }
   ],
   "source": [
    "model_gru = T_GRU(50, 50, 2) #buduje model\n",
    "RNN_train(model_gru, train_loader, valid_loader, num_epochs=10, learning_rate=2e-4) #trenuje"
   ]
  },
  {
   "cell_type": "code",
   "execution_count": 82,
   "metadata": {},
   "outputs": [
    {
     "name": "stdout",
     "output_type": "stream",
     "text": [
      "0.7045662100456621\n"
     ]
    }
   ],
   "source": [
    "print(get_accuracy(model_gru, test_loader)) #dokladnosc na zbiorze testowym"
   ]
  },
  {
   "cell_type": "markdown",
   "metadata": {},
   "source": [
    "<h3> Wstawka"
   ]
  },
  {
   "cell_type": "markdown",
   "metadata": {},
   "source": [
    "<h4> Iteratory"
   ]
  },
  {
   "cell_type": "code",
   "execution_count": 75,
   "metadata": {},
   "outputs": [],
   "source": [
    "lx = [4, 7, 0, 3]\n",
    "lx_iter = iter(lx)"
   ]
  },
  {
   "cell_type": "code",
   "execution_count": 76,
   "metadata": {},
   "outputs": [
    {
     "name": "stdout",
     "output_type": "stream",
     "text": [
      "4\n"
     ]
    }
   ],
   "source": [
    "print(next(lx_iter))"
   ]
  },
  {
   "cell_type": "code",
   "execution_count": 77,
   "metadata": {},
   "outputs": [
    {
     "name": "stdout",
     "output_type": "stream",
     "text": [
      "7\n"
     ]
    }
   ],
   "source": [
    "print(next(lx_iter))"
   ]
  },
  {
   "cell_type": "code",
   "execution_count": 78,
   "metadata": {},
   "outputs": [
    {
     "name": "stdout",
     "output_type": "stream",
     "text": [
      "0\n"
     ]
    }
   ],
   "source": [
    "print(next(lx_iter))"
   ]
  },
  {
   "cell_type": "code",
   "execution_count": 79,
   "metadata": {},
   "outputs": [
    {
     "name": "stdout",
     "output_type": "stream",
     "text": [
      "3\n"
     ]
    }
   ],
   "source": [
    "print(next(lx_iter))"
   ]
  },
  {
   "cell_type": "code",
   "execution_count": 80,
   "metadata": {},
   "outputs": [
    {
     "ename": "StopIteration",
     "evalue": "",
     "output_type": "error",
     "traceback": [
      "\u001b[1;31m---------------------------------------------------------------------------\u001b[0m",
      "\u001b[1;31mStopIteration\u001b[0m                             Traceback (most recent call last)",
      "\u001b[1;32m<ipython-input-80-756ac6a29501>\u001b[0m in \u001b[0;36m<module>\u001b[1;34m\u001b[0m\n\u001b[1;32m----> 1\u001b[1;33m \u001b[0mprint\u001b[0m\u001b[1;33m(\u001b[0m\u001b[0mnext\u001b[0m\u001b[1;33m(\u001b[0m\u001b[0mlx_iter\u001b[0m\u001b[1;33m)\u001b[0m\u001b[1;33m)\u001b[0m\u001b[1;33m\u001b[0m\u001b[1;33m\u001b[0m\u001b[0m\n\u001b[0m",
      "\u001b[1;31mStopIteration\u001b[0m: "
     ]
    }
   ],
   "source": [
    "print(next(lx_iter))"
   ]
  }
 ],
 "metadata": {
  "kernelspec": {
   "display_name": "Python 3",
   "language": "python",
   "name": "python3"
  },
  "language_info": {
   "codemirror_mode": {
    "name": "ipython",
    "version": 3
   },
   "file_extension": ".py",
   "mimetype": "text/x-python",
   "name": "python",
   "nbconvert_exporter": "python",
   "pygments_lexer": "ipython3",
   "version": "3.8.5"
  }
 },
 "nbformat": 4,
 "nbformat_minor": 4
}
