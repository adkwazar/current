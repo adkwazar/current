{
 "cells": [
  {
   "cell_type": "markdown",
   "metadata": {},
   "source": [
    "<h3> DNA evolutionary models"
   ]
  },
  {
   "cell_type": "code",
   "execution_count": 1,
   "metadata": {},
   "outputs": [],
   "source": [
    "import numpy as np\n",
    "import matplotlib.pyplot as plt"
   ]
  },
  {
   "cell_type": "markdown",
   "metadata": {},
   "source": [
    "<h4> Jukas Cantor model"
   ]
  },
  {
   "cell_type": "code",
   "execution_count": 2,
   "metadata": {},
   "outputs": [
    {
     "data": {
      "image/png": "[encoded data removed]",
      "text/plain": [
       "<Figure size 720x360 with 1 Axes>"
      ]
     },
     "metadata": {
      "needs_background": "light"
     },
     "output_type": "display_data"
    }
   ],
   "source": [
    "T = 125 #total time\n",
    "alfa = np.array([0.01,0.05,0.1,0.15])\n",
    "t = np.linspace(0,T+1,T+1)\n",
    "colors = [\"red\",\"blue\",\"orange\",\"green\"]\n",
    "\n",
    "fig = plt.figure(1, figsize=(10, 5))\n",
    "\n",
    "for i in range(len(alfa)):\n",
    "    p = np.array([1])\n",
    "    for j in range(T):\n",
    "        p_X = (1-3*alfa[i])*p[-1]+alfa[i]*(1-p[-1]) #for a given nucleotide at a specific position\n",
    "        p = np.append(p, p_X)\n",
    "    plt.scatter(t, p, marker=\".\", c=colors[i])\n",
    "    \n",
    "plt.show()"
   ]
  },
  {
   "cell_type": "code",
   "execution_count": 3,
   "metadata": {},
   "outputs": [
    {
     "data": {
      "image/png": "[encoded data removed]",
      "text/plain": [
       "<Figure size 432x288 with 1 Axes>"
      ]
     },
     "metadata": {
      "needs_background": "light"
     },
     "output_type": "display_data"
    }
   ],
   "source": [
    "#dependence between D (observed) and d (evolutionary distance)\n",
    "D = np.linspace(0, 0.3, 100)\n",
    "d = -3/4*np.log(1-4*D/3)\n",
    "\n",
    "plt.plot(D,d)\n",
    "plt.show()"
   ]
  },
  {
   "cell_type": "code",
   "execution_count": 4,
   "metadata": {},
   "outputs": [],
   "source": [
    "def JukasCantorDistance(align1, align2):\n",
    "    import numpy as np\n",
    "    \n",
    "    N = len(align1)\n",
    "    N_count = 0 #number of positions without gaps\n",
    "    tt = 0 #number of transitions and transversions\n",
    "    for i in range(N):\n",
    "        if align1[i] == '-' or align2[i] == '-':\n",
    "            continue\n",
    "        else:\n",
    "            N_count += 1\n",
    "            if align1[i] != align2[i]:\n",
    "                tt+=1\n",
    "    D = tt/N_count\n",
    "    d = -3/4*np.log(1-4*D/3)\n",
    "    \n",
    "    return round(d,3)"
   ]
  },
  {
   "cell_type": "code",
   "execution_count": 5,
   "metadata": {},
   "outputs": [
    {
     "name": "stdout",
     "output_type": "stream",
     "text": [
      "0.304\n"
     ]
    }
   ],
   "source": [
    "print(JukasCantorDistance(\"AATGC\", \"A-TGG\"))  "
   ]
  },
  {
   "cell_type": "markdown",
   "metadata": {},
   "source": [
    "<h4> Exercise: Consider the analogous Kimura model with $\\alpha = 0.01$ and $\\beta= 0.002$."
   ]
  },
  {
   "cell_type": "markdown",
   "metadata": {},
   "source": [
    "<h4> Exercise: Write a function KimuraDistance that takes two aligned sequences and returns an evolutionary distance according to Kimura Model."
   ]
  },
  {
   "cell_type": "code",
   "execution_count": 6,
   "metadata": {},
   "outputs": [],
   "source": [
    "from alignment import SequenceAlign, dotMatrix"
   ]
  },
  {
   "cell_type": "code",
   "execution_count": 91,
   "metadata": {},
   "outputs": [
    {
     "name": "stdout",
     "output_type": "stream",
     "text": [
      "-25.0\n",
      "TAGGCT--ATGCTATAG--GCTTAAGCTAGGCTATATGCTATAGCGGCCAAAAT-\n",
      "--GGCTATATGCTATAGCGGCCAAAATTAGGC--TATGCTATAG-GCTTAAGCTA\n",
      "d =  0.233\n"
     ]
    }
   ],
   "source": [
    "seqA = 'TAGGCTATGCTATAGGCTTAAGCTAGGCTATATGCTATAGCGGCCAAAAT'\n",
    "seqB = 'GGCTATATGCTATAGCGGCCAAAATTAGGCTATGCTATAGGCTTAAGCTA'\n",
    "\n",
    "score, alignA, alignB = SequenceAlign(seqA, seqB)\n",
    "print(score)\n",
    "print(alignA) \n",
    "print(alignB) \n",
    "print(\"d = \", JukasCantorDistance(alignA, alignB))"
   ]
  },
  {
   "cell_type": "code",
   "execution_count": 92,
   "metadata": {},
   "outputs": [
    {
     "name": "stdout",
     "output_type": "stream",
     "text": [
      "-125.0\n",
      "TTGTTAACGGGCACGCGCTGCACCCCTCCTCGAC-G--TA--A-TATA-C-GA-T--ACCA-GT----TATCACAGTC-GGT-TTC-TCGTCACTTTTCCGCTACTACCGTCCCTGCG-T\n",
      "-----------------CGGAGCACCTACCGGACTGTTTATTAGTATAGCTGAGTAGAACATGTGCGCCATTACAGCCGGGTATCCATCCTGAC--AGCACCTAGAAACAT-AGAGCGCG\n",
      "d =  0.426\n"
     ]
    }
   ],
   "source": [
    "#random sequences\n",
    "\n",
    "seqA = 'TTGTTAACGGGCACGCGCTGCACCCCTCCTCGACGTAATATACGATACCAGTTATCACAGTCGGTTTCTCGTCACTTTTCCGCTACTACCGTCCCTGCGT'\n",
    "seqB = 'CGGAGCACCTACCGGACTGTTTATTAGTATAGCTGAGTAGAACATGTGCGCCATTACAGCCGGGTATCCATCCTGACAGCACCTAGAAACATAGAGCGCG'\n",
    "\n",
    "\n",
    "score, alignA, alignB = SequenceAlign(seqA, seqB)\n",
    "print(score)\n",
    "print(alignA) \n",
    "print(alignB) \n",
    "print(\"d = \", JukasCantorDistance(alignA, alignB))"
   ]
  },
  {
   "cell_type": "markdown",
   "metadata": {},
   "source": [
    "<h3> Markov Models"
   ]
  },
  {
   "cell_type": "code",
   "execution_count": 96,
   "metadata": {},
   "outputs": [
    {
     "name": "stdout",
     "output_type": "stream",
     "text": [
      "AACT\n"
     ]
    }
   ],
   "source": [
    "import numpy as np\n",
    "         # A    #C    #G    #T\n",
    "A = {\"A\":[0.40, 0.30, 0.30, 0.00],\n",
    "     \"C\":[0.25, 0.25, 0.25, 0.25], \n",
    "     \"G\":[0.00, 0.50, 0.25, 0.25], \n",
    "     \"T\":[0.10, 0.00, 0.00, 0.90]}\n",
    "\n",
    "s = \"A\"\n",
    "for i in range(3):\n",
    "    s += np.random.choice([\"A\",\"C\",\"G\",\"T\"], p = A[s[-1]])\n",
    "print(s)\n"
   ]
  },
  {
   "cell_type": "markdown",
   "metadata": {},
   "source": [
    "<h4> Exercise: Generate a random nucleotide sequence where there are no $GA$ and $AT$ subsequences."
   ]
  },
  {
   "cell_type": "markdown",
   "metadata": {},
   "source": [
    "<h3> Free-alignment methods"
   ]
  },
  {
   "cell_type": "markdown",
   "metadata": {},
   "source": [
    "<h4> -> K-mers"
   ]
  },
  {
   "cell_type": "markdown",
   "metadata": {},
   "source": [
    "<h4> Exercise: Write a function that takes as arguments a sequence and k (mer size) and returns a dictionary containing counts for all of them.\n"
   ]
  },
  {
   "cell_type": "markdown",
   "metadata": {},
   "source": [
    "For example for ATGGTGG and k=3, we have ATG, TGG, GGT, GTG and TGG mers, so functions should return {'ATG': 1, 'TGG': 2, 'GGT': 1, 'GTG': 1}."
   ]
  },
  {
   "cell_type": "code",
   "execution_count": 11,
   "metadata": {},
   "outputs": [
    {
     "data": {
      "text/plain": [
       "{'ATG': 1, 'TGG': 2, 'GGT': 1, 'GTG': 1}"
      ]
     },
     "execution_count": 11,
     "metadata": {},
     "output_type": "execute_result"
    }
   ],
   "source": [
    "#k-mers\n",
    "\n",
    "def kmers(seq, k = 3):\n",
    "    d = {}\n",
    "    N = len(seq)\n",
    "    for i in range(N-k+1):\n",
    "        mer = seq[i:(i+k)]\n",
    "        if mer not in d.keys():\n",
    "            d[mer] = 1\n",
    "        else:\n",
    "            d[mer] += 1\n",
    "    return d\n",
    "\n",
    "\n",
    "kmers(\"ATGGTGG\")"
   ]
  },
  {
   "cell_type": "markdown",
   "metadata": {},
   "source": [
    "<h4> Exercise: Write a function that takes two sequences and k number (mer size) and returns Euclidean distance between them (counts for k-mers)."
   ]
  },
  {
   "cell_type": "code",
   "execution_count": 90,
   "metadata": {},
   "outputs": [
    {
     "data": {
      "text/plain": [
       "1.73"
      ]
     },
     "execution_count": 90,
     "metadata": {},
     "output_type": "execute_result"
    }
   ],
   "source": [
    "#k-comparison\n",
    "\n",
    "def k_comparison(seq1, seq2, k=3):\n",
    "    d1 = kmers(seq1, k)\n",
    "    d2 = kmers(seq2, k)\n",
    "    all_mers = []\n",
    "    keysd1 = list(d1.keys())\n",
    "    keysd2 = list(d2.keys())\n",
    "    unique_mers = list(set(keysd1+keysd2))\n",
    "    c1 = []\n",
    "    c2 = []\n",
    "    for elem in unique_mers:\n",
    "        if elem in d1.keys():\n",
    "            c1.append(d1[elem])\n",
    "        else:\n",
    "            c1.append(0)\n",
    "            \n",
    "    for elem in unique_mers:\n",
    "        if elem in d2.keys():\n",
    "            c2.append(d2[elem])\n",
    "        else:\n",
    "            c2.append(0)\n",
    "    distance = 0\n",
    "    for i in range(len(c1)):\n",
    "        distance += (c1[i]-c2[i])**2\n",
    "    return round(distance**0.5,2)\n",
    "\n",
    "\n",
    "s1 = \"ATGTGTG\"\n",
    "s2 = \"CATGTG\"\n",
    "k_comparison(s1, s2)"
   ]
  },
  {
   "cell_type": "markdown",
   "metadata": {},
   "source": [
    "<h4> -> Lempel-Ziv complexity"
   ]
  },
  {
   "cell_type": "markdown",
   "metadata": {},
   "source": [
    "<h4> Exercise: Write a function that for a nucleotide sequence returns all words which occur within it."
   ]
  },
  {
   "cell_type": "markdown",
   "metadata": {},
   "source": [
    "What is a word? ATGCGCATCGGCT --> A|T|G|C|GC|AT|CG|GCT"
   ]
  },
  {
   "cell_type": "code",
   "execution_count": 97,
   "metadata": {},
   "outputs": [
    {
     "name": "stdout",
     "output_type": "stream",
     "text": [
      "['A', 'T', 'G', 'C', 'GC', 'AT', 'CG', 'GCT']\n"
     ]
    }
   ],
   "source": [
    "#words\n",
    "\n",
    "def WordSeq(seq):\n",
    "    d=[]\n",
    "    l=len(seq)\n",
    "    i=0\n",
    "    k=1\n",
    "    n=0\n",
    "    while i<l:\n",
    "        while seq[i:i+k] in d and i+k<l:#Everytime the word is already in the list, k+=1 -> the function check with the next letter\n",
    "            k+=1\n",
    "        if seq[i:i+k] not in d:     \n",
    "            d.append(seq[i:i+k])  #When the word isn't in d, the loop stops and the word is put into the list\n",
    "        i+=k  #i becomes i+k to start to read again after the words that was already added\n",
    "        k=1#we set again the value of k to 1 so that when the loops start again it start to check if the next letter is in the list    \n",
    "    return d\n",
    "\n",
    " \n",
    "\n",
    "print (WordSeq(\"ATGCGCATCGGCT\"))"
   ]
  },
  {
   "cell_type": "markdown",
   "metadata": {},
   "source": [
    "<h4> Exercise: Write a function that takes two sequences and returns Lempel-Ziv complexity."
   ]
  },
  {
   "cell_type": "code",
   "execution_count": 102,
   "metadata": {},
   "outputs": [
    {
     "data": {
      "text/plain": [
       "0.8"
      ]
     },
     "execution_count": 102,
     "metadata": {},
     "output_type": "execute_result"
    }
   ],
   "source": [
    "#comparison\n",
    "\n",
    "def words_comparison(seq1, seq2):\n",
    "    l1 = len(WordSeq(seq1))\n",
    "    l2 = len(WordSeq(seq2))\n",
    "    l3 = len(WordSeq(seq1+seq2))\n",
    "    C = (l3 - min(l1,l2))/max(l1,l2)\n",
    "    return C\n",
    "\n",
    "\n",
    "\n",
    "s1 = \"ATGTGTG\"\n",
    "s2 = \"CATGTG\"\n",
    "words_comparison(s1, s2)"
   ]
  },
  {
   "cell_type": "markdown",
   "metadata": {},
   "source": [
    "<h4> -> Chaos Game Representation - an another approach in free-alignment methods "
   ]
  },
  {
   "cell_type": "markdown",
   "metadata": {},
   "source": [
    "Steps:\n",
    "    \n",
    "- Conversion of nucleotide sequences to numerical ones (according to CGR forumla) -> Result: complex series\n",
    "- Perform DFT for each series.\n",
    "- Calculate Power Spectra.\n",
    "- Elongate all spectra to the longest one.\n",
    "- Comparison using UPGMA method."
   ]
  },
  {
   "cell_type": "code",
   "execution_count": 48,
   "metadata": {},
   "outputs": [],
   "source": [
    "import CGR"
   ]
  },
  {
   "cell_type": "code",
   "execution_count": 49,
   "metadata": {},
   "outputs": [
    {
     "name": "stdout",
     "output_type": "stream",
     "text": [
      "['CGRdistances', 'FS', 'LA', 'T_m', '__builtins__', '__cached__', '__doc__', '__file__', '__loader__', '__name__', '__package__', '__spec__', 'cg', 'cmath', 'fft', 'math', 'np', 'plt']\n"
     ]
    }
   ],
   "source": [
    "print(dir(CGR))"
   ]
  },
  {
   "cell_type": "code",
   "execution_count": 50,
   "metadata": {},
   "outputs": [],
   "source": [
    "from CGR import CGRdistances #function that realise steps 1,2,3,4"
   ]
  },
  {
   "cell_type": "code",
   "execution_count": 51,
   "metadata": {},
   "outputs": [],
   "source": [
    "#infulenzca viruses case study\n",
    "v_sequences = []\n",
    "v_names = []\n",
    "\n",
    "with open('influenza_viruses', 'r') as f:\n",
    "    for line in f:  \n",
    "        line = line.rstrip() \n",
    "        if line.startswith('>'):\n",
    "            v_names.append(line[1:])\n",
    "        else:\n",
    "            v_sequences.append(line.upper())"
   ]
  },
  {
   "cell_type": "code",
   "execution_count": 52,
   "metadata": {},
   "outputs": [
    {
     "data": {
      "image/png": "[encoded data removed]",
      "text/plain": [
       "<Figure size 720x1440 with 1 Axes>"
      ]
     },
     "metadata": {
      "needs_background": "light"
     },
     "output_type": "display_data"
    }
   ],
   "source": [
    "import numpy as np\n",
    "import matplotlib.pyplot as plt\n",
    "from scipy.cluster.hierarchy import dendrogram, linkage \n",
    "from scipy.spatial.distance import pdist  \n",
    "\n",
    "X = pdist(CGRdistances(v_sequences)) #Distance matrix obtained from CGR+DFT procedure\n",
    "dist = linkage(X, method=\"average\")  #average = UPGMA method\n",
    "\n",
    "\n",
    "fig = plt.figure(figsize=(10, 20))\n",
    "dn = dendrogram(dist, labels = v_names, orientation = \"left\")\n",
    "plt.show()"
   ]
  },
  {
   "cell_type": "markdown",
   "metadata": {},
   "source": [
    "<h3> Python basics - supplementary materials"
   ]
  },
  {
   "cell_type": "markdown",
   "metadata": {},
   "source": [
    "<h4> f-strings"
   ]
  },
  {
   "cell_type": "code",
   "execution_count": 15,
   "metadata": {},
   "outputs": [
    {
     "name": "stdout",
     "output_type": "stream",
     "text": [
      "Variable x equals x\n"
     ]
    }
   ],
   "source": [
    "x = 12\n",
    "print(\"Variable x equals x\")"
   ]
  },
  {
   "cell_type": "code",
   "execution_count": 16,
   "metadata": {},
   "outputs": [
    {
     "name": "stdout",
     "output_type": "stream",
     "text": [
      "Variable x equals 12\n"
     ]
    }
   ],
   "source": [
    "x = 12\n",
    "print(f\"Variable x equals {x}\")"
   ]
  },
  {
   "cell_type": "markdown",
   "metadata": {},
   "source": [
    "<h4> Functional programming"
   ]
  },
  {
   "cell_type": "code",
   "execution_count": 17,
   "metadata": {},
   "outputs": [],
   "source": [
    "#traditional approach\n",
    "def MyFunction(x):\n",
    "    return x**2+3"
   ]
  },
  {
   "cell_type": "code",
   "execution_count": 18,
   "metadata": {},
   "outputs": [
    {
     "name": "stdout",
     "output_type": "stream",
     "text": [
      "7\n"
     ]
    }
   ],
   "source": [
    "print(MyFunction(-2))"
   ]
  },
  {
   "cell_type": "markdown",
   "metadata": {},
   "source": [
    "Lambda functions"
   ]
  },
  {
   "cell_type": "code",
   "execution_count": 19,
   "metadata": {},
   "outputs": [
    {
     "name": "stdout",
     "output_type": "stream",
     "text": [
      "7\n"
     ]
    }
   ],
   "source": [
    "#We use lambda functions when we require a nameless (see examples with map/filter) in function for a short period of time.\n",
    "#In Python, we generally use it as an argument to a higher-order functions\n",
    "\n",
    "MyFunction2 = lambda x: x**2 + 3\n",
    "print(MyFunction(2))"
   ]
  },
  {
   "cell_type": "markdown",
   "metadata": {},
   "source": [
    "Map"
   ]
  },
  {
   "cell_type": "code",
   "execution_count": 20,
   "metadata": {},
   "outputs": [
    {
     "name": "stdout",
     "output_type": "stream",
     "text": [
      "[4, 7, 12, 19]\n"
     ]
    }
   ],
   "source": [
    "x = [1,2,3,4]\n",
    "y = list(map(MyFunction,x))  #apply function for every element in x\n",
    "print(y)"
   ]
  },
  {
   "cell_type": "code",
   "execution_count": 21,
   "metadata": {},
   "outputs": [
    {
     "name": "stdout",
     "output_type": "stream",
     "text": [
      "[4, 7, 12, 19]\n"
     ]
    }
   ],
   "source": [
    "#map + lambda \n",
    "\n",
    "x = [1,2,3,4]\n",
    "y = list(map(lambda a: a**2 + 3,x))  #apply lambda expression for every element in x\n",
    "print(y)"
   ]
  },
  {
   "cell_type": "markdown",
   "metadata": {},
   "source": [
    "<h4> Exercise: Modify a list [1,2,3,4,5] by converting each element using  $5x+1$  transformation."
   ]
  },
  {
   "cell_type": "markdown",
   "metadata": {},
   "source": [
    "<h4> Exercise: For a list of sequences return a list containing the number of thymines for each of them."
   ]
  },
  {
   "cell_type": "markdown",
   "metadata": {},
   "source": [
    "Filter"
   ]
  },
  {
   "cell_type": "code",
   "execution_count": 24,
   "metadata": {},
   "outputs": [
    {
     "name": "stdout",
     "output_type": "stream",
     "text": [
      "[3, 4]\n"
     ]
    }
   ],
   "source": [
    "x = [1,2,3,4]\n",
    "y = list(filter(lambda a: a > 2,x))  #save only these element from list x which holds a condition in lambda\n",
    "print(y)"
   ]
  },
  {
   "cell_type": "markdown",
   "metadata": {},
   "source": [
    "<h4> Exercise: Write a program which use filter() to make a list whose elements are even numbers between 1 and 20 (both included)."
   ]
  },
  {
   "cell_type": "markdown",
   "metadata": {},
   "source": [
    "<h4> Exercise: For a list of sequences return a list of these sequences that contains a specific subsequence."
   ]
  },
  {
   "cell_type": "markdown",
   "metadata": {},
   "source": [
    "<h4> Try except"
   ]
  },
  {
   "cell_type": "code",
   "execution_count": 27,
   "metadata": {},
   "outputs": [
    {
     "name": "stdout",
     "output_type": "stream",
     "text": [
      "An exception occurred\n"
     ]
    }
   ],
   "source": [
    "x = 1\n",
    "y = 0\n",
    "\n",
    "try:\n",
    "    print(x/y)\n",
    "except:\n",
    "    print(\"An exception occurred\")"
   ]
  },
  {
   "cell_type": "markdown",
   "metadata": {},
   "source": [
    "<h4> Break and Continue"
   ]
  },
  {
   "cell_type": "code",
   "execution_count": 29,
   "metadata": {},
   "outputs": [
    {
     "name": "stdout",
     "output_type": "stream",
     "text": [
      "a\n",
      "b\n"
     ]
    }
   ],
   "source": [
    "#The break statement terminates the loop containing it.\n",
    "\n",
    "for elem in \"abcdef\":\n",
    "    if elem == \"c\":\n",
    "        break\n",
    "    print(elem)"
   ]
  },
  {
   "cell_type": "code",
   "execution_count": 30,
   "metadata": {},
   "outputs": [
    {
     "name": "stdout",
     "output_type": "stream",
     "text": [
      "a\n",
      "b\n",
      "d\n",
      "e\n",
      "f\n"
     ]
    }
   ],
   "source": [
    "#The continue statement is used to skip the rest of the code inside a loop for the current iteration only.\n",
    "#Loop does not terminate but continues on with the next iteration.\n",
    "\n",
    "for elem in \"abcdef\":\n",
    "    if elem == \"c\":\n",
    "        continue\n",
    "    print(elem)"
   ]
  },
  {
   "cell_type": "markdown",
   "metadata": {},
   "source": [
    "<h4> File handling"
   ]
  },
  {
   "cell_type": "markdown",
   "metadata": {},
   "source": [
    "Save a text to a file"
   ]
  },
  {
   "cell_type": "code",
   "execution_count": 31,
   "metadata": {},
   "outputs": [],
   "source": [
    "f = open(\"File.txt\", \"w\")  #w - write\n",
    "f.write(\"Python for bioinformatics\")\n",
    "f.close()"
   ]
  },
  {
   "cell_type": "code",
   "execution_count": 32,
   "metadata": {},
   "outputs": [],
   "source": [
    "#Other way to do the same:\n",
    "\n",
    "f = open('File.txt', 'w') \n",
    "try: \n",
    "    f.write('Python for bioinformatics') \n",
    "finally: \n",
    "    f.close() "
   ]
  },
  {
   "cell_type": "code",
   "execution_count": 33,
   "metadata": {},
   "outputs": [],
   "source": [
    "#The third approach, here: the with statement itself ensures proper acquisition and release of resources. \n",
    "\n",
    "with open('File.txt', 'w') as f: \n",
    "    f.write('Python for bioinformatics') "
   ]
  },
  {
   "cell_type": "markdown",
   "metadata": {},
   "source": [
    "Read a text from a file"
   ]
  },
  {
   "cell_type": "code",
   "execution_count": 34,
   "metadata": {},
   "outputs": [
    {
     "name": "stdout",
     "output_type": "stream",
     "text": [
      "Python for bioinformatics\n"
     ]
    }
   ],
   "source": [
    "#Read the content\n",
    "\n",
    "f = open(\"File.txt\", \"r\") #r-read\n",
    "print(f.read()) \n",
    "f.close()"
   ]
  },
  {
   "cell_type": "markdown",
   "metadata": {},
   "source": [
    "<h4> Example"
   ]
  },
  {
   "cell_type": "code",
   "execution_count": 38,
   "metadata": {},
   "outputs": [],
   "source": [
    "text = \"I like python language.\\nIt is useful for data analysis.\\nI can use it for bioinformatics analyses.\"  #\\n - next line\n",
    "\n",
    "f = open(\"File2.txt\", \"w\")\n",
    "f.write(text)\n",
    "f.close()"
   ]
  },
  {
   "cell_type": "code",
   "execution_count": 39,
   "metadata": {},
   "outputs": [
    {
     "name": "stdout",
     "output_type": "stream",
     "text": [
      "I like python language.\n",
      "It is useful for data analysis.\n",
      "I can use it for bioinformatics analyses.\n"
     ]
    }
   ],
   "source": [
    "f = open(\"File2.txt\", \"r\")\n",
    "print(f.read()) \n",
    "f.close()"
   ]
  },
  {
   "cell_type": "code",
   "execution_count": 40,
   "metadata": {},
   "outputs": [
    {
     "name": "stdout",
     "output_type": "stream",
     "text": [
      "I like python language.\n",
      "\n",
      "It is useful for data analysis.\n",
      "\n",
      "I can use it for bioinformatics analyses.\n"
     ]
    }
   ],
   "source": [
    "f2 = open(\"File2.txt\", \"r\")\n",
    "\n",
    "print(f2.readline())\n",
    "print(f2.readline())\n",
    "print(f2.readline())\n",
    "\n",
    "f2.close()"
   ]
  },
  {
   "cell_type": "code",
   "execution_count": 41,
   "metadata": {},
   "outputs": [
    {
     "name": "stdout",
     "output_type": "stream",
     "text": [
      "I like python language.\n",
      "\n",
      "It is useful for data analysis.\n",
      "\n",
      "I can use it for bioinformatics analyses.\n"
     ]
    }
   ],
   "source": [
    "f3 = open(\"File2.txt\", \"r\")\n",
    "for line in f3:\n",
    "    print(line)  \n",
    "f3.close()"
   ]
  },
  {
   "cell_type": "code",
   "execution_count": 42,
   "metadata": {},
   "outputs": [],
   "source": [
    "x = []\n",
    "\n",
    "f4 = open(\"File2.txt\", \"r\")\n",
    "for line in f4:\n",
    "    x.append(line)\n",
    "\n",
    "f4.close()"
   ]
  },
  {
   "cell_type": "code",
   "execution_count": 43,
   "metadata": {},
   "outputs": [
    {
     "name": "stdout",
     "output_type": "stream",
     "text": [
      "['I like python language.\\n', 'It is useful for data analysis.\\n', 'I can use it for bioinformatics analyses.']\n"
     ]
    }
   ],
   "source": [
    "print(x)"
   ]
  },
  {
   "cell_type": "markdown",
   "metadata": {},
   "source": [
    "<h4> Exercise: Let's define two nucleotide sequences: seq1: ATGGGC and seq2: AGGGCT and save them to file using FASTA format.\n"
   ]
  }
 ],
 "metadata": {
  "kernelspec": {
   "display_name": "Python 3",
   "language": "python",
   "name": "python3"
  },
  "language_info": {
   "codemirror_mode": {
    "name": "ipython",
    "version": 3
   },
   "file_extension": ".py",
   "mimetype": "text/x-python",
   "name": "python",
   "nbconvert_exporter": "python",
   "pygments_lexer": "ipython3",
   "version": "3.8.5"
  }
 },
 "nbformat": 4,
 "nbformat_minor": 4
}
