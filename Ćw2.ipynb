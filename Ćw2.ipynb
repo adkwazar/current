{
 "cells": [
  {
   "cell_type": "markdown",
   "metadata": {},
   "source": [
    "Python 2024/2025, Adrian Kania, Ćwiczenia2   "
   ]
  },
  {
   "cell_type": "markdown",
   "metadata": {},
   "source": [
    "<h2> Parametry opcjonalne"
   ]
  },
  {
   "cell_type": "markdown",
   "metadata": {},
   "source": [
    "<h3> Print"
   ]
  },
  {
   "cell_type": "code",
   "execution_count": 1,
   "metadata": {},
   "outputs": [
    {
     "name": "stdout",
     "output_type": "stream",
     "text": [
      "To jest przykładowy napis\n"
     ]
    }
   ],
   "source": [
    "print(\"To jest przykładowy napis\")"
   ]
  },
  {
   "cell_type": "code",
   "execution_count": 2,
   "metadata": {},
   "outputs": [
    {
     "name": "stdout",
     "output_type": "stream",
     "text": [
      "To jest przykladowy napis\n"
     ]
    }
   ],
   "source": [
    "print(\"To\", \"jest\", \"przykladowy\", \"napis\") #print może przyjmować wiele argumentow"
   ]
  },
  {
   "cell_type": "code",
   "execution_count": 3,
   "metadata": {},
   "outputs": [
    {
     "name": "stdout",
     "output_type": "stream",
     "text": [
      "To_jest_przykladowy_napis\n"
     ]
    }
   ],
   "source": [
    "print(\"To\", \"jest\", \"przykladowy\", \"napis\", sep = \"_\")"
   ]
  },
  {
   "cell_type": "markdown",
   "metadata": {},
   "source": [
    "<h3> Replace"
   ]
  },
  {
   "cell_type": "code",
   "execution_count": 4,
   "metadata": {},
   "outputs": [
    {
     "name": "stdout",
     "output_type": "stream",
     "text": [
      "XTGCGCGXTCATCGCATCA\n"
     ]
    }
   ],
   "source": [
    "n = \"ATGCGCGATCATCGCATCA\"\n",
    "n = n.replace(\"A\",\"X\", 2) #zamien tylko pierwsze dwa wystapienia\n",
    "print(n)"
   ]
  },
  {
   "cell_type": "markdown",
   "metadata": {},
   "source": [
    "<h3> Sort"
   ]
  },
  {
   "cell_type": "code",
   "execution_count": 5,
   "metadata": {},
   "outputs": [
    {
     "name": "stdout",
     "output_type": "stream",
     "text": [
      "[-55, -5, 1, 3, 12]\n"
     ]
    }
   ],
   "source": [
    "x = [1,3,-5,-55,12]\n",
    "x.sort()  #posortuj liste\n",
    "\n",
    "print(x)"
   ]
  },
  {
   "cell_type": "code",
   "execution_count": 6,
   "metadata": {},
   "outputs": [
    {
     "name": "stdout",
     "output_type": "stream",
     "text": [
      "[12, 3, 1, -5, -55]\n"
     ]
    }
   ],
   "source": [
    "x = [1,3,-5,-55,12]\n",
    "x.sort(reverse = True) #posortuj w kolejnosci odwrotnej\n",
    "\n",
    "print(x)"
   ]
  },
  {
   "cell_type": "code",
   "execution_count": 7,
   "metadata": {},
   "outputs": [
    {
     "name": "stdout",
     "output_type": "stream",
     "text": [
      "[5, 3, 8, 50]\n"
     ]
    }
   ],
   "source": [
    "def reszta7(x): \n",
    "    return x % 7\n",
    "\n",
    "x = [3, 5, 8, 50]   \n",
    "x.sort(key = reszta7, reverse = True)  #mozemy zadac jakąs nową regule do sortowania\n",
    "\n",
    "print(x)"
   ]
  },
  {
   "cell_type": "markdown",
   "metadata": {},
   "source": [
    "<h3> Max"
   ]
  },
  {
   "cell_type": "code",
   "execution_count": 8,
   "metadata": {},
   "outputs": [
    {
     "name": "stdout",
     "output_type": "stream",
     "text": [
      "50\n"
     ]
    }
   ],
   "source": [
    "x = [3,5,8,50]\n",
    "\n",
    "print(max(x))  #maksymalna wartosc"
   ]
  },
  {
   "cell_type": "code",
   "execution_count": 9,
   "metadata": {},
   "outputs": [
    {
     "name": "stdout",
     "output_type": "stream",
     "text": [
      "5\n"
     ]
    }
   ],
   "source": [
    "def reszta7(x): \n",
    "    return x % 7\n",
    "\n",
    "x = [3, 5, 8, 50]\n",
    "\n",
    "\n",
    "print(max(x, key = reszta7))  #maksymalna wartosc z nową regulą\n"
   ]
  },
  {
   "cell_type": "code",
   "execution_count": 10,
   "metadata": {},
   "outputs": [
    {
     "name": "stdout",
     "output_type": "stream",
     "text": [
      "Help on built-in function max in module builtins:\n",
      "\n",
      "max(...)\n",
      "    max(iterable, *[, default=obj, key=func]) -> value\n",
      "    max(arg1, arg2, *args, *[, key=func]) -> value\n",
      "    \n",
      "    With a single iterable argument, return its biggest item. The\n",
      "    default keyword-only argument specifies an object to return if\n",
      "    the provided iterable is empty.\n",
      "    With two or more arguments, return the largest argument.\n",
      "\n"
     ]
    }
   ],
   "source": [
    "help(max)"
   ]
  },
  {
   "cell_type": "markdown",
   "metadata": {},
   "source": [
    "<h3> Listy - więcej operacji"
   ]
  },
  {
   "cell_type": "code",
   "execution_count": 11,
   "metadata": {},
   "outputs": [],
   "source": [
    "x = [1,2,3,4,6,7,8,10,12]"
   ]
  },
  {
   "cell_type": "code",
   "execution_count": 12,
   "metadata": {},
   "outputs": [
    {
     "data": {
      "text/plain": [
       "2"
      ]
     },
     "execution_count": 12,
     "metadata": {},
     "output_type": "execute_result"
    }
   ],
   "source": [
    "x[1] #pierwszy element"
   ]
  },
  {
   "cell_type": "code",
   "execution_count": 13,
   "metadata": {},
   "outputs": [
    {
     "data": {
      "text/plain": [
       "[3, 4, 6]"
      ]
     },
     "execution_count": 13,
     "metadata": {},
     "output_type": "execute_result"
    }
   ],
   "source": [
    "x[2:5] #elementy 2,3,4"
   ]
  },
  {
   "cell_type": "code",
   "execution_count": 14,
   "metadata": {},
   "outputs": [
    {
     "data": {
      "text/plain": [
       "[2, 4, 7, 10]"
      ]
     },
     "execution_count": 14,
     "metadata": {},
     "output_type": "execute_result"
    }
   ],
   "source": [
    "x[1:8:2] #indeksy od 1 do 7, co drugi"
   ]
  },
  {
   "cell_type": "code",
   "execution_count": 15,
   "metadata": {},
   "outputs": [
    {
     "data": {
      "text/plain": [
       "12"
      ]
     },
     "execution_count": 15,
     "metadata": {},
     "output_type": "execute_result"
    }
   ],
   "source": [
    "x[-1] # ostatni element"
   ]
  },
  {
   "cell_type": "code",
   "execution_count": 16,
   "metadata": {},
   "outputs": [
    {
     "data": {
      "text/plain": [
       "[12, 10, 8, 7, 6, 4]"
      ]
     },
     "execution_count": 16,
     "metadata": {},
     "output_type": "execute_result"
    }
   ],
   "source": [
    "x[:2:-1] #co tu sie stalo?:)"
   ]
  },
  {
   "cell_type": "code",
   "execution_count": 17,
   "metadata": {},
   "outputs": [
    {
     "data": {
      "text/plain": [
       "[4, 6, 7]"
      ]
     },
     "execution_count": 17,
     "metadata": {},
     "output_type": "execute_result"
    }
   ],
   "source": [
    "x[3:-3] "
   ]
  },
  {
   "cell_type": "code",
   "execution_count": 18,
   "metadata": {},
   "outputs": [
    {
     "data": {
      "text/plain": [
       "[2, 4, 7]"
      ]
     },
     "execution_count": 18,
     "metadata": {},
     "output_type": "execute_result"
    }
   ],
   "source": [
    "x[1:-3:2] "
   ]
  },
  {
   "cell_type": "code",
   "execution_count": 19,
   "metadata": {},
   "outputs": [
    {
     "data": {
      "text/plain": [
       "[12, 10, 8, 7, 6, 4, 3, 2, 1]"
      ]
     },
     "execution_count": 19,
     "metadata": {},
     "output_type": "execute_result"
    }
   ],
   "source": [
    "x[::-1] #odwrocenie listy"
   ]
  },
  {
   "cell_type": "markdown",
   "metadata": {},
   "source": [
    "<h2> f-stringi"
   ]
  },
  {
   "cell_type": "code",
   "execution_count": 20,
   "metadata": {},
   "outputs": [
    {
     "name": "stdout",
     "output_type": "stream",
     "text": [
      "imie\n"
     ]
    }
   ],
   "source": [
    "imie = \"Adrian\"  \n",
    "nazwisko = \"Kania\"\n",
    "\n",
    "print('imie')"
   ]
  },
  {
   "cell_type": "code",
   "execution_count": 21,
   "metadata": {},
   "outputs": [
    {
     "name": "stdout",
     "output_type": "stream",
     "text": [
      "Cześć Adrian Kania\n"
     ]
    }
   ],
   "source": [
    "print(f'Cześć {imie} {nazwisko}')"
   ]
  },
  {
   "cell_type": "markdown",
   "metadata": {},
   "source": [
    "<h2> IF/ELSE"
   ]
  },
  {
   "cell_type": "code",
   "execution_count": 22,
   "metadata": {},
   "outputs": [
    {
     "name": "stdout",
     "output_type": "stream",
     "text": [
      "Zmienna x jest większa od 2\n"
     ]
    }
   ],
   "source": [
    "x = 4\n",
    "\n",
    "if x>2: #Jeżeli warunek jest sepełniony to\n",
    "    print(\"Zmienna x jest większa od 2\")\n",
    "else:   #w przeciwnym przypadku\n",
    "    print(\"Zmienna x nie jest większa od 2\")"
   ]
  },
  {
   "cell_type": "code",
   "execution_count": 23,
   "metadata": {},
   "outputs": [
    {
     "name": "stdout",
     "output_type": "stream",
     "text": [
      "Liczba a dzieli sie przez b bez reszty\n"
     ]
    }
   ],
   "source": [
    "a = 6\n",
    "b = 2\n",
    "\n",
    "if a%b == 0:\n",
    "    print(\"Liczba a dzieli sie przez b bez reszty\")\n",
    "else:\n",
    "    print(\"Liczba a nie dzieli sie przez b\")"
   ]
  },
  {
   "cell_type": "code",
   "execution_count": 24,
   "metadata": {},
   "outputs": [
    {
     "name": "stdout",
     "output_type": "stream",
     "text": [
      "przynajmniej jeden z warunkow a>2 lub b<5 nie jest spelniony\n"
     ]
    }
   ],
   "source": [
    "a = 2\n",
    "b = 6\n",
    "c = 5\n",
    "\n",
    "if a>2 and b>5: #warunek moze skladac sie z kilku warunkow polączonych słowem and [koniunkcja] lub or [alternatywa]\n",
    "    print(\"a>2 i b>5\")\n",
    "else:\n",
    "    print(\"przynajmniej jeden z warunkow a>2 lub b<5 nie jest spelniony\")"
   ]
  },
  {
   "cell_type": "code",
   "execution_count": 25,
   "metadata": {},
   "outputs": [
    {
     "name": "stdout",
     "output_type": "stream",
     "text": [
      "przypadek 3\n"
     ]
    }
   ],
   "source": [
    "#wieksza liczba warunkow\n",
    "\n",
    "a = -3\n",
    "\n",
    "if a<5 and a>2:\n",
    "    print(\"przypadek 1\")\n",
    "elif a<=2 and a>=0:\n",
    "    print(\"przypadek 2\")\n",
    "elif a<0 and a>-5:\n",
    "    print(\"przypadek 3\")\n",
    "else:\n",
    "    print(\"przypadek 4\")"
   ]
  },
  {
   "cell_type": "markdown",
   "metadata": {},
   "source": [
    "<h4> Zadanie1: Zadeklaruj dwie zmienne $x=3$ oraz $y=-4$ następnie za pomocą warunku if/else sprawdź czy iloczyn tych liczb jest liczbą dodatnią. Wyświetl stosowny komunikat."
   ]
  },
  {
   "cell_type": "markdown",
   "metadata": {},
   "source": [
    "<h4> Zadanie2: Równanie kwadratowe $ax^2+bx+c =0$ może mieć dwa, jedno, lub zero miejsc zerowych. Zależy to parmetru $\\Delta = b^2-4ac$.\n",
    "\n",
    "- Jeżeli $\\Delta>0$ to istnieją dwa miejsca zerowe dane wzorami $x_1 = \\frac{-b-\\sqrt{\\Delta}}{2a}$ i $x_2 = \\frac{-b+\\sqrt{\\Delta}}{2a}$,\n",
    "- Jeżeli $\\Delta = 0$ to istnieje jedno miejsce zerowe dane wzorem $x_0 = -\\frac{b}{2a}$,\n",
    "- Jeżeli $\\Delta<0$ to nie ma miejsc zerowych.\n",
    "\n",
    "Korzystając z if/else oraz parametru $\\Delta$ wyznacz ilość miejsc zerowych równania $4x^2-5x+1 = 0$. Jeżeli miejsca zerowe istnieją to wyświetl je."
   ]
  },
  {
   "cell_type": "markdown",
   "metadata": {},
   "source": [
    "<h2> Pętla While"
   ]
  },
  {
   "cell_type": "code",
   "execution_count": 26,
   "metadata": {},
   "outputs": [
    {
     "name": "stdout",
     "output_type": "stream",
     "text": [
      "1\n",
      "2\n",
      "3\n",
      "4\n",
      "5\n"
     ]
    }
   ],
   "source": [
    "#wyswietl liczby od 1 do 5\n",
    "x = 0\n",
    "\n",
    "while x<5: #dopoki x jest mniejszy od 5\n",
    "    x += 1  #nadpisuj zmienną x, dodając liczbe 1\n",
    "    print(x)  #wyswietl x"
   ]
  },
  {
   "cell_type": "markdown",
   "metadata": {},
   "source": [
    "<h4> Zadanie3: Wyświetl liczby podzielne przez 3 z zakresu od 1 do 25"
   ]
  },
  {
   "cell_type": "code",
   "execution_count": 27,
   "metadata": {},
   "outputs": [
    {
     "name": "stdout",
     "output_type": "stream",
     "text": [
      "[1, 2, 3, 5, 8, 13, 21, 34, 55, 89]\n"
     ]
    }
   ],
   "source": [
    "#zbuduj liste 10-elementową, gdzie pierwsze dwa elementy to 1 i 2, a kazdy kolejny jest sumą dwoch poprzednich\n",
    "\n",
    "x = [1,2]\n",
    "while len(x)<10: #dopoki dlugosc listy x jest mniejsza od 10\n",
    "    x.append(x[-1]+x[-2]) #dodawaj element będacy sumą dwoch poprzednich elementow\n",
    "\n",
    "print(x)"
   ]
  },
  {
   "cell_type": "markdown",
   "metadata": {},
   "source": [
    "<h4> Zadanie4: Zbuduj listę 8-elementową, której pierwsze trzy elementy to 1,2,3 a każdy kolejny element to iloczyn trzech poprzednich elementów."
   ]
  },
  {
   "cell_type": "markdown",
   "metadata": {},
   "source": [
    "<h2> Pętla for"
   ]
  },
  {
   "cell_type": "code",
   "execution_count": 28,
   "metadata": {},
   "outputs": [
    {
     "name": "stdout",
     "output_type": "stream",
     "text": [
      "2\n",
      "3\n",
      "-2\n",
      "5\n"
     ]
    }
   ],
   "source": [
    "#wyswietl wszystkie elementy z danej listy\n",
    "\n",
    "x = [2,3,-2,5]\n",
    "\n",
    "for elem in x: #dla kolejnych elementow listy x\n",
    "    print(elem) #wyswietl je"
   ]
  },
  {
   "cell_type": "code",
   "execution_count": 29,
   "metadata": {},
   "outputs": [
    {
     "name": "stdout",
     "output_type": "stream",
     "text": [
      "3\n",
      "4\n",
      "5\n",
      "6\n",
      "7\n",
      "8\n",
      "9\n"
     ]
    }
   ],
   "source": [
    "#wyswietl liczby od 3 do 9\n",
    "\n",
    "for i in range(3,10):\n",
    "    print(i)"
   ]
  },
  {
   "cell_type": "code",
   "execution_count": 30,
   "metadata": {},
   "outputs": [
    {
     "name": "stdout",
     "output_type": "stream",
     "text": [
      "3\n",
      "5\n",
      "7\n",
      "9\n"
     ]
    }
   ],
   "source": [
    "#wyświetl co drugą liczbe \n",
    "\n",
    "for i in range(3,11,2):\n",
    "    print(i)"
   ]
  },
  {
   "cell_type": "code",
   "execution_count": 31,
   "metadata": {},
   "outputs": [
    {
     "name": "stdout",
     "output_type": "stream",
     "text": [
      "10\n",
      "7\n",
      "4\n",
      "1\n"
     ]
    }
   ],
   "source": [
    "for i in range(10,0,-3): \n",
    "    print(i)"
   ]
  },
  {
   "cell_type": "code",
   "execution_count": 32,
   "metadata": {},
   "outputs": [
    {
     "name": "stdout",
     "output_type": "stream",
     "text": [
      "5\n",
      "9\n",
      "13\n"
     ]
    }
   ],
   "source": [
    "#wyswietl liczby od 2 do 15, ktore przy dzieleniu przez 4 dają reszte 1\n",
    "\n",
    "for i in range(2,16):\n",
    "    if i%4 == 1:\n",
    "        print(i)"
   ]
  },
  {
   "cell_type": "markdown",
   "metadata": {},
   "source": [
    "<h4> Zadanie5: Wyświetl tylko dodatnie elementy z listy $x=[1,2,-2,0,-6,7,-11,12,12]$."
   ]
  },
  {
   "cell_type": "markdown",
   "metadata": {},
   "source": [
    "<h4> Zadanie6: Dana jest lista $x=[4,1,-1,2,4,4,6,12,-2,-13,1]$. Zapisz do listy $y$ tylko dodatnie elementy z listy $x$, każdy raz (tzn powinieneś otrzymać $[4,1,2,6,12]$)."
   ]
  },
  {
   "cell_type": "markdown",
   "metadata": {},
   "source": [
    "<h2> Listy składane"
   ]
  },
  {
   "cell_type": "code",
   "execution_count": 33,
   "metadata": {},
   "outputs": [
    {
     "name": "stdout",
     "output_type": "stream",
     "text": [
      "[1, 4, 16, 25, 36, 64]\n"
     ]
    }
   ],
   "source": [
    "#zapisz do listy y kwadraty kolejnych elementow z listy x\n",
    "\n",
    "x = [1,2,4,5,6,8]\n",
    "y = []\n",
    "for elem in x:\n",
    "    y.append(elem**2)\n",
    "\n",
    "print(y)"
   ]
  },
  {
   "cell_type": "code",
   "execution_count": 34,
   "metadata": {},
   "outputs": [
    {
     "name": "stdout",
     "output_type": "stream",
     "text": [
      "[1, 4, 16, 25, 36, 64]\n"
     ]
    }
   ],
   "source": [
    "#rozwiązanie z uzyciem listy składanej\n",
    "\n",
    "x = [1,2,4,5,6,8]\n",
    "y2 = [elem**2 for elem in x]\n",
    "print(y2)"
   ]
  },
  {
   "cell_type": "markdown",
   "metadata": {},
   "source": [
    "<h4> Zadanie7: Używając listy składanej utwórz listę sześcianów sześciu kolejnych liczb naturalnych (tzn $[1,8,27,64,125,216]$)."
   ]
  },
  {
   "cell_type": "markdown",
   "metadata": {},
   "source": [
    "<h2> Definiowanie funkcji"
   ]
  },
  {
   "cell_type": "code",
   "execution_count": 35,
   "metadata": {},
   "outputs": [],
   "source": [
    "def pierwiastek(x):\n",
    "    return x**0.5"
   ]
  },
  {
   "cell_type": "code",
   "execution_count": 36,
   "metadata": {},
   "outputs": [
    {
     "data": {
      "text/plain": [
       "3.0"
      ]
     },
     "execution_count": 36,
     "metadata": {},
     "output_type": "execute_result"
    }
   ],
   "source": [
    "pierwiastek(9)"
   ]
  },
  {
   "cell_type": "code",
   "execution_count": 37,
   "metadata": {},
   "outputs": [],
   "source": [
    "def moja_funkcja(x): #nazwa funkcji, x to argument\n",
    "    y = x**3         #wykonaj przekształcenie argumentu x\n",
    "    return y         #zwroc go, funkcja ma zawsze RETURN, nie użyaj printa w funkcji"
   ]
  },
  {
   "cell_type": "code",
   "execution_count": 38,
   "metadata": {},
   "outputs": [
    {
     "data": {
      "text/plain": [
       "8"
      ]
     },
     "execution_count": 38,
     "metadata": {},
     "output_type": "execute_result"
    }
   ],
   "source": [
    "moja_funkcja(2)      #wywolanie funkcji dla argumentu 2"
   ]
  },
  {
   "cell_type": "code",
   "execution_count": 39,
   "metadata": {},
   "outputs": [
    {
     "data": {
      "text/plain": [
       "-27"
      ]
     },
     "execution_count": 39,
     "metadata": {},
     "output_type": "execute_result"
    }
   ],
   "source": [
    "moja_funkcja(-3)  "
   ]
  },
  {
   "cell_type": "code",
   "execution_count": 40,
   "metadata": {},
   "outputs": [],
   "source": [
    "#Funkcja biorąca jako argument sekwencje nukleotydową i zwracająca sekwencje komplementarną\n",
    "\n",
    "def COM_DNA(seq): \n",
    "    \n",
    "    \"\"\"\n",
    "    Ta funkcja zwraca \n",
    "    sekwencje komplementarna.\n",
    "    \"\"\"\n",
    "    \n",
    "    complementary_code = {\"A\":\"T\", \"T\":\"A\", \"G\":\"C\", \"C\":\"G\"} #kod komplementarnosci\n",
    "    com_seq = '' #tworze pusty string\n",
    "    \n",
    "    for elem in seq: #przechodze kolejne nukleotydy w sekwencji seq\n",
    "        com_seq += complementary_code[elem] #doklejam do com_seq nukleotydy komplementarne\n",
    "    return com_seq"
   ]
  },
  {
   "cell_type": "code",
   "execution_count": 41,
   "metadata": {},
   "outputs": [
    {
     "data": {
      "text/plain": [
       "'TACCCG'"
      ]
     },
     "execution_count": 41,
     "metadata": {},
     "output_type": "execute_result"
    }
   ],
   "source": [
    "COM_DNA(\"ATGGGC\")"
   ]
  },
  {
   "cell_type": "code",
   "execution_count": 42,
   "metadata": {},
   "outputs": [
    {
     "name": "stdout",
     "output_type": "stream",
     "text": [
      "Help on function COM_DNA in module __main__:\n",
      "\n",
      "COM_DNA(seq)\n",
      "    Ta funkcja zwraca \n",
      "    sekwencje komplementarna.\n",
      "\n"
     ]
    }
   ],
   "source": [
    "help(COM_DNA)"
   ]
  },
  {
   "cell_type": "markdown",
   "metadata": {},
   "source": [
    "<h4> Zadanie8: Zdefiniuj funkcję $czy\\_dodatnia$, która jako argument przyjmuje liczbę rzeczywistą i zwraca komunikat czy podana liczba jest dodatnia czy ujemna."
   ]
  },
  {
   "cell_type": "markdown",
   "metadata": {},
   "source": [
    "<h4> Zadanie9: Dane jest równanie liniowe $ax+b=0$. Zdefiniuj funkcję która przyjmuje dwa argumenty $a$ oraz $b$ i zwraca rozwiązanie tego równania. Uwaga: Rozwiązanie nie zawsze istnieje."
   ]
  },
  {
   "cell_type": "markdown",
   "metadata": {},
   "source": [
    "<h4> Zadanie10: Zdefiniuj funkcje $czy\\_pierwsza$, która jako argument bierze liczbę naturalną i zwraca informację o tym czy dana liczba jest pierwsza. Przykładowe wywołanie $czy\\_pierwsza(5)$ powinno zwrócić komunikat \"pierwsza\"."
   ]
  },
  {
   "cell_type": "markdown",
   "metadata": {},
   "source": [
    "<h2> Uzupełnienie: Obiekty iterowalne i typy sekwencyjne"
   ]
  },
  {
   "cell_type": "code",
   "execution_count": 43,
   "metadata": {},
   "outputs": [
    {
     "name": "stdout",
     "output_type": "stream",
     "text": [
      "5\n",
      "6\n",
      "7\n"
     ]
    }
   ],
   "source": [
    "for elem in [5,6,7]:\n",
    "    print(elem)"
   ]
  },
  {
   "cell_type": "code",
   "execution_count": 44,
   "metadata": {},
   "outputs": [
    {
     "name": "stdout",
     "output_type": "stream",
     "text": [
      "5\n",
      "6\n",
      "7\n"
     ]
    }
   ],
   "source": [
    "for elem in (5,6,7):\n",
    "    print(elem)"
   ]
  },
  {
   "cell_type": "code",
   "execution_count": 45,
   "metadata": {},
   "outputs": [
    {
     "name": "stdout",
     "output_type": "stream",
     "text": [
      "0\n",
      "1\n",
      "2\n"
     ]
    }
   ],
   "source": [
    "for elem in range(3):\n",
    "    print (elem)"
   ]
  },
  {
   "cell_type": "code",
   "execution_count": 46,
   "metadata": {},
   "outputs": [
    {
     "name": "stdout",
     "output_type": "stream",
     "text": [
      "5\n",
      "6\n",
      "7\n"
     ]
    }
   ],
   "source": [
    "for elem in {5,6,7}:\n",
    "    print(elem)"
   ]
  },
  {
   "cell_type": "code",
   "execution_count": 47,
   "metadata": {},
   "outputs": [
    {
     "name": "stdout",
     "output_type": "stream",
     "text": [
      "5\n",
      "6\n",
      "7\n"
     ]
    }
   ],
   "source": [
    "for elem in {5:1 ,6:2, 7:1}:\n",
    "    print(elem)"
   ]
  },
  {
   "cell_type": "code",
   "execution_count": 48,
   "metadata": {},
   "outputs": [
    {
     "name": "stdout",
     "output_type": "stream",
     "text": [
      "a\n",
      "b\n",
      "c\n"
     ]
    }
   ],
   "source": [
    "for elem in \"abc\":\n",
    "    print(elem)"
   ]
  },
  {
   "cell_type": "markdown",
   "metadata": {},
   "source": [
    "Napisy, listy, krotki i range są typami sekwencyjnymi."
   ]
  },
  {
   "cell_type": "code",
   "execution_count": 49,
   "metadata": {},
   "outputs": [
    {
     "data": {
      "text/plain": [
       "(1, 1, 2, 'a')"
      ]
     },
     "execution_count": 49,
     "metadata": {},
     "output_type": "execute_result"
    }
   ],
   "source": [
    "[1,2,3][0], (1,2,3)[0], range(2,5)[0], \"abcd\"[0]        "
   ]
  }
 ],
 "metadata": {
  "kernelspec": {
   "display_name": "Python 3 (ipykernel)",
   "language": "python",
   "name": "python3"
  },
  "language_info": {
   "codemirror_mode": {
    "name": "ipython",
    "version": 3
   },
   "file_extension": ".py",
   "mimetype": "text/x-python",
   "name": "python",
   "nbconvert_exporter": "python",
   "pygments_lexer": "ipython3",
   "version": "3.11.5"
  }
 },
 "nbformat": 4,
 "nbformat_minor": 2
}
